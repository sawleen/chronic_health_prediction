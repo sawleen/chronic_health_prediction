{
 "cells": [
  {
   "cell_type": "markdown",
   "id": "89645b23",
   "metadata": {},
   "source": [
    "# Consolidated Data Pipeline for Member Data - for testing data"
   ]
  },
  {
   "cell_type": "markdown",
   "id": "f599abd0",
   "metadata": {},
   "source": [
    "Prepare by Tan Bee Hoon\n",
    "\n",
    "16 Aug 2020"
   ]
  },
  {
   "cell_type": "markdown",
   "id": "283d0723",
   "metadata": {},
   "source": [
    "## Import Package"
   ]
  },
  {
   "cell_type": "code",
   "execution_count": 1,
   "id": "a0bc81fa",
   "metadata": {
    "ExecuteTime": {
     "end_time": "2022-08-31T09:07:03.453467Z",
     "start_time": "2022-08-31T09:07:02.359390Z"
    }
   },
   "outputs": [],
   "source": [
    "import random \n",
    "import pandas as pd\n",
    "from pandas import read_csv\n",
    "import matplotlib.pyplot as plt\n",
    "import seaborn as sns\n",
    "%matplotlib inline \n",
    "\n",
    "import numpy as np \n",
    "from numpy import unique\n",
    "from numpy import where\n",
    "\n",
    "import pickle\n",
    "from pandas import to_pickle\n",
    "from pandas import read_pickle\n",
    "\n",
    "from datetime import date\n",
    "\n",
    "import re\n",
    "import warnings\n",
    "warnings.filterwarnings('ignore')"
   ]
  },
  {
   "cell_type": "code",
   "execution_count": 2,
   "id": "56366e4a",
   "metadata": {
    "ExecuteTime": {
     "end_time": "2022-08-31T09:07:03.468473Z",
     "start_time": "2022-08-31T09:07:03.454464Z"
    }
   },
   "outputs": [],
   "source": [
    "pd.set_option('display.max_colwidth', None)"
   ]
  },
  {
   "cell_type": "markdown",
   "id": "07951933",
   "metadata": {},
   "source": [
    "## Set Global Variable"
   ]
  },
  {
   "cell_type": "markdown",
   "id": "6c427246",
   "metadata": {},
   "source": [
    "### Set input filenames"
   ]
  },
  {
   "cell_type": "code",
   "execution_count": 3,
   "id": "d01e74a7",
   "metadata": {
    "ExecuteTime": {
     "end_time": "2022-08-31T09:07:03.484384Z",
     "start_time": "2022-08-31T09:07:03.469425Z"
    }
   },
   "outputs": [],
   "source": [
    "FILE_DIAG = \"tbl_Booking_Diagnosis_test.csv\"\n",
    "FILE_PRESCRIPTION = \"tbl_Booking_Prescription_test.csv\"\n",
    "FILE_SYMPTOMS = \"tbl_Booking_Symptoms_test.csv\"\n",
    "FILE_BOOKING = \"tbl_Booking_test.csv\"\n",
    "FILE_PATIENT = \"tbl_Patients_test.csv\""
   ]
  },
  {
   "cell_type": "markdown",
   "id": "a236c742",
   "metadata": {},
   "source": [
    "###  Set for Testing or Training"
   ]
  },
  {
   "cell_type": "code",
   "execution_count": 4,
   "id": "4b6b7e4e",
   "metadata": {
    "ExecuteTime": {
     "end_time": "2022-08-31T09:07:03.499345Z",
     "start_time": "2022-08-31T09:07:03.485382Z"
    }
   },
   "outputs": [],
   "source": [
    "# If its for test data (TESTING=1), to apply for model training, set min value as 0\n",
    "# This is because for Testing hold out dataset purpose, will have to include previously bookings for existing members\n",
    "TESTING = 1"
   ]
  },
  {
   "cell_type": "markdown",
   "id": "4f69937a",
   "metadata": {},
   "source": [
    "### Set for Member or Booking Modeling"
   ]
  },
  {
   "cell_type": "code",
   "execution_count": 5,
   "id": "cb87a357",
   "metadata": {
    "ExecuteTime": {
     "end_time": "2022-08-31T09:07:03.515340Z",
     "start_time": "2022-08-31T09:07:03.500341Z"
    }
   },
   "outputs": [],
   "source": [
    "# For member model = 1, else for booking model = 0 \n",
    "MODEL_TYPE_MEMBER = 1"
   ]
  },
  {
   "cell_type": "markdown",
   "id": "c67c5d3a",
   "metadata": {},
   "source": [
    "### Set previous booking related source file (for Testing)"
   ]
  },
  {
   "cell_type": "code",
   "execution_count": 6,
   "id": "c8908546",
   "metadata": {
    "ExecuteTime": {
     "end_time": "2022-08-31T09:07:03.530261Z",
     "start_time": "2022-08-31T09:07:03.516298Z"
    }
   },
   "outputs": [],
   "source": [
    "if TESTING == 1 and MODEL_TYPE_MEMBER == 1:\n",
    "    FILE_DIAG_OLD = \"tbl_Booking_Diagnosis.csv\"\n",
    "    FILE_PRESCRIPTION_OLD = \"tbl_Booking_Prescription.csv\"\n",
    "    FILE_SYMPTOMS_OLD= \"tbl_Booking_Symptoms.csv\"\n",
    "    FILE_BOOKING_OLD = \"tbl_Booking.csv\""
   ]
  },
  {
   "cell_type": "markdown",
   "id": "e859eadc",
   "metadata": {
    "ExecuteTime": {
     "end_time": "2022-08-16T06:41:54.744763Z",
     "start_time": "2022-08-16T06:41:54.740730Z"
    }
   },
   "source": [
    "### Set minium count for feature considerations"
   ]
  },
  {
   "cell_type": "code",
   "execution_count": 7,
   "id": "420e9325",
   "metadata": {
    "ExecuteTime": {
     "end_time": "2022-08-31T09:07:03.545221Z",
     "start_time": "2022-08-31T09:07:03.531262Z"
    }
   },
   "outputs": [],
   "source": [
    "if TESTING == 0: \n",
    "    MIN_VAL_SYM = 5\n",
    "    MIN_VAL_DIAG = 10\n",
    "elif TESTING == 1:\n",
    "    MIN_VAL_SYM = 0\n",
    "    MIN_VAL_DIAG = 0\n",
    "else:\n",
    "    print(\"Decide whether this data prep is for training or testing.\")"
   ]
  },
  {
   "cell_type": "markdown",
   "id": "04ab0e17",
   "metadata": {},
   "source": [
    "## Helper Function"
   ]
  },
  {
   "cell_type": "code",
   "execution_count": 8,
   "id": "6e0d33c5",
   "metadata": {
    "ExecuteTime": {
     "end_time": "2022-08-31T09:07:03.561183Z",
     "start_time": "2022-08-31T09:07:03.546219Z"
    }
   },
   "outputs": [],
   "source": [
    "def count_unique(df):\n",
    "    # List of categorical columns\n",
    "    #cat_cols = df.select_dtypes('object').columns\n",
    "    uniq_cols = df.columns\n",
    "    \n",
    "    list_count = []\n",
    "    list_name = []\n",
    "    \n",
    "    for col in uniq_cols:\n",
    "        # Formatting\n",
    "        list_name.append(col)\n",
    "        uniqueValues = df[col].nunique()\n",
    "        list_count.append(uniqueValues)\n",
    "        #print(str(col) + \" has \" + str(uniqueValues) + \" values \")\n",
    "        \n",
    "    df_count = pd.DataFrame({\"name\" : list_name, \"uniquecount\" : list_count})\n",
    "        \n",
    "    return df_count"
   ]
  },
  {
   "cell_type": "markdown",
   "id": "246cdace",
   "metadata": {},
   "source": [
    "## Step1 - Intro Prep & Clean"
   ]
  },
  {
   "cell_type": "markdown",
   "id": "3fced698",
   "metadata": {
    "ExecuteTime": {
     "end_time": "2022-08-15T07:07:51.014230Z",
     "start_time": "2022-08-15T07:07:51.002262Z"
    }
   },
   "source": [
    "* Extract list of patient\n",
    "* Extract list of booking \n",
    "* Concatenate, Prep & Clean Booking Diagnosis\n",
    "* Concatenate, Prep & Clean Booking Prescription\n",
    "* Concatenate, Prep & Clean Booking Symptoms"
   ]
  },
  {
   "cell_type": "markdown",
   "id": "de721a53",
   "metadata": {},
   "source": [
    "### Extract list of patient"
   ]
  },
  {
   "cell_type": "code",
   "execution_count": 9,
   "id": "02d2c8f4",
   "metadata": {
    "ExecuteTime": {
     "end_time": "2022-08-31T09:07:03.623047Z",
     "start_time": "2022-08-31T09:07:03.562174Z"
    }
   },
   "outputs": [
    {
     "name": "stdout",
     "output_type": "stream",
     "text": [
      "List of patient:  6774\n"
     ]
    }
   ],
   "source": [
    "# Import Source Paitent Data\n",
    "df_patient = pd.read_csv(FILE_PATIENT)\n",
    "patient_list = df_patient[\"mem_id\"].tolist()\n",
    "print(\"List of patient: \", len(patient_list))"
   ]
  },
  {
   "cell_type": "markdown",
   "id": "5c50b977",
   "metadata": {
    "ExecuteTime": {
     "end_time": "2022-08-21T08:52:43.089034Z",
     "start_time": "2022-08-21T08:52:43.080058Z"
    }
   },
   "source": [
    "### Extract list of booking"
   ]
  },
  {
   "cell_type": "code",
   "execution_count": 10,
   "id": "79ef3d89",
   "metadata": {
    "ExecuteTime": {
     "end_time": "2022-08-31T09:07:03.669887Z",
     "start_time": "2022-08-31T09:07:03.625007Z"
    }
   },
   "outputs": [
    {
     "name": "stdout",
     "output_type": "stream",
     "text": [
      "BEFORE:  \n",
      "\n",
      "<class 'pandas.core.frame.DataFrame'>\n",
      "RangeIndex: 7725 entries, 0 to 7724\n",
      "Data columns (total 8 columns):\n",
      " #   Column                     Non-Null Count  Dtype \n",
      "---  ------                     --------------  ----- \n",
      " 0   booking_id                 7725 non-null   object\n",
      " 1   mem_id                     7725 non-null   object\n",
      " 2   doctor_id                  7725 non-null   object\n",
      " 3   consult_waived_reason      7725 non-null   object\n",
      " 4   is_mc_issued               7725 non-null   bool  \n",
      " 5   mc_days                    7725 non-null   int64 \n",
      " 6   is_referral_letter_issued  7725 non-null   bool  \n",
      " 7   booking_timestamp          7725 non-null   object\n",
      "dtypes: bool(2), int64(1), object(5)\n",
      "memory usage: 377.3+ KB\n",
      "None \n",
      "\n",
      "AFTER:  \n",
      "\n",
      "<class 'pandas.core.frame.DataFrame'>\n",
      "Int64Index: 7725 entries, 0 to 7724\n",
      "Data columns (total 8 columns):\n",
      " #   Column                     Non-Null Count  Dtype \n",
      "---  ------                     --------------  ----- \n",
      " 0   booking_id                 7725 non-null   object\n",
      " 1   mem_id                     7725 non-null   object\n",
      " 2   doctor_id                  7725 non-null   object\n",
      " 3   consult_waived_reason      7725 non-null   object\n",
      " 4   is_mc_issued               7725 non-null   bool  \n",
      " 5   mc_days                    7725 non-null   int64 \n",
      " 6   is_referral_letter_issued  7725 non-null   bool  \n",
      " 7   booking_timestamp          7725 non-null   object\n",
      "dtypes: bool(2), int64(1), object(5)\n",
      "memory usage: 437.5+ KB\n",
      "None \n",
      "\n",
      "Number of booking:  7725\n"
     ]
    }
   ],
   "source": [
    "# For new booking list\n",
    "df_booking = pd.read_csv(FILE_BOOKING)\n",
    "print(\"BEFORE: \", \"\\n\")\n",
    "print(df_booking.info(), \"\\n\")\n",
    "df_booking = df_booking[df_booking['mem_id'].isin(patient_list)]\n",
    "print(\"AFTER: \", \"\\n\")\n",
    "print(df_booking.info(), \"\\n\")\n",
    "booking_list = df_booking['booking_id'].tolist()\n",
    "print(\"Number of booking: \", len(booking_list))"
   ]
  },
  {
   "cell_type": "code",
   "execution_count": 11,
   "id": "9e35422b",
   "metadata": {
    "ExecuteTime": {
     "end_time": "2022-08-31T09:07:03.715766Z",
     "start_time": "2022-08-31T09:07:03.670887Z"
    }
   },
   "outputs": [
    {
     "name": "stdout",
     "output_type": "stream",
     "text": [
      "tbl_Booking.csv\n",
      "BEFORE:  \n",
      "\n",
      "<class 'pandas.core.frame.DataFrame'>\n",
      "RangeIndex: 10221 entries, 0 to 10220\n",
      "Data columns (total 8 columns):\n",
      " #   Column                     Non-Null Count  Dtype \n",
      "---  ------                     --------------  ----- \n",
      " 0   booking_id                 10221 non-null  object\n",
      " 1   mem_id                     10221 non-null  object\n",
      " 2   doctor_id                  10221 non-null  object\n",
      " 3   consult_waived_reason      10221 non-null  object\n",
      " 4   is_mc_issued               10221 non-null  bool  \n",
      " 5   mc_days                    10221 non-null  int64 \n",
      " 6   is_referral_letter_issued  10221 non-null  bool  \n",
      " 7   booking_timestamp          10221 non-null  object\n",
      "dtypes: bool(2), int64(1), object(5)\n",
      "memory usage: 499.2+ KB\n",
      "None \n",
      "\n",
      "AFTER:  \n",
      "\n",
      "<class 'pandas.core.frame.DataFrame'>\n",
      "Int64Index: 2233 entries, 1 to 10219\n",
      "Data columns (total 8 columns):\n",
      " #   Column                     Non-Null Count  Dtype \n",
      "---  ------                     --------------  ----- \n",
      " 0   booking_id                 2233 non-null   object\n",
      " 1   mem_id                     2233 non-null   object\n",
      " 2   doctor_id                  2233 non-null   object\n",
      " 3   consult_waived_reason      2233 non-null   object\n",
      " 4   is_mc_issued               2233 non-null   bool  \n",
      " 5   mc_days                    2233 non-null   int64 \n",
      " 6   is_referral_letter_issued  2233 non-null   bool  \n",
      " 7   booking_timestamp          2233 non-null   object\n",
      "dtypes: bool(2), int64(1), object(5)\n",
      "memory usage: 126.5+ KB\n",
      "None \n",
      "\n",
      "Number of booking from previous:  2233\n",
      "Number of member with previous booking:  714\n"
     ]
    }
   ],
   "source": [
    "# For old booking list (only required for member holdout dataset testing)\n",
    "if TESTING == 1 and MODEL_TYPE_MEMBER == 1:\n",
    "    df_booking_old = pd.read_csv(FILE_BOOKING_OLD)\n",
    "    print(FILE_BOOKING_OLD)\n",
    "    print(\"BEFORE: \",\"\\n\")\n",
    "    print(df_booking_old.info(), \"\\n\")\n",
    "    df_booking_old = df_booking_old[df_booking_old['mem_id'].isin(patient_list)]\n",
    "    print(\"AFTER: \", \"\\n\")\n",
    "    print(df_booking_old.info(), \"\\n\")\n",
    "    booking_old_list = df_booking_old[\"booking_id\"].tolist()\n",
    "    print(\"Number of booking from previous: \", len(booking_old_list))\n",
    "    print(\"Number of member with previous booking: \",  len(df_booking_old['mem_id'].unique()))"
   ]
  },
  {
   "cell_type": "markdown",
   "id": "b81480d8",
   "metadata": {
    "ExecuteTime": {
     "end_time": "2022-08-21T10:02:27.041189Z",
     "start_time": "2022-08-21T10:02:27.028224Z"
    }
   },
   "source": [
    "### Check overlapping booking ID between previous and new"
   ]
  },
  {
   "cell_type": "code",
   "execution_count": 12,
   "id": "08c2403f",
   "metadata": {
    "ExecuteTime": {
     "end_time": "2022-08-31T09:07:03.731723Z",
     "start_time": "2022-08-31T09:07:03.716763Z"
    }
   },
   "outputs": [
    {
     "name": "stdout",
     "output_type": "stream",
     "text": [
      "Intersection of the lists is: []\n"
     ]
    }
   ],
   "source": [
    "if TESTING == 1 and MODEL_TYPE_MEMBER ==1 :\n",
    "    set1 = set(booking_list)\n",
    "    set2 = set(booking_old_list)\n",
    "    newList = list(set1.intersection(set2))\n",
    "    print(\"Intersection of the lists is:\", newList)"
   ]
  },
  {
   "cell_type": "markdown",
   "id": "36a35cbb",
   "metadata": {},
   "source": [
    "if there is no intersection, it means the new dataset did not contain previous booking."
   ]
  },
  {
   "cell_type": "markdown",
   "id": "a15fdb64",
   "metadata": {},
   "source": [
    "### Concatenate new and old booking list - for Testing"
   ]
  },
  {
   "cell_type": "code",
   "execution_count": 13,
   "id": "bce7b235",
   "metadata": {
    "ExecuteTime": {
     "end_time": "2022-08-31T09:07:03.746683Z",
     "start_time": "2022-08-31T09:07:03.732720Z"
    }
   },
   "outputs": [],
   "source": [
    "## Concatenate Booking ID\n",
    "if TESTING == 1 and MODEL_TYPE_MEMBER == 1:\n",
    "    booking_list = booking_list + booking_old_list"
   ]
  },
  {
   "cell_type": "markdown",
   "id": "aa2cae28",
   "metadata": {},
   "source": [
    "### Save Booking List "
   ]
  },
  {
   "cell_type": "code",
   "execution_count": 14,
   "id": "81f0cb33",
   "metadata": {
    "ExecuteTime": {
     "end_time": "2022-08-31T09:07:03.762641Z",
     "start_time": "2022-08-31T09:07:03.747680Z"
    }
   },
   "outputs": [],
   "source": [
    "# Export data \n",
    "open_file = open(\"step1_booking_list.pkl\", \"wb\")\n",
    "pickle.dump(booking_list, open_file)\n",
    "open_file.close()"
   ]
  },
  {
   "cell_type": "markdown",
   "id": "a4a2dd0c",
   "metadata": {},
   "source": [
    "## Step1a - Prep & Clean Booking Diagnosis"
   ]
  },
  {
   "cell_type": "markdown",
   "id": "d5e51d27",
   "metadata": {},
   "source": [
    "### Import booking diagnosis data"
   ]
  },
  {
   "cell_type": "code",
   "execution_count": 15,
   "id": "cc2a6ecb",
   "metadata": {
    "ExecuteTime": {
     "end_time": "2022-08-31T09:07:03.793604Z",
     "start_time": "2022-08-31T09:07:03.763638Z"
    }
   },
   "outputs": [
    {
     "name": "stdout",
     "output_type": "stream",
     "text": [
      "Input:  tbl_Booking_Diagnosis_test.csv \n",
      "\n",
      "<class 'pandas.core.frame.DataFrame'>\n",
      "Int64Index: 9200 entries, 0 to 9199\n",
      "Data columns (total 4 columns):\n",
      " #   Column            Non-Null Count  Dtype \n",
      "---  ------            --------------  ----- \n",
      " 0   booking_id        9200 non-null   object\n",
      " 1   MDDiagnosis_code  9200 non-null   object\n",
      " 2   MDDiagnosis_name  9200 non-null   object\n",
      " 3   chronic_group     9200 non-null   object\n",
      "dtypes: object(4)\n",
      "memory usage: 359.4+ KB\n",
      "None \n",
      "\n",
      "Shape of data:  (9200, 4)\n"
     ]
    }
   ],
   "source": [
    "# import new booking diagnosis\n",
    "print(\"Input: \", FILE_DIAG, \"\\n\") \n",
    "df_booking_diagnosis = pd.read_csv(FILE_DIAG)\n",
    "df_booking_diagnosis = df_booking_diagnosis[df_booking_diagnosis['booking_id'].isin(booking_list)]\n",
    "print(df_booking_diagnosis.info(), \"\\n\") \n",
    "print(\"Shape of data: \", df_booking_diagnosis.shape)"
   ]
  },
  {
   "cell_type": "code",
   "execution_count": 16,
   "id": "11973706",
   "metadata": {
    "ExecuteTime": {
     "end_time": "2022-08-31T09:07:03.886309Z",
     "start_time": "2022-08-31T09:07:03.794555Z"
    }
   },
   "outputs": [
    {
     "name": "stdout",
     "output_type": "stream",
     "text": [
      "Input:  tbl_Booking_Diagnosis.csv \n",
      "\n",
      "<class 'pandas.core.frame.DataFrame'>\n",
      "Int64Index: 2874 entries, 1 to 65738\n",
      "Data columns (total 4 columns):\n",
      " #   Column            Non-Null Count  Dtype \n",
      "---  ------            --------------  ----- \n",
      " 0   booking_id        2874 non-null   object\n",
      " 1   MDDiagnosis_code  2874 non-null   object\n",
      " 2   MDDiagnosis_name  2874 non-null   object\n",
      " 3   chronic_group     2874 non-null   object\n",
      "dtypes: object(4)\n",
      "memory usage: 112.3+ KB\n",
      "None \n",
      "\n",
      "Shape of data:  (2874, 4)\n"
     ]
    }
   ],
   "source": [
    "# import old booking diagnosis\n",
    "if TESTING==1 and MODEL_TYPE_MEMBER ==1:\n",
    "    print(\"Input: \", FILE_DIAG_OLD, \"\\n\") \n",
    "    df_booking_diagnosis_old = pd.read_csv(FILE_DIAG_OLD)\n",
    "    df_booking_diagnosis_old = df_booking_diagnosis_old[df_booking_diagnosis_old['booking_id'].isin(booking_list)]\n",
    "    print(df_booking_diagnosis_old.info(), \"\\n\")\n",
    "    print(\"Shape of data: \", df_booking_diagnosis_old.shape)\n"
   ]
  },
  {
   "cell_type": "code",
   "execution_count": 17,
   "id": "f5c5ee47",
   "metadata": {
    "ExecuteTime": {
     "end_time": "2022-08-31T09:07:03.902266Z",
     "start_time": "2022-08-31T09:07:03.887307Z"
    }
   },
   "outputs": [
    {
     "name": "stdout",
     "output_type": "stream",
     "text": [
      "COMBINED: \n",
      "<class 'pandas.core.frame.DataFrame'>\n",
      "Int64Index: 12074 entries, 0 to 65738\n",
      "Data columns (total 4 columns):\n",
      " #   Column            Non-Null Count  Dtype \n",
      "---  ------            --------------  ----- \n",
      " 0   booking_id        12074 non-null  object\n",
      " 1   MDDiagnosis_code  12074 non-null  object\n",
      " 2   MDDiagnosis_name  12074 non-null  object\n",
      " 3   chronic_group     12074 non-null  object\n",
      "dtypes: object(4)\n",
      "memory usage: 471.6+ KB\n",
      "None \n",
      "\n",
      "Shape of data:  (12074, 4)\n"
     ]
    }
   ],
   "source": [
    "if TESTING ==1 and MODEL_TYPE_MEMBER ==1 :\n",
    "    df_booking_diagnosis = pd.concat([df_booking_diagnosis, df_booking_diagnosis_old], axis=0)\n",
    "    print(\"COMBINED: \")\n",
    "    print(df_booking_diagnosis.info(), \"\\n\")\n",
    "    print(\"Shape of data: \", df_booking_diagnosis.shape)"
   ]
  },
  {
   "cell_type": "markdown",
   "id": "31a0b320",
   "metadata": {},
   "source": [
    "### Summary Statistics"
   ]
  },
  {
   "cell_type": "code",
   "execution_count": 18,
   "id": "b3c8de20",
   "metadata": {
    "ExecuteTime": {
     "end_time": "2022-08-31T09:07:03.932220Z",
     "start_time": "2022-08-31T09:07:03.903265Z"
    }
   },
   "outputs": [
    {
     "name": "stdout",
     "output_type": "stream",
     "text": [
      "Basic Data Summary\n"
     ]
    },
    {
     "data": {
      "text/html": [
       "<div>\n",
       "<style scoped>\n",
       "    .dataframe tbody tr th:only-of-type {\n",
       "        vertical-align: middle;\n",
       "    }\n",
       "\n",
       "    .dataframe tbody tr th {\n",
       "        vertical-align: top;\n",
       "    }\n",
       "\n",
       "    .dataframe thead th {\n",
       "        text-align: right;\n",
       "    }\n",
       "</style>\n",
       "<table border=\"1\" class=\"dataframe\">\n",
       "  <thead>\n",
       "    <tr style=\"text-align: right;\">\n",
       "      <th></th>\n",
       "      <th>count</th>\n",
       "      <th>unique</th>\n",
       "      <th>top</th>\n",
       "      <th>freq</th>\n",
       "    </tr>\n",
       "  </thead>\n",
       "  <tbody>\n",
       "    <tr>\n",
       "      <th>booking_id</th>\n",
       "      <td>12074</td>\n",
       "      <td>9958</td>\n",
       "      <td>89206016-CAA8-4E18-BD64-0EFAF312DAB9</td>\n",
       "      <td>6</td>\n",
       "    </tr>\n",
       "    <tr>\n",
       "      <th>MDDiagnosis_code</th>\n",
       "      <td>12074</td>\n",
       "      <td>577</td>\n",
       "      <td>J06.9</td>\n",
       "      <td>1111</td>\n",
       "    </tr>\n",
       "    <tr>\n",
       "      <th>MDDiagnosis_name</th>\n",
       "      <td>12074</td>\n",
       "      <td>578</td>\n",
       "      <td>Acute upper respiratory infection, unspecified</td>\n",
       "      <td>1111</td>\n",
       "    </tr>\n",
       "    <tr>\n",
       "      <th>chronic_group</th>\n",
       "      <td>12074</td>\n",
       "      <td>11</td>\n",
       "      <td>-</td>\n",
       "      <td>10831</td>\n",
       "    </tr>\n",
       "  </tbody>\n",
       "</table>\n",
       "</div>"
      ],
      "text/plain": [
       "                  count unique  \\\n",
       "booking_id        12074   9958   \n",
       "MDDiagnosis_code  12074    577   \n",
       "MDDiagnosis_name  12074    578   \n",
       "chronic_group     12074     11   \n",
       "\n",
       "                                                             top   freq  \n",
       "booking_id                  89206016-CAA8-4E18-BD64-0EFAF312DAB9      6  \n",
       "MDDiagnosis_code                                           J06.9   1111  \n",
       "MDDiagnosis_name  Acute upper respiratory infection, unspecified   1111  \n",
       "chronic_group                                                  -  10831  "
      ]
     },
     "execution_count": 18,
     "metadata": {},
     "output_type": "execute_result"
    }
   ],
   "source": [
    "print(\"Basic Data Summary\")\n",
    "df_booking_diagnosis.describe().transpose()"
   ]
  },
  {
   "cell_type": "code",
   "execution_count": 19,
   "id": "8f9f7f2a",
   "metadata": {
    "ExecuteTime": {
     "end_time": "2022-08-31T09:07:03.947147Z",
     "start_time": "2022-08-31T09:07:03.933183Z"
    },
    "scrolled": true
   },
   "outputs": [
    {
     "name": "stdout",
     "output_type": "stream",
     "text": [
      "Unique value count for each column\n"
     ]
    },
    {
     "data": {
      "text/html": [
       "<div>\n",
       "<style scoped>\n",
       "    .dataframe tbody tr th:only-of-type {\n",
       "        vertical-align: middle;\n",
       "    }\n",
       "\n",
       "    .dataframe tbody tr th {\n",
       "        vertical-align: top;\n",
       "    }\n",
       "\n",
       "    .dataframe thead th {\n",
       "        text-align: right;\n",
       "    }\n",
       "</style>\n",
       "<table border=\"1\" class=\"dataframe\">\n",
       "  <thead>\n",
       "    <tr style=\"text-align: right;\">\n",
       "      <th></th>\n",
       "      <th>name</th>\n",
       "      <th>uniquecount</th>\n",
       "    </tr>\n",
       "  </thead>\n",
       "  <tbody>\n",
       "    <tr>\n",
       "      <th>0</th>\n",
       "      <td>booking_id</td>\n",
       "      <td>9958</td>\n",
       "    </tr>\n",
       "    <tr>\n",
       "      <th>1</th>\n",
       "      <td>MDDiagnosis_code</td>\n",
       "      <td>577</td>\n",
       "    </tr>\n",
       "    <tr>\n",
       "      <th>2</th>\n",
       "      <td>MDDiagnosis_name</td>\n",
       "      <td>578</td>\n",
       "    </tr>\n",
       "    <tr>\n",
       "      <th>3</th>\n",
       "      <td>chronic_group</td>\n",
       "      <td>11</td>\n",
       "    </tr>\n",
       "  </tbody>\n",
       "</table>\n",
       "</div>"
      ],
      "text/plain": [
       "               name  uniquecount\n",
       "0        booking_id         9958\n",
       "1  MDDiagnosis_code          577\n",
       "2  MDDiagnosis_name          578\n",
       "3     chronic_group           11"
      ]
     },
     "execution_count": 19,
     "metadata": {},
     "output_type": "execute_result"
    }
   ],
   "source": [
    "print(\"Unique value count for each column\")\n",
    "count_unique(df_booking_diagnosis)"
   ]
  },
  {
   "cell_type": "markdown",
   "id": "d66a038b",
   "metadata": {},
   "source": [
    "### Missing Value Checks"
   ]
  },
  {
   "cell_type": "code",
   "execution_count": 20,
   "id": "3f21e928",
   "metadata": {
    "ExecuteTime": {
     "end_time": "2022-08-31T09:07:03.962106Z",
     "start_time": "2022-08-31T09:07:03.948144Z"
    }
   },
   "outputs": [
    {
     "name": "stdout",
     "output_type": "stream",
     "text": [
      "number of null: \n"
     ]
    },
    {
     "data": {
      "text/plain": [
       "booking_id          0\n",
       "MDDiagnosis_code    0\n",
       "MDDiagnosis_name    0\n",
       "chronic_group       0\n",
       "dtype: int64"
      ]
     },
     "execution_count": 20,
     "metadata": {},
     "output_type": "execute_result"
    }
   ],
   "source": [
    "print(\"number of null: \")\n",
    "df_booking_diagnosis.isnull().sum()"
   ]
  },
  {
   "cell_type": "markdown",
   "id": "c86c3c5b",
   "metadata": {},
   "source": [
    "<span class=\"mark\">IMPORTANT: \n",
    "If there is missing value, pls handle and correct accordingly.</span>"
   ]
  },
  {
   "cell_type": "markdown",
   "id": "d7ab6686",
   "metadata": {},
   "source": [
    "### Basic Cleaning"
   ]
  },
  {
   "cell_type": "markdown",
   "id": "84ca51a4",
   "metadata": {},
   "source": [
    "#### Change text to all lower case"
   ]
  },
  {
   "cell_type": "code",
   "execution_count": 21,
   "id": "e26d2dde",
   "metadata": {
    "ExecuteTime": {
     "end_time": "2022-08-31T09:07:03.978065Z",
     "start_time": "2022-08-31T09:07:03.963104Z"
    }
   },
   "outputs": [],
   "source": [
    "df_booking_diagnosis['MDDiagnosis_name'] = df_booking_diagnosis['MDDiagnosis_name'].str.lower()"
   ]
  },
  {
   "cell_type": "markdown",
   "id": "f72b27c7",
   "metadata": {},
   "source": [
    "#### Remove comma, replace with semi-colon "
   ]
  },
  {
   "cell_type": "code",
   "execution_count": 22,
   "id": "2822c5fe",
   "metadata": {
    "ExecuteTime": {
     "end_time": "2022-08-31T09:07:03.994022Z",
     "start_time": "2022-08-31T09:07:03.979063Z"
    }
   },
   "outputs": [],
   "source": [
    "df_booking_diagnosis.MDDiagnosis_name = df_booking_diagnosis.MDDiagnosis_name.str.replace(',', ';')"
   ]
  },
  {
   "cell_type": "markdown",
   "id": "06f7e427",
   "metadata": {
    "ExecuteTime": {
     "end_time": "2022-08-15T04:34:45.328908Z",
     "start_time": "2022-08-15T04:34:45.320883Z"
    }
   },
   "source": [
    "#### Check and remove duplicates"
   ]
  },
  {
   "cell_type": "code",
   "execution_count": 23,
   "id": "c7b21ec8",
   "metadata": {
    "ExecuteTime": {
     "end_time": "2022-08-31T09:07:04.008981Z",
     "start_time": "2022-08-31T09:07:03.995020Z"
    }
   },
   "outputs": [
    {
     "name": "stdout",
     "output_type": "stream",
     "text": [
      "number of duplicate to drop:  1\n"
     ]
    }
   ],
   "source": [
    "print(\"number of duplicate to drop: \", df_booking_diagnosis.duplicated().sum())"
   ]
  },
  {
   "cell_type": "code",
   "execution_count": 24,
   "id": "6405d9b2",
   "metadata": {
    "ExecuteTime": {
     "end_time": "2022-08-31T09:07:04.039900Z",
     "start_time": "2022-08-31T09:07:04.009979Z"
    }
   },
   "outputs": [],
   "source": [
    "# to drop duplicates \n",
    "if df_booking_diagnosis.duplicated().sum() > 0:\n",
    "    df_booking_diagnosis = df_booking_diagnosis.drop_duplicates()"
   ]
  },
  {
   "cell_type": "markdown",
   "id": "a082c110",
   "metadata": {},
   "source": [
    "### Update Data Types"
   ]
  },
  {
   "cell_type": "markdown",
   "id": "74e35bfb",
   "metadata": {},
   "source": [
    "#### Change data types for categorical data"
   ]
  },
  {
   "cell_type": "code",
   "execution_count": 25,
   "id": "4f5a52cc",
   "metadata": {
    "ExecuteTime": {
     "end_time": "2022-08-31T09:07:04.054860Z",
     "start_time": "2022-08-31T09:07:04.041893Z"
    }
   },
   "outputs": [],
   "source": [
    "df_booking_diagnosis['MDDiagnosis_code'] = df_booking_diagnosis['MDDiagnosis_code'].astype(\"category\")"
   ]
  },
  {
   "cell_type": "code",
   "execution_count": 26,
   "id": "dc747587",
   "metadata": {
    "ExecuteTime": {
     "end_time": "2022-08-31T09:07:04.069821Z",
     "start_time": "2022-08-31T09:07:04.056852Z"
    }
   },
   "outputs": [],
   "source": [
    "df_booking_diagnosis['MDDiagnosis_name'] = df_booking_diagnosis['MDDiagnosis_name'].astype(\"category\")"
   ]
  },
  {
   "cell_type": "code",
   "execution_count": 27,
   "id": "856520ee",
   "metadata": {
    "ExecuteTime": {
     "end_time": "2022-08-31T09:07:04.085776Z",
     "start_time": "2022-08-31T09:07:04.071817Z"
    }
   },
   "outputs": [],
   "source": [
    "df_booking_diagnosis['chronic_group'] = df_booking_diagnosis['chronic_group'].astype(\"category\")"
   ]
  },
  {
   "cell_type": "code",
   "execution_count": 28,
   "id": "04a9b572",
   "metadata": {
    "ExecuteTime": {
     "end_time": "2022-08-31T09:07:04.115698Z",
     "start_time": "2022-08-31T09:07:04.094752Z"
    },
    "scrolled": false
   },
   "outputs": [
    {
     "name": "stdout",
     "output_type": "stream",
     "text": [
      "<class 'pandas.core.frame.DataFrame'>\n",
      "Int64Index: 12073 entries, 0 to 65738\n",
      "Data columns (total 4 columns):\n",
      " #   Column            Non-Null Count  Dtype   \n",
      "---  ------            --------------  -----   \n",
      " 0   booking_id        12073 non-null  object  \n",
      " 1   MDDiagnosis_code  12073 non-null  category\n",
      " 2   MDDiagnosis_name  12073 non-null  category\n",
      " 3   chronic_group     12073 non-null  category\n",
      "dtypes: category(3), object(1)\n",
      "memory usage: 289.3+ KB\n"
     ]
    }
   ],
   "source": [
    "df_booking_diagnosis.info()"
   ]
  },
  {
   "cell_type": "markdown",
   "id": "00a13057",
   "metadata": {},
   "source": [
    "### Check OntoOne Mapping"
   ]
  },
  {
   "cell_type": "code",
   "execution_count": 29,
   "id": "9cbfac0c",
   "metadata": {
    "ExecuteTime": {
     "end_time": "2022-08-31T09:07:04.484462Z",
     "start_time": "2022-08-31T09:07:04.116695Z"
    }
   },
   "outputs": [],
   "source": [
    "g = df_booking_diagnosis[['MDDiagnosis_code', 'MDDiagnosis_name']].groupby('MDDiagnosis_name')\n",
    "counts = g.transform(lambda x: len(x.unique()))\n",
    "df_booking_diagnosis[\"count_map\"] = counts"
   ]
  },
  {
   "cell_type": "code",
   "execution_count": 30,
   "id": "7c864aa2",
   "metadata": {
    "ExecuteTime": {
     "end_time": "2022-08-31T09:07:04.499410Z",
     "start_time": "2022-08-31T09:07:04.486445Z"
    }
   },
   "outputs": [
    {
     "name": "stdout",
     "output_type": "stream",
     "text": [
      "These are the records with more than one mapping for name vs code, please verify:\n"
     ]
    }
   ],
   "source": [
    "print(\"These are the records with more than one mapping for name vs code, please verify:\")"
   ]
  },
  {
   "cell_type": "code",
   "execution_count": 31,
   "id": "c4add646",
   "metadata": {
    "ExecuteTime": {
     "end_time": "2022-08-31T09:07:04.514659Z",
     "start_time": "2022-08-31T09:07:04.501402Z"
    },
    "scrolled": false
   },
   "outputs": [
    {
     "data": {
      "text/html": [
       "<div>\n",
       "<style scoped>\n",
       "    .dataframe tbody tr th:only-of-type {\n",
       "        vertical-align: middle;\n",
       "    }\n",
       "\n",
       "    .dataframe tbody tr th {\n",
       "        vertical-align: top;\n",
       "    }\n",
       "\n",
       "    .dataframe thead th {\n",
       "        text-align: right;\n",
       "    }\n",
       "</style>\n",
       "<table border=\"1\" class=\"dataframe\">\n",
       "  <thead>\n",
       "    <tr style=\"text-align: right;\">\n",
       "      <th></th>\n",
       "      <th>booking_id</th>\n",
       "      <th>MDDiagnosis_code</th>\n",
       "      <th>MDDiagnosis_name</th>\n",
       "      <th>chronic_group</th>\n",
       "      <th>count_map</th>\n",
       "    </tr>\n",
       "  </thead>\n",
       "  <tbody>\n",
       "  </tbody>\n",
       "</table>\n",
       "</div>"
      ],
      "text/plain": [
       "Empty DataFrame\n",
       "Columns: [booking_id, MDDiagnosis_code, MDDiagnosis_name, chronic_group, count_map]\n",
       "Index: []"
      ]
     },
     "execution_count": 31,
     "metadata": {},
     "output_type": "execute_result"
    }
   ],
   "source": [
    "pd.set_option('display.max_colwidth', None)\n",
    "df_booking_diagnosis.loc[df_booking_diagnosis[\"count_map\"]>1,:]"
   ]
  },
  {
   "cell_type": "markdown",
   "id": "577e7608",
   "metadata": {},
   "source": [
    "<span class=\"mark\">IMPORTANT: \n",
    "Please verify data if above shows that there is duplicate mapping.</span> "
   ]
  },
  {
   "cell_type": "markdown",
   "id": "67d59113",
   "metadata": {
    "ExecuteTime": {
     "end_time": "2022-08-15T04:43:24.310865Z",
     "start_time": "2022-08-15T04:43:24.298830Z"
    }
   },
   "source": [
    "#### Remove Redundant Mapping"
   ]
  },
  {
   "cell_type": "code",
   "execution_count": 32,
   "id": "5e8024f2",
   "metadata": {
    "ExecuteTime": {
     "end_time": "2022-08-31T09:07:04.529845Z",
     "start_time": "2022-08-31T09:07:04.515658Z"
    }
   },
   "outputs": [],
   "source": [
    "df_booking_diagnosis = df_booking_diagnosis.drop_duplicates(subset=[\"booking_id\", \"MDDiagnosis_name\"])"
   ]
  },
  {
   "cell_type": "code",
   "execution_count": 33,
   "id": "3c73c45f",
   "metadata": {
    "ExecuteTime": {
     "end_time": "2022-08-31T09:07:04.545907Z",
     "start_time": "2022-08-31T09:07:04.531843Z"
    }
   },
   "outputs": [],
   "source": [
    "df_booking_diagnosis.drop([\"count_map\"], inplace = True, axis = 1)"
   ]
  },
  {
   "cell_type": "code",
   "execution_count": 34,
   "id": "669b7b27",
   "metadata": {
    "ExecuteTime": {
     "end_time": "2022-08-31T09:07:04.560915Z",
     "start_time": "2022-08-31T09:07:04.546832Z"
    }
   },
   "outputs": [
    {
     "name": "stdout",
     "output_type": "stream",
     "text": [
      "<class 'pandas.core.frame.DataFrame'>\n",
      "Int64Index: 12073 entries, 0 to 65738\n",
      "Data columns (total 4 columns):\n",
      " #   Column            Non-Null Count  Dtype   \n",
      "---  ------            --------------  -----   \n",
      " 0   booking_id        12073 non-null  object  \n",
      " 1   MDDiagnosis_code  12073 non-null  category\n",
      " 2   MDDiagnosis_name  12073 non-null  category\n",
      " 3   chronic_group     12073 non-null  category\n",
      "dtypes: category(3), object(1)\n",
      "memory usage: 289.3+ KB\n"
     ]
    }
   ],
   "source": [
    "df_booking_diagnosis.info()"
   ]
  },
  {
   "cell_type": "code",
   "execution_count": 35,
   "id": "dbbd4243",
   "metadata": {
    "ExecuteTime": {
     "end_time": "2022-08-31T09:07:04.576177Z",
     "start_time": "2022-08-31T09:07:04.561915Z"
    }
   },
   "outputs": [
    {
     "name": "stdout",
     "output_type": "stream",
     "text": [
      "Unique value count for each column\n"
     ]
    },
    {
     "data": {
      "text/html": [
       "<div>\n",
       "<style scoped>\n",
       "    .dataframe tbody tr th:only-of-type {\n",
       "        vertical-align: middle;\n",
       "    }\n",
       "\n",
       "    .dataframe tbody tr th {\n",
       "        vertical-align: top;\n",
       "    }\n",
       "\n",
       "    .dataframe thead th {\n",
       "        text-align: right;\n",
       "    }\n",
       "</style>\n",
       "<table border=\"1\" class=\"dataframe\">\n",
       "  <thead>\n",
       "    <tr style=\"text-align: right;\">\n",
       "      <th></th>\n",
       "      <th>name</th>\n",
       "      <th>uniquecount</th>\n",
       "    </tr>\n",
       "  </thead>\n",
       "  <tbody>\n",
       "    <tr>\n",
       "      <th>0</th>\n",
       "      <td>booking_id</td>\n",
       "      <td>9958</td>\n",
       "    </tr>\n",
       "    <tr>\n",
       "      <th>1</th>\n",
       "      <td>MDDiagnosis_code</td>\n",
       "      <td>577</td>\n",
       "    </tr>\n",
       "    <tr>\n",
       "      <th>2</th>\n",
       "      <td>MDDiagnosis_name</td>\n",
       "      <td>577</td>\n",
       "    </tr>\n",
       "    <tr>\n",
       "      <th>3</th>\n",
       "      <td>chronic_group</td>\n",
       "      <td>11</td>\n",
       "    </tr>\n",
       "  </tbody>\n",
       "</table>\n",
       "</div>"
      ],
      "text/plain": [
       "               name  uniquecount\n",
       "0        booking_id         9958\n",
       "1  MDDiagnosis_code          577\n",
       "2  MDDiagnosis_name          577\n",
       "3     chronic_group           11"
      ]
     },
     "execution_count": 35,
     "metadata": {},
     "output_type": "execute_result"
    }
   ],
   "source": [
    "print(\"Unique value count for each column\")\n",
    "count_unique(df_booking_diagnosis)"
   ]
  },
  {
   "cell_type": "markdown",
   "id": "a87261a4",
   "metadata": {},
   "source": [
    "### Data Aggregation"
   ]
  },
  {
   "cell_type": "markdown",
   "id": "38fc4c19",
   "metadata": {},
   "source": [
    "#### Check Unique Diagnosis"
   ]
  },
  {
   "cell_type": "code",
   "execution_count": 36,
   "id": "dbd5d19b",
   "metadata": {
    "ExecuteTime": {
     "end_time": "2022-08-31T09:07:04.592093Z",
     "start_time": "2022-08-31T09:07:04.577119Z"
    }
   },
   "outputs": [
    {
     "name": "stdout",
     "output_type": "stream",
     "text": [
      "577\n"
     ]
    }
   ],
   "source": [
    "print(df_booking_diagnosis[\"MDDiagnosis_name\"].nunique())"
   ]
  },
  {
   "cell_type": "code",
   "execution_count": 37,
   "id": "d965df1e",
   "metadata": {
    "ExecuteTime": {
     "end_time": "2022-08-31T09:07:04.608115Z",
     "start_time": "2022-08-31T09:07:04.593093Z"
    }
   },
   "outputs": [
    {
     "name": "stdout",
     "output_type": "stream",
     "text": [
      "acute upper respiratory infection; unspecified                               1111\n",
      "headache                                                                     1058\n",
      "gastroenteritis and colitis of unspecified origin                            1009\n",
      "covid-19 vaccines causing adverse effects in therapeutic use                  842\n",
      "other complications following immunization; not elsewhere classified          512\n",
      "dysmenorrhoea; unspecified                                                    432\n",
      "rash and other nonspecific skin eruption                                      292\n",
      "myalgia                                                                       244\n",
      "muscle strain                                                                 243\n",
      "person consulting for explanation of investigation findings                   228\n",
      "covid-19 vaccines causing adverse effects in therapeutic use; unspecified     202\n",
      "fever; unspecified                                                            202\n",
      "gastritis; unspecified                                                        201\n",
      "low back pain                                                                 195\n",
      "vasomotor and allergic rhinitis                                               190\n",
      "covid-19; virus identified                                                    180\n",
      "urinary tract infection; site not specified                                   179\n",
      "tension-type headache                                                         157\n",
      "essential (primary) hypertension                                              156\n",
      "hyperlipidaemia; unspecified                                                  138\n",
      "Name: MDDiagnosis_name, dtype: int64\n"
     ]
    }
   ],
   "source": [
    "print(df_booking_diagnosis['MDDiagnosis_name'].value_counts().head(20))"
   ]
  },
  {
   "cell_type": "code",
   "execution_count": 38,
   "id": "1413562e",
   "metadata": {
    "ExecuteTime": {
     "end_time": "2022-08-31T09:07:04.624095Z",
     "start_time": "2022-08-31T09:07:04.609118Z"
    }
   },
   "outputs": [
    {
     "name": "stdout",
     "output_type": "stream",
     "text": [
      "acute upper respiratory infection; unspecified                               0.092024\n",
      "headache                                                                     0.087634\n",
      "gastroenteritis and colitis of unspecified origin                            0.083575\n",
      "covid-19 vaccines causing adverse effects in therapeutic use                 0.069742\n",
      "other complications following immunization; not elsewhere classified         0.042409\n",
      "dysmenorrhoea; unspecified                                                   0.035782\n",
      "rash and other nonspecific skin eruption                                     0.024186\n",
      "myalgia                                                                      0.020210\n",
      "muscle strain                                                                0.020128\n",
      "person consulting for explanation of investigation findings                  0.018885\n",
      "covid-19 vaccines causing adverse effects in therapeutic use; unspecified    0.016732\n",
      "fever; unspecified                                                           0.016732\n",
      "gastritis; unspecified                                                       0.016649\n",
      "low back pain                                                                0.016152\n",
      "vasomotor and allergic rhinitis                                              0.015738\n",
      "covid-19; virus identified                                                   0.014909\n",
      "urinary tract infection; site not specified                                  0.014826\n",
      "tension-type headache                                                        0.013004\n",
      "essential (primary) hypertension                                             0.012921\n",
      "hyperlipidaemia; unspecified                                                 0.011430\n",
      "Name: MDDiagnosis_name, dtype: float64\n"
     ]
    }
   ],
   "source": [
    "print(df_booking_diagnosis['MDDiagnosis_name'].value_counts(normalize=True).head(20))"
   ]
  },
  {
   "cell_type": "markdown",
   "id": "36bc2dc5",
   "metadata": {
    "ExecuteTime": {
     "end_time": "2022-08-15T04:52:09.001047Z",
     "start_time": "2022-08-15T04:52:08.989034Z"
    }
   },
   "source": [
    "#### Check Unique Chronic"
   ]
  },
  {
   "cell_type": "code",
   "execution_count": 39,
   "id": "fccfa89b",
   "metadata": {
    "ExecuteTime": {
     "end_time": "2022-08-31T09:07:04.639086Z",
     "start_time": "2022-08-31T09:07:04.625096Z"
    }
   },
   "outputs": [
    {
     "name": "stdout",
     "output_type": "stream",
     "text": [
      "11\n"
     ]
    }
   ],
   "source": [
    "print(df_booking_diagnosis[\"chronic_group\"].nunique())"
   ]
  },
  {
   "cell_type": "code",
   "execution_count": 40,
   "id": "f44ac52f",
   "metadata": {
    "ExecuteTime": {
     "end_time": "2022-08-31T09:07:04.654082Z",
     "start_time": "2022-08-31T09:07:04.640087Z"
    }
   },
   "outputs": [
    {
     "name": "stdout",
     "output_type": "stream",
     "text": [
      "-                                    10830\n",
      "Vasomotor and allergic rhinitis        308\n",
      "Hypertension                           158\n",
      "Hyperlipidaemia                        144\n",
      "Atopic dermatitis                      133\n",
      "Gastro-oesophageal reflux disease      131\n",
      "Migraine                               124\n",
      "Gout                                    90\n",
      "Asthma                                  84\n",
      "Thyroid                                 37\n",
      "Diabetes                                34\n",
      "Name: chronic_group, dtype: int64\n"
     ]
    }
   ],
   "source": [
    "print(df_booking_diagnosis[\"chronic_group\"].value_counts())"
   ]
  },
  {
   "cell_type": "code",
   "execution_count": 41,
   "id": "89092e3f",
   "metadata": {
    "ExecuteTime": {
     "end_time": "2022-08-31T09:07:04.670099Z",
     "start_time": "2022-08-31T09:07:04.655078Z"
    }
   },
   "outputs": [
    {
     "name": "stdout",
     "output_type": "stream",
     "text": [
      "-                                    89.704299\n",
      "Vasomotor and allergic rhinitis       2.551147\n",
      "Hypertension                          1.308705\n",
      "Hyperlipidaemia                       1.192744\n",
      "Atopic dermatitis                     1.101632\n",
      "Gastro-oesophageal reflux disease     1.085066\n",
      "Migraine                              1.027085\n",
      "Gout                                  0.745465\n",
      "Asthma                                0.695767\n",
      "Thyroid                               0.306469\n",
      "Diabetes                              0.281620\n",
      "Name: chronic_group, dtype: float64\n"
     ]
    }
   ],
   "source": [
    "print(df_booking_diagnosis[\"chronic_group\"].value_counts(normalize=True)*100)"
   ]
  },
  {
   "cell_type": "markdown",
   "id": "3d096074",
   "metadata": {},
   "source": [
    "#### Rollup"
   ]
  },
  {
   "cell_type": "markdown",
   "id": "0fc39d54",
   "metadata": {},
   "source": [
    "The purpose here is to roll up all the diagnose of the same booking into one roll, while retaining all diagnosis info, by converting the information into a list."
   ]
  },
  {
   "cell_type": "code",
   "execution_count": 42,
   "id": "2be21ff5",
   "metadata": {
    "ExecuteTime": {
     "end_time": "2022-08-31T09:07:04.686062Z",
     "start_time": "2022-08-31T09:07:04.671100Z"
    }
   },
   "outputs": [],
   "source": [
    "# get a dict of unique ID from booking  \n",
    "booking_ID_list = set(df_booking_diagnosis[\"booking_id\"])"
   ]
  },
  {
   "cell_type": "code",
   "execution_count": 43,
   "id": "049e9ffe",
   "metadata": {
    "ExecuteTime": {
     "end_time": "2022-08-31T09:07:26.462859Z",
     "start_time": "2022-08-31T09:07:04.687060Z"
    }
   },
   "outputs": [],
   "source": [
    "diag_dup_list = pd.DataFrame(columns=[\"booking_id\",\"diagnosis\", \"count_diagnosis\"])\n",
    "# to get a list of diagnosis name for each booking\n",
    "for x in booking_ID_list:\n",
    "    temp_df = df_booking_diagnosis[df_booking_diagnosis[\"booking_id\"] == x]\n",
    "    diag_list_tmp = []\n",
    "    for index, row in temp_df.iterrows():\n",
    "        #print(row[\"MDDiagnosis_name\"]) \n",
    "        if row[\"MDDiagnosis_name\"] is not np.nan:\n",
    "            if (row[\"MDDiagnosis_name\"] not in diag_list_tmp):\n",
    "                diag_list_tmp.append(row[\"MDDiagnosis_name\"])\n",
    "             \n",
    "    diag_dup_list.at[x, \"booking_id\"] = x\n",
    "    diag_dup_list.at[x, \"diagnosis\"] = diag_list_tmp\n",
    "    diag_dup_list.at[x, \"count_diagnosis\"] = int(len(diag_list_tmp))"
   ]
  },
  {
   "cell_type": "code",
   "execution_count": 44,
   "id": "95f32fcf",
   "metadata": {
    "ExecuteTime": {
     "end_time": "2022-08-31T09:07:47.022939Z",
     "start_time": "2022-08-31T09:07:26.463855Z"
    }
   },
   "outputs": [],
   "source": [
    "diagcode_dup_list = pd.DataFrame(columns=[\"booking_id\",\"diagnosis_code\", \"count_diagnosis_code\"])\n",
    "# to get a list of diagnosis name for each booking\n",
    "for x in booking_ID_list:\n",
    "    temp_df = df_booking_diagnosis[df_booking_diagnosis[\"booking_id\"] == x]\n",
    "    tmp_list = []\n",
    "    for index, row in temp_df.iterrows():\n",
    "        #print(row[\"MDDiagnosis_name\"]) \n",
    "        if row[\"MDDiagnosis_code\"] is not np.nan:\n",
    "            if (row[\"MDDiagnosis_code\"] not in tmp_list):\n",
    "                tmp_list.append(row[\"MDDiagnosis_code\"])\n",
    "             \n",
    "    diagcode_dup_list.at[x, \"booking_id\"] = x\n",
    "    diagcode_dup_list.at[x, \"diagnosis_code\"] = tmp_list\n",
    "    diagcode_dup_list.at[x, \"count_diagnosis_code\"] = int(len(tmp_list))"
   ]
  },
  {
   "cell_type": "code",
   "execution_count": 45,
   "id": "f3077839",
   "metadata": {
    "ExecuteTime": {
     "end_time": "2022-08-31T09:08:06.953749Z",
     "start_time": "2022-08-31T09:07:47.023901Z"
    }
   },
   "outputs": [],
   "source": [
    "chronic_dup_list = pd.DataFrame(columns=[\"booking_id\",\"chronic\", \"count_chronic\"])\n",
    "# to get a list of diagnosis name for each booking\n",
    "for x in booking_ID_list:\n",
    "    temp_df = df_booking_diagnosis[df_booking_diagnosis[\"booking_id\"] == x]\n",
    "    tmp_list = []\n",
    "    for index, row in temp_df.iterrows():\n",
    "        #print(row[\"MDDiagnosis_name\"]) \n",
    "        if row[\"chronic_group\"] is not np.nan and row[\"chronic_group\"] is not \"-\":\n",
    "            if (row[\"chronic_group\"] not in tmp_list):\n",
    "                tmp_list.append(row[\"chronic_group\"])\n",
    "        \n",
    "    chronic_dup_list.at[x, \"booking_id\"] = x\n",
    "    chronic_dup_list.at[x, \"chronic\"] = tmp_list\n",
    "    chronic_dup_list.at[x, \"count_chronic\"] = int(len(tmp_list))"
   ]
  },
  {
   "cell_type": "code",
   "execution_count": 46,
   "id": "948bfce6",
   "metadata": {
    "ExecuteTime": {
     "end_time": "2022-08-31T09:08:06.969674Z",
     "start_time": "2022-08-31T09:08:06.954712Z"
    }
   },
   "outputs": [],
   "source": [
    "# Perform an inner join between the temp diagnosis name and code tables\n",
    "combine_data_diag = pd.merge(diagcode_dup_list, diag_dup_list, how=\"inner\", on=[\"booking_id\"])"
   ]
  },
  {
   "cell_type": "code",
   "execution_count": 47,
   "id": "9b429063",
   "metadata": {
    "ExecuteTime": {
     "end_time": "2022-08-31T09:08:06.984633Z",
     "start_time": "2022-08-31T09:08:06.970671Z"
    }
   },
   "outputs": [],
   "source": [
    "# Perform an inner join between the chronic temp table & above\n",
    "combine_data_diag_chronic = pd.merge(combine_data_diag, chronic_dup_list, how=\"inner\", on=[\"booking_id\"])"
   ]
  },
  {
   "cell_type": "markdown",
   "id": "f625e587",
   "metadata": {},
   "source": [
    "### Finalise Prep "
   ]
  },
  {
   "cell_type": "code",
   "execution_count": 48,
   "id": "03115a7e",
   "metadata": {
    "ExecuteTime": {
     "end_time": "2022-08-31T09:08:07.000591Z",
     "start_time": "2022-08-31T09:08:06.985631Z"
    }
   },
   "outputs": [],
   "source": [
    "final_df_booking_diagnosis = combine_data_diag_chronic[[\"booking_id\",\"diagnosis_code\",\"diagnosis\",\"chronic\", \n",
    "                                      \"count_diagnosis\", \"count_chronic\"]]"
   ]
  },
  {
   "cell_type": "code",
   "execution_count": 49,
   "id": "464454dd",
   "metadata": {
    "ExecuteTime": {
     "end_time": "2022-08-31T09:08:07.015551Z",
     "start_time": "2022-08-31T09:08:07.001589Z"
    }
   },
   "outputs": [],
   "source": [
    "final_df_booking_diagnosis.columns = ['booking_id', 'diagnosis_code_list', 'diagnosis_list', 'chronic_list',\n",
    "       'count_diagnosis', 'count_chronic']"
   ]
  },
  {
   "cell_type": "code",
   "execution_count": 50,
   "id": "2351a91b",
   "metadata": {
    "ExecuteTime": {
     "end_time": "2022-08-31T09:08:07.031508Z",
     "start_time": "2022-08-31T09:08:07.016548Z"
    }
   },
   "outputs": [
    {
     "name": "stdout",
     "output_type": "stream",
     "text": [
      "<class 'pandas.core.frame.DataFrame'>\n",
      "Int64Index: 9958 entries, 0 to 9957\n",
      "Data columns (total 6 columns):\n",
      " #   Column               Non-Null Count  Dtype \n",
      "---  ------               --------------  ----- \n",
      " 0   booking_id           9958 non-null   object\n",
      " 1   diagnosis_code_list  9958 non-null   object\n",
      " 2   diagnosis_list       9958 non-null   object\n",
      " 3   chronic_list         9958 non-null   object\n",
      " 4   count_diagnosis      9958 non-null   object\n",
      " 5   count_chronic        9958 non-null   object\n",
      "dtypes: object(6)\n",
      "memory usage: 544.6+ KB\n"
     ]
    }
   ],
   "source": [
    "final_df_booking_diagnosis.info()"
   ]
  },
  {
   "cell_type": "code",
   "execution_count": 51,
   "id": "69cc3e02",
   "metadata": {
    "ExecuteTime": {
     "end_time": "2022-08-31T09:08:07.046468Z",
     "start_time": "2022-08-31T09:08:07.032505Z"
    }
   },
   "outputs": [
    {
     "data": {
      "text/html": [
       "<div>\n",
       "<style scoped>\n",
       "    .dataframe tbody tr th:only-of-type {\n",
       "        vertical-align: middle;\n",
       "    }\n",
       "\n",
       "    .dataframe tbody tr th {\n",
       "        vertical-align: top;\n",
       "    }\n",
       "\n",
       "    .dataframe thead th {\n",
       "        text-align: right;\n",
       "    }\n",
       "</style>\n",
       "<table border=\"1\" class=\"dataframe\">\n",
       "  <thead>\n",
       "    <tr style=\"text-align: right;\">\n",
       "      <th></th>\n",
       "      <th>booking_id</th>\n",
       "      <th>diagnosis_code_list</th>\n",
       "      <th>diagnosis_list</th>\n",
       "      <th>chronic_list</th>\n",
       "      <th>count_diagnosis</th>\n",
       "      <th>count_chronic</th>\n",
       "    </tr>\n",
       "  </thead>\n",
       "  <tbody>\n",
       "    <tr>\n",
       "      <th>0</th>\n",
       "      <td>65B1CE93-A2A3-44F4-942B-5A799CAA3D22</td>\n",
       "      <td>[R11]</td>\n",
       "      <td>[nausea and vomiting]</td>\n",
       "      <td>[]</td>\n",
       "      <td>1</td>\n",
       "      <td>0</td>\n",
       "    </tr>\n",
       "    <tr>\n",
       "      <th>1</th>\n",
       "      <td>1AAF3D3C-5DE4-466A-9F52-F673475D8EC5</td>\n",
       "      <td>[U12]</td>\n",
       "      <td>[covid-19 vaccines causing adverse effects in therapeutic use]</td>\n",
       "      <td>[]</td>\n",
       "      <td>1</td>\n",
       "      <td>0</td>\n",
       "    </tr>\n",
       "    <tr>\n",
       "      <th>2</th>\n",
       "      <td>57164B4A-6871-479A-85E2-A7BED21B42B3</td>\n",
       "      <td>[A09]</td>\n",
       "      <td>[other gastroenteritis and colitis of infectious and unspecified origin]</td>\n",
       "      <td>[]</td>\n",
       "      <td>1</td>\n",
       "      <td>0</td>\n",
       "    </tr>\n",
       "    <tr>\n",
       "      <th>3</th>\n",
       "      <td>DC93593E-DCE1-4527-970A-118BF107BC2E</td>\n",
       "      <td>[R21]</td>\n",
       "      <td>[rash and other nonspecific skin eruption]</td>\n",
       "      <td>[]</td>\n",
       "      <td>1</td>\n",
       "      <td>0</td>\n",
       "    </tr>\n",
       "    <tr>\n",
       "      <th>4</th>\n",
       "      <td>19630CC6-8E9E-42DB-87D2-6674B91427EE</td>\n",
       "      <td>[Z71.2]</td>\n",
       "      <td>[person consulting for explanation of investigation findings]</td>\n",
       "      <td>[]</td>\n",
       "      <td>1</td>\n",
       "      <td>0</td>\n",
       "    </tr>\n",
       "  </tbody>\n",
       "</table>\n",
       "</div>"
      ],
      "text/plain": [
       "                             booking_id diagnosis_code_list  \\\n",
       "0  65B1CE93-A2A3-44F4-942B-5A799CAA3D22               [R11]   \n",
       "1  1AAF3D3C-5DE4-466A-9F52-F673475D8EC5               [U12]   \n",
       "2  57164B4A-6871-479A-85E2-A7BED21B42B3               [A09]   \n",
       "3  DC93593E-DCE1-4527-970A-118BF107BC2E               [R21]   \n",
       "4  19630CC6-8E9E-42DB-87D2-6674B91427EE             [Z71.2]   \n",
       "\n",
       "                                                             diagnosis_list  \\\n",
       "0                                                     [nausea and vomiting]   \n",
       "1            [covid-19 vaccines causing adverse effects in therapeutic use]   \n",
       "2  [other gastroenteritis and colitis of infectious and unspecified origin]   \n",
       "3                                [rash and other nonspecific skin eruption]   \n",
       "4             [person consulting for explanation of investigation findings]   \n",
       "\n",
       "  chronic_list count_diagnosis count_chronic  \n",
       "0           []               1             0  \n",
       "1           []               1             0  \n",
       "2           []               1             0  \n",
       "3           []               1             0  \n",
       "4           []               1             0  "
      ]
     },
     "execution_count": 51,
     "metadata": {},
     "output_type": "execute_result"
    }
   ],
   "source": [
    "final_df_booking_diagnosis.head(5)"
   ]
  },
  {
   "cell_type": "markdown",
   "id": "a648fef9",
   "metadata": {
    "ExecuteTime": {
     "end_time": "2022-08-15T05:15:39.853518Z",
     "start_time": "2022-08-15T05:15:39.853518Z"
    }
   },
   "source": [
    "### Save intermediate Output "
   ]
  },
  {
   "cell_type": "code",
   "execution_count": 52,
   "id": "85f94423",
   "metadata": {
    "ExecuteTime": {
     "end_time": "2022-08-31T09:08:07.062426Z",
     "start_time": "2022-08-31T09:08:07.047466Z"
    }
   },
   "outputs": [],
   "source": [
    "# Export data \n",
    "final_df_booking_diagnosis.to_pickle(\"step1_booking_diagnosis.pkl\")"
   ]
  },
  {
   "cell_type": "markdown",
   "id": "73f245f6",
   "metadata": {},
   "source": [
    "<span class=\"burk\">**COMPLETE STEP1 FOR BOOKING DIAGNOSIS**</span>"
   ]
  },
  {
   "cell_type": "markdown",
   "id": "a2e872ca",
   "metadata": {},
   "source": [
    "## Step1b - Prep & Clean Booking Prescription"
   ]
  },
  {
   "cell_type": "markdown",
   "id": "af80571f",
   "metadata": {},
   "source": [
    "### Import booking Prescription data"
   ]
  },
  {
   "cell_type": "code",
   "execution_count": 53,
   "id": "50016793",
   "metadata": {
    "ExecuteTime": {
     "end_time": "2022-08-31T09:08:07.107305Z",
     "start_time": "2022-08-31T09:08:07.063427Z"
    }
   },
   "outputs": [
    {
     "name": "stdout",
     "output_type": "stream",
     "text": [
      "Input:  tbl_Booking_Prescription_test.csv \n",
      "\n",
      "<class 'pandas.core.frame.DataFrame'>\n",
      "Int64Index: 14926 entries, 0 to 14925\n",
      "Data columns (total 6 columns):\n",
      " #   Column                   Non-Null Count  Dtype  \n",
      "---  ------                   --------------  -----  \n",
      " 0   booking_id               14926 non-null  object \n",
      " 1   MDMedication_ID          14926 non-null  object \n",
      " 2   MDMedication_name        14926 non-null  object \n",
      " 3   is_fulfilled_externally  14926 non-null  bool   \n",
      " 4   prescription_quantity    14926 non-null  float64\n",
      " 5   prescription_status      14926 non-null  object \n",
      "dtypes: bool(1), float64(1), object(4)\n",
      "memory usage: 714.2+ KB\n",
      "None \n",
      "\n",
      "Shape of data:  (14926, 6)\n"
     ]
    }
   ],
   "source": [
    "# import new booking prescription\n",
    "print(\"Input: \", FILE_PRESCRIPTION, \"\\n\") \n",
    "df_booking_presciption = pd.read_csv(FILE_PRESCRIPTION)\n",
    "df_booking_presciption = df_booking_presciption[df_booking_presciption['booking_id'].isin(booking_list)]\n",
    "print(df_booking_presciption.info(), \"\\n\") \n",
    "print(\"Shape of data: \", df_booking_presciption.shape)"
   ]
  },
  {
   "cell_type": "code",
   "execution_count": 54,
   "id": "5c8593d7",
   "metadata": {
    "ExecuteTime": {
     "end_time": "2022-08-31T09:08:07.153183Z",
     "start_time": "2022-08-31T09:08:07.108303Z"
    }
   },
   "outputs": [
    {
     "name": "stdout",
     "output_type": "stream",
     "text": [
      "Input:  tbl_Booking_Prescription.csv \n",
      "\n",
      "<class 'pandas.core.frame.DataFrame'>\n",
      "Int64Index: 4436 entries, 4 to 20238\n",
      "Data columns (total 6 columns):\n",
      " #   Column                   Non-Null Count  Dtype \n",
      "---  ------                   --------------  ----- \n",
      " 0   booking_id               4436 non-null   object\n",
      " 1   MDMedication_ID          4436 non-null   object\n",
      " 2   MDMedication_name        4436 non-null   object\n",
      " 3   is_fulfilled_externally  4436 non-null   bool  \n",
      " 4   prescription_quantity    4436 non-null   int64 \n",
      " 5   prescription_status      4436 non-null   object\n",
      "dtypes: bool(1), int64(1), object(4)\n",
      "memory usage: 212.3+ KB\n",
      "None \n",
      "\n",
      "Shape of data:  (4436, 6)\n"
     ]
    }
   ],
   "source": [
    "# import old booking prescription\n",
    "if TESTING==1 and MODEL_TYPE_MEMBER ==1:\n",
    "    print(\"Input: \", FILE_PRESCRIPTION_OLD, \"\\n\") \n",
    "    df_booking_presciption_old = pd.read_csv(FILE_PRESCRIPTION_OLD)\n",
    "    df_booking_presciption_old = df_booking_presciption_old[df_booking_presciption_old['booking_id'].isin(booking_list)]\n",
    "    print(df_booking_presciption_old.info(), \"\\n\")\n",
    "    print(\"Shape of data: \", df_booking_presciption_old.shape)"
   ]
  },
  {
   "cell_type": "code",
   "execution_count": 55,
   "id": "a2383a5d",
   "metadata": {
    "ExecuteTime": {
     "end_time": "2022-08-31T09:08:07.183103Z",
     "start_time": "2022-08-31T09:08:07.154179Z"
    }
   },
   "outputs": [
    {
     "name": "stdout",
     "output_type": "stream",
     "text": [
      "COMBINED: \n",
      "<class 'pandas.core.frame.DataFrame'>\n",
      "Int64Index: 19362 entries, 0 to 20238\n",
      "Data columns (total 6 columns):\n",
      " #   Column                   Non-Null Count  Dtype  \n",
      "---  ------                   --------------  -----  \n",
      " 0   booking_id               19362 non-null  object \n",
      " 1   MDMedication_ID          19362 non-null  object \n",
      " 2   MDMedication_name        19362 non-null  object \n",
      " 3   is_fulfilled_externally  19362 non-null  bool   \n",
      " 4   prescription_quantity    19362 non-null  float64\n",
      " 5   prescription_status      19362 non-null  object \n",
      "dtypes: bool(1), float64(1), object(4)\n",
      "memory usage: 926.5+ KB\n",
      "None \n",
      "\n",
      "Shape of data:  (19362, 6)\n"
     ]
    }
   ],
   "source": [
    "if TESTING ==1 and MODEL_TYPE_MEMBER ==1:\n",
    "    df_booking_presciption = pd.concat([df_booking_presciption, df_booking_presciption_old], axis=0)\n",
    "    print(\"COMBINED: \")\n",
    "    print(df_booking_presciption.info(), \"\\n\")\n",
    "    print(\"Shape of data: \", df_booking_presciption.shape)"
   ]
  },
  {
   "cell_type": "markdown",
   "id": "647ceb00",
   "metadata": {},
   "source": [
    "### Summary Statistics"
   ]
  },
  {
   "cell_type": "code",
   "execution_count": 56,
   "id": "c672be61",
   "metadata": {
    "ExecuteTime": {
     "end_time": "2022-08-31T09:08:07.198062Z",
     "start_time": "2022-08-31T09:08:07.184099Z"
    }
   },
   "outputs": [
    {
     "name": "stdout",
     "output_type": "stream",
     "text": [
      "Basic Data Summary\n"
     ]
    },
    {
     "data": {
      "text/html": [
       "<div>\n",
       "<style scoped>\n",
       "    .dataframe tbody tr th:only-of-type {\n",
       "        vertical-align: middle;\n",
       "    }\n",
       "\n",
       "    .dataframe tbody tr th {\n",
       "        vertical-align: top;\n",
       "    }\n",
       "\n",
       "    .dataframe thead th {\n",
       "        text-align: right;\n",
       "    }\n",
       "</style>\n",
       "<table border=\"1\" class=\"dataframe\">\n",
       "  <thead>\n",
       "    <tr style=\"text-align: right;\">\n",
       "      <th></th>\n",
       "      <th>count</th>\n",
       "      <th>mean</th>\n",
       "      <th>std</th>\n",
       "      <th>min</th>\n",
       "      <th>25%</th>\n",
       "      <th>50%</th>\n",
       "      <th>75%</th>\n",
       "      <th>max</th>\n",
       "    </tr>\n",
       "  </thead>\n",
       "  <tbody>\n",
       "    <tr>\n",
       "      <th>prescription_quantity</th>\n",
       "      <td>19362.0</td>\n",
       "      <td>15.837104</td>\n",
       "      <td>16.405406</td>\n",
       "      <td>1.0</td>\n",
       "      <td>6.0</td>\n",
       "      <td>10.0</td>\n",
       "      <td>20.0</td>\n",
       "      <td>500.0</td>\n",
       "    </tr>\n",
       "  </tbody>\n",
       "</table>\n",
       "</div>"
      ],
      "text/plain": [
       "                         count       mean        std  min  25%   50%   75%  \\\n",
       "prescription_quantity  19362.0  15.837104  16.405406  1.0  6.0  10.0  20.0   \n",
       "\n",
       "                         max  \n",
       "prescription_quantity  500.0  "
      ]
     },
     "execution_count": 56,
     "metadata": {},
     "output_type": "execute_result"
    }
   ],
   "source": [
    "print(\"Basic Data Summary\")\n",
    "df_booking_presciption.describe().transpose()"
   ]
  },
  {
   "cell_type": "code",
   "execution_count": 57,
   "id": "00608bbb",
   "metadata": {
    "ExecuteTime": {
     "end_time": "2022-08-31T09:08:07.228980Z",
     "start_time": "2022-08-31T09:08:07.199060Z"
    }
   },
   "outputs": [
    {
     "name": "stdout",
     "output_type": "stream",
     "text": [
      "Unique value count for each column\n"
     ]
    },
    {
     "data": {
      "text/html": [
       "<div>\n",
       "<style scoped>\n",
       "    .dataframe tbody tr th:only-of-type {\n",
       "        vertical-align: middle;\n",
       "    }\n",
       "\n",
       "    .dataframe tbody tr th {\n",
       "        vertical-align: top;\n",
       "    }\n",
       "\n",
       "    .dataframe thead th {\n",
       "        text-align: right;\n",
       "    }\n",
       "</style>\n",
       "<table border=\"1\" class=\"dataframe\">\n",
       "  <thead>\n",
       "    <tr style=\"text-align: right;\">\n",
       "      <th></th>\n",
       "      <th>name</th>\n",
       "      <th>uniquecount</th>\n",
       "    </tr>\n",
       "  </thead>\n",
       "  <tbody>\n",
       "    <tr>\n",
       "      <th>0</th>\n",
       "      <td>booking_id</td>\n",
       "      <td>7606</td>\n",
       "    </tr>\n",
       "    <tr>\n",
       "      <th>1</th>\n",
       "      <td>MDMedication_ID</td>\n",
       "      <td>330</td>\n",
       "    </tr>\n",
       "    <tr>\n",
       "      <th>2</th>\n",
       "      <td>MDMedication_name</td>\n",
       "      <td>335</td>\n",
       "    </tr>\n",
       "    <tr>\n",
       "      <th>3</th>\n",
       "      <td>is_fulfilled_externally</td>\n",
       "      <td>2</td>\n",
       "    </tr>\n",
       "    <tr>\n",
       "      <th>4</th>\n",
       "      <td>prescription_quantity</td>\n",
       "      <td>50</td>\n",
       "    </tr>\n",
       "    <tr>\n",
       "      <th>5</th>\n",
       "      <td>prescription_status</td>\n",
       "      <td>2</td>\n",
       "    </tr>\n",
       "  </tbody>\n",
       "</table>\n",
       "</div>"
      ],
      "text/plain": [
       "                      name  uniquecount\n",
       "0               booking_id         7606\n",
       "1          MDMedication_ID          330\n",
       "2        MDMedication_name          335\n",
       "3  is_fulfilled_externally            2\n",
       "4    prescription_quantity           50\n",
       "5      prescription_status            2"
      ]
     },
     "execution_count": 57,
     "metadata": {},
     "output_type": "execute_result"
    }
   ],
   "source": [
    "print(\"Unique value count for each column\")\n",
    "count_unique(df_booking_presciption)"
   ]
  },
  {
   "cell_type": "markdown",
   "id": "48fe55c0",
   "metadata": {},
   "source": [
    "### Missing Value Checks"
   ]
  },
  {
   "cell_type": "code",
   "execution_count": 58,
   "id": "02201a5d",
   "metadata": {
    "ExecuteTime": {
     "end_time": "2022-08-31T09:08:07.244938Z",
     "start_time": "2022-08-31T09:08:07.229976Z"
    }
   },
   "outputs": [
    {
     "name": "stdout",
     "output_type": "stream",
     "text": [
      "number of null: \n"
     ]
    },
    {
     "data": {
      "text/plain": [
       "booking_id                 0\n",
       "MDMedication_ID            0\n",
       "MDMedication_name          0\n",
       "is_fulfilled_externally    0\n",
       "prescription_quantity      0\n",
       "prescription_status        0\n",
       "dtype: int64"
      ]
     },
     "execution_count": 58,
     "metadata": {},
     "output_type": "execute_result"
    }
   ],
   "source": [
    "print(\"number of null: \")\n",
    "df_booking_presciption.isnull().sum()"
   ]
  },
  {
   "cell_type": "markdown",
   "id": "364b8da9",
   "metadata": {},
   "source": [
    "<span class=\"mark\">IMPORTANT: \n",
    "If there is missing value, pls handle and correct accordingly.</span>"
   ]
  },
  {
   "cell_type": "markdown",
   "id": "4baedcec",
   "metadata": {},
   "source": [
    "### Basic Cleaning"
   ]
  },
  {
   "cell_type": "markdown",
   "id": "46b22ae7",
   "metadata": {},
   "source": [
    "#### Remove comma, replace with semi-colon "
   ]
  },
  {
   "cell_type": "code",
   "execution_count": 59,
   "id": "4ae8dc89",
   "metadata": {
    "ExecuteTime": {
     "end_time": "2022-08-31T09:08:07.259897Z",
     "start_time": "2022-08-31T09:08:07.245934Z"
    }
   },
   "outputs": [],
   "source": [
    "df_booking_presciption.MDMedication_name = df_booking_presciption.MDMedication_name.str.replace(',', ';')"
   ]
  },
  {
   "cell_type": "markdown",
   "id": "332828ba",
   "metadata": {
    "ExecuteTime": {
     "end_time": "2022-08-15T04:34:45.328908Z",
     "start_time": "2022-08-15T04:34:45.320883Z"
    }
   },
   "source": [
    "#### Check and remove duplicates"
   ]
  },
  {
   "cell_type": "code",
   "execution_count": 60,
   "id": "83bf6108",
   "metadata": {
    "ExecuteTime": {
     "end_time": "2022-08-31T09:08:07.289853Z",
     "start_time": "2022-08-31T09:08:07.260896Z"
    }
   },
   "outputs": [
    {
     "name": "stdout",
     "output_type": "stream",
     "text": [
      "number of duplicate to drop:  11\n"
     ]
    }
   ],
   "source": [
    "print(\"number of duplicate to drop: \", df_booking_presciption.duplicated().sum())"
   ]
  },
  {
   "cell_type": "code",
   "execution_count": 61,
   "id": "ce281553",
   "metadata": {
    "ExecuteTime": {
     "end_time": "2022-08-31T09:08:07.320734Z",
     "start_time": "2022-08-31T09:08:07.290842Z"
    }
   },
   "outputs": [],
   "source": [
    "if df_booking_presciption.duplicated().sum() > 0:\n",
    "    df_booking_presciption = df_booking_presciption.drop_duplicates()"
   ]
  },
  {
   "cell_type": "markdown",
   "id": "c57ca62d",
   "metadata": {},
   "source": [
    "### Update Data Types"
   ]
  },
  {
   "cell_type": "markdown",
   "id": "c6fd9122",
   "metadata": {},
   "source": [
    "#### Change data types for categorical data"
   ]
  },
  {
   "cell_type": "code",
   "execution_count": 62,
   "id": "31e137d0",
   "metadata": {
    "ExecuteTime": {
     "end_time": "2022-08-31T09:08:07.336692Z",
     "start_time": "2022-08-31T09:08:07.321732Z"
    }
   },
   "outputs": [],
   "source": [
    "df_booking_presciption['MDMedication_ID'] = df_booking_presciption['MDMedication_ID'].astype(\"category\")"
   ]
  },
  {
   "cell_type": "code",
   "execution_count": 63,
   "id": "1ec4ee8c",
   "metadata": {
    "ExecuteTime": {
     "end_time": "2022-08-31T09:08:07.351689Z",
     "start_time": "2022-08-31T09:08:07.337691Z"
    }
   },
   "outputs": [],
   "source": [
    "df_booking_presciption['MDMedication_name'] = df_booking_presciption['MDMedication_name'].astype(\"category\")"
   ]
  },
  {
   "cell_type": "code",
   "execution_count": 64,
   "id": "9869f7e4",
   "metadata": {
    "ExecuteTime": {
     "end_time": "2022-08-31T09:08:07.366647Z",
     "start_time": "2022-08-31T09:08:07.352649Z"
    }
   },
   "outputs": [],
   "source": [
    "df_booking_presciption['prescription_status'] = df_booking_presciption['prescription_status'].astype(\"category\")"
   ]
  },
  {
   "cell_type": "code",
   "execution_count": 65,
   "id": "7aab8b18",
   "metadata": {
    "ExecuteTime": {
     "end_time": "2022-08-31T09:08:07.382569Z",
     "start_time": "2022-08-31T09:08:07.367610Z"
    }
   },
   "outputs": [],
   "source": [
    "df_booking_presciption.is_fulfilled_externally = df_booking_presciption.is_fulfilled_externally.replace({True: \"True\", False: \"False\"})\n",
    "df_booking_presciption.is_fulfilled_externally = df_booking_presciption.is_fulfilled_externally.astype(\"category\")"
   ]
  },
  {
   "cell_type": "code",
   "execution_count": 66,
   "id": "2179db7e",
   "metadata": {
    "ExecuteTime": {
     "end_time": "2022-08-31T09:08:07.398527Z",
     "start_time": "2022-08-31T09:08:07.383567Z"
    },
    "scrolled": true
   },
   "outputs": [
    {
     "name": "stdout",
     "output_type": "stream",
     "text": [
      "<class 'pandas.core.frame.DataFrame'>\n",
      "Int64Index: 19351 entries, 0 to 20238\n",
      "Data columns (total 6 columns):\n",
      " #   Column                   Non-Null Count  Dtype   \n",
      "---  ------                   --------------  -----   \n",
      " 0   booking_id               19351 non-null  object  \n",
      " 1   MDMedication_ID          19351 non-null  category\n",
      " 2   MDMedication_name        19351 non-null  category\n",
      " 3   is_fulfilled_externally  19351 non-null  category\n",
      " 4   prescription_quantity    19351 non-null  float64 \n",
      " 5   prescription_status      19351 non-null  category\n",
      "dtypes: category(4), float64(1), object(1)\n",
      "memory usage: 588.6+ KB\n"
     ]
    }
   ],
   "source": [
    "df_booking_presciption.info()"
   ]
  },
  {
   "cell_type": "markdown",
   "id": "3178654f",
   "metadata": {},
   "source": [
    "### Check OntoOne Mapping"
   ]
  },
  {
   "cell_type": "code",
   "execution_count": 67,
   "id": "5c4a8e5b",
   "metadata": {
    "ExecuteTime": {
     "end_time": "2022-08-31T09:08:07.566112Z",
     "start_time": "2022-08-31T09:08:07.399524Z"
    }
   },
   "outputs": [],
   "source": [
    "g = df_booking_presciption[['MDMedication_ID', 'MDMedication_name']].groupby('MDMedication_name')\n",
    "counts = g.transform(lambda x: len(x.unique()))"
   ]
  },
  {
   "cell_type": "code",
   "execution_count": 68,
   "id": "68b51236",
   "metadata": {
    "ExecuteTime": {
     "end_time": "2022-08-31T09:08:07.582036Z",
     "start_time": "2022-08-31T09:08:07.567075Z"
    }
   },
   "outputs": [],
   "source": [
    "df_booking_presciption[\"count_map\"] = counts"
   ]
  },
  {
   "cell_type": "code",
   "execution_count": 69,
   "id": "37864eba",
   "metadata": {
    "ExecuteTime": {
     "end_time": "2022-08-31T09:08:07.597030Z",
     "start_time": "2022-08-31T09:08:07.583033Z"
    }
   },
   "outputs": [
    {
     "name": "stdout",
     "output_type": "stream",
     "text": [
      "These are the records with more than one mapping for name vs code, please verify:\n"
     ]
    }
   ],
   "source": [
    "print(\"These are the records with more than one mapping for name vs code, please verify:\")"
   ]
  },
  {
   "cell_type": "code",
   "execution_count": 70,
   "id": "4aa4c0a9",
   "metadata": {
    "ExecuteTime": {
     "end_time": "2022-08-31T09:08:07.612954Z",
     "start_time": "2022-08-31T09:08:07.597992Z"
    },
    "scrolled": false
   },
   "outputs": [
    {
     "data": {
      "text/html": [
       "<div>\n",
       "<style scoped>\n",
       "    .dataframe tbody tr th:only-of-type {\n",
       "        vertical-align: middle;\n",
       "    }\n",
       "\n",
       "    .dataframe tbody tr th {\n",
       "        vertical-align: top;\n",
       "    }\n",
       "\n",
       "    .dataframe thead th {\n",
       "        text-align: right;\n",
       "    }\n",
       "</style>\n",
       "<table border=\"1\" class=\"dataframe\">\n",
       "  <thead>\n",
       "    <tr style=\"text-align: right;\">\n",
       "      <th></th>\n",
       "      <th>booking_id</th>\n",
       "      <th>MDMedication_ID</th>\n",
       "      <th>MDMedication_name</th>\n",
       "      <th>is_fulfilled_externally</th>\n",
       "      <th>prescription_quantity</th>\n",
       "      <th>prescription_status</th>\n",
       "      <th>count_map</th>\n",
       "    </tr>\n",
       "  </thead>\n",
       "  <tbody>\n",
       "  </tbody>\n",
       "</table>\n",
       "</div>"
      ],
      "text/plain": [
       "Empty DataFrame\n",
       "Columns: [booking_id, MDMedication_ID, MDMedication_name, is_fulfilled_externally, prescription_quantity, prescription_status, count_map]\n",
       "Index: []"
      ]
     },
     "execution_count": 70,
     "metadata": {},
     "output_type": "execute_result"
    }
   ],
   "source": [
    "pd.set_option('display.max_colwidth', None)\n",
    "df_booking_presciption.loc[df_booking_presciption[\"count_map\"]>1,:]"
   ]
  },
  {
   "cell_type": "markdown",
   "id": "5269bf4f",
   "metadata": {},
   "source": [
    "<span class=\"mark\">IMPORTANT: \n",
    "Please verify data if above shows that there is duplicate mapping.</span> "
   ]
  },
  {
   "cell_type": "markdown",
   "id": "587dd4e2",
   "metadata": {
    "ExecuteTime": {
     "end_time": "2022-08-15T04:43:24.310865Z",
     "start_time": "2022-08-15T04:43:24.298830Z"
    }
   },
   "source": [
    "#### Remove Redundant field"
   ]
  },
  {
   "cell_type": "code",
   "execution_count": 71,
   "id": "f51669fe",
   "metadata": {
    "ExecuteTime": {
     "end_time": "2022-08-31T09:08:07.627913Z",
     "start_time": "2022-08-31T09:08:07.613951Z"
    }
   },
   "outputs": [],
   "source": [
    "df_booking_presciption.drop([\"count_map\"], inplace = True, axis = 1)"
   ]
  },
  {
   "cell_type": "code",
   "execution_count": 72,
   "id": "f38c6a34",
   "metadata": {
    "ExecuteTime": {
     "end_time": "2022-08-31T09:08:07.643870Z",
     "start_time": "2022-08-31T09:08:07.628910Z"
    }
   },
   "outputs": [
    {
     "name": "stdout",
     "output_type": "stream",
     "text": [
      "Unique value count for each column\n"
     ]
    },
    {
     "data": {
      "text/html": [
       "<div>\n",
       "<style scoped>\n",
       "    .dataframe tbody tr th:only-of-type {\n",
       "        vertical-align: middle;\n",
       "    }\n",
       "\n",
       "    .dataframe tbody tr th {\n",
       "        vertical-align: top;\n",
       "    }\n",
       "\n",
       "    .dataframe thead th {\n",
       "        text-align: right;\n",
       "    }\n",
       "</style>\n",
       "<table border=\"1\" class=\"dataframe\">\n",
       "  <thead>\n",
       "    <tr style=\"text-align: right;\">\n",
       "      <th></th>\n",
       "      <th>name</th>\n",
       "      <th>uniquecount</th>\n",
       "    </tr>\n",
       "  </thead>\n",
       "  <tbody>\n",
       "    <tr>\n",
       "      <th>0</th>\n",
       "      <td>booking_id</td>\n",
       "      <td>7606</td>\n",
       "    </tr>\n",
       "    <tr>\n",
       "      <th>1</th>\n",
       "      <td>MDMedication_ID</td>\n",
       "      <td>330</td>\n",
       "    </tr>\n",
       "    <tr>\n",
       "      <th>2</th>\n",
       "      <td>MDMedication_name</td>\n",
       "      <td>335</td>\n",
       "    </tr>\n",
       "    <tr>\n",
       "      <th>3</th>\n",
       "      <td>is_fulfilled_externally</td>\n",
       "      <td>2</td>\n",
       "    </tr>\n",
       "    <tr>\n",
       "      <th>4</th>\n",
       "      <td>prescription_quantity</td>\n",
       "      <td>50</td>\n",
       "    </tr>\n",
       "    <tr>\n",
       "      <th>5</th>\n",
       "      <td>prescription_status</td>\n",
       "      <td>2</td>\n",
       "    </tr>\n",
       "  </tbody>\n",
       "</table>\n",
       "</div>"
      ],
      "text/plain": [
       "                      name  uniquecount\n",
       "0               booking_id         7606\n",
       "1          MDMedication_ID          330\n",
       "2        MDMedication_name          335\n",
       "3  is_fulfilled_externally            2\n",
       "4    prescription_quantity           50\n",
       "5      prescription_status            2"
      ]
     },
     "execution_count": 72,
     "metadata": {},
     "output_type": "execute_result"
    }
   ],
   "source": [
    "print(\"Unique value count for each column\")\n",
    "count_unique(df_booking_presciption)"
   ]
  },
  {
   "cell_type": "markdown",
   "id": "71a49f4f",
   "metadata": {},
   "source": [
    "### Data Aggregation"
   ]
  },
  {
   "cell_type": "markdown",
   "id": "a8914eb4",
   "metadata": {},
   "source": [
    "#### Check Unique Medication ID"
   ]
  },
  {
   "cell_type": "code",
   "execution_count": 73,
   "id": "45d6ca10",
   "metadata": {
    "ExecuteTime": {
     "end_time": "2022-08-31T09:08:07.658864Z",
     "start_time": "2022-08-31T09:08:07.644869Z"
    }
   },
   "outputs": [
    {
     "name": "stdout",
     "output_type": "stream",
     "text": [
      "330\n"
     ]
    }
   ],
   "source": [
    "print(df_booking_presciption[\"MDMedication_ID\"].nunique())"
   ]
  },
  {
   "cell_type": "markdown",
   "id": "3cc2acbc",
   "metadata": {
    "ExecuteTime": {
     "end_time": "2022-08-15T05:49:52.125018Z",
     "start_time": "2022-08-15T05:49:52.110089Z"
    }
   },
   "source": [
    "#### Check Unique Medication Name"
   ]
  },
  {
   "cell_type": "code",
   "execution_count": 74,
   "id": "a57bd200",
   "metadata": {
    "ExecuteTime": {
     "end_time": "2022-08-31T09:08:07.674822Z",
     "start_time": "2022-08-31T09:08:07.659827Z"
    }
   },
   "outputs": [
    {
     "name": "stdout",
     "output_type": "stream",
     "text": [
      "335\n"
     ]
    }
   ],
   "source": [
    "print(df_booking_presciption[\"MDMedication_name\"].nunique())"
   ]
  },
  {
   "cell_type": "markdown",
   "id": "7d6f3b09",
   "metadata": {
    "ExecuteTime": {
     "end_time": "2022-08-15T05:50:47.087155Z",
     "start_time": "2022-08-15T05:50:47.078178Z"
    }
   },
   "source": [
    "#### Check Unique prescription_quantity"
   ]
  },
  {
   "cell_type": "code",
   "execution_count": 75,
   "id": "bf8036f6",
   "metadata": {
    "ExecuteTime": {
     "end_time": "2022-08-31T09:08:07.689748Z",
     "start_time": "2022-08-31T09:08:07.675784Z"
    }
   },
   "outputs": [
    {
     "name": "stdout",
     "output_type": "stream",
     "text": [
      "50\n"
     ]
    }
   ],
   "source": [
    "print(df_booking_presciption[\"prescription_quantity\"].nunique())"
   ]
  },
  {
   "cell_type": "markdown",
   "id": "71205826",
   "metadata": {},
   "source": [
    "#### Roll up"
   ]
  },
  {
   "cell_type": "markdown",
   "id": "8d5d711d",
   "metadata": {},
   "source": [
    "The purpose here is to roll up all the diagnose of the same booking into one roll, while retaining all diagnosis info, by converting the information into a list."
   ]
  },
  {
   "cell_type": "code",
   "execution_count": 76,
   "id": "ce08056d",
   "metadata": {
    "ExecuteTime": {
     "end_time": "2022-08-31T09:08:07.705705Z",
     "start_time": "2022-08-31T09:08:07.690745Z"
    }
   },
   "outputs": [],
   "source": [
    "# get a dict of unique ID from booking  \n",
    "booking_ID_list = set(df_booking_presciption[\"booking_id\"])"
   ]
  },
  {
   "cell_type": "code",
   "execution_count": 77,
   "id": "2309f458",
   "metadata": {
    "ExecuteTime": {
     "end_time": "2022-08-31T09:08:07.720667Z",
     "start_time": "2022-08-31T09:08:07.706702Z"
    }
   },
   "outputs": [],
   "source": [
    "# initiate df to keep repeated medication for prescription\n",
    "col_list = df_booking_presciption.columns.tolist()\n",
    "df_repeat = pd.DataFrame(columns= col_list) "
   ]
  },
  {
   "cell_type": "code",
   "execution_count": 78,
   "id": "4ac33769",
   "metadata": {
    "ExecuteTime": {
     "end_time": "2022-08-31T09:08:28.564348Z",
     "start_time": "2022-08-31T09:08:07.721662Z"
    }
   },
   "outputs": [
    {
     "name": "stdout",
     "output_type": "stream",
     "text": [
      "TOTAL REPEATED MED ROWS:  24\n"
     ]
    }
   ],
   "source": [
    "medID_dup_list = pd.DataFrame(columns=[\"booking_id\",\"medicationID_list\", \"count_medication\", \"count_repeatmed\"])\n",
    "# to get a list of medication ID for each booking\n",
    "count_repeat_overall = 0\n",
    "for x in booking_ID_list:\n",
    "    count_repeat_booking = 1\n",
    "    temp_df = df_booking_presciption[df_booking_presciption[\"booking_id\"] == x]\n",
    "    temp_list = []\n",
    "    for index, row in temp_df.iterrows():\n",
    "        if row[\"MDMedication_ID\"] is not np.nan:\n",
    "            if (row[\"MDMedication_ID\"] not in temp_list):\n",
    "                temp_list.append(row[\"MDMedication_ID\"])\n",
    "            else:\n",
    "                count_repeat_booking += 1\n",
    "                count_repeat_overall += 1\n",
    "                df_repeat = df_repeat.append(row)\n",
    "                #print(\"Repeated: \", str(row), \"\\n\")\n",
    "             \n",
    "    medID_dup_list.at[x, \"booking_id\"] = x\n",
    "    medID_dup_list.at[x, \"medicationID_list\"] = temp_list\n",
    "    medID_dup_list.at[x, \"count_medication\"] = int(len(temp_list))\n",
    "    medID_dup_list.at[x, \"count_repeatmed\"] = int(count_repeat_booking)\n",
    "print(\"TOTAL REPEATED MED ROWS: \", str(count_repeat_overall))"
   ]
  },
  {
   "cell_type": "code",
   "execution_count": 79,
   "id": "11becac1",
   "metadata": {
    "ExecuteTime": {
     "end_time": "2022-08-31T09:08:46.893337Z",
     "start_time": "2022-08-31T09:08:28.565292Z"
    }
   },
   "outputs": [],
   "source": [
    "medName_dup_list = pd.DataFrame(columns=[\"booking_id\",\"medicationName_list\", \"count_medName\"])\n",
    "# to get a list of medication ID for each booking\n",
    "for x in booking_ID_list:\n",
    "    temp_df = df_booking_presciption[df_booking_presciption[\"booking_id\"] == x]\n",
    "    temp_list = []\n",
    "    for index, row in temp_df.iterrows():\n",
    "        #print(row[\"MDDiagnosis_name\"]) \n",
    "        if row[\"MDMedication_name\"] is not np.nan:\n",
    "            if (row[\"MDMedication_name\"] not in temp_list):\n",
    "                temp_list.append(row[\"MDMedication_name\"])\n",
    "             \n",
    "    medName_dup_list.at[x, \"booking_id\"] = x\n",
    "    medName_dup_list.at[x, \"medicationName_list\"] = temp_list\n",
    "    medName_dup_list.at[x, \"count_medName\"] = int(len(temp_list))"
   ]
  },
  {
   "cell_type": "code",
   "execution_count": 80,
   "id": "47d0ebd5",
   "metadata": {
    "ExecuteTime": {
     "end_time": "2022-08-31T09:09:05.165466Z",
     "start_time": "2022-08-31T09:08:46.894301Z"
    }
   },
   "outputs": [],
   "source": [
    "medquantity_dup_list = pd.DataFrame(columns=[\"booking_id\",\"medQuantity_list\", \"count_medQuantity\"])\n",
    "# to get a list of medication ID for each booking\n",
    "for x in booking_ID_list:\n",
    "    temp_df = df_booking_presciption[df_booking_presciption[\"booking_id\"] == x]\n",
    "    temp_list = []\n",
    "    check_list = []\n",
    "    for index, row in temp_df.iterrows():\n",
    "        if row[\"prescription_quantity\"] is not np.nan:\n",
    "            if (row[\"MDMedication_name\"] not in check_list):\n",
    "                check_list.append(row[\"MDMedication_name\"])\n",
    "                temp_list.append(row[\"prescription_quantity\"])\n",
    "    medquantity_dup_list.at[x, \"booking_id\"] = x\n",
    "    medquantity_dup_list.at[x, \"medQuantity_list\"] = temp_list\n",
    "    medquantity_dup_list.at[x, \"count_medQuantity\"] = int(len(temp_list))"
   ]
  },
  {
   "cell_type": "code",
   "execution_count": 81,
   "id": "d919d4b8",
   "metadata": {
    "ExecuteTime": {
     "end_time": "2022-08-31T09:09:23.465598Z",
     "start_time": "2022-08-31T09:09:05.166463Z"
    }
   },
   "outputs": [],
   "source": [
    "medAndQuan_dup_list = pd.DataFrame(columns=[\"booking_id\",\"medAndQuan_list\", \"medNQuanCount\"])\n",
    "# to get a list of medication ID for each booking\n",
    "for x in booking_ID_list:\n",
    "    temp_df = df_booking_presciption[df_booking_presciption[\"booking_id\"] == x]\n",
    "    temp_list = []\n",
    "    check_list = []\n",
    "    for index, row in temp_df.iterrows():\n",
    "        if row[\"prescription_quantity\"] is not np.nan:\n",
    "            if (row[\"MDMedication_name\"] not in check_list):\n",
    "                check_list.append(row[\"MDMedication_name\"])\n",
    "                temp_list.append(str(row[\"MDMedication_name\"]) + \"|||\" + str(row[\"prescription_quantity\"]))\n",
    "             \n",
    "    medAndQuan_dup_list.at[x, \"booking_id\"] = x\n",
    "    medAndQuan_dup_list.at[x, \"medAndQuan_list\"] = temp_list\n",
    "    medAndQuan_dup_list.at[x, \"medNQuanCount\"] = int(len(temp_list))"
   ]
  },
  {
   "cell_type": "code",
   "execution_count": 82,
   "id": "eb0b3e83",
   "metadata": {
    "ExecuteTime": {
     "end_time": "2022-08-31T09:09:23.481546Z",
     "start_time": "2022-08-31T09:09:23.474565Z"
    }
   },
   "outputs": [],
   "source": [
    "# Perform an inner join between the prescription name and code temp tables\n",
    "combine_data_med1 = pd.merge(medID_dup_list, medName_dup_list, how=\"inner\", on=[\"booking_id\"])"
   ]
  },
  {
   "cell_type": "code",
   "execution_count": 83,
   "id": "dc9dc213",
   "metadata": {
    "ExecuteTime": {
     "end_time": "2022-08-31T09:09:23.512430Z",
     "start_time": "2022-08-31T09:09:23.482509Z"
    }
   },
   "outputs": [],
   "source": [
    "# Perform an inner join between the above and quantity temp tables\n",
    "combine_data_med2 = pd.merge(combine_data_med1, medquantity_dup_list, how=\"inner\", on=[\"booking_id\"])"
   ]
  },
  {
   "cell_type": "code",
   "execution_count": 84,
   "id": "2f3af9f3",
   "metadata": {
    "ExecuteTime": {
     "end_time": "2022-08-31T09:09:23.527389Z",
     "start_time": "2022-08-31T09:09:23.513428Z"
    }
   },
   "outputs": [],
   "source": [
    "# Perform an inner join between the above and medication&quantity pairs temp tables\n",
    "combine_data_med3 = pd.merge(combine_data_med2, medAndQuan_dup_list, how=\"inner\", on=[\"booking_id\"])"
   ]
  },
  {
   "cell_type": "markdown",
   "id": "ed71106e",
   "metadata": {},
   "source": [
    "#### Finalise Prep"
   ]
  },
  {
   "cell_type": "code",
   "execution_count": 85,
   "id": "078bd056",
   "metadata": {
    "ExecuteTime": {
     "end_time": "2022-08-31T09:09:23.543347Z",
     "start_time": "2022-08-31T09:09:23.528387Z"
    }
   },
   "outputs": [],
   "source": [
    "col_list = [\"booking_id\",\"medicationID_list\",\"medicationName_list\",\"medQuantity_list\", \"medAndQuan_list\", \n",
    "            \"count_medication\", \"count_repeatmed\"]"
   ]
  },
  {
   "cell_type": "code",
   "execution_count": 86,
   "id": "be55ad5b",
   "metadata": {
    "ExecuteTime": {
     "end_time": "2022-08-31T09:09:23.558306Z",
     "start_time": "2022-08-31T09:09:23.544344Z"
    }
   },
   "outputs": [],
   "source": [
    "final_df_booking_presciption = combine_data_med3[col_list]"
   ]
  },
  {
   "cell_type": "code",
   "execution_count": 87,
   "id": "b1f49faf",
   "metadata": {
    "ExecuteTime": {
     "end_time": "2022-08-31T09:09:23.574263Z",
     "start_time": "2022-08-31T09:09:23.559305Z"
    }
   },
   "outputs": [
    {
     "name": "stdout",
     "output_type": "stream",
     "text": [
      "<class 'pandas.core.frame.DataFrame'>\n",
      "Int64Index: 7606 entries, 0 to 7605\n",
      "Data columns (total 7 columns):\n",
      " #   Column               Non-Null Count  Dtype \n",
      "---  ------               --------------  ----- \n",
      " 0   booking_id           7606 non-null   object\n",
      " 1   medicationID_list    7606 non-null   object\n",
      " 2   medicationName_list  7606 non-null   object\n",
      " 3   medQuantity_list     7606 non-null   object\n",
      " 4   medAndQuan_list      7606 non-null   object\n",
      " 5   count_medication     7606 non-null   object\n",
      " 6   count_repeatmed      7606 non-null   object\n",
      "dtypes: object(7)\n",
      "memory usage: 475.4+ KB\n"
     ]
    }
   ],
   "source": [
    "final_df_booking_presciption.info()"
   ]
  },
  {
   "cell_type": "code",
   "execution_count": 88,
   "id": "e77ab107",
   "metadata": {
    "ExecuteTime": {
     "end_time": "2022-08-31T09:09:23.589224Z",
     "start_time": "2022-08-31T09:09:23.575261Z"
    }
   },
   "outputs": [
    {
     "data": {
      "text/html": [
       "<div>\n",
       "<style scoped>\n",
       "    .dataframe tbody tr th:only-of-type {\n",
       "        vertical-align: middle;\n",
       "    }\n",
       "\n",
       "    .dataframe tbody tr th {\n",
       "        vertical-align: top;\n",
       "    }\n",
       "\n",
       "    .dataframe thead th {\n",
       "        text-align: right;\n",
       "    }\n",
       "</style>\n",
       "<table border=\"1\" class=\"dataframe\">\n",
       "  <thead>\n",
       "    <tr style=\"text-align: right;\">\n",
       "      <th></th>\n",
       "      <th>booking_id</th>\n",
       "      <th>medicationID_list</th>\n",
       "      <th>medicationName_list</th>\n",
       "      <th>medQuantity_list</th>\n",
       "      <th>medAndQuan_list</th>\n",
       "      <th>count_medication</th>\n",
       "      <th>count_repeatmed</th>\n",
       "    </tr>\n",
       "  </thead>\n",
       "  <tbody>\n",
       "    <tr>\n",
       "      <th>0</th>\n",
       "      <td>DC93593E-DCE1-4527-970A-118BF107BC2E</td>\n",
       "      <td>[1A190BBB-8C24-4E30-8125-8B25BFD3FE42]</td>\n",
       "      <td>[* Fusidic Acid 2% /Betamethasone Valerate 0.1% cream (5g) (Fucicort)]</td>\n",
       "      <td>[1.0]</td>\n",
       "      <td>[* Fusidic Acid 2% /Betamethasone Valerate 0.1% cream (5g) (Fucicort)|||1.0]</td>\n",
       "      <td>1</td>\n",
       "      <td>1</td>\n",
       "    </tr>\n",
       "    <tr>\n",
       "      <th>1</th>\n",
       "      <td>8E858016-AE8C-415A-8107-B796BDD69DA8</td>\n",
       "      <td>[C56B89D0-BA5A-4B60-A156-0CB20FBE56E0, 472C187F-FD51-45B6-9C4A-2F75BAF63CAE, A9AC45A0-5E2E-4FEF-B244-3DFCAD178132, 60CC1143-AFF5-4690-A9A3-9414A01037E6]</td>\n",
       "      <td>[Acetylcysteine 600mg Effervescent tab (Sandoz), Dextromethorphan 15mg/5ml syrup (90ml) (Tussidex), MAC Dual Action Lozenges, Cetirizine 10mg tab (Adezio)]</td>\n",
       "      <td>[10.0, 1.0, 12.0, 10.0]</td>\n",
       "      <td>[Acetylcysteine 600mg Effervescent tab (Sandoz)|||10.0, Dextromethorphan 15mg/5ml syrup (90ml) (Tussidex)|||1.0, MAC Dual Action Lozenges|||12.0, Cetirizine 10mg tab (Adezio)|||10.0]</td>\n",
       "      <td>4</td>\n",
       "      <td>1</td>\n",
       "    </tr>\n",
       "    <tr>\n",
       "      <th>2</th>\n",
       "      <td>1FA8669F-F9E3-4C9F-B4F4-D5FAA562C87C</td>\n",
       "      <td>[B82D9685-75DA-4AC0-8DC5-38C7DF3B1E59]</td>\n",
       "      <td>[Metronidazole 200mg tab]</td>\n",
       "      <td>[30.0]</td>\n",
       "      <td>[Metronidazole 200mg tab|||30.0]</td>\n",
       "      <td>1</td>\n",
       "      <td>1</td>\n",
       "    </tr>\n",
       "  </tbody>\n",
       "</table>\n",
       "</div>"
      ],
      "text/plain": [
       "                             booking_id  \\\n",
       "0  DC93593E-DCE1-4527-970A-118BF107BC2E   \n",
       "1  8E858016-AE8C-415A-8107-B796BDD69DA8   \n",
       "2  1FA8669F-F9E3-4C9F-B4F4-D5FAA562C87C   \n",
       "\n",
       "                                                                                                                                          medicationID_list  \\\n",
       "0                                                                                                                    [1A190BBB-8C24-4E30-8125-8B25BFD3FE42]   \n",
       "1  [C56B89D0-BA5A-4B60-A156-0CB20FBE56E0, 472C187F-FD51-45B6-9C4A-2F75BAF63CAE, A9AC45A0-5E2E-4FEF-B244-3DFCAD178132, 60CC1143-AFF5-4690-A9A3-9414A01037E6]   \n",
       "2                                                                                                                    [B82D9685-75DA-4AC0-8DC5-38C7DF3B1E59]   \n",
       "\n",
       "                                                                                                                                           medicationName_list  \\\n",
       "0                                                                                       [* Fusidic Acid 2% /Betamethasone Valerate 0.1% cream (5g) (Fucicort)]   \n",
       "1  [Acetylcysteine 600mg Effervescent tab (Sandoz), Dextromethorphan 15mg/5ml syrup (90ml) (Tussidex), MAC Dual Action Lozenges, Cetirizine 10mg tab (Adezio)]   \n",
       "2                                                                                                                                    [Metronidazole 200mg tab]   \n",
       "\n",
       "          medQuantity_list  \\\n",
       "0                    [1.0]   \n",
       "1  [10.0, 1.0, 12.0, 10.0]   \n",
       "2                   [30.0]   \n",
       "\n",
       "                                                                                                                                                                          medAndQuan_list  \\\n",
       "0                                                                                                            [* Fusidic Acid 2% /Betamethasone Valerate 0.1% cream (5g) (Fucicort)|||1.0]   \n",
       "1  [Acetylcysteine 600mg Effervescent tab (Sandoz)|||10.0, Dextromethorphan 15mg/5ml syrup (90ml) (Tussidex)|||1.0, MAC Dual Action Lozenges|||12.0, Cetirizine 10mg tab (Adezio)|||10.0]   \n",
       "2                                                                                                                                                        [Metronidazole 200mg tab|||30.0]   \n",
       "\n",
       "  count_medication count_repeatmed  \n",
       "0                1               1  \n",
       "1                4               1  \n",
       "2                1               1  "
      ]
     },
     "execution_count": 88,
     "metadata": {},
     "output_type": "execute_result"
    }
   ],
   "source": [
    "final_df_booking_presciption.head(3)"
   ]
  },
  {
   "cell_type": "markdown",
   "id": "2358b944",
   "metadata": {},
   "source": [
    "#### Save intermediate Output"
   ]
  },
  {
   "cell_type": "code",
   "execution_count": 89,
   "id": "6bf451af",
   "metadata": {
    "ExecuteTime": {
     "end_time": "2022-08-31T09:09:23.605181Z",
     "start_time": "2022-08-31T09:09:23.590222Z"
    }
   },
   "outputs": [],
   "source": [
    "# Export data \n",
    "final_df_booking_presciption.to_pickle(\"step1_booking_prescription.pkl\")"
   ]
  },
  {
   "cell_type": "markdown",
   "id": "a82b1236",
   "metadata": {},
   "source": [
    "<span class=\"burk\">**COMPLETE STEP1 FOR BOOKING PRESCRIPTION**</span>"
   ]
  },
  {
   "cell_type": "markdown",
   "id": "60112ca7",
   "metadata": {
    "ExecuteTime": {
     "end_time": "2022-08-15T03:35:27.015142Z",
     "start_time": "2022-08-15T03:35:27.007153Z"
    }
   },
   "source": [
    "## Step1c - Prep & Clean Booking Symptoms"
   ]
  },
  {
   "cell_type": "markdown",
   "id": "9eaa251c",
   "metadata": {},
   "source": [
    "### Import booking symptoms data"
   ]
  },
  {
   "cell_type": "code",
   "execution_count": 90,
   "id": "c39339d6",
   "metadata": {
    "ExecuteTime": {
     "end_time": "2022-08-31T09:09:23.636101Z",
     "start_time": "2022-08-31T09:09:23.606191Z"
    }
   },
   "outputs": [
    {
     "name": "stdout",
     "output_type": "stream",
     "text": [
      "Input:  tbl_Booking_Symptoms_test.csv \n",
      "\n",
      "<class 'pandas.core.frame.DataFrame'>\n",
      "Int64Index: 15263 entries, 0 to 15262\n",
      "Data columns (total 3 columns):\n",
      " #   Column          Non-Null Count  Dtype \n",
      "---  ------          --------------  ----- \n",
      " 0   booking_id      15263 non-null  object\n",
      " 1   MDSymptom_id    15263 non-null  object\n",
      " 2   MDSymptom_name  15263 non-null  object\n",
      "dtypes: object(3)\n",
      "memory usage: 477.0+ KB\n",
      "None \n",
      "\n",
      "Shape of data:  (15263, 3)\n"
     ]
    }
   ],
   "source": [
    "# import new booking symptoms\n",
    "print(\"Input: \", FILE_SYMPTOMS, \"\\n\") \n",
    "df_booking_symptoms = pd.read_csv(FILE_SYMPTOMS)\n",
    "df_booking_symptoms = df_booking_symptoms[df_booking_symptoms['booking_id'].isin(booking_list)]\n",
    "print(df_booking_symptoms.info(), \"\\n\") \n",
    "print(\"Shape of data: \", df_booking_symptoms.shape)"
   ]
  },
  {
   "cell_type": "code",
   "execution_count": 91,
   "id": "f64ea92b",
   "metadata": {
    "ExecuteTime": {
     "end_time": "2022-08-31T09:09:23.681014Z",
     "start_time": "2022-08-31T09:09:23.637095Z"
    }
   },
   "outputs": [
    {
     "name": "stdout",
     "output_type": "stream",
     "text": [
      "Input:  tbl_Booking_Symptoms.csv \n",
      "\n",
      "<class 'pandas.core.frame.DataFrame'>\n",
      "Int64Index: 3826 entries, 27 to 18089\n",
      "Data columns (total 3 columns):\n",
      " #   Column          Non-Null Count  Dtype \n",
      "---  ------          --------------  ----- \n",
      " 0   booking_id      3826 non-null   object\n",
      " 1   MDSymptom_id    3826 non-null   object\n",
      " 2   MDSymptom_name  3826 non-null   object\n",
      "dtypes: object(3)\n",
      "memory usage: 119.6+ KB\n",
      "None \n",
      "\n",
      "Shape of data:  (3826, 3)\n"
     ]
    }
   ],
   "source": [
    "# import old booking symptoms\n",
    "if TESTING==1 and MODEL_TYPE_MEMBER ==1:\n",
    "    print(\"Input: \", FILE_SYMPTOMS_OLD, \"\\n\") \n",
    "    df_booking_symptoms_old = pd.read_csv(FILE_SYMPTOMS_OLD)\n",
    "    df_booking_symptoms_old = df_booking_symptoms_old[df_booking_symptoms_old['booking_id'].isin(booking_list)]\n",
    "    print(df_booking_symptoms_old.info(), \"\\n\")\n",
    "    print(\"Shape of data: \", df_booking_symptoms_old.shape)"
   ]
  },
  {
   "cell_type": "code",
   "execution_count": 92,
   "id": "1eee1ae9",
   "metadata": {
    "ExecuteTime": {
     "end_time": "2022-08-31T09:09:23.695939Z",
     "start_time": "2022-08-31T09:09:23.681976Z"
    }
   },
   "outputs": [
    {
     "name": "stdout",
     "output_type": "stream",
     "text": [
      "COMBINED: \n",
      "<class 'pandas.core.frame.DataFrame'>\n",
      "Int64Index: 19089 entries, 0 to 18089\n",
      "Data columns (total 3 columns):\n",
      " #   Column          Non-Null Count  Dtype \n",
      "---  ------          --------------  ----- \n",
      " 0   booking_id      19089 non-null  object\n",
      " 1   MDSymptom_id    19089 non-null  object\n",
      " 2   MDSymptom_name  19089 non-null  object\n",
      "dtypes: object(3)\n",
      "memory usage: 596.5+ KB\n",
      "None \n",
      "\n",
      "Shape of data:  (19089, 3)\n"
     ]
    }
   ],
   "source": [
    "if TESTING ==1 and MODEL_TYPE_MEMBER ==1:\n",
    "    df_booking_symptoms = pd.concat([df_booking_symptoms, df_booking_symptoms_old], axis=0)\n",
    "    print(\"COMBINED: \")\n",
    "    print(df_booking_symptoms.info(), \"\\n\")\n",
    "    print(\"Shape of data: \", df_booking_symptoms.shape)"
   ]
  },
  {
   "cell_type": "markdown",
   "id": "75feec47",
   "metadata": {},
   "source": [
    "### Summary Statistics"
   ]
  },
  {
   "cell_type": "code",
   "execution_count": 93,
   "id": "5e5a516b",
   "metadata": {
    "ExecuteTime": {
     "end_time": "2022-08-31T09:09:23.727854Z",
     "start_time": "2022-08-31T09:09:23.696937Z"
    }
   },
   "outputs": [
    {
     "name": "stdout",
     "output_type": "stream",
     "text": [
      "Basic Data Summary\n"
     ]
    },
    {
     "data": {
      "text/html": [
       "<div>\n",
       "<style scoped>\n",
       "    .dataframe tbody tr th:only-of-type {\n",
       "        vertical-align: middle;\n",
       "    }\n",
       "\n",
       "    .dataframe tbody tr th {\n",
       "        vertical-align: top;\n",
       "    }\n",
       "\n",
       "    .dataframe thead th {\n",
       "        text-align: right;\n",
       "    }\n",
       "</style>\n",
       "<table border=\"1\" class=\"dataframe\">\n",
       "  <thead>\n",
       "    <tr style=\"text-align: right;\">\n",
       "      <th></th>\n",
       "      <th>count</th>\n",
       "      <th>unique</th>\n",
       "      <th>top</th>\n",
       "      <th>freq</th>\n",
       "    </tr>\n",
       "  </thead>\n",
       "  <tbody>\n",
       "    <tr>\n",
       "      <th>booking_id</th>\n",
       "      <td>19089</td>\n",
       "      <td>8870</td>\n",
       "      <td>B4D8998D-E528-4725-91C6-F9F6E54A3DC0</td>\n",
       "      <td>10</td>\n",
       "    </tr>\n",
       "    <tr>\n",
       "      <th>MDSymptom_id</th>\n",
       "      <td>19089</td>\n",
       "      <td>20</td>\n",
       "      <td>A518BD9F-95E0-411F-B058-F4DEA6AD1884</td>\n",
       "      <td>3506</td>\n",
       "    </tr>\n",
       "    <tr>\n",
       "      <th>MDSymptom_name</th>\n",
       "      <td>19089</td>\n",
       "      <td>20</td>\n",
       "      <td>others</td>\n",
       "      <td>3506</td>\n",
       "    </tr>\n",
       "  </tbody>\n",
       "</table>\n",
       "</div>"
      ],
      "text/plain": [
       "                count unique                                   top  freq\n",
       "booking_id      19089   8870  B4D8998D-E528-4725-91C6-F9F6E54A3DC0    10\n",
       "MDSymptom_id    19089     20  A518BD9F-95E0-411F-B058-F4DEA6AD1884  3506\n",
       "MDSymptom_name  19089     20                                others  3506"
      ]
     },
     "execution_count": 93,
     "metadata": {},
     "output_type": "execute_result"
    }
   ],
   "source": [
    "print(\"Basic Data Summary\")\n",
    "df_booking_symptoms.describe().transpose()"
   ]
  },
  {
   "cell_type": "code",
   "execution_count": 94,
   "id": "a2516e0a",
   "metadata": {
    "ExecuteTime": {
     "end_time": "2022-08-31T09:09:23.742814Z",
     "start_time": "2022-08-31T09:09:23.728850Z"
    }
   },
   "outputs": [
    {
     "name": "stdout",
     "output_type": "stream",
     "text": [
      "Unique value count for each column\n"
     ]
    },
    {
     "data": {
      "text/html": [
       "<div>\n",
       "<style scoped>\n",
       "    .dataframe tbody tr th:only-of-type {\n",
       "        vertical-align: middle;\n",
       "    }\n",
       "\n",
       "    .dataframe tbody tr th {\n",
       "        vertical-align: top;\n",
       "    }\n",
       "\n",
       "    .dataframe thead th {\n",
       "        text-align: right;\n",
       "    }\n",
       "</style>\n",
       "<table border=\"1\" class=\"dataframe\">\n",
       "  <thead>\n",
       "    <tr style=\"text-align: right;\">\n",
       "      <th></th>\n",
       "      <th>name</th>\n",
       "      <th>uniquecount</th>\n",
       "    </tr>\n",
       "  </thead>\n",
       "  <tbody>\n",
       "    <tr>\n",
       "      <th>0</th>\n",
       "      <td>booking_id</td>\n",
       "      <td>8870</td>\n",
       "    </tr>\n",
       "    <tr>\n",
       "      <th>1</th>\n",
       "      <td>MDSymptom_id</td>\n",
       "      <td>20</td>\n",
       "    </tr>\n",
       "    <tr>\n",
       "      <th>2</th>\n",
       "      <td>MDSymptom_name</td>\n",
       "      <td>20</td>\n",
       "    </tr>\n",
       "  </tbody>\n",
       "</table>\n",
       "</div>"
      ],
      "text/plain": [
       "             name  uniquecount\n",
       "0      booking_id         8870\n",
       "1    MDSymptom_id           20\n",
       "2  MDSymptom_name           20"
      ]
     },
     "execution_count": 94,
     "metadata": {},
     "output_type": "execute_result"
    }
   ],
   "source": [
    "print(\"Unique value count for each column\")\n",
    "count_unique(df_booking_symptoms)"
   ]
  },
  {
   "cell_type": "markdown",
   "id": "c67c4bb4",
   "metadata": {},
   "source": [
    "### Missing Value Checks"
   ]
  },
  {
   "cell_type": "code",
   "execution_count": 95,
   "id": "5fb21d9c",
   "metadata": {
    "ExecuteTime": {
     "end_time": "2022-08-31T09:09:23.757774Z",
     "start_time": "2022-08-31T09:09:23.743811Z"
    }
   },
   "outputs": [
    {
     "name": "stdout",
     "output_type": "stream",
     "text": [
      "number of null: \n"
     ]
    },
    {
     "data": {
      "text/plain": [
       "booking_id        0\n",
       "MDSymptom_id      0\n",
       "MDSymptom_name    0\n",
       "dtype: int64"
      ]
     },
     "execution_count": 95,
     "metadata": {},
     "output_type": "execute_result"
    }
   ],
   "source": [
    "print(\"number of null: \")\n",
    "df_booking_symptoms.isnull().sum()"
   ]
  },
  {
   "cell_type": "markdown",
   "id": "39141d09",
   "metadata": {},
   "source": [
    "<span class=\"mark\">IMPORTANT: \n",
    "If there is missing value, pls handle and correct accordingly.</span>"
   ]
  },
  {
   "cell_type": "markdown",
   "id": "773ea7ae",
   "metadata": {},
   "source": [
    "### Basic Cleaning"
   ]
  },
  {
   "cell_type": "markdown",
   "id": "51f4b4c5",
   "metadata": {},
   "source": [
    "#### Change text to all lower case"
   ]
  },
  {
   "cell_type": "code",
   "execution_count": 96,
   "id": "b2ebd7da",
   "metadata": {
    "ExecuteTime": {
     "end_time": "2022-08-31T09:09:23.773765Z",
     "start_time": "2022-08-31T09:09:23.758771Z"
    }
   },
   "outputs": [],
   "source": [
    "df_booking_symptoms['MDSymptom_name'] = df_booking_symptoms['MDSymptom_name'].str.lower()"
   ]
  },
  {
   "cell_type": "markdown",
   "id": "40a46dbd",
   "metadata": {},
   "source": [
    "#### Remove comma, replace with semi-colon "
   ]
  },
  {
   "cell_type": "code",
   "execution_count": 97,
   "id": "60c8c253",
   "metadata": {
    "ExecuteTime": {
     "end_time": "2022-08-31T09:09:23.789689Z",
     "start_time": "2022-08-31T09:09:23.774728Z"
    }
   },
   "outputs": [],
   "source": [
    "df_booking_symptoms.MDSymptom_name = df_booking_symptoms.MDSymptom_name.str.replace(',', ';')"
   ]
  },
  {
   "cell_type": "markdown",
   "id": "60e40b71",
   "metadata": {
    "ExecuteTime": {
     "end_time": "2022-08-15T04:34:45.328908Z",
     "start_time": "2022-08-15T04:34:45.320883Z"
    }
   },
   "source": [
    "#### Check and remove duplicates"
   ]
  },
  {
   "cell_type": "code",
   "execution_count": 98,
   "id": "c31aad08",
   "metadata": {
    "ExecuteTime": {
     "end_time": "2022-08-31T09:09:23.804648Z",
     "start_time": "2022-08-31T09:09:23.790686Z"
    }
   },
   "outputs": [
    {
     "name": "stdout",
     "output_type": "stream",
     "text": [
      "number of duplicate to drop:  0\n"
     ]
    }
   ],
   "source": [
    "print(\"number of duplicate to drop: \", df_booking_symptoms.duplicated().sum())"
   ]
  },
  {
   "cell_type": "code",
   "execution_count": 99,
   "id": "9d8e8a73",
   "metadata": {
    "ExecuteTime": {
     "end_time": "2022-08-31T09:09:23.819617Z",
     "start_time": "2022-08-31T09:09:23.805647Z"
    }
   },
   "outputs": [],
   "source": [
    "# to drop duplicates \n",
    "if df_booking_symptoms.duplicated().sum() > 0:\n",
    "    df_booking_symptoms = df_booking_symptoms.drop_duplicates()"
   ]
  },
  {
   "cell_type": "markdown",
   "id": "e0d5761e",
   "metadata": {},
   "source": [
    "### Update Data Types"
   ]
  },
  {
   "cell_type": "markdown",
   "id": "dbcfe37c",
   "metadata": {},
   "source": [
    "#### Change data types for categorical data"
   ]
  },
  {
   "cell_type": "code",
   "execution_count": 100,
   "id": "bcf1473c",
   "metadata": {
    "ExecuteTime": {
     "end_time": "2022-08-31T09:09:23.835566Z",
     "start_time": "2022-08-31T09:09:23.820606Z"
    }
   },
   "outputs": [],
   "source": [
    "df_booking_symptoms['MDSymptom_id'] = df_booking_symptoms['MDSymptom_id'].astype(\"category\")"
   ]
  },
  {
   "cell_type": "code",
   "execution_count": 101,
   "id": "7d440dbb",
   "metadata": {
    "ExecuteTime": {
     "end_time": "2022-08-31T09:09:23.851553Z",
     "start_time": "2022-08-31T09:09:23.836563Z"
    }
   },
   "outputs": [],
   "source": [
    "df_booking_symptoms['MDSymptom_name'] = df_booking_symptoms['MDSymptom_name'].astype(\"category\")"
   ]
  },
  {
   "cell_type": "code",
   "execution_count": 102,
   "id": "3084a0f6",
   "metadata": {
    "ExecuteTime": {
     "end_time": "2022-08-31T09:09:23.866484Z",
     "start_time": "2022-08-31T09:09:23.852520Z"
    },
    "scrolled": false
   },
   "outputs": [
    {
     "name": "stdout",
     "output_type": "stream",
     "text": [
      "<class 'pandas.core.frame.DataFrame'>\n",
      "Int64Index: 19089 entries, 0 to 18089\n",
      "Data columns (total 3 columns):\n",
      " #   Column          Non-Null Count  Dtype   \n",
      "---  ------          --------------  -----   \n",
      " 0   booking_id      19089 non-null  object  \n",
      " 1   MDSymptom_id    19089 non-null  category\n",
      " 2   MDSymptom_name  19089 non-null  category\n",
      "dtypes: category(2), object(1)\n",
      "memory usage: 336.9+ KB\n"
     ]
    }
   ],
   "source": [
    "df_booking_symptoms.info()"
   ]
  },
  {
   "cell_type": "code",
   "execution_count": 103,
   "id": "460628b2",
   "metadata": {
    "ExecuteTime": {
     "end_time": "2022-08-31T09:09:23.881445Z",
     "start_time": "2022-08-31T09:09:23.867480Z"
    }
   },
   "outputs": [
    {
     "name": "stdout",
     "output_type": "stream",
     "text": [
      "List of Chronic Disease:\n"
     ]
    },
    {
     "data": {
      "text/plain": [
       "['vomiting',\n",
       " 'diarrhoea',\n",
       " 'others',\n",
       " 'sore throat',\n",
       " 'flu',\n",
       " 'cough',\n",
       " 'cold',\n",
       " 'fever',\n",
       " 'headache',\n",
       " 'giddiness',\n",
       " 'cold sores',\n",
       " 'rash',\n",
       " 'medical referral',\n",
       " 'chronic medicine top-up',\n",
       " 'discuss lab results',\n",
       " 'chronic illness management',\n",
       " 'ulcer under tongue',\n",
       " 'skin growth on sole (foot)',\n",
       " 'runny nose',\n",
       " 'vertigo']"
      ]
     },
     "execution_count": 103,
     "metadata": {},
     "output_type": "execute_result"
    }
   ],
   "source": [
    "print(\"List of Chronic Disease:\")\n",
    "df_booking_symptoms['MDSymptom_name'].unique().tolist()"
   ]
  },
  {
   "cell_type": "markdown",
   "id": "8a620a8e",
   "metadata": {},
   "source": [
    "### Check OntoOne Mapping"
   ]
  },
  {
   "cell_type": "markdown",
   "id": "9078576f",
   "metadata": {},
   "source": [
    "#### Check by ID"
   ]
  },
  {
   "cell_type": "code",
   "execution_count": 104,
   "id": "493bee0e",
   "metadata": {
    "ExecuteTime": {
     "end_time": "2022-08-31T09:09:23.913358Z",
     "start_time": "2022-08-31T09:09:23.882441Z"
    }
   },
   "outputs": [
    {
     "data": {
      "text/plain": [
       "MDSymptom_name    0\n",
       "dtype: int64"
      ]
     },
     "execution_count": 104,
     "metadata": {},
     "output_type": "execute_result"
    }
   ],
   "source": [
    "g = df_booking_symptoms[['MDSymptom_id', 'MDSymptom_name']].groupby('MDSymptom_id')\n",
    "counts = g.transform(lambda x: len(x.unique()))\n",
    "(counts>1).sum()"
   ]
  },
  {
   "cell_type": "markdown",
   "id": "c2f4b27d",
   "metadata": {},
   "source": [
    "#### Check by Name"
   ]
  },
  {
   "cell_type": "code",
   "execution_count": 105,
   "id": "27696f71",
   "metadata": {
    "ExecuteTime": {
     "end_time": "2022-08-31T09:09:23.943320Z",
     "start_time": "2022-08-31T09:09:23.914355Z"
    }
   },
   "outputs": [
    {
     "data": {
      "text/plain": [
       "MDSymptom_id    0\n",
       "dtype: int64"
      ]
     },
     "execution_count": 105,
     "metadata": {},
     "output_type": "execute_result"
    }
   ],
   "source": [
    "g2 = df_booking_symptoms[['MDSymptom_id', 'MDSymptom_name']].groupby('MDSymptom_name')\n",
    "counts2 = g2.transform(lambda x: len(x.unique()))\n",
    "(counts2>1).sum()"
   ]
  },
  {
   "cell_type": "markdown",
   "id": "fa107a8b",
   "metadata": {},
   "source": [
    "<span class=\"mark\">IMPORTANT: \n",
    "Please verify data if above shows that there is duplicate mapping.</span> "
   ]
  },
  {
   "cell_type": "markdown",
   "id": "26b77106",
   "metadata": {},
   "source": [
    "### Data Aggregation"
   ]
  },
  {
   "cell_type": "markdown",
   "id": "01bac7a5",
   "metadata": {},
   "source": [
    "#### Check unique symptoms ID"
   ]
  },
  {
   "cell_type": "code",
   "execution_count": 106,
   "id": "bd46f82a",
   "metadata": {
    "ExecuteTime": {
     "end_time": "2022-08-31T09:09:23.958238Z",
     "start_time": "2022-08-31T09:09:23.944275Z"
    }
   },
   "outputs": [
    {
     "name": "stdout",
     "output_type": "stream",
     "text": [
      "20\n"
     ]
    }
   ],
   "source": [
    "print(df_booking_symptoms[\"MDSymptom_id\"].nunique())"
   ]
  },
  {
   "cell_type": "markdown",
   "id": "5b731767",
   "metadata": {},
   "source": [
    "#### Check unique symptoms Name"
   ]
  },
  {
   "cell_type": "code",
   "execution_count": 107,
   "id": "6716a742",
   "metadata": {
    "ExecuteTime": {
     "end_time": "2022-08-31T09:09:23.973232Z",
     "start_time": "2022-08-31T09:09:23.959237Z"
    }
   },
   "outputs": [
    {
     "name": "stdout",
     "output_type": "stream",
     "text": [
      "20\n"
     ]
    }
   ],
   "source": [
    "print(df_booking_symptoms[\"MDSymptom_name\"].nunique())"
   ]
  },
  {
   "cell_type": "code",
   "execution_count": 108,
   "id": "6592aec3",
   "metadata": {
    "ExecuteTime": {
     "end_time": "2022-08-31T09:09:23.989182Z",
     "start_time": "2022-08-31T09:09:23.974194Z"
    }
   },
   "outputs": [
    {
     "name": "stdout",
     "output_type": "stream",
     "text": [
      "others                        3506\n",
      "headache                      2355\n",
      "giddiness                     2203\n",
      "sore throat                   1404\n",
      "cough                         1380\n",
      "flu                           1376\n",
      "cold                          1330\n",
      "diarrhoea                     1291\n",
      "vomiting                      1245\n",
      "fever                         1113\n",
      "rash                           448\n",
      "cold sores                     430\n",
      "discuss lab results            335\n",
      "medical referral               318\n",
      "chronic medicine top-up        311\n",
      "chronic illness management      40\n",
      "runny nose                       1\n",
      "skin growth on sole (foot)       1\n",
      "ulcer under tongue               1\n",
      "vertigo                          1\n",
      "Name: MDSymptom_name, dtype: int64\n"
     ]
    }
   ],
   "source": [
    "print(df_booking_symptoms[\"MDSymptom_name\"].value_counts())"
   ]
  },
  {
   "cell_type": "code",
   "execution_count": 109,
   "id": "5feb63a7",
   "metadata": {
    "ExecuteTime": {
     "end_time": "2022-08-31T09:09:24.005112Z",
     "start_time": "2022-08-31T09:09:23.990152Z"
    }
   },
   "outputs": [
    {
     "name": "stdout",
     "output_type": "stream",
     "text": [
      "others                        18.366599\n",
      "headache                      12.336948\n",
      "giddiness                     11.540678\n",
      "sore throat                    7.355021\n",
      "cough                          7.229294\n",
      "flu                            7.208340\n",
      "cold                           6.967363\n",
      "diarrhoea                      6.763057\n",
      "vomiting                       6.522081\n",
      "fever                          5.830583\n",
      "rash                           2.346901\n",
      "cold sores                     2.252606\n",
      "discuss lab results            1.754937\n",
      "medical referral               1.665881\n",
      "chronic medicine top-up        1.629211\n",
      "chronic illness management     0.209545\n",
      "runny nose                     0.005239\n",
      "skin growth on sole (foot)     0.005239\n",
      "ulcer under tongue             0.005239\n",
      "vertigo                        0.005239\n",
      "Name: MDSymptom_name, dtype: float64\n"
     ]
    }
   ],
   "source": [
    "print(df_booking_symptoms[\"MDSymptom_name\"].value_counts(normalize=True)*100)"
   ]
  },
  {
   "cell_type": "markdown",
   "id": "11cd515f",
   "metadata": {},
   "source": [
    "#### Roll up"
   ]
  },
  {
   "cell_type": "code",
   "execution_count": 110,
   "id": "498f495f",
   "metadata": {
    "ExecuteTime": {
     "end_time": "2022-08-31T09:09:24.020073Z",
     "start_time": "2022-08-31T09:09:24.006110Z"
    }
   },
   "outputs": [],
   "source": [
    "# get a dict of unique ID from booking  \n",
    "booking_ID_list = set(df_booking_symptoms[\"booking_id\"])"
   ]
  },
  {
   "cell_type": "code",
   "execution_count": 111,
   "id": "6847dee4",
   "metadata": {
    "ExecuteTime": {
     "end_time": "2022-08-31T09:09:45.916549Z",
     "start_time": "2022-08-31T09:09:24.021070Z"
    }
   },
   "outputs": [],
   "source": [
    "smyID_dup_list = pd.DataFrame(columns=[\"booking_id\",\"SymptomID_list\", \"count_SymID\"])\n",
    "# to get a list of diagnosis name for each booking\n",
    "for x in booking_ID_list:\n",
    "    temp_df = df_booking_symptoms[df_booking_symptoms[\"booking_id\"] == x]\n",
    "    tmp_list = []\n",
    "    for index, row in temp_df.iterrows():\n",
    "        #print(row[\"MDDiagnosis_name\"]) \n",
    "        if row[\"MDSymptom_id\"] is not np.nan:\n",
    "            if (row[\"MDSymptom_id\"] not in tmp_list):\n",
    "                tmp_list.append(row[\"MDSymptom_id\"])\n",
    "             \n",
    "    smyID_dup_list.at[x, \"booking_id\"] = x\n",
    "    smyID_dup_list.at[x, \"SymptomID_list\"] = tmp_list\n",
    "    smyID_dup_list.at[x, \"count_SymID\"] = int(len(tmp_list))"
   ]
  },
  {
   "cell_type": "code",
   "execution_count": 112,
   "id": "bb74ff45",
   "metadata": {
    "ExecuteTime": {
     "end_time": "2022-08-31T09:10:06.083212Z",
     "start_time": "2022-08-31T09:09:45.917547Z"
    }
   },
   "outputs": [],
   "source": [
    "smyName_dup_list = pd.DataFrame(columns=[\"booking_id\",\"SymptomName_list\", \"count_SymName\"])\n",
    "# to get a list of diagnosis name for each booking\n",
    "for x in booking_ID_list:\n",
    "    temp_df = df_booking_symptoms[df_booking_symptoms[\"booking_id\"] == x]\n",
    "    tmp_list = []\n",
    "    for index, row in temp_df.iterrows():\n",
    "        #print(row[\"MDDiagnosis_name\"]) \n",
    "        if row[\"MDSymptom_name\"] is not np.nan:\n",
    "            if (row[\"MDSymptom_name\"] not in tmp_list):\n",
    "                tmp_list.append(row[\"MDSymptom_name\"])\n",
    "             \n",
    "    smyName_dup_list.at[x, \"booking_id\"] = x\n",
    "    smyName_dup_list.at[x, \"SymptomName_list\"] = tmp_list\n",
    "    smyName_dup_list.at[x, \"count_SymName\"] = int(len(tmp_list))"
   ]
  },
  {
   "cell_type": "markdown",
   "id": "243ac72b",
   "metadata": {},
   "source": [
    "### Finalise Prep"
   ]
  },
  {
   "cell_type": "code",
   "execution_count": 113,
   "id": "be408827",
   "metadata": {
    "ExecuteTime": {
     "end_time": "2022-08-31T09:10:06.099170Z",
     "start_time": "2022-08-31T09:10:06.084210Z"
    }
   },
   "outputs": [],
   "source": [
    "# Perform an inner join between the diagnosis name and code temp tables\n",
    "combine_data_symp = pd.merge(smyID_dup_list, smyName_dup_list, how=\"inner\", on=[\"booking_id\"])"
   ]
  },
  {
   "cell_type": "code",
   "execution_count": 114,
   "id": "0422f194",
   "metadata": {
    "ExecuteTime": {
     "end_time": "2022-08-31T09:10:06.115127Z",
     "start_time": "2022-08-31T09:10:06.100167Z"
    }
   },
   "outputs": [],
   "source": [
    "final_df_booking_symptoms = combine_data_symp[[\"booking_id\",\"SymptomID_list\",\"SymptomName_list\",\n",
    "                              \"count_SymID\"]]"
   ]
  },
  {
   "cell_type": "code",
   "execution_count": 115,
   "id": "38dc8c12",
   "metadata": {
    "ExecuteTime": {
     "end_time": "2022-08-31T09:10:06.130086Z",
     "start_time": "2022-08-31T09:10:06.116123Z"
    }
   },
   "outputs": [
    {
     "name": "stdout",
     "output_type": "stream",
     "text": [
      "<class 'pandas.core.frame.DataFrame'>\n",
      "Int64Index: 8870 entries, 0 to 8869\n",
      "Data columns (total 4 columns):\n",
      " #   Column            Non-Null Count  Dtype \n",
      "---  ------            --------------  ----- \n",
      " 0   booking_id        8870 non-null   object\n",
      " 1   SymptomID_list    8870 non-null   object\n",
      " 2   SymptomName_list  8870 non-null   object\n",
      " 3   count_SymID       8870 non-null   object\n",
      "dtypes: object(4)\n",
      "memory usage: 346.5+ KB\n"
     ]
    }
   ],
   "source": [
    "final_df_booking_symptoms.info()"
   ]
  },
  {
   "cell_type": "code",
   "execution_count": 116,
   "id": "354a185b",
   "metadata": {
    "ExecuteTime": {
     "end_time": "2022-08-31T09:10:06.146044Z",
     "start_time": "2022-08-31T09:10:06.131085Z"
    }
   },
   "outputs": [
    {
     "data": {
      "text/plain": [
       "(8870, 4)"
      ]
     },
     "execution_count": 116,
     "metadata": {},
     "output_type": "execute_result"
    }
   ],
   "source": [
    "final_df_booking_symptoms.shape"
   ]
  },
  {
   "cell_type": "code",
   "execution_count": 117,
   "id": "ff6f44a3",
   "metadata": {
    "ExecuteTime": {
     "end_time": "2022-08-31T09:10:06.161003Z",
     "start_time": "2022-08-31T09:10:06.147040Z"
    }
   },
   "outputs": [
    {
     "data": {
      "text/html": [
       "<div>\n",
       "<style scoped>\n",
       "    .dataframe tbody tr th:only-of-type {\n",
       "        vertical-align: middle;\n",
       "    }\n",
       "\n",
       "    .dataframe tbody tr th {\n",
       "        vertical-align: top;\n",
       "    }\n",
       "\n",
       "    .dataframe thead th {\n",
       "        text-align: right;\n",
       "    }\n",
       "</style>\n",
       "<table border=\"1\" class=\"dataframe\">\n",
       "  <thead>\n",
       "    <tr style=\"text-align: right;\">\n",
       "      <th></th>\n",
       "      <th>booking_id</th>\n",
       "      <th>SymptomID_list</th>\n",
       "      <th>SymptomName_list</th>\n",
       "      <th>count_SymID</th>\n",
       "    </tr>\n",
       "  </thead>\n",
       "  <tbody>\n",
       "    <tr>\n",
       "      <th>0</th>\n",
       "      <td>65B1CE93-A2A3-44F4-942B-5A799CAA3D22</td>\n",
       "      <td>[C3AF5B1F-BD74-4700-A1E7-1958B32C80BD, B8F546F4-9C2A-4E31-8ED5-DB3187FA4351]</td>\n",
       "      <td>[vomiting, diarrhoea]</td>\n",
       "      <td>2</td>\n",
       "    </tr>\n",
       "    <tr>\n",
       "      <th>1</th>\n",
       "      <td>1AAF3D3C-5DE4-466A-9F52-F673475D8EC5</td>\n",
       "      <td>[A518BD9F-95E0-411F-B058-F4DEA6AD1884]</td>\n",
       "      <td>[others]</td>\n",
       "      <td>1</td>\n",
       "    </tr>\n",
       "    <tr>\n",
       "      <th>2</th>\n",
       "      <td>57164B4A-6871-479A-85E2-A7BED21B42B3</td>\n",
       "      <td>[C3AF5B1F-BD74-4700-A1E7-1958B32C80BD, 6E7F72BF-3C7B-4F0D-B1D2-5E9FB9B5CE9B, B8F546F4-9C2A-4E31-8ED5-DB3187FA4351, 1B6BFF99-1553-487A-A85E-EBF552D50D23, A518BD9F-95E0-411F-B058-F4DEA6AD1884]</td>\n",
       "      <td>[vomiting, headache, diarrhoea, giddiness, others]</td>\n",
       "      <td>5</td>\n",
       "    </tr>\n",
       "  </tbody>\n",
       "</table>\n",
       "</div>"
      ],
      "text/plain": [
       "                             booking_id  \\\n",
       "0  65B1CE93-A2A3-44F4-942B-5A799CAA3D22   \n",
       "1  1AAF3D3C-5DE4-466A-9F52-F673475D8EC5   \n",
       "2  57164B4A-6871-479A-85E2-A7BED21B42B3   \n",
       "\n",
       "                                                                                                                                                                                   SymptomID_list  \\\n",
       "0                                                                                                                    [C3AF5B1F-BD74-4700-A1E7-1958B32C80BD, B8F546F4-9C2A-4E31-8ED5-DB3187FA4351]   \n",
       "1                                                                                                                                                          [A518BD9F-95E0-411F-B058-F4DEA6AD1884]   \n",
       "2  [C3AF5B1F-BD74-4700-A1E7-1958B32C80BD, 6E7F72BF-3C7B-4F0D-B1D2-5E9FB9B5CE9B, B8F546F4-9C2A-4E31-8ED5-DB3187FA4351, 1B6BFF99-1553-487A-A85E-EBF552D50D23, A518BD9F-95E0-411F-B058-F4DEA6AD1884]   \n",
       "\n",
       "                                     SymptomName_list count_SymID  \n",
       "0                               [vomiting, diarrhoea]           2  \n",
       "1                                            [others]           1  \n",
       "2  [vomiting, headache, diarrhoea, giddiness, others]           5  "
      ]
     },
     "execution_count": 117,
     "metadata": {},
     "output_type": "execute_result"
    }
   ],
   "source": [
    "final_df_booking_symptoms.head(3)"
   ]
  },
  {
   "cell_type": "markdown",
   "id": "02a43f0a",
   "metadata": {},
   "source": [
    "### Save intermediate Ouput"
   ]
  },
  {
   "cell_type": "code",
   "execution_count": 118,
   "id": "39c9f390",
   "metadata": {
    "ExecuteTime": {
     "end_time": "2022-08-31T09:10:06.176960Z",
     "start_time": "2022-08-31T09:10:06.162000Z"
    }
   },
   "outputs": [],
   "source": [
    "# Export data \n",
    "final_df_booking_symptoms.to_pickle(\"step1_booking_symptoms.pkl\")"
   ]
  },
  {
   "cell_type": "markdown",
   "id": "a5f679c4",
   "metadata": {},
   "source": [
    "<span class=\"burk\">**COMPLETE STEP1 FOR BOOKING SYMPTOMS**</span>"
   ]
  },
  {
   "cell_type": "markdown",
   "id": "318c8562",
   "metadata": {},
   "source": [
    "<span class=\"burk\">COMPLETE ALL STEP1</span>"
   ]
  },
  {
   "cell_type": "markdown",
   "id": "4369eb3d",
   "metadata": {},
   "source": [
    "## Step2 - Merge Data Tables "
   ]
  },
  {
   "cell_type": "markdown",
   "id": "0011ae00",
   "metadata": {},
   "source": [
    "Merge Strategy:\n",
    "\n",
    "1. Combine Booking and Patient to become the Base\n",
    "2. Combine Base + Diagnosis(Inner) + Prescription(Outer) + Symptoms(Outer)\n",
    "\n",
    "Note: Only include booking with Diagnosis\n",
    "\n",
    "Note: Lab data excluded"
   ]
  },
  {
   "cell_type": "code",
   "execution_count": 119,
   "id": "fdfcfac3",
   "metadata": {
    "ExecuteTime": {
     "end_time": "2022-08-31T09:10:06.191920Z",
     "start_time": "2022-08-31T09:10:06.177958Z"
    }
   },
   "outputs": [],
   "source": [
    "# Change the parameter if intend to load intermediate data instead of runnning preceeding scripts\n",
    "LOAD_INTERMEDIATE_STEP1_DATAPREP = 0"
   ]
  },
  {
   "cell_type": "markdown",
   "id": "ca55f062",
   "metadata": {},
   "source": [
    "### Import Prep Data Intermediate Data"
   ]
  },
  {
   "cell_type": "code",
   "execution_count": 120,
   "id": "50ee2448",
   "metadata": {
    "ExecuteTime": {
     "end_time": "2022-08-31T09:10:06.207913Z",
     "start_time": "2022-08-31T09:10:06.192918Z"
    }
   },
   "outputs": [],
   "source": [
    "# Load data\n",
    "if LOAD_INTERMEDIATE_STEP1_DATAPREP == 1:\n",
    "    df_diagnosis = read_pickle(\"step1_booking_diagnosis.pkl\")\n",
    "    df_presciption = read_pickle(\"step1_booking_prescription.pkl\")\n",
    "    df_symptoms = read_pickle(\"step1_booking_symptoms.pkl\")\n",
    "    open_file = open(\"step1_booking_list.pkl\", \"rb\")\n",
    "    booking_list = pickle.load(open_file)\n",
    "    open_file.close()\n",
    "else:\n",
    "    df_diagnosis = final_df_booking_diagnosis\n",
    "    df_prescription = final_df_booking_presciption\n",
    "    df_symptoms = final_df_booking_symptoms\n",
    "    booking_list = booking_list"
   ]
  },
  {
   "cell_type": "code",
   "execution_count": 121,
   "id": "96f3a382",
   "metadata": {
    "ExecuteTime": {
     "end_time": "2022-08-31T09:10:06.222837Z",
     "start_time": "2022-08-31T09:10:06.208877Z"
    }
   },
   "outputs": [
    {
     "name": "stdout",
     "output_type": "stream",
     "text": [
      "<class 'pandas.core.frame.DataFrame'>\n",
      "Int64Index: 9958 entries, 0 to 9957\n",
      "Data columns (total 6 columns):\n",
      " #   Column               Non-Null Count  Dtype \n",
      "---  ------               --------------  ----- \n",
      " 0   booking_id           9958 non-null   object\n",
      " 1   diagnosis_code_list  9958 non-null   object\n",
      " 2   diagnosis_list       9958 non-null   object\n",
      " 3   chronic_list         9958 non-null   object\n",
      " 4   count_diagnosis      9958 non-null   object\n",
      " 5   count_chronic        9958 non-null   object\n",
      "dtypes: object(6)\n",
      "memory usage: 544.6+ KB\n",
      "Booking Diagnosis:  None\n"
     ]
    }
   ],
   "source": [
    "print(\"Booking Diagnosis: \", df_diagnosis.info())"
   ]
  },
  {
   "cell_type": "code",
   "execution_count": 122,
   "id": "26887b06",
   "metadata": {
    "ExecuteTime": {
     "end_time": "2022-08-31T09:10:06.237798Z",
     "start_time": "2022-08-31T09:10:06.223834Z"
    }
   },
   "outputs": [
    {
     "name": "stdout",
     "output_type": "stream",
     "text": [
      "Booking Prescription:\n",
      "<class 'pandas.core.frame.DataFrame'>\n",
      "Int64Index: 7606 entries, 0 to 7605\n",
      "Data columns (total 7 columns):\n",
      " #   Column               Non-Null Count  Dtype \n",
      "---  ------               --------------  ----- \n",
      " 0   booking_id           7606 non-null   object\n",
      " 1   medicationID_list    7606 non-null   object\n",
      " 2   medicationName_list  7606 non-null   object\n",
      " 3   medQuantity_list     7606 non-null   object\n",
      " 4   medAndQuan_list      7606 non-null   object\n",
      " 5   count_medication     7606 non-null   object\n",
      " 6   count_repeatmed      7606 non-null   object\n",
      "dtypes: object(7)\n",
      "memory usage: 475.4+ KB\n",
      "None\n"
     ]
    }
   ],
   "source": [
    "print(\"Booking Prescription:\")\n",
    "print(df_prescription.info())"
   ]
  },
  {
   "cell_type": "code",
   "execution_count": 123,
   "id": "6cac2ed4",
   "metadata": {
    "ExecuteTime": {
     "end_time": "2022-08-31T09:10:06.253755Z",
     "start_time": "2022-08-31T09:10:06.238794Z"
    }
   },
   "outputs": [
    {
     "name": "stdout",
     "output_type": "stream",
     "text": [
      "Booking Symptoms:\n",
      "<class 'pandas.core.frame.DataFrame'>\n",
      "Int64Index: 8870 entries, 0 to 8869\n",
      "Data columns (total 4 columns):\n",
      " #   Column            Non-Null Count  Dtype \n",
      "---  ------            --------------  ----- \n",
      " 0   booking_id        8870 non-null   object\n",
      " 1   SymptomID_list    8870 non-null   object\n",
      " 2   SymptomName_list  8870 non-null   object\n",
      " 3   count_SymID       8870 non-null   object\n",
      "dtypes: object(4)\n",
      "memory usage: 346.5+ KB\n",
      "None\n"
     ]
    }
   ],
   "source": [
    "print(\"Booking Symptoms:\")\n",
    "print(df_symptoms.info())"
   ]
  },
  {
   "cell_type": "markdown",
   "id": "34f5e9d6",
   "metadata": {
    "ExecuteTime": {
     "end_time": "2022-08-15T07:52:38.741194Z",
     "start_time": "2022-08-15T07:52:38.732221Z"
    }
   },
   "source": [
    "### Import Source Booking Data"
   ]
  },
  {
   "cell_type": "code",
   "execution_count": 124,
   "id": "8d2cd3df",
   "metadata": {
    "ExecuteTime": {
     "end_time": "2022-08-31T09:10:06.299659Z",
     "start_time": "2022-08-31T09:10:06.254753Z"
    }
   },
   "outputs": [
    {
     "name": "stdout",
     "output_type": "stream",
     "text": [
      "Input:  tbl_Booking_test.csv \n",
      "\n",
      "<class 'pandas.core.frame.DataFrame'>\n",
      "Int64Index: 7725 entries, 0 to 7724\n",
      "Data columns (total 8 columns):\n",
      " #   Column                     Non-Null Count  Dtype \n",
      "---  ------                     --------------  ----- \n",
      " 0   booking_id                 7725 non-null   object\n",
      " 1   mem_id                     7725 non-null   object\n",
      " 2   doctor_id                  7725 non-null   object\n",
      " 3   consult_waived_reason      7725 non-null   object\n",
      " 4   is_mc_issued               7725 non-null   bool  \n",
      " 5   mc_days                    7725 non-null   int64 \n",
      " 6   is_referral_letter_issued  7725 non-null   bool  \n",
      " 7   booking_timestamp          7725 non-null   object\n",
      "dtypes: bool(2), int64(1), object(5)\n",
      "memory usage: 437.5+ KB\n",
      "Basic Data structure Info (NEW)  None \n",
      "\n",
      "Shape of data:  (7725, 8)\n"
     ]
    }
   ],
   "source": [
    "# import new booking \n",
    "print(\"Input: \", FILE_BOOKING, \"\\n\") \n",
    "df_booking = pd.read_csv(FILE_BOOKING)\n",
    "df_booking = df_booking[df_booking['booking_id'].isin(booking_list)]\n",
    "print(\"Basic Data structure Info (NEW) \", df_booking.info(), \"\\n\") \n",
    "print(\"Shape of data: \", df_booking.shape)"
   ]
  },
  {
   "cell_type": "code",
   "execution_count": 125,
   "id": "e63dab72",
   "metadata": {
    "ExecuteTime": {
     "end_time": "2022-08-31T09:10:06.345541Z",
     "start_time": "2022-08-31T09:10:06.300631Z"
    }
   },
   "outputs": [
    {
     "name": "stdout",
     "output_type": "stream",
     "text": [
      "Input:  tbl_Booking.csv \n",
      "\n",
      "<class 'pandas.core.frame.DataFrame'>\n",
      "Int64Index: 2233 entries, 1 to 10219\n",
      "Data columns (total 8 columns):\n",
      " #   Column                     Non-Null Count  Dtype \n",
      "---  ------                     --------------  ----- \n",
      " 0   booking_id                 2233 non-null   object\n",
      " 1   mem_id                     2233 non-null   object\n",
      " 2   doctor_id                  2233 non-null   object\n",
      " 3   consult_waived_reason      2233 non-null   object\n",
      " 4   is_mc_issued               2233 non-null   bool  \n",
      " 5   mc_days                    2233 non-null   int64 \n",
      " 6   is_referral_letter_issued  2233 non-null   bool  \n",
      " 7   booking_timestamp          2233 non-null   object\n",
      "dtypes: bool(2), int64(1), object(5)\n",
      "memory usage: 126.5+ KB\n",
      "Basic Data structure Info  None \n",
      "\n",
      "Shape of data:  (2233, 8)\n"
     ]
    }
   ],
   "source": [
    "# import old booking \n",
    "if TESTING==1 and MODEL_TYPE_MEMBER ==1:\n",
    "    print(\"Input: \", FILE_BOOKING_OLD, \"\\n\") \n",
    "    df_booking_old = pd.read_csv(FILE_BOOKING_OLD)\n",
    "    df_booking_old = df_booking_old[df_booking_old['booking_id'].isin(booking_list)]\n",
    "    print(\"Basic Data structure Info \", df_booking_old.info(), \"\\n\")\n",
    "    print(\"Shape of data: \", df_booking_old.shape)"
   ]
  },
  {
   "cell_type": "code",
   "execution_count": 126,
   "id": "387bc13c",
   "metadata": {
    "ExecuteTime": {
     "end_time": "2022-08-31T09:10:06.361467Z",
     "start_time": "2022-08-31T09:10:06.346511Z"
    }
   },
   "outputs": [
    {
     "name": "stdout",
     "output_type": "stream",
     "text": [
      "<class 'pandas.core.frame.DataFrame'>\n",
      "Int64Index: 9958 entries, 0 to 10219\n",
      "Data columns (total 8 columns):\n",
      " #   Column                     Non-Null Count  Dtype \n",
      "---  ------                     --------------  ----- \n",
      " 0   booking_id                 9958 non-null   object\n",
      " 1   mem_id                     9958 non-null   object\n",
      " 2   doctor_id                  9958 non-null   object\n",
      " 3   consult_waived_reason      9958 non-null   object\n",
      " 4   is_mc_issued               9958 non-null   bool  \n",
      " 5   mc_days                    9958 non-null   int64 \n",
      " 6   is_referral_letter_issued  9958 non-null   bool  \n",
      " 7   booking_timestamp          9958 non-null   object\n",
      "dtypes: bool(2), int64(1), object(5)\n",
      "memory usage: 564.0+ KB\n",
      "Basic Data structure Info  None \n",
      "\n",
      "Shape of data:  (9958, 8)\n"
     ]
    }
   ],
   "source": [
    "if TESTING ==1 and MODEL_TYPE_MEMBER ==1:\n",
    "    df_booking = pd.concat([df_booking, df_booking_old], axis=0)\n",
    "    print(\"Basic Data structure Info \", df_booking.info(), \"\\n\")\n",
    "    print(\"Shape of data: \", df_booking.shape)"
   ]
  },
  {
   "cell_type": "code",
   "execution_count": 127,
   "id": "d80e87e6",
   "metadata": {
    "ExecuteTime": {
     "end_time": "2022-08-31T09:10:06.391414Z",
     "start_time": "2022-08-31T09:10:06.362465Z"
    }
   },
   "outputs": [
    {
     "name": "stdout",
     "output_type": "stream",
     "text": [
      "<class 'pandas.core.frame.DataFrame'>\n",
      "RangeIndex: 6774 entries, 0 to 6773\n",
      "Data columns (total 3 columns):\n",
      " #   Column      Non-Null Count  Dtype \n",
      "---  ------      --------------  ----- \n",
      " 0   mem_id      6774 non-null   object\n",
      " 1   gender      6774 non-null   object\n",
      " 2   birth_year  6774 non-null   int64 \n",
      "dtypes: int64(1), object(2)\n",
      "memory usage: 158.9+ KB\n"
     ]
    }
   ],
   "source": [
    "### Import Source Paitent Data\n",
    "df_patient = pd.read_csv(FILE_PATIENT)\n",
    "df_patient.info()"
   ]
  },
  {
   "cell_type": "markdown",
   "id": "59c3cb47",
   "metadata": {},
   "source": [
    "### Merge Data"
   ]
  },
  {
   "cell_type": "markdown",
   "id": "6635ce17",
   "metadata": {},
   "source": [
    "### Combine Booking and Patient Data"
   ]
  },
  {
   "cell_type": "code",
   "execution_count": 128,
   "id": "8e67c1bd",
   "metadata": {
    "ExecuteTime": {
     "end_time": "2022-08-31T09:10:06.407345Z",
     "start_time": "2022-08-31T09:10:06.392393Z"
    }
   },
   "outputs": [],
   "source": [
    "combine_book_patient = pd.merge(df_booking, df_patient, how=\"inner\", on=[\"mem_id\"])"
   ]
  },
  {
   "cell_type": "code",
   "execution_count": 129,
   "id": "2c3a5ced",
   "metadata": {
    "ExecuteTime": {
     "end_time": "2022-08-31T09:10:06.423302Z",
     "start_time": "2022-08-31T09:10:06.408344Z"
    }
   },
   "outputs": [
    {
     "name": "stdout",
     "output_type": "stream",
     "text": [
      "<class 'pandas.core.frame.DataFrame'>\n",
      "Int64Index: 9958 entries, 0 to 9957\n",
      "Data columns (total 10 columns):\n",
      " #   Column                     Non-Null Count  Dtype \n",
      "---  ------                     --------------  ----- \n",
      " 0   booking_id                 9958 non-null   object\n",
      " 1   mem_id                     9958 non-null   object\n",
      " 2   doctor_id                  9958 non-null   object\n",
      " 3   consult_waived_reason      9958 non-null   object\n",
      " 4   is_mc_issued               9958 non-null   bool  \n",
      " 5   mc_days                    9958 non-null   int64 \n",
      " 6   is_referral_letter_issued  9958 non-null   bool  \n",
      " 7   booking_timestamp          9958 non-null   object\n",
      " 8   gender                     9958 non-null   object\n",
      " 9   birth_year                 9958 non-null   int64 \n",
      "dtypes: bool(2), int64(2), object(6)\n",
      "memory usage: 719.6+ KB\n"
     ]
    }
   ],
   "source": [
    "combine_book_patient.info()"
   ]
  },
  {
   "cell_type": "code",
   "execution_count": 130,
   "id": "500a8e2d",
   "metadata": {
    "ExecuteTime": {
     "end_time": "2022-08-31T09:10:06.453222Z",
     "start_time": "2022-08-31T09:10:06.424300Z"
    }
   },
   "outputs": [
    {
     "name": "stdout",
     "output_type": "stream",
     "text": [
      "Unique value count for each column\n"
     ]
    },
    {
     "data": {
      "text/html": [
       "<div>\n",
       "<style scoped>\n",
       "    .dataframe tbody tr th:only-of-type {\n",
       "        vertical-align: middle;\n",
       "    }\n",
       "\n",
       "    .dataframe tbody tr th {\n",
       "        vertical-align: top;\n",
       "    }\n",
       "\n",
       "    .dataframe thead th {\n",
       "        text-align: right;\n",
       "    }\n",
       "</style>\n",
       "<table border=\"1\" class=\"dataframe\">\n",
       "  <thead>\n",
       "    <tr style=\"text-align: right;\">\n",
       "      <th></th>\n",
       "      <th>name</th>\n",
       "      <th>uniquecount</th>\n",
       "    </tr>\n",
       "  </thead>\n",
       "  <tbody>\n",
       "    <tr>\n",
       "      <th>0</th>\n",
       "      <td>booking_id</td>\n",
       "      <td>9958</td>\n",
       "    </tr>\n",
       "    <tr>\n",
       "      <th>1</th>\n",
       "      <td>mem_id</td>\n",
       "      <td>6774</td>\n",
       "    </tr>\n",
       "    <tr>\n",
       "      <th>2</th>\n",
       "      <td>doctor_id</td>\n",
       "      <td>30</td>\n",
       "    </tr>\n",
       "    <tr>\n",
       "      <th>3</th>\n",
       "      <td>consult_waived_reason</td>\n",
       "      <td>7</td>\n",
       "    </tr>\n",
       "    <tr>\n",
       "      <th>4</th>\n",
       "      <td>is_mc_issued</td>\n",
       "      <td>2</td>\n",
       "    </tr>\n",
       "    <tr>\n",
       "      <th>5</th>\n",
       "      <td>mc_days</td>\n",
       "      <td>10</td>\n",
       "    </tr>\n",
       "    <tr>\n",
       "      <th>6</th>\n",
       "      <td>is_referral_letter_issued</td>\n",
       "      <td>2</td>\n",
       "    </tr>\n",
       "    <tr>\n",
       "      <th>7</th>\n",
       "      <td>booking_timestamp</td>\n",
       "      <td>9946</td>\n",
       "    </tr>\n",
       "    <tr>\n",
       "      <th>8</th>\n",
       "      <td>gender</td>\n",
       "      <td>3</td>\n",
       "    </tr>\n",
       "    <tr>\n",
       "      <th>9</th>\n",
       "      <td>birth_year</td>\n",
       "      <td>62</td>\n",
       "    </tr>\n",
       "  </tbody>\n",
       "</table>\n",
       "</div>"
      ],
      "text/plain": [
       "                        name  uniquecount\n",
       "0                 booking_id         9958\n",
       "1                     mem_id         6774\n",
       "2                  doctor_id           30\n",
       "3      consult_waived_reason            7\n",
       "4               is_mc_issued            2\n",
       "5                    mc_days           10\n",
       "6  is_referral_letter_issued            2\n",
       "7          booking_timestamp         9946\n",
       "8                     gender            3\n",
       "9                 birth_year           62"
      ]
     },
     "execution_count": 130,
     "metadata": {},
     "output_type": "execute_result"
    }
   ],
   "source": [
    "print(\"Unique value count for each column\")\n",
    "count_unique(combine_book_patient)"
   ]
  },
  {
   "cell_type": "markdown",
   "id": "f71bdb1c",
   "metadata": {},
   "source": [
    "### Missing Value Checks"
   ]
  },
  {
   "cell_type": "code",
   "execution_count": 131,
   "id": "4fd6b411",
   "metadata": {
    "ExecuteTime": {
     "end_time": "2022-08-31T09:10:06.469180Z",
     "start_time": "2022-08-31T09:10:06.454220Z"
    }
   },
   "outputs": [
    {
     "name": "stdout",
     "output_type": "stream",
     "text": [
      "number of null: \n"
     ]
    },
    {
     "data": {
      "text/plain": [
       "booking_id                   0\n",
       "mem_id                       0\n",
       "doctor_id                    0\n",
       "consult_waived_reason        0\n",
       "is_mc_issued                 0\n",
       "mc_days                      0\n",
       "is_referral_letter_issued    0\n",
       "booking_timestamp            0\n",
       "gender                       0\n",
       "birth_year                   0\n",
       "dtype: int64"
      ]
     },
     "execution_count": 131,
     "metadata": {},
     "output_type": "execute_result"
    }
   ],
   "source": [
    "print(\"number of null: \")\n",
    "combine_book_patient.isnull().sum()"
   ]
  },
  {
   "cell_type": "markdown",
   "id": "75cd9fb5",
   "metadata": {},
   "source": [
    "<span class=\"mark\">IMPORTANT: \n",
    "If there is missing value, pls handle and correct accordingly.</span>"
   ]
  },
  {
   "cell_type": "markdown",
   "id": "313c6e01",
   "metadata": {
    "ExecuteTime": {
     "end_time": "2022-08-15T04:34:45.328908Z",
     "start_time": "2022-08-15T04:34:45.320883Z"
    }
   },
   "source": [
    "### Check and remove duplicates"
   ]
  },
  {
   "cell_type": "code",
   "execution_count": 132,
   "id": "371f9213",
   "metadata": {
    "ExecuteTime": {
     "end_time": "2022-08-31T09:10:06.485137Z",
     "start_time": "2022-08-31T09:10:06.470178Z"
    }
   },
   "outputs": [
    {
     "name": "stdout",
     "output_type": "stream",
     "text": [
      "number of duplicate to drop:  0\n"
     ]
    }
   ],
   "source": [
    "print(\"number of duplicate to drop: \", combine_book_patient.duplicated().sum())"
   ]
  },
  {
   "cell_type": "code",
   "execution_count": 133,
   "id": "c0edc323",
   "metadata": {
    "ExecuteTime": {
     "end_time": "2022-08-31T09:10:06.500097Z",
     "start_time": "2022-08-31T09:10:06.486135Z"
    }
   },
   "outputs": [],
   "source": [
    "# to drop duplicates \n",
    "if combine_book_patient.duplicated().sum() > 0:\n",
    "    combine_book_patient = combine_book_patient.drop_duplicates()"
   ]
  },
  {
   "cell_type": "markdown",
   "id": "5a90b5eb",
   "metadata": {},
   "source": [
    "### Combine Base with Diagnoisis"
   ]
  },
  {
   "cell_type": "code",
   "execution_count": 134,
   "id": "b10a9a96",
   "metadata": {
    "ExecuteTime": {
     "end_time": "2022-08-31T09:10:06.515057Z",
     "start_time": "2022-08-31T09:10:06.501095Z"
    }
   },
   "outputs": [],
   "source": [
    "combine_base_diagnosis_inner = pd.merge(combine_book_patient, df_diagnosis, how=\"inner\", on=[\"booking_id\"])"
   ]
  },
  {
   "cell_type": "code",
   "execution_count": 135,
   "id": "5843c1e6",
   "metadata": {
    "ExecuteTime": {
     "end_time": "2022-08-31T09:10:06.531015Z",
     "start_time": "2022-08-31T09:10:06.516054Z"
    }
   },
   "outputs": [
    {
     "name": "stdout",
     "output_type": "stream",
     "text": [
      "<class 'pandas.core.frame.DataFrame'>\n",
      "Int64Index: 9958 entries, 0 to 9957\n",
      "Data columns (total 15 columns):\n",
      " #   Column                     Non-Null Count  Dtype \n",
      "---  ------                     --------------  ----- \n",
      " 0   booking_id                 9958 non-null   object\n",
      " 1   mem_id                     9958 non-null   object\n",
      " 2   doctor_id                  9958 non-null   object\n",
      " 3   consult_waived_reason      9958 non-null   object\n",
      " 4   is_mc_issued               9958 non-null   bool  \n",
      " 5   mc_days                    9958 non-null   int64 \n",
      " 6   is_referral_letter_issued  9958 non-null   bool  \n",
      " 7   booking_timestamp          9958 non-null   object\n",
      " 8   gender                     9958 non-null   object\n",
      " 9   birth_year                 9958 non-null   int64 \n",
      " 10  diagnosis_code_list        9958 non-null   object\n",
      " 11  diagnosis_list             9958 non-null   object\n",
      " 12  chronic_list               9958 non-null   object\n",
      " 13  count_diagnosis            9958 non-null   object\n",
      " 14  count_chronic              9958 non-null   object\n",
      "dtypes: bool(2), int64(2), object(11)\n",
      "memory usage: 1.1+ MB\n"
     ]
    }
   ],
   "source": [
    "combine_base_diagnosis_inner.info()"
   ]
  },
  {
   "cell_type": "markdown",
   "id": "210304b0",
   "metadata": {},
   "source": [
    "### Combine (Base + Diagnosis)Inner + Prescription(Outer)"
   ]
  },
  {
   "cell_type": "code",
   "execution_count": 136,
   "id": "b186612a",
   "metadata": {
    "ExecuteTime": {
     "end_time": "2022-08-31T09:10:06.546009Z",
     "start_time": "2022-08-31T09:10:06.532012Z"
    }
   },
   "outputs": [],
   "source": [
    "combine_base_diagInner_presOuter = pd.merge(combine_base_diagnosis_inner, \n",
    "                                            df_prescription, how=\"outer\", on=[\"booking_id\"])"
   ]
  },
  {
   "cell_type": "code",
   "execution_count": 137,
   "id": "e72d5c0b",
   "metadata": {
    "ExecuteTime": {
     "end_time": "2022-08-31T09:10:06.576918Z",
     "start_time": "2022-08-31T09:10:06.546971Z"
    }
   },
   "outputs": [
    {
     "name": "stdout",
     "output_type": "stream",
     "text": [
      "<class 'pandas.core.frame.DataFrame'>\n",
      "Int64Index: 9958 entries, 0 to 9957\n",
      "Data columns (total 21 columns):\n",
      " #   Column                     Non-Null Count  Dtype \n",
      "---  ------                     --------------  ----- \n",
      " 0   booking_id                 9958 non-null   object\n",
      " 1   mem_id                     9958 non-null   object\n",
      " 2   doctor_id                  9958 non-null   object\n",
      " 3   consult_waived_reason      9958 non-null   object\n",
      " 4   is_mc_issued               9958 non-null   bool  \n",
      " 5   mc_days                    9958 non-null   int64 \n",
      " 6   is_referral_letter_issued  9958 non-null   bool  \n",
      " 7   booking_timestamp          9958 non-null   object\n",
      " 8   gender                     9958 non-null   object\n",
      " 9   birth_year                 9958 non-null   int64 \n",
      " 10  diagnosis_code_list        9958 non-null   object\n",
      " 11  diagnosis_list             9958 non-null   object\n",
      " 12  chronic_list               9958 non-null   object\n",
      " 13  count_diagnosis            9958 non-null   object\n",
      " 14  count_chronic              9958 non-null   object\n",
      " 15  medicationID_list          7606 non-null   object\n",
      " 16  medicationName_list        7606 non-null   object\n",
      " 17  medQuantity_list           7606 non-null   object\n",
      " 18  medAndQuan_list            7606 non-null   object\n",
      " 19  count_medication           7606 non-null   object\n",
      " 20  count_repeatmed            7606 non-null   object\n",
      "dtypes: bool(2), int64(2), object(17)\n",
      "memory usage: 1.5+ MB\n"
     ]
    }
   ],
   "source": [
    "combine_base_diagInner_presOuter.info()"
   ]
  },
  {
   "cell_type": "markdown",
   "id": "fac1f1ab",
   "metadata": {},
   "source": [
    "### Combine (Base + Diagnosis)Inner + Presc(Outer) + Sym(Outer)"
   ]
  },
  {
   "cell_type": "code",
   "execution_count": 138,
   "id": "49ba2b81",
   "metadata": {
    "ExecuteTime": {
     "end_time": "2022-08-31T09:10:06.591851Z",
     "start_time": "2022-08-31T09:10:06.577888Z"
    }
   },
   "outputs": [],
   "source": [
    "combine_base_diagInner_presOuter_symOuter = pd.merge(combine_base_diagInner_presOuter, df_symptoms, \n",
    "                                                     how=\"outer\", on=[\"booking_id\"])"
   ]
  },
  {
   "cell_type": "code",
   "execution_count": 139,
   "id": "7301abb9",
   "metadata": {
    "ExecuteTime": {
     "end_time": "2022-08-31T09:10:06.622803Z",
     "start_time": "2022-08-31T09:10:06.592850Z"
    }
   },
   "outputs": [
    {
     "name": "stdout",
     "output_type": "stream",
     "text": [
      "<class 'pandas.core.frame.DataFrame'>\n",
      "Int64Index: 9958 entries, 0 to 9957\n",
      "Data columns (total 24 columns):\n",
      " #   Column                     Non-Null Count  Dtype \n",
      "---  ------                     --------------  ----- \n",
      " 0   booking_id                 9958 non-null   object\n",
      " 1   mem_id                     9958 non-null   object\n",
      " 2   doctor_id                  9958 non-null   object\n",
      " 3   consult_waived_reason      9958 non-null   object\n",
      " 4   is_mc_issued               9958 non-null   bool  \n",
      " 5   mc_days                    9958 non-null   int64 \n",
      " 6   is_referral_letter_issued  9958 non-null   bool  \n",
      " 7   booking_timestamp          9958 non-null   object\n",
      " 8   gender                     9958 non-null   object\n",
      " 9   birth_year                 9958 non-null   int64 \n",
      " 10  diagnosis_code_list        9958 non-null   object\n",
      " 11  diagnosis_list             9958 non-null   object\n",
      " 12  chronic_list               9958 non-null   object\n",
      " 13  count_diagnosis            9958 non-null   object\n",
      " 14  count_chronic              9958 non-null   object\n",
      " 15  medicationID_list          7606 non-null   object\n",
      " 16  medicationName_list        7606 non-null   object\n",
      " 17  medQuantity_list           7606 non-null   object\n",
      " 18  medAndQuan_list            7606 non-null   object\n",
      " 19  count_medication           7606 non-null   object\n",
      " 20  count_repeatmed            7606 non-null   object\n",
      " 21  SymptomID_list             8870 non-null   object\n",
      " 22  SymptomName_list           8870 non-null   object\n",
      " 23  count_SymID                8870 non-null   object\n",
      "dtypes: bool(2), int64(2), object(20)\n",
      "memory usage: 1.8+ MB\n"
     ]
    }
   ],
   "source": [
    "combine_base_diagInner_presOuter_symOuter.info()"
   ]
  },
  {
   "cell_type": "code",
   "execution_count": 140,
   "id": "40bbc0f8",
   "metadata": {
    "ExecuteTime": {
     "end_time": "2022-08-31T09:10:06.638727Z",
     "start_time": "2022-08-31T09:10:06.623765Z"
    }
   },
   "outputs": [],
   "source": [
    "final_df = combine_base_diagInner_presOuter_symOuter"
   ]
  },
  {
   "cell_type": "markdown",
   "id": "e45867e7",
   "metadata": {},
   "source": [
    "### Save Intermediate Output"
   ]
  },
  {
   "cell_type": "code",
   "execution_count": 141,
   "id": "6cb1d563",
   "metadata": {
    "ExecuteTime": {
     "end_time": "2022-08-31T09:10:06.684638Z",
     "start_time": "2022-08-31T09:10:06.639724Z"
    }
   },
   "outputs": [],
   "source": [
    "# Export data \n",
    "final_df.to_pickle(\"step2_merge.pkl\")"
   ]
  },
  {
   "cell_type": "markdown",
   "id": "7bdf4829",
   "metadata": {},
   "source": [
    "<span class=\"burk\">COMPLETE STEP 2</span>"
   ]
  },
  {
   "cell_type": "markdown",
   "id": "0ee53286",
   "metadata": {},
   "source": [
    "## Step3 - Intro Cast & Transpose for Member"
   ]
  },
  {
   "cell_type": "markdown",
   "id": "d0d852f3",
   "metadata": {},
   "source": [
    "To summarize the following categories into columns:\n",
    "* Chronic\n",
    "* Diagnosis Code\n",
    "* Symptoms"
   ]
  },
  {
   "cell_type": "markdown",
   "id": "5c2509a2",
   "metadata": {},
   "source": [
    "### Import Merged Data from Step2"
   ]
  },
  {
   "cell_type": "code",
   "execution_count": 142,
   "id": "301b8a91",
   "metadata": {
    "ExecuteTime": {
     "end_time": "2022-08-31T09:10:06.700588Z",
     "start_time": "2022-08-31T09:10:06.685603Z"
    }
   },
   "outputs": [],
   "source": [
    "# Change the parameter if intend to load intermediate data instead of runnning preceeding scripts\n",
    "LOAD_INTERMEDIATE_STEP2_DATAPREP = 0"
   ]
  },
  {
   "cell_type": "code",
   "execution_count": 143,
   "id": "ffcbcebc",
   "metadata": {
    "ExecuteTime": {
     "end_time": "2022-08-31T09:10:06.715522Z",
     "start_time": "2022-08-31T09:10:06.701558Z"
    }
   },
   "outputs": [],
   "source": [
    "# Load data\n",
    "if LOAD_INTERMEDIATE_STEP2_DATAPREP == 1:\n",
    "    df_final_2 = read_pickle(\"step2_merge.pkl\")\n",
    "else:\n",
    "    df_final_2 = final_df"
   ]
  },
  {
   "cell_type": "code",
   "execution_count": 144,
   "id": "1d27109e",
   "metadata": {
    "ExecuteTime": {
     "end_time": "2022-08-31T09:10:06.746438Z",
     "start_time": "2022-08-31T09:10:06.716519Z"
    }
   },
   "outputs": [
    {
     "name": "stdout",
     "output_type": "stream",
     "text": [
      "<class 'pandas.core.frame.DataFrame'>\n",
      "Int64Index: 9958 entries, 0 to 9957\n",
      "Data columns (total 24 columns):\n",
      " #   Column                     Non-Null Count  Dtype \n",
      "---  ------                     --------------  ----- \n",
      " 0   booking_id                 9958 non-null   object\n",
      " 1   mem_id                     9958 non-null   object\n",
      " 2   doctor_id                  9958 non-null   object\n",
      " 3   consult_waived_reason      9958 non-null   object\n",
      " 4   is_mc_issued               9958 non-null   bool  \n",
      " 5   mc_days                    9958 non-null   int64 \n",
      " 6   is_referral_letter_issued  9958 non-null   bool  \n",
      " 7   booking_timestamp          9958 non-null   object\n",
      " 8   gender                     9958 non-null   object\n",
      " 9   birth_year                 9958 non-null   int64 \n",
      " 10  diagnosis_code_list        9958 non-null   object\n",
      " 11  diagnosis_list             9958 non-null   object\n",
      " 12  chronic_list               9958 non-null   object\n",
      " 13  count_diagnosis            9958 non-null   object\n",
      " 14  count_chronic              9958 non-null   object\n",
      " 15  medicationID_list          7606 non-null   object\n",
      " 16  medicationName_list        7606 non-null   object\n",
      " 17  medQuantity_list           7606 non-null   object\n",
      " 18  medAndQuan_list            7606 non-null   object\n",
      " 19  count_medication           7606 non-null   object\n",
      " 20  count_repeatmed            7606 non-null   object\n",
      " 21  SymptomID_list             8870 non-null   object\n",
      " 22  SymptomName_list           8870 non-null   object\n",
      " 23  count_SymID                8870 non-null   object\n",
      "dtypes: bool(2), int64(2), object(20)\n",
      "memory usage: 1.8+ MB\n",
      "None\n"
     ]
    }
   ],
   "source": [
    "print(df_final_2.info())"
   ]
  },
  {
   "cell_type": "markdown",
   "id": "7ac2df95",
   "metadata": {},
   "source": [
    "## Step3a - Cast & Transpose for Chronic"
   ]
  },
  {
   "cell_type": "markdown",
   "id": "c9210871",
   "metadata": {},
   "source": [
    "### Check NA for Chronic"
   ]
  },
  {
   "cell_type": "code",
   "execution_count": 145,
   "id": "f19bf640",
   "metadata": {
    "ExecuteTime": {
     "end_time": "2022-08-31T09:10:06.761398Z",
     "start_time": "2022-08-31T09:10:06.747436Z"
    }
   },
   "outputs": [],
   "source": [
    "df_final_2['chronic_list'] = df_final_2['chronic_list'].fillna(\"N\").apply(list)"
   ]
  },
  {
   "cell_type": "markdown",
   "id": "55fc0c8f",
   "metadata": {},
   "source": [
    "### Process Chronic String"
   ]
  },
  {
   "cell_type": "code",
   "execution_count": 146,
   "id": "526404c4",
   "metadata": {
    "ExecuteTime": {
     "end_time": "2022-08-31T09:10:06.776359Z",
     "start_time": "2022-08-31T09:10:06.762395Z"
    }
   },
   "outputs": [],
   "source": [
    "df_final_2[\"chronic_list_str\"] = (df_final_2[\"chronic_list\"].apply(lambda x: \",\".join(map(str, x))))"
   ]
  },
  {
   "cell_type": "code",
   "execution_count": 147,
   "id": "9233441b",
   "metadata": {
    "ExecuteTime": {
     "end_time": "2022-08-31T09:10:06.792317Z",
     "start_time": "2022-08-31T09:10:06.777356Z"
    }
   },
   "outputs": [],
   "source": [
    "#process string\n",
    "df_final_2['chronic_list_str'] = df_final_2['chronic_list_str'].replace(\"\",\"NoneChronic\")"
   ]
  },
  {
   "cell_type": "code",
   "execution_count": 148,
   "id": "3e4a729d",
   "metadata": {
    "ExecuteTime": {
     "end_time": "2022-08-31T09:10:06.807276Z",
     "start_time": "2022-08-31T09:10:06.793315Z"
    }
   },
   "outputs": [
    {
     "data": {
      "text/plain": [
       "0                         NoneChronic\n",
       "1     Vasomotor and allergic rhinitis\n",
       "2                         NoneChronic\n",
       "3                         NoneChronic\n",
       "4                         NoneChronic\n",
       "5                         NoneChronic\n",
       "6                         NoneChronic\n",
       "7                         NoneChronic\n",
       "8                         NoneChronic\n",
       "9     Vasomotor and allergic rhinitis\n",
       "10    Vasomotor and allergic rhinitis\n",
       "11                        NoneChronic\n",
       "12                        NoneChronic\n",
       "13                        NoneChronic\n",
       "14                        NoneChronic\n",
       "15                        NoneChronic\n",
       "16                        NoneChronic\n",
       "17                        NoneChronic\n",
       "18                        NoneChronic\n",
       "19                        NoneChronic\n",
       "Name: chronic_list_str, dtype: object"
      ]
     },
     "execution_count": 148,
     "metadata": {},
     "output_type": "execute_result"
    }
   ],
   "source": [
    "# To check\n",
    "df_final_2['chronic_list_str'].head(20)"
   ]
  },
  {
   "cell_type": "markdown",
   "id": "51220fdf",
   "metadata": {},
   "source": [
    "### Create Chronic Dict"
   ]
  },
  {
   "cell_type": "code",
   "execution_count": 149,
   "id": "8e868cad",
   "metadata": {
    "ExecuteTime": {
     "end_time": "2022-08-31T09:10:06.822263Z",
     "start_time": "2022-08-31T09:10:06.808275Z"
    }
   },
   "outputs": [],
   "source": [
    "chronic = df_final_2['chronic_list_str']"
   ]
  },
  {
   "cell_type": "code",
   "execution_count": 150,
   "id": "de7d800e",
   "metadata": {
    "ExecuteTime": {
     "end_time": "2022-08-31T09:10:06.837196Z",
     "start_time": "2022-08-31T09:10:06.823233Z"
    }
   },
   "outputs": [
    {
     "name": "stdout",
     "output_type": "stream",
     "text": [
      "There are 11 unique chronic ! Inclucing all of them as features will be detremental to performance\n"
     ]
    }
   ],
   "source": [
    "#create a dictionary of symptoms with frequency\n",
    "chronic_dict = {}\n",
    "for i in chronic:\n",
    "    li = i.split(\",\")\n",
    "    for k in li:\n",
    "        if k in chronic_dict:\n",
    "            chronic_dict[k] += 1\n",
    "        else:\n",
    "            chronic_dict[k] = 1\n",
    "\n",
    "print(\"There are\", len(chronic_dict), \n",
    "      \"unique chronic ! Inclucing all of them as features will be detremental to performance\")"
   ]
  },
  {
   "cell_type": "code",
   "execution_count": 151,
   "id": "7d9d99ef",
   "metadata": {
    "ExecuteTime": {
     "end_time": "2022-08-31T09:10:06.852156Z",
     "start_time": "2022-08-31T09:10:06.838194Z"
    }
   },
   "outputs": [
    {
     "data": {
      "text/plain": [
       "{'NoneChronic': 8873,\n",
       " 'Vasomotor and allergic rhinitis': 308,\n",
       " 'Gout': 90,\n",
       " 'Atopic dermatitis': 133,\n",
       " 'Hypertension': 158,\n",
       " 'Gastro-oesophageal reflux disease': 131,\n",
       " 'Hyperlipidaemia': 144,\n",
       " 'Asthma': 84,\n",
       " 'Migraine': 124,\n",
       " 'Diabetes': 34,\n",
       " 'Thyroid': 37}"
      ]
     },
     "execution_count": 151,
     "metadata": {},
     "output_type": "execute_result"
    }
   ],
   "source": [
    "chronic_dict"
   ]
  },
  {
   "cell_type": "markdown",
   "id": "5ecb1d3f",
   "metadata": {},
   "source": [
    "### Create Chronic Summary DF"
   ]
  },
  {
   "cell_type": "code",
   "execution_count": 152,
   "id": "157ad9a5",
   "metadata": {
    "ExecuteTime": {
     "end_time": "2022-08-31T09:10:06.868114Z",
     "start_time": "2022-08-31T09:10:06.853153Z"
    }
   },
   "outputs": [],
   "source": [
    "chronic_df = pd.DataFrame(columns=chronic_dict.keys(), index=range(len(chronic)))"
   ]
  },
  {
   "cell_type": "code",
   "execution_count": 153,
   "id": "a63aff93",
   "metadata": {
    "ExecuteTime": {
     "end_time": "2022-08-31T09:10:06.928990Z",
     "start_time": "2022-08-31T09:10:06.869110Z"
    }
   },
   "outputs": [],
   "source": [
    "for chronic_i in (chronic_dict): \n",
    "    chronic_df[chronic_i] = chronic.str.contains(chronic_i)"
   ]
  },
  {
   "cell_type": "code",
   "execution_count": 154,
   "id": "1630e809",
   "metadata": {
    "ExecuteTime": {
     "end_time": "2022-08-31T09:10:06.943910Z",
     "start_time": "2022-08-31T09:10:06.929949Z"
    }
   },
   "outputs": [],
   "source": [
    "chronic_df = chronic_df.add_prefix(\"chronic_\")"
   ]
  },
  {
   "cell_type": "code",
   "execution_count": 155,
   "id": "ac02f102",
   "metadata": {
    "ExecuteTime": {
     "end_time": "2022-08-31T09:10:06.959868Z",
     "start_time": "2022-08-31T09:10:06.944907Z"
    }
   },
   "outputs": [],
   "source": [
    "new_df_chronic_summarize = pd.concat([df_final_2[\"booking_id\"], chronic_df], axis=1)"
   ]
  },
  {
   "cell_type": "code",
   "execution_count": 156,
   "id": "9bbaf8c1",
   "metadata": {
    "ExecuteTime": {
     "end_time": "2022-08-31T09:10:06.975825Z",
     "start_time": "2022-08-31T09:10:06.960865Z"
    }
   },
   "outputs": [
    {
     "name": "stdout",
     "output_type": "stream",
     "text": [
      "<class 'pandas.core.frame.DataFrame'>\n",
      "Int64Index: 9958 entries, 0 to 9957\n",
      "Data columns (total 12 columns):\n",
      " #   Column                                     Non-Null Count  Dtype \n",
      "---  ------                                     --------------  ----- \n",
      " 0   booking_id                                 9958 non-null   object\n",
      " 1   chronic_NoneChronic                        9958 non-null   bool  \n",
      " 2   chronic_Vasomotor and allergic rhinitis    9958 non-null   bool  \n",
      " 3   chronic_Gout                               9958 non-null   bool  \n",
      " 4   chronic_Atopic dermatitis                  9958 non-null   bool  \n",
      " 5   chronic_Hypertension                       9958 non-null   bool  \n",
      " 6   chronic_Gastro-oesophageal reflux disease  9958 non-null   bool  \n",
      " 7   chronic_Hyperlipidaemia                    9958 non-null   bool  \n",
      " 8   chronic_Asthma                             9958 non-null   bool  \n",
      " 9   chronic_Migraine                           9958 non-null   bool  \n",
      " 10  chronic_Diabetes                           9958 non-null   bool  \n",
      " 11  chronic_Thyroid                            9958 non-null   bool  \n",
      "dtypes: bool(11), object(1)\n",
      "memory usage: 262.6+ KB\n"
     ]
    }
   ],
   "source": [
    "new_df_chronic_summarize.info()"
   ]
  },
  {
   "cell_type": "code",
   "execution_count": 157,
   "id": "f80746c7",
   "metadata": {
    "ExecuteTime": {
     "end_time": "2022-08-31T09:10:06.990785Z",
     "start_time": "2022-08-31T09:10:06.976824Z"
    }
   },
   "outputs": [
    {
     "data": {
      "text/plain": [
       "(9958, 12)"
      ]
     },
     "execution_count": 157,
     "metadata": {},
     "output_type": "execute_result"
    }
   ],
   "source": [
    "new_df_chronic_summarize.shape"
   ]
  },
  {
   "cell_type": "code",
   "execution_count": 158,
   "id": "57983140",
   "metadata": {
    "ExecuteTime": {
     "end_time": "2022-08-31T09:10:07.005746Z",
     "start_time": "2022-08-31T09:10:06.991783Z"
    }
   },
   "outputs": [
    {
     "data": {
      "text/plain": [
       "8873"
      ]
     },
     "execution_count": 158,
     "metadata": {},
     "output_type": "execute_result"
    }
   ],
   "source": [
    "# Tocheck\n",
    "new_df_chronic_summarize[\"chronic_NoneChronic\"].sum()"
   ]
  },
  {
   "cell_type": "code",
   "execution_count": 159,
   "id": "c7148bf4",
   "metadata": {
    "ExecuteTime": {
     "end_time": "2022-08-31T09:10:07.021703Z",
     "start_time": "2022-08-31T09:10:07.006743Z"
    }
   },
   "outputs": [
    {
     "data": {
      "text/plain": [
       "90"
      ]
     },
     "execution_count": 159,
     "metadata": {},
     "output_type": "execute_result"
    }
   ],
   "source": [
    "# Tocheck\n",
    "new_df_chronic_summarize[\"chronic_Gout\"].sum()"
   ]
  },
  {
   "cell_type": "code",
   "execution_count": 160,
   "id": "e1f57b2f",
   "metadata": {
    "ExecuteTime": {
     "end_time": "2022-08-31T09:10:07.036664Z",
     "start_time": "2022-08-31T09:10:07.022700Z"
    },
    "scrolled": true
   },
   "outputs": [
    {
     "data": {
      "text/html": [
       "<div>\n",
       "<style scoped>\n",
       "    .dataframe tbody tr th:only-of-type {\n",
       "        vertical-align: middle;\n",
       "    }\n",
       "\n",
       "    .dataframe tbody tr th {\n",
       "        vertical-align: top;\n",
       "    }\n",
       "\n",
       "    .dataframe thead th {\n",
       "        text-align: right;\n",
       "    }\n",
       "</style>\n",
       "<table border=\"1\" class=\"dataframe\">\n",
       "  <thead>\n",
       "    <tr style=\"text-align: right;\">\n",
       "      <th></th>\n",
       "      <th>0</th>\n",
       "      <th>1</th>\n",
       "      <th>2</th>\n",
       "      <th>3</th>\n",
       "      <th>4</th>\n",
       "    </tr>\n",
       "  </thead>\n",
       "  <tbody>\n",
       "    <tr>\n",
       "      <th>booking_id</th>\n",
       "      <td>EA149BC8-BFBC-4703-B34A-E4BB546EC114</td>\n",
       "      <td>3C374977-6526-4612-80FD-D53BE6CDF499</td>\n",
       "      <td>48958FEF-8052-4624-AEAD-792568C230D0</td>\n",
       "      <td>4013B73D-C9A7-45FC-8A4A-817D68EC3E06</td>\n",
       "      <td>6BF25F05-F16A-4ABC-93AA-49218518D40F</td>\n",
       "    </tr>\n",
       "    <tr>\n",
       "      <th>chronic_NoneChronic</th>\n",
       "      <td>True</td>\n",
       "      <td>False</td>\n",
       "      <td>True</td>\n",
       "      <td>True</td>\n",
       "      <td>True</td>\n",
       "    </tr>\n",
       "    <tr>\n",
       "      <th>chronic_Vasomotor and allergic rhinitis</th>\n",
       "      <td>False</td>\n",
       "      <td>True</td>\n",
       "      <td>False</td>\n",
       "      <td>False</td>\n",
       "      <td>False</td>\n",
       "    </tr>\n",
       "    <tr>\n",
       "      <th>chronic_Gout</th>\n",
       "      <td>False</td>\n",
       "      <td>False</td>\n",
       "      <td>False</td>\n",
       "      <td>False</td>\n",
       "      <td>False</td>\n",
       "    </tr>\n",
       "    <tr>\n",
       "      <th>chronic_Atopic dermatitis</th>\n",
       "      <td>False</td>\n",
       "      <td>False</td>\n",
       "      <td>False</td>\n",
       "      <td>False</td>\n",
       "      <td>False</td>\n",
       "    </tr>\n",
       "    <tr>\n",
       "      <th>chronic_Hypertension</th>\n",
       "      <td>False</td>\n",
       "      <td>False</td>\n",
       "      <td>False</td>\n",
       "      <td>False</td>\n",
       "      <td>False</td>\n",
       "    </tr>\n",
       "    <tr>\n",
       "      <th>chronic_Gastro-oesophageal reflux disease</th>\n",
       "      <td>False</td>\n",
       "      <td>False</td>\n",
       "      <td>False</td>\n",
       "      <td>False</td>\n",
       "      <td>False</td>\n",
       "    </tr>\n",
       "    <tr>\n",
       "      <th>chronic_Hyperlipidaemia</th>\n",
       "      <td>False</td>\n",
       "      <td>False</td>\n",
       "      <td>False</td>\n",
       "      <td>False</td>\n",
       "      <td>False</td>\n",
       "    </tr>\n",
       "    <tr>\n",
       "      <th>chronic_Asthma</th>\n",
       "      <td>False</td>\n",
       "      <td>False</td>\n",
       "      <td>False</td>\n",
       "      <td>False</td>\n",
       "      <td>False</td>\n",
       "    </tr>\n",
       "    <tr>\n",
       "      <th>chronic_Migraine</th>\n",
       "      <td>False</td>\n",
       "      <td>False</td>\n",
       "      <td>False</td>\n",
       "      <td>False</td>\n",
       "      <td>False</td>\n",
       "    </tr>\n",
       "    <tr>\n",
       "      <th>chronic_Diabetes</th>\n",
       "      <td>False</td>\n",
       "      <td>False</td>\n",
       "      <td>False</td>\n",
       "      <td>False</td>\n",
       "      <td>False</td>\n",
       "    </tr>\n",
       "    <tr>\n",
       "      <th>chronic_Thyroid</th>\n",
       "      <td>False</td>\n",
       "      <td>False</td>\n",
       "      <td>False</td>\n",
       "      <td>False</td>\n",
       "      <td>False</td>\n",
       "    </tr>\n",
       "  </tbody>\n",
       "</table>\n",
       "</div>"
      ],
      "text/plain": [
       "                                                                              0  \\\n",
       "booking_id                                 EA149BC8-BFBC-4703-B34A-E4BB546EC114   \n",
       "chronic_NoneChronic                                                        True   \n",
       "chronic_Vasomotor and allergic rhinitis                                   False   \n",
       "chronic_Gout                                                              False   \n",
       "chronic_Atopic dermatitis                                                 False   \n",
       "chronic_Hypertension                                                      False   \n",
       "chronic_Gastro-oesophageal reflux disease                                 False   \n",
       "chronic_Hyperlipidaemia                                                   False   \n",
       "chronic_Asthma                                                            False   \n",
       "chronic_Migraine                                                          False   \n",
       "chronic_Diabetes                                                          False   \n",
       "chronic_Thyroid                                                           False   \n",
       "\n",
       "                                                                              1  \\\n",
       "booking_id                                 3C374977-6526-4612-80FD-D53BE6CDF499   \n",
       "chronic_NoneChronic                                                       False   \n",
       "chronic_Vasomotor and allergic rhinitis                                    True   \n",
       "chronic_Gout                                                              False   \n",
       "chronic_Atopic dermatitis                                                 False   \n",
       "chronic_Hypertension                                                      False   \n",
       "chronic_Gastro-oesophageal reflux disease                                 False   \n",
       "chronic_Hyperlipidaemia                                                   False   \n",
       "chronic_Asthma                                                            False   \n",
       "chronic_Migraine                                                          False   \n",
       "chronic_Diabetes                                                          False   \n",
       "chronic_Thyroid                                                           False   \n",
       "\n",
       "                                                                              2  \\\n",
       "booking_id                                 48958FEF-8052-4624-AEAD-792568C230D0   \n",
       "chronic_NoneChronic                                                        True   \n",
       "chronic_Vasomotor and allergic rhinitis                                   False   \n",
       "chronic_Gout                                                              False   \n",
       "chronic_Atopic dermatitis                                                 False   \n",
       "chronic_Hypertension                                                      False   \n",
       "chronic_Gastro-oesophageal reflux disease                                 False   \n",
       "chronic_Hyperlipidaemia                                                   False   \n",
       "chronic_Asthma                                                            False   \n",
       "chronic_Migraine                                                          False   \n",
       "chronic_Diabetes                                                          False   \n",
       "chronic_Thyroid                                                           False   \n",
       "\n",
       "                                                                              3  \\\n",
       "booking_id                                 4013B73D-C9A7-45FC-8A4A-817D68EC3E06   \n",
       "chronic_NoneChronic                                                        True   \n",
       "chronic_Vasomotor and allergic rhinitis                                   False   \n",
       "chronic_Gout                                                              False   \n",
       "chronic_Atopic dermatitis                                                 False   \n",
       "chronic_Hypertension                                                      False   \n",
       "chronic_Gastro-oesophageal reflux disease                                 False   \n",
       "chronic_Hyperlipidaemia                                                   False   \n",
       "chronic_Asthma                                                            False   \n",
       "chronic_Migraine                                                          False   \n",
       "chronic_Diabetes                                                          False   \n",
       "chronic_Thyroid                                                           False   \n",
       "\n",
       "                                                                              4  \n",
       "booking_id                                 6BF25F05-F16A-4ABC-93AA-49218518D40F  \n",
       "chronic_NoneChronic                                                        True  \n",
       "chronic_Vasomotor and allergic rhinitis                                   False  \n",
       "chronic_Gout                                                              False  \n",
       "chronic_Atopic dermatitis                                                 False  \n",
       "chronic_Hypertension                                                      False  \n",
       "chronic_Gastro-oesophageal reflux disease                                 False  \n",
       "chronic_Hyperlipidaemia                                                   False  \n",
       "chronic_Asthma                                                            False  \n",
       "chronic_Migraine                                                          False  \n",
       "chronic_Diabetes                                                          False  \n",
       "chronic_Thyroid                                                           False  "
      ]
     },
     "execution_count": 160,
     "metadata": {},
     "output_type": "execute_result"
    }
   ],
   "source": [
    "new_df_chronic_summarize.head().transpose()"
   ]
  },
  {
   "cell_type": "markdown",
   "id": "e23d98c9",
   "metadata": {},
   "source": [
    "## Step3b - Cast and Transpose for Diagnosis Code"
   ]
  },
  {
   "cell_type": "markdown",
   "id": "5bbe866b",
   "metadata": {
    "ExecuteTime": {
     "end_time": "2022-08-15T09:09:52.469412Z",
     "start_time": "2022-08-15T09:09:52.456422Z"
    }
   },
   "source": [
    "### Check NA for Diagnosis Code"
   ]
  },
  {
   "cell_type": "code",
   "execution_count": 161,
   "id": "c41f2060",
   "metadata": {
    "ExecuteTime": {
     "end_time": "2022-08-31T09:10:07.051623Z",
     "start_time": "2022-08-31T09:10:07.037661Z"
    }
   },
   "outputs": [],
   "source": [
    "df_final_2['diagnosis_code_list'] = df_final_2['diagnosis_code_list'].fillna(\"N\").apply(list)"
   ]
  },
  {
   "cell_type": "markdown",
   "id": "4846f629",
   "metadata": {},
   "source": [
    "### Process Diagnosis Code String"
   ]
  },
  {
   "cell_type": "code",
   "execution_count": 162,
   "id": "ed84b080",
   "metadata": {
    "ExecuteTime": {
     "end_time": "2022-08-31T09:10:07.066583Z",
     "start_time": "2022-08-31T09:10:07.052621Z"
    }
   },
   "outputs": [],
   "source": [
    "df_final_2[\"diagnosis_code_list_str\"] = (df_final_2[\"diagnosis_code_list\"].apply(lambda x: \",\".join(map(str, x))))"
   ]
  },
  {
   "cell_type": "code",
   "execution_count": 163,
   "id": "169ea1d4",
   "metadata": {
    "ExecuteTime": {
     "end_time": "2022-08-31T09:10:07.081543Z",
     "start_time": "2022-08-31T09:10:07.067581Z"
    }
   },
   "outputs": [],
   "source": [
    "# Remove the dot to reduce the category\n",
    "diagnosis_code = df_final_2['diagnosis_code_list_str']\n",
    "diagnosis_code = diagnosis_code.apply(lambda x: re.sub('\\.\\d+', '', x))"
   ]
  },
  {
   "cell_type": "markdown",
   "id": "b60564b8",
   "metadata": {},
   "source": [
    "### Create Diagnosis Code Dict"
   ]
  },
  {
   "cell_type": "code",
   "execution_count": 164,
   "id": "88556925",
   "metadata": {
    "ExecuteTime": {
     "end_time": "2022-08-31T09:10:07.111464Z",
     "start_time": "2022-08-31T09:10:07.082541Z"
    }
   },
   "outputs": [
    {
     "name": "stdout",
     "output_type": "stream",
     "text": [
      "There are 315\n"
     ]
    }
   ],
   "source": [
    "#create a dictionary of symptoms with frequency\n",
    "diagnosis_code_dict = {}\n",
    "temp=[]\n",
    "for i in diagnosis_code:\n",
    "    li = i.split(\",\")\n",
    "    for k in li:\n",
    "        k = re.sub('\\.\\d+', '', k)\n",
    "        if k in temp:\n",
    "            diagnosis_code_dict[k] += 1\n",
    "        else:\n",
    "            diagnosis_code_dict[k] = 1\n",
    "            temp.append(k)\n",
    "\n",
    "print(\"There are\", len(diagnosis_code_dict))"
   ]
  },
  {
   "cell_type": "markdown",
   "id": "7cefb972",
   "metadata": {},
   "source": [
    "### (Optional) Set Min Count to include for Features (for model training)"
   ]
  },
  {
   "cell_type": "markdown",
   "id": "3ee120a0",
   "metadata": {
    "ExecuteTime": {
     "end_time": "2022-08-15T09:23:18.358693Z",
     "start_time": "2022-08-15T09:23:18.350713Z"
    }
   },
   "source": [
    "Removed diagnosis that happens less than 10 times, \n",
    "to reduce the features, that is equivalent to 0.1% of total number of obervation"
   ]
  },
  {
   "cell_type": "code",
   "execution_count": 165,
   "id": "f32cea64",
   "metadata": {
    "ExecuteTime": {
     "end_time": "2022-08-31T09:10:07.127421Z",
     "start_time": "2022-08-31T09:10:07.112461Z"
    }
   },
   "outputs": [],
   "source": [
    "# remove min value (in case required to cut)\n",
    "selected_diag = {key:val for key, val in diagnosis_code_dict.items() if val > MIN_VAL_DIAG}"
   ]
  },
  {
   "cell_type": "markdown",
   "id": "d313809c",
   "metadata": {},
   "source": [
    "### Create Diagnosis Code Summary DF"
   ]
  },
  {
   "cell_type": "code",
   "execution_count": 166,
   "id": "e1f350da",
   "metadata": {
    "ExecuteTime": {
     "end_time": "2022-08-31T09:10:07.204216Z",
     "start_time": "2022-08-31T09:10:07.128419Z"
    }
   },
   "outputs": [],
   "source": [
    "diagnosis_df = pd.DataFrame(columns=selected_diag.keys(), index=range(len(diagnosis_code)))"
   ]
  },
  {
   "cell_type": "code",
   "execution_count": 167,
   "id": "8914e65b",
   "metadata": {
    "ExecuteTime": {
     "end_time": "2022-08-31T09:10:10.640976Z",
     "start_time": "2022-08-31T09:10:07.205212Z"
    }
   },
   "outputs": [],
   "source": [
    "for diag_i in (selected_diag): \n",
    "    diagnosis_df[diag_i] = diagnosis_code.apply(lambda x: str(diag_i) in str(x))"
   ]
  },
  {
   "cell_type": "code",
   "execution_count": 168,
   "id": "57a3ba83",
   "metadata": {
    "ExecuteTime": {
     "end_time": "2022-08-31T09:10:10.656933Z",
     "start_time": "2022-08-31T09:10:10.641974Z"
    }
   },
   "outputs": [],
   "source": [
    "diagnosis_df = diagnosis_df.add_prefix(\"diag_\")"
   ]
  },
  {
   "cell_type": "code",
   "execution_count": 169,
   "id": "ed1252e4",
   "metadata": {
    "ExecuteTime": {
     "end_time": "2022-08-31T09:10:10.687850Z",
     "start_time": "2022-08-31T09:10:10.657931Z"
    }
   },
   "outputs": [
    {
     "name": "stdout",
     "output_type": "stream",
     "text": [
      "<class 'pandas.core.frame.DataFrame'>\n",
      "RangeIndex: 9958 entries, 0 to 9957\n",
      "Columns: 315 entries, diag_U12 to diag_H26\n",
      "dtypes: bool(315)\n",
      "memory usage: 3.0 MB\n"
     ]
    }
   ],
   "source": [
    "diagnosis_df.info()"
   ]
  },
  {
   "cell_type": "code",
   "execution_count": 170,
   "id": "7c7e11ba",
   "metadata": {
    "ExecuteTime": {
     "end_time": "2022-08-31T09:10:10.702811Z",
     "start_time": "2022-08-31T09:10:10.688848Z"
    }
   },
   "outputs": [],
   "source": [
    "new_df_diag_summarize = pd.concat([df_final_2[\"booking_id\"], diagnosis_df], axis=1)"
   ]
  },
  {
   "cell_type": "code",
   "execution_count": 171,
   "id": "037406a1",
   "metadata": {
    "ExecuteTime": {
     "end_time": "2022-08-31T09:10:10.718768Z",
     "start_time": "2022-08-31T09:10:10.703808Z"
    }
   },
   "outputs": [
    {
     "data": {
      "text/plain": [
       "(9958, 316)"
      ]
     },
     "execution_count": 171,
     "metadata": {},
     "output_type": "execute_result"
    }
   ],
   "source": [
    "new_df_diag_summarize.shape"
   ]
  },
  {
   "cell_type": "markdown",
   "id": "90a3bd60",
   "metadata": {},
   "source": [
    "## Step3c - Cast & Transpose for Symptoms"
   ]
  },
  {
   "cell_type": "markdown",
   "id": "8dd6e2d5",
   "metadata": {},
   "source": [
    "### Check NA for Symptoms "
   ]
  },
  {
   "cell_type": "code",
   "execution_count": 172,
   "id": "9357a1a8",
   "metadata": {
    "ExecuteTime": {
     "end_time": "2022-08-31T09:10:10.733729Z",
     "start_time": "2022-08-31T09:10:10.719765Z"
    }
   },
   "outputs": [],
   "source": [
    "df_final_2['SymptomName_list'] = df_final_2['SymptomName_list'].fillna(\"N\").apply(list)"
   ]
  },
  {
   "cell_type": "markdown",
   "id": "65fdc2e1",
   "metadata": {},
   "source": [
    "### Process Symptoms String"
   ]
  },
  {
   "cell_type": "code",
   "execution_count": 173,
   "id": "bb9270a5",
   "metadata": {
    "ExecuteTime": {
     "end_time": "2022-08-31T09:10:10.749685Z",
     "start_time": "2022-08-31T09:10:10.734726Z"
    }
   },
   "outputs": [],
   "source": [
    "df_final_2[\"SymptomName_list_str\"] = (df_final_2[\"SymptomName_list\"].apply(lambda x: \",\".join(map(str, x))))"
   ]
  },
  {
   "cell_type": "code",
   "execution_count": 174,
   "id": "f8762e87",
   "metadata": {
    "ExecuteTime": {
     "end_time": "2022-08-31T09:10:10.764645Z",
     "start_time": "2022-08-31T09:10:10.750683Z"
    }
   },
   "outputs": [],
   "source": [
    "#process string\n",
    "symp = df_final_2['SymptomName_list_str']"
   ]
  },
  {
   "cell_type": "markdown",
   "id": "8701d2a8",
   "metadata": {},
   "source": [
    "### Create Symptoms Dict"
   ]
  },
  {
   "cell_type": "code",
   "execution_count": 175,
   "id": "07dcab3c",
   "metadata": {
    "ExecuteTime": {
     "end_time": "2022-08-31T09:10:10.780603Z",
     "start_time": "2022-08-31T09:10:10.765643Z"
    }
   },
   "outputs": [
    {
     "name": "stdout",
     "output_type": "stream",
     "text": [
      "There are 21 unique symptoms !       Inclucing all of them as features will be detremental to performance, do check\n"
     ]
    }
   ],
   "source": [
    "#create a dictionary of symptoms with frequency\n",
    "symp_dict = {}\n",
    "for i in symp:\n",
    "    li = i.split(\",\")\n",
    "    for k in li:\n",
    "        if k in symp_dict:\n",
    "            symp_dict[k] += 1\n",
    "        else:\n",
    "            symp_dict[k] = 1\n",
    "\n",
    "print(\"There are\", len(symp_dict), \"unique symptoms ! \\\n",
    "      Inclucing all of them as features will be detremental to performance, do check\")"
   ]
  },
  {
   "cell_type": "code",
   "execution_count": 176,
   "id": "9767fbda",
   "metadata": {
    "ExecuteTime": {
     "end_time": "2022-08-31T09:10:10.795563Z",
     "start_time": "2022-08-31T09:10:10.781600Z"
    }
   },
   "outputs": [
    {
     "data": {
      "text/plain": [
       "{'N': 1088,\n",
       " 'headache': 2355,\n",
       " 'fever': 1113,\n",
       " 'giddiness': 2203,\n",
       " 'others': 3506,\n",
       " 'medical referral': 318,\n",
       " 'vomiting': 1245,\n",
       " 'diarrhoea': 1291,\n",
       " 'sore throat': 1404,\n",
       " 'flu': 1376,\n",
       " 'cough': 1380,\n",
       " 'cold': 1330,\n",
       " 'cold sores': 430,\n",
       " 'rash': 448,\n",
       " 'chronic medicine top-up': 311,\n",
       " 'discuss lab results': 335,\n",
       " 'chronic illness management': 40,\n",
       " 'skin growth on sole (foot)': 1,\n",
       " 'ulcer under tongue': 1,\n",
       " 'vertigo': 1,\n",
       " 'runny nose': 1}"
      ]
     },
     "execution_count": 176,
     "metadata": {},
     "output_type": "execute_result"
    }
   ],
   "source": [
    "symp_dict"
   ]
  },
  {
   "cell_type": "markdown",
   "id": "98ca25f8",
   "metadata": {},
   "source": [
    "### (Optional) Set Min Count to include for Features (for modeling)"
   ]
  },
  {
   "cell_type": "markdown",
   "id": "bcd695a8",
   "metadata": {
    "ExecuteTime": {
     "end_time": "2022-08-15T09:23:18.358693Z",
     "start_time": "2022-08-15T09:23:18.350713Z"
    }
   },
   "source": [
    "Removed symptoms that happens less than 10 times, to reduce the features."
   ]
  },
  {
   "cell_type": "code",
   "execution_count": 177,
   "id": "5e05a033",
   "metadata": {
    "ExecuteTime": {
     "end_time": "2022-08-31T09:10:10.811520Z",
     "start_time": "2022-08-31T09:10:10.796560Z"
    }
   },
   "outputs": [],
   "source": [
    "# remove min value (in case required to cut)\n",
    "selected_symptoms = {key:val for key, val in symp_dict.items() if val > MIN_VAL_SYM}"
   ]
  },
  {
   "cell_type": "markdown",
   "id": "1e267544",
   "metadata": {},
   "source": [
    "### Create Symptoms Summary DF"
   ]
  },
  {
   "cell_type": "code",
   "execution_count": 178,
   "id": "98ab32d5",
   "metadata": {
    "ExecuteTime": {
     "end_time": "2022-08-31T09:10:10.826480Z",
     "start_time": "2022-08-31T09:10:10.812518Z"
    }
   },
   "outputs": [],
   "source": [
    "symptom_df = pd.DataFrame(columns=selected_symptoms.keys(), index=range(len(symp)))"
   ]
  },
  {
   "cell_type": "code",
   "execution_count": 179,
   "id": "129c0e70",
   "metadata": {
    "ExecuteTime": {
     "end_time": "2022-08-31T09:10:10.919232Z",
     "start_time": "2022-08-31T09:10:10.827478Z"
    }
   },
   "outputs": [],
   "source": [
    "for symptom in (selected_symptoms): \n",
    "    symptom_df[symptom] = symp.str.contains(symptom)"
   ]
  },
  {
   "cell_type": "code",
   "execution_count": 180,
   "id": "541b4bb8",
   "metadata": {
    "ExecuteTime": {
     "end_time": "2022-08-31T09:10:10.934192Z",
     "start_time": "2022-08-31T09:10:10.920230Z"
    }
   },
   "outputs": [],
   "source": [
    "symptom_df = symptom_df.add_prefix(\"symp_\")"
   ]
  },
  {
   "cell_type": "code",
   "execution_count": 181,
   "id": "3dd5fe90",
   "metadata": {
    "ExecuteTime": {
     "end_time": "2022-08-31T09:10:10.950150Z",
     "start_time": "2022-08-31T09:10:10.935190Z"
    }
   },
   "outputs": [],
   "source": [
    "new_df_symp_summarize = pd.concat([df_final_2[\"booking_id\"], symptom_df], axis=1)"
   ]
  },
  {
   "cell_type": "code",
   "execution_count": 182,
   "id": "f6d373fc",
   "metadata": {
    "ExecuteTime": {
     "end_time": "2022-08-31T09:10:10.966107Z",
     "start_time": "2022-08-31T09:10:10.951147Z"
    }
   },
   "outputs": [
    {
     "data": {
      "text/plain": [
       "(9958, 22)"
      ]
     },
     "execution_count": 182,
     "metadata": {},
     "output_type": "execute_result"
    }
   ],
   "source": [
    "new_df_symp_summarize.shape"
   ]
  },
  {
   "cell_type": "markdown",
   "id": "ceafcfcb",
   "metadata": {},
   "source": [
    "## Step4 - Merge Summarized Data"
   ]
  },
  {
   "cell_type": "code",
   "execution_count": 183,
   "id": "39de656b",
   "metadata": {
    "ExecuteTime": {
     "end_time": "2022-08-31T09:10:10.981067Z",
     "start_time": "2022-08-31T09:10:10.967105Z"
    }
   },
   "outputs": [],
   "source": [
    "# drop unnec fields\n",
    "df_final_2.drop([\"chronic_list_str\", \"diagnosis_code_list_str\", \"SymptomName_list_str\"], inplace = True, axis = 1)"
   ]
  },
  {
   "cell_type": "code",
   "execution_count": 184,
   "id": "07b91cc4",
   "metadata": {
    "ExecuteTime": {
     "end_time": "2022-08-31T09:10:11.010987Z",
     "start_time": "2022-08-31T09:10:10.982065Z"
    }
   },
   "outputs": [],
   "source": [
    "combine_expandDiag = pd.merge(df_final_2, new_df_diag_summarize, \n",
    "                              how=\"inner\", on=[\"booking_id\"])"
   ]
  },
  {
   "cell_type": "code",
   "execution_count": 185,
   "id": "5d067357",
   "metadata": {
    "ExecuteTime": {
     "end_time": "2022-08-31T09:10:11.041905Z",
     "start_time": "2022-08-31T09:10:11.011984Z"
    }
   },
   "outputs": [],
   "source": [
    "combine_expandDiagChronic = pd.merge(combine_expandDiag, new_df_chronic_summarize, \n",
    "                                     how=\"inner\", on=[\"booking_id\"])"
   ]
  },
  {
   "cell_type": "code",
   "execution_count": 186,
   "id": "07da8750",
   "metadata": {
    "ExecuteTime": {
     "end_time": "2022-08-31T09:10:11.072822Z",
     "start_time": "2022-08-31T09:10:11.042902Z"
    }
   },
   "outputs": [],
   "source": [
    "combine_expandDiagChronicSym = pd.merge(combine_expandDiagChronic, new_df_symp_summarize, \n",
    "                                        how=\"inner\", on=[\"booking_id\"])"
   ]
  },
  {
   "cell_type": "code",
   "execution_count": 187,
   "id": "93fd8e62",
   "metadata": {
    "ExecuteTime": {
     "end_time": "2022-08-31T09:10:11.088779Z",
     "start_time": "2022-08-31T09:10:11.073819Z"
    }
   },
   "outputs": [
    {
     "data": {
      "text/plain": [
       "(9958, 371)"
      ]
     },
     "execution_count": 187,
     "metadata": {},
     "output_type": "execute_result"
    }
   ],
   "source": [
    "combine_expandDiagChronicSym.shape"
   ]
  },
  {
   "cell_type": "markdown",
   "id": "d32f8784",
   "metadata": {},
   "source": [
    "### Save intermediate Output"
   ]
  },
  {
   "cell_type": "code",
   "execution_count": 188,
   "id": "20694bcf",
   "metadata": {
    "ExecuteTime": {
     "end_time": "2022-08-31T09:10:11.134656Z",
     "start_time": "2022-08-31T09:10:11.089777Z"
    }
   },
   "outputs": [],
   "source": [
    "# Export data \n",
    "combine_expandDiagChronicSym.to_pickle(\"step4_merge_summarized.pkl\")"
   ]
  },
  {
   "cell_type": "markdown",
   "id": "9ce17b32",
   "metadata": {},
   "source": [
    "<span class=\"burk\">COMPLETE STEP 4</span>"
   ]
  },
  {
   "cell_type": "markdown",
   "id": "36ab2c18",
   "metadata": {},
   "source": [
    "## Step5 - Finalise Booking Data"
   ]
  },
  {
   "cell_type": "markdown",
   "id": "8a6b3392",
   "metadata": {},
   "source": [
    "### Import Step 4 merged data"
   ]
  },
  {
   "cell_type": "code",
   "execution_count": 189,
   "id": "aa73156a",
   "metadata": {
    "ExecuteTime": {
     "end_time": "2022-08-31T09:10:11.149616Z",
     "start_time": "2022-08-31T09:10:11.135654Z"
    }
   },
   "outputs": [],
   "source": [
    "# Change the parameter if intend to load intermediate data instead of runnning preceeding scripts\n",
    "LOAD_INTERMEDIATE_STEP4_DATAPREP = 0"
   ]
  },
  {
   "cell_type": "code",
   "execution_count": 190,
   "id": "7282176c",
   "metadata": {
    "ExecuteTime": {
     "end_time": "2022-08-31T09:10:11.165574Z",
     "start_time": "2022-08-31T09:10:11.150613Z"
    }
   },
   "outputs": [],
   "source": [
    "# Load data\n",
    "if LOAD_INTERMEDIATE_STEP4_DATAPREP == 1:\n",
    "    df_final_3 = read_pickle(\"step4_merge_summarized.pkl\")\n",
    "else:\n",
    "    df_final_3 = combine_expandDiagChronicSym"
   ]
  },
  {
   "cell_type": "markdown",
   "id": "bd1efc8c",
   "metadata": {},
   "source": [
    "### Create new variable - Target"
   ]
  },
  {
   "cell_type": "code",
   "execution_count": 191,
   "id": "3a7ec2d7",
   "metadata": {
    "ExecuteTime": {
     "end_time": "2022-08-31T09:10:11.181531Z",
     "start_time": "2022-08-31T09:10:11.166571Z"
    }
   },
   "outputs": [],
   "source": [
    "df_final_3[\"Target_chronic\"] = df_final_3[\"count_chronic\"].apply(lambda x: 1 if x>0 else 0)"
   ]
  },
  {
   "cell_type": "markdown",
   "id": "f6a87a87",
   "metadata": {},
   "source": [
    "### Change Category Data Type"
   ]
  },
  {
   "cell_type": "code",
   "execution_count": 192,
   "id": "462105bf",
   "metadata": {
    "ExecuteTime": {
     "end_time": "2022-08-31T09:10:11.197488Z",
     "start_time": "2022-08-31T09:10:11.182529Z"
    }
   },
   "outputs": [
    {
     "name": "stdout",
     "output_type": "stream",
     "text": [
      "Change Data Type to Category\n"
     ]
    }
   ],
   "source": [
    "# change data types for categorical data\n",
    "print(\"Change Data Type to Category\")"
   ]
  },
  {
   "cell_type": "code",
   "execution_count": 193,
   "id": "07e540c7",
   "metadata": {
    "ExecuteTime": {
     "end_time": "2022-08-31T09:10:11.213446Z",
     "start_time": "2022-08-31T09:10:11.198486Z"
    }
   },
   "outputs": [],
   "source": [
    "cat_list = [\"doctor_id\", \"consult_waived_reason\", \"gender\"]"
   ]
  },
  {
   "cell_type": "code",
   "execution_count": 194,
   "id": "9cab3984",
   "metadata": {
    "ExecuteTime": {
     "end_time": "2022-08-31T09:10:11.228406Z",
     "start_time": "2022-08-31T09:10:11.214444Z"
    }
   },
   "outputs": [],
   "source": [
    "for col in cat_list:\n",
    "    df_final_3[col] = df_final_3[col].astype(\"category\")"
   ]
  },
  {
   "cell_type": "markdown",
   "id": "e5927039",
   "metadata": {},
   "source": [
    "### Create New Numeric variable - Age"
   ]
  },
  {
   "cell_type": "code",
   "execution_count": 195,
   "id": "e197563a",
   "metadata": {
    "ExecuteTime": {
     "end_time": "2022-08-31T09:10:11.243366Z",
     "start_time": "2022-08-31T09:10:11.229404Z"
    }
   },
   "outputs": [],
   "source": [
    "today = date.today()"
   ]
  },
  {
   "cell_type": "code",
   "execution_count": 196,
   "id": "4f9a1dfb",
   "metadata": {
    "ExecuteTime": {
     "end_time": "2022-08-31T09:10:11.259323Z",
     "start_time": "2022-08-31T09:10:11.244363Z"
    }
   },
   "outputs": [],
   "source": [
    "df_final_3[\"age_yr\"] = today.year - df_final_3[\"birth_year\"]"
   ]
  },
  {
   "cell_type": "markdown",
   "id": "2294b8cb",
   "metadata": {},
   "source": [
    "### Change Category Data Type"
   ]
  },
  {
   "cell_type": "code",
   "execution_count": 197,
   "id": "2b22ce7f",
   "metadata": {
    "ExecuteTime": {
     "end_time": "2022-08-31T09:10:11.275280Z",
     "start_time": "2022-08-31T09:10:11.260321Z"
    }
   },
   "outputs": [],
   "source": [
    "num_list = ['mc_days',\"age_yr\",\n",
    " 'count_diagnosis',\n",
    " 'count_chronic',\n",
    " 'count_medication',\n",
    " 'count_repeatmed',\n",
    " 'count_SymID'\n",
    " ]"
   ]
  },
  {
   "cell_type": "code",
   "execution_count": 198,
   "id": "9cb95384",
   "metadata": {
    "ExecuteTime": {
     "end_time": "2022-08-31T09:10:11.290239Z",
     "start_time": "2022-08-31T09:10:11.276279Z"
    }
   },
   "outputs": [],
   "source": [
    "for col in num_list:\n",
    "    df_final_3[col] = df_final_3[col].astype(\"float\")"
   ]
  },
  {
   "cell_type": "markdown",
   "id": "ef96aba3",
   "metadata": {},
   "source": [
    "### Change Boolean to Binary Dummy"
   ]
  },
  {
   "cell_type": "code",
   "execution_count": 199,
   "id": "025e7b59",
   "metadata": {
    "ExecuteTime": {
     "end_time": "2022-08-31T09:10:11.305200Z",
     "start_time": "2022-08-31T09:10:11.291238Z"
    }
   },
   "outputs": [],
   "source": [
    "filter_col_diag = [col for col in df_final_3 if col.startswith('diag_')]"
   ]
  },
  {
   "cell_type": "code",
   "execution_count": 200,
   "id": "08467721",
   "metadata": {
    "ExecuteTime": {
     "end_time": "2022-08-31T09:10:11.321158Z",
     "start_time": "2022-08-31T09:10:11.306196Z"
    }
   },
   "outputs": [],
   "source": [
    "filter_col_chronic = [col for col in df_final_3 if col.startswith('chronic_')]"
   ]
  },
  {
   "cell_type": "code",
   "execution_count": 201,
   "id": "de3d74c9",
   "metadata": {
    "ExecuteTime": {
     "end_time": "2022-08-31T09:10:11.337115Z",
     "start_time": "2022-08-31T09:10:11.322154Z"
    }
   },
   "outputs": [],
   "source": [
    "filter_col_symp = [col for col in df_final_3 if col.startswith('symp_')]"
   ]
  },
  {
   "cell_type": "code",
   "execution_count": 202,
   "id": "113d007f",
   "metadata": {
    "ExecuteTime": {
     "end_time": "2022-08-31T09:10:11.352075Z",
     "start_time": "2022-08-31T09:10:11.338113Z"
    },
    "scrolled": true
   },
   "outputs": [],
   "source": [
    "fitler_col_other_bool =  [\"is_mc_issued\", \"is_referral_letter_issued\", \"Target_chronic\"]"
   ]
  },
  {
   "cell_type": "code",
   "execution_count": 203,
   "id": "59e5a520",
   "metadata": {
    "ExecuteTime": {
     "end_time": "2022-08-31T09:10:11.367035Z",
     "start_time": "2022-08-31T09:10:11.353072Z"
    }
   },
   "outputs": [],
   "source": [
    "boolean_list = fitler_col_other_bool + filter_col_diag + filter_col_chronic + filter_col_symp"
   ]
  },
  {
   "cell_type": "code",
   "execution_count": 204,
   "id": "b639db0c",
   "metadata": {
    "ExecuteTime": {
     "end_time": "2022-08-31T09:10:12.549872Z",
     "start_time": "2022-08-31T09:10:11.368031Z"
    }
   },
   "outputs": [],
   "source": [
    "for col in boolean_list:\n",
    "    df_final_3[col] = df_final_3[col].apply(lambda x: 1 if x==True else 0)"
   ]
  },
  {
   "cell_type": "markdown",
   "id": "64bbb8b9",
   "metadata": {},
   "source": [
    "### Change data types to date time "
   ]
  },
  {
   "cell_type": "code",
   "execution_count": 205,
   "id": "e4b24cf0",
   "metadata": {
    "ExecuteTime": {
     "end_time": "2022-08-31T09:10:12.565830Z",
     "start_time": "2022-08-31T09:10:12.550870Z"
    }
   },
   "outputs": [],
   "source": [
    "# change data types to date time\n",
    "df_final_3[\"booking_timestamp\"] = pd.to_datetime(df_final_3[\"booking_timestamp\"])"
   ]
  },
  {
   "cell_type": "markdown",
   "id": "73e98a60",
   "metadata": {},
   "source": [
    "### Create New Variable Consult Hour"
   ]
  },
  {
   "cell_type": "code",
   "execution_count": 206,
   "id": "0748172c",
   "metadata": {
    "ExecuteTime": {
     "end_time": "2022-08-31T09:10:12.580790Z",
     "start_time": "2022-08-31T09:10:12.566827Z"
    }
   },
   "outputs": [],
   "source": [
    "# check latest time\n",
    "df_final_3[\"consult_hr\"] = df_final_3[\"booking_timestamp\"].dt.hour"
   ]
  },
  {
   "cell_type": "code",
   "execution_count": 207,
   "id": "b6c6b039",
   "metadata": {
    "ExecuteTime": {
     "end_time": "2022-08-31T09:10:12.595750Z",
     "start_time": "2022-08-31T09:10:12.581787Z"
    }
   },
   "outputs": [],
   "source": [
    "df_final_3[\"consult_hr\"] = df_final_3[\"consult_hr\"].astype(\"category\")"
   ]
  },
  {
   "cell_type": "markdown",
   "id": "6d5c73b1",
   "metadata": {},
   "source": [
    "### Impute Missing Data"
   ]
  },
  {
   "cell_type": "code",
   "execution_count": 208,
   "id": "04d32325",
   "metadata": {
    "ExecuteTime": {
     "end_time": "2022-08-31T09:10:12.610711Z",
     "start_time": "2022-08-31T09:10:12.596748Z"
    }
   },
   "outputs": [],
   "source": [
    "miss_list = [\"count_medication\", \"count_repeatmed\", \"count_SymID\"]"
   ]
  },
  {
   "cell_type": "code",
   "execution_count": 209,
   "id": "b5f52455",
   "metadata": {
    "ExecuteTime": {
     "end_time": "2022-08-31T09:10:12.625671Z",
     "start_time": "2022-08-31T09:10:12.611709Z"
    }
   },
   "outputs": [],
   "source": [
    "for col in miss_list:\n",
    "    df_final_3[col] = df_final_3[col].fillna(0)"
   ]
  },
  {
   "cell_type": "markdown",
   "id": "0ab0fe08",
   "metadata": {},
   "source": [
    "### Impute with \"NA\""
   ]
  },
  {
   "cell_type": "code",
   "execution_count": 210,
   "id": "93e331bd",
   "metadata": {
    "ExecuteTime": {
     "end_time": "2022-08-31T09:10:12.641635Z",
     "start_time": "2022-08-31T09:10:12.626668Z"
    }
   },
   "outputs": [],
   "source": [
    "df_final_3[\"consult_waived_reason\"] = df_final_3[\"consult_waived_reason\"].apply(lambda x: \"NA\" if x ==\"-\" else x)"
   ]
  },
  {
   "cell_type": "code",
   "execution_count": 211,
   "id": "ddc17d43",
   "metadata": {
    "ExecuteTime": {
     "end_time": "2022-08-31T09:10:12.657586Z",
     "start_time": "2022-08-31T09:10:12.642626Z"
    }
   },
   "outputs": [
    {
     "data": {
      "text/plain": [
       "NA                            9464\n",
       "FOLLOW UP                      214\n",
       "HEALTH SCREENING REVIEW        192\n",
       "UNSUITABLE FOR TELECONSULT      51\n",
       "OTHERS                          22\n",
       "WHITECOAT FAMILY                14\n",
       "REFERRAL                         1\n",
       "Name: consult_waived_reason, dtype: int64"
      ]
     },
     "execution_count": 211,
     "metadata": {},
     "output_type": "execute_result"
    }
   ],
   "source": [
    "df_final_3[\"consult_waived_reason\"].value_counts()"
   ]
  },
  {
   "cell_type": "markdown",
   "id": "404cc700",
   "metadata": {},
   "source": [
    "### Export Final at Bookling Level"
   ]
  },
  {
   "cell_type": "code",
   "execution_count": 212,
   "id": "9cab7b82",
   "metadata": {
    "ExecuteTime": {
     "end_time": "2022-08-31T09:10:12.672546Z",
     "start_time": "2022-08-31T09:10:12.658584Z"
    }
   },
   "outputs": [
    {
     "name": "stdout",
     "output_type": "stream",
     "text": [
      "Shape of data:  (9958, 374)\n"
     ]
    }
   ],
   "source": [
    "print(\"Shape of data: \", df_final_3.shape)"
   ]
  },
  {
   "cell_type": "code",
   "execution_count": 213,
   "id": "cac097c1",
   "metadata": {
    "ExecuteTime": {
     "end_time": "2022-08-31T09:10:12.703497Z",
     "start_time": "2022-08-31T09:10:12.673544Z"
    }
   },
   "outputs": [
    {
     "name": "stdout",
     "output_type": "stream",
     "text": [
      "<class 'pandas.core.frame.DataFrame'>\n",
      "Int64Index: 9958 entries, 0 to 9957\n",
      "Data columns (total 374 columns):\n",
      " #    Column                                     Dtype         \n",
      "---   ------                                     -----         \n",
      " 0    booking_id                                 object        \n",
      " 1    mem_id                                     object        \n",
      " 2    doctor_id                                  category      \n",
      " 3    consult_waived_reason                      category      \n",
      " 4    is_mc_issued                               int64         \n",
      " 5    mc_days                                    float64       \n",
      " 6    is_referral_letter_issued                  int64         \n",
      " 7    booking_timestamp                          datetime64[ns]\n",
      " 8    gender                                     category      \n",
      " 9    birth_year                                 int64         \n",
      " 10   diagnosis_code_list                        object        \n",
      " 11   diagnosis_list                             object        \n",
      " 12   chronic_list                               int64         \n",
      " 13   count_diagnosis                            float64       \n",
      " 14   count_chronic                              float64       \n",
      " 15   medicationID_list                          object        \n",
      " 16   medicationName_list                        object        \n",
      " 17   medQuantity_list                           object        \n",
      " 18   medAndQuan_list                            object        \n",
      " 19   count_medication                           float64       \n",
      " 20   count_repeatmed                            float64       \n",
      " 21   SymptomID_list                             object        \n",
      " 22   SymptomName_list                           object        \n",
      " 23   count_SymID                                float64       \n",
      " 24   diag_U12                                   int64         \n",
      " 25   diag_J30                                   int64         \n",
      " 26   diag_T88                                   int64         \n",
      " 27   diag_K12                                   int64         \n",
      " 28   diag_R21                                   int64         \n",
      " 29   diag_A09                                   int64         \n",
      " 30   diag_H57                                   int64         \n",
      " 31   diag_Z02                                   int64         \n",
      " 32   diag_J06                                   int64         \n",
      " 33   diag_J04                                   int64         \n",
      " 34   diag_Z76                                   int64         \n",
      " 35   diag_M79                                   int64         \n",
      " 36   diag_R51                                   int64         \n",
      " 37   diag_M54                                   int64         \n",
      " 38   diag_R22                                   int64         \n",
      " 39   diag_L50                                   int64         \n",
      " 40   diag_H11                                   int64         \n",
      " 41   diag_B35                                   int64         \n",
      " 42   diag_K30                                   int64         \n",
      " 43   diag_O91                                   int64         \n",
      " 44   diag_R07                                   int64         \n",
      " 45   diag_M10                                   int64         \n",
      " 46   diag_Z71                                   int64         \n",
      " 47   diag_N94                                   int64         \n",
      " 48   diag_K29                                   int64         \n",
      " 49   diag_B37                                   int64         \n",
      " 50   diag_R50                                   int64         \n",
      " 51   diag_N39                                   int64         \n",
      " 52   diag_R09                                   int64         \n",
      " 53   diag_M50                                   int64         \n",
      " 54   diag_R42                                   int64         \n",
      " 55   diag_W57                                   int64         \n",
      " 56   diag_B00                                   int64         \n",
      " 57   diag_L70                                   int64         \n",
      " 58   diag_R14                                   int64         \n",
      " 59   diag_H00                                   int64         \n",
      " 60   diag_L98                                   int64         \n",
      " 61   diag_U07                                   int64         \n",
      " 62   diag_M75                                   int64         \n",
      " 63   diag_R45                                   int64         \n",
      " 64   diag_R05                                   int64         \n",
      " 65   diag_R63                                   int64         \n",
      " 66   diag_L20                                   int64         \n",
      " 67   diag_J39                                   int64         \n",
      " 68   diag_J02                                   int64         \n",
      " 69   diag_L02                                   int64         \n",
      " 70   diag_I10                                   int64         \n",
      " 71   diag_K21                                   int64         \n",
      " 72   diag_J20                                   int64         \n",
      " 73   diag_H02                                   int64         \n",
      " 74   diag_S83                                   int64         \n",
      " 75   diag_L03                                   int64         \n",
      " 76   diag_M76                                   int64         \n",
      " 77   diag_M62                                   int64         \n",
      " 78   diag_H10                                   int64         \n",
      " 79   diag_L24                                   int64         \n",
      " 80   diag_L30                                   int64         \n",
      " 81   diag_K59                                   int64         \n",
      " 82   diag_Y42                                   int64         \n",
      " 83   diag_K07                                   int64         \n",
      " 84   diag_E78                                   int64         \n",
      " 85   diag_K64                                   int64         \n",
      " 86   diag_J45                                   int64         \n",
      " 87   diag_S90                                   int64         \n",
      " 88   diag_G43                                   int64         \n",
      " 89   diag_B08                                   int64         \n",
      " 90   diag_G47                                   int64         \n",
      " 91   diag_T78                                   int64         \n",
      " 92   diag_U08                                   int64         \n",
      " 93   diag_H81                                   int64         \n",
      " 94   diag_G44                                   int64         \n",
      " 95   diag_N92                                   int64         \n",
      " 96   diag_J01                                   int64         \n",
      " 97   diag_E11                                   int64         \n",
      " 98   diag_H66                                   int64         \n",
      " 99   diag_M25                                   int64         \n",
      " 100  diag_F38                                   int64         \n",
      " 101  diag_H01                                   int64         \n",
      " 102  diag_G71                                   int64         \n",
      " 103  diag_R53                                   int64         \n",
      " 104  diag_M23                                   int64         \n",
      " 105  diag_S13                                   int64         \n",
      " 106  diag_S00                                   int64         \n",
      " 107  diag_U09                                   int64         \n",
      " 108  diag_H93                                   int64         \n",
      " 109  diag_B36                                   int64         \n",
      " 110  diag_S60                                   int64         \n",
      " 111  diag_E61                                   int64         \n",
      " 112  diag_R52                                   int64         \n",
      " 113  diag_H60                                   int64         \n",
      " 114  diag_M17                                   int64         \n",
      " 115  diag_R06                                   int64         \n",
      " 116  diag_N64                                   int64         \n",
      " 117  diag_R10                                   int64         \n",
      " 118  diag_R11                                   int64         \n",
      " 119  diag_E03                                   int64         \n",
      " 120  diag_J03                                   int64         \n",
      " 121  diag_S33                                   int64         \n",
      " 122  diag_Z13                                   int64         \n",
      " 123  diag_L29                                   int64         \n",
      " 124  diag_S23                                   int64         \n",
      " 125  diag_D50                                   int64         \n",
      " 126  diag_K52                                   int64         \n",
      " 127  diag_S93                                   int64         \n",
      " 128  diag_F41                                   int64         \n",
      " 129  diag_R04                                   int64         \n",
      " 130  diag_E28                                   int64         \n",
      " 131  diag_R59                                   int64         \n",
      " 132  diag_J22                                   int64         \n",
      " 133  diag_Z53                                   int64         \n",
      " 134  diag_N02                                   int64         \n",
      " 135  diag_S63                                   int64         \n",
      " 136  diag_B30                                   int64         \n",
      " 137  diag_M65                                   int64         \n",
      " 138  diag_E05                                   int64         \n",
      " 139  diag_H58                                   int64         \n",
      " 140  diag_M72                                   int64         \n",
      " 141  diag_P39                                   int64         \n",
      " 142  diag_L85                                   int64         \n",
      " 143  diag_N76                                   int64         \n",
      " 144  diag_L21                                   int64         \n",
      " 145  diag_Y58                                   int64         \n",
      " 146  diag_K13                                   int64         \n",
      " 147  diag_Y60                                   int64         \n",
      " 148  diag_Z30                                   int64         \n",
      " 149  diag_N51                                   int64         \n",
      " 150  diag_S61                                   int64         \n",
      " 151  diag_U11                                   int64         \n",
      " 152  diag_K11                                   int64         \n",
      " 153  diag_S81                                   int64         \n",
      " 154  diag_T11                                   int64         \n",
      " 155  diag_N77                                   int64         \n",
      " 156  diag_O92                                   int64         \n",
      " 157  diag_L84                                   int64         \n",
      " 158  diag_L28                                   int64         \n",
      " 159  diag_A68                                   int64         \n",
      " 160  diag_R55                                   int64         \n",
      " 161  diag_L71                                   int64         \n",
      " 162  diag_N85                                   int64         \n",
      " 163  diag_S89                                   int64         \n",
      " 164  diag_T23                                   int64         \n",
      " 165  diag_B02                                   int64         \n",
      " 166  diag_O21                                   int64         \n",
      " 167  diag_H04                                   int64         \n",
      " 168  diag_T22                                   int64         \n",
      " 169  diag_T00                                   int64         \n",
      " 170  diag_R23                                   int64         \n",
      " 171  diag_G53                                   int64         \n",
      " 172  diag_J32                                   int64         \n",
      " 173  diag_Z10                                   int64         \n",
      " 174  diag_R60                                   int64         \n",
      " 175  diag_R03                                   int64         \n",
      " 176  diag_M43                                   int64         \n",
      " 177  diag_M47                                   int64         \n",
      " 178  diag_R25                                   int64         \n",
      " 179  diag_L64                                   int64         \n",
      " 180  diag_O00                                   int64         \n",
      " 181  diag_H15                                   int64         \n",
      " 182  diag_K58                                   int64         \n",
      " 183  diag_N32                                   int64         \n",
      " 184  diag_F43                                   int64         \n",
      " 185  diag_L60                                   int64         \n",
      " 186  diag_M06                                   int64         \n",
      " 187  diag_T13                                   int64         \n",
      " 188  diag_S51                                   int64         \n",
      " 189  diag_K05                                   int64         \n",
      " 190  diag_N84                                   int64         \n",
      " 191  diag_R00                                   int64         \n",
      " 192  diag_I25                                   int64         \n",
      " 193  diag_B01                                   int64         \n",
      " 194  diag_S50                                   int64         \n",
      " 195  diag_W01                                   int64         \n",
      " 196  diag_M77                                   int64         \n",
      " 197  diag_I83                                   int64         \n",
      " 198  diag_K00                                   int64         \n",
      " 199  diag_S43                                   int64         \n",
      " 200  diag_R82                                   int64         \n",
      " 201  diag_G56                                   int64         \n",
      " 202  diag_T75                                   int64         \n",
      " 203  diag_R80                                   int64         \n",
      " 204  diag_I48                                   int64         \n",
      " 205  diag_N63                                   int64         \n",
      " 206  diag_L55                                   int64         \n",
      " 207  diag_J34                                   int64         \n",
      " 208  diag_I80                                   int64         \n",
      " 209  diag_F32                                   int64         \n",
      " 210  diag_S30                                   int64         \n",
      " 211  diag_R73                                   int64         \n",
      " 212  diag_K60                                   int64         \n",
      " 213  diag_Z01                                   int64         \n",
      " 214  diag_D25                                   int64         \n",
      " 215  diag_B07                                   int64         \n",
      " 216  diag_N40                                   int64         \n",
      " 217  diag_L23                                   int64         \n",
      " 218  diag_L04                                   int64         \n",
      " 219  diag_M67                                   int64         \n",
      " 220  diag_D75                                   int64         \n",
      " 221  diag_L91                                   int64         \n",
      " 222  diag_S80                                   int64         \n",
      " 223  diag_K06                                   int64         \n",
      " 224  diag_K03                                   int64         \n",
      " 225  diag_G62                                   int64         \n",
      " 226  diag_S53                                   int64         \n",
      " 227  diag_J98                                   int64         \n",
      " 228  diag_K08                                   int64         \n",
      " 229  diag_H06                                   int64         \n",
      " 230  diag_H92                                   int64         \n",
      " 231  diag_F90                                   int64         \n",
      " 232  diag_K14                                   int64         \n",
      " 233  diag_M12                                   int64         \n",
      " 234  diag_F00                                   int64         \n",
      " 235  diag_T31                                   int64         \n",
      " 236  diag_R94                                   int64         \n",
      " 237  diag_M51                                   int64         \n",
      " 238  diag_H18                                   int64         \n",
      " 239  diag_G70                                   int64         \n",
      " 240  diag_L73                                   int64         \n",
      " 241  diag_J35                                   int64         \n",
      " 242  diag_M22                                   int64         \n",
      " 243  diag_D10                                   int64         \n",
      " 244  diag_S46                                   int64         \n",
      " 245  diag_L90                                   int64         \n",
      " 246  diag_L81                                   int64         \n",
      " 247  diag_E29                                   int64         \n",
      " 248  diag_I95                                   int64         \n",
      " 249  diag_B80                                   int64         \n",
      " 250  diag_S01                                   int64         \n",
      " 251  diag_H91                                   int64         \n",
      " 252  diag_F06                                   int64         \n",
      " 253  diag_N91                                   int64         \n",
      " 254  diag_V01                                   int64         \n",
      " 255  diag_M84                                   int64         \n",
      " 256  diag_K76                                   int64         \n",
      " 257  diag_L25                                   int64         \n",
      " 258  diag_K62                                   int64         \n",
      " 259  diag_Z33                                   int64         \n",
      " 260  diag_S70                                   int64         \n",
      " 261  diag_G58                                   int64         \n",
      " 262  diag_H69                                   int64         \n",
      " 263  diag_I05                                   int64         \n",
      " 264  diag_S52                                   int64         \n",
      " 265  diag_A92                                   int64         \n",
      " 266  diag_S96                                   int64         \n",
      " 267  diag_R32                                   int64         \n",
      " 268  diag_I64                                   int64         \n",
      " 269  diag_R12                                   int64         \n",
      " 270  diag_S66                                   int64         \n",
      " 271  diag_H94                                   int64         \n",
      " 272  diag_I88                                   int64         \n",
      " 273  diag_L63                                   int64         \n",
      " 274  diag_F52                                   int64         \n",
      " 275  diag_H40                                   int64         \n",
      " 276  diag_E87                                   int64         \n",
      " 277  diag_J33                                   int64         \n",
      " 278  diag_T63                                   int64         \n",
      " 279  diag_R31                                   int64         \n",
      " 280  diag_I78                                   int64         \n",
      " 281  diag_S05                                   int64         \n",
      " 282  diag_S82                                   int64         \n",
      " 283  diag_T24                                   int64         \n",
      " 284  diag_N30                                   int64         \n",
      " 285  diag_R92                                   int64         \n",
      " 286  diag_R20                                   int64         \n",
      " 287  diag_Z92                                   int64         \n",
      " 288  diag_K51                                   int64         \n",
      " 289  diag_H61                                   int64         \n",
      " 290  diag_K10                                   int64         \n",
      " 291  diag_S03                                   int64         \n",
      " 292  diag_N80                                   int64         \n",
      " 293  diag_S71                                   int64         \n",
      " 294  diag_G25                                   int64         \n",
      " 295  diag_X51                                   int64         \n",
      " 296  diag_D22                                   int64         \n",
      " 297  diag_N42                                   int64         \n",
      " 298  diag_W09                                   int64         \n",
      " 299  diag_W55                                   int64         \n",
      " 300  diag_L74                                   int64         \n",
      " 301  diag_I70                                   int64         \n",
      " 302  diag_Z73                                   int64         \n",
      " 303  diag_S20                                   int64         \n",
      " 304  diag_K50                                   int64         \n",
      " 305  diag_S92                                   int64         \n",
      " 306  diag_S40                                   int64         \n",
      " 307  diag_L99                                   int64         \n",
      " 308  diag_J38                                   int64         \n",
      " 309  diag_M71                                   int64         \n",
      " 310  diag_I49                                   int64         \n",
      " 311  diag_R19                                   int64         \n",
      " 312  diag_L72                                   int64         \n",
      " 313  diag_L40                                   int64         \n",
      " 314  diag_Y56                                   int64         \n",
      " 315  diag_D03                                   int64         \n",
      " 316  diag_L42                                   int64         \n",
      " 317  diag_T17                                   int64         \n",
      " 318  diag_R49                                   int64         \n",
      " 319  diag_H90                                   int64         \n",
      " 320  diag_G51                                   int64         \n",
      " 321  diag_E55                                   int64         \n",
      " 322  diag_L93                                   int64         \n",
      " 323  diag_H70                                   int64         \n",
      " 324  diag_N87                                   int64         \n",
      " 325  diag_M20                                   int64         \n",
      " 326  diag_I65                                   int64         \n",
      " 327  diag_L65                                   int64         \n",
      " 328  diag_B81                                   int64         \n",
      " 329  diag_O90                                   int64         \n",
      " 330  diag_K25                                   int64         \n",
      " 331  diag_X50                                   int64         \n",
      " 332  diag_E66                                   int64         \n",
      " 333  diag_N48                                   int64         \n",
      " 334  diag_S06                                   int64         \n",
      " 335  diag_I86                                   int64         \n",
      " 336  diag_H74                                   int64         \n",
      " 337  diag_L66                                   int64         \n",
      " 338  diag_H26                                   int64         \n",
      " 339  chronic_NoneChronic                        int64         \n",
      " 340  chronic_Vasomotor and allergic rhinitis    int64         \n",
      " 341  chronic_Gout                               int64         \n",
      " 342  chronic_Atopic dermatitis                  int64         \n",
      " 343  chronic_Hypertension                       int64         \n",
      " 344  chronic_Gastro-oesophageal reflux disease  int64         \n",
      " 345  chronic_Hyperlipidaemia                    int64         \n",
      " 346  chronic_Asthma                             int64         \n",
      " 347  chronic_Migraine                           int64         \n",
      " 348  chronic_Diabetes                           int64         \n",
      " 349  chronic_Thyroid                            int64         \n",
      " 350  symp_N                                     int64         \n",
      " 351  symp_headache                              int64         \n",
      " 352  symp_fever                                 int64         \n",
      " 353  symp_giddiness                             int64         \n",
      " 354  symp_others                                int64         \n",
      " 355  symp_medical referral                      int64         \n",
      " 356  symp_vomiting                              int64         \n",
      " 357  symp_diarrhoea                             int64         \n",
      " 358  symp_sore throat                           int64         \n",
      " 359  symp_flu                                   int64         \n",
      " 360  symp_cough                                 int64         \n",
      " 361  symp_cold                                  int64         \n",
      " 362  symp_cold sores                            int64         \n",
      " 363  symp_rash                                  int64         \n",
      " 364  symp_chronic medicine top-up               int64         \n",
      " 365  symp_discuss lab results                   int64         \n",
      " 366  symp_chronic illness management            int64         \n",
      " 367  symp_skin growth on sole (foot)            int64         \n",
      " 368  symp_ulcer under tongue                    int64         \n",
      " 369  symp_vertigo                               int64         \n",
      " 370  symp_runny nose                            int64         \n",
      " 371  Target_chronic                             int64         \n",
      " 372  age_yr                                     float64       \n",
      " 373  consult_hr                                 category      \n",
      "dtypes: category(4), datetime64[ns](1), float64(7), int64(352), object(10)\n",
      "memory usage: 28.2+ MB\n"
     ]
    }
   ],
   "source": [
    "df_final_3.info(\"deep\")"
   ]
  },
  {
   "cell_type": "code",
   "execution_count": 214,
   "id": "4cbbad35",
   "metadata": {
    "ExecuteTime": {
     "end_time": "2022-08-31T09:10:12.765334Z",
     "start_time": "2022-08-31T09:10:12.704459Z"
    },
    "scrolled": false
   },
   "outputs": [
    {
     "data": {
      "text/html": [
       "<div>\n",
       "<style scoped>\n",
       "    .dataframe tbody tr th:only-of-type {\n",
       "        vertical-align: middle;\n",
       "    }\n",
       "\n",
       "    .dataframe tbody tr th {\n",
       "        vertical-align: top;\n",
       "    }\n",
       "\n",
       "    .dataframe thead th {\n",
       "        text-align: right;\n",
       "    }\n",
       "</style>\n",
       "<table border=\"1\" class=\"dataframe\">\n",
       "  <thead>\n",
       "    <tr style=\"text-align: right;\">\n",
       "      <th></th>\n",
       "      <th>0</th>\n",
       "      <th>1</th>\n",
       "      <th>2</th>\n",
       "      <th>3</th>\n",
       "      <th>4</th>\n",
       "    </tr>\n",
       "  </thead>\n",
       "  <tbody>\n",
       "    <tr>\n",
       "      <th>booking_id</th>\n",
       "      <td>EA149BC8-BFBC-4703-B34A-E4BB546EC114</td>\n",
       "      <td>3C374977-6526-4612-80FD-D53BE6CDF499</td>\n",
       "      <td>48958FEF-8052-4624-AEAD-792568C230D0</td>\n",
       "      <td>4013B73D-C9A7-45FC-8A4A-817D68EC3E06</td>\n",
       "      <td>6BF25F05-F16A-4ABC-93AA-49218518D40F</td>\n",
       "    </tr>\n",
       "    <tr>\n",
       "      <th>mem_id</th>\n",
       "      <td>B3FDAFB4-2BCE-420E-98EF-04E57BEAEDC4</td>\n",
       "      <td>E6A4EC49-02D2-45A2-9F84-053D636A9675</td>\n",
       "      <td>4347A549-532F-4A2B-AD31-0670BB1CA8F3</td>\n",
       "      <td>1C5E3562-9894-41D3-B5C2-077E7D17FE8C</td>\n",
       "      <td>8217E3B4-97B8-4605-B339-08F1E96DF3C8</td>\n",
       "    </tr>\n",
       "    <tr>\n",
       "      <th>doctor_id</th>\n",
       "      <td>84599BF3-5C45-4786-9D7C-16CDFA73F1CF</td>\n",
       "      <td>DE28DA35-C28E-49FF-B77C-28E6268F0EF9</td>\n",
       "      <td>DE28DA35-C28E-49FF-B77C-28E6268F0EF9</td>\n",
       "      <td>DE28DA35-C28E-49FF-B77C-28E6268F0EF9</td>\n",
       "      <td>77EFF8BB-D181-4BFB-90A4-75FA494F4BBB</td>\n",
       "    </tr>\n",
       "    <tr>\n",
       "      <th>consult_waived_reason</th>\n",
       "      <td>UNSUITABLE FOR TELECONSULT</td>\n",
       "      <td>NA</td>\n",
       "      <td>NA</td>\n",
       "      <td>NA</td>\n",
       "      <td>NA</td>\n",
       "    </tr>\n",
       "    <tr>\n",
       "      <th>is_mc_issued</th>\n",
       "      <td>0</td>\n",
       "      <td>1</td>\n",
       "      <td>1</td>\n",
       "      <td>0</td>\n",
       "      <td>1</td>\n",
       "    </tr>\n",
       "    <tr>\n",
       "      <th>mc_days</th>\n",
       "      <td>0.0</td>\n",
       "      <td>2.0</td>\n",
       "      <td>1.0</td>\n",
       "      <td>0.0</td>\n",
       "      <td>1.0</td>\n",
       "    </tr>\n",
       "    <tr>\n",
       "      <th>is_referral_letter_issued</th>\n",
       "      <td>0</td>\n",
       "      <td>0</td>\n",
       "      <td>0</td>\n",
       "      <td>1</td>\n",
       "      <td>0</td>\n",
       "    </tr>\n",
       "    <tr>\n",
       "      <th>booking_timestamp</th>\n",
       "      <td>2022-01-29 13:08:19</td>\n",
       "      <td>2022-01-06 12:25:12</td>\n",
       "      <td>2022-01-13 09:51:08</td>\n",
       "      <td>2022-01-11 20:33:35</td>\n",
       "      <td>2022-01-04 09:03:59</td>\n",
       "    </tr>\n",
       "    <tr>\n",
       "      <th>gender</th>\n",
       "      <td>Male</td>\n",
       "      <td>Female</td>\n",
       "      <td>Female</td>\n",
       "      <td>Female</td>\n",
       "      <td>Unknown</td>\n",
       "    </tr>\n",
       "    <tr>\n",
       "      <th>birth_year</th>\n",
       "      <td>1993</td>\n",
       "      <td>1976</td>\n",
       "      <td>1993</td>\n",
       "      <td>1969</td>\n",
       "      <td>1989</td>\n",
       "    </tr>\n",
       "    <tr>\n",
       "      <th>diagnosis_code_list</th>\n",
       "      <td>[U12]</td>\n",
       "      <td>[J30, T88.1]</td>\n",
       "      <td>[K12.3]</td>\n",
       "      <td>[R21]</td>\n",
       "      <td>[A09.9]</td>\n",
       "    </tr>\n",
       "    <tr>\n",
       "      <th>diagnosis_list</th>\n",
       "      <td>[covid-19 vaccines causing adverse effects in therapeutic use]</td>\n",
       "      <td>[vasomotor and allergic rhinitis, other complications following immunization; not elsewhere classified]</td>\n",
       "      <td>[oral mucositis (ulcerative)]</td>\n",
       "      <td>[rash and other nonspecific skin eruption]</td>\n",
       "      <td>[gastroenteritis and colitis of unspecified origin]</td>\n",
       "    </tr>\n",
       "    <tr>\n",
       "      <th>chronic_list</th>\n",
       "      <td>0</td>\n",
       "      <td>0</td>\n",
       "      <td>0</td>\n",
       "      <td>0</td>\n",
       "      <td>0</td>\n",
       "    </tr>\n",
       "    <tr>\n",
       "      <th>count_diagnosis</th>\n",
       "      <td>1.0</td>\n",
       "      <td>2.0</td>\n",
       "      <td>1.0</td>\n",
       "      <td>1.0</td>\n",
       "      <td>1.0</td>\n",
       "    </tr>\n",
       "    <tr>\n",
       "      <th>count_chronic</th>\n",
       "      <td>0.0</td>\n",
       "      <td>1.0</td>\n",
       "      <td>0.0</td>\n",
       "      <td>0.0</td>\n",
       "      <td>0.0</td>\n",
       "    </tr>\n",
       "    <tr>\n",
       "      <th>medicationID_list</th>\n",
       "      <td>NaN</td>\n",
       "      <td>[36836F38-DEE9-4C2F-99C6-DBF7FE5DBAD6, 2B5F01AA-351A-407D-AFE8-FF38EE378BA5]</td>\n",
       "      <td>[E872118D-BE4E-4DDA-B0FD-15284C7E8D95, 642E20BA-46E9-460F-B329-60B8363F8753, 960B1495-908B-48DA-A134-94A2A328B1D1]</td>\n",
       "      <td>NaN</td>\n",
       "      <td>[9B4CF656-C954-4145-9026-905BDEC5028E, 045DD82D-E0AD-435D-8F31-AF95A29331D0, D1D31974-8B2D-4F78-A7A7-F0A15D09A8C2]</td>\n",
       "    </tr>\n",
       "    <tr>\n",
       "      <th>medicationName_list</th>\n",
       "      <td>NaN</td>\n",
       "      <td>[Bilastine 20mg tab (Bilaxten), Paracetamol 500mg tab]</td>\n",
       "      <td>[Thymol Gargle, * Aminacrine HCl 0.05% / Lignocaine HCl 0.66% Gel (15g) (Medijel), Naproxen Sodium 275mg tab]</td>\n",
       "      <td>NaN</td>\n",
       "      <td>[Loperamide 2mg cap, Activated Charcoal tab, *Bioflor 250mg powder for oral suspension]</td>\n",
       "    </tr>\n",
       "    <tr>\n",
       "      <th>medQuantity_list</th>\n",
       "      <td>NaN</td>\n",
       "      <td>[30.0, 40.0]</td>\n",
       "      <td>[1.0, 1.0, 20.0]</td>\n",
       "      <td>NaN</td>\n",
       "      <td>[20.0, 30.0, 10.0]</td>\n",
       "    </tr>\n",
       "    <tr>\n",
       "      <th>medAndQuan_list</th>\n",
       "      <td>NaN</td>\n",
       "      <td>[Bilastine 20mg tab (Bilaxten)|||30.0, Paracetamol 500mg tab|||40.0]</td>\n",
       "      <td>[Thymol Gargle|||1.0, * Aminacrine HCl 0.05% / Lignocaine HCl 0.66% Gel (15g) (Medijel)|||1.0, Naproxen Sodium 275mg tab|||20.0]</td>\n",
       "      <td>NaN</td>\n",
       "      <td>[Loperamide 2mg cap|||20.0, Activated Charcoal tab|||30.0, *Bioflor 250mg powder for oral suspension|||10.0]</td>\n",
       "    </tr>\n",
       "    <tr>\n",
       "      <th>count_medication</th>\n",
       "      <td>0.0</td>\n",
       "      <td>2.0</td>\n",
       "      <td>3.0</td>\n",
       "      <td>0.0</td>\n",
       "      <td>3.0</td>\n",
       "    </tr>\n",
       "    <tr>\n",
       "      <th>count_repeatmed</th>\n",
       "      <td>0.0</td>\n",
       "      <td>1.0</td>\n",
       "      <td>1.0</td>\n",
       "      <td>0.0</td>\n",
       "      <td>1.0</td>\n",
       "    </tr>\n",
       "    <tr>\n",
       "      <th>SymptomID_list</th>\n",
       "      <td>NaN</td>\n",
       "      <td>[6E7F72BF-3C7B-4F0D-B1D2-5E9FB9B5CE9B, EBF8A8FA-AFA4-4FC8-8664-69ABF5E0CBA3, 1B6BFF99-1553-487A-A85E-EBF552D50D23]</td>\n",
       "      <td>[A518BD9F-95E0-411F-B058-F4DEA6AD1884]</td>\n",
       "      <td>[E5CAB7F3-823D-4127-BEF6-37E17B282E09]</td>\n",
       "      <td>[C3AF5B1F-BD74-4700-A1E7-1958B32C80BD, B8F546F4-9C2A-4E31-8ED5-DB3187FA4351]</td>\n",
       "    </tr>\n",
       "    <tr>\n",
       "      <th>SymptomName_list</th>\n",
       "      <td>[N]</td>\n",
       "      <td>[headache, fever, giddiness]</td>\n",
       "      <td>[others]</td>\n",
       "      <td>[medical referral]</td>\n",
       "      <td>[vomiting, diarrhoea]</td>\n",
       "    </tr>\n",
       "    <tr>\n",
       "      <th>count_SymID</th>\n",
       "      <td>0.0</td>\n",
       "      <td>3.0</td>\n",
       "      <td>1.0</td>\n",
       "      <td>1.0</td>\n",
       "      <td>2.0</td>\n",
       "    </tr>\n",
       "    <tr>\n",
       "      <th>diag_U12</th>\n",
       "      <td>1</td>\n",
       "      <td>0</td>\n",
       "      <td>0</td>\n",
       "      <td>0</td>\n",
       "      <td>0</td>\n",
       "    </tr>\n",
       "    <tr>\n",
       "      <th>diag_J30</th>\n",
       "      <td>0</td>\n",
       "      <td>1</td>\n",
       "      <td>0</td>\n",
       "      <td>0</td>\n",
       "      <td>0</td>\n",
       "    </tr>\n",
       "    <tr>\n",
       "      <th>diag_T88</th>\n",
       "      <td>0</td>\n",
       "      <td>1</td>\n",
       "      <td>0</td>\n",
       "      <td>0</td>\n",
       "      <td>0</td>\n",
       "    </tr>\n",
       "    <tr>\n",
       "      <th>diag_K12</th>\n",
       "      <td>0</td>\n",
       "      <td>0</td>\n",
       "      <td>1</td>\n",
       "      <td>0</td>\n",
       "      <td>0</td>\n",
       "    </tr>\n",
       "    <tr>\n",
       "      <th>diag_R21</th>\n",
       "      <td>0</td>\n",
       "      <td>0</td>\n",
       "      <td>0</td>\n",
       "      <td>1</td>\n",
       "      <td>0</td>\n",
       "    </tr>\n",
       "    <tr>\n",
       "      <th>diag_A09</th>\n",
       "      <td>0</td>\n",
       "      <td>0</td>\n",
       "      <td>0</td>\n",
       "      <td>0</td>\n",
       "      <td>1</td>\n",
       "    </tr>\n",
       "    <tr>\n",
       "      <th>diag_H57</th>\n",
       "      <td>0</td>\n",
       "      <td>0</td>\n",
       "      <td>0</td>\n",
       "      <td>0</td>\n",
       "      <td>0</td>\n",
       "    </tr>\n",
       "    <tr>\n",
       "      <th>diag_Z02</th>\n",
       "      <td>0</td>\n",
       "      <td>0</td>\n",
       "      <td>0</td>\n",
       "      <td>0</td>\n",
       "      <td>0</td>\n",
       "    </tr>\n",
       "    <tr>\n",
       "      <th>diag_J06</th>\n",
       "      <td>0</td>\n",
       "      <td>0</td>\n",
       "      <td>0</td>\n",
       "      <td>0</td>\n",
       "      <td>0</td>\n",
       "    </tr>\n",
       "    <tr>\n",
       "      <th>diag_J04</th>\n",
       "      <td>0</td>\n",
       "      <td>0</td>\n",
       "      <td>0</td>\n",
       "      <td>0</td>\n",
       "      <td>0</td>\n",
       "    </tr>\n",
       "    <tr>\n",
       "      <th>diag_Z76</th>\n",
       "      <td>0</td>\n",
       "      <td>0</td>\n",
       "      <td>0</td>\n",
       "      <td>0</td>\n",
       "      <td>0</td>\n",
       "    </tr>\n",
       "    <tr>\n",
       "      <th>diag_M79</th>\n",
       "      <td>0</td>\n",
       "      <td>0</td>\n",
       "      <td>0</td>\n",
       "      <td>0</td>\n",
       "      <td>0</td>\n",
       "    </tr>\n",
       "    <tr>\n",
       "      <th>diag_R51</th>\n",
       "      <td>0</td>\n",
       "      <td>0</td>\n",
       "      <td>0</td>\n",
       "      <td>0</td>\n",
       "      <td>0</td>\n",
       "    </tr>\n",
       "    <tr>\n",
       "      <th>diag_M54</th>\n",
       "      <td>0</td>\n",
       "      <td>0</td>\n",
       "      <td>0</td>\n",
       "      <td>0</td>\n",
       "      <td>0</td>\n",
       "    </tr>\n",
       "    <tr>\n",
       "      <th>diag_R22</th>\n",
       "      <td>0</td>\n",
       "      <td>0</td>\n",
       "      <td>0</td>\n",
       "      <td>0</td>\n",
       "      <td>0</td>\n",
       "    </tr>\n",
       "    <tr>\n",
       "      <th>diag_L50</th>\n",
       "      <td>0</td>\n",
       "      <td>0</td>\n",
       "      <td>0</td>\n",
       "      <td>0</td>\n",
       "      <td>0</td>\n",
       "    </tr>\n",
       "    <tr>\n",
       "      <th>diag_H11</th>\n",
       "      <td>0</td>\n",
       "      <td>0</td>\n",
       "      <td>0</td>\n",
       "      <td>0</td>\n",
       "      <td>0</td>\n",
       "    </tr>\n",
       "    <tr>\n",
       "      <th>diag_B35</th>\n",
       "      <td>0</td>\n",
       "      <td>0</td>\n",
       "      <td>0</td>\n",
       "      <td>0</td>\n",
       "      <td>0</td>\n",
       "    </tr>\n",
       "    <tr>\n",
       "      <th>diag_K30</th>\n",
       "      <td>0</td>\n",
       "      <td>0</td>\n",
       "      <td>0</td>\n",
       "      <td>0</td>\n",
       "      <td>0</td>\n",
       "    </tr>\n",
       "    <tr>\n",
       "      <th>diag_O91</th>\n",
       "      <td>0</td>\n",
       "      <td>0</td>\n",
       "      <td>0</td>\n",
       "      <td>0</td>\n",
       "      <td>0</td>\n",
       "    </tr>\n",
       "    <tr>\n",
       "      <th>diag_R07</th>\n",
       "      <td>0</td>\n",
       "      <td>0</td>\n",
       "      <td>0</td>\n",
       "      <td>0</td>\n",
       "      <td>0</td>\n",
       "    </tr>\n",
       "    <tr>\n",
       "      <th>diag_M10</th>\n",
       "      <td>0</td>\n",
       "      <td>0</td>\n",
       "      <td>0</td>\n",
       "      <td>0</td>\n",
       "      <td>0</td>\n",
       "    </tr>\n",
       "    <tr>\n",
       "      <th>diag_Z71</th>\n",
       "      <td>0</td>\n",
       "      <td>0</td>\n",
       "      <td>0</td>\n",
       "      <td>0</td>\n",
       "      <td>0</td>\n",
       "    </tr>\n",
       "    <tr>\n",
       "      <th>diag_N94</th>\n",
       "      <td>0</td>\n",
       "      <td>0</td>\n",
       "      <td>0</td>\n",
       "      <td>0</td>\n",
       "      <td>0</td>\n",
       "    </tr>\n",
       "    <tr>\n",
       "      <th>diag_K29</th>\n",
       "      <td>0</td>\n",
       "      <td>0</td>\n",
       "      <td>0</td>\n",
       "      <td>0</td>\n",
       "      <td>0</td>\n",
       "    </tr>\n",
       "    <tr>\n",
       "      <th>diag_B37</th>\n",
       "      <td>0</td>\n",
       "      <td>0</td>\n",
       "      <td>0</td>\n",
       "      <td>0</td>\n",
       "      <td>0</td>\n",
       "    </tr>\n",
       "    <tr>\n",
       "      <th>diag_R50</th>\n",
       "      <td>0</td>\n",
       "      <td>0</td>\n",
       "      <td>0</td>\n",
       "      <td>0</td>\n",
       "      <td>0</td>\n",
       "    </tr>\n",
       "    <tr>\n",
       "      <th>diag_N39</th>\n",
       "      <td>0</td>\n",
       "      <td>0</td>\n",
       "      <td>0</td>\n",
       "      <td>0</td>\n",
       "      <td>0</td>\n",
       "    </tr>\n",
       "    <tr>\n",
       "      <th>diag_R09</th>\n",
       "      <td>0</td>\n",
       "      <td>0</td>\n",
       "      <td>0</td>\n",
       "      <td>0</td>\n",
       "      <td>0</td>\n",
       "    </tr>\n",
       "    <tr>\n",
       "      <th>diag_M50</th>\n",
       "      <td>0</td>\n",
       "      <td>0</td>\n",
       "      <td>0</td>\n",
       "      <td>0</td>\n",
       "      <td>0</td>\n",
       "    </tr>\n",
       "    <tr>\n",
       "      <th>diag_R42</th>\n",
       "      <td>0</td>\n",
       "      <td>0</td>\n",
       "      <td>0</td>\n",
       "      <td>0</td>\n",
       "      <td>0</td>\n",
       "    </tr>\n",
       "    <tr>\n",
       "      <th>diag_W57</th>\n",
       "      <td>0</td>\n",
       "      <td>0</td>\n",
       "      <td>0</td>\n",
       "      <td>0</td>\n",
       "      <td>0</td>\n",
       "    </tr>\n",
       "    <tr>\n",
       "      <th>diag_B00</th>\n",
       "      <td>0</td>\n",
       "      <td>0</td>\n",
       "      <td>0</td>\n",
       "      <td>0</td>\n",
       "      <td>0</td>\n",
       "    </tr>\n",
       "    <tr>\n",
       "      <th>diag_L70</th>\n",
       "      <td>0</td>\n",
       "      <td>0</td>\n",
       "      <td>0</td>\n",
       "      <td>0</td>\n",
       "      <td>0</td>\n",
       "    </tr>\n",
       "    <tr>\n",
       "      <th>diag_R14</th>\n",
       "      <td>0</td>\n",
       "      <td>0</td>\n",
       "      <td>0</td>\n",
       "      <td>0</td>\n",
       "      <td>0</td>\n",
       "    </tr>\n",
       "    <tr>\n",
       "      <th>diag_H00</th>\n",
       "      <td>0</td>\n",
       "      <td>0</td>\n",
       "      <td>0</td>\n",
       "      <td>0</td>\n",
       "      <td>0</td>\n",
       "    </tr>\n",
       "    <tr>\n",
       "      <th>diag_L98</th>\n",
       "      <td>0</td>\n",
       "      <td>0</td>\n",
       "      <td>0</td>\n",
       "      <td>0</td>\n",
       "      <td>0</td>\n",
       "    </tr>\n",
       "    <tr>\n",
       "      <th>diag_U07</th>\n",
       "      <td>0</td>\n",
       "      <td>0</td>\n",
       "      <td>0</td>\n",
       "      <td>0</td>\n",
       "      <td>0</td>\n",
       "    </tr>\n",
       "    <tr>\n",
       "      <th>diag_M75</th>\n",
       "      <td>0</td>\n",
       "      <td>0</td>\n",
       "      <td>0</td>\n",
       "      <td>0</td>\n",
       "      <td>0</td>\n",
       "    </tr>\n",
       "    <tr>\n",
       "      <th>diag_R45</th>\n",
       "      <td>0</td>\n",
       "      <td>0</td>\n",
       "      <td>0</td>\n",
       "      <td>0</td>\n",
       "      <td>0</td>\n",
       "    </tr>\n",
       "    <tr>\n",
       "      <th>diag_R05</th>\n",
       "      <td>0</td>\n",
       "      <td>0</td>\n",
       "      <td>0</td>\n",
       "      <td>0</td>\n",
       "      <td>0</td>\n",
       "    </tr>\n",
       "    <tr>\n",
       "      <th>diag_R63</th>\n",
       "      <td>0</td>\n",
       "      <td>0</td>\n",
       "      <td>0</td>\n",
       "      <td>0</td>\n",
       "      <td>0</td>\n",
       "    </tr>\n",
       "    <tr>\n",
       "      <th>diag_L20</th>\n",
       "      <td>0</td>\n",
       "      <td>0</td>\n",
       "      <td>0</td>\n",
       "      <td>0</td>\n",
       "      <td>0</td>\n",
       "    </tr>\n",
       "    <tr>\n",
       "      <th>diag_J39</th>\n",
       "      <td>0</td>\n",
       "      <td>0</td>\n",
       "      <td>0</td>\n",
       "      <td>0</td>\n",
       "      <td>0</td>\n",
       "    </tr>\n",
       "    <tr>\n",
       "      <th>diag_J02</th>\n",
       "      <td>0</td>\n",
       "      <td>0</td>\n",
       "      <td>0</td>\n",
       "      <td>0</td>\n",
       "      <td>0</td>\n",
       "    </tr>\n",
       "    <tr>\n",
       "      <th>diag_L02</th>\n",
       "      <td>0</td>\n",
       "      <td>0</td>\n",
       "      <td>0</td>\n",
       "      <td>0</td>\n",
       "      <td>0</td>\n",
       "    </tr>\n",
       "    <tr>\n",
       "      <th>diag_I10</th>\n",
       "      <td>0</td>\n",
       "      <td>0</td>\n",
       "      <td>0</td>\n",
       "      <td>0</td>\n",
       "      <td>0</td>\n",
       "    </tr>\n",
       "    <tr>\n",
       "      <th>diag_K21</th>\n",
       "      <td>0</td>\n",
       "      <td>0</td>\n",
       "      <td>0</td>\n",
       "      <td>0</td>\n",
       "      <td>0</td>\n",
       "    </tr>\n",
       "    <tr>\n",
       "      <th>diag_J20</th>\n",
       "      <td>0</td>\n",
       "      <td>0</td>\n",
       "      <td>0</td>\n",
       "      <td>0</td>\n",
       "      <td>0</td>\n",
       "    </tr>\n",
       "    <tr>\n",
       "      <th>diag_H02</th>\n",
       "      <td>0</td>\n",
       "      <td>0</td>\n",
       "      <td>0</td>\n",
       "      <td>0</td>\n",
       "      <td>0</td>\n",
       "    </tr>\n",
       "    <tr>\n",
       "      <th>diag_S83</th>\n",
       "      <td>0</td>\n",
       "      <td>0</td>\n",
       "      <td>0</td>\n",
       "      <td>0</td>\n",
       "      <td>0</td>\n",
       "    </tr>\n",
       "    <tr>\n",
       "      <th>diag_L03</th>\n",
       "      <td>0</td>\n",
       "      <td>0</td>\n",
       "      <td>0</td>\n",
       "      <td>0</td>\n",
       "      <td>0</td>\n",
       "    </tr>\n",
       "    <tr>\n",
       "      <th>diag_M76</th>\n",
       "      <td>0</td>\n",
       "      <td>0</td>\n",
       "      <td>0</td>\n",
       "      <td>0</td>\n",
       "      <td>0</td>\n",
       "    </tr>\n",
       "    <tr>\n",
       "      <th>diag_M62</th>\n",
       "      <td>0</td>\n",
       "      <td>0</td>\n",
       "      <td>0</td>\n",
       "      <td>0</td>\n",
       "      <td>0</td>\n",
       "    </tr>\n",
       "    <tr>\n",
       "      <th>diag_H10</th>\n",
       "      <td>0</td>\n",
       "      <td>0</td>\n",
       "      <td>0</td>\n",
       "      <td>0</td>\n",
       "      <td>0</td>\n",
       "    </tr>\n",
       "    <tr>\n",
       "      <th>diag_L24</th>\n",
       "      <td>0</td>\n",
       "      <td>0</td>\n",
       "      <td>0</td>\n",
       "      <td>0</td>\n",
       "      <td>0</td>\n",
       "    </tr>\n",
       "    <tr>\n",
       "      <th>diag_L30</th>\n",
       "      <td>0</td>\n",
       "      <td>0</td>\n",
       "      <td>0</td>\n",
       "      <td>0</td>\n",
       "      <td>0</td>\n",
       "    </tr>\n",
       "    <tr>\n",
       "      <th>diag_K59</th>\n",
       "      <td>0</td>\n",
       "      <td>0</td>\n",
       "      <td>0</td>\n",
       "      <td>0</td>\n",
       "      <td>0</td>\n",
       "    </tr>\n",
       "    <tr>\n",
       "      <th>diag_Y42</th>\n",
       "      <td>0</td>\n",
       "      <td>0</td>\n",
       "      <td>0</td>\n",
       "      <td>0</td>\n",
       "      <td>0</td>\n",
       "    </tr>\n",
       "    <tr>\n",
       "      <th>diag_K07</th>\n",
       "      <td>0</td>\n",
       "      <td>0</td>\n",
       "      <td>0</td>\n",
       "      <td>0</td>\n",
       "      <td>0</td>\n",
       "    </tr>\n",
       "    <tr>\n",
       "      <th>diag_E78</th>\n",
       "      <td>0</td>\n",
       "      <td>0</td>\n",
       "      <td>0</td>\n",
       "      <td>0</td>\n",
       "      <td>0</td>\n",
       "    </tr>\n",
       "    <tr>\n",
       "      <th>diag_K64</th>\n",
       "      <td>0</td>\n",
       "      <td>0</td>\n",
       "      <td>0</td>\n",
       "      <td>0</td>\n",
       "      <td>0</td>\n",
       "    </tr>\n",
       "    <tr>\n",
       "      <th>diag_J45</th>\n",
       "      <td>0</td>\n",
       "      <td>0</td>\n",
       "      <td>0</td>\n",
       "      <td>0</td>\n",
       "      <td>0</td>\n",
       "    </tr>\n",
       "    <tr>\n",
       "      <th>diag_S90</th>\n",
       "      <td>0</td>\n",
       "      <td>0</td>\n",
       "      <td>0</td>\n",
       "      <td>0</td>\n",
       "      <td>0</td>\n",
       "    </tr>\n",
       "    <tr>\n",
       "      <th>diag_G43</th>\n",
       "      <td>0</td>\n",
       "      <td>0</td>\n",
       "      <td>0</td>\n",
       "      <td>0</td>\n",
       "      <td>0</td>\n",
       "    </tr>\n",
       "    <tr>\n",
       "      <th>diag_B08</th>\n",
       "      <td>0</td>\n",
       "      <td>0</td>\n",
       "      <td>0</td>\n",
       "      <td>0</td>\n",
       "      <td>0</td>\n",
       "    </tr>\n",
       "    <tr>\n",
       "      <th>diag_G47</th>\n",
       "      <td>0</td>\n",
       "      <td>0</td>\n",
       "      <td>0</td>\n",
       "      <td>0</td>\n",
       "      <td>0</td>\n",
       "    </tr>\n",
       "    <tr>\n",
       "      <th>diag_T78</th>\n",
       "      <td>0</td>\n",
       "      <td>0</td>\n",
       "      <td>0</td>\n",
       "      <td>0</td>\n",
       "      <td>0</td>\n",
       "    </tr>\n",
       "    <tr>\n",
       "      <th>diag_U08</th>\n",
       "      <td>0</td>\n",
       "      <td>0</td>\n",
       "      <td>0</td>\n",
       "      <td>0</td>\n",
       "      <td>0</td>\n",
       "    </tr>\n",
       "    <tr>\n",
       "      <th>diag_H81</th>\n",
       "      <td>0</td>\n",
       "      <td>0</td>\n",
       "      <td>0</td>\n",
       "      <td>0</td>\n",
       "      <td>0</td>\n",
       "    </tr>\n",
       "    <tr>\n",
       "      <th>diag_G44</th>\n",
       "      <td>0</td>\n",
       "      <td>0</td>\n",
       "      <td>0</td>\n",
       "      <td>0</td>\n",
       "      <td>0</td>\n",
       "    </tr>\n",
       "    <tr>\n",
       "      <th>diag_N92</th>\n",
       "      <td>0</td>\n",
       "      <td>0</td>\n",
       "      <td>0</td>\n",
       "      <td>0</td>\n",
       "      <td>0</td>\n",
       "    </tr>\n",
       "    <tr>\n",
       "      <th>diag_J01</th>\n",
       "      <td>0</td>\n",
       "      <td>0</td>\n",
       "      <td>0</td>\n",
       "      <td>0</td>\n",
       "      <td>0</td>\n",
       "    </tr>\n",
       "    <tr>\n",
       "      <th>diag_E11</th>\n",
       "      <td>0</td>\n",
       "      <td>0</td>\n",
       "      <td>0</td>\n",
       "      <td>0</td>\n",
       "      <td>0</td>\n",
       "    </tr>\n",
       "    <tr>\n",
       "      <th>diag_H66</th>\n",
       "      <td>0</td>\n",
       "      <td>0</td>\n",
       "      <td>0</td>\n",
       "      <td>0</td>\n",
       "      <td>0</td>\n",
       "    </tr>\n",
       "    <tr>\n",
       "      <th>diag_M25</th>\n",
       "      <td>0</td>\n",
       "      <td>0</td>\n",
       "      <td>0</td>\n",
       "      <td>0</td>\n",
       "      <td>0</td>\n",
       "    </tr>\n",
       "    <tr>\n",
       "      <th>diag_F38</th>\n",
       "      <td>0</td>\n",
       "      <td>0</td>\n",
       "      <td>0</td>\n",
       "      <td>0</td>\n",
       "      <td>0</td>\n",
       "    </tr>\n",
       "    <tr>\n",
       "      <th>diag_H01</th>\n",
       "      <td>0</td>\n",
       "      <td>0</td>\n",
       "      <td>0</td>\n",
       "      <td>0</td>\n",
       "      <td>0</td>\n",
       "    </tr>\n",
       "    <tr>\n",
       "      <th>diag_G71</th>\n",
       "      <td>0</td>\n",
       "      <td>0</td>\n",
       "      <td>0</td>\n",
       "      <td>0</td>\n",
       "      <td>0</td>\n",
       "    </tr>\n",
       "    <tr>\n",
       "      <th>diag_R53</th>\n",
       "      <td>0</td>\n",
       "      <td>0</td>\n",
       "      <td>0</td>\n",
       "      <td>0</td>\n",
       "      <td>0</td>\n",
       "    </tr>\n",
       "    <tr>\n",
       "      <th>diag_M23</th>\n",
       "      <td>0</td>\n",
       "      <td>0</td>\n",
       "      <td>0</td>\n",
       "      <td>0</td>\n",
       "      <td>0</td>\n",
       "    </tr>\n",
       "    <tr>\n",
       "      <th>diag_S13</th>\n",
       "      <td>0</td>\n",
       "      <td>0</td>\n",
       "      <td>0</td>\n",
       "      <td>0</td>\n",
       "      <td>0</td>\n",
       "    </tr>\n",
       "    <tr>\n",
       "      <th>diag_S00</th>\n",
       "      <td>0</td>\n",
       "      <td>0</td>\n",
       "      <td>0</td>\n",
       "      <td>0</td>\n",
       "      <td>0</td>\n",
       "    </tr>\n",
       "    <tr>\n",
       "      <th>diag_U09</th>\n",
       "      <td>0</td>\n",
       "      <td>0</td>\n",
       "      <td>0</td>\n",
       "      <td>0</td>\n",
       "      <td>0</td>\n",
       "    </tr>\n",
       "    <tr>\n",
       "      <th>diag_H93</th>\n",
       "      <td>0</td>\n",
       "      <td>0</td>\n",
       "      <td>0</td>\n",
       "      <td>0</td>\n",
       "      <td>0</td>\n",
       "    </tr>\n",
       "    <tr>\n",
       "      <th>diag_B36</th>\n",
       "      <td>0</td>\n",
       "      <td>0</td>\n",
       "      <td>0</td>\n",
       "      <td>0</td>\n",
       "      <td>0</td>\n",
       "    </tr>\n",
       "    <tr>\n",
       "      <th>diag_S60</th>\n",
       "      <td>0</td>\n",
       "      <td>0</td>\n",
       "      <td>0</td>\n",
       "      <td>0</td>\n",
       "      <td>0</td>\n",
       "    </tr>\n",
       "    <tr>\n",
       "      <th>diag_E61</th>\n",
       "      <td>0</td>\n",
       "      <td>0</td>\n",
       "      <td>0</td>\n",
       "      <td>0</td>\n",
       "      <td>0</td>\n",
       "    </tr>\n",
       "    <tr>\n",
       "      <th>diag_R52</th>\n",
       "      <td>0</td>\n",
       "      <td>0</td>\n",
       "      <td>0</td>\n",
       "      <td>0</td>\n",
       "      <td>0</td>\n",
       "    </tr>\n",
       "    <tr>\n",
       "      <th>diag_H60</th>\n",
       "      <td>0</td>\n",
       "      <td>0</td>\n",
       "      <td>0</td>\n",
       "      <td>0</td>\n",
       "      <td>0</td>\n",
       "    </tr>\n",
       "    <tr>\n",
       "      <th>diag_M17</th>\n",
       "      <td>0</td>\n",
       "      <td>0</td>\n",
       "      <td>0</td>\n",
       "      <td>0</td>\n",
       "      <td>0</td>\n",
       "    </tr>\n",
       "    <tr>\n",
       "      <th>diag_R06</th>\n",
       "      <td>0</td>\n",
       "      <td>0</td>\n",
       "      <td>0</td>\n",
       "      <td>0</td>\n",
       "      <td>0</td>\n",
       "    </tr>\n",
       "    <tr>\n",
       "      <th>diag_N64</th>\n",
       "      <td>0</td>\n",
       "      <td>0</td>\n",
       "      <td>0</td>\n",
       "      <td>0</td>\n",
       "      <td>0</td>\n",
       "    </tr>\n",
       "    <tr>\n",
       "      <th>diag_R10</th>\n",
       "      <td>0</td>\n",
       "      <td>0</td>\n",
       "      <td>0</td>\n",
       "      <td>0</td>\n",
       "      <td>0</td>\n",
       "    </tr>\n",
       "    <tr>\n",
       "      <th>diag_R11</th>\n",
       "      <td>0</td>\n",
       "      <td>0</td>\n",
       "      <td>0</td>\n",
       "      <td>0</td>\n",
       "      <td>0</td>\n",
       "    </tr>\n",
       "    <tr>\n",
       "      <th>diag_E03</th>\n",
       "      <td>0</td>\n",
       "      <td>0</td>\n",
       "      <td>0</td>\n",
       "      <td>0</td>\n",
       "      <td>0</td>\n",
       "    </tr>\n",
       "    <tr>\n",
       "      <th>diag_J03</th>\n",
       "      <td>0</td>\n",
       "      <td>0</td>\n",
       "      <td>0</td>\n",
       "      <td>0</td>\n",
       "      <td>0</td>\n",
       "    </tr>\n",
       "    <tr>\n",
       "      <th>diag_S33</th>\n",
       "      <td>0</td>\n",
       "      <td>0</td>\n",
       "      <td>0</td>\n",
       "      <td>0</td>\n",
       "      <td>0</td>\n",
       "    </tr>\n",
       "    <tr>\n",
       "      <th>diag_Z13</th>\n",
       "      <td>0</td>\n",
       "      <td>0</td>\n",
       "      <td>0</td>\n",
       "      <td>0</td>\n",
       "      <td>0</td>\n",
       "    </tr>\n",
       "    <tr>\n",
       "      <th>diag_L29</th>\n",
       "      <td>0</td>\n",
       "      <td>0</td>\n",
       "      <td>0</td>\n",
       "      <td>0</td>\n",
       "      <td>0</td>\n",
       "    </tr>\n",
       "    <tr>\n",
       "      <th>diag_S23</th>\n",
       "      <td>0</td>\n",
       "      <td>0</td>\n",
       "      <td>0</td>\n",
       "      <td>0</td>\n",
       "      <td>0</td>\n",
       "    </tr>\n",
       "    <tr>\n",
       "      <th>diag_D50</th>\n",
       "      <td>0</td>\n",
       "      <td>0</td>\n",
       "      <td>0</td>\n",
       "      <td>0</td>\n",
       "      <td>0</td>\n",
       "    </tr>\n",
       "    <tr>\n",
       "      <th>diag_K52</th>\n",
       "      <td>0</td>\n",
       "      <td>0</td>\n",
       "      <td>0</td>\n",
       "      <td>0</td>\n",
       "      <td>0</td>\n",
       "    </tr>\n",
       "    <tr>\n",
       "      <th>diag_S93</th>\n",
       "      <td>0</td>\n",
       "      <td>0</td>\n",
       "      <td>0</td>\n",
       "      <td>0</td>\n",
       "      <td>0</td>\n",
       "    </tr>\n",
       "    <tr>\n",
       "      <th>diag_F41</th>\n",
       "      <td>0</td>\n",
       "      <td>0</td>\n",
       "      <td>0</td>\n",
       "      <td>0</td>\n",
       "      <td>0</td>\n",
       "    </tr>\n",
       "    <tr>\n",
       "      <th>diag_R04</th>\n",
       "      <td>0</td>\n",
       "      <td>0</td>\n",
       "      <td>0</td>\n",
       "      <td>0</td>\n",
       "      <td>0</td>\n",
       "    </tr>\n",
       "    <tr>\n",
       "      <th>diag_E28</th>\n",
       "      <td>0</td>\n",
       "      <td>0</td>\n",
       "      <td>0</td>\n",
       "      <td>0</td>\n",
       "      <td>0</td>\n",
       "    </tr>\n",
       "    <tr>\n",
       "      <th>diag_R59</th>\n",
       "      <td>0</td>\n",
       "      <td>0</td>\n",
       "      <td>0</td>\n",
       "      <td>0</td>\n",
       "      <td>0</td>\n",
       "    </tr>\n",
       "    <tr>\n",
       "      <th>diag_J22</th>\n",
       "      <td>0</td>\n",
       "      <td>0</td>\n",
       "      <td>0</td>\n",
       "      <td>0</td>\n",
       "      <td>0</td>\n",
       "    </tr>\n",
       "    <tr>\n",
       "      <th>diag_Z53</th>\n",
       "      <td>0</td>\n",
       "      <td>0</td>\n",
       "      <td>0</td>\n",
       "      <td>0</td>\n",
       "      <td>0</td>\n",
       "    </tr>\n",
       "    <tr>\n",
       "      <th>diag_N02</th>\n",
       "      <td>0</td>\n",
       "      <td>0</td>\n",
       "      <td>0</td>\n",
       "      <td>0</td>\n",
       "      <td>0</td>\n",
       "    </tr>\n",
       "    <tr>\n",
       "      <th>diag_S63</th>\n",
       "      <td>0</td>\n",
       "      <td>0</td>\n",
       "      <td>0</td>\n",
       "      <td>0</td>\n",
       "      <td>0</td>\n",
       "    </tr>\n",
       "    <tr>\n",
       "      <th>diag_B30</th>\n",
       "      <td>0</td>\n",
       "      <td>0</td>\n",
       "      <td>0</td>\n",
       "      <td>0</td>\n",
       "      <td>0</td>\n",
       "    </tr>\n",
       "    <tr>\n",
       "      <th>diag_M65</th>\n",
       "      <td>0</td>\n",
       "      <td>0</td>\n",
       "      <td>0</td>\n",
       "      <td>0</td>\n",
       "      <td>0</td>\n",
       "    </tr>\n",
       "    <tr>\n",
       "      <th>diag_E05</th>\n",
       "      <td>0</td>\n",
       "      <td>0</td>\n",
       "      <td>0</td>\n",
       "      <td>0</td>\n",
       "      <td>0</td>\n",
       "    </tr>\n",
       "    <tr>\n",
       "      <th>diag_H58</th>\n",
       "      <td>0</td>\n",
       "      <td>0</td>\n",
       "      <td>0</td>\n",
       "      <td>0</td>\n",
       "      <td>0</td>\n",
       "    </tr>\n",
       "    <tr>\n",
       "      <th>diag_M72</th>\n",
       "      <td>0</td>\n",
       "      <td>0</td>\n",
       "      <td>0</td>\n",
       "      <td>0</td>\n",
       "      <td>0</td>\n",
       "    </tr>\n",
       "    <tr>\n",
       "      <th>diag_P39</th>\n",
       "      <td>0</td>\n",
       "      <td>0</td>\n",
       "      <td>0</td>\n",
       "      <td>0</td>\n",
       "      <td>0</td>\n",
       "    </tr>\n",
       "    <tr>\n",
       "      <th>diag_L85</th>\n",
       "      <td>0</td>\n",
       "      <td>0</td>\n",
       "      <td>0</td>\n",
       "      <td>0</td>\n",
       "      <td>0</td>\n",
       "    </tr>\n",
       "    <tr>\n",
       "      <th>diag_N76</th>\n",
       "      <td>0</td>\n",
       "      <td>0</td>\n",
       "      <td>0</td>\n",
       "      <td>0</td>\n",
       "      <td>0</td>\n",
       "    </tr>\n",
       "    <tr>\n",
       "      <th>diag_L21</th>\n",
       "      <td>0</td>\n",
       "      <td>0</td>\n",
       "      <td>0</td>\n",
       "      <td>0</td>\n",
       "      <td>0</td>\n",
       "    </tr>\n",
       "    <tr>\n",
       "      <th>diag_Y58</th>\n",
       "      <td>0</td>\n",
       "      <td>0</td>\n",
       "      <td>0</td>\n",
       "      <td>0</td>\n",
       "      <td>0</td>\n",
       "    </tr>\n",
       "    <tr>\n",
       "      <th>diag_K13</th>\n",
       "      <td>0</td>\n",
       "      <td>0</td>\n",
       "      <td>0</td>\n",
       "      <td>0</td>\n",
       "      <td>0</td>\n",
       "    </tr>\n",
       "    <tr>\n",
       "      <th>diag_Y60</th>\n",
       "      <td>0</td>\n",
       "      <td>0</td>\n",
       "      <td>0</td>\n",
       "      <td>0</td>\n",
       "      <td>0</td>\n",
       "    </tr>\n",
       "    <tr>\n",
       "      <th>diag_Z30</th>\n",
       "      <td>0</td>\n",
       "      <td>0</td>\n",
       "      <td>0</td>\n",
       "      <td>0</td>\n",
       "      <td>0</td>\n",
       "    </tr>\n",
       "    <tr>\n",
       "      <th>diag_N51</th>\n",
       "      <td>0</td>\n",
       "      <td>0</td>\n",
       "      <td>0</td>\n",
       "      <td>0</td>\n",
       "      <td>0</td>\n",
       "    </tr>\n",
       "    <tr>\n",
       "      <th>diag_S61</th>\n",
       "      <td>0</td>\n",
       "      <td>0</td>\n",
       "      <td>0</td>\n",
       "      <td>0</td>\n",
       "      <td>0</td>\n",
       "    </tr>\n",
       "    <tr>\n",
       "      <th>diag_U11</th>\n",
       "      <td>0</td>\n",
       "      <td>0</td>\n",
       "      <td>0</td>\n",
       "      <td>0</td>\n",
       "      <td>0</td>\n",
       "    </tr>\n",
       "    <tr>\n",
       "      <th>diag_K11</th>\n",
       "      <td>0</td>\n",
       "      <td>0</td>\n",
       "      <td>0</td>\n",
       "      <td>0</td>\n",
       "      <td>0</td>\n",
       "    </tr>\n",
       "    <tr>\n",
       "      <th>diag_S81</th>\n",
       "      <td>0</td>\n",
       "      <td>0</td>\n",
       "      <td>0</td>\n",
       "      <td>0</td>\n",
       "      <td>0</td>\n",
       "    </tr>\n",
       "    <tr>\n",
       "      <th>diag_T11</th>\n",
       "      <td>0</td>\n",
       "      <td>0</td>\n",
       "      <td>0</td>\n",
       "      <td>0</td>\n",
       "      <td>0</td>\n",
       "    </tr>\n",
       "    <tr>\n",
       "      <th>diag_N77</th>\n",
       "      <td>0</td>\n",
       "      <td>0</td>\n",
       "      <td>0</td>\n",
       "      <td>0</td>\n",
       "      <td>0</td>\n",
       "    </tr>\n",
       "    <tr>\n",
       "      <th>diag_O92</th>\n",
       "      <td>0</td>\n",
       "      <td>0</td>\n",
       "      <td>0</td>\n",
       "      <td>0</td>\n",
       "      <td>0</td>\n",
       "    </tr>\n",
       "    <tr>\n",
       "      <th>diag_L84</th>\n",
       "      <td>0</td>\n",
       "      <td>0</td>\n",
       "      <td>0</td>\n",
       "      <td>0</td>\n",
       "      <td>0</td>\n",
       "    </tr>\n",
       "    <tr>\n",
       "      <th>diag_L28</th>\n",
       "      <td>0</td>\n",
       "      <td>0</td>\n",
       "      <td>0</td>\n",
       "      <td>0</td>\n",
       "      <td>0</td>\n",
       "    </tr>\n",
       "    <tr>\n",
       "      <th>diag_A68</th>\n",
       "      <td>0</td>\n",
       "      <td>0</td>\n",
       "      <td>0</td>\n",
       "      <td>0</td>\n",
       "      <td>0</td>\n",
       "    </tr>\n",
       "    <tr>\n",
       "      <th>diag_R55</th>\n",
       "      <td>0</td>\n",
       "      <td>0</td>\n",
       "      <td>0</td>\n",
       "      <td>0</td>\n",
       "      <td>0</td>\n",
       "    </tr>\n",
       "    <tr>\n",
       "      <th>diag_L71</th>\n",
       "      <td>0</td>\n",
       "      <td>0</td>\n",
       "      <td>0</td>\n",
       "      <td>0</td>\n",
       "      <td>0</td>\n",
       "    </tr>\n",
       "    <tr>\n",
       "      <th>diag_N85</th>\n",
       "      <td>0</td>\n",
       "      <td>0</td>\n",
       "      <td>0</td>\n",
       "      <td>0</td>\n",
       "      <td>0</td>\n",
       "    </tr>\n",
       "    <tr>\n",
       "      <th>diag_S89</th>\n",
       "      <td>0</td>\n",
       "      <td>0</td>\n",
       "      <td>0</td>\n",
       "      <td>0</td>\n",
       "      <td>0</td>\n",
       "    </tr>\n",
       "    <tr>\n",
       "      <th>diag_T23</th>\n",
       "      <td>0</td>\n",
       "      <td>0</td>\n",
       "      <td>0</td>\n",
       "      <td>0</td>\n",
       "      <td>0</td>\n",
       "    </tr>\n",
       "    <tr>\n",
       "      <th>diag_B02</th>\n",
       "      <td>0</td>\n",
       "      <td>0</td>\n",
       "      <td>0</td>\n",
       "      <td>0</td>\n",
       "      <td>0</td>\n",
       "    </tr>\n",
       "    <tr>\n",
       "      <th>diag_O21</th>\n",
       "      <td>0</td>\n",
       "      <td>0</td>\n",
       "      <td>0</td>\n",
       "      <td>0</td>\n",
       "      <td>0</td>\n",
       "    </tr>\n",
       "    <tr>\n",
       "      <th>diag_H04</th>\n",
       "      <td>0</td>\n",
       "      <td>0</td>\n",
       "      <td>0</td>\n",
       "      <td>0</td>\n",
       "      <td>0</td>\n",
       "    </tr>\n",
       "    <tr>\n",
       "      <th>diag_T22</th>\n",
       "      <td>0</td>\n",
       "      <td>0</td>\n",
       "      <td>0</td>\n",
       "      <td>0</td>\n",
       "      <td>0</td>\n",
       "    </tr>\n",
       "    <tr>\n",
       "      <th>diag_T00</th>\n",
       "      <td>0</td>\n",
       "      <td>0</td>\n",
       "      <td>0</td>\n",
       "      <td>0</td>\n",
       "      <td>0</td>\n",
       "    </tr>\n",
       "    <tr>\n",
       "      <th>diag_R23</th>\n",
       "      <td>0</td>\n",
       "      <td>0</td>\n",
       "      <td>0</td>\n",
       "      <td>0</td>\n",
       "      <td>0</td>\n",
       "    </tr>\n",
       "    <tr>\n",
       "      <th>diag_G53</th>\n",
       "      <td>0</td>\n",
       "      <td>0</td>\n",
       "      <td>0</td>\n",
       "      <td>0</td>\n",
       "      <td>0</td>\n",
       "    </tr>\n",
       "    <tr>\n",
       "      <th>diag_J32</th>\n",
       "      <td>0</td>\n",
       "      <td>0</td>\n",
       "      <td>0</td>\n",
       "      <td>0</td>\n",
       "      <td>0</td>\n",
       "    </tr>\n",
       "    <tr>\n",
       "      <th>diag_Z10</th>\n",
       "      <td>0</td>\n",
       "      <td>0</td>\n",
       "      <td>0</td>\n",
       "      <td>0</td>\n",
       "      <td>0</td>\n",
       "    </tr>\n",
       "    <tr>\n",
       "      <th>diag_R60</th>\n",
       "      <td>0</td>\n",
       "      <td>0</td>\n",
       "      <td>0</td>\n",
       "      <td>0</td>\n",
       "      <td>0</td>\n",
       "    </tr>\n",
       "    <tr>\n",
       "      <th>diag_R03</th>\n",
       "      <td>0</td>\n",
       "      <td>0</td>\n",
       "      <td>0</td>\n",
       "      <td>0</td>\n",
       "      <td>0</td>\n",
       "    </tr>\n",
       "    <tr>\n",
       "      <th>diag_M43</th>\n",
       "      <td>0</td>\n",
       "      <td>0</td>\n",
       "      <td>0</td>\n",
       "      <td>0</td>\n",
       "      <td>0</td>\n",
       "    </tr>\n",
       "    <tr>\n",
       "      <th>diag_M47</th>\n",
       "      <td>0</td>\n",
       "      <td>0</td>\n",
       "      <td>0</td>\n",
       "      <td>0</td>\n",
       "      <td>0</td>\n",
       "    </tr>\n",
       "    <tr>\n",
       "      <th>diag_R25</th>\n",
       "      <td>0</td>\n",
       "      <td>0</td>\n",
       "      <td>0</td>\n",
       "      <td>0</td>\n",
       "      <td>0</td>\n",
       "    </tr>\n",
       "    <tr>\n",
       "      <th>diag_L64</th>\n",
       "      <td>0</td>\n",
       "      <td>0</td>\n",
       "      <td>0</td>\n",
       "      <td>0</td>\n",
       "      <td>0</td>\n",
       "    </tr>\n",
       "    <tr>\n",
       "      <th>diag_O00</th>\n",
       "      <td>0</td>\n",
       "      <td>0</td>\n",
       "      <td>0</td>\n",
       "      <td>0</td>\n",
       "      <td>0</td>\n",
       "    </tr>\n",
       "    <tr>\n",
       "      <th>diag_H15</th>\n",
       "      <td>0</td>\n",
       "      <td>0</td>\n",
       "      <td>0</td>\n",
       "      <td>0</td>\n",
       "      <td>0</td>\n",
       "    </tr>\n",
       "    <tr>\n",
       "      <th>diag_K58</th>\n",
       "      <td>0</td>\n",
       "      <td>0</td>\n",
       "      <td>0</td>\n",
       "      <td>0</td>\n",
       "      <td>0</td>\n",
       "    </tr>\n",
       "    <tr>\n",
       "      <th>diag_N32</th>\n",
       "      <td>0</td>\n",
       "      <td>0</td>\n",
       "      <td>0</td>\n",
       "      <td>0</td>\n",
       "      <td>0</td>\n",
       "    </tr>\n",
       "    <tr>\n",
       "      <th>diag_F43</th>\n",
       "      <td>0</td>\n",
       "      <td>0</td>\n",
       "      <td>0</td>\n",
       "      <td>0</td>\n",
       "      <td>0</td>\n",
       "    </tr>\n",
       "    <tr>\n",
       "      <th>diag_L60</th>\n",
       "      <td>0</td>\n",
       "      <td>0</td>\n",
       "      <td>0</td>\n",
       "      <td>0</td>\n",
       "      <td>0</td>\n",
       "    </tr>\n",
       "    <tr>\n",
       "      <th>diag_M06</th>\n",
       "      <td>0</td>\n",
       "      <td>0</td>\n",
       "      <td>0</td>\n",
       "      <td>0</td>\n",
       "      <td>0</td>\n",
       "    </tr>\n",
       "    <tr>\n",
       "      <th>diag_T13</th>\n",
       "      <td>0</td>\n",
       "      <td>0</td>\n",
       "      <td>0</td>\n",
       "      <td>0</td>\n",
       "      <td>0</td>\n",
       "    </tr>\n",
       "    <tr>\n",
       "      <th>diag_S51</th>\n",
       "      <td>0</td>\n",
       "      <td>0</td>\n",
       "      <td>0</td>\n",
       "      <td>0</td>\n",
       "      <td>0</td>\n",
       "    </tr>\n",
       "    <tr>\n",
       "      <th>diag_K05</th>\n",
       "      <td>0</td>\n",
       "      <td>0</td>\n",
       "      <td>0</td>\n",
       "      <td>0</td>\n",
       "      <td>0</td>\n",
       "    </tr>\n",
       "    <tr>\n",
       "      <th>diag_N84</th>\n",
       "      <td>0</td>\n",
       "      <td>0</td>\n",
       "      <td>0</td>\n",
       "      <td>0</td>\n",
       "      <td>0</td>\n",
       "    </tr>\n",
       "    <tr>\n",
       "      <th>diag_R00</th>\n",
       "      <td>0</td>\n",
       "      <td>0</td>\n",
       "      <td>0</td>\n",
       "      <td>0</td>\n",
       "      <td>0</td>\n",
       "    </tr>\n",
       "    <tr>\n",
       "      <th>diag_I25</th>\n",
       "      <td>0</td>\n",
       "      <td>0</td>\n",
       "      <td>0</td>\n",
       "      <td>0</td>\n",
       "      <td>0</td>\n",
       "    </tr>\n",
       "    <tr>\n",
       "      <th>diag_B01</th>\n",
       "      <td>0</td>\n",
       "      <td>0</td>\n",
       "      <td>0</td>\n",
       "      <td>0</td>\n",
       "      <td>0</td>\n",
       "    </tr>\n",
       "    <tr>\n",
       "      <th>diag_S50</th>\n",
       "      <td>0</td>\n",
       "      <td>0</td>\n",
       "      <td>0</td>\n",
       "      <td>0</td>\n",
       "      <td>0</td>\n",
       "    </tr>\n",
       "    <tr>\n",
       "      <th>diag_W01</th>\n",
       "      <td>0</td>\n",
       "      <td>0</td>\n",
       "      <td>0</td>\n",
       "      <td>0</td>\n",
       "      <td>0</td>\n",
       "    </tr>\n",
       "    <tr>\n",
       "      <th>diag_M77</th>\n",
       "      <td>0</td>\n",
       "      <td>0</td>\n",
       "      <td>0</td>\n",
       "      <td>0</td>\n",
       "      <td>0</td>\n",
       "    </tr>\n",
       "    <tr>\n",
       "      <th>diag_I83</th>\n",
       "      <td>0</td>\n",
       "      <td>0</td>\n",
       "      <td>0</td>\n",
       "      <td>0</td>\n",
       "      <td>0</td>\n",
       "    </tr>\n",
       "    <tr>\n",
       "      <th>diag_K00</th>\n",
       "      <td>0</td>\n",
       "      <td>0</td>\n",
       "      <td>0</td>\n",
       "      <td>0</td>\n",
       "      <td>0</td>\n",
       "    </tr>\n",
       "    <tr>\n",
       "      <th>diag_S43</th>\n",
       "      <td>0</td>\n",
       "      <td>0</td>\n",
       "      <td>0</td>\n",
       "      <td>0</td>\n",
       "      <td>0</td>\n",
       "    </tr>\n",
       "    <tr>\n",
       "      <th>diag_R82</th>\n",
       "      <td>0</td>\n",
       "      <td>0</td>\n",
       "      <td>0</td>\n",
       "      <td>0</td>\n",
       "      <td>0</td>\n",
       "    </tr>\n",
       "    <tr>\n",
       "      <th>diag_G56</th>\n",
       "      <td>0</td>\n",
       "      <td>0</td>\n",
       "      <td>0</td>\n",
       "      <td>0</td>\n",
       "      <td>0</td>\n",
       "    </tr>\n",
       "    <tr>\n",
       "      <th>diag_T75</th>\n",
       "      <td>0</td>\n",
       "      <td>0</td>\n",
       "      <td>0</td>\n",
       "      <td>0</td>\n",
       "      <td>0</td>\n",
       "    </tr>\n",
       "    <tr>\n",
       "      <th>diag_R80</th>\n",
       "      <td>0</td>\n",
       "      <td>0</td>\n",
       "      <td>0</td>\n",
       "      <td>0</td>\n",
       "      <td>0</td>\n",
       "    </tr>\n",
       "    <tr>\n",
       "      <th>diag_I48</th>\n",
       "      <td>0</td>\n",
       "      <td>0</td>\n",
       "      <td>0</td>\n",
       "      <td>0</td>\n",
       "      <td>0</td>\n",
       "    </tr>\n",
       "    <tr>\n",
       "      <th>diag_N63</th>\n",
       "      <td>0</td>\n",
       "      <td>0</td>\n",
       "      <td>0</td>\n",
       "      <td>0</td>\n",
       "      <td>0</td>\n",
       "    </tr>\n",
       "    <tr>\n",
       "      <th>diag_L55</th>\n",
       "      <td>0</td>\n",
       "      <td>0</td>\n",
       "      <td>0</td>\n",
       "      <td>0</td>\n",
       "      <td>0</td>\n",
       "    </tr>\n",
       "    <tr>\n",
       "      <th>diag_J34</th>\n",
       "      <td>0</td>\n",
       "      <td>0</td>\n",
       "      <td>0</td>\n",
       "      <td>0</td>\n",
       "      <td>0</td>\n",
       "    </tr>\n",
       "    <tr>\n",
       "      <th>diag_I80</th>\n",
       "      <td>0</td>\n",
       "      <td>0</td>\n",
       "      <td>0</td>\n",
       "      <td>0</td>\n",
       "      <td>0</td>\n",
       "    </tr>\n",
       "    <tr>\n",
       "      <th>diag_F32</th>\n",
       "      <td>0</td>\n",
       "      <td>0</td>\n",
       "      <td>0</td>\n",
       "      <td>0</td>\n",
       "      <td>0</td>\n",
       "    </tr>\n",
       "    <tr>\n",
       "      <th>diag_S30</th>\n",
       "      <td>0</td>\n",
       "      <td>0</td>\n",
       "      <td>0</td>\n",
       "      <td>0</td>\n",
       "      <td>0</td>\n",
       "    </tr>\n",
       "    <tr>\n",
       "      <th>diag_R73</th>\n",
       "      <td>0</td>\n",
       "      <td>0</td>\n",
       "      <td>0</td>\n",
       "      <td>0</td>\n",
       "      <td>0</td>\n",
       "    </tr>\n",
       "    <tr>\n",
       "      <th>diag_K60</th>\n",
       "      <td>0</td>\n",
       "      <td>0</td>\n",
       "      <td>0</td>\n",
       "      <td>0</td>\n",
       "      <td>0</td>\n",
       "    </tr>\n",
       "    <tr>\n",
       "      <th>diag_Z01</th>\n",
       "      <td>0</td>\n",
       "      <td>0</td>\n",
       "      <td>0</td>\n",
       "      <td>0</td>\n",
       "      <td>0</td>\n",
       "    </tr>\n",
       "    <tr>\n",
       "      <th>diag_D25</th>\n",
       "      <td>0</td>\n",
       "      <td>0</td>\n",
       "      <td>0</td>\n",
       "      <td>0</td>\n",
       "      <td>0</td>\n",
       "    </tr>\n",
       "    <tr>\n",
       "      <th>diag_B07</th>\n",
       "      <td>0</td>\n",
       "      <td>0</td>\n",
       "      <td>0</td>\n",
       "      <td>0</td>\n",
       "      <td>0</td>\n",
       "    </tr>\n",
       "    <tr>\n",
       "      <th>diag_N40</th>\n",
       "      <td>0</td>\n",
       "      <td>0</td>\n",
       "      <td>0</td>\n",
       "      <td>0</td>\n",
       "      <td>0</td>\n",
       "    </tr>\n",
       "    <tr>\n",
       "      <th>diag_L23</th>\n",
       "      <td>0</td>\n",
       "      <td>0</td>\n",
       "      <td>0</td>\n",
       "      <td>0</td>\n",
       "      <td>0</td>\n",
       "    </tr>\n",
       "    <tr>\n",
       "      <th>diag_L04</th>\n",
       "      <td>0</td>\n",
       "      <td>0</td>\n",
       "      <td>0</td>\n",
       "      <td>0</td>\n",
       "      <td>0</td>\n",
       "    </tr>\n",
       "    <tr>\n",
       "      <th>diag_M67</th>\n",
       "      <td>0</td>\n",
       "      <td>0</td>\n",
       "      <td>0</td>\n",
       "      <td>0</td>\n",
       "      <td>0</td>\n",
       "    </tr>\n",
       "    <tr>\n",
       "      <th>diag_D75</th>\n",
       "      <td>0</td>\n",
       "      <td>0</td>\n",
       "      <td>0</td>\n",
       "      <td>0</td>\n",
       "      <td>0</td>\n",
       "    </tr>\n",
       "    <tr>\n",
       "      <th>diag_L91</th>\n",
       "      <td>0</td>\n",
       "      <td>0</td>\n",
       "      <td>0</td>\n",
       "      <td>0</td>\n",
       "      <td>0</td>\n",
       "    </tr>\n",
       "    <tr>\n",
       "      <th>diag_S80</th>\n",
       "      <td>0</td>\n",
       "      <td>0</td>\n",
       "      <td>0</td>\n",
       "      <td>0</td>\n",
       "      <td>0</td>\n",
       "    </tr>\n",
       "    <tr>\n",
       "      <th>diag_K06</th>\n",
       "      <td>0</td>\n",
       "      <td>0</td>\n",
       "      <td>0</td>\n",
       "      <td>0</td>\n",
       "      <td>0</td>\n",
       "    </tr>\n",
       "    <tr>\n",
       "      <th>diag_K03</th>\n",
       "      <td>0</td>\n",
       "      <td>0</td>\n",
       "      <td>0</td>\n",
       "      <td>0</td>\n",
       "      <td>0</td>\n",
       "    </tr>\n",
       "    <tr>\n",
       "      <th>diag_G62</th>\n",
       "      <td>0</td>\n",
       "      <td>0</td>\n",
       "      <td>0</td>\n",
       "      <td>0</td>\n",
       "      <td>0</td>\n",
       "    </tr>\n",
       "    <tr>\n",
       "      <th>diag_S53</th>\n",
       "      <td>0</td>\n",
       "      <td>0</td>\n",
       "      <td>0</td>\n",
       "      <td>0</td>\n",
       "      <td>0</td>\n",
       "    </tr>\n",
       "    <tr>\n",
       "      <th>diag_J98</th>\n",
       "      <td>0</td>\n",
       "      <td>0</td>\n",
       "      <td>0</td>\n",
       "      <td>0</td>\n",
       "      <td>0</td>\n",
       "    </tr>\n",
       "    <tr>\n",
       "      <th>diag_K08</th>\n",
       "      <td>0</td>\n",
       "      <td>0</td>\n",
       "      <td>0</td>\n",
       "      <td>0</td>\n",
       "      <td>0</td>\n",
       "    </tr>\n",
       "    <tr>\n",
       "      <th>diag_H06</th>\n",
       "      <td>0</td>\n",
       "      <td>0</td>\n",
       "      <td>0</td>\n",
       "      <td>0</td>\n",
       "      <td>0</td>\n",
       "    </tr>\n",
       "    <tr>\n",
       "      <th>diag_H92</th>\n",
       "      <td>0</td>\n",
       "      <td>0</td>\n",
       "      <td>0</td>\n",
       "      <td>0</td>\n",
       "      <td>0</td>\n",
       "    </tr>\n",
       "    <tr>\n",
       "      <th>diag_F90</th>\n",
       "      <td>0</td>\n",
       "      <td>0</td>\n",
       "      <td>0</td>\n",
       "      <td>0</td>\n",
       "      <td>0</td>\n",
       "    </tr>\n",
       "    <tr>\n",
       "      <th>diag_K14</th>\n",
       "      <td>0</td>\n",
       "      <td>0</td>\n",
       "      <td>0</td>\n",
       "      <td>0</td>\n",
       "      <td>0</td>\n",
       "    </tr>\n",
       "    <tr>\n",
       "      <th>diag_M12</th>\n",
       "      <td>0</td>\n",
       "      <td>0</td>\n",
       "      <td>0</td>\n",
       "      <td>0</td>\n",
       "      <td>0</td>\n",
       "    </tr>\n",
       "    <tr>\n",
       "      <th>diag_F00</th>\n",
       "      <td>0</td>\n",
       "      <td>0</td>\n",
       "      <td>0</td>\n",
       "      <td>0</td>\n",
       "      <td>0</td>\n",
       "    </tr>\n",
       "    <tr>\n",
       "      <th>diag_T31</th>\n",
       "      <td>0</td>\n",
       "      <td>0</td>\n",
       "      <td>0</td>\n",
       "      <td>0</td>\n",
       "      <td>0</td>\n",
       "    </tr>\n",
       "    <tr>\n",
       "      <th>diag_R94</th>\n",
       "      <td>0</td>\n",
       "      <td>0</td>\n",
       "      <td>0</td>\n",
       "      <td>0</td>\n",
       "      <td>0</td>\n",
       "    </tr>\n",
       "    <tr>\n",
       "      <th>diag_M51</th>\n",
       "      <td>0</td>\n",
       "      <td>0</td>\n",
       "      <td>0</td>\n",
       "      <td>0</td>\n",
       "      <td>0</td>\n",
       "    </tr>\n",
       "    <tr>\n",
       "      <th>diag_H18</th>\n",
       "      <td>0</td>\n",
       "      <td>0</td>\n",
       "      <td>0</td>\n",
       "      <td>0</td>\n",
       "      <td>0</td>\n",
       "    </tr>\n",
       "    <tr>\n",
       "      <th>diag_G70</th>\n",
       "      <td>0</td>\n",
       "      <td>0</td>\n",
       "      <td>0</td>\n",
       "      <td>0</td>\n",
       "      <td>0</td>\n",
       "    </tr>\n",
       "    <tr>\n",
       "      <th>diag_L73</th>\n",
       "      <td>0</td>\n",
       "      <td>0</td>\n",
       "      <td>0</td>\n",
       "      <td>0</td>\n",
       "      <td>0</td>\n",
       "    </tr>\n",
       "    <tr>\n",
       "      <th>diag_J35</th>\n",
       "      <td>0</td>\n",
       "      <td>0</td>\n",
       "      <td>0</td>\n",
       "      <td>0</td>\n",
       "      <td>0</td>\n",
       "    </tr>\n",
       "    <tr>\n",
       "      <th>diag_M22</th>\n",
       "      <td>0</td>\n",
       "      <td>0</td>\n",
       "      <td>0</td>\n",
       "      <td>0</td>\n",
       "      <td>0</td>\n",
       "    </tr>\n",
       "    <tr>\n",
       "      <th>diag_D10</th>\n",
       "      <td>0</td>\n",
       "      <td>0</td>\n",
       "      <td>0</td>\n",
       "      <td>0</td>\n",
       "      <td>0</td>\n",
       "    </tr>\n",
       "    <tr>\n",
       "      <th>diag_S46</th>\n",
       "      <td>0</td>\n",
       "      <td>0</td>\n",
       "      <td>0</td>\n",
       "      <td>0</td>\n",
       "      <td>0</td>\n",
       "    </tr>\n",
       "    <tr>\n",
       "      <th>diag_L90</th>\n",
       "      <td>0</td>\n",
       "      <td>0</td>\n",
       "      <td>0</td>\n",
       "      <td>0</td>\n",
       "      <td>0</td>\n",
       "    </tr>\n",
       "    <tr>\n",
       "      <th>diag_L81</th>\n",
       "      <td>0</td>\n",
       "      <td>0</td>\n",
       "      <td>0</td>\n",
       "      <td>0</td>\n",
       "      <td>0</td>\n",
       "    </tr>\n",
       "    <tr>\n",
       "      <th>diag_E29</th>\n",
       "      <td>0</td>\n",
       "      <td>0</td>\n",
       "      <td>0</td>\n",
       "      <td>0</td>\n",
       "      <td>0</td>\n",
       "    </tr>\n",
       "    <tr>\n",
       "      <th>diag_I95</th>\n",
       "      <td>0</td>\n",
       "      <td>0</td>\n",
       "      <td>0</td>\n",
       "      <td>0</td>\n",
       "      <td>0</td>\n",
       "    </tr>\n",
       "    <tr>\n",
       "      <th>diag_B80</th>\n",
       "      <td>0</td>\n",
       "      <td>0</td>\n",
       "      <td>0</td>\n",
       "      <td>0</td>\n",
       "      <td>0</td>\n",
       "    </tr>\n",
       "    <tr>\n",
       "      <th>diag_S01</th>\n",
       "      <td>0</td>\n",
       "      <td>0</td>\n",
       "      <td>0</td>\n",
       "      <td>0</td>\n",
       "      <td>0</td>\n",
       "    </tr>\n",
       "    <tr>\n",
       "      <th>diag_H91</th>\n",
       "      <td>0</td>\n",
       "      <td>0</td>\n",
       "      <td>0</td>\n",
       "      <td>0</td>\n",
       "      <td>0</td>\n",
       "    </tr>\n",
       "    <tr>\n",
       "      <th>diag_F06</th>\n",
       "      <td>0</td>\n",
       "      <td>0</td>\n",
       "      <td>0</td>\n",
       "      <td>0</td>\n",
       "      <td>0</td>\n",
       "    </tr>\n",
       "    <tr>\n",
       "      <th>diag_N91</th>\n",
       "      <td>0</td>\n",
       "      <td>0</td>\n",
       "      <td>0</td>\n",
       "      <td>0</td>\n",
       "      <td>0</td>\n",
       "    </tr>\n",
       "    <tr>\n",
       "      <th>diag_V01</th>\n",
       "      <td>0</td>\n",
       "      <td>0</td>\n",
       "      <td>0</td>\n",
       "      <td>0</td>\n",
       "      <td>0</td>\n",
       "    </tr>\n",
       "    <tr>\n",
       "      <th>diag_M84</th>\n",
       "      <td>0</td>\n",
       "      <td>0</td>\n",
       "      <td>0</td>\n",
       "      <td>0</td>\n",
       "      <td>0</td>\n",
       "    </tr>\n",
       "    <tr>\n",
       "      <th>diag_K76</th>\n",
       "      <td>0</td>\n",
       "      <td>0</td>\n",
       "      <td>0</td>\n",
       "      <td>0</td>\n",
       "      <td>0</td>\n",
       "    </tr>\n",
       "    <tr>\n",
       "      <th>diag_L25</th>\n",
       "      <td>0</td>\n",
       "      <td>0</td>\n",
       "      <td>0</td>\n",
       "      <td>0</td>\n",
       "      <td>0</td>\n",
       "    </tr>\n",
       "    <tr>\n",
       "      <th>diag_K62</th>\n",
       "      <td>0</td>\n",
       "      <td>0</td>\n",
       "      <td>0</td>\n",
       "      <td>0</td>\n",
       "      <td>0</td>\n",
       "    </tr>\n",
       "    <tr>\n",
       "      <th>diag_Z33</th>\n",
       "      <td>0</td>\n",
       "      <td>0</td>\n",
       "      <td>0</td>\n",
       "      <td>0</td>\n",
       "      <td>0</td>\n",
       "    </tr>\n",
       "    <tr>\n",
       "      <th>diag_S70</th>\n",
       "      <td>0</td>\n",
       "      <td>0</td>\n",
       "      <td>0</td>\n",
       "      <td>0</td>\n",
       "      <td>0</td>\n",
       "    </tr>\n",
       "    <tr>\n",
       "      <th>diag_G58</th>\n",
       "      <td>0</td>\n",
       "      <td>0</td>\n",
       "      <td>0</td>\n",
       "      <td>0</td>\n",
       "      <td>0</td>\n",
       "    </tr>\n",
       "    <tr>\n",
       "      <th>diag_H69</th>\n",
       "      <td>0</td>\n",
       "      <td>0</td>\n",
       "      <td>0</td>\n",
       "      <td>0</td>\n",
       "      <td>0</td>\n",
       "    </tr>\n",
       "    <tr>\n",
       "      <th>diag_I05</th>\n",
       "      <td>0</td>\n",
       "      <td>0</td>\n",
       "      <td>0</td>\n",
       "      <td>0</td>\n",
       "      <td>0</td>\n",
       "    </tr>\n",
       "    <tr>\n",
       "      <th>diag_S52</th>\n",
       "      <td>0</td>\n",
       "      <td>0</td>\n",
       "      <td>0</td>\n",
       "      <td>0</td>\n",
       "      <td>0</td>\n",
       "    </tr>\n",
       "    <tr>\n",
       "      <th>diag_A92</th>\n",
       "      <td>0</td>\n",
       "      <td>0</td>\n",
       "      <td>0</td>\n",
       "      <td>0</td>\n",
       "      <td>0</td>\n",
       "    </tr>\n",
       "    <tr>\n",
       "      <th>diag_S96</th>\n",
       "      <td>0</td>\n",
       "      <td>0</td>\n",
       "      <td>0</td>\n",
       "      <td>0</td>\n",
       "      <td>0</td>\n",
       "    </tr>\n",
       "    <tr>\n",
       "      <th>diag_R32</th>\n",
       "      <td>0</td>\n",
       "      <td>0</td>\n",
       "      <td>0</td>\n",
       "      <td>0</td>\n",
       "      <td>0</td>\n",
       "    </tr>\n",
       "    <tr>\n",
       "      <th>diag_I64</th>\n",
       "      <td>0</td>\n",
       "      <td>0</td>\n",
       "      <td>0</td>\n",
       "      <td>0</td>\n",
       "      <td>0</td>\n",
       "    </tr>\n",
       "    <tr>\n",
       "      <th>diag_R12</th>\n",
       "      <td>0</td>\n",
       "      <td>0</td>\n",
       "      <td>0</td>\n",
       "      <td>0</td>\n",
       "      <td>0</td>\n",
       "    </tr>\n",
       "    <tr>\n",
       "      <th>diag_S66</th>\n",
       "      <td>0</td>\n",
       "      <td>0</td>\n",
       "      <td>0</td>\n",
       "      <td>0</td>\n",
       "      <td>0</td>\n",
       "    </tr>\n",
       "    <tr>\n",
       "      <th>diag_H94</th>\n",
       "      <td>0</td>\n",
       "      <td>0</td>\n",
       "      <td>0</td>\n",
       "      <td>0</td>\n",
       "      <td>0</td>\n",
       "    </tr>\n",
       "    <tr>\n",
       "      <th>diag_I88</th>\n",
       "      <td>0</td>\n",
       "      <td>0</td>\n",
       "      <td>0</td>\n",
       "      <td>0</td>\n",
       "      <td>0</td>\n",
       "    </tr>\n",
       "    <tr>\n",
       "      <th>diag_L63</th>\n",
       "      <td>0</td>\n",
       "      <td>0</td>\n",
       "      <td>0</td>\n",
       "      <td>0</td>\n",
       "      <td>0</td>\n",
       "    </tr>\n",
       "    <tr>\n",
       "      <th>diag_F52</th>\n",
       "      <td>0</td>\n",
       "      <td>0</td>\n",
       "      <td>0</td>\n",
       "      <td>0</td>\n",
       "      <td>0</td>\n",
       "    </tr>\n",
       "    <tr>\n",
       "      <th>diag_H40</th>\n",
       "      <td>0</td>\n",
       "      <td>0</td>\n",
       "      <td>0</td>\n",
       "      <td>0</td>\n",
       "      <td>0</td>\n",
       "    </tr>\n",
       "    <tr>\n",
       "      <th>diag_E87</th>\n",
       "      <td>0</td>\n",
       "      <td>0</td>\n",
       "      <td>0</td>\n",
       "      <td>0</td>\n",
       "      <td>0</td>\n",
       "    </tr>\n",
       "    <tr>\n",
       "      <th>diag_J33</th>\n",
       "      <td>0</td>\n",
       "      <td>0</td>\n",
       "      <td>0</td>\n",
       "      <td>0</td>\n",
       "      <td>0</td>\n",
       "    </tr>\n",
       "    <tr>\n",
       "      <th>diag_T63</th>\n",
       "      <td>0</td>\n",
       "      <td>0</td>\n",
       "      <td>0</td>\n",
       "      <td>0</td>\n",
       "      <td>0</td>\n",
       "    </tr>\n",
       "    <tr>\n",
       "      <th>diag_R31</th>\n",
       "      <td>0</td>\n",
       "      <td>0</td>\n",
       "      <td>0</td>\n",
       "      <td>0</td>\n",
       "      <td>0</td>\n",
       "    </tr>\n",
       "    <tr>\n",
       "      <th>diag_I78</th>\n",
       "      <td>0</td>\n",
       "      <td>0</td>\n",
       "      <td>0</td>\n",
       "      <td>0</td>\n",
       "      <td>0</td>\n",
       "    </tr>\n",
       "    <tr>\n",
       "      <th>diag_S05</th>\n",
       "      <td>0</td>\n",
       "      <td>0</td>\n",
       "      <td>0</td>\n",
       "      <td>0</td>\n",
       "      <td>0</td>\n",
       "    </tr>\n",
       "    <tr>\n",
       "      <th>diag_S82</th>\n",
       "      <td>0</td>\n",
       "      <td>0</td>\n",
       "      <td>0</td>\n",
       "      <td>0</td>\n",
       "      <td>0</td>\n",
       "    </tr>\n",
       "    <tr>\n",
       "      <th>diag_T24</th>\n",
       "      <td>0</td>\n",
       "      <td>0</td>\n",
       "      <td>0</td>\n",
       "      <td>0</td>\n",
       "      <td>0</td>\n",
       "    </tr>\n",
       "    <tr>\n",
       "      <th>diag_N30</th>\n",
       "      <td>0</td>\n",
       "      <td>0</td>\n",
       "      <td>0</td>\n",
       "      <td>0</td>\n",
       "      <td>0</td>\n",
       "    </tr>\n",
       "    <tr>\n",
       "      <th>diag_R92</th>\n",
       "      <td>0</td>\n",
       "      <td>0</td>\n",
       "      <td>0</td>\n",
       "      <td>0</td>\n",
       "      <td>0</td>\n",
       "    </tr>\n",
       "    <tr>\n",
       "      <th>diag_R20</th>\n",
       "      <td>0</td>\n",
       "      <td>0</td>\n",
       "      <td>0</td>\n",
       "      <td>0</td>\n",
       "      <td>0</td>\n",
       "    </tr>\n",
       "    <tr>\n",
       "      <th>diag_Z92</th>\n",
       "      <td>0</td>\n",
       "      <td>0</td>\n",
       "      <td>0</td>\n",
       "      <td>0</td>\n",
       "      <td>0</td>\n",
       "    </tr>\n",
       "    <tr>\n",
       "      <th>diag_K51</th>\n",
       "      <td>0</td>\n",
       "      <td>0</td>\n",
       "      <td>0</td>\n",
       "      <td>0</td>\n",
       "      <td>0</td>\n",
       "    </tr>\n",
       "    <tr>\n",
       "      <th>diag_H61</th>\n",
       "      <td>0</td>\n",
       "      <td>0</td>\n",
       "      <td>0</td>\n",
       "      <td>0</td>\n",
       "      <td>0</td>\n",
       "    </tr>\n",
       "    <tr>\n",
       "      <th>diag_K10</th>\n",
       "      <td>0</td>\n",
       "      <td>0</td>\n",
       "      <td>0</td>\n",
       "      <td>0</td>\n",
       "      <td>0</td>\n",
       "    </tr>\n",
       "    <tr>\n",
       "      <th>diag_S03</th>\n",
       "      <td>0</td>\n",
       "      <td>0</td>\n",
       "      <td>0</td>\n",
       "      <td>0</td>\n",
       "      <td>0</td>\n",
       "    </tr>\n",
       "    <tr>\n",
       "      <th>diag_N80</th>\n",
       "      <td>0</td>\n",
       "      <td>0</td>\n",
       "      <td>0</td>\n",
       "      <td>0</td>\n",
       "      <td>0</td>\n",
       "    </tr>\n",
       "    <tr>\n",
       "      <th>diag_S71</th>\n",
       "      <td>0</td>\n",
       "      <td>0</td>\n",
       "      <td>0</td>\n",
       "      <td>0</td>\n",
       "      <td>0</td>\n",
       "    </tr>\n",
       "    <tr>\n",
       "      <th>diag_G25</th>\n",
       "      <td>0</td>\n",
       "      <td>0</td>\n",
       "      <td>0</td>\n",
       "      <td>0</td>\n",
       "      <td>0</td>\n",
       "    </tr>\n",
       "    <tr>\n",
       "      <th>diag_X51</th>\n",
       "      <td>0</td>\n",
       "      <td>0</td>\n",
       "      <td>0</td>\n",
       "      <td>0</td>\n",
       "      <td>0</td>\n",
       "    </tr>\n",
       "    <tr>\n",
       "      <th>diag_D22</th>\n",
       "      <td>0</td>\n",
       "      <td>0</td>\n",
       "      <td>0</td>\n",
       "      <td>0</td>\n",
       "      <td>0</td>\n",
       "    </tr>\n",
       "    <tr>\n",
       "      <th>diag_N42</th>\n",
       "      <td>0</td>\n",
       "      <td>0</td>\n",
       "      <td>0</td>\n",
       "      <td>0</td>\n",
       "      <td>0</td>\n",
       "    </tr>\n",
       "    <tr>\n",
       "      <th>diag_W09</th>\n",
       "      <td>0</td>\n",
       "      <td>0</td>\n",
       "      <td>0</td>\n",
       "      <td>0</td>\n",
       "      <td>0</td>\n",
       "    </tr>\n",
       "    <tr>\n",
       "      <th>diag_W55</th>\n",
       "      <td>0</td>\n",
       "      <td>0</td>\n",
       "      <td>0</td>\n",
       "      <td>0</td>\n",
       "      <td>0</td>\n",
       "    </tr>\n",
       "    <tr>\n",
       "      <th>diag_L74</th>\n",
       "      <td>0</td>\n",
       "      <td>0</td>\n",
       "      <td>0</td>\n",
       "      <td>0</td>\n",
       "      <td>0</td>\n",
       "    </tr>\n",
       "    <tr>\n",
       "      <th>diag_I70</th>\n",
       "      <td>0</td>\n",
       "      <td>0</td>\n",
       "      <td>0</td>\n",
       "      <td>0</td>\n",
       "      <td>0</td>\n",
       "    </tr>\n",
       "    <tr>\n",
       "      <th>diag_Z73</th>\n",
       "      <td>0</td>\n",
       "      <td>0</td>\n",
       "      <td>0</td>\n",
       "      <td>0</td>\n",
       "      <td>0</td>\n",
       "    </tr>\n",
       "    <tr>\n",
       "      <th>diag_S20</th>\n",
       "      <td>0</td>\n",
       "      <td>0</td>\n",
       "      <td>0</td>\n",
       "      <td>0</td>\n",
       "      <td>0</td>\n",
       "    </tr>\n",
       "    <tr>\n",
       "      <th>diag_K50</th>\n",
       "      <td>0</td>\n",
       "      <td>0</td>\n",
       "      <td>0</td>\n",
       "      <td>0</td>\n",
       "      <td>0</td>\n",
       "    </tr>\n",
       "    <tr>\n",
       "      <th>diag_S92</th>\n",
       "      <td>0</td>\n",
       "      <td>0</td>\n",
       "      <td>0</td>\n",
       "      <td>0</td>\n",
       "      <td>0</td>\n",
       "    </tr>\n",
       "    <tr>\n",
       "      <th>diag_S40</th>\n",
       "      <td>0</td>\n",
       "      <td>0</td>\n",
       "      <td>0</td>\n",
       "      <td>0</td>\n",
       "      <td>0</td>\n",
       "    </tr>\n",
       "    <tr>\n",
       "      <th>diag_L99</th>\n",
       "      <td>0</td>\n",
       "      <td>0</td>\n",
       "      <td>0</td>\n",
       "      <td>0</td>\n",
       "      <td>0</td>\n",
       "    </tr>\n",
       "    <tr>\n",
       "      <th>diag_J38</th>\n",
       "      <td>0</td>\n",
       "      <td>0</td>\n",
       "      <td>0</td>\n",
       "      <td>0</td>\n",
       "      <td>0</td>\n",
       "    </tr>\n",
       "    <tr>\n",
       "      <th>diag_M71</th>\n",
       "      <td>0</td>\n",
       "      <td>0</td>\n",
       "      <td>0</td>\n",
       "      <td>0</td>\n",
       "      <td>0</td>\n",
       "    </tr>\n",
       "    <tr>\n",
       "      <th>diag_I49</th>\n",
       "      <td>0</td>\n",
       "      <td>0</td>\n",
       "      <td>0</td>\n",
       "      <td>0</td>\n",
       "      <td>0</td>\n",
       "    </tr>\n",
       "    <tr>\n",
       "      <th>diag_R19</th>\n",
       "      <td>0</td>\n",
       "      <td>0</td>\n",
       "      <td>0</td>\n",
       "      <td>0</td>\n",
       "      <td>0</td>\n",
       "    </tr>\n",
       "    <tr>\n",
       "      <th>diag_L72</th>\n",
       "      <td>0</td>\n",
       "      <td>0</td>\n",
       "      <td>0</td>\n",
       "      <td>0</td>\n",
       "      <td>0</td>\n",
       "    </tr>\n",
       "    <tr>\n",
       "      <th>diag_L40</th>\n",
       "      <td>0</td>\n",
       "      <td>0</td>\n",
       "      <td>0</td>\n",
       "      <td>0</td>\n",
       "      <td>0</td>\n",
       "    </tr>\n",
       "    <tr>\n",
       "      <th>diag_Y56</th>\n",
       "      <td>0</td>\n",
       "      <td>0</td>\n",
       "      <td>0</td>\n",
       "      <td>0</td>\n",
       "      <td>0</td>\n",
       "    </tr>\n",
       "    <tr>\n",
       "      <th>diag_D03</th>\n",
       "      <td>0</td>\n",
       "      <td>0</td>\n",
       "      <td>0</td>\n",
       "      <td>0</td>\n",
       "      <td>0</td>\n",
       "    </tr>\n",
       "    <tr>\n",
       "      <th>diag_L42</th>\n",
       "      <td>0</td>\n",
       "      <td>0</td>\n",
       "      <td>0</td>\n",
       "      <td>0</td>\n",
       "      <td>0</td>\n",
       "    </tr>\n",
       "    <tr>\n",
       "      <th>diag_T17</th>\n",
       "      <td>0</td>\n",
       "      <td>0</td>\n",
       "      <td>0</td>\n",
       "      <td>0</td>\n",
       "      <td>0</td>\n",
       "    </tr>\n",
       "    <tr>\n",
       "      <th>diag_R49</th>\n",
       "      <td>0</td>\n",
       "      <td>0</td>\n",
       "      <td>0</td>\n",
       "      <td>0</td>\n",
       "      <td>0</td>\n",
       "    </tr>\n",
       "    <tr>\n",
       "      <th>diag_H90</th>\n",
       "      <td>0</td>\n",
       "      <td>0</td>\n",
       "      <td>0</td>\n",
       "      <td>0</td>\n",
       "      <td>0</td>\n",
       "    </tr>\n",
       "    <tr>\n",
       "      <th>diag_G51</th>\n",
       "      <td>0</td>\n",
       "      <td>0</td>\n",
       "      <td>0</td>\n",
       "      <td>0</td>\n",
       "      <td>0</td>\n",
       "    </tr>\n",
       "    <tr>\n",
       "      <th>diag_E55</th>\n",
       "      <td>0</td>\n",
       "      <td>0</td>\n",
       "      <td>0</td>\n",
       "      <td>0</td>\n",
       "      <td>0</td>\n",
       "    </tr>\n",
       "    <tr>\n",
       "      <th>diag_L93</th>\n",
       "      <td>0</td>\n",
       "      <td>0</td>\n",
       "      <td>0</td>\n",
       "      <td>0</td>\n",
       "      <td>0</td>\n",
       "    </tr>\n",
       "    <tr>\n",
       "      <th>diag_H70</th>\n",
       "      <td>0</td>\n",
       "      <td>0</td>\n",
       "      <td>0</td>\n",
       "      <td>0</td>\n",
       "      <td>0</td>\n",
       "    </tr>\n",
       "    <tr>\n",
       "      <th>diag_N87</th>\n",
       "      <td>0</td>\n",
       "      <td>0</td>\n",
       "      <td>0</td>\n",
       "      <td>0</td>\n",
       "      <td>0</td>\n",
       "    </tr>\n",
       "    <tr>\n",
       "      <th>diag_M20</th>\n",
       "      <td>0</td>\n",
       "      <td>0</td>\n",
       "      <td>0</td>\n",
       "      <td>0</td>\n",
       "      <td>0</td>\n",
       "    </tr>\n",
       "    <tr>\n",
       "      <th>diag_I65</th>\n",
       "      <td>0</td>\n",
       "      <td>0</td>\n",
       "      <td>0</td>\n",
       "      <td>0</td>\n",
       "      <td>0</td>\n",
       "    </tr>\n",
       "    <tr>\n",
       "      <th>diag_L65</th>\n",
       "      <td>0</td>\n",
       "      <td>0</td>\n",
       "      <td>0</td>\n",
       "      <td>0</td>\n",
       "      <td>0</td>\n",
       "    </tr>\n",
       "    <tr>\n",
       "      <th>diag_B81</th>\n",
       "      <td>0</td>\n",
       "      <td>0</td>\n",
       "      <td>0</td>\n",
       "      <td>0</td>\n",
       "      <td>0</td>\n",
       "    </tr>\n",
       "    <tr>\n",
       "      <th>diag_O90</th>\n",
       "      <td>0</td>\n",
       "      <td>0</td>\n",
       "      <td>0</td>\n",
       "      <td>0</td>\n",
       "      <td>0</td>\n",
       "    </tr>\n",
       "    <tr>\n",
       "      <th>diag_K25</th>\n",
       "      <td>0</td>\n",
       "      <td>0</td>\n",
       "      <td>0</td>\n",
       "      <td>0</td>\n",
       "      <td>0</td>\n",
       "    </tr>\n",
       "    <tr>\n",
       "      <th>diag_X50</th>\n",
       "      <td>0</td>\n",
       "      <td>0</td>\n",
       "      <td>0</td>\n",
       "      <td>0</td>\n",
       "      <td>0</td>\n",
       "    </tr>\n",
       "    <tr>\n",
       "      <th>diag_E66</th>\n",
       "      <td>0</td>\n",
       "      <td>0</td>\n",
       "      <td>0</td>\n",
       "      <td>0</td>\n",
       "      <td>0</td>\n",
       "    </tr>\n",
       "    <tr>\n",
       "      <th>diag_N48</th>\n",
       "      <td>0</td>\n",
       "      <td>0</td>\n",
       "      <td>0</td>\n",
       "      <td>0</td>\n",
       "      <td>0</td>\n",
       "    </tr>\n",
       "    <tr>\n",
       "      <th>diag_S06</th>\n",
       "      <td>0</td>\n",
       "      <td>0</td>\n",
       "      <td>0</td>\n",
       "      <td>0</td>\n",
       "      <td>0</td>\n",
       "    </tr>\n",
       "    <tr>\n",
       "      <th>diag_I86</th>\n",
       "      <td>0</td>\n",
       "      <td>0</td>\n",
       "      <td>0</td>\n",
       "      <td>0</td>\n",
       "      <td>0</td>\n",
       "    </tr>\n",
       "    <tr>\n",
       "      <th>diag_H74</th>\n",
       "      <td>0</td>\n",
       "      <td>0</td>\n",
       "      <td>0</td>\n",
       "      <td>0</td>\n",
       "      <td>0</td>\n",
       "    </tr>\n",
       "    <tr>\n",
       "      <th>diag_L66</th>\n",
       "      <td>0</td>\n",
       "      <td>0</td>\n",
       "      <td>0</td>\n",
       "      <td>0</td>\n",
       "      <td>0</td>\n",
       "    </tr>\n",
       "    <tr>\n",
       "      <th>diag_H26</th>\n",
       "      <td>0</td>\n",
       "      <td>0</td>\n",
       "      <td>0</td>\n",
       "      <td>0</td>\n",
       "      <td>0</td>\n",
       "    </tr>\n",
       "    <tr>\n",
       "      <th>chronic_NoneChronic</th>\n",
       "      <td>1</td>\n",
       "      <td>0</td>\n",
       "      <td>1</td>\n",
       "      <td>1</td>\n",
       "      <td>1</td>\n",
       "    </tr>\n",
       "    <tr>\n",
       "      <th>chronic_Vasomotor and allergic rhinitis</th>\n",
       "      <td>0</td>\n",
       "      <td>1</td>\n",
       "      <td>0</td>\n",
       "      <td>0</td>\n",
       "      <td>0</td>\n",
       "    </tr>\n",
       "    <tr>\n",
       "      <th>chronic_Gout</th>\n",
       "      <td>0</td>\n",
       "      <td>0</td>\n",
       "      <td>0</td>\n",
       "      <td>0</td>\n",
       "      <td>0</td>\n",
       "    </tr>\n",
       "    <tr>\n",
       "      <th>chronic_Atopic dermatitis</th>\n",
       "      <td>0</td>\n",
       "      <td>0</td>\n",
       "      <td>0</td>\n",
       "      <td>0</td>\n",
       "      <td>0</td>\n",
       "    </tr>\n",
       "    <tr>\n",
       "      <th>chronic_Hypertension</th>\n",
       "      <td>0</td>\n",
       "      <td>0</td>\n",
       "      <td>0</td>\n",
       "      <td>0</td>\n",
       "      <td>0</td>\n",
       "    </tr>\n",
       "    <tr>\n",
       "      <th>chronic_Gastro-oesophageal reflux disease</th>\n",
       "      <td>0</td>\n",
       "      <td>0</td>\n",
       "      <td>0</td>\n",
       "      <td>0</td>\n",
       "      <td>0</td>\n",
       "    </tr>\n",
       "    <tr>\n",
       "      <th>chronic_Hyperlipidaemia</th>\n",
       "      <td>0</td>\n",
       "      <td>0</td>\n",
       "      <td>0</td>\n",
       "      <td>0</td>\n",
       "      <td>0</td>\n",
       "    </tr>\n",
       "    <tr>\n",
       "      <th>chronic_Asthma</th>\n",
       "      <td>0</td>\n",
       "      <td>0</td>\n",
       "      <td>0</td>\n",
       "      <td>0</td>\n",
       "      <td>0</td>\n",
       "    </tr>\n",
       "    <tr>\n",
       "      <th>chronic_Migraine</th>\n",
       "      <td>0</td>\n",
       "      <td>0</td>\n",
       "      <td>0</td>\n",
       "      <td>0</td>\n",
       "      <td>0</td>\n",
       "    </tr>\n",
       "    <tr>\n",
       "      <th>chronic_Diabetes</th>\n",
       "      <td>0</td>\n",
       "      <td>0</td>\n",
       "      <td>0</td>\n",
       "      <td>0</td>\n",
       "      <td>0</td>\n",
       "    </tr>\n",
       "    <tr>\n",
       "      <th>chronic_Thyroid</th>\n",
       "      <td>0</td>\n",
       "      <td>0</td>\n",
       "      <td>0</td>\n",
       "      <td>0</td>\n",
       "      <td>0</td>\n",
       "    </tr>\n",
       "    <tr>\n",
       "      <th>symp_N</th>\n",
       "      <td>1</td>\n",
       "      <td>0</td>\n",
       "      <td>0</td>\n",
       "      <td>0</td>\n",
       "      <td>0</td>\n",
       "    </tr>\n",
       "    <tr>\n",
       "      <th>symp_headache</th>\n",
       "      <td>0</td>\n",
       "      <td>1</td>\n",
       "      <td>0</td>\n",
       "      <td>0</td>\n",
       "      <td>0</td>\n",
       "    </tr>\n",
       "    <tr>\n",
       "      <th>symp_fever</th>\n",
       "      <td>0</td>\n",
       "      <td>1</td>\n",
       "      <td>0</td>\n",
       "      <td>0</td>\n",
       "      <td>0</td>\n",
       "    </tr>\n",
       "    <tr>\n",
       "      <th>symp_giddiness</th>\n",
       "      <td>0</td>\n",
       "      <td>1</td>\n",
       "      <td>0</td>\n",
       "      <td>0</td>\n",
       "      <td>0</td>\n",
       "    </tr>\n",
       "    <tr>\n",
       "      <th>symp_others</th>\n",
       "      <td>0</td>\n",
       "      <td>0</td>\n",
       "      <td>1</td>\n",
       "      <td>0</td>\n",
       "      <td>0</td>\n",
       "    </tr>\n",
       "    <tr>\n",
       "      <th>symp_medical referral</th>\n",
       "      <td>0</td>\n",
       "      <td>0</td>\n",
       "      <td>0</td>\n",
       "      <td>1</td>\n",
       "      <td>0</td>\n",
       "    </tr>\n",
       "    <tr>\n",
       "      <th>symp_vomiting</th>\n",
       "      <td>0</td>\n",
       "      <td>0</td>\n",
       "      <td>0</td>\n",
       "      <td>0</td>\n",
       "      <td>1</td>\n",
       "    </tr>\n",
       "    <tr>\n",
       "      <th>symp_diarrhoea</th>\n",
       "      <td>0</td>\n",
       "      <td>0</td>\n",
       "      <td>0</td>\n",
       "      <td>0</td>\n",
       "      <td>1</td>\n",
       "    </tr>\n",
       "    <tr>\n",
       "      <th>symp_sore throat</th>\n",
       "      <td>0</td>\n",
       "      <td>0</td>\n",
       "      <td>0</td>\n",
       "      <td>0</td>\n",
       "      <td>0</td>\n",
       "    </tr>\n",
       "    <tr>\n",
       "      <th>symp_flu</th>\n",
       "      <td>0</td>\n",
       "      <td>0</td>\n",
       "      <td>0</td>\n",
       "      <td>0</td>\n",
       "      <td>0</td>\n",
       "    </tr>\n",
       "    <tr>\n",
       "      <th>symp_cough</th>\n",
       "      <td>0</td>\n",
       "      <td>0</td>\n",
       "      <td>0</td>\n",
       "      <td>0</td>\n",
       "      <td>0</td>\n",
       "    </tr>\n",
       "    <tr>\n",
       "      <th>symp_cold</th>\n",
       "      <td>0</td>\n",
       "      <td>0</td>\n",
       "      <td>0</td>\n",
       "      <td>0</td>\n",
       "      <td>0</td>\n",
       "    </tr>\n",
       "    <tr>\n",
       "      <th>symp_cold sores</th>\n",
       "      <td>0</td>\n",
       "      <td>0</td>\n",
       "      <td>0</td>\n",
       "      <td>0</td>\n",
       "      <td>0</td>\n",
       "    </tr>\n",
       "    <tr>\n",
       "      <th>symp_rash</th>\n",
       "      <td>0</td>\n",
       "      <td>0</td>\n",
       "      <td>0</td>\n",
       "      <td>0</td>\n",
       "      <td>0</td>\n",
       "    </tr>\n",
       "    <tr>\n",
       "      <th>symp_chronic medicine top-up</th>\n",
       "      <td>0</td>\n",
       "      <td>0</td>\n",
       "      <td>0</td>\n",
       "      <td>0</td>\n",
       "      <td>0</td>\n",
       "    </tr>\n",
       "    <tr>\n",
       "      <th>symp_discuss lab results</th>\n",
       "      <td>0</td>\n",
       "      <td>0</td>\n",
       "      <td>0</td>\n",
       "      <td>0</td>\n",
       "      <td>0</td>\n",
       "    </tr>\n",
       "    <tr>\n",
       "      <th>symp_chronic illness management</th>\n",
       "      <td>0</td>\n",
       "      <td>0</td>\n",
       "      <td>0</td>\n",
       "      <td>0</td>\n",
       "      <td>0</td>\n",
       "    </tr>\n",
       "    <tr>\n",
       "      <th>symp_skin growth on sole (foot)</th>\n",
       "      <td>0</td>\n",
       "      <td>0</td>\n",
       "      <td>0</td>\n",
       "      <td>0</td>\n",
       "      <td>0</td>\n",
       "    </tr>\n",
       "    <tr>\n",
       "      <th>symp_ulcer under tongue</th>\n",
       "      <td>0</td>\n",
       "      <td>0</td>\n",
       "      <td>0</td>\n",
       "      <td>0</td>\n",
       "      <td>0</td>\n",
       "    </tr>\n",
       "    <tr>\n",
       "      <th>symp_vertigo</th>\n",
       "      <td>0</td>\n",
       "      <td>0</td>\n",
       "      <td>0</td>\n",
       "      <td>0</td>\n",
       "      <td>0</td>\n",
       "    </tr>\n",
       "    <tr>\n",
       "      <th>symp_runny nose</th>\n",
       "      <td>0</td>\n",
       "      <td>0</td>\n",
       "      <td>0</td>\n",
       "      <td>0</td>\n",
       "      <td>0</td>\n",
       "    </tr>\n",
       "    <tr>\n",
       "      <th>Target_chronic</th>\n",
       "      <td>0</td>\n",
       "      <td>1</td>\n",
       "      <td>0</td>\n",
       "      <td>0</td>\n",
       "      <td>0</td>\n",
       "    </tr>\n",
       "    <tr>\n",
       "      <th>age_yr</th>\n",
       "      <td>29.0</td>\n",
       "      <td>46.0</td>\n",
       "      <td>29.0</td>\n",
       "      <td>53.0</td>\n",
       "      <td>33.0</td>\n",
       "    </tr>\n",
       "    <tr>\n",
       "      <th>consult_hr</th>\n",
       "      <td>13</td>\n",
       "      <td>12</td>\n",
       "      <td>9</td>\n",
       "      <td>20</td>\n",
       "      <td>9</td>\n",
       "    </tr>\n",
       "  </tbody>\n",
       "</table>\n",
       "</div>"
      ],
      "text/plain": [
       "                                                                                                        0  \\\n",
       "booking_id                                                           EA149BC8-BFBC-4703-B34A-E4BB546EC114   \n",
       "mem_id                                                               B3FDAFB4-2BCE-420E-98EF-04E57BEAEDC4   \n",
       "doctor_id                                                            84599BF3-5C45-4786-9D7C-16CDFA73F1CF   \n",
       "consult_waived_reason                                                          UNSUITABLE FOR TELECONSULT   \n",
       "is_mc_issued                                                                                            0   \n",
       "mc_days                                                                                               0.0   \n",
       "is_referral_letter_issued                                                                               0   \n",
       "booking_timestamp                                                                     2022-01-29 13:08:19   \n",
       "gender                                                                                               Male   \n",
       "birth_year                                                                                           1993   \n",
       "diagnosis_code_list                                                                                 [U12]   \n",
       "diagnosis_list                             [covid-19 vaccines causing adverse effects in therapeutic use]   \n",
       "chronic_list                                                                                            0   \n",
       "count_diagnosis                                                                                       1.0   \n",
       "count_chronic                                                                                         0.0   \n",
       "medicationID_list                                                                                     NaN   \n",
       "medicationName_list                                                                                   NaN   \n",
       "medQuantity_list                                                                                      NaN   \n",
       "medAndQuan_list                                                                                       NaN   \n",
       "count_medication                                                                                      0.0   \n",
       "count_repeatmed                                                                                       0.0   \n",
       "SymptomID_list                                                                                        NaN   \n",
       "SymptomName_list                                                                                      [N]   \n",
       "count_SymID                                                                                           0.0   \n",
       "diag_U12                                                                                                1   \n",
       "diag_J30                                                                                                0   \n",
       "diag_T88                                                                                                0   \n",
       "diag_K12                                                                                                0   \n",
       "diag_R21                                                                                                0   \n",
       "diag_A09                                                                                                0   \n",
       "diag_H57                                                                                                0   \n",
       "diag_Z02                                                                                                0   \n",
       "diag_J06                                                                                                0   \n",
       "diag_J04                                                                                                0   \n",
       "diag_Z76                                                                                                0   \n",
       "diag_M79                                                                                                0   \n",
       "diag_R51                                                                                                0   \n",
       "diag_M54                                                                                                0   \n",
       "diag_R22                                                                                                0   \n",
       "diag_L50                                                                                                0   \n",
       "diag_H11                                                                                                0   \n",
       "diag_B35                                                                                                0   \n",
       "diag_K30                                                                                                0   \n",
       "diag_O91                                                                                                0   \n",
       "diag_R07                                                                                                0   \n",
       "diag_M10                                                                                                0   \n",
       "diag_Z71                                                                                                0   \n",
       "diag_N94                                                                                                0   \n",
       "diag_K29                                                                                                0   \n",
       "diag_B37                                                                                                0   \n",
       "diag_R50                                                                                                0   \n",
       "diag_N39                                                                                                0   \n",
       "diag_R09                                                                                                0   \n",
       "diag_M50                                                                                                0   \n",
       "diag_R42                                                                                                0   \n",
       "diag_W57                                                                                                0   \n",
       "diag_B00                                                                                                0   \n",
       "diag_L70                                                                                                0   \n",
       "diag_R14                                                                                                0   \n",
       "diag_H00                                                                                                0   \n",
       "diag_L98                                                                                                0   \n",
       "diag_U07                                                                                                0   \n",
       "diag_M75                                                                                                0   \n",
       "diag_R45                                                                                                0   \n",
       "diag_R05                                                                                                0   \n",
       "diag_R63                                                                                                0   \n",
       "diag_L20                                                                                                0   \n",
       "diag_J39                                                                                                0   \n",
       "diag_J02                                                                                                0   \n",
       "diag_L02                                                                                                0   \n",
       "diag_I10                                                                                                0   \n",
       "diag_K21                                                                                                0   \n",
       "diag_J20                                                                                                0   \n",
       "diag_H02                                                                                                0   \n",
       "diag_S83                                                                                                0   \n",
       "diag_L03                                                                                                0   \n",
       "diag_M76                                                                                                0   \n",
       "diag_M62                                                                                                0   \n",
       "diag_H10                                                                                                0   \n",
       "diag_L24                                                                                                0   \n",
       "diag_L30                                                                                                0   \n",
       "diag_K59                                                                                                0   \n",
       "diag_Y42                                                                                                0   \n",
       "diag_K07                                                                                                0   \n",
       "diag_E78                                                                                                0   \n",
       "diag_K64                                                                                                0   \n",
       "diag_J45                                                                                                0   \n",
       "diag_S90                                                                                                0   \n",
       "diag_G43                                                                                                0   \n",
       "diag_B08                                                                                                0   \n",
       "diag_G47                                                                                                0   \n",
       "diag_T78                                                                                                0   \n",
       "diag_U08                                                                                                0   \n",
       "diag_H81                                                                                                0   \n",
       "diag_G44                                                                                                0   \n",
       "diag_N92                                                                                                0   \n",
       "diag_J01                                                                                                0   \n",
       "diag_E11                                                                                                0   \n",
       "diag_H66                                                                                                0   \n",
       "diag_M25                                                                                                0   \n",
       "diag_F38                                                                                                0   \n",
       "diag_H01                                                                                                0   \n",
       "diag_G71                                                                                                0   \n",
       "diag_R53                                                                                                0   \n",
       "diag_M23                                                                                                0   \n",
       "diag_S13                                                                                                0   \n",
       "diag_S00                                                                                                0   \n",
       "diag_U09                                                                                                0   \n",
       "diag_H93                                                                                                0   \n",
       "diag_B36                                                                                                0   \n",
       "diag_S60                                                                                                0   \n",
       "diag_E61                                                                                                0   \n",
       "diag_R52                                                                                                0   \n",
       "diag_H60                                                                                                0   \n",
       "diag_M17                                                                                                0   \n",
       "diag_R06                                                                                                0   \n",
       "diag_N64                                                                                                0   \n",
       "diag_R10                                                                                                0   \n",
       "diag_R11                                                                                                0   \n",
       "diag_E03                                                                                                0   \n",
       "diag_J03                                                                                                0   \n",
       "diag_S33                                                                                                0   \n",
       "diag_Z13                                                                                                0   \n",
       "diag_L29                                                                                                0   \n",
       "diag_S23                                                                                                0   \n",
       "diag_D50                                                                                                0   \n",
       "diag_K52                                                                                                0   \n",
       "diag_S93                                                                                                0   \n",
       "diag_F41                                                                                                0   \n",
       "diag_R04                                                                                                0   \n",
       "diag_E28                                                                                                0   \n",
       "diag_R59                                                                                                0   \n",
       "diag_J22                                                                                                0   \n",
       "diag_Z53                                                                                                0   \n",
       "diag_N02                                                                                                0   \n",
       "diag_S63                                                                                                0   \n",
       "diag_B30                                                                                                0   \n",
       "diag_M65                                                                                                0   \n",
       "diag_E05                                                                                                0   \n",
       "diag_H58                                                                                                0   \n",
       "diag_M72                                                                                                0   \n",
       "diag_P39                                                                                                0   \n",
       "diag_L85                                                                                                0   \n",
       "diag_N76                                                                                                0   \n",
       "diag_L21                                                                                                0   \n",
       "diag_Y58                                                                                                0   \n",
       "diag_K13                                                                                                0   \n",
       "diag_Y60                                                                                                0   \n",
       "diag_Z30                                                                                                0   \n",
       "diag_N51                                                                                                0   \n",
       "diag_S61                                                                                                0   \n",
       "diag_U11                                                                                                0   \n",
       "diag_K11                                                                                                0   \n",
       "diag_S81                                                                                                0   \n",
       "diag_T11                                                                                                0   \n",
       "diag_N77                                                                                                0   \n",
       "diag_O92                                                                                                0   \n",
       "diag_L84                                                                                                0   \n",
       "diag_L28                                                                                                0   \n",
       "diag_A68                                                                                                0   \n",
       "diag_R55                                                                                                0   \n",
       "diag_L71                                                                                                0   \n",
       "diag_N85                                                                                                0   \n",
       "diag_S89                                                                                                0   \n",
       "diag_T23                                                                                                0   \n",
       "diag_B02                                                                                                0   \n",
       "diag_O21                                                                                                0   \n",
       "diag_H04                                                                                                0   \n",
       "diag_T22                                                                                                0   \n",
       "diag_T00                                                                                                0   \n",
       "diag_R23                                                                                                0   \n",
       "diag_G53                                                                                                0   \n",
       "diag_J32                                                                                                0   \n",
       "diag_Z10                                                                                                0   \n",
       "diag_R60                                                                                                0   \n",
       "diag_R03                                                                                                0   \n",
       "diag_M43                                                                                                0   \n",
       "diag_M47                                                                                                0   \n",
       "diag_R25                                                                                                0   \n",
       "diag_L64                                                                                                0   \n",
       "diag_O00                                                                                                0   \n",
       "diag_H15                                                                                                0   \n",
       "diag_K58                                                                                                0   \n",
       "diag_N32                                                                                                0   \n",
       "diag_F43                                                                                                0   \n",
       "diag_L60                                                                                                0   \n",
       "diag_M06                                                                                                0   \n",
       "diag_T13                                                                                                0   \n",
       "diag_S51                                                                                                0   \n",
       "diag_K05                                                                                                0   \n",
       "diag_N84                                                                                                0   \n",
       "diag_R00                                                                                                0   \n",
       "diag_I25                                                                                                0   \n",
       "diag_B01                                                                                                0   \n",
       "diag_S50                                                                                                0   \n",
       "diag_W01                                                                                                0   \n",
       "diag_M77                                                                                                0   \n",
       "diag_I83                                                                                                0   \n",
       "diag_K00                                                                                                0   \n",
       "diag_S43                                                                                                0   \n",
       "diag_R82                                                                                                0   \n",
       "diag_G56                                                                                                0   \n",
       "diag_T75                                                                                                0   \n",
       "diag_R80                                                                                                0   \n",
       "diag_I48                                                                                                0   \n",
       "diag_N63                                                                                                0   \n",
       "diag_L55                                                                                                0   \n",
       "diag_J34                                                                                                0   \n",
       "diag_I80                                                                                                0   \n",
       "diag_F32                                                                                                0   \n",
       "diag_S30                                                                                                0   \n",
       "diag_R73                                                                                                0   \n",
       "diag_K60                                                                                                0   \n",
       "diag_Z01                                                                                                0   \n",
       "diag_D25                                                                                                0   \n",
       "diag_B07                                                                                                0   \n",
       "diag_N40                                                                                                0   \n",
       "diag_L23                                                                                                0   \n",
       "diag_L04                                                                                                0   \n",
       "diag_M67                                                                                                0   \n",
       "diag_D75                                                                                                0   \n",
       "diag_L91                                                                                                0   \n",
       "diag_S80                                                                                                0   \n",
       "diag_K06                                                                                                0   \n",
       "diag_K03                                                                                                0   \n",
       "diag_G62                                                                                                0   \n",
       "diag_S53                                                                                                0   \n",
       "diag_J98                                                                                                0   \n",
       "diag_K08                                                                                                0   \n",
       "diag_H06                                                                                                0   \n",
       "diag_H92                                                                                                0   \n",
       "diag_F90                                                                                                0   \n",
       "diag_K14                                                                                                0   \n",
       "diag_M12                                                                                                0   \n",
       "diag_F00                                                                                                0   \n",
       "diag_T31                                                                                                0   \n",
       "diag_R94                                                                                                0   \n",
       "diag_M51                                                                                                0   \n",
       "diag_H18                                                                                                0   \n",
       "diag_G70                                                                                                0   \n",
       "diag_L73                                                                                                0   \n",
       "diag_J35                                                                                                0   \n",
       "diag_M22                                                                                                0   \n",
       "diag_D10                                                                                                0   \n",
       "diag_S46                                                                                                0   \n",
       "diag_L90                                                                                                0   \n",
       "diag_L81                                                                                                0   \n",
       "diag_E29                                                                                                0   \n",
       "diag_I95                                                                                                0   \n",
       "diag_B80                                                                                                0   \n",
       "diag_S01                                                                                                0   \n",
       "diag_H91                                                                                                0   \n",
       "diag_F06                                                                                                0   \n",
       "diag_N91                                                                                                0   \n",
       "diag_V01                                                                                                0   \n",
       "diag_M84                                                                                                0   \n",
       "diag_K76                                                                                                0   \n",
       "diag_L25                                                                                                0   \n",
       "diag_K62                                                                                                0   \n",
       "diag_Z33                                                                                                0   \n",
       "diag_S70                                                                                                0   \n",
       "diag_G58                                                                                                0   \n",
       "diag_H69                                                                                                0   \n",
       "diag_I05                                                                                                0   \n",
       "diag_S52                                                                                                0   \n",
       "diag_A92                                                                                                0   \n",
       "diag_S96                                                                                                0   \n",
       "diag_R32                                                                                                0   \n",
       "diag_I64                                                                                                0   \n",
       "diag_R12                                                                                                0   \n",
       "diag_S66                                                                                                0   \n",
       "diag_H94                                                                                                0   \n",
       "diag_I88                                                                                                0   \n",
       "diag_L63                                                                                                0   \n",
       "diag_F52                                                                                                0   \n",
       "diag_H40                                                                                                0   \n",
       "diag_E87                                                                                                0   \n",
       "diag_J33                                                                                                0   \n",
       "diag_T63                                                                                                0   \n",
       "diag_R31                                                                                                0   \n",
       "diag_I78                                                                                                0   \n",
       "diag_S05                                                                                                0   \n",
       "diag_S82                                                                                                0   \n",
       "diag_T24                                                                                                0   \n",
       "diag_N30                                                                                                0   \n",
       "diag_R92                                                                                                0   \n",
       "diag_R20                                                                                                0   \n",
       "diag_Z92                                                                                                0   \n",
       "diag_K51                                                                                                0   \n",
       "diag_H61                                                                                                0   \n",
       "diag_K10                                                                                                0   \n",
       "diag_S03                                                                                                0   \n",
       "diag_N80                                                                                                0   \n",
       "diag_S71                                                                                                0   \n",
       "diag_G25                                                                                                0   \n",
       "diag_X51                                                                                                0   \n",
       "diag_D22                                                                                                0   \n",
       "diag_N42                                                                                                0   \n",
       "diag_W09                                                                                                0   \n",
       "diag_W55                                                                                                0   \n",
       "diag_L74                                                                                                0   \n",
       "diag_I70                                                                                                0   \n",
       "diag_Z73                                                                                                0   \n",
       "diag_S20                                                                                                0   \n",
       "diag_K50                                                                                                0   \n",
       "diag_S92                                                                                                0   \n",
       "diag_S40                                                                                                0   \n",
       "diag_L99                                                                                                0   \n",
       "diag_J38                                                                                                0   \n",
       "diag_M71                                                                                                0   \n",
       "diag_I49                                                                                                0   \n",
       "diag_R19                                                                                                0   \n",
       "diag_L72                                                                                                0   \n",
       "diag_L40                                                                                                0   \n",
       "diag_Y56                                                                                                0   \n",
       "diag_D03                                                                                                0   \n",
       "diag_L42                                                                                                0   \n",
       "diag_T17                                                                                                0   \n",
       "diag_R49                                                                                                0   \n",
       "diag_H90                                                                                                0   \n",
       "diag_G51                                                                                                0   \n",
       "diag_E55                                                                                                0   \n",
       "diag_L93                                                                                                0   \n",
       "diag_H70                                                                                                0   \n",
       "diag_N87                                                                                                0   \n",
       "diag_M20                                                                                                0   \n",
       "diag_I65                                                                                                0   \n",
       "diag_L65                                                                                                0   \n",
       "diag_B81                                                                                                0   \n",
       "diag_O90                                                                                                0   \n",
       "diag_K25                                                                                                0   \n",
       "diag_X50                                                                                                0   \n",
       "diag_E66                                                                                                0   \n",
       "diag_N48                                                                                                0   \n",
       "diag_S06                                                                                                0   \n",
       "diag_I86                                                                                                0   \n",
       "diag_H74                                                                                                0   \n",
       "diag_L66                                                                                                0   \n",
       "diag_H26                                                                                                0   \n",
       "chronic_NoneChronic                                                                                     1   \n",
       "chronic_Vasomotor and allergic rhinitis                                                                 0   \n",
       "chronic_Gout                                                                                            0   \n",
       "chronic_Atopic dermatitis                                                                               0   \n",
       "chronic_Hypertension                                                                                    0   \n",
       "chronic_Gastro-oesophageal reflux disease                                                               0   \n",
       "chronic_Hyperlipidaemia                                                                                 0   \n",
       "chronic_Asthma                                                                                          0   \n",
       "chronic_Migraine                                                                                        0   \n",
       "chronic_Diabetes                                                                                        0   \n",
       "chronic_Thyroid                                                                                         0   \n",
       "symp_N                                                                                                  1   \n",
       "symp_headache                                                                                           0   \n",
       "symp_fever                                                                                              0   \n",
       "symp_giddiness                                                                                          0   \n",
       "symp_others                                                                                             0   \n",
       "symp_medical referral                                                                                   0   \n",
       "symp_vomiting                                                                                           0   \n",
       "symp_diarrhoea                                                                                          0   \n",
       "symp_sore throat                                                                                        0   \n",
       "symp_flu                                                                                                0   \n",
       "symp_cough                                                                                              0   \n",
       "symp_cold                                                                                               0   \n",
       "symp_cold sores                                                                                         0   \n",
       "symp_rash                                                                                               0   \n",
       "symp_chronic medicine top-up                                                                            0   \n",
       "symp_discuss lab results                                                                                0   \n",
       "symp_chronic illness management                                                                         0   \n",
       "symp_skin growth on sole (foot)                                                                         0   \n",
       "symp_ulcer under tongue                                                                                 0   \n",
       "symp_vertigo                                                                                            0   \n",
       "symp_runny nose                                                                                         0   \n",
       "Target_chronic                                                                                          0   \n",
       "age_yr                                                                                               29.0   \n",
       "consult_hr                                                                                             13   \n",
       "\n",
       "                                                                                                                                                            1  \\\n",
       "booking_id                                                                                                               3C374977-6526-4612-80FD-D53BE6CDF499   \n",
       "mem_id                                                                                                                   E6A4EC49-02D2-45A2-9F84-053D636A9675   \n",
       "doctor_id                                                                                                                DE28DA35-C28E-49FF-B77C-28E6268F0EF9   \n",
       "consult_waived_reason                                                                                                                                      NA   \n",
       "is_mc_issued                                                                                                                                                1   \n",
       "mc_days                                                                                                                                                   2.0   \n",
       "is_referral_letter_issued                                                                                                                                   0   \n",
       "booking_timestamp                                                                                                                         2022-01-06 12:25:12   \n",
       "gender                                                                                                                                                 Female   \n",
       "birth_year                                                                                                                                               1976   \n",
       "diagnosis_code_list                                                                                                                              [J30, T88.1]   \n",
       "diagnosis_list                                        [vasomotor and allergic rhinitis, other complications following immunization; not elsewhere classified]   \n",
       "chronic_list                                                                                                                                                0   \n",
       "count_diagnosis                                                                                                                                           2.0   \n",
       "count_chronic                                                                                                                                             1.0   \n",
       "medicationID_list                                                                [36836F38-DEE9-4C2F-99C6-DBF7FE5DBAD6, 2B5F01AA-351A-407D-AFE8-FF38EE378BA5]   \n",
       "medicationName_list                                                                                    [Bilastine 20mg tab (Bilaxten), Paracetamol 500mg tab]   \n",
       "medQuantity_list                                                                                                                                 [30.0, 40.0]   \n",
       "medAndQuan_list                                                                          [Bilastine 20mg tab (Bilaxten)|||30.0, Paracetamol 500mg tab|||40.0]   \n",
       "count_medication                                                                                                                                          2.0   \n",
       "count_repeatmed                                                                                                                                           1.0   \n",
       "SymptomID_list                             [6E7F72BF-3C7B-4F0D-B1D2-5E9FB9B5CE9B, EBF8A8FA-AFA4-4FC8-8664-69ABF5E0CBA3, 1B6BFF99-1553-487A-A85E-EBF552D50D23]   \n",
       "SymptomName_list                                                                                                                 [headache, fever, giddiness]   \n",
       "count_SymID                                                                                                                                               3.0   \n",
       "diag_U12                                                                                                                                                    0   \n",
       "diag_J30                                                                                                                                                    1   \n",
       "diag_T88                                                                                                                                                    1   \n",
       "diag_K12                                                                                                                                                    0   \n",
       "diag_R21                                                                                                                                                    0   \n",
       "diag_A09                                                                                                                                                    0   \n",
       "diag_H57                                                                                                                                                    0   \n",
       "diag_Z02                                                                                                                                                    0   \n",
       "diag_J06                                                                                                                                                    0   \n",
       "diag_J04                                                                                                                                                    0   \n",
       "diag_Z76                                                                                                                                                    0   \n",
       "diag_M79                                                                                                                                                    0   \n",
       "diag_R51                                                                                                                                                    0   \n",
       "diag_M54                                                                                                                                                    0   \n",
       "diag_R22                                                                                                                                                    0   \n",
       "diag_L50                                                                                                                                                    0   \n",
       "diag_H11                                                                                                                                                    0   \n",
       "diag_B35                                                                                                                                                    0   \n",
       "diag_K30                                                                                                                                                    0   \n",
       "diag_O91                                                                                                                                                    0   \n",
       "diag_R07                                                                                                                                                    0   \n",
       "diag_M10                                                                                                                                                    0   \n",
       "diag_Z71                                                                                                                                                    0   \n",
       "diag_N94                                                                                                                                                    0   \n",
       "diag_K29                                                                                                                                                    0   \n",
       "diag_B37                                                                                                                                                    0   \n",
       "diag_R50                                                                                                                                                    0   \n",
       "diag_N39                                                                                                                                                    0   \n",
       "diag_R09                                                                                                                                                    0   \n",
       "diag_M50                                                                                                                                                    0   \n",
       "diag_R42                                                                                                                                                    0   \n",
       "diag_W57                                                                                                                                                    0   \n",
       "diag_B00                                                                                                                                                    0   \n",
       "diag_L70                                                                                                                                                    0   \n",
       "diag_R14                                                                                                                                                    0   \n",
       "diag_H00                                                                                                                                                    0   \n",
       "diag_L98                                                                                                                                                    0   \n",
       "diag_U07                                                                                                                                                    0   \n",
       "diag_M75                                                                                                                                                    0   \n",
       "diag_R45                                                                                                                                                    0   \n",
       "diag_R05                                                                                                                                                    0   \n",
       "diag_R63                                                                                                                                                    0   \n",
       "diag_L20                                                                                                                                                    0   \n",
       "diag_J39                                                                                                                                                    0   \n",
       "diag_J02                                                                                                                                                    0   \n",
       "diag_L02                                                                                                                                                    0   \n",
       "diag_I10                                                                                                                                                    0   \n",
       "diag_K21                                                                                                                                                    0   \n",
       "diag_J20                                                                                                                                                    0   \n",
       "diag_H02                                                                                                                                                    0   \n",
       "diag_S83                                                                                                                                                    0   \n",
       "diag_L03                                                                                                                                                    0   \n",
       "diag_M76                                                                                                                                                    0   \n",
       "diag_M62                                                                                                                                                    0   \n",
       "diag_H10                                                                                                                                                    0   \n",
       "diag_L24                                                                                                                                                    0   \n",
       "diag_L30                                                                                                                                                    0   \n",
       "diag_K59                                                                                                                                                    0   \n",
       "diag_Y42                                                                                                                                                    0   \n",
       "diag_K07                                                                                                                                                    0   \n",
       "diag_E78                                                                                                                                                    0   \n",
       "diag_K64                                                                                                                                                    0   \n",
       "diag_J45                                                                                                                                                    0   \n",
       "diag_S90                                                                                                                                                    0   \n",
       "diag_G43                                                                                                                                                    0   \n",
       "diag_B08                                                                                                                                                    0   \n",
       "diag_G47                                                                                                                                                    0   \n",
       "diag_T78                                                                                                                                                    0   \n",
       "diag_U08                                                                                                                                                    0   \n",
       "diag_H81                                                                                                                                                    0   \n",
       "diag_G44                                                                                                                                                    0   \n",
       "diag_N92                                                                                                                                                    0   \n",
       "diag_J01                                                                                                                                                    0   \n",
       "diag_E11                                                                                                                                                    0   \n",
       "diag_H66                                                                                                                                                    0   \n",
       "diag_M25                                                                                                                                                    0   \n",
       "diag_F38                                                                                                                                                    0   \n",
       "diag_H01                                                                                                                                                    0   \n",
       "diag_G71                                                                                                                                                    0   \n",
       "diag_R53                                                                                                                                                    0   \n",
       "diag_M23                                                                                                                                                    0   \n",
       "diag_S13                                                                                                                                                    0   \n",
       "diag_S00                                                                                                                                                    0   \n",
       "diag_U09                                                                                                                                                    0   \n",
       "diag_H93                                                                                                                                                    0   \n",
       "diag_B36                                                                                                                                                    0   \n",
       "diag_S60                                                                                                                                                    0   \n",
       "diag_E61                                                                                                                                                    0   \n",
       "diag_R52                                                                                                                                                    0   \n",
       "diag_H60                                                                                                                                                    0   \n",
       "diag_M17                                                                                                                                                    0   \n",
       "diag_R06                                                                                                                                                    0   \n",
       "diag_N64                                                                                                                                                    0   \n",
       "diag_R10                                                                                                                                                    0   \n",
       "diag_R11                                                                                                                                                    0   \n",
       "diag_E03                                                                                                                                                    0   \n",
       "diag_J03                                                                                                                                                    0   \n",
       "diag_S33                                                                                                                                                    0   \n",
       "diag_Z13                                                                                                                                                    0   \n",
       "diag_L29                                                                                                                                                    0   \n",
       "diag_S23                                                                                                                                                    0   \n",
       "diag_D50                                                                                                                                                    0   \n",
       "diag_K52                                                                                                                                                    0   \n",
       "diag_S93                                                                                                                                                    0   \n",
       "diag_F41                                                                                                                                                    0   \n",
       "diag_R04                                                                                                                                                    0   \n",
       "diag_E28                                                                                                                                                    0   \n",
       "diag_R59                                                                                                                                                    0   \n",
       "diag_J22                                                                                                                                                    0   \n",
       "diag_Z53                                                                                                                                                    0   \n",
       "diag_N02                                                                                                                                                    0   \n",
       "diag_S63                                                                                                                                                    0   \n",
       "diag_B30                                                                                                                                                    0   \n",
       "diag_M65                                                                                                                                                    0   \n",
       "diag_E05                                                                                                                                                    0   \n",
       "diag_H58                                                                                                                                                    0   \n",
       "diag_M72                                                                                                                                                    0   \n",
       "diag_P39                                                                                                                                                    0   \n",
       "diag_L85                                                                                                                                                    0   \n",
       "diag_N76                                                                                                                                                    0   \n",
       "diag_L21                                                                                                                                                    0   \n",
       "diag_Y58                                                                                                                                                    0   \n",
       "diag_K13                                                                                                                                                    0   \n",
       "diag_Y60                                                                                                                                                    0   \n",
       "diag_Z30                                                                                                                                                    0   \n",
       "diag_N51                                                                                                                                                    0   \n",
       "diag_S61                                                                                                                                                    0   \n",
       "diag_U11                                                                                                                                                    0   \n",
       "diag_K11                                                                                                                                                    0   \n",
       "diag_S81                                                                                                                                                    0   \n",
       "diag_T11                                                                                                                                                    0   \n",
       "diag_N77                                                                                                                                                    0   \n",
       "diag_O92                                                                                                                                                    0   \n",
       "diag_L84                                                                                                                                                    0   \n",
       "diag_L28                                                                                                                                                    0   \n",
       "diag_A68                                                                                                                                                    0   \n",
       "diag_R55                                                                                                                                                    0   \n",
       "diag_L71                                                                                                                                                    0   \n",
       "diag_N85                                                                                                                                                    0   \n",
       "diag_S89                                                                                                                                                    0   \n",
       "diag_T23                                                                                                                                                    0   \n",
       "diag_B02                                                                                                                                                    0   \n",
       "diag_O21                                                                                                                                                    0   \n",
       "diag_H04                                                                                                                                                    0   \n",
       "diag_T22                                                                                                                                                    0   \n",
       "diag_T00                                                                                                                                                    0   \n",
       "diag_R23                                                                                                                                                    0   \n",
       "diag_G53                                                                                                                                                    0   \n",
       "diag_J32                                                                                                                                                    0   \n",
       "diag_Z10                                                                                                                                                    0   \n",
       "diag_R60                                                                                                                                                    0   \n",
       "diag_R03                                                                                                                                                    0   \n",
       "diag_M43                                                                                                                                                    0   \n",
       "diag_M47                                                                                                                                                    0   \n",
       "diag_R25                                                                                                                                                    0   \n",
       "diag_L64                                                                                                                                                    0   \n",
       "diag_O00                                                                                                                                                    0   \n",
       "diag_H15                                                                                                                                                    0   \n",
       "diag_K58                                                                                                                                                    0   \n",
       "diag_N32                                                                                                                                                    0   \n",
       "diag_F43                                                                                                                                                    0   \n",
       "diag_L60                                                                                                                                                    0   \n",
       "diag_M06                                                                                                                                                    0   \n",
       "diag_T13                                                                                                                                                    0   \n",
       "diag_S51                                                                                                                                                    0   \n",
       "diag_K05                                                                                                                                                    0   \n",
       "diag_N84                                                                                                                                                    0   \n",
       "diag_R00                                                                                                                                                    0   \n",
       "diag_I25                                                                                                                                                    0   \n",
       "diag_B01                                                                                                                                                    0   \n",
       "diag_S50                                                                                                                                                    0   \n",
       "diag_W01                                                                                                                                                    0   \n",
       "diag_M77                                                                                                                                                    0   \n",
       "diag_I83                                                                                                                                                    0   \n",
       "diag_K00                                                                                                                                                    0   \n",
       "diag_S43                                                                                                                                                    0   \n",
       "diag_R82                                                                                                                                                    0   \n",
       "diag_G56                                                                                                                                                    0   \n",
       "diag_T75                                                                                                                                                    0   \n",
       "diag_R80                                                                                                                                                    0   \n",
       "diag_I48                                                                                                                                                    0   \n",
       "diag_N63                                                                                                                                                    0   \n",
       "diag_L55                                                                                                                                                    0   \n",
       "diag_J34                                                                                                                                                    0   \n",
       "diag_I80                                                                                                                                                    0   \n",
       "diag_F32                                                                                                                                                    0   \n",
       "diag_S30                                                                                                                                                    0   \n",
       "diag_R73                                                                                                                                                    0   \n",
       "diag_K60                                                                                                                                                    0   \n",
       "diag_Z01                                                                                                                                                    0   \n",
       "diag_D25                                                                                                                                                    0   \n",
       "diag_B07                                                                                                                                                    0   \n",
       "diag_N40                                                                                                                                                    0   \n",
       "diag_L23                                                                                                                                                    0   \n",
       "diag_L04                                                                                                                                                    0   \n",
       "diag_M67                                                                                                                                                    0   \n",
       "diag_D75                                                                                                                                                    0   \n",
       "diag_L91                                                                                                                                                    0   \n",
       "diag_S80                                                                                                                                                    0   \n",
       "diag_K06                                                                                                                                                    0   \n",
       "diag_K03                                                                                                                                                    0   \n",
       "diag_G62                                                                                                                                                    0   \n",
       "diag_S53                                                                                                                                                    0   \n",
       "diag_J98                                                                                                                                                    0   \n",
       "diag_K08                                                                                                                                                    0   \n",
       "diag_H06                                                                                                                                                    0   \n",
       "diag_H92                                                                                                                                                    0   \n",
       "diag_F90                                                                                                                                                    0   \n",
       "diag_K14                                                                                                                                                    0   \n",
       "diag_M12                                                                                                                                                    0   \n",
       "diag_F00                                                                                                                                                    0   \n",
       "diag_T31                                                                                                                                                    0   \n",
       "diag_R94                                                                                                                                                    0   \n",
       "diag_M51                                                                                                                                                    0   \n",
       "diag_H18                                                                                                                                                    0   \n",
       "diag_G70                                                                                                                                                    0   \n",
       "diag_L73                                                                                                                                                    0   \n",
       "diag_J35                                                                                                                                                    0   \n",
       "diag_M22                                                                                                                                                    0   \n",
       "diag_D10                                                                                                                                                    0   \n",
       "diag_S46                                                                                                                                                    0   \n",
       "diag_L90                                                                                                                                                    0   \n",
       "diag_L81                                                                                                                                                    0   \n",
       "diag_E29                                                                                                                                                    0   \n",
       "diag_I95                                                                                                                                                    0   \n",
       "diag_B80                                                                                                                                                    0   \n",
       "diag_S01                                                                                                                                                    0   \n",
       "diag_H91                                                                                                                                                    0   \n",
       "diag_F06                                                                                                                                                    0   \n",
       "diag_N91                                                                                                                                                    0   \n",
       "diag_V01                                                                                                                                                    0   \n",
       "diag_M84                                                                                                                                                    0   \n",
       "diag_K76                                                                                                                                                    0   \n",
       "diag_L25                                                                                                                                                    0   \n",
       "diag_K62                                                                                                                                                    0   \n",
       "diag_Z33                                                                                                                                                    0   \n",
       "diag_S70                                                                                                                                                    0   \n",
       "diag_G58                                                                                                                                                    0   \n",
       "diag_H69                                                                                                                                                    0   \n",
       "diag_I05                                                                                                                                                    0   \n",
       "diag_S52                                                                                                                                                    0   \n",
       "diag_A92                                                                                                                                                    0   \n",
       "diag_S96                                                                                                                                                    0   \n",
       "diag_R32                                                                                                                                                    0   \n",
       "diag_I64                                                                                                                                                    0   \n",
       "diag_R12                                                                                                                                                    0   \n",
       "diag_S66                                                                                                                                                    0   \n",
       "diag_H94                                                                                                                                                    0   \n",
       "diag_I88                                                                                                                                                    0   \n",
       "diag_L63                                                                                                                                                    0   \n",
       "diag_F52                                                                                                                                                    0   \n",
       "diag_H40                                                                                                                                                    0   \n",
       "diag_E87                                                                                                                                                    0   \n",
       "diag_J33                                                                                                                                                    0   \n",
       "diag_T63                                                                                                                                                    0   \n",
       "diag_R31                                                                                                                                                    0   \n",
       "diag_I78                                                                                                                                                    0   \n",
       "diag_S05                                                                                                                                                    0   \n",
       "diag_S82                                                                                                                                                    0   \n",
       "diag_T24                                                                                                                                                    0   \n",
       "diag_N30                                                                                                                                                    0   \n",
       "diag_R92                                                                                                                                                    0   \n",
       "diag_R20                                                                                                                                                    0   \n",
       "diag_Z92                                                                                                                                                    0   \n",
       "diag_K51                                                                                                                                                    0   \n",
       "diag_H61                                                                                                                                                    0   \n",
       "diag_K10                                                                                                                                                    0   \n",
       "diag_S03                                                                                                                                                    0   \n",
       "diag_N80                                                                                                                                                    0   \n",
       "diag_S71                                                                                                                                                    0   \n",
       "diag_G25                                                                                                                                                    0   \n",
       "diag_X51                                                                                                                                                    0   \n",
       "diag_D22                                                                                                                                                    0   \n",
       "diag_N42                                                                                                                                                    0   \n",
       "diag_W09                                                                                                                                                    0   \n",
       "diag_W55                                                                                                                                                    0   \n",
       "diag_L74                                                                                                                                                    0   \n",
       "diag_I70                                                                                                                                                    0   \n",
       "diag_Z73                                                                                                                                                    0   \n",
       "diag_S20                                                                                                                                                    0   \n",
       "diag_K50                                                                                                                                                    0   \n",
       "diag_S92                                                                                                                                                    0   \n",
       "diag_S40                                                                                                                                                    0   \n",
       "diag_L99                                                                                                                                                    0   \n",
       "diag_J38                                                                                                                                                    0   \n",
       "diag_M71                                                                                                                                                    0   \n",
       "diag_I49                                                                                                                                                    0   \n",
       "diag_R19                                                                                                                                                    0   \n",
       "diag_L72                                                                                                                                                    0   \n",
       "diag_L40                                                                                                                                                    0   \n",
       "diag_Y56                                                                                                                                                    0   \n",
       "diag_D03                                                                                                                                                    0   \n",
       "diag_L42                                                                                                                                                    0   \n",
       "diag_T17                                                                                                                                                    0   \n",
       "diag_R49                                                                                                                                                    0   \n",
       "diag_H90                                                                                                                                                    0   \n",
       "diag_G51                                                                                                                                                    0   \n",
       "diag_E55                                                                                                                                                    0   \n",
       "diag_L93                                                                                                                                                    0   \n",
       "diag_H70                                                                                                                                                    0   \n",
       "diag_N87                                                                                                                                                    0   \n",
       "diag_M20                                                                                                                                                    0   \n",
       "diag_I65                                                                                                                                                    0   \n",
       "diag_L65                                                                                                                                                    0   \n",
       "diag_B81                                                                                                                                                    0   \n",
       "diag_O90                                                                                                                                                    0   \n",
       "diag_K25                                                                                                                                                    0   \n",
       "diag_X50                                                                                                                                                    0   \n",
       "diag_E66                                                                                                                                                    0   \n",
       "diag_N48                                                                                                                                                    0   \n",
       "diag_S06                                                                                                                                                    0   \n",
       "diag_I86                                                                                                                                                    0   \n",
       "diag_H74                                                                                                                                                    0   \n",
       "diag_L66                                                                                                                                                    0   \n",
       "diag_H26                                                                                                                                                    0   \n",
       "chronic_NoneChronic                                                                                                                                         0   \n",
       "chronic_Vasomotor and allergic rhinitis                                                                                                                     1   \n",
       "chronic_Gout                                                                                                                                                0   \n",
       "chronic_Atopic dermatitis                                                                                                                                   0   \n",
       "chronic_Hypertension                                                                                                                                        0   \n",
       "chronic_Gastro-oesophageal reflux disease                                                                                                                   0   \n",
       "chronic_Hyperlipidaemia                                                                                                                                     0   \n",
       "chronic_Asthma                                                                                                                                              0   \n",
       "chronic_Migraine                                                                                                                                            0   \n",
       "chronic_Diabetes                                                                                                                                            0   \n",
       "chronic_Thyroid                                                                                                                                             0   \n",
       "symp_N                                                                                                                                                      0   \n",
       "symp_headache                                                                                                                                               1   \n",
       "symp_fever                                                                                                                                                  1   \n",
       "symp_giddiness                                                                                                                                              1   \n",
       "symp_others                                                                                                                                                 0   \n",
       "symp_medical referral                                                                                                                                       0   \n",
       "symp_vomiting                                                                                                                                               0   \n",
       "symp_diarrhoea                                                                                                                                              0   \n",
       "symp_sore throat                                                                                                                                            0   \n",
       "symp_flu                                                                                                                                                    0   \n",
       "symp_cough                                                                                                                                                  0   \n",
       "symp_cold                                                                                                                                                   0   \n",
       "symp_cold sores                                                                                                                                             0   \n",
       "symp_rash                                                                                                                                                   0   \n",
       "symp_chronic medicine top-up                                                                                                                                0   \n",
       "symp_discuss lab results                                                                                                                                    0   \n",
       "symp_chronic illness management                                                                                                                             0   \n",
       "symp_skin growth on sole (foot)                                                                                                                             0   \n",
       "symp_ulcer under tongue                                                                                                                                     0   \n",
       "symp_vertigo                                                                                                                                                0   \n",
       "symp_runny nose                                                                                                                                             0   \n",
       "Target_chronic                                                                                                                                              1   \n",
       "age_yr                                                                                                                                                   46.0   \n",
       "consult_hr                                                                                                                                                 12   \n",
       "\n",
       "                                                                                                                                                                          2  \\\n",
       "booking_id                                                                                                                             48958FEF-8052-4624-AEAD-792568C230D0   \n",
       "mem_id                                                                                                                                 4347A549-532F-4A2B-AD31-0670BB1CA8F3   \n",
       "doctor_id                                                                                                                              DE28DA35-C28E-49FF-B77C-28E6268F0EF9   \n",
       "consult_waived_reason                                                                                                                                                    NA   \n",
       "is_mc_issued                                                                                                                                                              1   \n",
       "mc_days                                                                                                                                                                 1.0   \n",
       "is_referral_letter_issued                                                                                                                                                 0   \n",
       "booking_timestamp                                                                                                                                       2022-01-13 09:51:08   \n",
       "gender                                                                                                                                                               Female   \n",
       "birth_year                                                                                                                                                             1993   \n",
       "diagnosis_code_list                                                                                                                                                 [K12.3]   \n",
       "diagnosis_list                                                                                                                                [oral mucositis (ulcerative)]   \n",
       "chronic_list                                                                                                                                                              0   \n",
       "count_diagnosis                                                                                                                                                         1.0   \n",
       "count_chronic                                                                                                                                                           0.0   \n",
       "medicationID_list                                        [E872118D-BE4E-4DDA-B0FD-15284C7E8D95, 642E20BA-46E9-460F-B329-60B8363F8753, 960B1495-908B-48DA-A134-94A2A328B1D1]   \n",
       "medicationName_list                                           [Thymol Gargle, * Aminacrine HCl 0.05% / Lignocaine HCl 0.66% Gel (15g) (Medijel), Naproxen Sodium 275mg tab]   \n",
       "medQuantity_list                                                                                                                                           [1.0, 1.0, 20.0]   \n",
       "medAndQuan_list                            [Thymol Gargle|||1.0, * Aminacrine HCl 0.05% / Lignocaine HCl 0.66% Gel (15g) (Medijel)|||1.0, Naproxen Sodium 275mg tab|||20.0]   \n",
       "count_medication                                                                                                                                                        3.0   \n",
       "count_repeatmed                                                                                                                                                         1.0   \n",
       "SymptomID_list                                                                                                                       [A518BD9F-95E0-411F-B058-F4DEA6AD1884]   \n",
       "SymptomName_list                                                                                                                                                   [others]   \n",
       "count_SymID                                                                                                                                                             1.0   \n",
       "diag_U12                                                                                                                                                                  0   \n",
       "diag_J30                                                                                                                                                                  0   \n",
       "diag_T88                                                                                                                                                                  0   \n",
       "diag_K12                                                                                                                                                                  1   \n",
       "diag_R21                                                                                                                                                                  0   \n",
       "diag_A09                                                                                                                                                                  0   \n",
       "diag_H57                                                                                                                                                                  0   \n",
       "diag_Z02                                                                                                                                                                  0   \n",
       "diag_J06                                                                                                                                                                  0   \n",
       "diag_J04                                                                                                                                                                  0   \n",
       "diag_Z76                                                                                                                                                                  0   \n",
       "diag_M79                                                                                                                                                                  0   \n",
       "diag_R51                                                                                                                                                                  0   \n",
       "diag_M54                                                                                                                                                                  0   \n",
       "diag_R22                                                                                                                                                                  0   \n",
       "diag_L50                                                                                                                                                                  0   \n",
       "diag_H11                                                                                                                                                                  0   \n",
       "diag_B35                                                                                                                                                                  0   \n",
       "diag_K30                                                                                                                                                                  0   \n",
       "diag_O91                                                                                                                                                                  0   \n",
       "diag_R07                                                                                                                                                                  0   \n",
       "diag_M10                                                                                                                                                                  0   \n",
       "diag_Z71                                                                                                                                                                  0   \n",
       "diag_N94                                                                                                                                                                  0   \n",
       "diag_K29                                                                                                                                                                  0   \n",
       "diag_B37                                                                                                                                                                  0   \n",
       "diag_R50                                                                                                                                                                  0   \n",
       "diag_N39                                                                                                                                                                  0   \n",
       "diag_R09                                                                                                                                                                  0   \n",
       "diag_M50                                                                                                                                                                  0   \n",
       "diag_R42                                                                                                                                                                  0   \n",
       "diag_W57                                                                                                                                                                  0   \n",
       "diag_B00                                                                                                                                                                  0   \n",
       "diag_L70                                                                                                                                                                  0   \n",
       "diag_R14                                                                                                                                                                  0   \n",
       "diag_H00                                                                                                                                                                  0   \n",
       "diag_L98                                                                                                                                                                  0   \n",
       "diag_U07                                                                                                                                                                  0   \n",
       "diag_M75                                                                                                                                                                  0   \n",
       "diag_R45                                                                                                                                                                  0   \n",
       "diag_R05                                                                                                                                                                  0   \n",
       "diag_R63                                                                                                                                                                  0   \n",
       "diag_L20                                                                                                                                                                  0   \n",
       "diag_J39                                                                                                                                                                  0   \n",
       "diag_J02                                                                                                                                                                  0   \n",
       "diag_L02                                                                                                                                                                  0   \n",
       "diag_I10                                                                                                                                                                  0   \n",
       "diag_K21                                                                                                                                                                  0   \n",
       "diag_J20                                                                                                                                                                  0   \n",
       "diag_H02                                                                                                                                                                  0   \n",
       "diag_S83                                                                                                                                                                  0   \n",
       "diag_L03                                                                                                                                                                  0   \n",
       "diag_M76                                                                                                                                                                  0   \n",
       "diag_M62                                                                                                                                                                  0   \n",
       "diag_H10                                                                                                                                                                  0   \n",
       "diag_L24                                                                                                                                                                  0   \n",
       "diag_L30                                                                                                                                                                  0   \n",
       "diag_K59                                                                                                                                                                  0   \n",
       "diag_Y42                                                                                                                                                                  0   \n",
       "diag_K07                                                                                                                                                                  0   \n",
       "diag_E78                                                                                                                                                                  0   \n",
       "diag_K64                                                                                                                                                                  0   \n",
       "diag_J45                                                                                                                                                                  0   \n",
       "diag_S90                                                                                                                                                                  0   \n",
       "diag_G43                                                                                                                                                                  0   \n",
       "diag_B08                                                                                                                                                                  0   \n",
       "diag_G47                                                                                                                                                                  0   \n",
       "diag_T78                                                                                                                                                                  0   \n",
       "diag_U08                                                                                                                                                                  0   \n",
       "diag_H81                                                                                                                                                                  0   \n",
       "diag_G44                                                                                                                                                                  0   \n",
       "diag_N92                                                                                                                                                                  0   \n",
       "diag_J01                                                                                                                                                                  0   \n",
       "diag_E11                                                                                                                                                                  0   \n",
       "diag_H66                                                                                                                                                                  0   \n",
       "diag_M25                                                                                                                                                                  0   \n",
       "diag_F38                                                                                                                                                                  0   \n",
       "diag_H01                                                                                                                                                                  0   \n",
       "diag_G71                                                                                                                                                                  0   \n",
       "diag_R53                                                                                                                                                                  0   \n",
       "diag_M23                                                                                                                                                                  0   \n",
       "diag_S13                                                                                                                                                                  0   \n",
       "diag_S00                                                                                                                                                                  0   \n",
       "diag_U09                                                                                                                                                                  0   \n",
       "diag_H93                                                                                                                                                                  0   \n",
       "diag_B36                                                                                                                                                                  0   \n",
       "diag_S60                                                                                                                                                                  0   \n",
       "diag_E61                                                                                                                                                                  0   \n",
       "diag_R52                                                                                                                                                                  0   \n",
       "diag_H60                                                                                                                                                                  0   \n",
       "diag_M17                                                                                                                                                                  0   \n",
       "diag_R06                                                                                                                                                                  0   \n",
       "diag_N64                                                                                                                                                                  0   \n",
       "diag_R10                                                                                                                                                                  0   \n",
       "diag_R11                                                                                                                                                                  0   \n",
       "diag_E03                                                                                                                                                                  0   \n",
       "diag_J03                                                                                                                                                                  0   \n",
       "diag_S33                                                                                                                                                                  0   \n",
       "diag_Z13                                                                                                                                                                  0   \n",
       "diag_L29                                                                                                                                                                  0   \n",
       "diag_S23                                                                                                                                                                  0   \n",
       "diag_D50                                                                                                                                                                  0   \n",
       "diag_K52                                                                                                                                                                  0   \n",
       "diag_S93                                                                                                                                                                  0   \n",
       "diag_F41                                                                                                                                                                  0   \n",
       "diag_R04                                                                                                                                                                  0   \n",
       "diag_E28                                                                                                                                                                  0   \n",
       "diag_R59                                                                                                                                                                  0   \n",
       "diag_J22                                                                                                                                                                  0   \n",
       "diag_Z53                                                                                                                                                                  0   \n",
       "diag_N02                                                                                                                                                                  0   \n",
       "diag_S63                                                                                                                                                                  0   \n",
       "diag_B30                                                                                                                                                                  0   \n",
       "diag_M65                                                                                                                                                                  0   \n",
       "diag_E05                                                                                                                                                                  0   \n",
       "diag_H58                                                                                                                                                                  0   \n",
       "diag_M72                                                                                                                                                                  0   \n",
       "diag_P39                                                                                                                                                                  0   \n",
       "diag_L85                                                                                                                                                                  0   \n",
       "diag_N76                                                                                                                                                                  0   \n",
       "diag_L21                                                                                                                                                                  0   \n",
       "diag_Y58                                                                                                                                                                  0   \n",
       "diag_K13                                                                                                                                                                  0   \n",
       "diag_Y60                                                                                                                                                                  0   \n",
       "diag_Z30                                                                                                                                                                  0   \n",
       "diag_N51                                                                                                                                                                  0   \n",
       "diag_S61                                                                                                                                                                  0   \n",
       "diag_U11                                                                                                                                                                  0   \n",
       "diag_K11                                                                                                                                                                  0   \n",
       "diag_S81                                                                                                                                                                  0   \n",
       "diag_T11                                                                                                                                                                  0   \n",
       "diag_N77                                                                                                                                                                  0   \n",
       "diag_O92                                                                                                                                                                  0   \n",
       "diag_L84                                                                                                                                                                  0   \n",
       "diag_L28                                                                                                                                                                  0   \n",
       "diag_A68                                                                                                                                                                  0   \n",
       "diag_R55                                                                                                                                                                  0   \n",
       "diag_L71                                                                                                                                                                  0   \n",
       "diag_N85                                                                                                                                                                  0   \n",
       "diag_S89                                                                                                                                                                  0   \n",
       "diag_T23                                                                                                                                                                  0   \n",
       "diag_B02                                                                                                                                                                  0   \n",
       "diag_O21                                                                                                                                                                  0   \n",
       "diag_H04                                                                                                                                                                  0   \n",
       "diag_T22                                                                                                                                                                  0   \n",
       "diag_T00                                                                                                                                                                  0   \n",
       "diag_R23                                                                                                                                                                  0   \n",
       "diag_G53                                                                                                                                                                  0   \n",
       "diag_J32                                                                                                                                                                  0   \n",
       "diag_Z10                                                                                                                                                                  0   \n",
       "diag_R60                                                                                                                                                                  0   \n",
       "diag_R03                                                                                                                                                                  0   \n",
       "diag_M43                                                                                                                                                                  0   \n",
       "diag_M47                                                                                                                                                                  0   \n",
       "diag_R25                                                                                                                                                                  0   \n",
       "diag_L64                                                                                                                                                                  0   \n",
       "diag_O00                                                                                                                                                                  0   \n",
       "diag_H15                                                                                                                                                                  0   \n",
       "diag_K58                                                                                                                                                                  0   \n",
       "diag_N32                                                                                                                                                                  0   \n",
       "diag_F43                                                                                                                                                                  0   \n",
       "diag_L60                                                                                                                                                                  0   \n",
       "diag_M06                                                                                                                                                                  0   \n",
       "diag_T13                                                                                                                                                                  0   \n",
       "diag_S51                                                                                                                                                                  0   \n",
       "diag_K05                                                                                                                                                                  0   \n",
       "diag_N84                                                                                                                                                                  0   \n",
       "diag_R00                                                                                                                                                                  0   \n",
       "diag_I25                                                                                                                                                                  0   \n",
       "diag_B01                                                                                                                                                                  0   \n",
       "diag_S50                                                                                                                                                                  0   \n",
       "diag_W01                                                                                                                                                                  0   \n",
       "diag_M77                                                                                                                                                                  0   \n",
       "diag_I83                                                                                                                                                                  0   \n",
       "diag_K00                                                                                                                                                                  0   \n",
       "diag_S43                                                                                                                                                                  0   \n",
       "diag_R82                                                                                                                                                                  0   \n",
       "diag_G56                                                                                                                                                                  0   \n",
       "diag_T75                                                                                                                                                                  0   \n",
       "diag_R80                                                                                                                                                                  0   \n",
       "diag_I48                                                                                                                                                                  0   \n",
       "diag_N63                                                                                                                                                                  0   \n",
       "diag_L55                                                                                                                                                                  0   \n",
       "diag_J34                                                                                                                                                                  0   \n",
       "diag_I80                                                                                                                                                                  0   \n",
       "diag_F32                                                                                                                                                                  0   \n",
       "diag_S30                                                                                                                                                                  0   \n",
       "diag_R73                                                                                                                                                                  0   \n",
       "diag_K60                                                                                                                                                                  0   \n",
       "diag_Z01                                                                                                                                                                  0   \n",
       "diag_D25                                                                                                                                                                  0   \n",
       "diag_B07                                                                                                                                                                  0   \n",
       "diag_N40                                                                                                                                                                  0   \n",
       "diag_L23                                                                                                                                                                  0   \n",
       "diag_L04                                                                                                                                                                  0   \n",
       "diag_M67                                                                                                                                                                  0   \n",
       "diag_D75                                                                                                                                                                  0   \n",
       "diag_L91                                                                                                                                                                  0   \n",
       "diag_S80                                                                                                                                                                  0   \n",
       "diag_K06                                                                                                                                                                  0   \n",
       "diag_K03                                                                                                                                                                  0   \n",
       "diag_G62                                                                                                                                                                  0   \n",
       "diag_S53                                                                                                                                                                  0   \n",
       "diag_J98                                                                                                                                                                  0   \n",
       "diag_K08                                                                                                                                                                  0   \n",
       "diag_H06                                                                                                                                                                  0   \n",
       "diag_H92                                                                                                                                                                  0   \n",
       "diag_F90                                                                                                                                                                  0   \n",
       "diag_K14                                                                                                                                                                  0   \n",
       "diag_M12                                                                                                                                                                  0   \n",
       "diag_F00                                                                                                                                                                  0   \n",
       "diag_T31                                                                                                                                                                  0   \n",
       "diag_R94                                                                                                                                                                  0   \n",
       "diag_M51                                                                                                                                                                  0   \n",
       "diag_H18                                                                                                                                                                  0   \n",
       "diag_G70                                                                                                                                                                  0   \n",
       "diag_L73                                                                                                                                                                  0   \n",
       "diag_J35                                                                                                                                                                  0   \n",
       "diag_M22                                                                                                                                                                  0   \n",
       "diag_D10                                                                                                                                                                  0   \n",
       "diag_S46                                                                                                                                                                  0   \n",
       "diag_L90                                                                                                                                                                  0   \n",
       "diag_L81                                                                                                                                                                  0   \n",
       "diag_E29                                                                                                                                                                  0   \n",
       "diag_I95                                                                                                                                                                  0   \n",
       "diag_B80                                                                                                                                                                  0   \n",
       "diag_S01                                                                                                                                                                  0   \n",
       "diag_H91                                                                                                                                                                  0   \n",
       "diag_F06                                                                                                                                                                  0   \n",
       "diag_N91                                                                                                                                                                  0   \n",
       "diag_V01                                                                                                                                                                  0   \n",
       "diag_M84                                                                                                                                                                  0   \n",
       "diag_K76                                                                                                                                                                  0   \n",
       "diag_L25                                                                                                                                                                  0   \n",
       "diag_K62                                                                                                                                                                  0   \n",
       "diag_Z33                                                                                                                                                                  0   \n",
       "diag_S70                                                                                                                                                                  0   \n",
       "diag_G58                                                                                                                                                                  0   \n",
       "diag_H69                                                                                                                                                                  0   \n",
       "diag_I05                                                                                                                                                                  0   \n",
       "diag_S52                                                                                                                                                                  0   \n",
       "diag_A92                                                                                                                                                                  0   \n",
       "diag_S96                                                                                                                                                                  0   \n",
       "diag_R32                                                                                                                                                                  0   \n",
       "diag_I64                                                                                                                                                                  0   \n",
       "diag_R12                                                                                                                                                                  0   \n",
       "diag_S66                                                                                                                                                                  0   \n",
       "diag_H94                                                                                                                                                                  0   \n",
       "diag_I88                                                                                                                                                                  0   \n",
       "diag_L63                                                                                                                                                                  0   \n",
       "diag_F52                                                                                                                                                                  0   \n",
       "diag_H40                                                                                                                                                                  0   \n",
       "diag_E87                                                                                                                                                                  0   \n",
       "diag_J33                                                                                                                                                                  0   \n",
       "diag_T63                                                                                                                                                                  0   \n",
       "diag_R31                                                                                                                                                                  0   \n",
       "diag_I78                                                                                                                                                                  0   \n",
       "diag_S05                                                                                                                                                                  0   \n",
       "diag_S82                                                                                                                                                                  0   \n",
       "diag_T24                                                                                                                                                                  0   \n",
       "diag_N30                                                                                                                                                                  0   \n",
       "diag_R92                                                                                                                                                                  0   \n",
       "diag_R20                                                                                                                                                                  0   \n",
       "diag_Z92                                                                                                                                                                  0   \n",
       "diag_K51                                                                                                                                                                  0   \n",
       "diag_H61                                                                                                                                                                  0   \n",
       "diag_K10                                                                                                                                                                  0   \n",
       "diag_S03                                                                                                                                                                  0   \n",
       "diag_N80                                                                                                                                                                  0   \n",
       "diag_S71                                                                                                                                                                  0   \n",
       "diag_G25                                                                                                                                                                  0   \n",
       "diag_X51                                                                                                                                                                  0   \n",
       "diag_D22                                                                                                                                                                  0   \n",
       "diag_N42                                                                                                                                                                  0   \n",
       "diag_W09                                                                                                                                                                  0   \n",
       "diag_W55                                                                                                                                                                  0   \n",
       "diag_L74                                                                                                                                                                  0   \n",
       "diag_I70                                                                                                                                                                  0   \n",
       "diag_Z73                                                                                                                                                                  0   \n",
       "diag_S20                                                                                                                                                                  0   \n",
       "diag_K50                                                                                                                                                                  0   \n",
       "diag_S92                                                                                                                                                                  0   \n",
       "diag_S40                                                                                                                                                                  0   \n",
       "diag_L99                                                                                                                                                                  0   \n",
       "diag_J38                                                                                                                                                                  0   \n",
       "diag_M71                                                                                                                                                                  0   \n",
       "diag_I49                                                                                                                                                                  0   \n",
       "diag_R19                                                                                                                                                                  0   \n",
       "diag_L72                                                                                                                                                                  0   \n",
       "diag_L40                                                                                                                                                                  0   \n",
       "diag_Y56                                                                                                                                                                  0   \n",
       "diag_D03                                                                                                                                                                  0   \n",
       "diag_L42                                                                                                                                                                  0   \n",
       "diag_T17                                                                                                                                                                  0   \n",
       "diag_R49                                                                                                                                                                  0   \n",
       "diag_H90                                                                                                                                                                  0   \n",
       "diag_G51                                                                                                                                                                  0   \n",
       "diag_E55                                                                                                                                                                  0   \n",
       "diag_L93                                                                                                                                                                  0   \n",
       "diag_H70                                                                                                                                                                  0   \n",
       "diag_N87                                                                                                                                                                  0   \n",
       "diag_M20                                                                                                                                                                  0   \n",
       "diag_I65                                                                                                                                                                  0   \n",
       "diag_L65                                                                                                                                                                  0   \n",
       "diag_B81                                                                                                                                                                  0   \n",
       "diag_O90                                                                                                                                                                  0   \n",
       "diag_K25                                                                                                                                                                  0   \n",
       "diag_X50                                                                                                                                                                  0   \n",
       "diag_E66                                                                                                                                                                  0   \n",
       "diag_N48                                                                                                                                                                  0   \n",
       "diag_S06                                                                                                                                                                  0   \n",
       "diag_I86                                                                                                                                                                  0   \n",
       "diag_H74                                                                                                                                                                  0   \n",
       "diag_L66                                                                                                                                                                  0   \n",
       "diag_H26                                                                                                                                                                  0   \n",
       "chronic_NoneChronic                                                                                                                                                       1   \n",
       "chronic_Vasomotor and allergic rhinitis                                                                                                                                   0   \n",
       "chronic_Gout                                                                                                                                                              0   \n",
       "chronic_Atopic dermatitis                                                                                                                                                 0   \n",
       "chronic_Hypertension                                                                                                                                                      0   \n",
       "chronic_Gastro-oesophageal reflux disease                                                                                                                                 0   \n",
       "chronic_Hyperlipidaemia                                                                                                                                                   0   \n",
       "chronic_Asthma                                                                                                                                                            0   \n",
       "chronic_Migraine                                                                                                                                                          0   \n",
       "chronic_Diabetes                                                                                                                                                          0   \n",
       "chronic_Thyroid                                                                                                                                                           0   \n",
       "symp_N                                                                                                                                                                    0   \n",
       "symp_headache                                                                                                                                                             0   \n",
       "symp_fever                                                                                                                                                                0   \n",
       "symp_giddiness                                                                                                                                                            0   \n",
       "symp_others                                                                                                                                                               1   \n",
       "symp_medical referral                                                                                                                                                     0   \n",
       "symp_vomiting                                                                                                                                                             0   \n",
       "symp_diarrhoea                                                                                                                                                            0   \n",
       "symp_sore throat                                                                                                                                                          0   \n",
       "symp_flu                                                                                                                                                                  0   \n",
       "symp_cough                                                                                                                                                                0   \n",
       "symp_cold                                                                                                                                                                 0   \n",
       "symp_cold sores                                                                                                                                                           0   \n",
       "symp_rash                                                                                                                                                                 0   \n",
       "symp_chronic medicine top-up                                                                                                                                              0   \n",
       "symp_discuss lab results                                                                                                                                                  0   \n",
       "symp_chronic illness management                                                                                                                                           0   \n",
       "symp_skin growth on sole (foot)                                                                                                                                           0   \n",
       "symp_ulcer under tongue                                                                                                                                                   0   \n",
       "symp_vertigo                                                                                                                                                              0   \n",
       "symp_runny nose                                                                                                                                                           0   \n",
       "Target_chronic                                                                                                                                                            0   \n",
       "age_yr                                                                                                                                                                 29.0   \n",
       "consult_hr                                                                                                                                                                9   \n",
       "\n",
       "                                                                                    3  \\\n",
       "booking_id                                       4013B73D-C9A7-45FC-8A4A-817D68EC3E06   \n",
       "mem_id                                           1C5E3562-9894-41D3-B5C2-077E7D17FE8C   \n",
       "doctor_id                                        DE28DA35-C28E-49FF-B77C-28E6268F0EF9   \n",
       "consult_waived_reason                                                              NA   \n",
       "is_mc_issued                                                                        0   \n",
       "mc_days                                                                           0.0   \n",
       "is_referral_letter_issued                                                           1   \n",
       "booking_timestamp                                                 2022-01-11 20:33:35   \n",
       "gender                                                                         Female   \n",
       "birth_year                                                                       1969   \n",
       "diagnosis_code_list                                                             [R21]   \n",
       "diagnosis_list                             [rash and other nonspecific skin eruption]   \n",
       "chronic_list                                                                        0   \n",
       "count_diagnosis                                                                   1.0   \n",
       "count_chronic                                                                     0.0   \n",
       "medicationID_list                                                                 NaN   \n",
       "medicationName_list                                                               NaN   \n",
       "medQuantity_list                                                                  NaN   \n",
       "medAndQuan_list                                                                   NaN   \n",
       "count_medication                                                                  0.0   \n",
       "count_repeatmed                                                                   0.0   \n",
       "SymptomID_list                                 [E5CAB7F3-823D-4127-BEF6-37E17B282E09]   \n",
       "SymptomName_list                                                   [medical referral]   \n",
       "count_SymID                                                                       1.0   \n",
       "diag_U12                                                                            0   \n",
       "diag_J30                                                                            0   \n",
       "diag_T88                                                                            0   \n",
       "diag_K12                                                                            0   \n",
       "diag_R21                                                                            1   \n",
       "diag_A09                                                                            0   \n",
       "diag_H57                                                                            0   \n",
       "diag_Z02                                                                            0   \n",
       "diag_J06                                                                            0   \n",
       "diag_J04                                                                            0   \n",
       "diag_Z76                                                                            0   \n",
       "diag_M79                                                                            0   \n",
       "diag_R51                                                                            0   \n",
       "diag_M54                                                                            0   \n",
       "diag_R22                                                                            0   \n",
       "diag_L50                                                                            0   \n",
       "diag_H11                                                                            0   \n",
       "diag_B35                                                                            0   \n",
       "diag_K30                                                                            0   \n",
       "diag_O91                                                                            0   \n",
       "diag_R07                                                                            0   \n",
       "diag_M10                                                                            0   \n",
       "diag_Z71                                                                            0   \n",
       "diag_N94                                                                            0   \n",
       "diag_K29                                                                            0   \n",
       "diag_B37                                                                            0   \n",
       "diag_R50                                                                            0   \n",
       "diag_N39                                                                            0   \n",
       "diag_R09                                                                            0   \n",
       "diag_M50                                                                            0   \n",
       "diag_R42                                                                            0   \n",
       "diag_W57                                                                            0   \n",
       "diag_B00                                                                            0   \n",
       "diag_L70                                                                            0   \n",
       "diag_R14                                                                            0   \n",
       "diag_H00                                                                            0   \n",
       "diag_L98                                                                            0   \n",
       "diag_U07                                                                            0   \n",
       "diag_M75                                                                            0   \n",
       "diag_R45                                                                            0   \n",
       "diag_R05                                                                            0   \n",
       "diag_R63                                                                            0   \n",
       "diag_L20                                                                            0   \n",
       "diag_J39                                                                            0   \n",
       "diag_J02                                                                            0   \n",
       "diag_L02                                                                            0   \n",
       "diag_I10                                                                            0   \n",
       "diag_K21                                                                            0   \n",
       "diag_J20                                                                            0   \n",
       "diag_H02                                                                            0   \n",
       "diag_S83                                                                            0   \n",
       "diag_L03                                                                            0   \n",
       "diag_M76                                                                            0   \n",
       "diag_M62                                                                            0   \n",
       "diag_H10                                                                            0   \n",
       "diag_L24                                                                            0   \n",
       "diag_L30                                                                            0   \n",
       "diag_K59                                                                            0   \n",
       "diag_Y42                                                                            0   \n",
       "diag_K07                                                                            0   \n",
       "diag_E78                                                                            0   \n",
       "diag_K64                                                                            0   \n",
       "diag_J45                                                                            0   \n",
       "diag_S90                                                                            0   \n",
       "diag_G43                                                                            0   \n",
       "diag_B08                                                                            0   \n",
       "diag_G47                                                                            0   \n",
       "diag_T78                                                                            0   \n",
       "diag_U08                                                                            0   \n",
       "diag_H81                                                                            0   \n",
       "diag_G44                                                                            0   \n",
       "diag_N92                                                                            0   \n",
       "diag_J01                                                                            0   \n",
       "diag_E11                                                                            0   \n",
       "diag_H66                                                                            0   \n",
       "diag_M25                                                                            0   \n",
       "diag_F38                                                                            0   \n",
       "diag_H01                                                                            0   \n",
       "diag_G71                                                                            0   \n",
       "diag_R53                                                                            0   \n",
       "diag_M23                                                                            0   \n",
       "diag_S13                                                                            0   \n",
       "diag_S00                                                                            0   \n",
       "diag_U09                                                                            0   \n",
       "diag_H93                                                                            0   \n",
       "diag_B36                                                                            0   \n",
       "diag_S60                                                                            0   \n",
       "diag_E61                                                                            0   \n",
       "diag_R52                                                                            0   \n",
       "diag_H60                                                                            0   \n",
       "diag_M17                                                                            0   \n",
       "diag_R06                                                                            0   \n",
       "diag_N64                                                                            0   \n",
       "diag_R10                                                                            0   \n",
       "diag_R11                                                                            0   \n",
       "diag_E03                                                                            0   \n",
       "diag_J03                                                                            0   \n",
       "diag_S33                                                                            0   \n",
       "diag_Z13                                                                            0   \n",
       "diag_L29                                                                            0   \n",
       "diag_S23                                                                            0   \n",
       "diag_D50                                                                            0   \n",
       "diag_K52                                                                            0   \n",
       "diag_S93                                                                            0   \n",
       "diag_F41                                                                            0   \n",
       "diag_R04                                                                            0   \n",
       "diag_E28                                                                            0   \n",
       "diag_R59                                                                            0   \n",
       "diag_J22                                                                            0   \n",
       "diag_Z53                                                                            0   \n",
       "diag_N02                                                                            0   \n",
       "diag_S63                                                                            0   \n",
       "diag_B30                                                                            0   \n",
       "diag_M65                                                                            0   \n",
       "diag_E05                                                                            0   \n",
       "diag_H58                                                                            0   \n",
       "diag_M72                                                                            0   \n",
       "diag_P39                                                                            0   \n",
       "diag_L85                                                                            0   \n",
       "diag_N76                                                                            0   \n",
       "diag_L21                                                                            0   \n",
       "diag_Y58                                                                            0   \n",
       "diag_K13                                                                            0   \n",
       "diag_Y60                                                                            0   \n",
       "diag_Z30                                                                            0   \n",
       "diag_N51                                                                            0   \n",
       "diag_S61                                                                            0   \n",
       "diag_U11                                                                            0   \n",
       "diag_K11                                                                            0   \n",
       "diag_S81                                                                            0   \n",
       "diag_T11                                                                            0   \n",
       "diag_N77                                                                            0   \n",
       "diag_O92                                                                            0   \n",
       "diag_L84                                                                            0   \n",
       "diag_L28                                                                            0   \n",
       "diag_A68                                                                            0   \n",
       "diag_R55                                                                            0   \n",
       "diag_L71                                                                            0   \n",
       "diag_N85                                                                            0   \n",
       "diag_S89                                                                            0   \n",
       "diag_T23                                                                            0   \n",
       "diag_B02                                                                            0   \n",
       "diag_O21                                                                            0   \n",
       "diag_H04                                                                            0   \n",
       "diag_T22                                                                            0   \n",
       "diag_T00                                                                            0   \n",
       "diag_R23                                                                            0   \n",
       "diag_G53                                                                            0   \n",
       "diag_J32                                                                            0   \n",
       "diag_Z10                                                                            0   \n",
       "diag_R60                                                                            0   \n",
       "diag_R03                                                                            0   \n",
       "diag_M43                                                                            0   \n",
       "diag_M47                                                                            0   \n",
       "diag_R25                                                                            0   \n",
       "diag_L64                                                                            0   \n",
       "diag_O00                                                                            0   \n",
       "diag_H15                                                                            0   \n",
       "diag_K58                                                                            0   \n",
       "diag_N32                                                                            0   \n",
       "diag_F43                                                                            0   \n",
       "diag_L60                                                                            0   \n",
       "diag_M06                                                                            0   \n",
       "diag_T13                                                                            0   \n",
       "diag_S51                                                                            0   \n",
       "diag_K05                                                                            0   \n",
       "diag_N84                                                                            0   \n",
       "diag_R00                                                                            0   \n",
       "diag_I25                                                                            0   \n",
       "diag_B01                                                                            0   \n",
       "diag_S50                                                                            0   \n",
       "diag_W01                                                                            0   \n",
       "diag_M77                                                                            0   \n",
       "diag_I83                                                                            0   \n",
       "diag_K00                                                                            0   \n",
       "diag_S43                                                                            0   \n",
       "diag_R82                                                                            0   \n",
       "diag_G56                                                                            0   \n",
       "diag_T75                                                                            0   \n",
       "diag_R80                                                                            0   \n",
       "diag_I48                                                                            0   \n",
       "diag_N63                                                                            0   \n",
       "diag_L55                                                                            0   \n",
       "diag_J34                                                                            0   \n",
       "diag_I80                                                                            0   \n",
       "diag_F32                                                                            0   \n",
       "diag_S30                                                                            0   \n",
       "diag_R73                                                                            0   \n",
       "diag_K60                                                                            0   \n",
       "diag_Z01                                                                            0   \n",
       "diag_D25                                                                            0   \n",
       "diag_B07                                                                            0   \n",
       "diag_N40                                                                            0   \n",
       "diag_L23                                                                            0   \n",
       "diag_L04                                                                            0   \n",
       "diag_M67                                                                            0   \n",
       "diag_D75                                                                            0   \n",
       "diag_L91                                                                            0   \n",
       "diag_S80                                                                            0   \n",
       "diag_K06                                                                            0   \n",
       "diag_K03                                                                            0   \n",
       "diag_G62                                                                            0   \n",
       "diag_S53                                                                            0   \n",
       "diag_J98                                                                            0   \n",
       "diag_K08                                                                            0   \n",
       "diag_H06                                                                            0   \n",
       "diag_H92                                                                            0   \n",
       "diag_F90                                                                            0   \n",
       "diag_K14                                                                            0   \n",
       "diag_M12                                                                            0   \n",
       "diag_F00                                                                            0   \n",
       "diag_T31                                                                            0   \n",
       "diag_R94                                                                            0   \n",
       "diag_M51                                                                            0   \n",
       "diag_H18                                                                            0   \n",
       "diag_G70                                                                            0   \n",
       "diag_L73                                                                            0   \n",
       "diag_J35                                                                            0   \n",
       "diag_M22                                                                            0   \n",
       "diag_D10                                                                            0   \n",
       "diag_S46                                                                            0   \n",
       "diag_L90                                                                            0   \n",
       "diag_L81                                                                            0   \n",
       "diag_E29                                                                            0   \n",
       "diag_I95                                                                            0   \n",
       "diag_B80                                                                            0   \n",
       "diag_S01                                                                            0   \n",
       "diag_H91                                                                            0   \n",
       "diag_F06                                                                            0   \n",
       "diag_N91                                                                            0   \n",
       "diag_V01                                                                            0   \n",
       "diag_M84                                                                            0   \n",
       "diag_K76                                                                            0   \n",
       "diag_L25                                                                            0   \n",
       "diag_K62                                                                            0   \n",
       "diag_Z33                                                                            0   \n",
       "diag_S70                                                                            0   \n",
       "diag_G58                                                                            0   \n",
       "diag_H69                                                                            0   \n",
       "diag_I05                                                                            0   \n",
       "diag_S52                                                                            0   \n",
       "diag_A92                                                                            0   \n",
       "diag_S96                                                                            0   \n",
       "diag_R32                                                                            0   \n",
       "diag_I64                                                                            0   \n",
       "diag_R12                                                                            0   \n",
       "diag_S66                                                                            0   \n",
       "diag_H94                                                                            0   \n",
       "diag_I88                                                                            0   \n",
       "diag_L63                                                                            0   \n",
       "diag_F52                                                                            0   \n",
       "diag_H40                                                                            0   \n",
       "diag_E87                                                                            0   \n",
       "diag_J33                                                                            0   \n",
       "diag_T63                                                                            0   \n",
       "diag_R31                                                                            0   \n",
       "diag_I78                                                                            0   \n",
       "diag_S05                                                                            0   \n",
       "diag_S82                                                                            0   \n",
       "diag_T24                                                                            0   \n",
       "diag_N30                                                                            0   \n",
       "diag_R92                                                                            0   \n",
       "diag_R20                                                                            0   \n",
       "diag_Z92                                                                            0   \n",
       "diag_K51                                                                            0   \n",
       "diag_H61                                                                            0   \n",
       "diag_K10                                                                            0   \n",
       "diag_S03                                                                            0   \n",
       "diag_N80                                                                            0   \n",
       "diag_S71                                                                            0   \n",
       "diag_G25                                                                            0   \n",
       "diag_X51                                                                            0   \n",
       "diag_D22                                                                            0   \n",
       "diag_N42                                                                            0   \n",
       "diag_W09                                                                            0   \n",
       "diag_W55                                                                            0   \n",
       "diag_L74                                                                            0   \n",
       "diag_I70                                                                            0   \n",
       "diag_Z73                                                                            0   \n",
       "diag_S20                                                                            0   \n",
       "diag_K50                                                                            0   \n",
       "diag_S92                                                                            0   \n",
       "diag_S40                                                                            0   \n",
       "diag_L99                                                                            0   \n",
       "diag_J38                                                                            0   \n",
       "diag_M71                                                                            0   \n",
       "diag_I49                                                                            0   \n",
       "diag_R19                                                                            0   \n",
       "diag_L72                                                                            0   \n",
       "diag_L40                                                                            0   \n",
       "diag_Y56                                                                            0   \n",
       "diag_D03                                                                            0   \n",
       "diag_L42                                                                            0   \n",
       "diag_T17                                                                            0   \n",
       "diag_R49                                                                            0   \n",
       "diag_H90                                                                            0   \n",
       "diag_G51                                                                            0   \n",
       "diag_E55                                                                            0   \n",
       "diag_L93                                                                            0   \n",
       "diag_H70                                                                            0   \n",
       "diag_N87                                                                            0   \n",
       "diag_M20                                                                            0   \n",
       "diag_I65                                                                            0   \n",
       "diag_L65                                                                            0   \n",
       "diag_B81                                                                            0   \n",
       "diag_O90                                                                            0   \n",
       "diag_K25                                                                            0   \n",
       "diag_X50                                                                            0   \n",
       "diag_E66                                                                            0   \n",
       "diag_N48                                                                            0   \n",
       "diag_S06                                                                            0   \n",
       "diag_I86                                                                            0   \n",
       "diag_H74                                                                            0   \n",
       "diag_L66                                                                            0   \n",
       "diag_H26                                                                            0   \n",
       "chronic_NoneChronic                                                                 1   \n",
       "chronic_Vasomotor and allergic rhinitis                                             0   \n",
       "chronic_Gout                                                                        0   \n",
       "chronic_Atopic dermatitis                                                           0   \n",
       "chronic_Hypertension                                                                0   \n",
       "chronic_Gastro-oesophageal reflux disease                                           0   \n",
       "chronic_Hyperlipidaemia                                                             0   \n",
       "chronic_Asthma                                                                      0   \n",
       "chronic_Migraine                                                                    0   \n",
       "chronic_Diabetes                                                                    0   \n",
       "chronic_Thyroid                                                                     0   \n",
       "symp_N                                                                              0   \n",
       "symp_headache                                                                       0   \n",
       "symp_fever                                                                          0   \n",
       "symp_giddiness                                                                      0   \n",
       "symp_others                                                                         0   \n",
       "symp_medical referral                                                               1   \n",
       "symp_vomiting                                                                       0   \n",
       "symp_diarrhoea                                                                      0   \n",
       "symp_sore throat                                                                    0   \n",
       "symp_flu                                                                            0   \n",
       "symp_cough                                                                          0   \n",
       "symp_cold                                                                           0   \n",
       "symp_cold sores                                                                     0   \n",
       "symp_rash                                                                           0   \n",
       "symp_chronic medicine top-up                                                        0   \n",
       "symp_discuss lab results                                                            0   \n",
       "symp_chronic illness management                                                     0   \n",
       "symp_skin growth on sole (foot)                                                     0   \n",
       "symp_ulcer under tongue                                                             0   \n",
       "symp_vertigo                                                                        0   \n",
       "symp_runny nose                                                                     0   \n",
       "Target_chronic                                                                      0   \n",
       "age_yr                                                                           53.0   \n",
       "consult_hr                                                                         20   \n",
       "\n",
       "                                                                                                                                                            4  \n",
       "booking_id                                                                                                               6BF25F05-F16A-4ABC-93AA-49218518D40F  \n",
       "mem_id                                                                                                                   8217E3B4-97B8-4605-B339-08F1E96DF3C8  \n",
       "doctor_id                                                                                                                77EFF8BB-D181-4BFB-90A4-75FA494F4BBB  \n",
       "consult_waived_reason                                                                                                                                      NA  \n",
       "is_mc_issued                                                                                                                                                1  \n",
       "mc_days                                                                                                                                                   1.0  \n",
       "is_referral_letter_issued                                                                                                                                   0  \n",
       "booking_timestamp                                                                                                                         2022-01-04 09:03:59  \n",
       "gender                                                                                                                                                Unknown  \n",
       "birth_year                                                                                                                                               1989  \n",
       "diagnosis_code_list                                                                                                                                   [A09.9]  \n",
       "diagnosis_list                                                                                            [gastroenteritis and colitis of unspecified origin]  \n",
       "chronic_list                                                                                                                                                0  \n",
       "count_diagnosis                                                                                                                                           1.0  \n",
       "count_chronic                                                                                                                                             0.0  \n",
       "medicationID_list                          [9B4CF656-C954-4145-9026-905BDEC5028E, 045DD82D-E0AD-435D-8F31-AF95A29331D0, D1D31974-8B2D-4F78-A7A7-F0A15D09A8C2]  \n",
       "medicationName_list                                                   [Loperamide 2mg cap, Activated Charcoal tab, *Bioflor 250mg powder for oral suspension]  \n",
       "medQuantity_list                                                                                                                           [20.0, 30.0, 10.0]  \n",
       "medAndQuan_list                                  [Loperamide 2mg cap|||20.0, Activated Charcoal tab|||30.0, *Bioflor 250mg powder for oral suspension|||10.0]  \n",
       "count_medication                                                                                                                                          3.0  \n",
       "count_repeatmed                                                                                                                                           1.0  \n",
       "SymptomID_list                                                                   [C3AF5B1F-BD74-4700-A1E7-1958B32C80BD, B8F546F4-9C2A-4E31-8ED5-DB3187FA4351]  \n",
       "SymptomName_list                                                                                                                        [vomiting, diarrhoea]  \n",
       "count_SymID                                                                                                                                               2.0  \n",
       "diag_U12                                                                                                                                                    0  \n",
       "diag_J30                                                                                                                                                    0  \n",
       "diag_T88                                                                                                                                                    0  \n",
       "diag_K12                                                                                                                                                    0  \n",
       "diag_R21                                                                                                                                                    0  \n",
       "diag_A09                                                                                                                                                    1  \n",
       "diag_H57                                                                                                                                                    0  \n",
       "diag_Z02                                                                                                                                                    0  \n",
       "diag_J06                                                                                                                                                    0  \n",
       "diag_J04                                                                                                                                                    0  \n",
       "diag_Z76                                                                                                                                                    0  \n",
       "diag_M79                                                                                                                                                    0  \n",
       "diag_R51                                                                                                                                                    0  \n",
       "diag_M54                                                                                                                                                    0  \n",
       "diag_R22                                                                                                                                                    0  \n",
       "diag_L50                                                                                                                                                    0  \n",
       "diag_H11                                                                                                                                                    0  \n",
       "diag_B35                                                                                                                                                    0  \n",
       "diag_K30                                                                                                                                                    0  \n",
       "diag_O91                                                                                                                                                    0  \n",
       "diag_R07                                                                                                                                                    0  \n",
       "diag_M10                                                                                                                                                    0  \n",
       "diag_Z71                                                                                                                                                    0  \n",
       "diag_N94                                                                                                                                                    0  \n",
       "diag_K29                                                                                                                                                    0  \n",
       "diag_B37                                                                                                                                                    0  \n",
       "diag_R50                                                                                                                                                    0  \n",
       "diag_N39                                                                                                                                                    0  \n",
       "diag_R09                                                                                                                                                    0  \n",
       "diag_M50                                                                                                                                                    0  \n",
       "diag_R42                                                                                                                                                    0  \n",
       "diag_W57                                                                                                                                                    0  \n",
       "diag_B00                                                                                                                                                    0  \n",
       "diag_L70                                                                                                                                                    0  \n",
       "diag_R14                                                                                                                                                    0  \n",
       "diag_H00                                                                                                                                                    0  \n",
       "diag_L98                                                                                                                                                    0  \n",
       "diag_U07                                                                                                                                                    0  \n",
       "diag_M75                                                                                                                                                    0  \n",
       "diag_R45                                                                                                                                                    0  \n",
       "diag_R05                                                                                                                                                    0  \n",
       "diag_R63                                                                                                                                                    0  \n",
       "diag_L20                                                                                                                                                    0  \n",
       "diag_J39                                                                                                                                                    0  \n",
       "diag_J02                                                                                                                                                    0  \n",
       "diag_L02                                                                                                                                                    0  \n",
       "diag_I10                                                                                                                                                    0  \n",
       "diag_K21                                                                                                                                                    0  \n",
       "diag_J20                                                                                                                                                    0  \n",
       "diag_H02                                                                                                                                                    0  \n",
       "diag_S83                                                                                                                                                    0  \n",
       "diag_L03                                                                                                                                                    0  \n",
       "diag_M76                                                                                                                                                    0  \n",
       "diag_M62                                                                                                                                                    0  \n",
       "diag_H10                                                                                                                                                    0  \n",
       "diag_L24                                                                                                                                                    0  \n",
       "diag_L30                                                                                                                                                    0  \n",
       "diag_K59                                                                                                                                                    0  \n",
       "diag_Y42                                                                                                                                                    0  \n",
       "diag_K07                                                                                                                                                    0  \n",
       "diag_E78                                                                                                                                                    0  \n",
       "diag_K64                                                                                                                                                    0  \n",
       "diag_J45                                                                                                                                                    0  \n",
       "diag_S90                                                                                                                                                    0  \n",
       "diag_G43                                                                                                                                                    0  \n",
       "diag_B08                                                                                                                                                    0  \n",
       "diag_G47                                                                                                                                                    0  \n",
       "diag_T78                                                                                                                                                    0  \n",
       "diag_U08                                                                                                                                                    0  \n",
       "diag_H81                                                                                                                                                    0  \n",
       "diag_G44                                                                                                                                                    0  \n",
       "diag_N92                                                                                                                                                    0  \n",
       "diag_J01                                                                                                                                                    0  \n",
       "diag_E11                                                                                                                                                    0  \n",
       "diag_H66                                                                                                                                                    0  \n",
       "diag_M25                                                                                                                                                    0  \n",
       "diag_F38                                                                                                                                                    0  \n",
       "diag_H01                                                                                                                                                    0  \n",
       "diag_G71                                                                                                                                                    0  \n",
       "diag_R53                                                                                                                                                    0  \n",
       "diag_M23                                                                                                                                                    0  \n",
       "diag_S13                                                                                                                                                    0  \n",
       "diag_S00                                                                                                                                                    0  \n",
       "diag_U09                                                                                                                                                    0  \n",
       "diag_H93                                                                                                                                                    0  \n",
       "diag_B36                                                                                                                                                    0  \n",
       "diag_S60                                                                                                                                                    0  \n",
       "diag_E61                                                                                                                                                    0  \n",
       "diag_R52                                                                                                                                                    0  \n",
       "diag_H60                                                                                                                                                    0  \n",
       "diag_M17                                                                                                                                                    0  \n",
       "diag_R06                                                                                                                                                    0  \n",
       "diag_N64                                                                                                                                                    0  \n",
       "diag_R10                                                                                                                                                    0  \n",
       "diag_R11                                                                                                                                                    0  \n",
       "diag_E03                                                                                                                                                    0  \n",
       "diag_J03                                                                                                                                                    0  \n",
       "diag_S33                                                                                                                                                    0  \n",
       "diag_Z13                                                                                                                                                    0  \n",
       "diag_L29                                                                                                                                                    0  \n",
       "diag_S23                                                                                                                                                    0  \n",
       "diag_D50                                                                                                                                                    0  \n",
       "diag_K52                                                                                                                                                    0  \n",
       "diag_S93                                                                                                                                                    0  \n",
       "diag_F41                                                                                                                                                    0  \n",
       "diag_R04                                                                                                                                                    0  \n",
       "diag_E28                                                                                                                                                    0  \n",
       "diag_R59                                                                                                                                                    0  \n",
       "diag_J22                                                                                                                                                    0  \n",
       "diag_Z53                                                                                                                                                    0  \n",
       "diag_N02                                                                                                                                                    0  \n",
       "diag_S63                                                                                                                                                    0  \n",
       "diag_B30                                                                                                                                                    0  \n",
       "diag_M65                                                                                                                                                    0  \n",
       "diag_E05                                                                                                                                                    0  \n",
       "diag_H58                                                                                                                                                    0  \n",
       "diag_M72                                                                                                                                                    0  \n",
       "diag_P39                                                                                                                                                    0  \n",
       "diag_L85                                                                                                                                                    0  \n",
       "diag_N76                                                                                                                                                    0  \n",
       "diag_L21                                                                                                                                                    0  \n",
       "diag_Y58                                                                                                                                                    0  \n",
       "diag_K13                                                                                                                                                    0  \n",
       "diag_Y60                                                                                                                                                    0  \n",
       "diag_Z30                                                                                                                                                    0  \n",
       "diag_N51                                                                                                                                                    0  \n",
       "diag_S61                                                                                                                                                    0  \n",
       "diag_U11                                                                                                                                                    0  \n",
       "diag_K11                                                                                                                                                    0  \n",
       "diag_S81                                                                                                                                                    0  \n",
       "diag_T11                                                                                                                                                    0  \n",
       "diag_N77                                                                                                                                                    0  \n",
       "diag_O92                                                                                                                                                    0  \n",
       "diag_L84                                                                                                                                                    0  \n",
       "diag_L28                                                                                                                                                    0  \n",
       "diag_A68                                                                                                                                                    0  \n",
       "diag_R55                                                                                                                                                    0  \n",
       "diag_L71                                                                                                                                                    0  \n",
       "diag_N85                                                                                                                                                    0  \n",
       "diag_S89                                                                                                                                                    0  \n",
       "diag_T23                                                                                                                                                    0  \n",
       "diag_B02                                                                                                                                                    0  \n",
       "diag_O21                                                                                                                                                    0  \n",
       "diag_H04                                                                                                                                                    0  \n",
       "diag_T22                                                                                                                                                    0  \n",
       "diag_T00                                                                                                                                                    0  \n",
       "diag_R23                                                                                                                                                    0  \n",
       "diag_G53                                                                                                                                                    0  \n",
       "diag_J32                                                                                                                                                    0  \n",
       "diag_Z10                                                                                                                                                    0  \n",
       "diag_R60                                                                                                                                                    0  \n",
       "diag_R03                                                                                                                                                    0  \n",
       "diag_M43                                                                                                                                                    0  \n",
       "diag_M47                                                                                                                                                    0  \n",
       "diag_R25                                                                                                                                                    0  \n",
       "diag_L64                                                                                                                                                    0  \n",
       "diag_O00                                                                                                                                                    0  \n",
       "diag_H15                                                                                                                                                    0  \n",
       "diag_K58                                                                                                                                                    0  \n",
       "diag_N32                                                                                                                                                    0  \n",
       "diag_F43                                                                                                                                                    0  \n",
       "diag_L60                                                                                                                                                    0  \n",
       "diag_M06                                                                                                                                                    0  \n",
       "diag_T13                                                                                                                                                    0  \n",
       "diag_S51                                                                                                                                                    0  \n",
       "diag_K05                                                                                                                                                    0  \n",
       "diag_N84                                                                                                                                                    0  \n",
       "diag_R00                                                                                                                                                    0  \n",
       "diag_I25                                                                                                                                                    0  \n",
       "diag_B01                                                                                                                                                    0  \n",
       "diag_S50                                                                                                                                                    0  \n",
       "diag_W01                                                                                                                                                    0  \n",
       "diag_M77                                                                                                                                                    0  \n",
       "diag_I83                                                                                                                                                    0  \n",
       "diag_K00                                                                                                                                                    0  \n",
       "diag_S43                                                                                                                                                    0  \n",
       "diag_R82                                                                                                                                                    0  \n",
       "diag_G56                                                                                                                                                    0  \n",
       "diag_T75                                                                                                                                                    0  \n",
       "diag_R80                                                                                                                                                    0  \n",
       "diag_I48                                                                                                                                                    0  \n",
       "diag_N63                                                                                                                                                    0  \n",
       "diag_L55                                                                                                                                                    0  \n",
       "diag_J34                                                                                                                                                    0  \n",
       "diag_I80                                                                                                                                                    0  \n",
       "diag_F32                                                                                                                                                    0  \n",
       "diag_S30                                                                                                                                                    0  \n",
       "diag_R73                                                                                                                                                    0  \n",
       "diag_K60                                                                                                                                                    0  \n",
       "diag_Z01                                                                                                                                                    0  \n",
       "diag_D25                                                                                                                                                    0  \n",
       "diag_B07                                                                                                                                                    0  \n",
       "diag_N40                                                                                                                                                    0  \n",
       "diag_L23                                                                                                                                                    0  \n",
       "diag_L04                                                                                                                                                    0  \n",
       "diag_M67                                                                                                                                                    0  \n",
       "diag_D75                                                                                                                                                    0  \n",
       "diag_L91                                                                                                                                                    0  \n",
       "diag_S80                                                                                                                                                    0  \n",
       "diag_K06                                                                                                                                                    0  \n",
       "diag_K03                                                                                                                                                    0  \n",
       "diag_G62                                                                                                                                                    0  \n",
       "diag_S53                                                                                                                                                    0  \n",
       "diag_J98                                                                                                                                                    0  \n",
       "diag_K08                                                                                                                                                    0  \n",
       "diag_H06                                                                                                                                                    0  \n",
       "diag_H92                                                                                                                                                    0  \n",
       "diag_F90                                                                                                                                                    0  \n",
       "diag_K14                                                                                                                                                    0  \n",
       "diag_M12                                                                                                                                                    0  \n",
       "diag_F00                                                                                                                                                    0  \n",
       "diag_T31                                                                                                                                                    0  \n",
       "diag_R94                                                                                                                                                    0  \n",
       "diag_M51                                                                                                                                                    0  \n",
       "diag_H18                                                                                                                                                    0  \n",
       "diag_G70                                                                                                                                                    0  \n",
       "diag_L73                                                                                                                                                    0  \n",
       "diag_J35                                                                                                                                                    0  \n",
       "diag_M22                                                                                                                                                    0  \n",
       "diag_D10                                                                                                                                                    0  \n",
       "diag_S46                                                                                                                                                    0  \n",
       "diag_L90                                                                                                                                                    0  \n",
       "diag_L81                                                                                                                                                    0  \n",
       "diag_E29                                                                                                                                                    0  \n",
       "diag_I95                                                                                                                                                    0  \n",
       "diag_B80                                                                                                                                                    0  \n",
       "diag_S01                                                                                                                                                    0  \n",
       "diag_H91                                                                                                                                                    0  \n",
       "diag_F06                                                                                                                                                    0  \n",
       "diag_N91                                                                                                                                                    0  \n",
       "diag_V01                                                                                                                                                    0  \n",
       "diag_M84                                                                                                                                                    0  \n",
       "diag_K76                                                                                                                                                    0  \n",
       "diag_L25                                                                                                                                                    0  \n",
       "diag_K62                                                                                                                                                    0  \n",
       "diag_Z33                                                                                                                                                    0  \n",
       "diag_S70                                                                                                                                                    0  \n",
       "diag_G58                                                                                                                                                    0  \n",
       "diag_H69                                                                                                                                                    0  \n",
       "diag_I05                                                                                                                                                    0  \n",
       "diag_S52                                                                                                                                                    0  \n",
       "diag_A92                                                                                                                                                    0  \n",
       "diag_S96                                                                                                                                                    0  \n",
       "diag_R32                                                                                                                                                    0  \n",
       "diag_I64                                                                                                                                                    0  \n",
       "diag_R12                                                                                                                                                    0  \n",
       "diag_S66                                                                                                                                                    0  \n",
       "diag_H94                                                                                                                                                    0  \n",
       "diag_I88                                                                                                                                                    0  \n",
       "diag_L63                                                                                                                                                    0  \n",
       "diag_F52                                                                                                                                                    0  \n",
       "diag_H40                                                                                                                                                    0  \n",
       "diag_E87                                                                                                                                                    0  \n",
       "diag_J33                                                                                                                                                    0  \n",
       "diag_T63                                                                                                                                                    0  \n",
       "diag_R31                                                                                                                                                    0  \n",
       "diag_I78                                                                                                                                                    0  \n",
       "diag_S05                                                                                                                                                    0  \n",
       "diag_S82                                                                                                                                                    0  \n",
       "diag_T24                                                                                                                                                    0  \n",
       "diag_N30                                                                                                                                                    0  \n",
       "diag_R92                                                                                                                                                    0  \n",
       "diag_R20                                                                                                                                                    0  \n",
       "diag_Z92                                                                                                                                                    0  \n",
       "diag_K51                                                                                                                                                    0  \n",
       "diag_H61                                                                                                                                                    0  \n",
       "diag_K10                                                                                                                                                    0  \n",
       "diag_S03                                                                                                                                                    0  \n",
       "diag_N80                                                                                                                                                    0  \n",
       "diag_S71                                                                                                                                                    0  \n",
       "diag_G25                                                                                                                                                    0  \n",
       "diag_X51                                                                                                                                                    0  \n",
       "diag_D22                                                                                                                                                    0  \n",
       "diag_N42                                                                                                                                                    0  \n",
       "diag_W09                                                                                                                                                    0  \n",
       "diag_W55                                                                                                                                                    0  \n",
       "diag_L74                                                                                                                                                    0  \n",
       "diag_I70                                                                                                                                                    0  \n",
       "diag_Z73                                                                                                                                                    0  \n",
       "diag_S20                                                                                                                                                    0  \n",
       "diag_K50                                                                                                                                                    0  \n",
       "diag_S92                                                                                                                                                    0  \n",
       "diag_S40                                                                                                                                                    0  \n",
       "diag_L99                                                                                                                                                    0  \n",
       "diag_J38                                                                                                                                                    0  \n",
       "diag_M71                                                                                                                                                    0  \n",
       "diag_I49                                                                                                                                                    0  \n",
       "diag_R19                                                                                                                                                    0  \n",
       "diag_L72                                                                                                                                                    0  \n",
       "diag_L40                                                                                                                                                    0  \n",
       "diag_Y56                                                                                                                                                    0  \n",
       "diag_D03                                                                                                                                                    0  \n",
       "diag_L42                                                                                                                                                    0  \n",
       "diag_T17                                                                                                                                                    0  \n",
       "diag_R49                                                                                                                                                    0  \n",
       "diag_H90                                                                                                                                                    0  \n",
       "diag_G51                                                                                                                                                    0  \n",
       "diag_E55                                                                                                                                                    0  \n",
       "diag_L93                                                                                                                                                    0  \n",
       "diag_H70                                                                                                                                                    0  \n",
       "diag_N87                                                                                                                                                    0  \n",
       "diag_M20                                                                                                                                                    0  \n",
       "diag_I65                                                                                                                                                    0  \n",
       "diag_L65                                                                                                                                                    0  \n",
       "diag_B81                                                                                                                                                    0  \n",
       "diag_O90                                                                                                                                                    0  \n",
       "diag_K25                                                                                                                                                    0  \n",
       "diag_X50                                                                                                                                                    0  \n",
       "diag_E66                                                                                                                                                    0  \n",
       "diag_N48                                                                                                                                                    0  \n",
       "diag_S06                                                                                                                                                    0  \n",
       "diag_I86                                                                                                                                                    0  \n",
       "diag_H74                                                                                                                                                    0  \n",
       "diag_L66                                                                                                                                                    0  \n",
       "diag_H26                                                                                                                                                    0  \n",
       "chronic_NoneChronic                                                                                                                                         1  \n",
       "chronic_Vasomotor and allergic rhinitis                                                                                                                     0  \n",
       "chronic_Gout                                                                                                                                                0  \n",
       "chronic_Atopic dermatitis                                                                                                                                   0  \n",
       "chronic_Hypertension                                                                                                                                        0  \n",
       "chronic_Gastro-oesophageal reflux disease                                                                                                                   0  \n",
       "chronic_Hyperlipidaemia                                                                                                                                     0  \n",
       "chronic_Asthma                                                                                                                                              0  \n",
       "chronic_Migraine                                                                                                                                            0  \n",
       "chronic_Diabetes                                                                                                                                            0  \n",
       "chronic_Thyroid                                                                                                                                             0  \n",
       "symp_N                                                                                                                                                      0  \n",
       "symp_headache                                                                                                                                               0  \n",
       "symp_fever                                                                                                                                                  0  \n",
       "symp_giddiness                                                                                                                                              0  \n",
       "symp_others                                                                                                                                                 0  \n",
       "symp_medical referral                                                                                                                                       0  \n",
       "symp_vomiting                                                                                                                                               1  \n",
       "symp_diarrhoea                                                                                                                                              1  \n",
       "symp_sore throat                                                                                                                                            0  \n",
       "symp_flu                                                                                                                                                    0  \n",
       "symp_cough                                                                                                                                                  0  \n",
       "symp_cold                                                                                                                                                   0  \n",
       "symp_cold sores                                                                                                                                             0  \n",
       "symp_rash                                                                                                                                                   0  \n",
       "symp_chronic medicine top-up                                                                                                                                0  \n",
       "symp_discuss lab results                                                                                                                                    0  \n",
       "symp_chronic illness management                                                                                                                             0  \n",
       "symp_skin growth on sole (foot)                                                                                                                             0  \n",
       "symp_ulcer under tongue                                                                                                                                     0  \n",
       "symp_vertigo                                                                                                                                                0  \n",
       "symp_runny nose                                                                                                                                             0  \n",
       "Target_chronic                                                                                                                                              0  \n",
       "age_yr                                                                                                                                                   33.0  \n",
       "consult_hr                                                                                                                                                  9  "
      ]
     },
     "execution_count": 214,
     "metadata": {},
     "output_type": "execute_result"
    }
   ],
   "source": [
    "pd.set_option('display.max_rows', None)\n",
    "df_final_3.head().transpose()"
   ]
  },
  {
   "cell_type": "code",
   "execution_count": 215,
   "id": "ca4c821f",
   "metadata": {
    "ExecuteTime": {
     "end_time": "2022-08-31T09:10:12.826169Z",
     "start_time": "2022-08-31T09:10:12.766294Z"
    }
   },
   "outputs": [],
   "source": [
    "# Export data \n",
    "df_final_3.to_pickle(\"step5_final_booking_prep.pkl\")"
   ]
  },
  {
   "cell_type": "code",
   "execution_count": 216,
   "id": "a6356d59",
   "metadata": {
    "ExecuteTime": {
     "end_time": "2022-08-31T09:10:12.887970Z",
     "start_time": "2022-08-31T09:10:12.827131Z"
    }
   },
   "outputs": [],
   "source": [
    "if TESTING == 1:\n",
    "    if MODEL_TYPE_MEMBER ==1:\n",
    "        df_final_3.to_pickle(\"booking_test_data_final_forMember.pkl\")\n",
    "    elif MODEL_TYPE_MEMBER ==0:\n",
    "        df_final_3.to_pickle(\"booking_test_data_final_forBooking.pkl\")\n",
    "    else:\n",
    "        print(\"Pls check the modeling purpose for the output testing.\")\n",
    "else: \n",
    "    df_final_3.to_pickle(\"booking_train_data_final.pkl\")"
   ]
  },
  {
   "cell_type": "markdown",
   "id": "2c75f951",
   "metadata": {
    "ExecuteTime": {
     "end_time": "2022-08-15T12:24:25.387977Z",
     "start_time": "2022-08-15T12:24:25.375030Z"
    }
   },
   "source": [
    "<span class=\"burk\">COMPLETE STEP 5</span>"
   ]
  },
  {
   "cell_type": "markdown",
   "id": "0e8947e6",
   "metadata": {},
   "source": [
    "## Step6 - Data Aggregate by Member"
   ]
  },
  {
   "cell_type": "markdown",
   "id": "319bdc15",
   "metadata": {},
   "source": [
    "### Import Step 5 Finalised Booking Data"
   ]
  },
  {
   "cell_type": "code",
   "execution_count": 217,
   "id": "586720fc",
   "metadata": {
    "ExecuteTime": {
     "end_time": "2022-08-31T09:10:12.903961Z",
     "start_time": "2022-08-31T09:10:12.888969Z"
    }
   },
   "outputs": [],
   "source": [
    "# Change the parameter if intend to load intermediate data instead of runnning preceeding scripts\n",
    "LOAD_INTERMEDIATE_STEP5_BOOK = 0"
   ]
  },
  {
   "cell_type": "code",
   "execution_count": 218,
   "id": "4ce906cb",
   "metadata": {
    "ExecuteTime": {
     "end_time": "2022-08-31T09:10:12.918921Z",
     "start_time": "2022-08-31T09:10:12.904923Z"
    }
   },
   "outputs": [],
   "source": [
    "# Load data\n",
    "if LOAD_INTERMEDIATE_STEP5_BOOK == 1:\n",
    "    df_booking = read_pickle(\"step5_final_booking_prep.pkl\")\n",
    "else:\n",
    "    df_booking = df_final_3"
   ]
  },
  {
   "cell_type": "markdown",
   "id": "9a371d47",
   "metadata": {},
   "source": [
    "### Data Aggregation: New Features"
   ]
  },
  {
   "cell_type": "markdown",
   "id": "91cc607b",
   "metadata": {
    "ExecuteTime": {
     "end_time": "2022-08-15T14:38:52.796785Z",
     "start_time": "2022-08-15T14:38:52.780790Z"
    }
   },
   "source": [
    "#### Get tot numer of booking per member"
   ]
  },
  {
   "cell_type": "code",
   "execution_count": 219,
   "id": "3c87e231",
   "metadata": {
    "ExecuteTime": {
     "end_time": "2022-08-31T09:10:12.933846Z",
     "start_time": "2022-08-31T09:10:12.919884Z"
    }
   },
   "outputs": [],
   "source": [
    "mem_agg1 = df_booking.groupby([\"mem_id\"])[\"booking_id\"].count()\n",
    "mem_agg1 = mem_agg1.reset_index()"
   ]
  },
  {
   "cell_type": "code",
   "execution_count": 220,
   "id": "80b5176e",
   "metadata": {
    "ExecuteTime": {
     "end_time": "2022-08-31T09:10:12.949804Z",
     "start_time": "2022-08-31T09:10:12.934844Z"
    }
   },
   "outputs": [],
   "source": [
    "mem_agg1.rename(columns = {'mem_id' : 'mem_id', 'booking_id' : 'Mem_CountBooking'}, inplace = True)"
   ]
  },
  {
   "cell_type": "code",
   "execution_count": 221,
   "id": "074dccdf",
   "metadata": {
    "ExecuteTime": {
     "end_time": "2022-08-31T09:10:12.965763Z",
     "start_time": "2022-08-31T09:10:12.950803Z"
    }
   },
   "outputs": [
    {
     "data": {
      "text/html": [
       "<div>\n",
       "<style scoped>\n",
       "    .dataframe tbody tr th:only-of-type {\n",
       "        vertical-align: middle;\n",
       "    }\n",
       "\n",
       "    .dataframe tbody tr th {\n",
       "        vertical-align: top;\n",
       "    }\n",
       "\n",
       "    .dataframe thead th {\n",
       "        text-align: right;\n",
       "    }\n",
       "</style>\n",
       "<table border=\"1\" class=\"dataframe\">\n",
       "  <thead>\n",
       "    <tr style=\"text-align: right;\">\n",
       "      <th></th>\n",
       "      <th>name</th>\n",
       "      <th>uniquecount</th>\n",
       "    </tr>\n",
       "  </thead>\n",
       "  <tbody>\n",
       "    <tr>\n",
       "      <th>0</th>\n",
       "      <td>mem_id</td>\n",
       "      <td>6774</td>\n",
       "    </tr>\n",
       "    <tr>\n",
       "      <th>1</th>\n",
       "      <td>Mem_CountBooking</td>\n",
       "      <td>17</td>\n",
       "    </tr>\n",
       "  </tbody>\n",
       "</table>\n",
       "</div>"
      ],
      "text/plain": [
       "               name  uniquecount\n",
       "0            mem_id         6774\n",
       "1  Mem_CountBooking           17"
      ]
     },
     "execution_count": 221,
     "metadata": {},
     "output_type": "execute_result"
    }
   ],
   "source": [
    "count_unique(mem_agg1)"
   ]
  },
  {
   "cell_type": "code",
   "execution_count": 222,
   "id": "1d71984a",
   "metadata": {
    "ExecuteTime": {
     "end_time": "2022-08-31T09:10:12.980723Z",
     "start_time": "2022-08-31T09:10:12.966760Z"
    }
   },
   "outputs": [
    {
     "data": {
      "text/plain": [
       "1     5362\n",
       "2      811\n",
       "3      214\n",
       "4      124\n",
       "5       74\n",
       "6       73\n",
       "7       45\n",
       "8       23\n",
       "9       18\n",
       "10      11\n",
       "11       8\n",
       "13       4\n",
       "20       2\n",
       "15       2\n",
       "19       1\n",
       "16       1\n",
       "12       1\n",
       "Name: Mem_CountBooking, dtype: int64"
      ]
     },
     "execution_count": 222,
     "metadata": {},
     "output_type": "execute_result"
    }
   ],
   "source": [
    "mem_agg1[\"Mem_CountBooking\"].value_counts()"
   ]
  },
  {
   "cell_type": "markdown",
   "id": "3dc9ecb9",
   "metadata": {},
   "source": [
    "#### Get mean for aggregation"
   ]
  },
  {
   "cell_type": "code",
   "execution_count": 223,
   "id": "047147f6",
   "metadata": {
    "ExecuteTime": {
     "end_time": "2022-08-31T09:10:12.995683Z",
     "start_time": "2022-08-31T09:10:12.981720Z"
    }
   },
   "outputs": [
    {
     "name": "stdout",
     "output_type": "stream",
     "text": [
      "<class 'pandas.core.frame.DataFrame'>\n",
      "Int64Index: 9958 entries, 0 to 9957\n",
      "Data columns (total 374 columns):\n",
      " #    Column                                     Dtype         \n",
      "---   ------                                     -----         \n",
      " 0    booking_id                                 object        \n",
      " 1    mem_id                                     object        \n",
      " 2    doctor_id                                  category      \n",
      " 3    consult_waived_reason                      category      \n",
      " 4    is_mc_issued                               int64         \n",
      " 5    mc_days                                    float64       \n",
      " 6    is_referral_letter_issued                  int64         \n",
      " 7    booking_timestamp                          datetime64[ns]\n",
      " 8    gender                                     category      \n",
      " 9    birth_year                                 int64         \n",
      " 10   diagnosis_code_list                        object        \n",
      " 11   diagnosis_list                             object        \n",
      " 12   chronic_list                               int64         \n",
      " 13   count_diagnosis                            float64       \n",
      " 14   count_chronic                              float64       \n",
      " 15   medicationID_list                          object        \n",
      " 16   medicationName_list                        object        \n",
      " 17   medQuantity_list                           object        \n",
      " 18   medAndQuan_list                            object        \n",
      " 19   count_medication                           float64       \n",
      " 20   count_repeatmed                            float64       \n",
      " 21   SymptomID_list                             object        \n",
      " 22   SymptomName_list                           object        \n",
      " 23   count_SymID                                float64       \n",
      " 24   diag_U12                                   int64         \n",
      " 25   diag_J30                                   int64         \n",
      " 26   diag_T88                                   int64         \n",
      " 27   diag_K12                                   int64         \n",
      " 28   diag_R21                                   int64         \n",
      " 29   diag_A09                                   int64         \n",
      " 30   diag_H57                                   int64         \n",
      " 31   diag_Z02                                   int64         \n",
      " 32   diag_J06                                   int64         \n",
      " 33   diag_J04                                   int64         \n",
      " 34   diag_Z76                                   int64         \n",
      " 35   diag_M79                                   int64         \n",
      " 36   diag_R51                                   int64         \n",
      " 37   diag_M54                                   int64         \n",
      " 38   diag_R22                                   int64         \n",
      " 39   diag_L50                                   int64         \n",
      " 40   diag_H11                                   int64         \n",
      " 41   diag_B35                                   int64         \n",
      " 42   diag_K30                                   int64         \n",
      " 43   diag_O91                                   int64         \n",
      " 44   diag_R07                                   int64         \n",
      " 45   diag_M10                                   int64         \n",
      " 46   diag_Z71                                   int64         \n",
      " 47   diag_N94                                   int64         \n",
      " 48   diag_K29                                   int64         \n",
      " 49   diag_B37                                   int64         \n",
      " 50   diag_R50                                   int64         \n",
      " 51   diag_N39                                   int64         \n",
      " 52   diag_R09                                   int64         \n",
      " 53   diag_M50                                   int64         \n",
      " 54   diag_R42                                   int64         \n",
      " 55   diag_W57                                   int64         \n",
      " 56   diag_B00                                   int64         \n",
      " 57   diag_L70                                   int64         \n",
      " 58   diag_R14                                   int64         \n",
      " 59   diag_H00                                   int64         \n",
      " 60   diag_L98                                   int64         \n",
      " 61   diag_U07                                   int64         \n",
      " 62   diag_M75                                   int64         \n",
      " 63   diag_R45                                   int64         \n",
      " 64   diag_R05                                   int64         \n",
      " 65   diag_R63                                   int64         \n",
      " 66   diag_L20                                   int64         \n",
      " 67   diag_J39                                   int64         \n",
      " 68   diag_J02                                   int64         \n",
      " 69   diag_L02                                   int64         \n",
      " 70   diag_I10                                   int64         \n",
      " 71   diag_K21                                   int64         \n",
      " 72   diag_J20                                   int64         \n",
      " 73   diag_H02                                   int64         \n",
      " 74   diag_S83                                   int64         \n",
      " 75   diag_L03                                   int64         \n",
      " 76   diag_M76                                   int64         \n",
      " 77   diag_M62                                   int64         \n",
      " 78   diag_H10                                   int64         \n",
      " 79   diag_L24                                   int64         \n",
      " 80   diag_L30                                   int64         \n",
      " 81   diag_K59                                   int64         \n",
      " 82   diag_Y42                                   int64         \n",
      " 83   diag_K07                                   int64         \n",
      " 84   diag_E78                                   int64         \n",
      " 85   diag_K64                                   int64         \n",
      " 86   diag_J45                                   int64         \n",
      " 87   diag_S90                                   int64         \n",
      " 88   diag_G43                                   int64         \n",
      " 89   diag_B08                                   int64         \n",
      " 90   diag_G47                                   int64         \n",
      " 91   diag_T78                                   int64         \n",
      " 92   diag_U08                                   int64         \n",
      " 93   diag_H81                                   int64         \n",
      " 94   diag_G44                                   int64         \n",
      " 95   diag_N92                                   int64         \n",
      " 96   diag_J01                                   int64         \n",
      " 97   diag_E11                                   int64         \n",
      " 98   diag_H66                                   int64         \n",
      " 99   diag_M25                                   int64         \n",
      " 100  diag_F38                                   int64         \n",
      " 101  diag_H01                                   int64         \n",
      " 102  diag_G71                                   int64         \n",
      " 103  diag_R53                                   int64         \n",
      " 104  diag_M23                                   int64         \n",
      " 105  diag_S13                                   int64         \n",
      " 106  diag_S00                                   int64         \n",
      " 107  diag_U09                                   int64         \n",
      " 108  diag_H93                                   int64         \n",
      " 109  diag_B36                                   int64         \n",
      " 110  diag_S60                                   int64         \n",
      " 111  diag_E61                                   int64         \n",
      " 112  diag_R52                                   int64         \n",
      " 113  diag_H60                                   int64         \n",
      " 114  diag_M17                                   int64         \n",
      " 115  diag_R06                                   int64         \n",
      " 116  diag_N64                                   int64         \n",
      " 117  diag_R10                                   int64         \n",
      " 118  diag_R11                                   int64         \n",
      " 119  diag_E03                                   int64         \n",
      " 120  diag_J03                                   int64         \n",
      " 121  diag_S33                                   int64         \n",
      " 122  diag_Z13                                   int64         \n",
      " 123  diag_L29                                   int64         \n",
      " 124  diag_S23                                   int64         \n",
      " 125  diag_D50                                   int64         \n",
      " 126  diag_K52                                   int64         \n",
      " 127  diag_S93                                   int64         \n",
      " 128  diag_F41                                   int64         \n",
      " 129  diag_R04                                   int64         \n",
      " 130  diag_E28                                   int64         \n",
      " 131  diag_R59                                   int64         \n",
      " 132  diag_J22                                   int64         \n",
      " 133  diag_Z53                                   int64         \n",
      " 134  diag_N02                                   int64         \n",
      " 135  diag_S63                                   int64         \n",
      " 136  diag_B30                                   int64         \n",
      " 137  diag_M65                                   int64         \n",
      " 138  diag_E05                                   int64         \n",
      " 139  diag_H58                                   int64         \n",
      " 140  diag_M72                                   int64         \n",
      " 141  diag_P39                                   int64         \n",
      " 142  diag_L85                                   int64         \n",
      " 143  diag_N76                                   int64         \n",
      " 144  diag_L21                                   int64         \n",
      " 145  diag_Y58                                   int64         \n",
      " 146  diag_K13                                   int64         \n",
      " 147  diag_Y60                                   int64         \n",
      " 148  diag_Z30                                   int64         \n",
      " 149  diag_N51                                   int64         \n",
      " 150  diag_S61                                   int64         \n",
      " 151  diag_U11                                   int64         \n",
      " 152  diag_K11                                   int64         \n",
      " 153  diag_S81                                   int64         \n",
      " 154  diag_T11                                   int64         \n",
      " 155  diag_N77                                   int64         \n",
      " 156  diag_O92                                   int64         \n",
      " 157  diag_L84                                   int64         \n",
      " 158  diag_L28                                   int64         \n",
      " 159  diag_A68                                   int64         \n",
      " 160  diag_R55                                   int64         \n",
      " 161  diag_L71                                   int64         \n",
      " 162  diag_N85                                   int64         \n",
      " 163  diag_S89                                   int64         \n",
      " 164  diag_T23                                   int64         \n",
      " 165  diag_B02                                   int64         \n",
      " 166  diag_O21                                   int64         \n",
      " 167  diag_H04                                   int64         \n",
      " 168  diag_T22                                   int64         \n",
      " 169  diag_T00                                   int64         \n",
      " 170  diag_R23                                   int64         \n",
      " 171  diag_G53                                   int64         \n",
      " 172  diag_J32                                   int64         \n",
      " 173  diag_Z10                                   int64         \n",
      " 174  diag_R60                                   int64         \n",
      " 175  diag_R03                                   int64         \n",
      " 176  diag_M43                                   int64         \n",
      " 177  diag_M47                                   int64         \n",
      " 178  diag_R25                                   int64         \n",
      " 179  diag_L64                                   int64         \n",
      " 180  diag_O00                                   int64         \n",
      " 181  diag_H15                                   int64         \n",
      " 182  diag_K58                                   int64         \n",
      " 183  diag_N32                                   int64         \n",
      " 184  diag_F43                                   int64         \n",
      " 185  diag_L60                                   int64         \n",
      " 186  diag_M06                                   int64         \n",
      " 187  diag_T13                                   int64         \n",
      " 188  diag_S51                                   int64         \n",
      " 189  diag_K05                                   int64         \n",
      " 190  diag_N84                                   int64         \n",
      " 191  diag_R00                                   int64         \n",
      " 192  diag_I25                                   int64         \n",
      " 193  diag_B01                                   int64         \n",
      " 194  diag_S50                                   int64         \n",
      " 195  diag_W01                                   int64         \n",
      " 196  diag_M77                                   int64         \n",
      " 197  diag_I83                                   int64         \n",
      " 198  diag_K00                                   int64         \n",
      " 199  diag_S43                                   int64         \n",
      " 200  diag_R82                                   int64         \n",
      " 201  diag_G56                                   int64         \n",
      " 202  diag_T75                                   int64         \n",
      " 203  diag_R80                                   int64         \n",
      " 204  diag_I48                                   int64         \n",
      " 205  diag_N63                                   int64         \n",
      " 206  diag_L55                                   int64         \n",
      " 207  diag_J34                                   int64         \n",
      " 208  diag_I80                                   int64         \n",
      " 209  diag_F32                                   int64         \n",
      " 210  diag_S30                                   int64         \n",
      " 211  diag_R73                                   int64         \n",
      " 212  diag_K60                                   int64         \n",
      " 213  diag_Z01                                   int64         \n",
      " 214  diag_D25                                   int64         \n",
      " 215  diag_B07                                   int64         \n",
      " 216  diag_N40                                   int64         \n",
      " 217  diag_L23                                   int64         \n",
      " 218  diag_L04                                   int64         \n",
      " 219  diag_M67                                   int64         \n",
      " 220  diag_D75                                   int64         \n",
      " 221  diag_L91                                   int64         \n",
      " 222  diag_S80                                   int64         \n",
      " 223  diag_K06                                   int64         \n",
      " 224  diag_K03                                   int64         \n",
      " 225  diag_G62                                   int64         \n",
      " 226  diag_S53                                   int64         \n",
      " 227  diag_J98                                   int64         \n",
      " 228  diag_K08                                   int64         \n",
      " 229  diag_H06                                   int64         \n",
      " 230  diag_H92                                   int64         \n",
      " 231  diag_F90                                   int64         \n",
      " 232  diag_K14                                   int64         \n",
      " 233  diag_M12                                   int64         \n",
      " 234  diag_F00                                   int64         \n",
      " 235  diag_T31                                   int64         \n",
      " 236  diag_R94                                   int64         \n",
      " 237  diag_M51                                   int64         \n",
      " 238  diag_H18                                   int64         \n",
      " 239  diag_G70                                   int64         \n",
      " 240  diag_L73                                   int64         \n",
      " 241  diag_J35                                   int64         \n",
      " 242  diag_M22                                   int64         \n",
      " 243  diag_D10                                   int64         \n",
      " 244  diag_S46                                   int64         \n",
      " 245  diag_L90                                   int64         \n",
      " 246  diag_L81                                   int64         \n",
      " 247  diag_E29                                   int64         \n",
      " 248  diag_I95                                   int64         \n",
      " 249  diag_B80                                   int64         \n",
      " 250  diag_S01                                   int64         \n",
      " 251  diag_H91                                   int64         \n",
      " 252  diag_F06                                   int64         \n",
      " 253  diag_N91                                   int64         \n",
      " 254  diag_V01                                   int64         \n",
      " 255  diag_M84                                   int64         \n",
      " 256  diag_K76                                   int64         \n",
      " 257  diag_L25                                   int64         \n",
      " 258  diag_K62                                   int64         \n",
      " 259  diag_Z33                                   int64         \n",
      " 260  diag_S70                                   int64         \n",
      " 261  diag_G58                                   int64         \n",
      " 262  diag_H69                                   int64         \n",
      " 263  diag_I05                                   int64         \n",
      " 264  diag_S52                                   int64         \n",
      " 265  diag_A92                                   int64         \n",
      " 266  diag_S96                                   int64         \n",
      " 267  diag_R32                                   int64         \n",
      " 268  diag_I64                                   int64         \n",
      " 269  diag_R12                                   int64         \n",
      " 270  diag_S66                                   int64         \n",
      " 271  diag_H94                                   int64         \n",
      " 272  diag_I88                                   int64         \n",
      " 273  diag_L63                                   int64         \n",
      " 274  diag_F52                                   int64         \n",
      " 275  diag_H40                                   int64         \n",
      " 276  diag_E87                                   int64         \n",
      " 277  diag_J33                                   int64         \n",
      " 278  diag_T63                                   int64         \n",
      " 279  diag_R31                                   int64         \n",
      " 280  diag_I78                                   int64         \n",
      " 281  diag_S05                                   int64         \n",
      " 282  diag_S82                                   int64         \n",
      " 283  diag_T24                                   int64         \n",
      " 284  diag_N30                                   int64         \n",
      " 285  diag_R92                                   int64         \n",
      " 286  diag_R20                                   int64         \n",
      " 287  diag_Z92                                   int64         \n",
      " 288  diag_K51                                   int64         \n",
      " 289  diag_H61                                   int64         \n",
      " 290  diag_K10                                   int64         \n",
      " 291  diag_S03                                   int64         \n",
      " 292  diag_N80                                   int64         \n",
      " 293  diag_S71                                   int64         \n",
      " 294  diag_G25                                   int64         \n",
      " 295  diag_X51                                   int64         \n",
      " 296  diag_D22                                   int64         \n",
      " 297  diag_N42                                   int64         \n",
      " 298  diag_W09                                   int64         \n",
      " 299  diag_W55                                   int64         \n",
      " 300  diag_L74                                   int64         \n",
      " 301  diag_I70                                   int64         \n",
      " 302  diag_Z73                                   int64         \n",
      " 303  diag_S20                                   int64         \n",
      " 304  diag_K50                                   int64         \n",
      " 305  diag_S92                                   int64         \n",
      " 306  diag_S40                                   int64         \n",
      " 307  diag_L99                                   int64         \n",
      " 308  diag_J38                                   int64         \n",
      " 309  diag_M71                                   int64         \n",
      " 310  diag_I49                                   int64         \n",
      " 311  diag_R19                                   int64         \n",
      " 312  diag_L72                                   int64         \n",
      " 313  diag_L40                                   int64         \n",
      " 314  diag_Y56                                   int64         \n",
      " 315  diag_D03                                   int64         \n",
      " 316  diag_L42                                   int64         \n",
      " 317  diag_T17                                   int64         \n",
      " 318  diag_R49                                   int64         \n",
      " 319  diag_H90                                   int64         \n",
      " 320  diag_G51                                   int64         \n",
      " 321  diag_E55                                   int64         \n",
      " 322  diag_L93                                   int64         \n",
      " 323  diag_H70                                   int64         \n",
      " 324  diag_N87                                   int64         \n",
      " 325  diag_M20                                   int64         \n",
      " 326  diag_I65                                   int64         \n",
      " 327  diag_L65                                   int64         \n",
      " 328  diag_B81                                   int64         \n",
      " 329  diag_O90                                   int64         \n",
      " 330  diag_K25                                   int64         \n",
      " 331  diag_X50                                   int64         \n",
      " 332  diag_E66                                   int64         \n",
      " 333  diag_N48                                   int64         \n",
      " 334  diag_S06                                   int64         \n",
      " 335  diag_I86                                   int64         \n",
      " 336  diag_H74                                   int64         \n",
      " 337  diag_L66                                   int64         \n",
      " 338  diag_H26                                   int64         \n",
      " 339  chronic_NoneChronic                        int64         \n",
      " 340  chronic_Vasomotor and allergic rhinitis    int64         \n",
      " 341  chronic_Gout                               int64         \n",
      " 342  chronic_Atopic dermatitis                  int64         \n",
      " 343  chronic_Hypertension                       int64         \n",
      " 344  chronic_Gastro-oesophageal reflux disease  int64         \n",
      " 345  chronic_Hyperlipidaemia                    int64         \n",
      " 346  chronic_Asthma                             int64         \n",
      " 347  chronic_Migraine                           int64         \n",
      " 348  chronic_Diabetes                           int64         \n",
      " 349  chronic_Thyroid                            int64         \n",
      " 350  symp_N                                     int64         \n",
      " 351  symp_headache                              int64         \n",
      " 352  symp_fever                                 int64         \n",
      " 353  symp_giddiness                             int64         \n",
      " 354  symp_others                                int64         \n",
      " 355  symp_medical referral                      int64         \n",
      " 356  symp_vomiting                              int64         \n",
      " 357  symp_diarrhoea                             int64         \n",
      " 358  symp_sore throat                           int64         \n",
      " 359  symp_flu                                   int64         \n",
      " 360  symp_cough                                 int64         \n",
      " 361  symp_cold                                  int64         \n",
      " 362  symp_cold sores                            int64         \n",
      " 363  symp_rash                                  int64         \n",
      " 364  symp_chronic medicine top-up               int64         \n",
      " 365  symp_discuss lab results                   int64         \n",
      " 366  symp_chronic illness management            int64         \n",
      " 367  symp_skin growth on sole (foot)            int64         \n",
      " 368  symp_ulcer under tongue                    int64         \n",
      " 369  symp_vertigo                               int64         \n",
      " 370  symp_runny nose                            int64         \n",
      " 371  Target_chronic                             int64         \n",
      " 372  age_yr                                     float64       \n",
      " 373  consult_hr                                 category      \n",
      "dtypes: category(4), datetime64[ns](1), float64(7), int64(352), object(10)\n",
      "memory usage: 28.2+ MB\n"
     ]
    }
   ],
   "source": [
    "df_booking.info(\"deep\")"
   ]
  },
  {
   "cell_type": "code",
   "execution_count": 224,
   "id": "77b3673d",
   "metadata": {
    "ExecuteTime": {
     "end_time": "2022-08-31T09:10:13.011640Z",
     "start_time": "2022-08-31T09:10:12.996680Z"
    }
   },
   "outputs": [],
   "source": [
    "select_list = [\n",
    "     'mc_days',\n",
    "     'count_diagnosis',\n",
    "     'count_chronic',\n",
    "     'count_medication',\n",
    "     'count_repeatmed',\n",
    "     'count_SymID',\n",
    "     'age_yr']"
   ]
  },
  {
   "cell_type": "code",
   "execution_count": 225,
   "id": "ef8b4333",
   "metadata": {
    "ExecuteTime": {
     "end_time": "2022-08-31T09:10:13.057554Z",
     "start_time": "2022-08-31T09:10:13.012637Z"
    }
   },
   "outputs": [],
   "source": [
    "mem_agg2 = df_booking.groupby([\"mem_id\"])[select_list].mean()\n",
    "mem_agg2 = mem_agg2.reset_index()"
   ]
  },
  {
   "cell_type": "code",
   "execution_count": 226,
   "id": "63f2fadd",
   "metadata": {
    "ExecuteTime": {
     "end_time": "2022-08-31T09:10:13.073473Z",
     "start_time": "2022-08-31T09:10:13.058514Z"
    }
   },
   "outputs": [],
   "source": [
    "mem_agg2 = mem_agg2.rename(columns={col: 'AVE_' + col\n",
    "                        for col in mem_agg2.columns if col not in ['mem_id']})"
   ]
  },
  {
   "cell_type": "code",
   "execution_count": 227,
   "id": "124dd4ed",
   "metadata": {
    "ExecuteTime": {
     "end_time": "2022-08-31T09:10:13.089430Z",
     "start_time": "2022-08-31T09:10:13.074472Z"
    }
   },
   "outputs": [],
   "source": [
    "new_col2 = mem_agg2.columns.tolist()"
   ]
  },
  {
   "cell_type": "code",
   "execution_count": 228,
   "id": "f12d886a",
   "metadata": {
    "ExecuteTime": {
     "end_time": "2022-08-31T09:10:13.119351Z",
     "start_time": "2022-08-31T09:10:13.090428Z"
    }
   },
   "outputs": [],
   "source": [
    "# Round off value to int\n",
    "for col in new_col2[1:]:\n",
    "    mem_agg2[col]  =  mem_agg2[col].apply(lambda x: int(x))"
   ]
  },
  {
   "cell_type": "code",
   "execution_count": 229,
   "id": "e7bd227e",
   "metadata": {
    "ExecuteTime": {
     "end_time": "2022-08-31T09:10:13.151266Z",
     "start_time": "2022-08-31T09:10:13.120349Z"
    }
   },
   "outputs": [
    {
     "data": {
      "text/html": [
       "<div>\n",
       "<style scoped>\n",
       "    .dataframe tbody tr th:only-of-type {\n",
       "        vertical-align: middle;\n",
       "    }\n",
       "\n",
       "    .dataframe tbody tr th {\n",
       "        vertical-align: top;\n",
       "    }\n",
       "\n",
       "    .dataframe thead th {\n",
       "        text-align: right;\n",
       "    }\n",
       "</style>\n",
       "<table border=\"1\" class=\"dataframe\">\n",
       "  <thead>\n",
       "    <tr style=\"text-align: right;\">\n",
       "      <th></th>\n",
       "      <th>count</th>\n",
       "      <th>mean</th>\n",
       "      <th>std</th>\n",
       "      <th>min</th>\n",
       "      <th>25%</th>\n",
       "      <th>50%</th>\n",
       "      <th>75%</th>\n",
       "      <th>max</th>\n",
       "    </tr>\n",
       "  </thead>\n",
       "  <tbody>\n",
       "    <tr>\n",
       "      <th>AVE_mc_days</th>\n",
       "      <td>6774.0</td>\n",
       "      <td>1.268379</td>\n",
       "      <td>1.539772</td>\n",
       "      <td>0.0</td>\n",
       "      <td>0.0</td>\n",
       "      <td>1.0</td>\n",
       "      <td>1.0</td>\n",
       "      <td>7.0</td>\n",
       "    </tr>\n",
       "    <tr>\n",
       "      <th>AVE_count_diagnosis</th>\n",
       "      <td>6774.0</td>\n",
       "      <td>1.160614</td>\n",
       "      <td>0.422190</td>\n",
       "      <td>1.0</td>\n",
       "      <td>1.0</td>\n",
       "      <td>1.0</td>\n",
       "      <td>1.0</td>\n",
       "      <td>5.0</td>\n",
       "    </tr>\n",
       "    <tr>\n",
       "      <th>AVE_count_chronic</th>\n",
       "      <td>6774.0</td>\n",
       "      <td>0.087983</td>\n",
       "      <td>0.317221</td>\n",
       "      <td>0.0</td>\n",
       "      <td>0.0</td>\n",
       "      <td>0.0</td>\n",
       "      <td>0.0</td>\n",
       "      <td>3.0</td>\n",
       "    </tr>\n",
       "    <tr>\n",
       "      <th>AVE_count_medication</th>\n",
       "      <td>6774.0</td>\n",
       "      <td>1.875996</td>\n",
       "      <td>1.584746</td>\n",
       "      <td>0.0</td>\n",
       "      <td>1.0</td>\n",
       "      <td>2.0</td>\n",
       "      <td>3.0</td>\n",
       "      <td>10.0</td>\n",
       "    </tr>\n",
       "    <tr>\n",
       "      <th>AVE_count_repeatmed</th>\n",
       "      <td>6774.0</td>\n",
       "      <td>0.709477</td>\n",
       "      <td>0.460815</td>\n",
       "      <td>0.0</td>\n",
       "      <td>0.0</td>\n",
       "      <td>1.0</td>\n",
       "      <td>1.0</td>\n",
       "      <td>3.0</td>\n",
       "    </tr>\n",
       "    <tr>\n",
       "      <th>AVE_count_SymID</th>\n",
       "      <td>6774.0</td>\n",
       "      <td>1.916150</td>\n",
       "      <td>1.471937</td>\n",
       "      <td>0.0</td>\n",
       "      <td>1.0</td>\n",
       "      <td>2.0</td>\n",
       "      <td>2.0</td>\n",
       "      <td>10.0</td>\n",
       "    </tr>\n",
       "    <tr>\n",
       "      <th>AVE_age_yr</th>\n",
       "      <td>6774.0</td>\n",
       "      <td>34.418660</td>\n",
       "      <td>8.711145</td>\n",
       "      <td>16.0</td>\n",
       "      <td>28.0</td>\n",
       "      <td>33.0</td>\n",
       "      <td>39.0</td>\n",
       "      <td>85.0</td>\n",
       "    </tr>\n",
       "  </tbody>\n",
       "</table>\n",
       "</div>"
      ],
      "text/plain": [
       "                       count       mean       std   min   25%   50%   75%  \\\n",
       "AVE_mc_days           6774.0   1.268379  1.539772   0.0   0.0   1.0   1.0   \n",
       "AVE_count_diagnosis   6774.0   1.160614  0.422190   1.0   1.0   1.0   1.0   \n",
       "AVE_count_chronic     6774.0   0.087983  0.317221   0.0   0.0   0.0   0.0   \n",
       "AVE_count_medication  6774.0   1.875996  1.584746   0.0   1.0   2.0   3.0   \n",
       "AVE_count_repeatmed   6774.0   0.709477  0.460815   0.0   0.0   1.0   1.0   \n",
       "AVE_count_SymID       6774.0   1.916150  1.471937   0.0   1.0   2.0   2.0   \n",
       "AVE_age_yr            6774.0  34.418660  8.711145  16.0  28.0  33.0  39.0   \n",
       "\n",
       "                       max  \n",
       "AVE_mc_days            7.0  \n",
       "AVE_count_diagnosis    5.0  \n",
       "AVE_count_chronic      3.0  \n",
       "AVE_count_medication  10.0  \n",
       "AVE_count_repeatmed    3.0  \n",
       "AVE_count_SymID       10.0  \n",
       "AVE_age_yr            85.0  "
      ]
     },
     "execution_count": 229,
     "metadata": {},
     "output_type": "execute_result"
    }
   ],
   "source": [
    "mem_agg2.describe().transpose()"
   ]
  },
  {
   "cell_type": "markdown",
   "id": "7a974289",
   "metadata": {},
   "source": [
    "#### Get max for aggregation"
   ]
  },
  {
   "cell_type": "code",
   "execution_count": 230,
   "id": "58cde5fd",
   "metadata": {
    "ExecuteTime": {
     "end_time": "2022-08-31T09:10:13.166226Z",
     "start_time": "2022-08-31T09:10:13.152262Z"
    }
   },
   "outputs": [],
   "source": [
    "mem_agg3 = df_booking.groupby([\"mem_id\"])[select_list].max()\n",
    "mem_agg3 = mem_agg3.reset_index()"
   ]
  },
  {
   "cell_type": "code",
   "execution_count": 231,
   "id": "001948ad",
   "metadata": {
    "ExecuteTime": {
     "end_time": "2022-08-31T09:10:13.181186Z",
     "start_time": "2022-08-31T09:10:13.167223Z"
    }
   },
   "outputs": [],
   "source": [
    "mem_agg3 = mem_agg3.rename(columns={col: 'MAX_' + col\n",
    "                        for col in mem_agg3.columns if col not in ['mem_id']})"
   ]
  },
  {
   "cell_type": "code",
   "execution_count": 232,
   "id": "988877f2",
   "metadata": {
    "ExecuteTime": {
     "end_time": "2022-08-31T09:10:13.196180Z",
     "start_time": "2022-08-31T09:10:13.182185Z"
    }
   },
   "outputs": [],
   "source": [
    "new_col3 = mem_agg3.columns.tolist()"
   ]
  },
  {
   "cell_type": "code",
   "execution_count": 233,
   "id": "a9d16aaa",
   "metadata": {
    "ExecuteTime": {
     "end_time": "2022-08-31T09:10:13.227098Z",
     "start_time": "2022-08-31T09:10:13.197143Z"
    }
   },
   "outputs": [],
   "source": [
    "# Round off value to int\n",
    "for col in new_col3[1:]:\n",
    "    mem_agg3[col]  =  mem_agg3[col].apply(lambda x: int(x))"
   ]
  },
  {
   "cell_type": "code",
   "execution_count": 234,
   "id": "54546d3a",
   "metadata": {
    "ExecuteTime": {
     "end_time": "2022-08-31T09:10:13.259007Z",
     "start_time": "2022-08-31T09:10:13.228061Z"
    }
   },
   "outputs": [
    {
     "data": {
      "text/html": [
       "<div>\n",
       "<style scoped>\n",
       "    .dataframe tbody tr th:only-of-type {\n",
       "        vertical-align: middle;\n",
       "    }\n",
       "\n",
       "    .dataframe tbody tr th {\n",
       "        vertical-align: top;\n",
       "    }\n",
       "\n",
       "    .dataframe thead th {\n",
       "        text-align: right;\n",
       "    }\n",
       "</style>\n",
       "<table border=\"1\" class=\"dataframe\">\n",
       "  <thead>\n",
       "    <tr style=\"text-align: right;\">\n",
       "      <th></th>\n",
       "      <th>count</th>\n",
       "      <th>mean</th>\n",
       "      <th>std</th>\n",
       "      <th>min</th>\n",
       "      <th>25%</th>\n",
       "      <th>50%</th>\n",
       "      <th>75%</th>\n",
       "      <th>max</th>\n",
       "    </tr>\n",
       "  </thead>\n",
       "  <tbody>\n",
       "    <tr>\n",
       "      <th>MAX_mc_days</th>\n",
       "      <td>6774.0</td>\n",
       "      <td>1.490995</td>\n",
       "      <td>1.726328</td>\n",
       "      <td>0.0</td>\n",
       "      <td>0.0</td>\n",
       "      <td>1.0</td>\n",
       "      <td>2.0</td>\n",
       "      <td>14.0</td>\n",
       "    </tr>\n",
       "    <tr>\n",
       "      <th>MAX_count_diagnosis</th>\n",
       "      <td>6774.0</td>\n",
       "      <td>1.252879</td>\n",
       "      <td>0.526826</td>\n",
       "      <td>1.0</td>\n",
       "      <td>1.0</td>\n",
       "      <td>1.0</td>\n",
       "      <td>1.0</td>\n",
       "      <td>6.0</td>\n",
       "    </tr>\n",
       "    <tr>\n",
       "      <th>MAX_count_chronic</th>\n",
       "      <td>6774.0</td>\n",
       "      <td>0.131680</td>\n",
       "      <td>0.392710</td>\n",
       "      <td>0.0</td>\n",
       "      <td>0.0</td>\n",
       "      <td>0.0</td>\n",
       "      <td>0.0</td>\n",
       "      <td>3.0</td>\n",
       "    </tr>\n",
       "    <tr>\n",
       "      <th>MAX_count_medication</th>\n",
       "      <td>6774.0</td>\n",
       "      <td>2.169029</td>\n",
       "      <td>1.731900</td>\n",
       "      <td>0.0</td>\n",
       "      <td>1.0</td>\n",
       "      <td>2.0</td>\n",
       "      <td>3.0</td>\n",
       "      <td>13.0</td>\n",
       "    </tr>\n",
       "    <tr>\n",
       "      <th>MAX_count_repeatmed</th>\n",
       "      <td>6774.0</td>\n",
       "      <td>0.797609</td>\n",
       "      <td>0.412688</td>\n",
       "      <td>0.0</td>\n",
       "      <td>1.0</td>\n",
       "      <td>1.0</td>\n",
       "      <td>1.0</td>\n",
       "      <td>3.0</td>\n",
       "    </tr>\n",
       "    <tr>\n",
       "      <th>MAX_count_SymID</th>\n",
       "      <td>6774.0</td>\n",
       "      <td>2.155300</td>\n",
       "      <td>1.600542</td>\n",
       "      <td>0.0</td>\n",
       "      <td>1.0</td>\n",
       "      <td>2.0</td>\n",
       "      <td>3.0</td>\n",
       "      <td>10.0</td>\n",
       "    </tr>\n",
       "    <tr>\n",
       "      <th>MAX_age_yr</th>\n",
       "      <td>6774.0</td>\n",
       "      <td>34.418660</td>\n",
       "      <td>8.711145</td>\n",
       "      <td>16.0</td>\n",
       "      <td>28.0</td>\n",
       "      <td>33.0</td>\n",
       "      <td>39.0</td>\n",
       "      <td>85.0</td>\n",
       "    </tr>\n",
       "  </tbody>\n",
       "</table>\n",
       "</div>"
      ],
      "text/plain": [
       "                       count       mean       std   min   25%   50%   75%  \\\n",
       "MAX_mc_days           6774.0   1.490995  1.726328   0.0   0.0   1.0   2.0   \n",
       "MAX_count_diagnosis   6774.0   1.252879  0.526826   1.0   1.0   1.0   1.0   \n",
       "MAX_count_chronic     6774.0   0.131680  0.392710   0.0   0.0   0.0   0.0   \n",
       "MAX_count_medication  6774.0   2.169029  1.731900   0.0   1.0   2.0   3.0   \n",
       "MAX_count_repeatmed   6774.0   0.797609  0.412688   0.0   1.0   1.0   1.0   \n",
       "MAX_count_SymID       6774.0   2.155300  1.600542   0.0   1.0   2.0   3.0   \n",
       "MAX_age_yr            6774.0  34.418660  8.711145  16.0  28.0  33.0  39.0   \n",
       "\n",
       "                       max  \n",
       "MAX_mc_days           14.0  \n",
       "MAX_count_diagnosis    6.0  \n",
       "MAX_count_chronic      3.0  \n",
       "MAX_count_medication  13.0  \n",
       "MAX_count_repeatmed    3.0  \n",
       "MAX_count_SymID       10.0  \n",
       "MAX_age_yr            85.0  "
      ]
     },
     "execution_count": 234,
     "metadata": {},
     "output_type": "execute_result"
    }
   ],
   "source": [
    "mem_agg3.describe().transpose()"
   ]
  },
  {
   "cell_type": "markdown",
   "id": "14aae7e6",
   "metadata": {},
   "source": [
    "#### Get min for aggregation"
   ]
  },
  {
   "cell_type": "code",
   "execution_count": 235,
   "id": "5c693173",
   "metadata": {
    "ExecuteTime": {
     "end_time": "2022-08-31T09:10:13.274935Z",
     "start_time": "2022-08-31T09:10:13.259975Z"
    }
   },
   "outputs": [],
   "source": [
    "mem_agg4 = df_booking.groupby([\"mem_id\"])[select_list].min()\n",
    "mem_agg4 = mem_agg4.reset_index()"
   ]
  },
  {
   "cell_type": "code",
   "execution_count": 236,
   "id": "1f0f148f",
   "metadata": {
    "ExecuteTime": {
     "end_time": "2022-08-31T09:10:13.289895Z",
     "start_time": "2022-08-31T09:10:13.275933Z"
    }
   },
   "outputs": [],
   "source": [
    "mem_agg4 = mem_agg4.rename(columns={col: 'MIN_' + col\n",
    "                        for col in mem_agg4.columns if col not in ['mem_id']})"
   ]
  },
  {
   "cell_type": "code",
   "execution_count": 237,
   "id": "2e0456a2",
   "metadata": {
    "ExecuteTime": {
     "end_time": "2022-08-31T09:10:13.305853Z",
     "start_time": "2022-08-31T09:10:13.290892Z"
    }
   },
   "outputs": [],
   "source": [
    "new_col4 = mem_agg4.columns.tolist()"
   ]
  },
  {
   "cell_type": "code",
   "execution_count": 238,
   "id": "40334a07",
   "metadata": {
    "ExecuteTime": {
     "end_time": "2022-08-31T09:10:13.335772Z",
     "start_time": "2022-08-31T09:10:13.306851Z"
    }
   },
   "outputs": [],
   "source": [
    "# Round off value to int\n",
    "for col in new_col4[1:]:\n",
    "    mem_agg4[col]  =  mem_agg4[col].apply(lambda x: int(x))"
   ]
  },
  {
   "cell_type": "code",
   "execution_count": 239,
   "id": "eabf5584",
   "metadata": {
    "ExecuteTime": {
     "end_time": "2022-08-31T09:10:13.367725Z",
     "start_time": "2022-08-31T09:10:13.336771Z"
    }
   },
   "outputs": [
    {
     "data": {
      "text/html": [
       "<div>\n",
       "<style scoped>\n",
       "    .dataframe tbody tr th:only-of-type {\n",
       "        vertical-align: middle;\n",
       "    }\n",
       "\n",
       "    .dataframe tbody tr th {\n",
       "        vertical-align: top;\n",
       "    }\n",
       "\n",
       "    .dataframe thead th {\n",
       "        text-align: right;\n",
       "    }\n",
       "</style>\n",
       "<table border=\"1\" class=\"dataframe\">\n",
       "  <thead>\n",
       "    <tr style=\"text-align: right;\">\n",
       "      <th></th>\n",
       "      <th>count</th>\n",
       "      <th>mean</th>\n",
       "      <th>std</th>\n",
       "      <th>min</th>\n",
       "      <th>25%</th>\n",
       "      <th>50%</th>\n",
       "      <th>75%</th>\n",
       "      <th>max</th>\n",
       "    </tr>\n",
       "  </thead>\n",
       "  <tbody>\n",
       "    <tr>\n",
       "      <th>MIN_mc_days</th>\n",
       "      <td>6774.0</td>\n",
       "      <td>1.183643</td>\n",
       "      <td>1.537155</td>\n",
       "      <td>0.0</td>\n",
       "      <td>0.0</td>\n",
       "      <td>1.0</td>\n",
       "      <td>1.0</td>\n",
       "      <td>7.0</td>\n",
       "    </tr>\n",
       "    <tr>\n",
       "      <th>MIN_count_diagnosis</th>\n",
       "      <td>6774.0</td>\n",
       "      <td>1.154414</td>\n",
       "      <td>0.415001</td>\n",
       "      <td>1.0</td>\n",
       "      <td>1.0</td>\n",
       "      <td>1.0</td>\n",
       "      <td>1.0</td>\n",
       "      <td>5.0</td>\n",
       "    </tr>\n",
       "    <tr>\n",
       "      <th>MIN_count_chronic</th>\n",
       "      <td>6774.0</td>\n",
       "      <td>0.085179</td>\n",
       "      <td>0.312128</td>\n",
       "      <td>0.0</td>\n",
       "      <td>0.0</td>\n",
       "      <td>0.0</td>\n",
       "      <td>0.0</td>\n",
       "      <td>3.0</td>\n",
       "    </tr>\n",
       "    <tr>\n",
       "      <th>MIN_count_medication</th>\n",
       "      <td>6774.0</td>\n",
       "      <td>1.728521</td>\n",
       "      <td>1.622945</td>\n",
       "      <td>0.0</td>\n",
       "      <td>0.0</td>\n",
       "      <td>1.0</td>\n",
       "      <td>3.0</td>\n",
       "      <td>10.0</td>\n",
       "    </tr>\n",
       "    <tr>\n",
       "      <th>MIN_count_repeatmed</th>\n",
       "      <td>6774.0</td>\n",
       "      <td>0.709330</td>\n",
       "      <td>0.460882</td>\n",
       "      <td>0.0</td>\n",
       "      <td>0.0</td>\n",
       "      <td>1.0</td>\n",
       "      <td>1.0</td>\n",
       "      <td>3.0</td>\n",
       "    </tr>\n",
       "    <tr>\n",
       "      <th>MIN_count_SymID</th>\n",
       "      <td>6774.0</td>\n",
       "      <td>1.819457</td>\n",
       "      <td>1.480629</td>\n",
       "      <td>0.0</td>\n",
       "      <td>1.0</td>\n",
       "      <td>1.0</td>\n",
       "      <td>2.0</td>\n",
       "      <td>10.0</td>\n",
       "    </tr>\n",
       "    <tr>\n",
       "      <th>MIN_age_yr</th>\n",
       "      <td>6774.0</td>\n",
       "      <td>34.418660</td>\n",
       "      <td>8.711145</td>\n",
       "      <td>16.0</td>\n",
       "      <td>28.0</td>\n",
       "      <td>33.0</td>\n",
       "      <td>39.0</td>\n",
       "      <td>85.0</td>\n",
       "    </tr>\n",
       "  </tbody>\n",
       "</table>\n",
       "</div>"
      ],
      "text/plain": [
       "                       count       mean       std   min   25%   50%   75%  \\\n",
       "MIN_mc_days           6774.0   1.183643  1.537155   0.0   0.0   1.0   1.0   \n",
       "MIN_count_diagnosis   6774.0   1.154414  0.415001   1.0   1.0   1.0   1.0   \n",
       "MIN_count_chronic     6774.0   0.085179  0.312128   0.0   0.0   0.0   0.0   \n",
       "MIN_count_medication  6774.0   1.728521  1.622945   0.0   0.0   1.0   3.0   \n",
       "MIN_count_repeatmed   6774.0   0.709330  0.460882   0.0   0.0   1.0   1.0   \n",
       "MIN_count_SymID       6774.0   1.819457  1.480629   0.0   1.0   1.0   2.0   \n",
       "MIN_age_yr            6774.0  34.418660  8.711145  16.0  28.0  33.0  39.0   \n",
       "\n",
       "                       max  \n",
       "MIN_mc_days            7.0  \n",
       "MIN_count_diagnosis    5.0  \n",
       "MIN_count_chronic      3.0  \n",
       "MIN_count_medication  10.0  \n",
       "MIN_count_repeatmed    3.0  \n",
       "MIN_count_SymID       10.0  \n",
       "MIN_age_yr            85.0  "
      ]
     },
     "execution_count": 239,
     "metadata": {},
     "output_type": "execute_result"
    }
   ],
   "source": [
    "mem_agg4.describe().transpose()"
   ]
  },
  {
   "cell_type": "code",
   "execution_count": 240,
   "id": "fc6502f3",
   "metadata": {
    "ExecuteTime": {
     "end_time": "2022-08-31T09:10:13.382648Z",
     "start_time": "2022-08-31T09:10:13.368684Z"
    }
   },
   "outputs": [
    {
     "name": "stdout",
     "output_type": "stream",
     "text": [
      "<class 'pandas.core.frame.DataFrame'>\n",
      "RangeIndex: 6774 entries, 0 to 6773\n",
      "Data columns (total 8 columns):\n",
      " #   Column                Non-Null Count  Dtype \n",
      "---  ------                --------------  ----- \n",
      " 0   mem_id                6774 non-null   object\n",
      " 1   MIN_mc_days           6774 non-null   int64 \n",
      " 2   MIN_count_diagnosis   6774 non-null   int64 \n",
      " 3   MIN_count_chronic     6774 non-null   int64 \n",
      " 4   MIN_count_medication  6774 non-null   int64 \n",
      " 5   MIN_count_repeatmed   6774 non-null   int64 \n",
      " 6   MIN_count_SymID       6774 non-null   int64 \n",
      " 7   MIN_age_yr            6774 non-null   int64 \n",
      "dtypes: int64(7), object(1)\n",
      "memory usage: 423.5+ KB\n"
     ]
    }
   ],
   "source": [
    "mem_agg4.info()"
   ]
  },
  {
   "cell_type": "markdown",
   "id": "ac0faeb4",
   "metadata": {},
   "source": [
    "#### Check Age"
   ]
  },
  {
   "cell_type": "code",
   "execution_count": 241,
   "id": "02edef78",
   "metadata": {
    "ExecuteTime": {
     "end_time": "2022-08-31T09:10:13.398606Z",
     "start_time": "2022-08-31T09:10:13.383644Z"
    }
   },
   "outputs": [],
   "source": [
    "dff_max_mean_age = mem_agg3[\"MAX_age_yr\"] - mem_agg2[\"AVE_age_yr\"]"
   ]
  },
  {
   "cell_type": "code",
   "execution_count": 242,
   "id": "c0652157",
   "metadata": {
    "ExecuteTime": {
     "end_time": "2022-08-31T09:10:13.413565Z",
     "start_time": "2022-08-31T09:10:13.399601Z"
    }
   },
   "outputs": [
    {
     "data": {
      "text/plain": [
       "0"
      ]
     },
     "execution_count": 242,
     "metadata": {},
     "output_type": "execute_result"
    }
   ],
   "source": [
    "sum(dff_max_mean_age>0)"
   ]
  },
  {
   "cell_type": "code",
   "execution_count": 243,
   "id": "32ac425f",
   "metadata": {
    "ExecuteTime": {
     "end_time": "2022-08-31T09:10:13.428525Z",
     "start_time": "2022-08-31T09:10:13.414562Z"
    }
   },
   "outputs": [],
   "source": [
    "dff_max_min_age = mem_agg3[\"MAX_age_yr\"] - mem_agg4[\"MIN_age_yr\"]"
   ]
  },
  {
   "cell_type": "code",
   "execution_count": 244,
   "id": "a8b8ff60",
   "metadata": {
    "ExecuteTime": {
     "end_time": "2022-08-31T09:10:13.458444Z",
     "start_time": "2022-08-31T09:10:13.450493Z"
    }
   },
   "outputs": [
    {
     "data": {
      "text/plain": [
       "0"
      ]
     },
     "execution_count": 244,
     "metadata": {},
     "output_type": "execute_result"
    }
   ],
   "source": [
    "sum(dff_max_min_age>0)"
   ]
  },
  {
   "cell_type": "code",
   "execution_count": 245,
   "id": "5f02ea3b",
   "metadata": {
    "ExecuteTime": {
     "end_time": "2022-08-31T09:10:13.474402Z",
     "start_time": "2022-08-31T09:10:13.459444Z"
    }
   },
   "outputs": [],
   "source": [
    "# Conclude: Age is consistet, can drop Min and Max\n",
    "mem_agg3.drop([\"MAX_age_yr\"], axis=1, inplace=True)\n",
    "mem_agg4.drop([\"MIN_age_yr\"], axis=1, inplace=True)\n"
   ]
  },
  {
   "cell_type": "code",
   "execution_count": 246,
   "id": "e735ff7f",
   "metadata": {
    "ExecuteTime": {
     "end_time": "2022-08-31T09:10:13.490359Z",
     "start_time": "2022-08-31T09:10:13.475399Z"
    }
   },
   "outputs": [],
   "source": [
    "mem_agg2.rename(columns = {'AVE_age_yr' : 'age_yr'}, inplace = True)"
   ]
  },
  {
   "cell_type": "code",
   "execution_count": 247,
   "id": "2f919c32",
   "metadata": {
    "ExecuteTime": {
     "end_time": "2022-08-31T09:10:13.505320Z",
     "start_time": "2022-08-31T09:10:13.491358Z"
    }
   },
   "outputs": [
    {
     "name": "stdout",
     "output_type": "stream",
     "text": [
      "<class 'pandas.core.frame.DataFrame'>\n",
      "RangeIndex: 6774 entries, 0 to 6773\n",
      "Data columns (total 8 columns):\n",
      " #   Column                Non-Null Count  Dtype \n",
      "---  ------                --------------  ----- \n",
      " 0   mem_id                6774 non-null   object\n",
      " 1   AVE_mc_days           6774 non-null   int64 \n",
      " 2   AVE_count_diagnosis   6774 non-null   int64 \n",
      " 3   AVE_count_chronic     6774 non-null   int64 \n",
      " 4   AVE_count_medication  6774 non-null   int64 \n",
      " 5   AVE_count_repeatmed   6774 non-null   int64 \n",
      " 6   AVE_count_SymID       6774 non-null   int64 \n",
      " 7   age_yr                6774 non-null   int64 \n",
      "dtypes: int64(7), object(1)\n",
      "memory usage: 423.5+ KB\n"
     ]
    }
   ],
   "source": [
    "mem_agg2.info()"
   ]
  },
  {
   "cell_type": "markdown",
   "id": "d17e8726",
   "metadata": {},
   "source": [
    "#### Get count for aggregation for Waived_Reason"
   ]
  },
  {
   "cell_type": "code",
   "execution_count": 248,
   "id": "f63ad58a",
   "metadata": {
    "ExecuteTime": {
     "end_time": "2022-08-31T09:10:13.614063Z",
     "start_time": "2022-08-31T09:10:13.506317Z"
    }
   },
   "outputs": [],
   "source": [
    "mem_agg5 = df_booking.groupby([\"mem_id\",'consult_waived_reason'])[\"booking_id\"].count()\n",
    "mem_agg5 = mem_agg5.reset_index()"
   ]
  },
  {
   "cell_type": "code",
   "execution_count": 249,
   "id": "40ebc4c7",
   "metadata": {
    "ExecuteTime": {
     "end_time": "2022-08-31T09:10:13.629033Z",
     "start_time": "2022-08-31T09:10:13.615027Z"
    }
   },
   "outputs": [],
   "source": [
    "mem_agg5.rename(columns = {'mem_id' : 'mem_id', \"consult_waived_reason\": \"consult_waived_reason\", \n",
    "                           'booking_id' : 'Reason_CountBooking'}, inplace = True)"
   ]
  },
  {
   "cell_type": "code",
   "execution_count": 250,
   "id": "eef3b428",
   "metadata": {
    "ExecuteTime": {
     "end_time": "2022-08-31T09:10:13.644946Z",
     "start_time": "2022-08-31T09:10:13.629986Z"
    }
   },
   "outputs": [
    {
     "data": {
      "text/html": [
       "<div>\n",
       "<style scoped>\n",
       "    .dataframe tbody tr th:only-of-type {\n",
       "        vertical-align: middle;\n",
       "    }\n",
       "\n",
       "    .dataframe tbody tr th {\n",
       "        vertical-align: top;\n",
       "    }\n",
       "\n",
       "    .dataframe thead th {\n",
       "        text-align: right;\n",
       "    }\n",
       "</style>\n",
       "<table border=\"1\" class=\"dataframe\">\n",
       "  <thead>\n",
       "    <tr style=\"text-align: right;\">\n",
       "      <th></th>\n",
       "      <th>mem_id</th>\n",
       "      <th>consult_waived_reason</th>\n",
       "      <th>Reason_CountBooking</th>\n",
       "    </tr>\n",
       "  </thead>\n",
       "  <tbody>\n",
       "    <tr>\n",
       "      <th>0</th>\n",
       "      <td>00059B0F-87F5-4D64-A5C8-441457913282</td>\n",
       "      <td>NA</td>\n",
       "      <td>1</td>\n",
       "    </tr>\n",
       "    <tr>\n",
       "      <th>1</th>\n",
       "      <td>00059B0F-87F5-4D64-A5C8-441457913282</td>\n",
       "      <td>FOLLOW UP</td>\n",
       "      <td>0</td>\n",
       "    </tr>\n",
       "    <tr>\n",
       "      <th>2</th>\n",
       "      <td>00059B0F-87F5-4D64-A5C8-441457913282</td>\n",
       "      <td>HEALTH SCREENING REVIEW</td>\n",
       "      <td>0</td>\n",
       "    </tr>\n",
       "    <tr>\n",
       "      <th>3</th>\n",
       "      <td>00059B0F-87F5-4D64-A5C8-441457913282</td>\n",
       "      <td>OTHERS</td>\n",
       "      <td>0</td>\n",
       "    </tr>\n",
       "    <tr>\n",
       "      <th>4</th>\n",
       "      <td>00059B0F-87F5-4D64-A5C8-441457913282</td>\n",
       "      <td>REFERRAL</td>\n",
       "      <td>0</td>\n",
       "    </tr>\n",
       "  </tbody>\n",
       "</table>\n",
       "</div>"
      ],
      "text/plain": [
       "                                 mem_id    consult_waived_reason  \\\n",
       "0  00059B0F-87F5-4D64-A5C8-441457913282                       NA   \n",
       "1  00059B0F-87F5-4D64-A5C8-441457913282                FOLLOW UP   \n",
       "2  00059B0F-87F5-4D64-A5C8-441457913282  HEALTH SCREENING REVIEW   \n",
       "3  00059B0F-87F5-4D64-A5C8-441457913282                   OTHERS   \n",
       "4  00059B0F-87F5-4D64-A5C8-441457913282                 REFERRAL   \n",
       "\n",
       "   Reason_CountBooking  \n",
       "0                    1  \n",
       "1                    0  \n",
       "2                    0  \n",
       "3                    0  \n",
       "4                    0  "
      ]
     },
     "execution_count": 250,
     "metadata": {},
     "output_type": "execute_result"
    }
   ],
   "source": [
    "mem_agg5.head()"
   ]
  },
  {
   "cell_type": "code",
   "execution_count": 251,
   "id": "6a816c64",
   "metadata": {
    "ExecuteTime": {
     "end_time": "2022-08-31T09:10:13.659942Z",
     "start_time": "2022-08-31T09:10:13.645943Z"
    }
   },
   "outputs": [
    {
     "name": "stdout",
     "output_type": "stream",
     "text": [
      "<class 'pandas.core.frame.DataFrame'>\n",
      "RangeIndex: 47418 entries, 0 to 47417\n",
      "Data columns (total 3 columns):\n",
      " #   Column                 Non-Null Count  Dtype   \n",
      "---  ------                 --------------  -----   \n",
      " 0   mem_id                 47418 non-null  object  \n",
      " 1   consult_waived_reason  47418 non-null  category\n",
      " 2   Reason_CountBooking    47418 non-null  int64   \n",
      "dtypes: category(1), int64(1), object(1)\n",
      "memory usage: 787.7+ KB\n"
     ]
    }
   ],
   "source": [
    "mem_agg5.info()"
   ]
  },
  {
   "cell_type": "code",
   "execution_count": 252,
   "id": "3a233ccc",
   "metadata": {
    "ExecuteTime": {
     "end_time": "2022-08-31T09:10:13.705819Z",
     "start_time": "2022-08-31T09:10:13.660904Z"
    }
   },
   "outputs": [],
   "source": [
    "mem_agg5_2 = pd.pivot_table(mem_agg5, index=\"mem_id\", columns='consult_waived_reason', \n",
    "                            values='Reason_CountBooking')"
   ]
  },
  {
   "cell_type": "code",
   "execution_count": 253,
   "id": "c024ab42",
   "metadata": {
    "ExecuteTime": {
     "end_time": "2022-08-31T09:10:13.721776Z",
     "start_time": "2022-08-31T09:10:13.706780Z"
    }
   },
   "outputs": [],
   "source": [
    "mem_agg5_2 = mem_agg5_2.reset_index()"
   ]
  },
  {
   "cell_type": "code",
   "execution_count": 254,
   "id": "ce8a39e8",
   "metadata": {
    "ExecuteTime": {
     "end_time": "2022-08-31T09:10:13.737733Z",
     "start_time": "2022-08-31T09:10:13.722738Z"
    }
   },
   "outputs": [
    {
     "data": {
      "text/html": [
       "<div>\n",
       "<style scoped>\n",
       "    .dataframe tbody tr th:only-of-type {\n",
       "        vertical-align: middle;\n",
       "    }\n",
       "\n",
       "    .dataframe tbody tr th {\n",
       "        vertical-align: top;\n",
       "    }\n",
       "\n",
       "    .dataframe thead th {\n",
       "        text-align: right;\n",
       "    }\n",
       "</style>\n",
       "<table border=\"1\" class=\"dataframe\">\n",
       "  <thead>\n",
       "    <tr style=\"text-align: right;\">\n",
       "      <th>consult_waived_reason</th>\n",
       "      <th>mem_id</th>\n",
       "      <th>NA</th>\n",
       "      <th>FOLLOW UP</th>\n",
       "      <th>HEALTH SCREENING REVIEW</th>\n",
       "      <th>OTHERS</th>\n",
       "      <th>REFERRAL</th>\n",
       "      <th>UNSUITABLE FOR TELECONSULT</th>\n",
       "      <th>WHITECOAT FAMILY</th>\n",
       "    </tr>\n",
       "  </thead>\n",
       "  <tbody>\n",
       "    <tr>\n",
       "      <th>0</th>\n",
       "      <td>00059B0F-87F5-4D64-A5C8-441457913282</td>\n",
       "      <td>1</td>\n",
       "      <td>0</td>\n",
       "      <td>0</td>\n",
       "      <td>0</td>\n",
       "      <td>0</td>\n",
       "      <td>0</td>\n",
       "      <td>0</td>\n",
       "    </tr>\n",
       "    <tr>\n",
       "      <th>1</th>\n",
       "      <td>000789AE-E161-4FDE-B9B0-9377AB383A1B</td>\n",
       "      <td>1</td>\n",
       "      <td>0</td>\n",
       "      <td>0</td>\n",
       "      <td>0</td>\n",
       "      <td>0</td>\n",
       "      <td>0</td>\n",
       "      <td>0</td>\n",
       "    </tr>\n",
       "    <tr>\n",
       "      <th>2</th>\n",
       "      <td>0008AEAF-0767-46A2-830F-C98A9B88FF34</td>\n",
       "      <td>1</td>\n",
       "      <td>0</td>\n",
       "      <td>0</td>\n",
       "      <td>0</td>\n",
       "      <td>0</td>\n",
       "      <td>0</td>\n",
       "      <td>0</td>\n",
       "    </tr>\n",
       "    <tr>\n",
       "      <th>3</th>\n",
       "      <td>000C3E29-2C23-4EB0-A1FB-837EC7EA9E59</td>\n",
       "      <td>1</td>\n",
       "      <td>0</td>\n",
       "      <td>0</td>\n",
       "      <td>0</td>\n",
       "      <td>0</td>\n",
       "      <td>0</td>\n",
       "      <td>0</td>\n",
       "    </tr>\n",
       "    <tr>\n",
       "      <th>4</th>\n",
       "      <td>001C4B02-1827-4F58-85E8-AB985B27496A</td>\n",
       "      <td>1</td>\n",
       "      <td>0</td>\n",
       "      <td>0</td>\n",
       "      <td>0</td>\n",
       "      <td>0</td>\n",
       "      <td>0</td>\n",
       "      <td>0</td>\n",
       "    </tr>\n",
       "    <tr>\n",
       "      <th>5</th>\n",
       "      <td>0023F228-597C-451A-9311-F200CC05CC31</td>\n",
       "      <td>1</td>\n",
       "      <td>0</td>\n",
       "      <td>0</td>\n",
       "      <td>0</td>\n",
       "      <td>0</td>\n",
       "      <td>0</td>\n",
       "      <td>0</td>\n",
       "    </tr>\n",
       "    <tr>\n",
       "      <th>6</th>\n",
       "      <td>0026B107-D521-4150-94E1-C488C9F6D97C</td>\n",
       "      <td>8</td>\n",
       "      <td>0</td>\n",
       "      <td>0</td>\n",
       "      <td>0</td>\n",
       "      <td>0</td>\n",
       "      <td>0</td>\n",
       "      <td>0</td>\n",
       "    </tr>\n",
       "    <tr>\n",
       "      <th>7</th>\n",
       "      <td>0031C903-CFC8-4F3E-8E25-82AC003720A1</td>\n",
       "      <td>1</td>\n",
       "      <td>0</td>\n",
       "      <td>0</td>\n",
       "      <td>0</td>\n",
       "      <td>0</td>\n",
       "      <td>0</td>\n",
       "      <td>0</td>\n",
       "    </tr>\n",
       "    <tr>\n",
       "      <th>8</th>\n",
       "      <td>00324C3A-C33F-4FFA-BA9E-47534B69D3A1</td>\n",
       "      <td>1</td>\n",
       "      <td>0</td>\n",
       "      <td>0</td>\n",
       "      <td>0</td>\n",
       "      <td>0</td>\n",
       "      <td>0</td>\n",
       "      <td>0</td>\n",
       "    </tr>\n",
       "    <tr>\n",
       "      <th>9</th>\n",
       "      <td>00362462-1425-40E5-8CDA-10A01493B36B</td>\n",
       "      <td>2</td>\n",
       "      <td>0</td>\n",
       "      <td>0</td>\n",
       "      <td>0</td>\n",
       "      <td>0</td>\n",
       "      <td>0</td>\n",
       "      <td>0</td>\n",
       "    </tr>\n",
       "  </tbody>\n",
       "</table>\n",
       "</div>"
      ],
      "text/plain": [
       "consult_waived_reason                                mem_id  NA  FOLLOW UP  \\\n",
       "0                      00059B0F-87F5-4D64-A5C8-441457913282   1          0   \n",
       "1                      000789AE-E161-4FDE-B9B0-9377AB383A1B   1          0   \n",
       "2                      0008AEAF-0767-46A2-830F-C98A9B88FF34   1          0   \n",
       "3                      000C3E29-2C23-4EB0-A1FB-837EC7EA9E59   1          0   \n",
       "4                      001C4B02-1827-4F58-85E8-AB985B27496A   1          0   \n",
       "5                      0023F228-597C-451A-9311-F200CC05CC31   1          0   \n",
       "6                      0026B107-D521-4150-94E1-C488C9F6D97C   8          0   \n",
       "7                      0031C903-CFC8-4F3E-8E25-82AC003720A1   1          0   \n",
       "8                      00324C3A-C33F-4FFA-BA9E-47534B69D3A1   1          0   \n",
       "9                      00362462-1425-40E5-8CDA-10A01493B36B   2          0   \n",
       "\n",
       "consult_waived_reason  HEALTH SCREENING REVIEW  OTHERS  REFERRAL  \\\n",
       "0                                            0       0         0   \n",
       "1                                            0       0         0   \n",
       "2                                            0       0         0   \n",
       "3                                            0       0         0   \n",
       "4                                            0       0         0   \n",
       "5                                            0       0         0   \n",
       "6                                            0       0         0   \n",
       "7                                            0       0         0   \n",
       "8                                            0       0         0   \n",
       "9                                            0       0         0   \n",
       "\n",
       "consult_waived_reason  UNSUITABLE FOR TELECONSULT  WHITECOAT FAMILY  \n",
       "0                                               0                 0  \n",
       "1                                               0                 0  \n",
       "2                                               0                 0  \n",
       "3                                               0                 0  \n",
       "4                                               0                 0  \n",
       "5                                               0                 0  \n",
       "6                                               0                 0  \n",
       "7                                               0                 0  \n",
       "8                                               0                 0  \n",
       "9                                               0                 0  "
      ]
     },
     "execution_count": 254,
     "metadata": {},
     "output_type": "execute_result"
    }
   ],
   "source": [
    "mem_agg5_2.head(10)"
   ]
  },
  {
   "cell_type": "code",
   "execution_count": 255,
   "id": "c2bf83f9",
   "metadata": {
    "ExecuteTime": {
     "end_time": "2022-08-31T09:10:13.752659Z",
     "start_time": "2022-08-31T09:10:13.738696Z"
    }
   },
   "outputs": [],
   "source": [
    "mem_agg5_2 = mem_agg5_2.rename(columns={col: 'WaviedCount_' + col\n",
    "                        for col in mem_agg5_2.columns if col not in ['mem_id']})"
   ]
  },
  {
   "cell_type": "code",
   "execution_count": 256,
   "id": "d535d395",
   "metadata": {
    "ExecuteTime": {
     "end_time": "2022-08-31T09:10:13.767619Z",
     "start_time": "2022-08-31T09:10:13.753655Z"
    }
   },
   "outputs": [
    {
     "name": "stdout",
     "output_type": "stream",
     "text": [
      "<class 'pandas.core.frame.DataFrame'>\n",
      "RangeIndex: 6774 entries, 0 to 6773\n",
      "Data columns (total 8 columns):\n",
      " #   Column                                  Non-Null Count  Dtype \n",
      "---  ------                                  --------------  ----- \n",
      " 0   mem_id                                  6774 non-null   object\n",
      " 1   WaviedCount_NA                          6774 non-null   int64 \n",
      " 2   WaviedCount_FOLLOW UP                   6774 non-null   int64 \n",
      " 3   WaviedCount_HEALTH SCREENING REVIEW     6774 non-null   int64 \n",
      " 4   WaviedCount_OTHERS                      6774 non-null   int64 \n",
      " 5   WaviedCount_REFERRAL                    6774 non-null   int64 \n",
      " 6   WaviedCount_UNSUITABLE FOR TELECONSULT  6774 non-null   int64 \n",
      " 7   WaviedCount_WHITECOAT FAMILY            6774 non-null   int64 \n",
      "dtypes: int64(7), object(1)\n",
      "memory usage: 423.5+ KB\n"
     ]
    }
   ],
   "source": [
    "mem_agg5_2.info()"
   ]
  },
  {
   "cell_type": "code",
   "execution_count": 257,
   "id": "660a8b6b",
   "metadata": {
    "ExecuteTime": {
     "end_time": "2022-08-31T09:10:13.783577Z",
     "start_time": "2022-08-31T09:10:13.768615Z"
    }
   },
   "outputs": [],
   "source": [
    "mem_agg5_2.columns = mem_agg5_2.columns.str.replace(' ','_')"
   ]
  },
  {
   "cell_type": "code",
   "execution_count": 258,
   "id": "00fbc8f6",
   "metadata": {
    "ExecuteTime": {
     "end_time": "2022-08-31T09:10:13.799534Z",
     "start_time": "2022-08-31T09:10:13.784572Z"
    }
   },
   "outputs": [
    {
     "name": "stdout",
     "output_type": "stream",
     "text": [
      "<class 'pandas.core.frame.DataFrame'>\n",
      "RangeIndex: 6774 entries, 0 to 6773\n",
      "Data columns (total 8 columns):\n",
      " #   Column                                  Non-Null Count  Dtype \n",
      "---  ------                                  --------------  ----- \n",
      " 0   mem_id                                  6774 non-null   object\n",
      " 1   WaviedCount_NA                          6774 non-null   int64 \n",
      " 2   WaviedCount_FOLLOW_UP                   6774 non-null   int64 \n",
      " 3   WaviedCount_HEALTH_SCREENING_REVIEW     6774 non-null   int64 \n",
      " 4   WaviedCount_OTHERS                      6774 non-null   int64 \n",
      " 5   WaviedCount_REFERRAL                    6774 non-null   int64 \n",
      " 6   WaviedCount_UNSUITABLE_FOR_TELECONSULT  6774 non-null   int64 \n",
      " 7   WaviedCount_WHITECOAT_FAMILY            6774 non-null   int64 \n",
      "dtypes: int64(7), object(1)\n",
      "memory usage: 423.5+ KB\n"
     ]
    }
   ],
   "source": [
    "mem_agg5_2.info()"
   ]
  },
  {
   "cell_type": "code",
   "execution_count": 259,
   "id": "e8663de8",
   "metadata": {
    "ExecuteTime": {
     "end_time": "2022-08-31T09:10:13.814493Z",
     "start_time": "2022-08-31T09:10:13.800530Z"
    }
   },
   "outputs": [
    {
     "data": {
      "text/plain": [
       "Index(['mem_id', 'WaviedCount_NA', 'WaviedCount_FOLLOW_UP',\n",
       "       'WaviedCount_HEALTH_SCREENING_REVIEW', 'WaviedCount_OTHERS',\n",
       "       'WaviedCount_REFERRAL', 'WaviedCount_UNSUITABLE_FOR_TELECONSULT',\n",
       "       'WaviedCount_WHITECOAT_FAMILY'],\n",
       "      dtype='object', name='consult_waived_reason')"
      ]
     },
     "execution_count": 259,
     "metadata": {},
     "output_type": "execute_result"
    }
   ],
   "source": [
    "mem_agg5_2.columns"
   ]
  },
  {
   "cell_type": "markdown",
   "id": "60fa18b6",
   "metadata": {},
   "source": [
    "#### Get count for aggregation for ConsultHr"
   ]
  },
  {
   "cell_type": "code",
   "execution_count": 260,
   "id": "f2411672",
   "metadata": {
    "ExecuteTime": {
     "end_time": "2022-08-31T09:10:14.090790Z",
     "start_time": "2022-08-31T09:10:13.815490Z"
    }
   },
   "outputs": [],
   "source": [
    "mem_agg6 = df_booking.groupby([\"mem_id\",'consult_hr'])[\"booking_id\"].count()\n",
    "mem_agg6 = mem_agg6.reset_index()"
   ]
  },
  {
   "cell_type": "code",
   "execution_count": 261,
   "id": "1b65fcd9",
   "metadata": {
    "ExecuteTime": {
     "end_time": "2022-08-31T09:10:14.105715Z",
     "start_time": "2022-08-31T09:10:14.091752Z"
    }
   },
   "outputs": [],
   "source": [
    "mem_agg6.rename(columns = {'mem_id' : 'mem_id', \"consult_hr\": \"consult_hr\", \n",
    "                           'booking_id' : 'ConsultHr_CountBooking'}, inplace = True)"
   ]
  },
  {
   "cell_type": "code",
   "execution_count": 262,
   "id": "a9422784",
   "metadata": {
    "ExecuteTime": {
     "end_time": "2022-08-31T09:10:14.288231Z",
     "start_time": "2022-08-31T09:10:14.106712Z"
    }
   },
   "outputs": [],
   "source": [
    "mem_agg6_2 = pd.pivot_table(mem_agg6, index=\"mem_id\", columns='consult_hr', \n",
    "                            values='ConsultHr_CountBooking')"
   ]
  },
  {
   "cell_type": "code",
   "execution_count": 263,
   "id": "4069fccb",
   "metadata": {
    "ExecuteTime": {
     "end_time": "2022-08-31T09:10:14.303188Z",
     "start_time": "2022-08-31T09:10:14.289224Z"
    }
   },
   "outputs": [],
   "source": [
    "mem_agg6_2 = mem_agg6_2.reset_index()"
   ]
  },
  {
   "cell_type": "code",
   "execution_count": 264,
   "id": "a9181dec",
   "metadata": {
    "ExecuteTime": {
     "end_time": "2022-08-31T09:10:14.319146Z",
     "start_time": "2022-08-31T09:10:14.304184Z"
    }
   },
   "outputs": [
    {
     "data": {
      "text/html": [
       "<div>\n",
       "<style scoped>\n",
       "    .dataframe tbody tr th:only-of-type {\n",
       "        vertical-align: middle;\n",
       "    }\n",
       "\n",
       "    .dataframe tbody tr th {\n",
       "        vertical-align: top;\n",
       "    }\n",
       "\n",
       "    .dataframe thead th {\n",
       "        text-align: right;\n",
       "    }\n",
       "</style>\n",
       "<table border=\"1\" class=\"dataframe\">\n",
       "  <thead>\n",
       "    <tr style=\"text-align: right;\">\n",
       "      <th>consult_hr</th>\n",
       "      <th>mem_id</th>\n",
       "      <th>0</th>\n",
       "      <th>7</th>\n",
       "      <th>8</th>\n",
       "      <th>9</th>\n",
       "      <th>10</th>\n",
       "      <th>11</th>\n",
       "      <th>12</th>\n",
       "      <th>13</th>\n",
       "      <th>14</th>\n",
       "      <th>15</th>\n",
       "      <th>16</th>\n",
       "      <th>17</th>\n",
       "      <th>18</th>\n",
       "      <th>19</th>\n",
       "      <th>20</th>\n",
       "      <th>21</th>\n",
       "      <th>22</th>\n",
       "      <th>23</th>\n",
       "    </tr>\n",
       "  </thead>\n",
       "  <tbody>\n",
       "    <tr>\n",
       "      <th>0</th>\n",
       "      <td>00059B0F-87F5-4D64-A5C8-441457913282</td>\n",
       "      <td>0</td>\n",
       "      <td>0</td>\n",
       "      <td>0</td>\n",
       "      <td>0</td>\n",
       "      <td>0</td>\n",
       "      <td>1</td>\n",
       "      <td>0</td>\n",
       "      <td>0</td>\n",
       "      <td>0</td>\n",
       "      <td>0</td>\n",
       "      <td>0</td>\n",
       "      <td>0</td>\n",
       "      <td>0</td>\n",
       "      <td>0</td>\n",
       "      <td>0</td>\n",
       "      <td>0</td>\n",
       "      <td>0</td>\n",
       "      <td>0</td>\n",
       "    </tr>\n",
       "    <tr>\n",
       "      <th>1</th>\n",
       "      <td>000789AE-E161-4FDE-B9B0-9377AB383A1B</td>\n",
       "      <td>0</td>\n",
       "      <td>0</td>\n",
       "      <td>0</td>\n",
       "      <td>0</td>\n",
       "      <td>0</td>\n",
       "      <td>0</td>\n",
       "      <td>0</td>\n",
       "      <td>0</td>\n",
       "      <td>0</td>\n",
       "      <td>0</td>\n",
       "      <td>0</td>\n",
       "      <td>0</td>\n",
       "      <td>0</td>\n",
       "      <td>0</td>\n",
       "      <td>0</td>\n",
       "      <td>0</td>\n",
       "      <td>1</td>\n",
       "      <td>0</td>\n",
       "    </tr>\n",
       "    <tr>\n",
       "      <th>2</th>\n",
       "      <td>0008AEAF-0767-46A2-830F-C98A9B88FF34</td>\n",
       "      <td>0</td>\n",
       "      <td>0</td>\n",
       "      <td>0</td>\n",
       "      <td>0</td>\n",
       "      <td>0</td>\n",
       "      <td>0</td>\n",
       "      <td>0</td>\n",
       "      <td>0</td>\n",
       "      <td>0</td>\n",
       "      <td>0</td>\n",
       "      <td>0</td>\n",
       "      <td>0</td>\n",
       "      <td>1</td>\n",
       "      <td>0</td>\n",
       "      <td>0</td>\n",
       "      <td>0</td>\n",
       "      <td>0</td>\n",
       "      <td>0</td>\n",
       "    </tr>\n",
       "    <tr>\n",
       "      <th>3</th>\n",
       "      <td>000C3E29-2C23-4EB0-A1FB-837EC7EA9E59</td>\n",
       "      <td>0</td>\n",
       "      <td>0</td>\n",
       "      <td>0</td>\n",
       "      <td>0</td>\n",
       "      <td>0</td>\n",
       "      <td>0</td>\n",
       "      <td>0</td>\n",
       "      <td>0</td>\n",
       "      <td>1</td>\n",
       "      <td>0</td>\n",
       "      <td>0</td>\n",
       "      <td>0</td>\n",
       "      <td>0</td>\n",
       "      <td>0</td>\n",
       "      <td>0</td>\n",
       "      <td>0</td>\n",
       "      <td>0</td>\n",
       "      <td>0</td>\n",
       "    </tr>\n",
       "    <tr>\n",
       "      <th>4</th>\n",
       "      <td>001C4B02-1827-4F58-85E8-AB985B27496A</td>\n",
       "      <td>0</td>\n",
       "      <td>0</td>\n",
       "      <td>0</td>\n",
       "      <td>1</td>\n",
       "      <td>0</td>\n",
       "      <td>0</td>\n",
       "      <td>0</td>\n",
       "      <td>0</td>\n",
       "      <td>0</td>\n",
       "      <td>0</td>\n",
       "      <td>0</td>\n",
       "      <td>0</td>\n",
       "      <td>0</td>\n",
       "      <td>0</td>\n",
       "      <td>0</td>\n",
       "      <td>0</td>\n",
       "      <td>0</td>\n",
       "      <td>0</td>\n",
       "    </tr>\n",
       "  </tbody>\n",
       "</table>\n",
       "</div>"
      ],
      "text/plain": [
       "consult_hr                                mem_id  0  7  8  9  10  11  12  13  \\\n",
       "0           00059B0F-87F5-4D64-A5C8-441457913282  0  0  0  0   0   1   0   0   \n",
       "1           000789AE-E161-4FDE-B9B0-9377AB383A1B  0  0  0  0   0   0   0   0   \n",
       "2           0008AEAF-0767-46A2-830F-C98A9B88FF34  0  0  0  0   0   0   0   0   \n",
       "3           000C3E29-2C23-4EB0-A1FB-837EC7EA9E59  0  0  0  0   0   0   0   0   \n",
       "4           001C4B02-1827-4F58-85E8-AB985B27496A  0  0  0  1   0   0   0   0   \n",
       "\n",
       "consult_hr  14  15  16  17  18  19  20  21  22  23  \n",
       "0            0   0   0   0   0   0   0   0   0   0  \n",
       "1            0   0   0   0   0   0   0   0   1   0  \n",
       "2            0   0   0   0   1   0   0   0   0   0  \n",
       "3            1   0   0   0   0   0   0   0   0   0  \n",
       "4            0   0   0   0   0   0   0   0   0   0  "
      ]
     },
     "execution_count": 264,
     "metadata": {},
     "output_type": "execute_result"
    }
   ],
   "source": [
    "mem_agg6_2.head()"
   ]
  },
  {
   "cell_type": "code",
   "execution_count": 265,
   "id": "d19c9698",
   "metadata": {
    "ExecuteTime": {
     "end_time": "2022-08-31T09:10:14.334111Z",
     "start_time": "2022-08-31T09:10:14.320142Z"
    }
   },
   "outputs": [],
   "source": [
    "mem_agg6_2 = mem_agg6_2.rename(columns={col: 'ConsultHr_' + str(col)\n",
    "                        for col in mem_agg6_2.columns if col not in ['mem_id']})"
   ]
  },
  {
   "cell_type": "code",
   "execution_count": 266,
   "id": "1e283bfd",
   "metadata": {
    "ExecuteTime": {
     "end_time": "2022-08-31T09:10:14.350066Z",
     "start_time": "2022-08-31T09:10:14.336108Z"
    }
   },
   "outputs": [
    {
     "name": "stdout",
     "output_type": "stream",
     "text": [
      "<class 'pandas.core.frame.DataFrame'>\n",
      "RangeIndex: 6774 entries, 0 to 6773\n",
      "Data columns (total 19 columns):\n",
      " #   Column        Non-Null Count  Dtype \n",
      "---  ------        --------------  ----- \n",
      " 0   mem_id        6774 non-null   object\n",
      " 1   ConsultHr_0   6774 non-null   int64 \n",
      " 2   ConsultHr_7   6774 non-null   int64 \n",
      " 3   ConsultHr_8   6774 non-null   int64 \n",
      " 4   ConsultHr_9   6774 non-null   int64 \n",
      " 5   ConsultHr_10  6774 non-null   int64 \n",
      " 6   ConsultHr_11  6774 non-null   int64 \n",
      " 7   ConsultHr_12  6774 non-null   int64 \n",
      " 8   ConsultHr_13  6774 non-null   int64 \n",
      " 9   ConsultHr_14  6774 non-null   int64 \n",
      " 10  ConsultHr_15  6774 non-null   int64 \n",
      " 11  ConsultHr_16  6774 non-null   int64 \n",
      " 12  ConsultHr_17  6774 non-null   int64 \n",
      " 13  ConsultHr_18  6774 non-null   int64 \n",
      " 14  ConsultHr_19  6774 non-null   int64 \n",
      " 15  ConsultHr_20  6774 non-null   int64 \n",
      " 16  ConsultHr_21  6774 non-null   int64 \n",
      " 17  ConsultHr_22  6774 non-null   int64 \n",
      " 18  ConsultHr_23  6774 non-null   int64 \n",
      "dtypes: int64(18), object(1)\n",
      "memory usage: 1005.6+ KB\n"
     ]
    }
   ],
   "source": [
    "mem_agg6_2.info()"
   ]
  },
  {
   "cell_type": "code",
   "execution_count": 267,
   "id": "3097f4a5",
   "metadata": {
    "ExecuteTime": {
     "end_time": "2022-08-31T09:10:14.365143Z",
     "start_time": "2022-08-31T09:10:14.351061Z"
    }
   },
   "outputs": [
    {
     "data": {
      "text/plain": [
       "Index(['mem_id', 'ConsultHr_0', 'ConsultHr_7', 'ConsultHr_8', 'ConsultHr_9',\n",
       "       'ConsultHr_10', 'ConsultHr_11', 'ConsultHr_12', 'ConsultHr_13',\n",
       "       'ConsultHr_14', 'ConsultHr_15', 'ConsultHr_16', 'ConsultHr_17',\n",
       "       'ConsultHr_18', 'ConsultHr_19', 'ConsultHr_20', 'ConsultHr_21',\n",
       "       'ConsultHr_22', 'ConsultHr_23'],\n",
       "      dtype='object', name='consult_hr')"
      ]
     },
     "execution_count": 267,
     "metadata": {},
     "output_type": "execute_result"
    }
   ],
   "source": [
    "mem_agg6_2.columns"
   ]
  },
  {
   "cell_type": "markdown",
   "id": "849bbe99",
   "metadata": {},
   "source": [
    "#### Get sum for aggregation for Dummy Variable"
   ]
  },
  {
   "cell_type": "code",
   "execution_count": 268,
   "id": "99c461df",
   "metadata": {
    "ExecuteTime": {
     "end_time": "2022-08-31T09:10:14.380118Z",
     "start_time": "2022-08-31T09:10:14.366106Z"
    }
   },
   "outputs": [],
   "source": [
    "filter_col_diag = [col for col in df_booking if col.startswith('diag_')]"
   ]
  },
  {
   "cell_type": "code",
   "execution_count": 269,
   "id": "bf43d346",
   "metadata": {
    "ExecuteTime": {
     "end_time": "2022-08-31T09:10:14.396026Z",
     "start_time": "2022-08-31T09:10:14.382062Z"
    }
   },
   "outputs": [],
   "source": [
    "filter_col_chronic = [col for col in df_booking if col.startswith('chronic_')]"
   ]
  },
  {
   "cell_type": "code",
   "execution_count": 270,
   "id": "ef5a89b7",
   "metadata": {
    "ExecuteTime": {
     "end_time": "2022-08-31T09:10:14.411984Z",
     "start_time": "2022-08-31T09:10:14.397025Z"
    }
   },
   "outputs": [],
   "source": [
    "filter_col_symp = [col for col in df_booking if col.startswith('symp_')]"
   ]
  },
  {
   "cell_type": "code",
   "execution_count": 271,
   "id": "da8eff33",
   "metadata": {
    "ExecuteTime": {
     "end_time": "2022-08-31T09:10:14.426943Z",
     "start_time": "2022-08-31T09:10:14.412981Z"
    },
    "scrolled": true
   },
   "outputs": [],
   "source": [
    "fitler_col_other_bool =  [\"is_mc_issued\", \"is_referral_letter_issued\", \"Target_chronic\"]"
   ]
  },
  {
   "cell_type": "code",
   "execution_count": 272,
   "id": "692e052b",
   "metadata": {
    "ExecuteTime": {
     "end_time": "2022-08-31T09:10:14.441903Z",
     "start_time": "2022-08-31T09:10:14.427940Z"
    }
   },
   "outputs": [],
   "source": [
    "select_list_dummy = fitler_col_other_bool + filter_col_diag + filter_col_chronic + filter_col_symp"
   ]
  },
  {
   "cell_type": "code",
   "execution_count": 273,
   "id": "d054648a",
   "metadata": {
    "ExecuteTime": {
     "end_time": "2022-08-31T09:10:15.966861Z",
     "start_time": "2022-08-31T09:10:14.442900Z"
    }
   },
   "outputs": [],
   "source": [
    "# must change to numeric to do sum\n",
    "for col in select_list_dummy:\n",
    "    df_booking[col] = df_booking[col].astype(\"int\")"
   ]
  },
  {
   "cell_type": "code",
   "execution_count": 274,
   "id": "be3cb901",
   "metadata": {
    "ExecuteTime": {
     "end_time": "2022-08-31T09:10:16.135389Z",
     "start_time": "2022-08-31T09:10:15.967825Z"
    }
   },
   "outputs": [],
   "source": [
    "mem_agg7 = df_booking.groupby([\"mem_id\"])[select_list_dummy].sum()\n",
    "mem_agg7 = mem_agg7.reset_index()"
   ]
  },
  {
   "cell_type": "code",
   "execution_count": 275,
   "id": "56bb64a5",
   "metadata": {
    "ExecuteTime": {
     "end_time": "2022-08-31T09:10:16.150337Z",
     "start_time": "2022-08-31T09:10:16.136375Z"
    }
   },
   "outputs": [],
   "source": [
    "mem_agg7 = mem_agg7.rename(columns={col: 'CountVisit_' + col\n",
    "                        for col in mem_agg7.columns if col not in ['mem_id']})"
   ]
  },
  {
   "cell_type": "code",
   "execution_count": 276,
   "id": "71f4eeb2",
   "metadata": {
    "ExecuteTime": {
     "end_time": "2022-08-31T09:10:16.165297Z",
     "start_time": "2022-08-31T09:10:16.151336Z"
    }
   },
   "outputs": [],
   "source": [
    "mem_agg7.columns = mem_agg7.columns.str.replace(' ','_')"
   ]
  },
  {
   "cell_type": "markdown",
   "id": "5b88ae9b",
   "metadata": {},
   "source": [
    "Reminder: The count of ChronicVisit, e.g. CountVisit_Target_chronic, refers to visits with Chronic status marked, it idoes not related to Chronic diagnostic the visit."
   ]
  },
  {
   "cell_type": "markdown",
   "id": "c56ade0b",
   "metadata": {},
   "source": [
    "#### Get first dates related aggregation"
   ]
  },
  {
   "cell_type": "code",
   "execution_count": 277,
   "id": "e10b3b89",
   "metadata": {
    "ExecuteTime": {
     "end_time": "2022-08-31T09:10:16.180257Z",
     "start_time": "2022-08-31T09:10:16.166293Z"
    }
   },
   "outputs": [],
   "source": [
    "book_firstdate = df_booking.groupby([\"mem_id\"])[\"booking_timestamp\"].min()\n",
    "book_firstdate = book_firstdate.reset_index()"
   ]
  },
  {
   "cell_type": "code",
   "execution_count": 278,
   "id": "17b7c81e",
   "metadata": {
    "ExecuteTime": {
     "end_time": "2022-08-31T09:10:16.195217Z",
     "start_time": "2022-08-31T09:10:16.181254Z"
    }
   },
   "outputs": [],
   "source": [
    "book_firstdate.rename(columns = {'mem_id' : 'mem_id', 'booking_timestamp' : 'FirstBookDate'}, inplace = True)"
   ]
  },
  {
   "cell_type": "code",
   "execution_count": 279,
   "id": "19e3fcfd",
   "metadata": {
    "ExecuteTime": {
     "end_time": "2022-08-31T09:10:16.211174Z",
     "start_time": "2022-08-31T09:10:16.196215Z"
    }
   },
   "outputs": [
    {
     "name": "stdout",
     "output_type": "stream",
     "text": [
      "<class 'pandas.core.frame.DataFrame'>\n",
      "RangeIndex: 6774 entries, 0 to 6773\n",
      "Data columns (total 2 columns):\n",
      " #   Column         Non-Null Count  Dtype         \n",
      "---  ------         --------------  -----         \n",
      " 0   mem_id         6774 non-null   object        \n",
      " 1   FirstBookDate  6774 non-null   datetime64[ns]\n",
      "dtypes: datetime64[ns](1), object(1)\n",
      "memory usage: 106.0+ KB\n"
     ]
    }
   ],
   "source": [
    "book_firstdate.info()"
   ]
  },
  {
   "cell_type": "code",
   "execution_count": 280,
   "id": "4fcdc19b",
   "metadata": {
    "ExecuteTime": {
     "end_time": "2022-08-31T09:10:16.226165Z",
     "start_time": "2022-08-31T09:10:16.212172Z"
    }
   },
   "outputs": [
    {
     "data": {
      "text/html": [
       "<div>\n",
       "<style scoped>\n",
       "    .dataframe tbody tr th:only-of-type {\n",
       "        vertical-align: middle;\n",
       "    }\n",
       "\n",
       "    .dataframe tbody tr th {\n",
       "        vertical-align: top;\n",
       "    }\n",
       "\n",
       "    .dataframe thead th {\n",
       "        text-align: right;\n",
       "    }\n",
       "</style>\n",
       "<table border=\"1\" class=\"dataframe\">\n",
       "  <thead>\n",
       "    <tr style=\"text-align: right;\">\n",
       "      <th></th>\n",
       "      <th>mem_id</th>\n",
       "      <th>FirstBookDate</th>\n",
       "    </tr>\n",
       "  </thead>\n",
       "  <tbody>\n",
       "    <tr>\n",
       "      <th>0</th>\n",
       "      <td>00059B0F-87F5-4D64-A5C8-441457913282</td>\n",
       "      <td>2022-01-10 11:55:10</td>\n",
       "    </tr>\n",
       "    <tr>\n",
       "      <th>1</th>\n",
       "      <td>000789AE-E161-4FDE-B9B0-9377AB383A1B</td>\n",
       "      <td>2022-01-06 22:50:03</td>\n",
       "    </tr>\n",
       "    <tr>\n",
       "      <th>2</th>\n",
       "      <td>0008AEAF-0767-46A2-830F-C98A9B88FF34</td>\n",
       "      <td>2022-01-29 18:42:48</td>\n",
       "    </tr>\n",
       "    <tr>\n",
       "      <th>3</th>\n",
       "      <td>000C3E29-2C23-4EB0-A1FB-837EC7EA9E59</td>\n",
       "      <td>2022-01-03 14:07:34</td>\n",
       "    </tr>\n",
       "    <tr>\n",
       "      <th>4</th>\n",
       "      <td>001C4B02-1827-4F58-85E8-AB985B27496A</td>\n",
       "      <td>2022-01-15 09:32:59</td>\n",
       "    </tr>\n",
       "  </tbody>\n",
       "</table>\n",
       "</div>"
      ],
      "text/plain": [
       "                                 mem_id       FirstBookDate\n",
       "0  00059B0F-87F5-4D64-A5C8-441457913282 2022-01-10 11:55:10\n",
       "1  000789AE-E161-4FDE-B9B0-9377AB383A1B 2022-01-06 22:50:03\n",
       "2  0008AEAF-0767-46A2-830F-C98A9B88FF34 2022-01-29 18:42:48\n",
       "3  000C3E29-2C23-4EB0-A1FB-837EC7EA9E59 2022-01-03 14:07:34\n",
       "4  001C4B02-1827-4F58-85E8-AB985B27496A 2022-01-15 09:32:59"
      ]
     },
     "execution_count": 280,
     "metadata": {},
     "output_type": "execute_result"
    }
   ],
   "source": [
    "book_firstdate.head()"
   ]
  },
  {
   "cell_type": "markdown",
   "id": "6e8f03e5",
   "metadata": {},
   "source": [
    "#### Get last dates related aggregation"
   ]
  },
  {
   "cell_type": "code",
   "execution_count": 281,
   "id": "683d4120",
   "metadata": {
    "ExecuteTime": {
     "end_time": "2022-08-31T09:10:16.241094Z",
     "start_time": "2022-08-31T09:10:16.227131Z"
    }
   },
   "outputs": [],
   "source": [
    "book_lastdate = df_booking.groupby([\"mem_id\"])[\"booking_timestamp\"].max()\n",
    "book_lastdate = book_lastdate.reset_index()"
   ]
  },
  {
   "cell_type": "code",
   "execution_count": 282,
   "id": "b5ee95c7",
   "metadata": {
    "ExecuteTime": {
     "end_time": "2022-08-31T09:10:16.256054Z",
     "start_time": "2022-08-31T09:10:16.242093Z"
    }
   },
   "outputs": [],
   "source": [
    "book_lastdate.rename(columns = {'mem_id' : 'mem_id', 'booking_timestamp' : 'LastBookDate'}, inplace = True)"
   ]
  },
  {
   "cell_type": "markdown",
   "id": "0d88974c",
   "metadata": {},
   "source": [
    "#### Get Mode for aggregation Consult Waived Reason"
   ]
  },
  {
   "cell_type": "code",
   "execution_count": 283,
   "id": "50622221",
   "metadata": {
    "ExecuteTime": {
     "end_time": "2022-08-31T09:10:18.895999Z",
     "start_time": "2022-08-31T09:10:16.257053Z"
    }
   },
   "outputs": [],
   "source": [
    "mem_agg8 = df_booking.groupby([\"mem_id\"])[\"consult_waived_reason\"].apply(lambda x: x.value_counts().index[0])\n",
    "mem_agg8 = mem_agg8.reset_index() "
   ]
  },
  {
   "cell_type": "code",
   "execution_count": 284,
   "id": "fecb7631",
   "metadata": {
    "ExecuteTime": {
     "end_time": "2022-08-31T09:10:18.910959Z",
     "start_time": "2022-08-31T09:10:18.896997Z"
    }
   },
   "outputs": [],
   "source": [
    "mem_agg8.rename(columns = {'mem_id' : 'mem_id', 'consult_waived_reason' : 'Mode_consult_waived_reason'}, inplace = True)"
   ]
  },
  {
   "cell_type": "code",
   "execution_count": 285,
   "id": "2f7a3f51",
   "metadata": {
    "ExecuteTime": {
     "end_time": "2022-08-31T09:10:18.925918Z",
     "start_time": "2022-08-31T09:10:18.911957Z"
    }
   },
   "outputs": [
    {
     "data": {
      "text/plain": [
       "NA                            6547\n",
       "HEALTH SCREENING REVIEW        166\n",
       "UNSUITABLE FOR TELECONSULT      29\n",
       "FOLLOW UP                       17\n",
       "OTHERS                           8\n",
       "WHITECOAT FAMILY                 7\n",
       "Name: Mode_consult_waived_reason, dtype: int64"
      ]
     },
     "execution_count": 285,
     "metadata": {},
     "output_type": "execute_result"
    }
   ],
   "source": [
    "mem_agg8[\"Mode_consult_waived_reason\"].value_counts()"
   ]
  },
  {
   "cell_type": "markdown",
   "id": "f3a93245",
   "metadata": {},
   "source": [
    "#### Get Mode for aggregation Consultation Hour"
   ]
  },
  {
   "cell_type": "code",
   "execution_count": 286,
   "id": "5da2ae94",
   "metadata": {
    "ExecuteTime": {
     "end_time": "2022-08-31T09:10:21.835890Z",
     "start_time": "2022-08-31T09:10:18.926931Z"
    }
   },
   "outputs": [],
   "source": [
    "mem_agg9 = df_booking.groupby([\"mem_id\"])[\"consult_hr\"].apply(lambda x: x.value_counts().index[0])\n",
    "mem_agg9 = mem_agg9.reset_index()"
   ]
  },
  {
   "cell_type": "code",
   "execution_count": 287,
   "id": "c901ca7b",
   "metadata": {
    "ExecuteTime": {
     "end_time": "2022-08-31T09:10:21.850816Z",
     "start_time": "2022-08-31T09:10:21.836854Z"
    }
   },
   "outputs": [],
   "source": [
    "mem_agg9.rename(columns = {'mem_id' : 'mem_id', 'consult_hr' : 'Mode_consult_hr'}, inplace = True)"
   ]
  },
  {
   "cell_type": "markdown",
   "id": "86197891",
   "metadata": {},
   "source": [
    "#### Get gender for member"
   ]
  },
  {
   "cell_type": "code",
   "execution_count": 288,
   "id": "42bc3b3f",
   "metadata": {
    "ExecuteTime": {
     "end_time": "2022-08-31T09:10:24.516724Z",
     "start_time": "2022-08-31T09:10:21.851815Z"
    }
   },
   "outputs": [],
   "source": [
    "mem_gender = df_booking.groupby([\"mem_id\"])[\"gender\"].apply(lambda x: x.value_counts().index[0])\n",
    "mem_gender = mem_gender.reset_index() "
   ]
  },
  {
   "cell_type": "code",
   "execution_count": 289,
   "id": "60536ef9",
   "metadata": {
    "ExecuteTime": {
     "end_time": "2022-08-31T09:10:24.532675Z",
     "start_time": "2022-08-31T09:10:24.517689Z"
    }
   },
   "outputs": [
    {
     "data": {
      "text/plain": [
       "Female     4130\n",
       "Male       2159\n",
       "Unknown     485\n",
       "Name: gender, dtype: int64"
      ]
     },
     "execution_count": 289,
     "metadata": {},
     "output_type": "execute_result"
    }
   ],
   "source": [
    "mem_gender[\"gender\"].value_counts()"
   ]
  },
  {
   "cell_type": "markdown",
   "id": "89fbd863",
   "metadata": {},
   "source": [
    "### Merge Aggregation"
   ]
  },
  {
   "cell_type": "markdown",
   "id": "c6a61dac",
   "metadata": {},
   "source": [
    "* mem_agg1 : Mem_CountBooking\n",
    "* mem_agg2 : 'mem_id', 'AVE_mc_days', 'AVE_count_diagnosis', 'AVE_count_chronic',\n",
    "       'AVE_count_medication', 'AVE_count_repeatmed', 'AVE_count_SymID',\n",
    "       'age_yr'\n",
    "* mem_agg3 : 'mem_id', 'MIN_mc_days', 'MIN_count_diagnosis', 'MIN_count_chronic',\n",
    "       'MIN_count_medication', 'MIN_count_repeatmed', 'MIN_count_SymID'\n",
    "* mem_agg4 : 'mem_id', 'MIN_mc_days', 'MIN_count_diagnosis', 'MIN_count_chronic',\n",
    "       'MIN_count_medication', 'MIN_count_repeatmed', 'MIN_count_SymID'\n",
    "* mem_agg5_2 : 'WaviedCount_NA','WaviedCount_FOLLOW_UP','WaviedCount_HEALTH_SCREENING_REVIEW',\n",
    "        'WaviedCount_OTHERS','WaviedCount_REFERRAL','WaviedCount_UNSUITABLE_FOR_TELECONSULT','WaviedCount_WHITECOAT_FAMILY'\n",
    "* mem_agg6_2: 'ConsultHr_0','ConsultHr_8','ConsultHr_9','ConsultHr_10','ConsultHr_11',\n",
    "         'ConsultHr_12','ConsultHr_13','ConsultHr_14','ConsultHr_15','ConsultHr_16',\n",
    "         'ConsultHr_17','ConsultHr_18','ConsultHr_19','ConsultHr_20','ConsultHr_21',\n",
    "         'ConsultHr_22','ConsultHr_23'     \n",
    "* mem_agg7: 'CountVisit_is_mc_issued',\n",
    "         'CountVisit_is_referral_letter_issued',\n",
    "         'CountVisit_diag_H57',\n",
    "         'CountVisit_diag_M23',\n",
    "         'CountVisit_diag_T88',\n",
    "         'CountVisit_diag_L20',\n",
    "         'CountVisit_diag_R51',\n",
    "         'CountVisit_diag_N94',\n",
    "         'CountVisit_diag_G44',\n",
    "         'CountVisit_diag_M79',\n",
    "         'CountVisit_diag_J02',\n",
    "         'CountVisit_diag_J06',\n",
    "         'CountVisit_diag_G43',\n",
    "         'CountVisit_diag_R21',\n",
    "         'CountVisit_diag_M62',\n",
    "         'CountVisit_diag_A09',\n",
    "         'CountVisit_diag_J30',\n",
    "         'CountVisit_diag_L30',\n",
    "         'CountVisit_diag_T78',\n",
    "         'CountVisit_diag_U07',\n",
    "         'CountVisit_diag_K29',\n",
    "         'CountVisit_diag_B35',\n",
    "         'CountVisit_diag_K30',\n",
    "         'CountVisit_diag_H81',\n",
    "         'CountVisit_diag_N39',\n",
    "         'CountVisit_diag_G47',\n",
    "         'CountVisit_diag_Z76',\n",
    "         'CountVisit_diag_K59',\n",
    "         'CountVisit_diag_H10',\n",
    "         'CountVisit_diag_R42',\n",
    "         'CountVisit_diag_K21',\n",
    "         'CountVisit_diag_S90',\n",
    "         'CountVisit_diag_R50',\n",
    "         'CountVisit_diag_U12',\n",
    "         'CountVisit_diag_N92',\n",
    "         'CountVisit_diag_M54',\n",
    "         'CountVisit_diag_S60',\n",
    "         'CountVisit_diag_I10',\n",
    "         'CountVisit_diag_L03',\n",
    "         'CountVisit_diag_K64',\n",
    "         'CountVisit_diag_L98',\n",
    "         'CountVisit_diag_B37',\n",
    "         'CountVisit_diag_L73',\n",
    "         'CountVisit_diag_H00',\n",
    "         'CountVisit_diag_N76',\n",
    "         'CountVisit_diag_J01',\n",
    "         'CountVisit_diag_J45',\n",
    "         'CountVisit_diag_E78',\n",
    "         'CountVisit_diag_L02',\n",
    "         'CountVisit_diag_R52',\n",
    "         'CountVisit_diag_K12',\n",
    "         'CountVisit_diag_K58',\n",
    "         'CountVisit_diag_K07',\n",
    "         'CountVisit_diag_L70',\n",
    "         'CountVisit_diag_Z71',\n",
    "         'CountVisit_diag_S63',\n",
    "         'CountVisit_diag_M25',\n",
    "         'CountVisit_diag_K05',\n",
    "         'CountVisit_diag_E03',\n",
    "         'CountVisit_diag_L50',\n",
    "         'CountVisit_diag_W57',\n",
    "         'CountVisit_diag_H93',\n",
    "         'CountVisit_diag_H01',\n",
    "         'CountVisit_diag_E11',\n",
    "         'CountVisit_diag_S13',\n",
    "         'CountVisit_diag_F41',\n",
    "         'CountVisit_diag_R53',\n",
    "         'CountVisit_diag_O91',\n",
    "         'CountVisit_diag_H02',\n",
    "         'CountVisit_diag_R11',\n",
    "         'CountVisit_diag_S93',\n",
    "         'CountVisit_diag_L24',\n",
    "         'CountVisit_diag_J39',\n",
    "         'CountVisit_diag_J32',\n",
    "         'CountVisit_diag_B00',\n",
    "         'CountVisit_diag_L64',\n",
    "         'CountVisit_diag_Y42',\n",
    "         'CountVisit_diag_R10',\n",
    "         'CountVisit_diag_M10',\n",
    "         'CountVisit_diag_M75',\n",
    "         'CountVisit_diag_Z02',\n",
    "         'CountVisit_diag_J03',\n",
    "         'CountVisit_diag_R07',\n",
    "         'CountVisit_diag_K13',\n",
    "         'CountVisit_diag_Z30',\n",
    "         'CountVisit_diag_P39',\n",
    "         'CountVisit_diag_R22',\n",
    "         'CountVisit_diag_H60',\n",
    "         'CountVisit_diag_B02',\n",
    "         'CountVisit_diag_L29',\n",
    "         'CountVisit_diag_E05',\n",
    "         'CountVisit_diag_N64',\n",
    "         'CountVisit_diag_R05',\n",
    "         'CountVisit_diag_L60',\n",
    "         'CountVisit_diag_S80',\n",
    "         'CountVisit_diag_M65',\n",
    "         'CountVisit_diag_J22',\n",
    "         'CountVisit_diag_O21',\n",
    "         'CountVisit_diag_M72',\n",
    "         'CountVisit_diag_L23',\n",
    "         'CountVisit_diag_K52',\n",
    "         'CountVisit_chronic_NoneChronic',\n",
    "         'CountVisit_chronic_Atopic dermatitis',\n",
    "         'CountVisit_chronic_Migraine',\n",
    "         'CountVisit_chronic_Vasomotor and allergic rhinitis',\n",
    "         'CountVisit_chronic_Gastro-oesophageal reflux disease',\n",
    "         'CountVisit_chronic_Hypertension',\n",
    "         'CountVisit_chronic_Asthma',\n",
    "         'CountVisit_chronic_Hyperlipidaemia',\n",
    "         'CountVisit_chronic_Thyroid',\n",
    "         'CountVisit_chronic_Diabetes',\n",
    "         'CountVisit_chronic_Gout',\n",
    "         'CountVisit_symp_others',\n",
    "         'CountVisit_symp_medical referral',\n",
    "         'CountVisit_symp_headache',\n",
    "         'CountVisit_symp_giddiness',\n",
    "         'CountVisit_symp_fever',\n",
    "         'CountVisit_symp_N',\n",
    "         'CountVisit_symp_cold sores',\n",
    "         'CountVisit_symp_rash',\n",
    "         'CountVisit_symp_sore throat',\n",
    "         'CountVisit_symp_flu',\n",
    "         'CountVisit_symp_cough',\n",
    "         'CountVisit_symp_cold',\n",
    "         'CountVisit_symp_vomiting',\n",
    "         'CountVisit_symp_diarrhoea',\n",
    "         'CountVisit_symp_chronic medicine top-up',\n",
    "         'CountVisit_symp_chronic illness management',\n",
    "         'CountVisit_symp_discuss lab results',\n",
    "         'CountVisit_Target_chronic'\n",
    "* book_firstdate: 'FirstBookDate'\n",
    "* book_lastdate: 'LastBookDate'\n",
    "* mem_agg8: 'Mode_consult_waived_reason'\n",
    "* mem_agg9: \"Mode_consult_hr\"\n",
    "* mem_gender: gender\n",
    " "
   ]
  },
  {
   "cell_type": "code",
   "execution_count": 290,
   "id": "8d21ff52",
   "metadata": {
    "ExecuteTime": {
     "end_time": "2022-08-31T09:10:24.547643Z",
     "start_time": "2022-08-31T09:10:24.533645Z"
    }
   },
   "outputs": [],
   "source": [
    "# initiate dataframe\n",
    "new_df = pd.DataFrame() "
   ]
  },
  {
   "cell_type": "code",
   "execution_count": 291,
   "id": "82ea8fd3",
   "metadata": {
    "ExecuteTime": {
     "end_time": "2022-08-31T09:10:24.562568Z",
     "start_time": "2022-08-31T09:10:24.548605Z"
    }
   },
   "outputs": [],
   "source": [
    "new_df = pd.merge(mem_gender,mem_agg1, how=\"inner\", on=[\"mem_id\"])"
   ]
  },
  {
   "cell_type": "code",
   "execution_count": 292,
   "id": "a98ecbc2",
   "metadata": {
    "ExecuteTime": {
     "end_time": "2022-08-31T09:10:24.578525Z",
     "start_time": "2022-08-31T09:10:24.563565Z"
    }
   },
   "outputs": [],
   "source": [
    "new_df = pd.merge(new_df, mem_agg2, how=\"inner\", on=[\"mem_id\"])"
   ]
  },
  {
   "cell_type": "code",
   "execution_count": 293,
   "id": "bca63989",
   "metadata": {
    "ExecuteTime": {
     "end_time": "2022-08-31T09:10:24.593485Z",
     "start_time": "2022-08-31T09:10:24.579523Z"
    }
   },
   "outputs": [],
   "source": [
    "new_df = pd.merge(new_df, mem_agg3, how=\"inner\", on=[\"mem_id\"])"
   ]
  },
  {
   "cell_type": "code",
   "execution_count": 294,
   "id": "f82e41cd",
   "metadata": {
    "ExecuteTime": {
     "end_time": "2022-08-31T09:10:24.609443Z",
     "start_time": "2022-08-31T09:10:24.594482Z"
    }
   },
   "outputs": [],
   "source": [
    "new_df = pd.merge(new_df, mem_agg4, how=\"inner\", on=[\"mem_id\"])"
   ]
  },
  {
   "cell_type": "code",
   "execution_count": 295,
   "id": "ec0e4de8",
   "metadata": {
    "ExecuteTime": {
     "end_time": "2022-08-31T09:10:24.625401Z",
     "start_time": "2022-08-31T09:10:24.610441Z"
    }
   },
   "outputs": [],
   "source": [
    "new_df = pd.merge(new_df, mem_agg5_2, how=\"inner\", on=[\"mem_id\"])"
   ]
  },
  {
   "cell_type": "code",
   "execution_count": 296,
   "id": "2d453668",
   "metadata": {
    "ExecuteTime": {
     "end_time": "2022-08-31T09:10:24.640361Z",
     "start_time": "2022-08-31T09:10:24.626398Z"
    }
   },
   "outputs": [],
   "source": [
    "new_df = pd.merge(new_df, mem_agg6_2, how=\"inner\", on=[\"mem_id\"])"
   ]
  },
  {
   "cell_type": "code",
   "execution_count": 297,
   "id": "0fef8d2f",
   "metadata": {
    "ExecuteTime": {
     "end_time": "2022-08-31T09:10:24.671278Z",
     "start_time": "2022-08-31T09:10:24.641357Z"
    }
   },
   "outputs": [],
   "source": [
    "new_df = pd.merge(new_df, mem_agg7, how=\"inner\", on=[\"mem_id\"])"
   ]
  },
  {
   "cell_type": "code",
   "execution_count": 298,
   "id": "dfc5a2eb",
   "metadata": {
    "ExecuteTime": {
     "end_time": "2022-08-31T09:10:24.686238Z",
     "start_time": "2022-08-31T09:10:24.672274Z"
    }
   },
   "outputs": [],
   "source": [
    "new_df = pd.merge(new_df, mem_agg8, how=\"inner\", on=[\"mem_id\"])"
   ]
  },
  {
   "cell_type": "code",
   "execution_count": 299,
   "id": "0ca39b00",
   "metadata": {
    "ExecuteTime": {
     "end_time": "2022-08-31T09:10:24.701198Z",
     "start_time": "2022-08-31T09:10:24.687235Z"
    }
   },
   "outputs": [],
   "source": [
    "new_df = pd.merge(new_df, mem_agg9, how=\"inner\", on=[\"mem_id\"])"
   ]
  },
  {
   "cell_type": "code",
   "execution_count": 300,
   "id": "43fc3b46",
   "metadata": {
    "ExecuteTime": {
     "end_time": "2022-08-31T09:10:24.717190Z",
     "start_time": "2022-08-31T09:10:24.702195Z"
    }
   },
   "outputs": [],
   "source": [
    "new_df = pd.merge(new_df, book_firstdate, how=\"inner\", on=[\"mem_id\"])"
   ]
  },
  {
   "cell_type": "code",
   "execution_count": 301,
   "id": "230e783d",
   "metadata": {
    "ExecuteTime": {
     "end_time": "2022-08-31T09:10:24.747111Z",
     "start_time": "2022-08-31T09:10:24.718153Z"
    }
   },
   "outputs": [],
   "source": [
    "new_df = pd.merge(new_df, book_lastdate, how=\"inner\", on=[\"mem_id\"])"
   ]
  },
  {
   "cell_type": "code",
   "execution_count": 302,
   "id": "efa08ae7",
   "metadata": {
    "ExecuteTime": {
     "end_time": "2022-08-31T09:10:24.762035Z",
     "start_time": "2022-08-31T09:10:24.748072Z"
    }
   },
   "outputs": [
    {
     "data": {
      "text/plain": [
       "(6774, 402)"
      ]
     },
     "execution_count": 302,
     "metadata": {},
     "output_type": "execute_result"
    }
   ],
   "source": [
    "new_df.shape"
   ]
  },
  {
   "cell_type": "markdown",
   "id": "530c7060",
   "metadata": {},
   "source": [
    "### Add Feature - Diff between Last and First Date"
   ]
  },
  {
   "cell_type": "code",
   "execution_count": 303,
   "id": "ab8a8d15",
   "metadata": {
    "ExecuteTime": {
     "end_time": "2022-08-31T09:10:24.777993Z",
     "start_time": "2022-08-31T09:10:24.763033Z"
    }
   },
   "outputs": [],
   "source": [
    "new_df[\"DiffDays_Vist\"] = new_df[\"LastBookDate\"]-new_df[\"FirstBookDate\"]"
   ]
  },
  {
   "cell_type": "code",
   "execution_count": 304,
   "id": "0ec20ab8",
   "metadata": {
    "ExecuteTime": {
     "end_time": "2022-08-31T09:10:24.823870Z",
     "start_time": "2022-08-31T09:10:24.778989Z"
    }
   },
   "outputs": [],
   "source": [
    "new_df[\"DiffDays_Vist\"]  = new_df[\"DiffDays_Vist\"].apply(lambda x: abs(x.days))"
   ]
  },
  {
   "cell_type": "markdown",
   "id": "bed66df4",
   "metadata": {},
   "source": [
    "### Add Feature - Average Visit Freq"
   ]
  },
  {
   "cell_type": "code",
   "execution_count": 305,
   "id": "d1f8cbbe",
   "metadata": {
    "ExecuteTime": {
     "end_time": "2022-08-31T09:10:24.839827Z",
     "start_time": "2022-08-31T09:10:24.824867Z"
    }
   },
   "outputs": [],
   "source": [
    "new_df[\"Ave_VisitGapDays\"] = new_df[\"DiffDays_Vist\"] / new_df[\"Mem_CountBooking\"]"
   ]
  },
  {
   "cell_type": "code",
   "execution_count": 306,
   "id": "ae1a2600",
   "metadata": {
    "ExecuteTime": {
     "end_time": "2022-08-31T09:10:24.854788Z",
     "start_time": "2022-08-31T09:10:24.840824Z"
    }
   },
   "outputs": [],
   "source": [
    "new_df[\"Ave_VisitGapDays\"]  = new_df[\"Ave_VisitGapDays\"].apply(lambda x: int(x))"
   ]
  },
  {
   "cell_type": "markdown",
   "id": "c0b5f69d",
   "metadata": {},
   "source": [
    "### Create Targets"
   ]
  },
  {
   "cell_type": "code",
   "execution_count": 307,
   "id": "0953997a",
   "metadata": {
    "ExecuteTime": {
     "end_time": "2022-08-31T09:10:24.869747Z",
     "start_time": "2022-08-31T09:10:24.855785Z"
    }
   },
   "outputs": [],
   "source": [
    "new_df[\"Target_Chronic\"] = new_df[\"CountVisit_Target_chronic\"].apply(lambda x : 1 if x >0 else 0)"
   ]
  },
  {
   "cell_type": "code",
   "execution_count": 308,
   "id": "122fb82d",
   "metadata": {
    "ExecuteTime": {
     "end_time": "2022-08-31T09:10:24.885704Z",
     "start_time": "2022-08-31T09:10:24.870744Z"
    }
   },
   "outputs": [],
   "source": [
    "new_df[\"Target_Dermatitis\"] = new_df[\"CountVisit_chronic_Atopic_dermatitis\"].apply(lambda x : 1 if x >0 else 0)"
   ]
  },
  {
   "cell_type": "code",
   "execution_count": 309,
   "id": "e92940ff",
   "metadata": {
    "ExecuteTime": {
     "end_time": "2022-08-31T09:10:24.901663Z",
     "start_time": "2022-08-31T09:10:24.886702Z"
    }
   },
   "outputs": [],
   "source": [
    "new_df[\"Target_Migraine\"] = new_df[\"CountVisit_chronic_Migraine\"].apply(lambda x : 1 if x >0 else 0)"
   ]
  },
  {
   "cell_type": "code",
   "execution_count": 310,
   "id": "58c01c3e",
   "metadata": {
    "ExecuteTime": {
     "end_time": "2022-08-31T09:10:24.916622Z",
     "start_time": "2022-08-31T09:10:24.902659Z"
    }
   },
   "outputs": [],
   "source": [
    "new_df[\"Target_Allergic\"] = new_df[\"CountVisit_chronic_Vasomotor_and_allergic_rhinitis\"].apply(lambda x : 1 if x >0 else 0)"
   ]
  },
  {
   "cell_type": "code",
   "execution_count": 311,
   "id": "77fb1411",
   "metadata": {
    "ExecuteTime": {
     "end_time": "2022-08-31T09:10:24.931581Z",
     "start_time": "2022-08-31T09:10:24.917621Z"
    }
   },
   "outputs": [],
   "source": [
    "new_df[\"Target_Gastro\"] = new_df[\"CountVisit_chronic_Gastro-oesophageal_reflux_disease\"].apply(lambda x : 1 if x >0 else 0)"
   ]
  },
  {
   "cell_type": "code",
   "execution_count": 312,
   "id": "c16ef389",
   "metadata": {
    "ExecuteTime": {
     "end_time": "2022-08-31T09:10:24.947575Z",
     "start_time": "2022-08-31T09:10:24.932579Z"
    }
   },
   "outputs": [],
   "source": [
    "new_df[\"Target_Hypertension\"] = new_df[\"CountVisit_chronic_Hypertension\"].apply(lambda x : 1 if x >0 else 0)"
   ]
  },
  {
   "cell_type": "code",
   "execution_count": 313,
   "id": "4efcb223",
   "metadata": {
    "ExecuteTime": {
     "end_time": "2022-08-31T09:10:24.962499Z",
     "start_time": "2022-08-31T09:10:24.948537Z"
    }
   },
   "outputs": [],
   "source": [
    "new_df[\"Target_Asthma\"] = new_df[\"CountVisit_chronic_Asthma\"].apply(lambda x : 1 if x >0 else 0)"
   ]
  },
  {
   "cell_type": "code",
   "execution_count": 314,
   "id": "1a6a03ad",
   "metadata": {
    "ExecuteTime": {
     "end_time": "2022-08-31T09:10:24.978457Z",
     "start_time": "2022-08-31T09:10:24.963496Z"
    }
   },
   "outputs": [],
   "source": [
    "new_df[\"Target_Hyperlipidaemia\"] = new_df[\"CountVisit_chronic_Hyperlipidaemia\"].apply(lambda x : 1 if x >0 else 0)"
   ]
  },
  {
   "cell_type": "code",
   "execution_count": 315,
   "id": "5722846e",
   "metadata": {
    "ExecuteTime": {
     "end_time": "2022-08-31T09:10:24.993417Z",
     "start_time": "2022-08-31T09:10:24.979454Z"
    }
   },
   "outputs": [],
   "source": [
    "new_df[\"Target_Thyroid\"] = new_df[\"CountVisit_chronic_Thyroid\"].apply(lambda x : 1 if x >0 else 0)"
   ]
  },
  {
   "cell_type": "code",
   "execution_count": 316,
   "id": "b692bad8",
   "metadata": {
    "ExecuteTime": {
     "end_time": "2022-08-31T09:10:25.008376Z",
     "start_time": "2022-08-31T09:10:24.994415Z"
    }
   },
   "outputs": [],
   "source": [
    "new_df[\"Target_Diabetes\"] = new_df[\"CountVisit_chronic_Diabetes\"].apply(lambda x : 1 if x >0 else 0)"
   ]
  },
  {
   "cell_type": "code",
   "execution_count": 317,
   "id": "5f65d600",
   "metadata": {
    "ExecuteTime": {
     "end_time": "2022-08-31T09:10:25.024334Z",
     "start_time": "2022-08-31T09:10:25.009374Z"
    }
   },
   "outputs": [],
   "source": [
    "new_df[\"Target_Gout\"] = new_df[\"CountVisit_chronic_Gout\"].apply(lambda x : 1 if x >0 else 0)"
   ]
  },
  {
   "cell_type": "markdown",
   "id": "0d5a40a3",
   "metadata": {},
   "source": [
    "### Export Prep Data at Member level"
   ]
  },
  {
   "cell_type": "code",
   "execution_count": 318,
   "id": "59854604",
   "metadata": {
    "ExecuteTime": {
     "end_time": "2022-08-31T09:10:25.039294Z",
     "start_time": "2022-08-31T09:10:25.025331Z"
    }
   },
   "outputs": [],
   "source": [
    "# Export data \n",
    "new_df.to_pickle(\"step6_member_prep.pkl\")"
   ]
  },
  {
   "cell_type": "markdown",
   "id": "64f36b76",
   "metadata": {},
   "source": [
    "## Step7 -  Define Group Targets"
   ]
  },
  {
   "cell_type": "markdown",
   "id": "539038b9",
   "metadata": {},
   "source": [
    "### Import Step 6 Aggregated Member Data"
   ]
  },
  {
   "cell_type": "code",
   "execution_count": 319,
   "id": "fc5e0dd2",
   "metadata": {
    "ExecuteTime": {
     "end_time": "2022-08-31T09:10:25.054254Z",
     "start_time": "2022-08-31T09:10:25.040292Z"
    }
   },
   "outputs": [],
   "source": [
    "# Change the parameter if intend to load intermediate data instead of runnning preceeding scripts\n",
    "LOAD_INTERMEDIATE_STEP6_MEM = 0"
   ]
  },
  {
   "cell_type": "code",
   "execution_count": 320,
   "id": "d87bb70f",
   "metadata": {
    "ExecuteTime": {
     "end_time": "2022-08-31T09:10:25.070211Z",
     "start_time": "2022-08-31T09:10:25.055252Z"
    }
   },
   "outputs": [],
   "source": [
    "# Load data\n",
    "if LOAD_INTERMEDIATE_STEP6_MEM == 1:\n",
    "    new_df = read_pickle(\"step6_member_prep.pkl\")\n",
    "else:\n",
    "    new_df = new_df"
   ]
  },
  {
   "cell_type": "markdown",
   "id": "7838597d",
   "metadata": {},
   "source": [
    "### Define 3 High - Diabetes, Hyperlipidaemia, Hypertension"
   ]
  },
  {
   "cell_type": "code",
   "execution_count": 321,
   "id": "1a2c130c",
   "metadata": {
    "ExecuteTime": {
     "end_time": "2022-08-31T09:10:25.086168Z",
     "start_time": "2022-08-31T09:10:25.071210Z"
    }
   },
   "outputs": [],
   "source": [
    "new_df[\"temp_3High\"] = new_df[\"Target_Hyperlipidaemia\"] + new_df[\"Target_Diabetes\"] + new_df[\"Target_Hypertension\"]\n",
    "new_df[\"Target_3High\"] = new_df[\"temp_3High\"].apply(lambda x: 1 if x>0 else 0)"
   ]
  },
  {
   "cell_type": "code",
   "execution_count": 322,
   "id": "5391439a",
   "metadata": {
    "ExecuteTime": {
     "end_time": "2022-08-31T09:10:25.101129Z",
     "start_time": "2022-08-31T09:10:25.087167Z"
    }
   },
   "outputs": [
    {
     "data": {
      "text/plain": [
       "0    6750\n",
       "1      24\n",
       "Name: Target_Diabetes, dtype: int64"
      ]
     },
     "execution_count": 322,
     "metadata": {},
     "output_type": "execute_result"
    }
   ],
   "source": [
    "new_df.Target_Diabetes.value_counts()"
   ]
  },
  {
   "cell_type": "code",
   "execution_count": 323,
   "id": "e77eab61",
   "metadata": {
    "ExecuteTime": {
     "end_time": "2022-08-31T09:10:25.116088Z",
     "start_time": "2022-08-31T09:10:25.102127Z"
    }
   },
   "outputs": [
    {
     "data": {
      "text/plain": [
       "0    6683\n",
       "1      91\n",
       "Name: Target_Hyperlipidaemia, dtype: int64"
      ]
     },
     "execution_count": 323,
     "metadata": {},
     "output_type": "execute_result"
    }
   ],
   "source": [
    "new_df.Target_Hyperlipidaemia.value_counts()"
   ]
  },
  {
   "cell_type": "code",
   "execution_count": 324,
   "id": "544753fc",
   "metadata": {
    "ExecuteTime": {
     "end_time": "2022-08-31T09:10:25.132046Z",
     "start_time": "2022-08-31T09:10:25.117085Z"
    }
   },
   "outputs": [
    {
     "data": {
      "text/plain": [
       "0    6682\n",
       "1      92\n",
       "Name: Target_Hypertension, dtype: int64"
      ]
     },
     "execution_count": 324,
     "metadata": {},
     "output_type": "execute_result"
    }
   ],
   "source": [
    "new_df.Target_Hypertension.value_counts()"
   ]
  },
  {
   "cell_type": "code",
   "execution_count": 325,
   "id": "cd785920",
   "metadata": {
    "ExecuteTime": {
     "end_time": "2022-08-31T09:10:25.148003Z",
     "start_time": "2022-08-31T09:10:25.133043Z"
    }
   },
   "outputs": [
    {
     "data": {
      "text/plain": [
       "0    6618\n",
       "1     156\n",
       "Name: Target_3High, dtype: int64"
      ]
     },
     "execution_count": 325,
     "metadata": {},
     "output_type": "execute_result"
    }
   ],
   "source": [
    "new_df.Target_3High.value_counts()"
   ]
  },
  {
   "cell_type": "code",
   "execution_count": 326,
   "id": "deeb4462",
   "metadata": {
    "ExecuteTime": {
     "end_time": "2022-08-31T09:10:25.162963Z",
     "start_time": "2022-08-31T09:10:25.149000Z"
    }
   },
   "outputs": [],
   "source": [
    "new_df = new_df.drop(columns=[\"temp_3High\"])"
   ]
  },
  {
   "cell_type": "markdown",
   "id": "8e38755e",
   "metadata": {},
   "source": [
    "### Define Allergic_Dermatitis_Asthma"
   ]
  },
  {
   "cell_type": "code",
   "execution_count": 327,
   "id": "0537de3c",
   "metadata": {
    "ExecuteTime": {
     "end_time": "2022-08-31T09:10:25.177924Z",
     "start_time": "2022-08-31T09:10:25.163962Z"
    }
   },
   "outputs": [],
   "source": [
    "# Target for allergic related - Atopic_dermatitis, Vasomotor_and_allergic_rhinitic, Asthma\n",
    "new_df[\"temp_Allergic_Dermatitis_Asthma\"] = new_df[\"Target_Dermatitis\"] + new_df[\"Target_Allergic\"] + new_df[\"Target_Asthma\"]\n",
    "new_df[\"Target_Allergic_Dermatitis_Asthma\"] = new_df[\"temp_Allergic_Dermatitis_Asthma\"].apply(lambda x: 1 if x>0 else 0)"
   ]
  },
  {
   "cell_type": "code",
   "execution_count": 328,
   "id": "2304ef78",
   "metadata": {
    "ExecuteTime": {
     "end_time": "2022-08-31T09:10:25.192883Z",
     "start_time": "2022-08-31T09:10:25.178921Z"
    }
   },
   "outputs": [
    {
     "data": {
      "text/plain": [
       "0    6657\n",
       "1     117\n",
       "Name: Target_Dermatitis, dtype: int64"
      ]
     },
     "execution_count": 328,
     "metadata": {},
     "output_type": "execute_result"
    }
   ],
   "source": [
    "new_df.Target_Dermatitis.value_counts()"
   ]
  },
  {
   "cell_type": "code",
   "execution_count": 329,
   "id": "d92d82d4",
   "metadata": {
    "ExecuteTime": {
     "end_time": "2022-08-31T09:10:25.207843Z",
     "start_time": "2022-08-31T09:10:25.193881Z"
    }
   },
   "outputs": [
    {
     "data": {
      "text/plain": [
       "0    6525\n",
       "1     249\n",
       "Name: Target_Allergic, dtype: int64"
      ]
     },
     "execution_count": 329,
     "metadata": {},
     "output_type": "execute_result"
    }
   ],
   "source": [
    "new_df.Target_Allergic.value_counts()"
   ]
  },
  {
   "cell_type": "code",
   "execution_count": 330,
   "id": "54a5067c",
   "metadata": {
    "ExecuteTime": {
     "end_time": "2022-08-31T09:10:25.222803Z",
     "start_time": "2022-08-31T09:10:25.208840Z"
    }
   },
   "outputs": [
    {
     "data": {
      "text/plain": [
       "0    6711\n",
       "1      63\n",
       "Name: Target_Asthma, dtype: int64"
      ]
     },
     "execution_count": 330,
     "metadata": {},
     "output_type": "execute_result"
    }
   ],
   "source": [
    "new_df.Target_Asthma.value_counts()"
   ]
  },
  {
   "cell_type": "code",
   "execution_count": 331,
   "id": "d2d507c5",
   "metadata": {
    "ExecuteTime": {
     "end_time": "2022-08-31T09:10:25.237763Z",
     "start_time": "2022-08-31T09:10:25.223800Z"
    }
   },
   "outputs": [
    {
     "data": {
      "text/plain": [
       "0    6383\n",
       "1     356\n",
       "2      32\n",
       "3       3\n",
       "Name: temp_Allergic_Dermatitis_Asthma, dtype: int64"
      ]
     },
     "execution_count": 331,
     "metadata": {},
     "output_type": "execute_result"
    }
   ],
   "source": [
    "new_df[\"temp_Allergic_Dermatitis_Asthma\"].value_counts()"
   ]
  },
  {
   "cell_type": "code",
   "execution_count": 332,
   "id": "9b805b37",
   "metadata": {
    "ExecuteTime": {
     "end_time": "2022-08-31T09:10:25.253721Z",
     "start_time": "2022-08-31T09:10:25.238762Z"
    }
   },
   "outputs": [
    {
     "data": {
      "text/plain": [
       "0    6383\n",
       "1     391\n",
       "Name: Target_Allergic_Dermatitis_Asthma, dtype: int64"
      ]
     },
     "execution_count": 332,
     "metadata": {},
     "output_type": "execute_result"
    }
   ],
   "source": [
    "new_df[\"Target_Allergic_Dermatitis_Asthma\"].value_counts()"
   ]
  },
  {
   "cell_type": "code",
   "execution_count": 333,
   "id": "1cc6a403",
   "metadata": {
    "ExecuteTime": {
     "end_time": "2022-08-31T09:10:25.269678Z",
     "start_time": "2022-08-31T09:10:25.254717Z"
    }
   },
   "outputs": [],
   "source": [
    "new_df = new_df.drop(columns=[\"temp_Allergic_Dermatitis_Asthma\"])"
   ]
  },
  {
   "cell_type": "markdown",
   "id": "26b96a86",
   "metadata": {},
   "source": [
    "### Define Migraine_Gastro_Thyroid_Gou"
   ]
  },
  {
   "cell_type": "code",
   "execution_count": 334,
   "id": "6b5d0d58",
   "metadata": {
    "ExecuteTime": {
     "end_time": "2022-08-31T09:10:25.284642Z",
     "start_time": "2022-08-31T09:10:25.270675Z"
    }
   },
   "outputs": [],
   "source": [
    "new_df[\"temp_Migraine_Gastro_Thyroid_Gout\"] = new_df[\"Target_Migraine\"] + new_df[\"Target_Gastro\"] + new_df[\"Target_Thyroid\"] + new_df[\"Target_Gout\"]\n",
    "new_df[\"Target_Migraine_Gastro_Thyroid_Gout\"] = new_df[\"temp_Migraine_Gastro_Thyroid_Gout\"].apply(lambda x: 1 if x>0 else 0)"
   ]
  },
  {
   "cell_type": "code",
   "execution_count": 335,
   "id": "248cc065",
   "metadata": {
    "ExecuteTime": {
     "end_time": "2022-08-31T09:10:25.299641Z",
     "start_time": "2022-08-31T09:10:25.285635Z"
    }
   },
   "outputs": [
    {
     "data": {
      "text/plain": [
       "0    6685\n",
       "1      89\n",
       "Name: Target_Migraine, dtype: int64"
      ]
     },
     "execution_count": 335,
     "metadata": {},
     "output_type": "execute_result"
    }
   ],
   "source": [
    "new_df.Target_Migraine.value_counts()"
   ]
  },
  {
   "cell_type": "code",
   "execution_count": 336,
   "id": "abee22a4",
   "metadata": {
    "ExecuteTime": {
     "end_time": "2022-08-31T09:10:25.314593Z",
     "start_time": "2022-08-31T09:10:25.300596Z"
    }
   },
   "outputs": [
    {
     "data": {
      "text/plain": [
       "0    6663\n",
       "1     111\n",
       "Name: Target_Gastro, dtype: int64"
      ]
     },
     "execution_count": 336,
     "metadata": {},
     "output_type": "execute_result"
    }
   ],
   "source": [
    "new_df.Target_Gastro.value_counts()"
   ]
  },
  {
   "cell_type": "code",
   "execution_count": 337,
   "id": "581b7fde",
   "metadata": {
    "ExecuteTime": {
     "end_time": "2022-08-31T09:10:25.329518Z",
     "start_time": "2022-08-31T09:10:25.315556Z"
    }
   },
   "outputs": [
    {
     "data": {
      "text/plain": [
       "0    6753\n",
       "1      21\n",
       "Name: Target_Thyroid, dtype: int64"
      ]
     },
     "execution_count": 337,
     "metadata": {},
     "output_type": "execute_result"
    }
   ],
   "source": [
    "new_df.Target_Thyroid.value_counts()"
   ]
  },
  {
   "cell_type": "code",
   "execution_count": 338,
   "id": "111a362f",
   "metadata": {
    "ExecuteTime": {
     "end_time": "2022-08-31T09:10:25.345476Z",
     "start_time": "2022-08-31T09:10:25.330516Z"
    }
   },
   "outputs": [
    {
     "data": {
      "text/plain": [
       "0    6700\n",
       "1      74\n",
       "Name: Target_Gout, dtype: int64"
      ]
     },
     "execution_count": 338,
     "metadata": {},
     "output_type": "execute_result"
    }
   ],
   "source": [
    "new_df.Target_Gout.value_counts()"
   ]
  },
  {
   "cell_type": "code",
   "execution_count": 339,
   "id": "d034cbda",
   "metadata": {
    "ExecuteTime": {
     "end_time": "2022-08-31T09:10:25.360476Z",
     "start_time": "2022-08-31T09:10:25.346474Z"
    }
   },
   "outputs": [
    {
     "data": {
      "text/plain": [
       "0    6489\n",
       "1     285\n",
       "Name: Target_Migraine_Gastro_Thyroid_Gout, dtype: int64"
      ]
     },
     "execution_count": 339,
     "metadata": {},
     "output_type": "execute_result"
    }
   ],
   "source": [
    "new_df[\"Target_Migraine_Gastro_Thyroid_Gout\"].value_counts()"
   ]
  },
  {
   "cell_type": "code",
   "execution_count": 340,
   "id": "003b17e1",
   "metadata": {
    "ExecuteTime": {
     "end_time": "2022-08-31T09:10:25.375395Z",
     "start_time": "2022-08-31T09:10:25.361433Z"
    }
   },
   "outputs": [],
   "source": [
    "new_df = new_df.drop(columns=[\"temp_Migraine_Gastro_Thyroid_Gout\"])"
   ]
  },
  {
   "cell_type": "markdown",
   "id": "0ede8be5",
   "metadata": {},
   "source": [
    "### Group Consultancy Hour"
   ]
  },
  {
   "cell_type": "markdown",
   "id": "98f6836b",
   "metadata": {},
   "source": [
    "Group Consultancy Hour based on PCA and MCA analysis"
   ]
  },
  {
   "cell_type": "code",
   "execution_count": 341,
   "id": "b3239089",
   "metadata": {
    "ExecuteTime": {
     "end_time": "2022-08-31T09:10:25.391352Z",
     "start_time": "2022-08-31T09:10:25.376393Z"
    }
   },
   "outputs": [],
   "source": [
    "new_df[\"ConsultHr_8to10\"] = new_df[\"ConsultHr_8\"] + new_df[\"ConsultHr_9\"] + new_df[\"ConsultHr_10\"]"
   ]
  },
  {
   "cell_type": "code",
   "execution_count": 342,
   "id": "9746f6fa",
   "metadata": {
    "ExecuteTime": {
     "end_time": "2022-08-31T09:10:25.406313Z",
     "start_time": "2022-08-31T09:10:25.392350Z"
    }
   },
   "outputs": [],
   "source": [
    "new_df[\"ConsultHr_11to13\"] = new_df[\"ConsultHr_11\"] + new_df[\"ConsultHr_12\"] + new_df[\"ConsultHr_13\"]"
   ]
  },
  {
   "cell_type": "code",
   "execution_count": 343,
   "id": "b119e943",
   "metadata": {
    "ExecuteTime": {
     "end_time": "2022-08-31T09:10:25.421272Z",
     "start_time": "2022-08-31T09:10:25.407311Z"
    }
   },
   "outputs": [],
   "source": [
    "new_df[\"ConsultHr_14to17\"] = new_df[\"ConsultHr_14\"] + new_df[\"ConsultHr_15\"] + new_df[\"ConsultHr_16\"] + new_df[\"ConsultHr_17\"]"
   ]
  },
  {
   "cell_type": "code",
   "execution_count": 344,
   "id": "af207d69",
   "metadata": {
    "ExecuteTime": {
     "end_time": "2022-08-31T09:10:25.437230Z",
     "start_time": "2022-08-31T09:10:25.422270Z"
    }
   },
   "outputs": [],
   "source": [
    "new_df[\"ConsultHr_18to21\"] = new_df[\"ConsultHr_18\"] + new_df[\"ConsultHr_19\"] + new_df[\"ConsultHr_20\"] + new_df[\"ConsultHr_21\"]"
   ]
  },
  {
   "cell_type": "code",
   "execution_count": 345,
   "id": "909fd867",
   "metadata": {
    "ExecuteTime": {
     "end_time": "2022-08-31T09:10:25.453188Z",
     "start_time": "2022-08-31T09:10:25.438228Z"
    }
   },
   "outputs": [],
   "source": [
    "new_df[\"ConsultHr_22to23\"] = new_df[\"ConsultHr_22\"] + new_df[\"ConsultHr_23\"] "
   ]
  },
  {
   "cell_type": "markdown",
   "id": "44649244",
   "metadata": {},
   "source": [
    "### Export Prep Member Data with Chronic Grouping"
   ]
  },
  {
   "cell_type": "code",
   "execution_count": 346,
   "id": "31c1a817",
   "metadata": {
    "ExecuteTime": {
     "end_time": "2022-08-31T09:10:25.468148Z",
     "start_time": "2022-08-31T09:10:25.454184Z"
    }
   },
   "outputs": [],
   "source": [
    "# Export data \n",
    "new_df.to_pickle(\"step7_member_grp_prep.pkl\")"
   ]
  },
  {
   "cell_type": "markdown",
   "id": "c0870241",
   "metadata": {},
   "source": [
    "## Step8 - Finalise Member Data"
   ]
  },
  {
   "cell_type": "markdown",
   "id": "98ac6253",
   "metadata": {},
   "source": [
    "As some of the syptoms are very highly correalated. PCA is performed on the highly corrected variables using JMP software to generate out the rules for deriving the principal components. "
   ]
  },
  {
   "cell_type": "markdown",
   "id": "b61bd6fb",
   "metadata": {},
   "source": [
    "### Import Step 7 Finalised Member Data with Chronic Grouping"
   ]
  },
  {
   "cell_type": "code",
   "execution_count": 347,
   "id": "226b1692",
   "metadata": {
    "ExecuteTime": {
     "end_time": "2022-08-31T09:10:25.483108Z",
     "start_time": "2022-08-31T09:10:25.469147Z"
    }
   },
   "outputs": [],
   "source": [
    "# Change the parameter if intend to load intermediate data instead of runnning preceeding scripts\n",
    "LOAD_INTERMEDIATE_STEP7_MEM_GP = 0"
   ]
  },
  {
   "cell_type": "code",
   "execution_count": 348,
   "id": "c0a3d82d",
   "metadata": {
    "ExecuteTime": {
     "end_time": "2022-08-31T09:10:25.499065Z",
     "start_time": "2022-08-31T09:10:25.484106Z"
    }
   },
   "outputs": [],
   "source": [
    "# Load data\n",
    "if LOAD_INTERMEDIATE_STEP7_MEM_GP == 1:\n",
    "    df_mem = read_pickle(\"step7_member_grp_prep.pkl\")\n",
    "else:\n",
    "    df_mem = new_df"
   ]
  },
  {
   "cell_type": "markdown",
   "id": "b633a573",
   "metadata": {},
   "source": [
    "### Create New Features for Principal Components for Symptoms"
   ]
  },
  {
   "cell_type": "markdown",
   "id": "b7db33ab",
   "metadata": {},
   "source": [
    "new columns = ['Prin1_sym_common',\n",
    "       'Prin2_sym_rash', 'Prin3_sym_headache', 'Prin4_sym_diarrhea']"
   ]
  },
  {
   "cell_type": "markdown",
   "id": "754bde52",
   "metadata": {},
   "source": [
    "#### Principal Component1 - Common "
   ]
  },
  {
   "cell_type": "markdown",
   "id": "be12d377",
   "metadata": {},
   "source": [
    "Formula from JMP: \n",
    "Prin1_sym_common = 0.126922208999099 * :CountVisit_symp_headache + 0.134938007927841 *\n",
    ":CountVisit_symp_giddiness + 0.457991577692383 * :CountVisit_symp_cold_sores\n",
    "+0.448844403126012 * :CountVisit_symp_rash + 0.954160558888485 *\n",
    ":CountVisit_symp_sore_throat + 0.960039882968821 * :CountVisit_symp_flu\n",
    "+0.966269306714024 * :CountVisit_symp_cough + 0.744793202425646 *\n",
    ":CountVisit_symp_cold + 0.111674590804738 * :CountVisit_symp_vomiting\n",
    "+0.105420843334157 * :CountVisit_symp_diarrhoea + (-1.08200575730171)"
   ]
  },
  {
   "cell_type": "code",
   "execution_count": 349,
   "id": "1419dc50",
   "metadata": {
    "ExecuteTime": {
     "end_time": "2022-08-31T09:10:25.515022Z",
     "start_time": "2022-08-31T09:10:25.500062Z"
    }
   },
   "outputs": [],
   "source": [
    "df_mem[\"Prin1_sym_common\"] = 0.126922208999099 * df_mem[\"CountVisit_symp_headache\"] + \\\n",
    "                             0.134938007927841 * df_mem[\"CountVisit_symp_giddiness\"] + \\\n",
    "                             0.457991577692383 * df_mem[\"CountVisit_symp_cold_sores\"] + \\\n",
    "                             0.448844403126012 * df_mem[\"CountVisit_symp_rash\"] + \\\n",
    "                             0.954160558888485 * df_mem[\"CountVisit_symp_sore_throat\"] + \\\n",
    "                             0.960039882968821 * df_mem[\"CountVisit_symp_flu\"] + \\\n",
    "                             0.966269306714024 * df_mem[\"CountVisit_symp_cough\"] + \\\n",
    "                             0.744793202425646 * df_mem[\"CountVisit_symp_cold\"] + \\\n",
    "                             0.111674590804738 * df_mem[\"CountVisit_symp_vomiting\"] + \\\n",
    "                             0.105420843334157 * df_mem[\"CountVisit_symp_diarrhoea\"] - 1.08200575730171"
   ]
  },
  {
   "cell_type": "markdown",
   "id": "4db4b944",
   "metadata": {},
   "source": [
    "#### Principal Component - Rash"
   ]
  },
  {
   "cell_type": "markdown",
   "id": "df79d11b",
   "metadata": {},
   "source": [
    "Formula from JMP: \n",
    "Prin2_sym_rash = 0.15012952272156 * :CountVisit_symp_headache + 0.157099331295396 *\n",
    ":CountVisit_symp_giddiness + 1.4198008192801 * :CountVisit_symp_cold_sores\n",
    "+1.39667010805915 * :CountVisit_symp_rash + -0.509538387575815 *\n",
    ":CountVisit_symp_sore_throat + -0.51973978746157 * :CountVisit_symp_flu +\n",
    "-0.518711617511583 * :CountVisit_symp_cough + 0.286064554630894 *\n",
    ":CountVisit_symp_cold + 0.281708989416286 * :CountVisit_symp_vomiting\n",
    "+0.268761673670889 * :CountVisit_symp_diarrhoea + (-0.399412355479641)"
   ]
  },
  {
   "cell_type": "code",
   "execution_count": 350,
   "id": "4e982451",
   "metadata": {
    "ExecuteTime": {
     "end_time": "2022-08-31T09:10:25.529982Z",
     "start_time": "2022-08-31T09:10:25.516020Z"
    }
   },
   "outputs": [],
   "source": [
    "df_mem[\"Prin2_sym_rash\"] = 0.15012952272156 * df_mem[\"CountVisit_symp_headache\"] + \\\n",
    "                            0.157099331295396 * df_mem[\"CountVisit_symp_giddiness\"] + \\\n",
    "                            1.4198008192801 * df_mem[\"CountVisit_symp_cold_sores\"] + \\\n",
    "                            1.39667010805915 * df_mem[\"CountVisit_symp_rash\"] - \\\n",
    "                            0.509538387575815 * df_mem[\"CountVisit_symp_sore_throat\"] - \\\n",
    "                            0.51973978746157 * df_mem[\"CountVisit_symp_flu\"] - \\\n",
    "                            0.518711617511583 * df_mem[\"CountVisit_symp_cough\"] + \\\n",
    "                            0.286064554630894 * df_mem[\"CountVisit_symp_cold\"] + \\\n",
    "                            0.281708989416286 * df_mem[\"CountVisit_symp_vomiting\"] + \\\n",
    "                            0.268761673670889 * df_mem[\"CountVisit_symp_diarrhoea\"] -0.399412355479641"
   ]
  },
  {
   "cell_type": "markdown",
   "id": "8acad29d",
   "metadata": {},
   "source": [
    "#### Principal Component - Headache "
   ]
  },
  {
   "cell_type": "markdown",
   "id": "f95fd9bb",
   "metadata": {},
   "source": [
    "Formula from JMP: \n",
    "Prin3_sym_headache = 0.53393749284155 * :CountVisit_symp_headache + 0.549256657956352 *\n",
    ":CountVisit_symp_giddiness + -0.540351073738283 * :CountVisit_symp_cold_sores +\n",
    "-0.532878377771104 * :CountVisit_symp_rash + -0.0177007121608483 *\n",
    ":CountVisit_symp_sore_throat + -0.0186518204119694 * :CountVisit_symp_flu +\n",
    "-0.0183140476024677 * :CountVisit_symp_cough + -0.233303688008869 *\n",
    ":CountVisit_symp_cold + 0.786678691868385 * :CountVisit_symp_vomiting\n",
    "+0.762367704391997 * :CountVisit_symp_diarrhoea + (-0.711589799772594)"
   ]
  },
  {
   "cell_type": "code",
   "execution_count": 351,
   "id": "1cb661c3",
   "metadata": {
    "ExecuteTime": {
     "end_time": "2022-08-31T09:10:25.544943Z",
     "start_time": "2022-08-31T09:10:25.530981Z"
    }
   },
   "outputs": [],
   "source": [
    "df_mem[\"Prin3_sym_headache\"] = 0.53393749284155 * df_mem[\"CountVisit_symp_headache\"] + \\\n",
    "                                0.549256657956352 * df_mem[\"CountVisit_symp_giddiness\"] - \\\n",
    "                                0.540351073738283 * df_mem[\"CountVisit_symp_cold_sores\"] - \\\n",
    "                                0.532878377771104 * df_mem[\"CountVisit_symp_rash\"] - \\\n",
    "                                0.0177007121608483 * df_mem[\"CountVisit_symp_sore_throat\"] - \\\n",
    "                                0.0186518204119694 * df_mem[\"CountVisit_symp_flu\"] - \\\n",
    "                                0.0183140476024677 * df_mem[\"CountVisit_symp_cough\"] - \\\n",
    "                                0.233303688008869 * df_mem[\"CountVisit_symp_cold\"] + \\\n",
    "                                0.786678691868385 * df_mem[\"CountVisit_symp_vomiting\"] + \\\n",
    "                                0.762367704391997 * df_mem[\"CountVisit_symp_diarrhoea\"] -0.711589799772594"
   ]
  },
  {
   "cell_type": "markdown",
   "id": "c331fc5f",
   "metadata": {},
   "source": [
    "#### Principal Component - Diarrhea"
   ]
  },
  {
   "cell_type": "markdown",
   "id": "f1bd854b",
   "metadata": {},
   "source": [
    "Formula from JMP: \n",
    "Prin4_sym_diarrhea = -0.571563615572338 * :CountVisit_symp_headache + -0.587138492269664 *\n",
    ":CountVisit_symp_giddiness + -0.0255056350216958 * :CountVisit_symp_cold_sores +\n",
    "-0.0200870916998447 * :CountVisit_symp_rash + 0.0708239066134195 *\n",
    ":CountVisit_symp_sore_throat + 0.0595575562025494 * :CountVisit_symp_flu\n",
    "+0.0650590997464691 * :CountVisit_symp_cough + 0.0197435600586072 *\n",
    ":CountVisit_symp_cold + 0.835757956281788 * :CountVisit_symp_vomiting\n",
    "+0.807263138560611 * :CountVisit_symp_diarrhoea + 0.0422774813710458"
   ]
  },
  {
   "cell_type": "code",
   "execution_count": 352,
   "id": "c83798f8",
   "metadata": {
    "ExecuteTime": {
     "end_time": "2022-08-31T09:10:25.560900Z",
     "start_time": "2022-08-31T09:10:25.545940Z"
    }
   },
   "outputs": [],
   "source": [
    "df_mem[\"Prin4_sym_diarrhea\"] = -0.571563615572338 * df_mem[\"CountVisit_symp_headache\"] - \\\n",
    "                                0.587138492269664 * df_mem[\"CountVisit_symp_giddiness\"] - \\\n",
    "                                0.0255056350216958 * df_mem[\"CountVisit_symp_cold_sores\"] - \\\n",
    "                                0.0200870916998447 * df_mem[\"CountVisit_symp_rash\"] + \\\n",
    "                                0.0708239066134195 * df_mem[\"CountVisit_symp_sore_throat\"] + \\\n",
    "                                0.0595575562025494 * df_mem[\"CountVisit_symp_flu\"] + \\\n",
    "                                0.0650590997464691 * df_mem[\"CountVisit_symp_cough\"] + \\\n",
    "                                0.0197435600586072 * df_mem[\"CountVisit_symp_cold\"] + \\\n",
    "                                0.835757956281788 * df_mem[\"CountVisit_symp_vomiting\"] + \\\n",
    "                                0.807263138560611 * df_mem[\"CountVisit_symp_diarrhoea\"] + 0.0422774813710458"
   ]
  },
  {
   "cell_type": "markdown",
   "id": "1f33e25e",
   "metadata": {},
   "source": [
    "### Export Final Member Data for modeling or Testing"
   ]
  },
  {
   "cell_type": "code",
   "execution_count": 353,
   "id": "2317e15a",
   "metadata": {
    "ExecuteTime": {
     "end_time": "2022-08-31T09:10:25.591817Z",
     "start_time": "2022-08-31T09:10:25.561898Z"
    }
   },
   "outputs": [
    {
     "name": "stdout",
     "output_type": "stream",
     "text": [
      "<class 'pandas.core.frame.DataFrame'>\n",
      "Int64Index: 6774 entries, 0 to 6773\n",
      "Data columns (total 427 columns):\n",
      " #    Column                                                Dtype         \n",
      "---   ------                                                -----         \n",
      " 0    mem_id                                                object        \n",
      " 1    gender                                                object        \n",
      " 2    Mem_CountBooking                                      int64         \n",
      " 3    AVE_mc_days                                           int64         \n",
      " 4    AVE_count_diagnosis                                   int64         \n",
      " 5    AVE_count_chronic                                     int64         \n",
      " 6    AVE_count_medication                                  int64         \n",
      " 7    AVE_count_repeatmed                                   int64         \n",
      " 8    AVE_count_SymID                                       int64         \n",
      " 9    age_yr                                                int64         \n",
      " 10   MAX_mc_days                                           int64         \n",
      " 11   MAX_count_diagnosis                                   int64         \n",
      " 12   MAX_count_chronic                                     int64         \n",
      " 13   MAX_count_medication                                  int64         \n",
      " 14   MAX_count_repeatmed                                   int64         \n",
      " 15   MAX_count_SymID                                       int64         \n",
      " 16   MIN_mc_days                                           int64         \n",
      " 17   MIN_count_diagnosis                                   int64         \n",
      " 18   MIN_count_chronic                                     int64         \n",
      " 19   MIN_count_medication                                  int64         \n",
      " 20   MIN_count_repeatmed                                   int64         \n",
      " 21   MIN_count_SymID                                       int64         \n",
      " 22   WaviedCount_NA                                        int64         \n",
      " 23   WaviedCount_FOLLOW_UP                                 int64         \n",
      " 24   WaviedCount_HEALTH_SCREENING_REVIEW                   int64         \n",
      " 25   WaviedCount_OTHERS                                    int64         \n",
      " 26   WaviedCount_REFERRAL                                  int64         \n",
      " 27   WaviedCount_UNSUITABLE_FOR_TELECONSULT                int64         \n",
      " 28   WaviedCount_WHITECOAT_FAMILY                          int64         \n",
      " 29   ConsultHr_0                                           int64         \n",
      " 30   ConsultHr_7                                           int64         \n",
      " 31   ConsultHr_8                                           int64         \n",
      " 32   ConsultHr_9                                           int64         \n",
      " 33   ConsultHr_10                                          int64         \n",
      " 34   ConsultHr_11                                          int64         \n",
      " 35   ConsultHr_12                                          int64         \n",
      " 36   ConsultHr_13                                          int64         \n",
      " 37   ConsultHr_14                                          int64         \n",
      " 38   ConsultHr_15                                          int64         \n",
      " 39   ConsultHr_16                                          int64         \n",
      " 40   ConsultHr_17                                          int64         \n",
      " 41   ConsultHr_18                                          int64         \n",
      " 42   ConsultHr_19                                          int64         \n",
      " 43   ConsultHr_20                                          int64         \n",
      " 44   ConsultHr_21                                          int64         \n",
      " 45   ConsultHr_22                                          int64         \n",
      " 46   ConsultHr_23                                          int64         \n",
      " 47   CountVisit_is_mc_issued                               int32         \n",
      " 48   CountVisit_is_referral_letter_issued                  int32         \n",
      " 49   CountVisit_Target_chronic                             int32         \n",
      " 50   CountVisit_diag_U12                                   int32         \n",
      " 51   CountVisit_diag_J30                                   int32         \n",
      " 52   CountVisit_diag_T88                                   int32         \n",
      " 53   CountVisit_diag_K12                                   int32         \n",
      " 54   CountVisit_diag_R21                                   int32         \n",
      " 55   CountVisit_diag_A09                                   int32         \n",
      " 56   CountVisit_diag_H57                                   int32         \n",
      " 57   CountVisit_diag_Z02                                   int32         \n",
      " 58   CountVisit_diag_J06                                   int32         \n",
      " 59   CountVisit_diag_J04                                   int32         \n",
      " 60   CountVisit_diag_Z76                                   int32         \n",
      " 61   CountVisit_diag_M79                                   int32         \n",
      " 62   CountVisit_diag_R51                                   int32         \n",
      " 63   CountVisit_diag_M54                                   int32         \n",
      " 64   CountVisit_diag_R22                                   int32         \n",
      " 65   CountVisit_diag_L50                                   int32         \n",
      " 66   CountVisit_diag_H11                                   int32         \n",
      " 67   CountVisit_diag_B35                                   int32         \n",
      " 68   CountVisit_diag_K30                                   int32         \n",
      " 69   CountVisit_diag_O91                                   int32         \n",
      " 70   CountVisit_diag_R07                                   int32         \n",
      " 71   CountVisit_diag_M10                                   int32         \n",
      " 72   CountVisit_diag_Z71                                   int32         \n",
      " 73   CountVisit_diag_N94                                   int32         \n",
      " 74   CountVisit_diag_K29                                   int32         \n",
      " 75   CountVisit_diag_B37                                   int32         \n",
      " 76   CountVisit_diag_R50                                   int32         \n",
      " 77   CountVisit_diag_N39                                   int32         \n",
      " 78   CountVisit_diag_R09                                   int32         \n",
      " 79   CountVisit_diag_M50                                   int32         \n",
      " 80   CountVisit_diag_R42                                   int32         \n",
      " 81   CountVisit_diag_W57                                   int32         \n",
      " 82   CountVisit_diag_B00                                   int32         \n",
      " 83   CountVisit_diag_L70                                   int32         \n",
      " 84   CountVisit_diag_R14                                   int32         \n",
      " 85   CountVisit_diag_H00                                   int32         \n",
      " 86   CountVisit_diag_L98                                   int32         \n",
      " 87   CountVisit_diag_U07                                   int32         \n",
      " 88   CountVisit_diag_M75                                   int32         \n",
      " 89   CountVisit_diag_R45                                   int32         \n",
      " 90   CountVisit_diag_R05                                   int32         \n",
      " 91   CountVisit_diag_R63                                   int32         \n",
      " 92   CountVisit_diag_L20                                   int32         \n",
      " 93   CountVisit_diag_J39                                   int32         \n",
      " 94   CountVisit_diag_J02                                   int32         \n",
      " 95   CountVisit_diag_L02                                   int32         \n",
      " 96   CountVisit_diag_I10                                   int32         \n",
      " 97   CountVisit_diag_K21                                   int32         \n",
      " 98   CountVisit_diag_J20                                   int32         \n",
      " 99   CountVisit_diag_H02                                   int32         \n",
      " 100  CountVisit_diag_S83                                   int32         \n",
      " 101  CountVisit_diag_L03                                   int32         \n",
      " 102  CountVisit_diag_M76                                   int32         \n",
      " 103  CountVisit_diag_M62                                   int32         \n",
      " 104  CountVisit_diag_H10                                   int32         \n",
      " 105  CountVisit_diag_L24                                   int32         \n",
      " 106  CountVisit_diag_L30                                   int32         \n",
      " 107  CountVisit_diag_K59                                   int32         \n",
      " 108  CountVisit_diag_Y42                                   int32         \n",
      " 109  CountVisit_diag_K07                                   int32         \n",
      " 110  CountVisit_diag_E78                                   int32         \n",
      " 111  CountVisit_diag_K64                                   int32         \n",
      " 112  CountVisit_diag_J45                                   int32         \n",
      " 113  CountVisit_diag_S90                                   int32         \n",
      " 114  CountVisit_diag_G43                                   int32         \n",
      " 115  CountVisit_diag_B08                                   int32         \n",
      " 116  CountVisit_diag_G47                                   int32         \n",
      " 117  CountVisit_diag_T78                                   int32         \n",
      " 118  CountVisit_diag_U08                                   int32         \n",
      " 119  CountVisit_diag_H81                                   int32         \n",
      " 120  CountVisit_diag_G44                                   int32         \n",
      " 121  CountVisit_diag_N92                                   int32         \n",
      " 122  CountVisit_diag_J01                                   int32         \n",
      " 123  CountVisit_diag_E11                                   int32         \n",
      " 124  CountVisit_diag_H66                                   int32         \n",
      " 125  CountVisit_diag_M25                                   int32         \n",
      " 126  CountVisit_diag_F38                                   int32         \n",
      " 127  CountVisit_diag_H01                                   int32         \n",
      " 128  CountVisit_diag_G71                                   int32         \n",
      " 129  CountVisit_diag_R53                                   int32         \n",
      " 130  CountVisit_diag_M23                                   int32         \n",
      " 131  CountVisit_diag_S13                                   int32         \n",
      " 132  CountVisit_diag_S00                                   int32         \n",
      " 133  CountVisit_diag_U09                                   int32         \n",
      " 134  CountVisit_diag_H93                                   int32         \n",
      " 135  CountVisit_diag_B36                                   int32         \n",
      " 136  CountVisit_diag_S60                                   int32         \n",
      " 137  CountVisit_diag_E61                                   int32         \n",
      " 138  CountVisit_diag_R52                                   int32         \n",
      " 139  CountVisit_diag_H60                                   int32         \n",
      " 140  CountVisit_diag_M17                                   int32         \n",
      " 141  CountVisit_diag_R06                                   int32         \n",
      " 142  CountVisit_diag_N64                                   int32         \n",
      " 143  CountVisit_diag_R10                                   int32         \n",
      " 144  CountVisit_diag_R11                                   int32         \n",
      " 145  CountVisit_diag_E03                                   int32         \n",
      " 146  CountVisit_diag_J03                                   int32         \n",
      " 147  CountVisit_diag_S33                                   int32         \n",
      " 148  CountVisit_diag_Z13                                   int32         \n",
      " 149  CountVisit_diag_L29                                   int32         \n",
      " 150  CountVisit_diag_S23                                   int32         \n",
      " 151  CountVisit_diag_D50                                   int32         \n",
      " 152  CountVisit_diag_K52                                   int32         \n",
      " 153  CountVisit_diag_S93                                   int32         \n",
      " 154  CountVisit_diag_F41                                   int32         \n",
      " 155  CountVisit_diag_R04                                   int32         \n",
      " 156  CountVisit_diag_E28                                   int32         \n",
      " 157  CountVisit_diag_R59                                   int32         \n",
      " 158  CountVisit_diag_J22                                   int32         \n",
      " 159  CountVisit_diag_Z53                                   int32         \n",
      " 160  CountVisit_diag_N02                                   int32         \n",
      " 161  CountVisit_diag_S63                                   int32         \n",
      " 162  CountVisit_diag_B30                                   int32         \n",
      " 163  CountVisit_diag_M65                                   int32         \n",
      " 164  CountVisit_diag_E05                                   int32         \n",
      " 165  CountVisit_diag_H58                                   int32         \n",
      " 166  CountVisit_diag_M72                                   int32         \n",
      " 167  CountVisit_diag_P39                                   int32         \n",
      " 168  CountVisit_diag_L85                                   int32         \n",
      " 169  CountVisit_diag_N76                                   int32         \n",
      " 170  CountVisit_diag_L21                                   int32         \n",
      " 171  CountVisit_diag_Y58                                   int32         \n",
      " 172  CountVisit_diag_K13                                   int32         \n",
      " 173  CountVisit_diag_Y60                                   int32         \n",
      " 174  CountVisit_diag_Z30                                   int32         \n",
      " 175  CountVisit_diag_N51                                   int32         \n",
      " 176  CountVisit_diag_S61                                   int32         \n",
      " 177  CountVisit_diag_U11                                   int32         \n",
      " 178  CountVisit_diag_K11                                   int32         \n",
      " 179  CountVisit_diag_S81                                   int32         \n",
      " 180  CountVisit_diag_T11                                   int32         \n",
      " 181  CountVisit_diag_N77                                   int32         \n",
      " 182  CountVisit_diag_O92                                   int32         \n",
      " 183  CountVisit_diag_L84                                   int32         \n",
      " 184  CountVisit_diag_L28                                   int32         \n",
      " 185  CountVisit_diag_A68                                   int32         \n",
      " 186  CountVisit_diag_R55                                   int32         \n",
      " 187  CountVisit_diag_L71                                   int32         \n",
      " 188  CountVisit_diag_N85                                   int32         \n",
      " 189  CountVisit_diag_S89                                   int32         \n",
      " 190  CountVisit_diag_T23                                   int32         \n",
      " 191  CountVisit_diag_B02                                   int32         \n",
      " 192  CountVisit_diag_O21                                   int32         \n",
      " 193  CountVisit_diag_H04                                   int32         \n",
      " 194  CountVisit_diag_T22                                   int32         \n",
      " 195  CountVisit_diag_T00                                   int32         \n",
      " 196  CountVisit_diag_R23                                   int32         \n",
      " 197  CountVisit_diag_G53                                   int32         \n",
      " 198  CountVisit_diag_J32                                   int32         \n",
      " 199  CountVisit_diag_Z10                                   int32         \n",
      " 200  CountVisit_diag_R60                                   int32         \n",
      " 201  CountVisit_diag_R03                                   int32         \n",
      " 202  CountVisit_diag_M43                                   int32         \n",
      " 203  CountVisit_diag_M47                                   int32         \n",
      " 204  CountVisit_diag_R25                                   int32         \n",
      " 205  CountVisit_diag_L64                                   int32         \n",
      " 206  CountVisit_diag_O00                                   int32         \n",
      " 207  CountVisit_diag_H15                                   int32         \n",
      " 208  CountVisit_diag_K58                                   int32         \n",
      " 209  CountVisit_diag_N32                                   int32         \n",
      " 210  CountVisit_diag_F43                                   int32         \n",
      " 211  CountVisit_diag_L60                                   int32         \n",
      " 212  CountVisit_diag_M06                                   int32         \n",
      " 213  CountVisit_diag_T13                                   int32         \n",
      " 214  CountVisit_diag_S51                                   int32         \n",
      " 215  CountVisit_diag_K05                                   int32         \n",
      " 216  CountVisit_diag_N84                                   int32         \n",
      " 217  CountVisit_diag_R00                                   int32         \n",
      " 218  CountVisit_diag_I25                                   int32         \n",
      " 219  CountVisit_diag_B01                                   int32         \n",
      " 220  CountVisit_diag_S50                                   int32         \n",
      " 221  CountVisit_diag_W01                                   int32         \n",
      " 222  CountVisit_diag_M77                                   int32         \n",
      " 223  CountVisit_diag_I83                                   int32         \n",
      " 224  CountVisit_diag_K00                                   int32         \n",
      " 225  CountVisit_diag_S43                                   int32         \n",
      " 226  CountVisit_diag_R82                                   int32         \n",
      " 227  CountVisit_diag_G56                                   int32         \n",
      " 228  CountVisit_diag_T75                                   int32         \n",
      " 229  CountVisit_diag_R80                                   int32         \n",
      " 230  CountVisit_diag_I48                                   int32         \n",
      " 231  CountVisit_diag_N63                                   int32         \n",
      " 232  CountVisit_diag_L55                                   int32         \n",
      " 233  CountVisit_diag_J34                                   int32         \n",
      " 234  CountVisit_diag_I80                                   int32         \n",
      " 235  CountVisit_diag_F32                                   int32         \n",
      " 236  CountVisit_diag_S30                                   int32         \n",
      " 237  CountVisit_diag_R73                                   int32         \n",
      " 238  CountVisit_diag_K60                                   int32         \n",
      " 239  CountVisit_diag_Z01                                   int32         \n",
      " 240  CountVisit_diag_D25                                   int32         \n",
      " 241  CountVisit_diag_B07                                   int32         \n",
      " 242  CountVisit_diag_N40                                   int32         \n",
      " 243  CountVisit_diag_L23                                   int32         \n",
      " 244  CountVisit_diag_L04                                   int32         \n",
      " 245  CountVisit_diag_M67                                   int32         \n",
      " 246  CountVisit_diag_D75                                   int32         \n",
      " 247  CountVisit_diag_L91                                   int32         \n",
      " 248  CountVisit_diag_S80                                   int32         \n",
      " 249  CountVisit_diag_K06                                   int32         \n",
      " 250  CountVisit_diag_K03                                   int32         \n",
      " 251  CountVisit_diag_G62                                   int32         \n",
      " 252  CountVisit_diag_S53                                   int32         \n",
      " 253  CountVisit_diag_J98                                   int32         \n",
      " 254  CountVisit_diag_K08                                   int32         \n",
      " 255  CountVisit_diag_H06                                   int32         \n",
      " 256  CountVisit_diag_H92                                   int32         \n",
      " 257  CountVisit_diag_F90                                   int32         \n",
      " 258  CountVisit_diag_K14                                   int32         \n",
      " 259  CountVisit_diag_M12                                   int32         \n",
      " 260  CountVisit_diag_F00                                   int32         \n",
      " 261  CountVisit_diag_T31                                   int32         \n",
      " 262  CountVisit_diag_R94                                   int32         \n",
      " 263  CountVisit_diag_M51                                   int32         \n",
      " 264  CountVisit_diag_H18                                   int32         \n",
      " 265  CountVisit_diag_G70                                   int32         \n",
      " 266  CountVisit_diag_L73                                   int32         \n",
      " 267  CountVisit_diag_J35                                   int32         \n",
      " 268  CountVisit_diag_M22                                   int32         \n",
      " 269  CountVisit_diag_D10                                   int32         \n",
      " 270  CountVisit_diag_S46                                   int32         \n",
      " 271  CountVisit_diag_L90                                   int32         \n",
      " 272  CountVisit_diag_L81                                   int32         \n",
      " 273  CountVisit_diag_E29                                   int32         \n",
      " 274  CountVisit_diag_I95                                   int32         \n",
      " 275  CountVisit_diag_B80                                   int32         \n",
      " 276  CountVisit_diag_S01                                   int32         \n",
      " 277  CountVisit_diag_H91                                   int32         \n",
      " 278  CountVisit_diag_F06                                   int32         \n",
      " 279  CountVisit_diag_N91                                   int32         \n",
      " 280  CountVisit_diag_V01                                   int32         \n",
      " 281  CountVisit_diag_M84                                   int32         \n",
      " 282  CountVisit_diag_K76                                   int32         \n",
      " 283  CountVisit_diag_L25                                   int32         \n",
      " 284  CountVisit_diag_K62                                   int32         \n",
      " 285  CountVisit_diag_Z33                                   int32         \n",
      " 286  CountVisit_diag_S70                                   int32         \n",
      " 287  CountVisit_diag_G58                                   int32         \n",
      " 288  CountVisit_diag_H69                                   int32         \n",
      " 289  CountVisit_diag_I05                                   int32         \n",
      " 290  CountVisit_diag_S52                                   int32         \n",
      " 291  CountVisit_diag_A92                                   int32         \n",
      " 292  CountVisit_diag_S96                                   int32         \n",
      " 293  CountVisit_diag_R32                                   int32         \n",
      " 294  CountVisit_diag_I64                                   int32         \n",
      " 295  CountVisit_diag_R12                                   int32         \n",
      " 296  CountVisit_diag_S66                                   int32         \n",
      " 297  CountVisit_diag_H94                                   int32         \n",
      " 298  CountVisit_diag_I88                                   int32         \n",
      " 299  CountVisit_diag_L63                                   int32         \n",
      " 300  CountVisit_diag_F52                                   int32         \n",
      " 301  CountVisit_diag_H40                                   int32         \n",
      " 302  CountVisit_diag_E87                                   int32         \n",
      " 303  CountVisit_diag_J33                                   int32         \n",
      " 304  CountVisit_diag_T63                                   int32         \n",
      " 305  CountVisit_diag_R31                                   int32         \n",
      " 306  CountVisit_diag_I78                                   int32         \n",
      " 307  CountVisit_diag_S05                                   int32         \n",
      " 308  CountVisit_diag_S82                                   int32         \n",
      " 309  CountVisit_diag_T24                                   int32         \n",
      " 310  CountVisit_diag_N30                                   int32         \n",
      " 311  CountVisit_diag_R92                                   int32         \n",
      " 312  CountVisit_diag_R20                                   int32         \n",
      " 313  CountVisit_diag_Z92                                   int32         \n",
      " 314  CountVisit_diag_K51                                   int32         \n",
      " 315  CountVisit_diag_H61                                   int32         \n",
      " 316  CountVisit_diag_K10                                   int32         \n",
      " 317  CountVisit_diag_S03                                   int32         \n",
      " 318  CountVisit_diag_N80                                   int32         \n",
      " 319  CountVisit_diag_S71                                   int32         \n",
      " 320  CountVisit_diag_G25                                   int32         \n",
      " 321  CountVisit_diag_X51                                   int32         \n",
      " 322  CountVisit_diag_D22                                   int32         \n",
      " 323  CountVisit_diag_N42                                   int32         \n",
      " 324  CountVisit_diag_W09                                   int32         \n",
      " 325  CountVisit_diag_W55                                   int32         \n",
      " 326  CountVisit_diag_L74                                   int32         \n",
      " 327  CountVisit_diag_I70                                   int32         \n",
      " 328  CountVisit_diag_Z73                                   int32         \n",
      " 329  CountVisit_diag_S20                                   int32         \n",
      " 330  CountVisit_diag_K50                                   int32         \n",
      " 331  CountVisit_diag_S92                                   int32         \n",
      " 332  CountVisit_diag_S40                                   int32         \n",
      " 333  CountVisit_diag_L99                                   int32         \n",
      " 334  CountVisit_diag_J38                                   int32         \n",
      " 335  CountVisit_diag_M71                                   int32         \n",
      " 336  CountVisit_diag_I49                                   int32         \n",
      " 337  CountVisit_diag_R19                                   int32         \n",
      " 338  CountVisit_diag_L72                                   int32         \n",
      " 339  CountVisit_diag_L40                                   int32         \n",
      " 340  CountVisit_diag_Y56                                   int32         \n",
      " 341  CountVisit_diag_D03                                   int32         \n",
      " 342  CountVisit_diag_L42                                   int32         \n",
      " 343  CountVisit_diag_T17                                   int32         \n",
      " 344  CountVisit_diag_R49                                   int32         \n",
      " 345  CountVisit_diag_H90                                   int32         \n",
      " 346  CountVisit_diag_G51                                   int32         \n",
      " 347  CountVisit_diag_E55                                   int32         \n",
      " 348  CountVisit_diag_L93                                   int32         \n",
      " 349  CountVisit_diag_H70                                   int32         \n",
      " 350  CountVisit_diag_N87                                   int32         \n",
      " 351  CountVisit_diag_M20                                   int32         \n",
      " 352  CountVisit_diag_I65                                   int32         \n",
      " 353  CountVisit_diag_L65                                   int32         \n",
      " 354  CountVisit_diag_B81                                   int32         \n",
      " 355  CountVisit_diag_O90                                   int32         \n",
      " 356  CountVisit_diag_K25                                   int32         \n",
      " 357  CountVisit_diag_X50                                   int32         \n",
      " 358  CountVisit_diag_E66                                   int32         \n",
      " 359  CountVisit_diag_N48                                   int32         \n",
      " 360  CountVisit_diag_S06                                   int32         \n",
      " 361  CountVisit_diag_I86                                   int32         \n",
      " 362  CountVisit_diag_H74                                   int32         \n",
      " 363  CountVisit_diag_L66                                   int32         \n",
      " 364  CountVisit_diag_H26                                   int32         \n",
      " 365  CountVisit_chronic_list                               int32         \n",
      " 366  CountVisit_chronic_NoneChronic                        int32         \n",
      " 367  CountVisit_chronic_Vasomotor_and_allergic_rhinitis    int32         \n",
      " 368  CountVisit_chronic_Gout                               int32         \n",
      " 369  CountVisit_chronic_Atopic_dermatitis                  int32         \n",
      " 370  CountVisit_chronic_Hypertension                       int32         \n",
      " 371  CountVisit_chronic_Gastro-oesophageal_reflux_disease  int32         \n",
      " 372  CountVisit_chronic_Hyperlipidaemia                    int32         \n",
      " 373  CountVisit_chronic_Asthma                             int32         \n",
      " 374  CountVisit_chronic_Migraine                           int32         \n",
      " 375  CountVisit_chronic_Diabetes                           int32         \n",
      " 376  CountVisit_chronic_Thyroid                            int32         \n",
      " 377  CountVisit_symp_N                                     int32         \n",
      " 378  CountVisit_symp_headache                              int32         \n",
      " 379  CountVisit_symp_fever                                 int32         \n",
      " 380  CountVisit_symp_giddiness                             int32         \n",
      " 381  CountVisit_symp_others                                int32         \n",
      " 382  CountVisit_symp_medical_referral                      int32         \n",
      " 383  CountVisit_symp_vomiting                              int32         \n",
      " 384  CountVisit_symp_diarrhoea                             int32         \n",
      " 385  CountVisit_symp_sore_throat                           int32         \n",
      " 386  CountVisit_symp_flu                                   int32         \n",
      " 387  CountVisit_symp_cough                                 int32         \n",
      " 388  CountVisit_symp_cold                                  int32         \n",
      " 389  CountVisit_symp_cold_sores                            int32         \n",
      " 390  CountVisit_symp_rash                                  int32         \n",
      " 391  CountVisit_symp_chronic_medicine_top-up               int32         \n",
      " 392  CountVisit_symp_discuss_lab_results                   int32         \n",
      " 393  CountVisit_symp_chronic_illness_management            int32         \n",
      " 394  CountVisit_symp_skin_growth_on_sole_(foot)            int32         \n",
      " 395  CountVisit_symp_ulcer_under_tongue                    int32         \n",
      " 396  CountVisit_symp_vertigo                               int32         \n",
      " 397  CountVisit_symp_runny_nose                            int32         \n",
      " 398  Mode_consult_waived_reason                            object        \n",
      " 399  Mode_consult_hr                                       int64         \n",
      " 400  FirstBookDate                                         datetime64[ns]\n",
      " 401  LastBookDate                                          datetime64[ns]\n",
      " 402  DiffDays_Vist                                         int64         \n",
      " 403  Ave_VisitGapDays                                      int64         \n",
      " 404  Target_Chronic                                        int64         \n",
      " 405  Target_Dermatitis                                     int64         \n",
      " 406  Target_Migraine                                       int64         \n",
      " 407  Target_Allergic                                       int64         \n",
      " 408  Target_Gastro                                         int64         \n",
      " 409  Target_Hypertension                                   int64         \n",
      " 410  Target_Asthma                                         int64         \n",
      " 411  Target_Hyperlipidaemia                                int64         \n",
      " 412  Target_Thyroid                                        int64         \n",
      " 413  Target_Diabetes                                       int64         \n",
      " 414  Target_Gout                                           int64         \n",
      " 415  Target_3High                                          int64         \n",
      " 416  Target_Allergic_Dermatitis_Asthma                     int64         \n",
      " 417  Target_Migraine_Gastro_Thyroid_Gout                   int64         \n",
      " 418  ConsultHr_8to10                                       int64         \n",
      " 419  ConsultHr_11to13                                      int64         \n",
      " 420  ConsultHr_14to17                                      int64         \n",
      " 421  ConsultHr_18to21                                      int64         \n",
      " 422  ConsultHr_22to23                                      int64         \n",
      " 423  Prin1_sym_common                                      float64       \n",
      " 424  Prin2_sym_rash                                        float64       \n",
      " 425  Prin3_sym_headache                                    float64       \n",
      " 426  Prin4_sym_diarrhea                                    float64       \n",
      "dtypes: datetime64[ns](2), float64(4), int32(351), int64(67), object(3)\n",
      "memory usage: 13.0+ MB\n"
     ]
    }
   ],
   "source": [
    "df_mem.info(\"deep\")"
   ]
  },
  {
   "cell_type": "code",
   "execution_count": 354,
   "id": "d28bead2",
   "metadata": {
    "ExecuteTime": {
     "end_time": "2022-08-31T09:10:25.606777Z",
     "start_time": "2022-08-31T09:10:25.592816Z"
    }
   },
   "outputs": [
    {
     "data": {
      "text/plain": [
       "(6774, 427)"
      ]
     },
     "execution_count": 354,
     "metadata": {},
     "output_type": "execute_result"
    }
   ],
   "source": [
    "df_mem.shape"
   ]
  },
  {
   "cell_type": "code",
   "execution_count": 355,
   "id": "4e0ec05a",
   "metadata": {
    "ExecuteTime": {
     "end_time": "2022-08-31T09:10:25.622734Z",
     "start_time": "2022-08-31T09:10:25.607776Z"
    }
   },
   "outputs": [],
   "source": [
    "# Export data \n",
    "df_mem.to_pickle(\"step8_final_member.pkl\")"
   ]
  },
  {
   "cell_type": "code",
   "execution_count": 356,
   "id": "2abce457",
   "metadata": {
    "ExecuteTime": {
     "end_time": "2022-08-31T09:10:25.638692Z",
     "start_time": "2022-08-31T09:10:25.623731Z"
    }
   },
   "outputs": [],
   "source": [
    "if TESTING == 1:\n",
    "    df_mem.to_pickle(\"member_test_data_final.pkl\")\n",
    "else: \n",
    "    df_mem.to_pickle(\"member_train_data_final.pkl\")"
   ]
  },
  {
   "cell_type": "markdown",
   "id": "23038c83",
   "metadata": {},
   "source": [
    "@end"
   ]
  }
 ],
 "metadata": {
  "hide_input": false,
  "kernelspec": {
   "display_name": "Python 3 (ipykernel)",
   "language": "python",
   "name": "python3"
  },
  "language_info": {
   "codemirror_mode": {
    "name": "ipython",
    "version": 3
   },
   "file_extension": ".py",
   "mimetype": "text/x-python",
   "name": "python",
   "nbconvert_exporter": "python",
   "pygments_lexer": "ipython3",
   "version": "3.9.7"
  },
  "toc": {
   "base_numbering": 1,
   "nav_menu": {},
   "number_sections": true,
   "sideBar": true,
   "skip_h1_title": true,
   "title_cell": "Table of Contents",
   "title_sidebar": "Contents",
   "toc_cell": false,
   "toc_position": {
    "height": "calc(100% - 180px)",
    "left": "10px",
    "top": "150px",
    "width": "413.167px"
   },
   "toc_section_display": false,
   "toc_window_display": true
  },
  "varInspector": {
   "cols": {
    "lenName": 16,
    "lenType": 16,
    "lenVar": 40
   },
   "kernels_config": {
    "python": {
     "delete_cmd_postfix": "",
     "delete_cmd_prefix": "del ",
     "library": "var_list.py",
     "varRefreshCmd": "print(var_dic_list())"
    },
    "r": {
     "delete_cmd_postfix": ") ",
     "delete_cmd_prefix": "rm(",
     "library": "var_list.r",
     "varRefreshCmd": "cat(var_dic_list()) "
    }
   },
   "types_to_exclude": [
    "module",
    "function",
    "builtin_function_or_method",
    "instance",
    "_Feature"
   ],
   "window_display": false
  }
 },
 "nbformat": 4,
 "nbformat_minor": 5
}
