{
 "cells": [
  {
   "cell_type": "markdown",
   "id": "d48c977d",
   "metadata": {},
   "source": [
    "# Deploy Model - By Member - Target All Chronic - (test XGB)\n",
    "\n",
    "Prepared by Tan Bee Hoon\n",
    "\n",
    "16 Aug 2022"
   ]
  },
  {
   "cell_type": "markdown",
   "id": "3b98abde",
   "metadata": {},
   "source": [
    "## Import Library"
   ]
  },
  {
   "cell_type": "code",
   "execution_count": 1,
   "id": "6cd38489",
   "metadata": {
    "ExecuteTime": {
     "end_time": "2022-08-30T08:09:28.075332Z",
     "start_time": "2022-08-30T08:09:23.949962Z"
    }
   },
   "outputs": [],
   "source": [
    "import random \n",
    "import pandas as pd\n",
    "from pandas import read_csv\n",
    "import matplotlib.pyplot as plt\n",
    "import seaborn as sns\n",
    "%matplotlib inline \n",
    "\n",
    "import numpy as np \n",
    "from numpy import unique\n",
    "from numpy import where\n",
    "\n",
    "import pickle\n",
    "\n",
    "from pandas import to_pickle\n",
    "from pandas import read_pickle\n",
    "\n",
    "import io\n",
    "\n",
    "from sklearn.linear_model import LogisticRegression\n",
    "from sklearn.preprocessing import StandardScaler\n",
    "from sklearn.metrics import recall_score\n",
    "from sklearn.metrics import confusion_matrix\n",
    "from sklearn.metrics import recall_score\n",
    "from sklearn.metrics import classification_report\n",
    "from sklearn.metrics import RocCurveDisplay\n",
    "from sklearn.inspection import permutation_importance\n",
    "\n",
    "# Libraries for Modelling\n",
    "from sklearn.pipeline import Pipeline\n",
    "from sklearn.model_selection import train_test_split\n",
    "from sklearn.preprocessing import OneHotEncoder\n",
    "from sklearn.feature_selection import SelectFromModel\n",
    "from sklearn import svm\n",
    "from sklearn.svm import LinearSVC\n",
    "from sklearn.naive_bayes import MultinomialNB\n",
    "from sklearn.ensemble import RandomForestClassifier\n",
    "from sklearn.svm import NuSVC\n",
    "from sklearn.svm import SVC\n",
    "from sklearn import metrics \n",
    "from sklearn import tree\n",
    "from sklearn.metrics import roc_auc_score\n",
    "\n",
    "import scikitplot as skplt\n",
    "\n",
    "import shap\n",
    "\n",
    "from itertools import compress\n",
    "\n",
    "import warnings\n",
    "warnings.filterwarnings('ignore')\n",
    "\n",
    "from xgboost import XGBClassifier"
   ]
  },
  {
   "cell_type": "markdown",
   "id": "2ea2f589",
   "metadata": {},
   "source": [
    "## Global Setting"
   ]
  },
  {
   "cell_type": "markdown",
   "id": "c765bb46",
   "metadata": {},
   "source": [
    "###  Training Pickles Filename"
   ]
  },
  {
   "cell_type": "code",
   "execution_count": 2,
   "id": "7aa93e6d",
   "metadata": {
    "ExecuteTime": {
     "end_time": "2022-08-30T08:09:28.092258Z",
     "start_time": "2022-08-30T08:09:28.076333Z"
    }
   },
   "outputs": [],
   "source": [
    "PKL_ALL_FEATURE_FILENAME = \"model_all_featurelist.pkl\""
   ]
  },
  {
   "cell_type": "code",
   "execution_count": 3,
   "id": "916cd0c6",
   "metadata": {
    "ExecuteTime": {
     "end_time": "2022-08-30T08:09:28.106221Z",
     "start_time": "2022-08-30T08:09:28.094252Z"
    }
   },
   "outputs": [],
   "source": [
    "PKL_STANDARDSCALER_FILENAME = \"model_all_standardard_scaler.pkl\""
   ]
  },
  {
   "cell_type": "code",
   "execution_count": 4,
   "id": "7d8d9287",
   "metadata": {
    "ExecuteTime": {
     "end_time": "2022-08-30T08:09:28.122212Z",
     "start_time": "2022-08-30T08:09:28.107218Z"
    }
   },
   "outputs": [],
   "source": [
    "PKL_SELECT_MODEL_FILENAME = \"model_all_selectfeature.pkl\""
   ]
  },
  {
   "cell_type": "code",
   "execution_count": 5,
   "id": "47d852ba",
   "metadata": {
    "ExecuteTime": {
     "end_time": "2022-08-30T08:09:28.137205Z",
     "start_time": "2022-08-30T08:09:28.123176Z"
    }
   },
   "outputs": [],
   "source": [
    "# Options include \n",
    "# model_all_randomforest.pkl\n",
    "# model_all_xgb.pkl\n",
    "# model_all_svm.pkl\n",
    "# model_all_nonlinear_svm.pkl\n",
    "# model_all_logistic.pkl\n",
    "PKL_MODEL_FILENAME = \"model_all_xgb.pkl\""
   ]
  },
  {
   "cell_type": "code",
   "execution_count": 6,
   "id": "2018e2fb",
   "metadata": {
    "ExecuteTime": {
     "end_time": "2022-08-30T08:09:28.152181Z",
     "start_time": "2022-08-30T08:09:28.138206Z"
    }
   },
   "outputs": [],
   "source": [
    "PKL_RESULT_FILENAME = \"model_all_result_xgb.pkl\""
   ]
  },
  {
   "cell_type": "markdown",
   "id": "9a6efbcd",
   "metadata": {
    "ExecuteTime": {
     "end_time": "2022-08-17T06:53:37.686697Z",
     "start_time": "2022-08-17T06:53:37.677747Z"
    }
   },
   "source": [
    "###  Testing Dataset"
   ]
  },
  {
   "cell_type": "code",
   "execution_count": 7,
   "id": "0d8adc54",
   "metadata": {
    "ExecuteTime": {
     "end_time": "2022-08-30T08:09:28.168257Z",
     "start_time": "2022-08-30T08:09:28.154225Z"
    }
   },
   "outputs": [],
   "source": [
    "TEST_PREP_DATA = \"member_test_data_final.pkl\""
   ]
  },
  {
   "cell_type": "markdown",
   "id": "12605170",
   "metadata": {
    "ExecuteTime": {
     "end_time": "2022-08-19T08:29:17.557693Z",
     "start_time": "2022-08-19T08:29:17.545752Z"
    }
   },
   "source": [
    "### Check is Target Label available"
   ]
  },
  {
   "cell_type": "code",
   "execution_count": 8,
   "id": "180a9253",
   "metadata": {
    "ExecuteTime": {
     "end_time": "2022-08-30T08:09:28.184169Z",
     "start_time": "2022-08-30T08:09:28.169210Z"
    }
   },
   "outputs": [],
   "source": [
    "TARGET_AVAIL = 1"
   ]
  },
  {
   "cell_type": "markdown",
   "id": "44e6ed09",
   "metadata": {},
   "source": [
    "### Check Result"
   ]
  },
  {
   "cell_type": "code",
   "execution_count": 9,
   "id": "da0d8c33",
   "metadata": {
    "ExecuteTime": {
     "end_time": "2022-08-30T08:09:28.198966Z",
     "start_time": "2022-08-30T08:09:28.186165Z"
    }
   },
   "outputs": [],
   "source": [
    "CHK_TRAIN_RESULT = 1"
   ]
  },
  {
   "cell_type": "markdown",
   "id": "c1b73683",
   "metadata": {},
   "source": [
    "## Import Test Data"
   ]
  },
  {
   "cell_type": "code",
   "execution_count": 10,
   "id": "ee1dd90d",
   "metadata": {
    "ExecuteTime": {
     "end_time": "2022-08-30T08:09:28.214890Z",
     "start_time": "2022-08-30T08:09:28.199940Z"
    }
   },
   "outputs": [],
   "source": [
    "# Load Test Data\n",
    "df = read_pickle(TEST_PREP_DATA)"
   ]
  },
  {
   "cell_type": "code",
   "execution_count": 11,
   "id": "ebe4408b",
   "metadata": {
    "ExecuteTime": {
     "end_time": "2022-08-30T08:09:28.229849Z",
     "start_time": "2022-08-30T08:09:28.216923Z"
    }
   },
   "outputs": [
    {
     "data": {
      "text/plain": [
       "(6774, 427)"
      ]
     },
     "execution_count": 11,
     "metadata": {},
     "output_type": "execute_result"
    }
   ],
   "source": [
    "df.shape"
   ]
  },
  {
   "cell_type": "code",
   "execution_count": 12,
   "id": "b4112132",
   "metadata": {
    "ExecuteTime": {
     "end_time": "2022-08-30T08:09:28.260767Z",
     "start_time": "2022-08-30T08:09:28.230846Z"
    }
   },
   "outputs": [
    {
     "name": "stdout",
     "output_type": "stream",
     "text": [
      "<class 'pandas.core.frame.DataFrame'>\n",
      "Int64Index: 6774 entries, 0 to 6773\n",
      "Data columns (total 427 columns):\n",
      " #    Column                                                Dtype         \n",
      "---   ------                                                -----         \n",
      " 0    mem_id                                                object        \n",
      " 1    gender                                                object        \n",
      " 2    Mem_CountBooking                                      int64         \n",
      " 3    AVE_mc_days                                           int64         \n",
      " 4    AVE_count_diagnosis                                   int64         \n",
      " 5    AVE_count_chronic                                     int64         \n",
      " 6    AVE_count_medication                                  int64         \n",
      " 7    AVE_count_repeatmed                                   int64         \n",
      " 8    AVE_count_SymID                                       int64         \n",
      " 9    age_yr                                                int64         \n",
      " 10   MAX_mc_days                                           int64         \n",
      " 11   MAX_count_diagnosis                                   int64         \n",
      " 12   MAX_count_chronic                                     int64         \n",
      " 13   MAX_count_medication                                  int64         \n",
      " 14   MAX_count_repeatmed                                   int64         \n",
      " 15   MAX_count_SymID                                       int64         \n",
      " 16   MIN_mc_days                                           int64         \n",
      " 17   MIN_count_diagnosis                                   int64         \n",
      " 18   MIN_count_chronic                                     int64         \n",
      " 19   MIN_count_medication                                  int64         \n",
      " 20   MIN_count_repeatmed                                   int64         \n",
      " 21   MIN_count_SymID                                       int64         \n",
      " 22   WaviedCount_NA                                        int64         \n",
      " 23   WaviedCount_FOLLOW_UP                                 int64         \n",
      " 24   WaviedCount_HEALTH_SCREENING_REVIEW                   int64         \n",
      " 25   WaviedCount_OTHERS                                    int64         \n",
      " 26   WaviedCount_REFERRAL                                  int64         \n",
      " 27   WaviedCount_UNSUITABLE_FOR_TELECONSULT                int64         \n",
      " 28   WaviedCount_WHITECOAT_FAMILY                          int64         \n",
      " 29   ConsultHr_0                                           int64         \n",
      " 30   ConsultHr_7                                           int64         \n",
      " 31   ConsultHr_8                                           int64         \n",
      " 32   ConsultHr_9                                           int64         \n",
      " 33   ConsultHr_10                                          int64         \n",
      " 34   ConsultHr_11                                          int64         \n",
      " 35   ConsultHr_12                                          int64         \n",
      " 36   ConsultHr_13                                          int64         \n",
      " 37   ConsultHr_14                                          int64         \n",
      " 38   ConsultHr_15                                          int64         \n",
      " 39   ConsultHr_16                                          int64         \n",
      " 40   ConsultHr_17                                          int64         \n",
      " 41   ConsultHr_18                                          int64         \n",
      " 42   ConsultHr_19                                          int64         \n",
      " 43   ConsultHr_20                                          int64         \n",
      " 44   ConsultHr_21                                          int64         \n",
      " 45   ConsultHr_22                                          int64         \n",
      " 46   ConsultHr_23                                          int64         \n",
      " 47   CountVisit_is_mc_issued                               int32         \n",
      " 48   CountVisit_is_referral_letter_issued                  int32         \n",
      " 49   CountVisit_Target_chronic                             int32         \n",
      " 50   CountVisit_diag_U12                                   int32         \n",
      " 51   CountVisit_diag_J30                                   int32         \n",
      " 52   CountVisit_diag_T88                                   int32         \n",
      " 53   CountVisit_diag_K12                                   int32         \n",
      " 54   CountVisit_diag_R21                                   int32         \n",
      " 55   CountVisit_diag_A09                                   int32         \n",
      " 56   CountVisit_diag_H57                                   int32         \n",
      " 57   CountVisit_diag_Z02                                   int32         \n",
      " 58   CountVisit_diag_J06                                   int32         \n",
      " 59   CountVisit_diag_J04                                   int32         \n",
      " 60   CountVisit_diag_Z76                                   int32         \n",
      " 61   CountVisit_diag_M79                                   int32         \n",
      " 62   CountVisit_diag_R51                                   int32         \n",
      " 63   CountVisit_diag_M54                                   int32         \n",
      " 64   CountVisit_diag_R22                                   int32         \n",
      " 65   CountVisit_diag_L50                                   int32         \n",
      " 66   CountVisit_diag_H11                                   int32         \n",
      " 67   CountVisit_diag_B35                                   int32         \n",
      " 68   CountVisit_diag_K30                                   int32         \n",
      " 69   CountVisit_diag_O91                                   int32         \n",
      " 70   CountVisit_diag_R07                                   int32         \n",
      " 71   CountVisit_diag_M10                                   int32         \n",
      " 72   CountVisit_diag_Z71                                   int32         \n",
      " 73   CountVisit_diag_N94                                   int32         \n",
      " 74   CountVisit_diag_K29                                   int32         \n",
      " 75   CountVisit_diag_B37                                   int32         \n",
      " 76   CountVisit_diag_R50                                   int32         \n",
      " 77   CountVisit_diag_N39                                   int32         \n",
      " 78   CountVisit_diag_R09                                   int32         \n",
      " 79   CountVisit_diag_M50                                   int32         \n",
      " 80   CountVisit_diag_R42                                   int32         \n",
      " 81   CountVisit_diag_W57                                   int32         \n",
      " 82   CountVisit_diag_B00                                   int32         \n",
      " 83   CountVisit_diag_L70                                   int32         \n",
      " 84   CountVisit_diag_R14                                   int32         \n",
      " 85   CountVisit_diag_H00                                   int32         \n",
      " 86   CountVisit_diag_L98                                   int32         \n",
      " 87   CountVisit_diag_U07                                   int32         \n",
      " 88   CountVisit_diag_M75                                   int32         \n",
      " 89   CountVisit_diag_R45                                   int32         \n",
      " 90   CountVisit_diag_R05                                   int32         \n",
      " 91   CountVisit_diag_R63                                   int32         \n",
      " 92   CountVisit_diag_L20                                   int32         \n",
      " 93   CountVisit_diag_J39                                   int32         \n",
      " 94   CountVisit_diag_J02                                   int32         \n",
      " 95   CountVisit_diag_L02                                   int32         \n",
      " 96   CountVisit_diag_I10                                   int32         \n",
      " 97   CountVisit_diag_K21                                   int32         \n",
      " 98   CountVisit_diag_J20                                   int32         \n",
      " 99   CountVisit_diag_H02                                   int32         \n",
      " 100  CountVisit_diag_S83                                   int32         \n",
      " 101  CountVisit_diag_L03                                   int32         \n",
      " 102  CountVisit_diag_M76                                   int32         \n",
      " 103  CountVisit_diag_M62                                   int32         \n",
      " 104  CountVisit_diag_H10                                   int32         \n",
      " 105  CountVisit_diag_L24                                   int32         \n",
      " 106  CountVisit_diag_L30                                   int32         \n",
      " 107  CountVisit_diag_K59                                   int32         \n",
      " 108  CountVisit_diag_Y42                                   int32         \n",
      " 109  CountVisit_diag_K07                                   int32         \n",
      " 110  CountVisit_diag_E78                                   int32         \n",
      " 111  CountVisit_diag_K64                                   int32         \n",
      " 112  CountVisit_diag_J45                                   int32         \n",
      " 113  CountVisit_diag_S90                                   int32         \n",
      " 114  CountVisit_diag_G43                                   int32         \n",
      " 115  CountVisit_diag_B08                                   int32         \n",
      " 116  CountVisit_diag_G47                                   int32         \n",
      " 117  CountVisit_diag_T78                                   int32         \n",
      " 118  CountVisit_diag_U08                                   int32         \n",
      " 119  CountVisit_diag_H81                                   int32         \n",
      " 120  CountVisit_diag_G44                                   int32         \n",
      " 121  CountVisit_diag_N92                                   int32         \n",
      " 122  CountVisit_diag_J01                                   int32         \n",
      " 123  CountVisit_diag_E11                                   int32         \n",
      " 124  CountVisit_diag_H66                                   int32         \n",
      " 125  CountVisit_diag_M25                                   int32         \n",
      " 126  CountVisit_diag_F38                                   int32         \n",
      " 127  CountVisit_diag_H01                                   int32         \n",
      " 128  CountVisit_diag_G71                                   int32         \n",
      " 129  CountVisit_diag_R53                                   int32         \n",
      " 130  CountVisit_diag_M23                                   int32         \n",
      " 131  CountVisit_diag_S13                                   int32         \n",
      " 132  CountVisit_diag_S00                                   int32         \n",
      " 133  CountVisit_diag_U09                                   int32         \n",
      " 134  CountVisit_diag_H93                                   int32         \n",
      " 135  CountVisit_diag_B36                                   int32         \n",
      " 136  CountVisit_diag_S60                                   int32         \n",
      " 137  CountVisit_diag_E61                                   int32         \n",
      " 138  CountVisit_diag_R52                                   int32         \n",
      " 139  CountVisit_diag_H60                                   int32         \n",
      " 140  CountVisit_diag_M17                                   int32         \n",
      " 141  CountVisit_diag_R06                                   int32         \n",
      " 142  CountVisit_diag_N64                                   int32         \n",
      " 143  CountVisit_diag_R10                                   int32         \n",
      " 144  CountVisit_diag_R11                                   int32         \n",
      " 145  CountVisit_diag_E03                                   int32         \n",
      " 146  CountVisit_diag_J03                                   int32         \n",
      " 147  CountVisit_diag_S33                                   int32         \n",
      " 148  CountVisit_diag_Z13                                   int32         \n",
      " 149  CountVisit_diag_L29                                   int32         \n",
      " 150  CountVisit_diag_S23                                   int32         \n",
      " 151  CountVisit_diag_D50                                   int32         \n",
      " 152  CountVisit_diag_K52                                   int32         \n",
      " 153  CountVisit_diag_S93                                   int32         \n",
      " 154  CountVisit_diag_F41                                   int32         \n",
      " 155  CountVisit_diag_R04                                   int32         \n",
      " 156  CountVisit_diag_E28                                   int32         \n",
      " 157  CountVisit_diag_R59                                   int32         \n",
      " 158  CountVisit_diag_J22                                   int32         \n",
      " 159  CountVisit_diag_Z53                                   int32         \n",
      " 160  CountVisit_diag_N02                                   int32         \n",
      " 161  CountVisit_diag_S63                                   int32         \n",
      " 162  CountVisit_diag_B30                                   int32         \n",
      " 163  CountVisit_diag_M65                                   int32         \n",
      " 164  CountVisit_diag_E05                                   int32         \n",
      " 165  CountVisit_diag_H58                                   int32         \n",
      " 166  CountVisit_diag_M72                                   int32         \n",
      " 167  CountVisit_diag_P39                                   int32         \n",
      " 168  CountVisit_diag_L85                                   int32         \n",
      " 169  CountVisit_diag_N76                                   int32         \n",
      " 170  CountVisit_diag_L21                                   int32         \n",
      " 171  CountVisit_diag_Y58                                   int32         \n",
      " 172  CountVisit_diag_K13                                   int32         \n",
      " 173  CountVisit_diag_Y60                                   int32         \n",
      " 174  CountVisit_diag_Z30                                   int32         \n",
      " 175  CountVisit_diag_N51                                   int32         \n",
      " 176  CountVisit_diag_S61                                   int32         \n",
      " 177  CountVisit_diag_U11                                   int32         \n",
      " 178  CountVisit_diag_K11                                   int32         \n",
      " 179  CountVisit_diag_S81                                   int32         \n",
      " 180  CountVisit_diag_T11                                   int32         \n",
      " 181  CountVisit_diag_N77                                   int32         \n",
      " 182  CountVisit_diag_O92                                   int32         \n",
      " 183  CountVisit_diag_L84                                   int32         \n",
      " 184  CountVisit_diag_L28                                   int32         \n",
      " 185  CountVisit_diag_A68                                   int32         \n",
      " 186  CountVisit_diag_R55                                   int32         \n",
      " 187  CountVisit_diag_L71                                   int32         \n",
      " 188  CountVisit_diag_N85                                   int32         \n",
      " 189  CountVisit_diag_S89                                   int32         \n",
      " 190  CountVisit_diag_T23                                   int32         \n",
      " 191  CountVisit_diag_B02                                   int32         \n",
      " 192  CountVisit_diag_O21                                   int32         \n",
      " 193  CountVisit_diag_H04                                   int32         \n",
      " 194  CountVisit_diag_T22                                   int32         \n",
      " 195  CountVisit_diag_T00                                   int32         \n",
      " 196  CountVisit_diag_R23                                   int32         \n",
      " 197  CountVisit_diag_G53                                   int32         \n",
      " 198  CountVisit_diag_J32                                   int32         \n",
      " 199  CountVisit_diag_Z10                                   int32         \n",
      " 200  CountVisit_diag_R60                                   int32         \n",
      " 201  CountVisit_diag_R03                                   int32         \n",
      " 202  CountVisit_diag_M43                                   int32         \n",
      " 203  CountVisit_diag_M47                                   int32         \n",
      " 204  CountVisit_diag_R25                                   int32         \n",
      " 205  CountVisit_diag_L64                                   int32         \n",
      " 206  CountVisit_diag_O00                                   int32         \n",
      " 207  CountVisit_diag_H15                                   int32         \n",
      " 208  CountVisit_diag_K58                                   int32         \n",
      " 209  CountVisit_diag_N32                                   int32         \n",
      " 210  CountVisit_diag_F43                                   int32         \n",
      " 211  CountVisit_diag_L60                                   int32         \n",
      " 212  CountVisit_diag_M06                                   int32         \n",
      " 213  CountVisit_diag_T13                                   int32         \n",
      " 214  CountVisit_diag_S51                                   int32         \n",
      " 215  CountVisit_diag_K05                                   int32         \n",
      " 216  CountVisit_diag_N84                                   int32         \n",
      " 217  CountVisit_diag_R00                                   int32         \n",
      " 218  CountVisit_diag_I25                                   int32         \n",
      " 219  CountVisit_diag_B01                                   int32         \n",
      " 220  CountVisit_diag_S50                                   int32         \n",
      " 221  CountVisit_diag_W01                                   int32         \n",
      " 222  CountVisit_diag_M77                                   int32         \n",
      " 223  CountVisit_diag_I83                                   int32         \n",
      " 224  CountVisit_diag_K00                                   int32         \n",
      " 225  CountVisit_diag_S43                                   int32         \n",
      " 226  CountVisit_diag_R82                                   int32         \n",
      " 227  CountVisit_diag_G56                                   int32         \n",
      " 228  CountVisit_diag_T75                                   int32         \n",
      " 229  CountVisit_diag_R80                                   int32         \n",
      " 230  CountVisit_diag_I48                                   int32         \n",
      " 231  CountVisit_diag_N63                                   int32         \n",
      " 232  CountVisit_diag_L55                                   int32         \n",
      " 233  CountVisit_diag_J34                                   int32         \n",
      " 234  CountVisit_diag_I80                                   int32         \n",
      " 235  CountVisit_diag_F32                                   int32         \n",
      " 236  CountVisit_diag_S30                                   int32         \n",
      " 237  CountVisit_diag_R73                                   int32         \n",
      " 238  CountVisit_diag_K60                                   int32         \n",
      " 239  CountVisit_diag_Z01                                   int32         \n",
      " 240  CountVisit_diag_D25                                   int32         \n",
      " 241  CountVisit_diag_B07                                   int32         \n",
      " 242  CountVisit_diag_N40                                   int32         \n",
      " 243  CountVisit_diag_L23                                   int32         \n",
      " 244  CountVisit_diag_L04                                   int32         \n",
      " 245  CountVisit_diag_M67                                   int32         \n",
      " 246  CountVisit_diag_D75                                   int32         \n",
      " 247  CountVisit_diag_L91                                   int32         \n",
      " 248  CountVisit_diag_S80                                   int32         \n",
      " 249  CountVisit_diag_K06                                   int32         \n",
      " 250  CountVisit_diag_K03                                   int32         \n",
      " 251  CountVisit_diag_G62                                   int32         \n",
      " 252  CountVisit_diag_S53                                   int32         \n",
      " 253  CountVisit_diag_J98                                   int32         \n",
      " 254  CountVisit_diag_K08                                   int32         \n",
      " 255  CountVisit_diag_H06                                   int32         \n",
      " 256  CountVisit_diag_H92                                   int32         \n",
      " 257  CountVisit_diag_F90                                   int32         \n",
      " 258  CountVisit_diag_K14                                   int32         \n",
      " 259  CountVisit_diag_M12                                   int32         \n",
      " 260  CountVisit_diag_F00                                   int32         \n",
      " 261  CountVisit_diag_T31                                   int32         \n",
      " 262  CountVisit_diag_R94                                   int32         \n",
      " 263  CountVisit_diag_M51                                   int32         \n",
      " 264  CountVisit_diag_H18                                   int32         \n",
      " 265  CountVisit_diag_G70                                   int32         \n",
      " 266  CountVisit_diag_L73                                   int32         \n",
      " 267  CountVisit_diag_J35                                   int32         \n",
      " 268  CountVisit_diag_M22                                   int32         \n",
      " 269  CountVisit_diag_D10                                   int32         \n",
      " 270  CountVisit_diag_S46                                   int32         \n",
      " 271  CountVisit_diag_L90                                   int32         \n",
      " 272  CountVisit_diag_L81                                   int32         \n",
      " 273  CountVisit_diag_E29                                   int32         \n",
      " 274  CountVisit_diag_I95                                   int32         \n",
      " 275  CountVisit_diag_B80                                   int32         \n",
      " 276  CountVisit_diag_S01                                   int32         \n",
      " 277  CountVisit_diag_H91                                   int32         \n",
      " 278  CountVisit_diag_F06                                   int32         \n",
      " 279  CountVisit_diag_N91                                   int32         \n",
      " 280  CountVisit_diag_V01                                   int32         \n",
      " 281  CountVisit_diag_M84                                   int32         \n",
      " 282  CountVisit_diag_K76                                   int32         \n",
      " 283  CountVisit_diag_L25                                   int32         \n",
      " 284  CountVisit_diag_K62                                   int32         \n",
      " 285  CountVisit_diag_Z33                                   int32         \n",
      " 286  CountVisit_diag_S70                                   int32         \n",
      " 287  CountVisit_diag_G58                                   int32         \n",
      " 288  CountVisit_diag_H69                                   int32         \n",
      " 289  CountVisit_diag_I05                                   int32         \n",
      " 290  CountVisit_diag_S52                                   int32         \n",
      " 291  CountVisit_diag_A92                                   int32         \n",
      " 292  CountVisit_diag_S96                                   int32         \n",
      " 293  CountVisit_diag_R32                                   int32         \n",
      " 294  CountVisit_diag_I64                                   int32         \n",
      " 295  CountVisit_diag_R12                                   int32         \n",
      " 296  CountVisit_diag_S66                                   int32         \n",
      " 297  CountVisit_diag_H94                                   int32         \n",
      " 298  CountVisit_diag_I88                                   int32         \n",
      " 299  CountVisit_diag_L63                                   int32         \n",
      " 300  CountVisit_diag_F52                                   int32         \n",
      " 301  CountVisit_diag_H40                                   int32         \n",
      " 302  CountVisit_diag_E87                                   int32         \n",
      " 303  CountVisit_diag_J33                                   int32         \n",
      " 304  CountVisit_diag_T63                                   int32         \n",
      " 305  CountVisit_diag_R31                                   int32         \n",
      " 306  CountVisit_diag_I78                                   int32         \n",
      " 307  CountVisit_diag_S05                                   int32         \n",
      " 308  CountVisit_diag_S82                                   int32         \n",
      " 309  CountVisit_diag_T24                                   int32         \n",
      " 310  CountVisit_diag_N30                                   int32         \n",
      " 311  CountVisit_diag_R92                                   int32         \n",
      " 312  CountVisit_diag_R20                                   int32         \n",
      " 313  CountVisit_diag_Z92                                   int32         \n",
      " 314  CountVisit_diag_K51                                   int32         \n",
      " 315  CountVisit_diag_H61                                   int32         \n",
      " 316  CountVisit_diag_K10                                   int32         \n",
      " 317  CountVisit_diag_S03                                   int32         \n",
      " 318  CountVisit_diag_N80                                   int32         \n",
      " 319  CountVisit_diag_S71                                   int32         \n",
      " 320  CountVisit_diag_G25                                   int32         \n",
      " 321  CountVisit_diag_X51                                   int32         \n",
      " 322  CountVisit_diag_D22                                   int32         \n",
      " 323  CountVisit_diag_N42                                   int32         \n",
      " 324  CountVisit_diag_W09                                   int32         \n",
      " 325  CountVisit_diag_W55                                   int32         \n",
      " 326  CountVisit_diag_L74                                   int32         \n",
      " 327  CountVisit_diag_I70                                   int32         \n",
      " 328  CountVisit_diag_Z73                                   int32         \n",
      " 329  CountVisit_diag_S20                                   int32         \n",
      " 330  CountVisit_diag_K50                                   int32         \n",
      " 331  CountVisit_diag_S92                                   int32         \n",
      " 332  CountVisit_diag_S40                                   int32         \n",
      " 333  CountVisit_diag_L99                                   int32         \n",
      " 334  CountVisit_diag_J38                                   int32         \n",
      " 335  CountVisit_diag_M71                                   int32         \n",
      " 336  CountVisit_diag_I49                                   int32         \n",
      " 337  CountVisit_diag_R19                                   int32         \n",
      " 338  CountVisit_diag_L72                                   int32         \n",
      " 339  CountVisit_diag_L40                                   int32         \n",
      " 340  CountVisit_diag_Y56                                   int32         \n",
      " 341  CountVisit_diag_D03                                   int32         \n",
      " 342  CountVisit_diag_L42                                   int32         \n",
      " 343  CountVisit_diag_T17                                   int32         \n",
      " 344  CountVisit_diag_R49                                   int32         \n",
      " 345  CountVisit_diag_H90                                   int32         \n",
      " 346  CountVisit_diag_G51                                   int32         \n",
      " 347  CountVisit_diag_E55                                   int32         \n",
      " 348  CountVisit_diag_L93                                   int32         \n",
      " 349  CountVisit_diag_H70                                   int32         \n",
      " 350  CountVisit_diag_N87                                   int32         \n",
      " 351  CountVisit_diag_M20                                   int32         \n",
      " 352  CountVisit_diag_I65                                   int32         \n",
      " 353  CountVisit_diag_L65                                   int32         \n",
      " 354  CountVisit_diag_B81                                   int32         \n",
      " 355  CountVisit_diag_O90                                   int32         \n",
      " 356  CountVisit_diag_K25                                   int32         \n",
      " 357  CountVisit_diag_X50                                   int32         \n",
      " 358  CountVisit_diag_E66                                   int32         \n",
      " 359  CountVisit_diag_N48                                   int32         \n",
      " 360  CountVisit_diag_S06                                   int32         \n",
      " 361  CountVisit_diag_I86                                   int32         \n",
      " 362  CountVisit_diag_H74                                   int32         \n",
      " 363  CountVisit_diag_L66                                   int32         \n",
      " 364  CountVisit_diag_H26                                   int32         \n",
      " 365  CountVisit_chronic_list                               int32         \n",
      " 366  CountVisit_chronic_NoneChronic                        int32         \n",
      " 367  CountVisit_chronic_Vasomotor_and_allergic_rhinitis    int32         \n",
      " 368  CountVisit_chronic_Gout                               int32         \n",
      " 369  CountVisit_chronic_Atopic_dermatitis                  int32         \n",
      " 370  CountVisit_chronic_Hypertension                       int32         \n",
      " 371  CountVisit_chronic_Gastro-oesophageal_reflux_disease  int32         \n",
      " 372  CountVisit_chronic_Hyperlipidaemia                    int32         \n",
      " 373  CountVisit_chronic_Asthma                             int32         \n",
      " 374  CountVisit_chronic_Migraine                           int32         \n",
      " 375  CountVisit_chronic_Diabetes                           int32         \n",
      " 376  CountVisit_chronic_Thyroid                            int32         \n",
      " 377  CountVisit_symp_N                                     int32         \n",
      " 378  CountVisit_symp_headache                              int32         \n",
      " 379  CountVisit_symp_fever                                 int32         \n",
      " 380  CountVisit_symp_giddiness                             int32         \n",
      " 381  CountVisit_symp_others                                int32         \n",
      " 382  CountVisit_symp_medical_referral                      int32         \n",
      " 383  CountVisit_symp_vomiting                              int32         \n",
      " 384  CountVisit_symp_diarrhoea                             int32         \n",
      " 385  CountVisit_symp_sore_throat                           int32         \n",
      " 386  CountVisit_symp_flu                                   int32         \n",
      " 387  CountVisit_symp_cough                                 int32         \n",
      " 388  CountVisit_symp_cold                                  int32         \n",
      " 389  CountVisit_symp_cold_sores                            int32         \n",
      " 390  CountVisit_symp_rash                                  int32         \n",
      " 391  CountVisit_symp_chronic_medicine_top-up               int32         \n",
      " 392  CountVisit_symp_discuss_lab_results                   int32         \n",
      " 393  CountVisit_symp_chronic_illness_management            int32         \n",
      " 394  CountVisit_symp_skin_growth_on_sole_(foot)            int32         \n",
      " 395  CountVisit_symp_ulcer_under_tongue                    int32         \n",
      " 396  CountVisit_symp_vertigo                               int32         \n",
      " 397  CountVisit_symp_runny_nose                            int32         \n",
      " 398  Mode_consult_waived_reason                            object        \n",
      " 399  Mode_consult_hr                                       int64         \n",
      " 400  FirstBookDate                                         datetime64[ns]\n",
      " 401  LastBookDate                                          datetime64[ns]\n",
      " 402  DiffDays_Vist                                         int64         \n",
      " 403  Ave_VisitGapDays                                      int64         \n",
      " 404  Target_Chronic                                        int64         \n",
      " 405  Target_Dermatitis                                     int64         \n",
      " 406  Target_Migraine                                       int64         \n",
      " 407  Target_Allergic                                       int64         \n",
      " 408  Target_Gastro                                         int64         \n",
      " 409  Target_Hypertension                                   int64         \n",
      " 410  Target_Asthma                                         int64         \n",
      " 411  Target_Hyperlipidaemia                                int64         \n",
      " 412  Target_Thyroid                                        int64         \n",
      " 413  Target_Diabetes                                       int64         \n",
      " 414  Target_Gout                                           int64         \n",
      " 415  Target_3High                                          int64         \n",
      " 416  Target_Allergic_Dermatitis_Asthma                     int64         \n",
      " 417  Target_Migraine_Gastro_Thyroid_Gout                   int64         \n",
      " 418  ConsultHr_8to10                                       int64         \n",
      " 419  ConsultHr_11to13                                      int64         \n",
      " 420  ConsultHr_14to17                                      int64         \n",
      " 421  ConsultHr_18to21                                      int64         \n",
      " 422  ConsultHr_22to23                                      int64         \n",
      " 423  Prin1_sym_common                                      float64       \n",
      " 424  Prin2_sym_rash                                        float64       \n",
      " 425  Prin3_sym_headache                                    float64       \n",
      " 426  Prin4_sym_diarrhea                                    float64       \n",
      "dtypes: datetime64[ns](2), float64(4), int32(351), int64(67), object(3)\n",
      "memory usage: 13.0+ MB\n"
     ]
    }
   ],
   "source": [
    "df.info(\"Deep\")"
   ]
  },
  {
   "cell_type": "markdown",
   "id": "4397fcfb",
   "metadata": {},
   "source": [
    "## Import Model Training Pickles"
   ]
  },
  {
   "cell_type": "code",
   "execution_count": 13,
   "id": "fc1e1894",
   "metadata": {
    "ExecuteTime": {
     "end_time": "2022-08-30T08:09:28.276724Z",
     "start_time": "2022-08-30T08:09:28.261764Z"
    },
    "scrolled": false
   },
   "outputs": [
    {
     "name": "stdout",
     "output_type": "stream",
     "text": [
      "Num of training features:  121\n"
     ]
    }
   ],
   "source": [
    "# Import training dataset feature list\n",
    "with open(PKL_ALL_FEATURE_FILENAME, 'rb') as file:\n",
    "    train_all_features = pickle.load(file)\n",
    "print(\"Num of training features: \", len(train_all_features))"
   ]
  },
  {
   "cell_type": "code",
   "execution_count": 14,
   "id": "4f1ba491",
   "metadata": {
    "ExecuteTime": {
     "end_time": "2022-08-30T08:09:28.291684Z",
     "start_time": "2022-08-30T08:09:28.277721Z"
    }
   },
   "outputs": [
    {
     "data": {
      "text/plain": [
       "StandardScaler()"
      ]
     },
     "execution_count": 14,
     "metadata": {},
     "output_type": "execute_result"
    }
   ],
   "source": [
    "# Import trained standard scaler model\n",
    "with open(PKL_STANDARDSCALER_FILENAME, 'rb') as file:\n",
    "    train_standardscaler = pickle.load(file)\n",
    "train_standardscaler"
   ]
  },
  {
   "cell_type": "code",
   "execution_count": 15,
   "id": "c934e2ed",
   "metadata": {
    "ExecuteTime": {
     "end_time": "2022-08-30T08:09:28.307641Z",
     "start_time": "2022-08-30T08:09:28.292682Z"
    }
   },
   "outputs": [
    {
     "data": {
      "text/plain": [
       "SelectFromModel(estimator=LinearSVC(random_state=42))"
      ]
     },
     "execution_count": 15,
     "metadata": {},
     "output_type": "execute_result"
    }
   ],
   "source": [
    "# Import trained feature selection model\n",
    "with open(PKL_SELECT_MODEL_FILENAME, 'rb') as file:\n",
    "    train_selectfeature = pickle.load(file)\n",
    "train_selectfeature"
   ]
  },
  {
   "cell_type": "code",
   "execution_count": 16,
   "id": "2f3422e1",
   "metadata": {
    "ExecuteTime": {
     "end_time": "2022-08-30T08:09:28.353553Z",
     "start_time": "2022-08-30T08:09:28.308639Z"
    }
   },
   "outputs": [
    {
     "data": {
      "text/plain": [
       "XGBClassifier(base_score=0.5, booster='gbtree', colsample_bylevel=1,\n",
       "              colsample_bynode=1, colsample_bytree=1, enable_categorical=False,\n",
       "              gamma=0, gpu_id=-1, importance_type=None,\n",
       "              interaction_constraints='', learning_rate=0.300000012,\n",
       "              max_delta_step=0, max_depth=3, min_child_weight=1, missing=nan,\n",
       "              monotone_constraints='()', n_estimators=100, n_jobs=16,\n",
       "              num_parallel_tree=1, predictor='auto', random_state=42,\n",
       "              reg_alpha=1, reg_lambda=1, scale_pos_weight=1, subsample=1,\n",
       "              tree_method='exact', validate_parameters=1, verbosity=None)"
      ]
     },
     "execution_count": 16,
     "metadata": {},
     "output_type": "execute_result"
    }
   ],
   "source": [
    "# Import trained classification model \n",
    "with open(PKL_MODEL_FILENAME, 'rb') as file:\n",
    "    train_model = pickle.load(file)\n",
    "train_model"
   ]
  },
  {
   "cell_type": "code",
   "execution_count": 17,
   "id": "eab47969",
   "metadata": {
    "ExecuteTime": {
     "end_time": "2022-08-30T08:09:28.369477Z",
     "start_time": "2022-08-30T08:09:28.354517Z"
    }
   },
   "outputs": [
    {
     "data": {
      "text/html": [
       "<div>\n",
       "<style scoped>\n",
       "    .dataframe tbody tr th:only-of-type {\n",
       "        vertical-align: middle;\n",
       "    }\n",
       "\n",
       "    .dataframe tbody tr th {\n",
       "        vertical-align: top;\n",
       "    }\n",
       "\n",
       "    .dataframe thead th {\n",
       "        text-align: right;\n",
       "    }\n",
       "</style>\n",
       "<table border=\"1\" class=\"dataframe\">\n",
       "  <thead>\n",
       "    <tr style=\"text-align: right;\">\n",
       "      <th></th>\n",
       "      <th>Train</th>\n",
       "      <th>Test</th>\n",
       "    </tr>\n",
       "  </thead>\n",
       "  <tbody>\n",
       "    <tr>\n",
       "      <th>precision</th>\n",
       "      <td>0.847561</td>\n",
       "      <td>0.748344</td>\n",
       "    </tr>\n",
       "    <tr>\n",
       "      <th>recall</th>\n",
       "      <td>0.470389</td>\n",
       "      <td>0.446640</td>\n",
       "    </tr>\n",
       "    <tr>\n",
       "      <th>f1-score</th>\n",
       "      <td>0.605005</td>\n",
       "      <td>0.559406</td>\n",
       "    </tr>\n",
       "    <tr>\n",
       "      <th>support</th>\n",
       "      <td>591.000000</td>\n",
       "      <td>253.000000</td>\n",
       "    </tr>\n",
       "  </tbody>\n",
       "</table>\n",
       "</div>"
      ],
      "text/plain": [
       "                Train        Test\n",
       "precision    0.847561    0.748344\n",
       "recall       0.470389    0.446640\n",
       "f1-score     0.605005    0.559406\n",
       "support    591.000000  253.000000"
      ]
     },
     "execution_count": 17,
     "metadata": {},
     "output_type": "execute_result"
    }
   ],
   "source": [
    "if CHK_TRAIN_RESULT == 1:\n",
    "    with open(PKL_RESULT_FILENAME, 'rb') as file:\n",
    "        train_result = pickle.load(file)\n",
    "train_result"
   ]
  },
  {
   "cell_type": "markdown",
   "id": "7c51c3c2",
   "metadata": {},
   "source": [
    "## Prepare Scoring Data "
   ]
  },
  {
   "cell_type": "markdown",
   "id": "6abb5afe",
   "metadata": {},
   "source": [
    "### Drop Redundant Data"
   ]
  },
  {
   "cell_type": "code",
   "execution_count": 18,
   "id": "62ebf895",
   "metadata": {
    "ExecuteTime": {
     "end_time": "2022-08-30T08:09:28.384436Z",
     "start_time": "2022-08-30T08:09:28.370473Z"
    }
   },
   "outputs": [],
   "source": [
    "drop_max = [col for col in df if col.startswith('MAX_')]"
   ]
  },
  {
   "cell_type": "code",
   "execution_count": 19,
   "id": "1d4543dc",
   "metadata": {
    "ExecuteTime": {
     "end_time": "2022-08-30T08:09:28.400392Z",
     "start_time": "2022-08-30T08:09:28.385435Z"
    }
   },
   "outputs": [],
   "source": [
    "drop_min = [col for col in df if col.startswith('MIN_')]"
   ]
  },
  {
   "cell_type": "code",
   "execution_count": 20,
   "id": "89db9727",
   "metadata": {
    "ExecuteTime": {
     "end_time": "2022-08-30T08:09:28.415353Z",
     "start_time": "2022-08-30T08:09:28.401391Z"
    }
   },
   "outputs": [],
   "source": [
    "# drop redundant variables\n",
    "drop_list = ['FirstBookDate','LastBookDate', \"WaviedCount_NA\", \n",
    "             'Mode_consult_waived_reason', \"Mode_consult_hr\", \n",
    "                \"ConsultHr_0\",\n",
    "                \"ConsultHr_8\", \n",
    "                \"ConsultHr_9\",\n",
    "                \"ConsultHr_10\",                 \n",
    "                \"ConsultHr_11\",\n",
    "                \"ConsultHr_12\",\n",
    "                \"ConsultHr_13\",\n",
    "                \"ConsultHr_14\",\n",
    "                \"ConsultHr_15\",\n",
    "                \"ConsultHr_16\",\n",
    "                \"ConsultHr_17\",\n",
    "                \"ConsultHr_18\",\n",
    "                \"ConsultHr_19\",\n",
    "                \"ConsultHr_20\",\n",
    "                \"ConsultHr_21\",\n",
    "                \"ConsultHr_22\",\n",
    "                \"ConsultHr_23\"]"
   ]
  },
  {
   "cell_type": "code",
   "execution_count": 21,
   "id": "a6739ca3",
   "metadata": {
    "ExecuteTime": {
     "end_time": "2022-08-30T08:09:28.431311Z",
     "start_time": "2022-08-30T08:09:28.416351Z"
    }
   },
   "outputs": [],
   "source": [
    "final_drop = drop_max + drop_min + drop_list"
   ]
  },
  {
   "cell_type": "code",
   "execution_count": 22,
   "id": "0d23ea6b",
   "metadata": {
    "ExecuteTime": {
     "end_time": "2022-08-30T08:09:28.446271Z",
     "start_time": "2022-08-30T08:09:28.432309Z"
    }
   },
   "outputs": [],
   "source": [
    "df.drop(final_drop, inplace = True, axis = 1)"
   ]
  },
  {
   "cell_type": "markdown",
   "id": "7e8e8e62",
   "metadata": {},
   "source": [
    "### Check Selected Input"
   ]
  },
  {
   "cell_type": "code",
   "execution_count": 23,
   "id": "83d59f70",
   "metadata": {
    "ExecuteTime": {
     "end_time": "2022-08-30T08:09:28.461231Z",
     "start_time": "2022-08-30T08:09:28.447269Z"
    }
   },
   "outputs": [],
   "source": [
    "all_list = df.columns.tolist()"
   ]
  },
  {
   "cell_type": "code",
   "execution_count": 24,
   "id": "7623649e",
   "metadata": {
    "ExecuteTime": {
     "end_time": "2022-08-30T08:09:28.477188Z",
     "start_time": "2022-08-30T08:09:28.462229Z"
    }
   },
   "outputs": [],
   "source": [
    "#[TODO] TO INCLUDE CATEGORICAL INPUT TO CONSIDER\n",
    "cat_list = [\"gender\"]  \n",
    "df[cat_list] = df[cat_list].astype(\"category\")"
   ]
  },
  {
   "cell_type": "code",
   "execution_count": 25,
   "id": "1e99d176",
   "metadata": {
    "ExecuteTime": {
     "end_time": "2022-08-30T08:09:28.493145Z",
     "start_time": "2022-08-30T08:09:28.478186Z"
    }
   },
   "outputs": [],
   "source": [
    "#[TODO] EDIT WHERE NEC\n",
    "exc_list = ['mem_id', \n",
    "            'Target_Chronic',\n",
    "            'Target_Dermatitis',\n",
    "            'Target_Migraine',\n",
    "            'Target_Allergic',\n",
    "            'Target_Gastro',\n",
    "            'Target_Hypertension',\n",
    "            'Target_Asthma',\n",
    "            'Target_Hyperlipidaemia',\n",
    "            'Target_Thyroid',\n",
    "            'Target_Diabetes',\n",
    "            'Target_Gout', \n",
    "            \"CountVisit_Target_chronic\",\n",
    "            \"AVE_count_chronic\", \n",
    "            'CountVisit_symp_chronic_medicine_top-up',\n",
    "            'CountVisit_symp_chronic_illness_management',\n",
    "            \"CountVisit_chronic_NoneChronic\", \n",
    "            \"CountVisit_chronic_Atopic_dermatitis\",\n",
    "            \"CountVisit_chronic_Migraine\",\n",
    "            \"CountVisit_chronic_Vasomotor_and_allergic_rhinitis\",\n",
    "            \"CountVisit_chronic_Gastro-oesophageal_reflux_disease\",\n",
    "            \"CountVisit_chronic_Hypertension\",\n",
    "            \"CountVisit_chronic_Asthma\",\n",
    "            \"CountVisit_chronic_Hyperlipidaemia\",\n",
    "            \"CountVisit_chronic_Thyroid\",\n",
    "            \"CountVisit_chronic_Diabetes\",\n",
    "            \"CountVisit_chronic_Gout\", \n",
    "            \"CountVisit_diag_J30\",  #Vasomotor and allergic rhinitis\n",
    "            \"CountVisit_diag_K21\",  #Gastro-esophageal reflux disease\n",
    "            \"CountVisit_diag_G43\",  #Migraine\n",
    "            \"CountVisit_diag_L20\",  #Atopic dermatitis\n",
    "            \"CountVisit_diag_M10\",  #Gout\n",
    "            \"CountVisit_diag_I10\",  #hypertension\n",
    "            \"CountVisit_diag_J45\",  #Asthma\n",
    "            \"CountVisit_diag_E11\",  #Diabetes\n",
    "            \"CountVisit_diag_E78\",  #hypercholesterolemia, hyperglyceridemia, Hyperlipidemia (high cholesterol), Hyperchylomicronemia \n",
    "            \"CountVisit_diag_E03\",  #Other hypothyroidism, i.e. Thyroid \n",
    "            \"CountVisit_diag_E05\",  #Thyrotoxicosis [hyperthyroidism], i.e. Thyroid\n",
    "            \"Target_3High\",                                           \n",
    "            \"Target_Allergic_Dermatitis_Asthma\",                                                   \n",
    "            \"Target_Migraine_Gastro_Thyroid_Gout\",                     \n",
    "            \"CountVisit_symp_headache\",           \n",
    "            \"CountVisit_symp_giddiness\",             \n",
    "            \"CountVisit_symp_cold_sores\", \n",
    "            \"CountVisit_symp_rash\",      \n",
    "            \"CountVisit_symp_sore_throat\",  \n",
    "            \"CountVisit_symp_flu\",          \n",
    "            \"CountVisit_symp_cough\", \n",
    "            \"CountVisit_symp_cold\",    \n",
    "            \"CountVisit_symp_vomiting\", \n",
    "            \"CountVisit_symp_diarrhoea\", \n",
    "           ] "
   ]
  },
  {
   "cell_type": "code",
   "execution_count": 26,
   "id": "c8a42a32",
   "metadata": {
    "ExecuteTime": {
     "end_time": "2022-08-30T08:09:28.508107Z",
     "start_time": "2022-08-30T08:09:28.494143Z"
    }
   },
   "outputs": [],
   "source": [
    "# select columns not in exclusion list above\n",
    "select_col = [x for x in all_list if x not in exc_list] "
   ]
  },
  {
   "cell_type": "code",
   "execution_count": 27,
   "id": "137013c4",
   "metadata": {
    "ExecuteTime": {
     "end_time": "2022-08-30T08:09:28.524063Z",
     "start_time": "2022-08-30T08:09:28.512095Z"
    }
   },
   "outputs": [],
   "source": [
    "# numerical data in selected list above\n",
    "num_list = [x for x in select_col if x not in cat_list] "
   ]
  },
  {
   "cell_type": "code",
   "execution_count": 28,
   "id": "6b4e7536",
   "metadata": {
    "ExecuteTime": {
     "end_time": "2022-08-30T08:09:28.539023Z",
     "start_time": "2022-08-30T08:09:28.525063Z"
    }
   },
   "outputs": [],
   "source": [
    "# Check that all columns used in training are in the holdout test set.  \n",
    "# If not, create a new column with value 0\n",
    "for i in train_all_features:\n",
    "    if i not in select_col:\n",
    "        if str(i).startswith('gender')==False:  #TODO need to include other categorical data if nec\n",
    "            print(\"PLEASE CHECK, Selected field in training dataset not in this test dataset, : \", i)\n",
    "            df[i] = 0\n",
    "            num_list.append(i)"
   ]
  },
  {
   "cell_type": "code",
   "execution_count": 29,
   "id": "5d9ff423",
   "metadata": {
    "ExecuteTime": {
     "end_time": "2022-08-30T08:09:28.553983Z",
     "start_time": "2022-08-30T08:09:28.540021Z"
    }
   },
   "outputs": [],
   "source": [
    "# Only include input variables available in training input list\n",
    "num_list_final = [x for x in num_list if x in train_all_features] "
   ]
  },
  {
   "cell_type": "markdown",
   "id": "0fbb6661",
   "metadata": {},
   "source": [
    "### One Hot Encoding "
   ]
  },
  {
   "cell_type": "code",
   "execution_count": 30,
   "id": "45d2ebc0",
   "metadata": {
    "ExecuteTime": {
     "end_time": "2022-08-30T08:09:28.568942Z",
     "start_time": "2022-08-30T08:09:28.554981Z"
    }
   },
   "outputs": [],
   "source": [
    "# Get encoded df for categorical data\n",
    "enc_df = pd.get_dummies(df[cat_list])"
   ]
  },
  {
   "cell_type": "code",
   "execution_count": 31,
   "id": "9d82f195",
   "metadata": {
    "ExecuteTime": {
     "end_time": "2022-08-30T08:09:28.583904Z",
     "start_time": "2022-08-30T08:09:28.569941Z"
    }
   },
   "outputs": [],
   "source": [
    "# Drop \"gender_Unknown\"\n",
    "drop_oneHot = [\"gender_Female\", \"gender_Male\"]"
   ]
  },
  {
   "cell_type": "code",
   "execution_count": 32,
   "id": "dec675ef",
   "metadata": {
    "ExecuteTime": {
     "end_time": "2022-08-30T08:09:28.598862Z",
     "start_time": "2022-08-30T08:09:28.584945Z"
    }
   },
   "outputs": [],
   "source": [
    "#[TODO] TO EDIT AND DROP ONE CATEGORY LEVEL FOR ONE-HOT\n",
    "enc_df = enc_df[drop_oneHot]"
   ]
  },
  {
   "cell_type": "markdown",
   "id": "b6edf586",
   "metadata": {},
   "source": [
    "### Define input and output"
   ]
  },
  {
   "cell_type": "code",
   "execution_count": 33,
   "id": "7a6f8cd9",
   "metadata": {
    "ExecuteTime": {
     "end_time": "2022-08-30T08:09:28.614820Z",
     "start_time": "2022-08-30T08:09:28.599860Z"
    }
   },
   "outputs": [],
   "source": [
    "# merge with numerical df for input\n",
    "X = df[num_list_final].join(enc_df)   "
   ]
  },
  {
   "cell_type": "code",
   "execution_count": 34,
   "id": "545d9ea2",
   "metadata": {
    "ExecuteTime": {
     "end_time": "2022-08-30T08:09:28.629780Z",
     "start_time": "2022-08-30T08:09:28.615819Z"
    }
   },
   "outputs": [
    {
     "data": {
      "text/plain": [
       "(6774, 121)"
      ]
     },
     "execution_count": 34,
     "metadata": {},
     "output_type": "execute_result"
    }
   ],
   "source": [
    "X.shape"
   ]
  },
  {
   "cell_type": "code",
   "execution_count": 35,
   "id": "038989b7",
   "metadata": {
    "ExecuteTime": {
     "end_time": "2022-08-30T08:09:28.644740Z",
     "start_time": "2022-08-30T08:09:28.630778Z"
    }
   },
   "outputs": [],
   "source": [
    "# Define the Target\n",
    "if TARGET_AVAIL ==1:\n",
    "    y = df[\"Target_Chronic\"]  \n",
    "else:\n",
    "    print(\"no target label\")"
   ]
  },
  {
   "cell_type": "code",
   "execution_count": 36,
   "id": "db59d487",
   "metadata": {
    "ExecuteTime": {
     "end_time": "2022-08-30T08:09:28.660698Z",
     "start_time": "2022-08-30T08:09:28.645738Z"
    }
   },
   "outputs": [],
   "source": [
    "member_id = df[\"mem_id\"]  "
   ]
  },
  {
   "cell_type": "code",
   "execution_count": 37,
   "id": "bb3f02e2",
   "metadata": {
    "ExecuteTime": {
     "end_time": "2022-08-30T08:09:28.675661Z",
     "start_time": "2022-08-30T08:09:28.661696Z"
    }
   },
   "outputs": [
    {
     "data": {
      "text/plain": [
       "['Mem_CountBooking',\n",
       " 'AVE_mc_days',\n",
       " 'AVE_count_diagnosis',\n",
       " 'AVE_count_medication',\n",
       " 'AVE_count_repeatmed',\n",
       " 'AVE_count_SymID',\n",
       " 'age_yr',\n",
       " 'WaviedCount_FOLLOW_UP',\n",
       " 'WaviedCount_HEALTH_SCREENING_REVIEW',\n",
       " 'WaviedCount_OTHERS',\n",
       " 'WaviedCount_REFERRAL',\n",
       " 'WaviedCount_UNSUITABLE_FOR_TELECONSULT',\n",
       " 'WaviedCount_WHITECOAT_FAMILY',\n",
       " 'CountVisit_is_mc_issued',\n",
       " 'CountVisit_is_referral_letter_issued',\n",
       " 'CountVisit_diag_U12',\n",
       " 'CountVisit_diag_T88',\n",
       " 'CountVisit_diag_K12',\n",
       " 'CountVisit_diag_R21',\n",
       " 'CountVisit_diag_A09',\n",
       " 'CountVisit_diag_H57',\n",
       " 'CountVisit_diag_Z02',\n",
       " 'CountVisit_diag_J06',\n",
       " 'CountVisit_diag_Z76',\n",
       " 'CountVisit_diag_M79',\n",
       " 'CountVisit_diag_R51',\n",
       " 'CountVisit_diag_M54',\n",
       " 'CountVisit_diag_R22',\n",
       " 'CountVisit_diag_L50',\n",
       " 'CountVisit_diag_B35',\n",
       " 'CountVisit_diag_K30',\n",
       " 'CountVisit_diag_O91',\n",
       " 'CountVisit_diag_R07',\n",
       " 'CountVisit_diag_Z71',\n",
       " 'CountVisit_diag_N94',\n",
       " 'CountVisit_diag_K29',\n",
       " 'CountVisit_diag_B37',\n",
       " 'CountVisit_diag_R50',\n",
       " 'CountVisit_diag_N39',\n",
       " 'CountVisit_diag_R42',\n",
       " 'CountVisit_diag_W57',\n",
       " 'CountVisit_diag_B00',\n",
       " 'CountVisit_diag_L70',\n",
       " 'CountVisit_diag_H00',\n",
       " 'CountVisit_diag_L98',\n",
       " 'CountVisit_diag_U07',\n",
       " 'CountVisit_diag_M75',\n",
       " 'CountVisit_diag_R05',\n",
       " 'CountVisit_diag_J39',\n",
       " 'CountVisit_diag_J02',\n",
       " 'CountVisit_diag_L02',\n",
       " 'CountVisit_diag_H02',\n",
       " 'CountVisit_diag_L03',\n",
       " 'CountVisit_diag_M62',\n",
       " 'CountVisit_diag_H10',\n",
       " 'CountVisit_diag_L24',\n",
       " 'CountVisit_diag_L30',\n",
       " 'CountVisit_diag_K59',\n",
       " 'CountVisit_diag_Y42',\n",
       " 'CountVisit_diag_K07',\n",
       " 'CountVisit_diag_K64',\n",
       " 'CountVisit_diag_S90',\n",
       " 'CountVisit_diag_G47',\n",
       " 'CountVisit_diag_T78',\n",
       " 'CountVisit_diag_H81',\n",
       " 'CountVisit_diag_G44',\n",
       " 'CountVisit_diag_N92',\n",
       " 'CountVisit_diag_J01',\n",
       " 'CountVisit_diag_M25',\n",
       " 'CountVisit_diag_H01',\n",
       " 'CountVisit_diag_R53',\n",
       " 'CountVisit_diag_M23',\n",
       " 'CountVisit_diag_S13',\n",
       " 'CountVisit_diag_H93',\n",
       " 'CountVisit_diag_S60',\n",
       " 'CountVisit_diag_R52',\n",
       " 'CountVisit_diag_H60',\n",
       " 'CountVisit_diag_N64',\n",
       " 'CountVisit_diag_R10',\n",
       " 'CountVisit_diag_R11',\n",
       " 'CountVisit_diag_J03',\n",
       " 'CountVisit_diag_L29',\n",
       " 'CountVisit_diag_K52',\n",
       " 'CountVisit_diag_S93',\n",
       " 'CountVisit_diag_F41',\n",
       " 'CountVisit_diag_J22',\n",
       " 'CountVisit_diag_S63',\n",
       " 'CountVisit_diag_M65',\n",
       " 'CountVisit_diag_M72',\n",
       " 'CountVisit_diag_P39',\n",
       " 'CountVisit_diag_N76',\n",
       " 'CountVisit_diag_K13',\n",
       " 'CountVisit_diag_Z30',\n",
       " 'CountVisit_diag_B02',\n",
       " 'CountVisit_diag_O21',\n",
       " 'CountVisit_diag_J32',\n",
       " 'CountVisit_diag_L64',\n",
       " 'CountVisit_diag_K58',\n",
       " 'CountVisit_diag_L60',\n",
       " 'CountVisit_diag_K05',\n",
       " 'CountVisit_diag_L23',\n",
       " 'CountVisit_diag_S80',\n",
       " 'CountVisit_diag_L73',\n",
       " 'CountVisit_symp_N',\n",
       " 'CountVisit_symp_fever',\n",
       " 'CountVisit_symp_others',\n",
       " 'CountVisit_symp_medical_referral',\n",
       " 'CountVisit_symp_discuss_lab_results',\n",
       " 'DiffDays_Vist',\n",
       " 'Ave_VisitGapDays',\n",
       " 'ConsultHr_8to10',\n",
       " 'ConsultHr_11to13',\n",
       " 'ConsultHr_14to17',\n",
       " 'ConsultHr_18to21',\n",
       " 'ConsultHr_22to23',\n",
       " 'Prin1_sym_common',\n",
       " 'Prin2_sym_rash',\n",
       " 'Prin3_sym_headache',\n",
       " 'Prin4_sym_diarrhea',\n",
       " 'gender_Female',\n",
       " 'gender_Male']"
      ]
     },
     "execution_count": 37,
     "metadata": {},
     "output_type": "execute_result"
    }
   ],
   "source": [
    "# Check input variable names\n",
    "feature_names = X.columns.tolist()\n",
    "feature_names"
   ]
  },
  {
   "cell_type": "code",
   "execution_count": 38,
   "id": "9652d1d5",
   "metadata": {
    "ExecuteTime": {
     "end_time": "2022-08-30T08:09:28.690617Z",
     "start_time": "2022-08-30T08:09:28.676656Z"
    }
   },
   "outputs": [
    {
     "name": "stdout",
     "output_type": "stream",
     "text": [
      "ok, training input features and testing input features mapped\n"
     ]
    }
   ],
   "source": [
    "if len(feature_names) == len(train_all_features):\n",
    "    print(\"ok, training input features and testing input features mapped\")\n",
    "else: \n",
    "    print('\\n Dropping columns from original columns with ', len(X.columns) , ' columns')\n",
    "    # Add code to keep only columns in training set \n",
    "    X = X[train_all_features]\n",
    "    print('\\n Modified dataset has ', len(X.columns), ' columns')\n",
    "    # See features in test data but not in training data \n",
    "    excluded_test_feature_list=[]\n",
    "    for f in feature_names:\n",
    "      if f not in train_all_features:\n",
    "        excluded_test_feature_list.append(f)\n",
    "    print(excluded_test_feature_list)"
   ]
  },
  {
   "cell_type": "markdown",
   "id": "892d2e4d",
   "metadata": {},
   "source": [
    "### Standardized Data"
   ]
  },
  {
   "cell_type": "code",
   "execution_count": 39,
   "id": "3ca93ece",
   "metadata": {
    "ExecuteTime": {
     "end_time": "2022-08-30T08:09:28.706575Z",
     "start_time": "2022-08-30T08:09:28.691619Z"
    }
   },
   "outputs": [
    {
     "name": "stdout",
     "output_type": "stream",
     "text": [
      "Transform the testing dataset (no fitting)\n"
     ]
    }
   ],
   "source": [
    "# Transform the testing dataset\n",
    "print(\"Transform the testing dataset (no fitting)\")\n",
    "X = train_standardscaler.transform (X)"
   ]
  },
  {
   "cell_type": "markdown",
   "id": "591c641d",
   "metadata": {},
   "source": [
    "## Model Result"
   ]
  },
  {
   "cell_type": "markdown",
   "id": "3ebdd536",
   "metadata": {
    "ExecuteTime": {
     "end_time": "2022-08-17T09:21:05.809456Z",
     "start_time": "2022-08-17T09:21:05.799441Z"
    }
   },
   "source": [
    "### Model Selected Features"
   ]
  },
  {
   "cell_type": "code",
   "execution_count": 40,
   "id": "a64363fb",
   "metadata": {
    "ExecuteTime": {
     "end_time": "2022-08-30T08:09:28.721535Z",
     "start_time": "2022-08-30T08:09:28.707573Z"
    }
   },
   "outputs": [],
   "source": [
    "X_selected = train_selectfeature.transform(X)"
   ]
  },
  {
   "cell_type": "code",
   "execution_count": 41,
   "id": "853461cf",
   "metadata": {
    "ExecuteTime": {
     "end_time": "2022-08-30T08:09:28.737493Z",
     "start_time": "2022-08-30T08:09:28.723530Z"
    }
   },
   "outputs": [],
   "source": [
    "feature_idx= train_selectfeature.get_support()\n",
    "final_selectList = list(compress(feature_names, feature_idx))"
   ]
  },
  {
   "cell_type": "code",
   "execution_count": 42,
   "id": "92d4b958",
   "metadata": {
    "ExecuteTime": {
     "end_time": "2022-08-30T08:09:28.752452Z",
     "start_time": "2022-08-30T08:09:28.738490Z"
    }
   },
   "outputs": [
    {
     "name": "stdout",
     "output_type": "stream",
     "text": [
      "Number of BEST features from SELECTMODEL:  34\n",
      "\n",
      "\n",
      "List of selected BEST features from SELECTMODEL: \n",
      " ['Mem_CountBooking', 'AVE_count_diagnosis', 'AVE_count_medication', 'CountVisit_diag_U12', 'CountVisit_diag_K12', 'CountVisit_diag_R21', 'CountVisit_diag_A09', 'CountVisit_diag_H57', 'CountVisit_diag_Z02', 'CountVisit_diag_J06', 'CountVisit_diag_Z76', 'CountVisit_diag_M79', 'CountVisit_diag_R51', 'CountVisit_diag_M54', 'CountVisit_diag_B35', 'CountVisit_diag_K30', 'CountVisit_diag_R07', 'CountVisit_diag_Z71', 'CountVisit_diag_N94', 'CountVisit_diag_R42', 'CountVisit_diag_W57', 'CountVisit_diag_L98', 'CountVisit_diag_J02', 'CountVisit_diag_H02', 'CountVisit_diag_L24', 'CountVisit_diag_K64', 'CountVisit_diag_J03', 'CountVisit_diag_F41', 'CountVisit_diag_B02', 'ConsultHr_8to10', 'ConsultHr_11to13', 'ConsultHr_14to17', 'ConsultHr_18to21', 'Prin1_sym_common']\n"
     ]
    }
   ],
   "source": [
    "print(\"Number of BEST features from SELECTMODEL: \", len(final_selectList))\n",
    "print(\"\\n\\nList of selected BEST features from SELECTMODEL: \\n\", final_selectList)"
   ]
  },
  {
   "cell_type": "markdown",
   "id": "d24bde19",
   "metadata": {
    "ExecuteTime": {
     "end_time": "2022-08-17T09:24:30.403273Z",
     "start_time": "2022-08-17T09:24:30.398300Z"
    }
   },
   "source": [
    "### Model ROC & AUC"
   ]
  },
  {
   "cell_type": "code",
   "execution_count": 43,
   "id": "bc318aa0",
   "metadata": {
    "ExecuteTime": {
     "end_time": "2022-08-30T08:09:28.768409Z",
     "start_time": "2022-08-30T08:09:28.754465Z"
    }
   },
   "outputs": [],
   "source": [
    "model_probs = train_model.predict_proba(X_selected)[:,1]\n",
    "    \n",
    "if TARGET_AVAIL == 1:\n",
    "    model_auc = roc_auc_score(y, model_probs, average=None)\n",
    "else:\n",
    "    print(\"No Target label, thus, auc not computed\")"
   ]
  },
  {
   "cell_type": "code",
   "execution_count": 44,
   "id": "a4ca3f07",
   "metadata": {
    "ExecuteTime": {
     "end_time": "2022-08-30T08:09:28.953943Z",
     "start_time": "2022-08-30T08:09:28.769407Z"
    }
   },
   "outputs": [
    {
     "name": "stdout",
     "output_type": "stream",
     "text": [
      "Model:  XGBClassifier\n",
      "Model AUC:  0.858\n"
     ]
    },
    {
     "data": {
      "image/png": "[encoded data removed]",
      "text/plain": [
       "<Figure size 720x576 with 1 Axes>"
      ]
     },
     "metadata": {
      "needs_background": "light"
     },
     "output_type": "display_data"
    }
   ],
   "source": [
    "if TARGET_AVAIL == 1:\n",
    "    print(\"Model: \", type(train_model).__name__)\n",
    "    print(\"Model AUC: \", round(model_auc,3))\n",
    "    %matplotlib inline\n",
    "    plt.figure(figsize=(10,8))\n",
    "    ax = plt.gca()\n",
    "    model_disp = RocCurveDisplay.from_estimator(train_model, X_selected, y, ax=ax, alpha=0.8)\n",
    "    plt.title(\"ROC Evaluation of Model, using Holdout Test Data\")\n",
    "    plt.show()\n",
    "else:\n",
    "    print(\"No Target label, thus, roc not plotted\")"
   ]
  },
  {
   "cell_type": "markdown",
   "id": "8cccd65a",
   "metadata": {},
   "source": [
    "### Model Classification Report"
   ]
  },
  {
   "cell_type": "code",
   "execution_count": 45,
   "id": "44cd22e5",
   "metadata": {
    "ExecuteTime": {
     "end_time": "2022-08-30T08:09:28.969480Z",
     "start_time": "2022-08-30T08:09:28.954943Z"
    }
   },
   "outputs": [],
   "source": [
    "#Define Target Names\n",
    "target_names = ['Non-Chronic', 'Chronic']   "
   ]
  },
  {
   "cell_type": "code",
   "execution_count": 46,
   "id": "9cc73ba5",
   "metadata": {
    "ExecuteTime": {
     "end_time": "2022-08-30T08:09:28.985123Z",
     "start_time": "2022-08-30T08:09:28.970477Z"
    }
   },
   "outputs": [
    {
     "name": "stdout",
     "output_type": "stream",
     "text": [
      "The model loaded:  XGBClassifier\n",
      "\n",
      "The following are the trained model parameters:  {'objective': 'binary:logistic', 'use_label_encoder': True, 'base_score': 0.5, 'booster': 'gbtree', 'colsample_bylevel': 1, 'colsample_bynode': 1, 'colsample_bytree': 1, 'enable_categorical': False, 'gamma': 0, 'gpu_id': -1, 'importance_type': None, 'interaction_constraints': '', 'learning_rate': 0.300000012, 'max_delta_step': 0, 'max_depth': 3, 'min_child_weight': 1, 'missing': nan, 'monotone_constraints': '()', 'n_estimators': 100, 'n_jobs': 16, 'num_parallel_tree': 1, 'predictor': 'auto', 'random_state': 42, 'reg_alpha': 1, 'reg_lambda': 1, 'scale_pos_weight': 1, 'subsample': 1, 'tree_method': 'exact', 'validate_parameters': 1, 'verbosity': None}\n"
     ]
    }
   ],
   "source": [
    "print(\"The model loaded: \", type(train_model).__name__)\n",
    "param = train_model.get_params()\n",
    "print(\"\\nThe following are the trained model parameters: \", param)"
   ]
  },
  {
   "cell_type": "code",
   "execution_count": 47,
   "id": "4198622b",
   "metadata": {
    "ExecuteTime": {
     "end_time": "2022-08-30T08:09:29.001075Z",
     "start_time": "2022-08-30T08:09:28.986115Z"
    }
   },
   "outputs": [],
   "source": [
    "# get prediction\n",
    "prediction = train_model.predict(X_selected)"
   ]
  },
  {
   "cell_type": "code",
   "execution_count": 48,
   "id": "c4c40a24",
   "metadata": {
    "ExecuteTime": {
     "end_time": "2022-08-30T08:09:29.017032Z",
     "start_time": "2022-08-30T08:09:29.002071Z"
    }
   },
   "outputs": [],
   "source": [
    "# Generate Confusion Matrix\n",
    "if TARGET_AVAIL == 1:\n",
    "    conf_matrix = metrics.confusion_matrix(y, prediction)\n",
    "else:\n",
    "    print(\"Target not available, thus confucion matrix not generated.\")"
   ]
  },
  {
   "cell_type": "code",
   "execution_count": 49,
   "id": "3edddc91",
   "metadata": {
    "ExecuteTime": {
     "end_time": "2022-08-30T08:09:29.186584Z",
     "start_time": "2022-08-30T08:09:29.018028Z"
    }
   },
   "outputs": [
    {
     "name": "stdout",
     "output_type": "stream",
     "text": [
      "For Holdout Test Data:\n",
      "Target:  ['Non-Chronic', 'Chronic']\n",
      "Model:  XGBClassifier\n",
      "\n",
      "Confusion Matrix: \n",
      " [[5851  147]\n",
      " [ 576  200]] \n",
      "\n"
     ]
    },
    {
     "data": {
      "image/png": "[encoded data removed]",
      "text/plain": [
       "<Figure size 720x576 with 2 Axes>"
      ]
     },
     "metadata": {
      "needs_background": "light"
     },
     "output_type": "display_data"
    },
    {
     "name": "stdout",
     "output_type": "stream",
     "text": [
      "              precision    recall  f1-score   support\n",
      "\n",
      " Non-Chronic     0.9104    0.9755    0.9418      5998\n",
      "     Chronic     0.5764    0.2577    0.3562       776\n",
      "\n",
      "    accuracy                         0.8933      6774\n",
      "   macro avg     0.7434    0.6166    0.6490      6774\n",
      "weighted avg     0.8721    0.8933    0.8747      6774\n",
      " \n",
      "\n"
     ]
    }
   ],
   "source": [
    "# Generate Classification Report\n",
    "if TARGET_AVAIL == 1:\n",
    "    print(\"For Holdout Test Data:\")\n",
    "    print(\"Target: \", target_names)\n",
    "    print(\"Model: \", type(train_model).__name__)\n",
    "    print(\"\\nConfusion Matrix: \\n\", conf_matrix, \"\\n\")\n",
    "    %matplotlib inline\n",
    "    plt.figure(figsize=(10,8))\n",
    "    sns.heatmap(conf_matrix, annot=True, fmt='d', vmin=0, vmax=y.shape[0]/len(y.unique()), cmap=\"Blues\")\n",
    "    plt.title(\"Training Data Confusion Matrix Heatmap\")\n",
    "    plt.xlabel('Predicted Labels')\n",
    "    plt.ylabel('Actual Labels')\n",
    "    plt.show()\n",
    "    print(metrics.classification_report(y, prediction,  digits=4, target_names=target_names), \"\\n\" )\n",
    "    report_dict_holdout = classification_report(y, prediction, output_dict=True)\n",
    "    report_df_holdout = pd.DataFrame(report_dict_holdout)\n",
    "    report_tgt_holdout = report_df_holdout[\"1\"]\n",
    "else:\n",
    "    print(\"Target not available, thus classification report not generated.\")"
   ]
  },
  {
   "cell_type": "markdown",
   "id": "9e4caf32",
   "metadata": {},
   "source": [
    "## Compare Result"
   ]
  },
  {
   "cell_type": "code",
   "execution_count": 50,
   "id": "2e8a10b3",
   "metadata": {
    "ExecuteTime": {
     "end_time": "2022-08-30T08:09:29.202541Z",
     "start_time": "2022-08-30T08:09:29.187577Z"
    }
   },
   "outputs": [
    {
     "name": "stdout",
     "output_type": "stream",
     "text": [
      "Model:  XGBClassifier \n",
      "\n",
      "         precision    recall  f1-score  support\n",
      "Train     0.847561  0.470389  0.605005    591.0\n",
      "Test      0.748344  0.446640  0.559406    253.0\n",
      "Holdout   0.576369  0.257732  0.356189    776.0\n",
      "\n",
      "Model Holdout AUC:  0.858\n"
     ]
    }
   ],
   "source": [
    "# Check Training Result\n",
    "if CHK_TRAIN_RESULT == 1:\n",
    "    print(\"Model: \", type(train_model).__name__, \"\\n\")\n",
    "    \n",
    "    compare = pd.concat([train_result, report_tgt_holdout], axis=1)\n",
    "    col_name = [\"Train\", \"Test\", \"Holdout\"]\n",
    "    compare.columns = col_name\n",
    "    print(compare.transpose())\n",
    "    \n",
    "    if TARGET_AVAIL == 1:\n",
    "        print(\"\\nModel Holdout AUC: \", round(model_auc,3))"
   ]
  },
  {
   "cell_type": "markdown",
   "id": "34854674",
   "metadata": {},
   "source": [
    "## Generate Score List"
   ]
  },
  {
   "cell_type": "code",
   "execution_count": 51,
   "id": "4b894a66",
   "metadata": {
    "ExecuteTime": {
     "end_time": "2022-08-30T08:09:29.217496Z",
     "start_time": "2022-08-30T08:09:29.203535Z"
    }
   },
   "outputs": [],
   "source": [
    "predict_series = pd.Series(prediction)"
   ]
  },
  {
   "cell_type": "code",
   "execution_count": 52,
   "id": "259b2043",
   "metadata": {
    "ExecuteTime": {
     "end_time": "2022-08-30T08:09:29.233453Z",
     "start_time": "2022-08-30T08:09:29.218493Z"
    }
   },
   "outputs": [],
   "source": [
    "if TARGET_AVAIL == 1:\n",
    "    df_scorelist = pd.DataFrame(columns = [\"member_id\", \"true_target\", \"prediction\"])\n",
    "    df_scorelist[\"member_id\"] = member_id\n",
    "    df_scorelist[\"true_target\"] = y\n",
    "    df_scorelist[\"prediction\"] = predict_series\n",
    "else:\n",
    "    df_scorelist = pd.DataFrame(columns = [\"member_id\", \"prediction\"])\n",
    "    df_scorelist[\"member_id\"] = member_id\n",
    "    df_scorelist[\"prediction\"] = predict_series\n"
   ]
  },
  {
   "cell_type": "code",
   "execution_count": 53,
   "id": "cfba49ec",
   "metadata": {
    "ExecuteTime": {
     "end_time": "2022-08-30T08:09:29.248434Z",
     "start_time": "2022-08-30T08:09:29.234451Z"
    }
   },
   "outputs": [
    {
     "name": "stdout",
     "output_type": "stream",
     "text": [
      "                              member_id  true_target  prediction\n",
      "0  00059B0F-87F5-4D64-A5C8-441457913282            0           0\n",
      "1  000789AE-E161-4FDE-B9B0-9377AB383A1B            1           0\n",
      "2  0008AEAF-0767-46A2-830F-C98A9B88FF34            0           0\n",
      "3  000C3E29-2C23-4EB0-A1FB-837EC7EA9E59            0           0\n",
      "4  001C4B02-1827-4F58-85E8-AB985B27496A            0           0\n"
     ]
    }
   ],
   "source": [
    "print(df_scorelist.head())"
   ]
  },
  {
   "cell_type": "code",
   "execution_count": 54,
   "id": "eb9fdc01",
   "metadata": {
    "ExecuteTime": {
     "end_time": "2022-08-30T08:09:29.265394Z",
     "start_time": "2022-08-30T08:09:29.250434Z"
    }
   },
   "outputs": [
    {
     "name": "stdout",
     "output_type": "stream",
     "text": [
      "<class 'pandas.core.frame.DataFrame'>\n",
      "Int64Index: 6774 entries, 0 to 6773\n",
      "Data columns (total 3 columns):\n",
      " #   Column       Non-Null Count  Dtype \n",
      "---  ------       --------------  ----- \n",
      " 0   member_id    6774 non-null   object\n",
      " 1   true_target  6774 non-null   int64 \n",
      " 2   prediction   6774 non-null   int64 \n",
      "dtypes: int64(2), object(1)\n",
      "memory usage: 469.7+ KB\n"
     ]
    }
   ],
   "source": [
    "df_scorelist.info()"
   ]
  },
  {
   "cell_type": "code",
   "execution_count": 55,
   "id": "5abfa161",
   "metadata": {
    "ExecuteTime": {
     "end_time": "2022-08-30T08:09:29.295313Z",
     "start_time": "2022-08-30T08:09:29.267388Z"
    }
   },
   "outputs": [
    {
     "name": "stdout",
     "output_type": "stream",
     "text": [
      "scorelist_allXGBClassifier.csv\n"
     ]
    }
   ],
   "source": [
    "if type(train_model).__name__==\"SVC\":\n",
    "    FILE_NAME = \"scorelist_all\" + str(type(train_model).__name__) + str(param[\"kernel\"]) + \".csv\"\n",
    "else:\n",
    "    FILE_NAME = \"scorelist_all\" + str(type(train_model).__name__) + \".csv\"\n",
    "print(FILE_NAME)\n",
    "df_scorelist.to_csv(FILE_NAME, index=False)"
   ]
  },
  {
   "cell_type": "markdown",
   "id": "2ac71e4e",
   "metadata": {},
   "source": [
    "@end"
   ]
  }
 ],
 "metadata": {
  "hide_input": false,
  "kernelspec": {
   "display_name": "Python 3 (ipykernel)",
   "language": "python",
   "name": "python3"
  },
  "language_info": {
   "codemirror_mode": {
    "name": "ipython",
    "version": 3
   },
   "file_extension": ".py",
   "mimetype": "text/x-python",
   "name": "python",
   "nbconvert_exporter": "python",
   "pygments_lexer": "ipython3",
   "version": "3.9.7"
  },
  "toc": {
   "base_numbering": 1,
   "nav_menu": {},
   "number_sections": true,
   "sideBar": true,
   "skip_h1_title": true,
   "title_cell": "Table of Contents",
   "title_sidebar": "Contents",
   "toc_cell": false,
   "toc_position": {
    "height": "calc(100% - 180px)",
    "left": "10px",
    "top": "150px",
    "width": "384px"
   },
   "toc_section_display": true,
   "toc_window_display": true
  },
  "varInspector": {
   "cols": {
    "lenName": 16,
    "lenType": 16,
    "lenVar": 40
   },
   "kernels_config": {
    "python": {
     "delete_cmd_postfix": "",
     "delete_cmd_prefix": "del ",
     "library": "var_list.py",
     "varRefreshCmd": "print(var_dic_list())"
    },
    "r": {
     "delete_cmd_postfix": ") ",
     "delete_cmd_prefix": "rm(",
     "library": "var_list.r",
     "varRefreshCmd": "cat(var_dic_list()) "
    }
   },
   "types_to_exclude": [
    "module",
    "function",
    "builtin_function_or_method",
    "instance",
    "_Feature"
   ],
   "window_display": false
  }
 },
 "nbformat": 4,
 "nbformat_minor": 5
}
