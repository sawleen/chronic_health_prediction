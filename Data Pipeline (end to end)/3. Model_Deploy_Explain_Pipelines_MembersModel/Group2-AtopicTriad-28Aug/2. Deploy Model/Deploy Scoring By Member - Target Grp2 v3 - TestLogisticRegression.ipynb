{
 "cells": [
  {
   "cell_type": "markdown",
   "id": "d48c977d",
   "metadata": {},
   "source": [
    "# Deploy Model - By Member - Target : Allergic, Dermatitis, Asthma\n",
    "# (test Logistic)\n",
    "# (Group 2)\n",
    "\n",
    "Prepared by Tan Bee Hoon  \n",
    "Modified by Lien Wee Liang\n",
    "\n",
    "16 Aug 2022  \n",
    "22 Aug 2022 v1: Modified from Target 3HiGrp1  "
   ]
  },
  {
   "cell_type": "markdown",
   "id": "3b98abde",
   "metadata": {},
   "source": [
    "## Import Library"
   ]
  },
  {
   "cell_type": "code",
   "execution_count": 1,
   "id": "6cd38489",
   "metadata": {
    "ExecuteTime": {
     "end_time": "2022-08-28T10:14:18.383144Z",
     "start_time": "2022-08-28T10:14:16.810083Z"
    }
   },
   "outputs": [],
   "source": [
    "import random \n",
    "import pandas as pd\n",
    "from pandas import read_csv\n",
    "import matplotlib.pyplot as plt\n",
    "import seaborn as sns\n",
    "%matplotlib inline \n",
    "\n",
    "import numpy as np \n",
    "from numpy import unique\n",
    "from numpy import where\n",
    "\n",
    "import pickle\n",
    "\n",
    "from pandas import to_pickle\n",
    "from pandas import read_pickle\n",
    "\n",
    "import io\n",
    "\n",
    "from sklearn.linear_model import LogisticRegression\n",
    "from sklearn.preprocessing import StandardScaler\n",
    "from sklearn.metrics import recall_score\n",
    "from sklearn.metrics import confusion_matrix\n",
    "from sklearn.metrics import recall_score\n",
    "from sklearn.metrics import classification_report\n",
    "from sklearn.metrics import RocCurveDisplay\n",
    "from sklearn.inspection import permutation_importance\n",
    "\n",
    "# Libraries for Modelling\n",
    "from sklearn.pipeline import Pipeline\n",
    "from sklearn.model_selection import train_test_split\n",
    "from sklearn.preprocessing import OneHotEncoder\n",
    "from sklearn.feature_selection import SelectFromModel\n",
    "from sklearn import svm\n",
    "from sklearn.svm import LinearSVC\n",
    "from sklearn.naive_bayes import MultinomialNB\n",
    "from sklearn.ensemble import RandomForestClassifier\n",
    "from sklearn.svm import NuSVC\n",
    "from sklearn.svm import SVC\n",
    "from sklearn import metrics \n",
    "from sklearn import tree\n",
    "from sklearn.metrics import roc_auc_score\n",
    "\n",
    "import scikitplot as skplt\n",
    "\n",
    "import shap\n",
    "\n",
    "from itertools import compress\n",
    "\n",
    "import warnings\n",
    "warnings.filterwarnings('ignore')\n",
    "\n",
    "from xgboost import XGBClassifier"
   ]
  },
  {
   "cell_type": "markdown",
   "id": "2ea2f589",
   "metadata": {},
   "source": [
    "## Global Setting"
   ]
  },
  {
   "cell_type": "markdown",
   "id": "c765bb46",
   "metadata": {},
   "source": [
    "###  Training Pickles Filename"
   ]
  },
  {
   "cell_type": "code",
   "execution_count": 2,
   "id": "7aa93e6d",
   "metadata": {
    "ExecuteTime": {
     "end_time": "2022-08-28T10:14:18.398647Z",
     "start_time": "2022-08-28T10:14:18.384139Z"
    }
   },
   "outputs": [],
   "source": [
    "PKL_ALL_FEATURE_FILENAME = \"model_Grp2_featurelist.pkl\""
   ]
  },
  {
   "cell_type": "code",
   "execution_count": 3,
   "id": "916cd0c6",
   "metadata": {
    "ExecuteTime": {
     "end_time": "2022-08-28T10:14:18.414070Z",
     "start_time": "2022-08-28T10:14:18.400072Z"
    }
   },
   "outputs": [],
   "source": [
    "PKL_STANDARDSCALER_FILENAME = \"model_Grp2_standardard_scaler.pkl\""
   ]
  },
  {
   "cell_type": "code",
   "execution_count": 4,
   "id": "7d8d9287",
   "metadata": {
    "ExecuteTime": {
     "end_time": "2022-08-28T10:14:18.429679Z",
     "start_time": "2022-08-28T10:14:18.416069Z"
    }
   },
   "outputs": [],
   "source": [
    "PKL_SELECT_MODEL_FILENAME = \"model_Grp2_selectfeature.pkl\""
   ]
  },
  {
   "cell_type": "code",
   "execution_count": 5,
   "id": "47d852ba",
   "metadata": {
    "ExecuteTime": {
     "end_time": "2022-08-28T10:14:18.444829Z",
     "start_time": "2022-08-28T10:14:18.430677Z"
    }
   },
   "outputs": [],
   "source": [
    "PKL_MODEL_FILENAME = \"model_Grp2_logistic.pkl\""
   ]
  },
  {
   "cell_type": "code",
   "execution_count": 6,
   "id": "6775c2c6",
   "metadata": {
    "ExecuteTime": {
     "end_time": "2022-08-28T10:14:18.460687Z",
     "start_time": "2022-08-28T10:14:18.445841Z"
    }
   },
   "outputs": [],
   "source": [
    "PKL_RESULT_FILENAME = \"model_Grp2_result_logistic.pkl\""
   ]
  },
  {
   "cell_type": "markdown",
   "id": "9a6efbcd",
   "metadata": {
    "ExecuteTime": {
     "end_time": "2022-08-17T06:53:37.686697Z",
     "start_time": "2022-08-17T06:53:37.677747Z"
    }
   },
   "source": [
    "###  Testing Dataset"
   ]
  },
  {
   "cell_type": "code",
   "execution_count": 7,
   "id": "0d8adc54",
   "metadata": {
    "ExecuteTime": {
     "end_time": "2022-08-28T10:14:18.476203Z",
     "start_time": "2022-08-28T10:14:18.461697Z"
    }
   },
   "outputs": [],
   "source": [
    "TEST_PREP_DATA = \"member_test_data_final.pkl\""
   ]
  },
  {
   "cell_type": "markdown",
   "id": "12605170",
   "metadata": {
    "ExecuteTime": {
     "end_time": "2022-08-19T08:29:17.557693Z",
     "start_time": "2022-08-19T08:29:17.545752Z"
    }
   },
   "source": [
    "### Check is Target Label available"
   ]
  },
  {
   "cell_type": "code",
   "execution_count": 8,
   "id": "180a9253",
   "metadata": {
    "ExecuteTime": {
     "end_time": "2022-08-28T10:14:18.492160Z",
     "start_time": "2022-08-28T10:14:18.478197Z"
    }
   },
   "outputs": [],
   "source": [
    "TARGET_AVAIL = 1"
   ]
  },
  {
   "cell_type": "markdown",
   "id": "e5b901d9",
   "metadata": {},
   "source": [
    "### Check Training Result"
   ]
  },
  {
   "cell_type": "code",
   "execution_count": 9,
   "id": "bf31672a",
   "metadata": {
    "ExecuteTime": {
     "end_time": "2022-08-28T10:14:18.507138Z",
     "start_time": "2022-08-28T10:14:18.493157Z"
    }
   },
   "outputs": [],
   "source": [
    "CHK_TRAIN_RESULT = 1"
   ]
  },
  {
   "cell_type": "markdown",
   "id": "c1b73683",
   "metadata": {},
   "source": [
    "## Import Test Data"
   ]
  },
  {
   "cell_type": "code",
   "execution_count": 10,
   "id": "ee1dd90d",
   "metadata": {
    "ExecuteTime": {
     "end_time": "2022-08-28T10:14:18.522098Z",
     "start_time": "2022-08-28T10:14:18.508136Z"
    }
   },
   "outputs": [],
   "source": [
    "# Load Test Data\n",
    "df = read_pickle(TEST_PREP_DATA)"
   ]
  },
  {
   "cell_type": "code",
   "execution_count": 11,
   "id": "ebe4408b",
   "metadata": {
    "ExecuteTime": {
     "end_time": "2022-08-28T10:14:18.538055Z",
     "start_time": "2022-08-28T10:14:18.523095Z"
    }
   },
   "outputs": [
    {
     "data": {
      "text/plain": [
       "(6774, 427)"
      ]
     },
     "execution_count": 11,
     "metadata": {},
     "output_type": "execute_result"
    }
   ],
   "source": [
    "df.shape"
   ]
  },
  {
   "cell_type": "markdown",
   "id": "4397fcfb",
   "metadata": {},
   "source": [
    "## Import Model Training Pickles"
   ]
  },
  {
   "cell_type": "code",
   "execution_count": 12,
   "id": "fc1e1894",
   "metadata": {
    "ExecuteTime": {
     "end_time": "2022-08-28T10:14:18.554029Z",
     "start_time": "2022-08-28T10:14:18.539052Z"
    },
    "scrolled": false
   },
   "outputs": [
    {
     "name": "stdout",
     "output_type": "stream",
     "text": [
      "Num of training features:  143\n"
     ]
    }
   ],
   "source": [
    "# Import training dataset feature list\n",
    "with open(PKL_ALL_FEATURE_FILENAME, 'rb') as file:\n",
    "    train_all_features = pickle.load(file)\n",
    "print(\"Num of training features: \", len(train_all_features))"
   ]
  },
  {
   "cell_type": "code",
   "execution_count": 13,
   "id": "4f1ba491",
   "metadata": {
    "ExecuteTime": {
     "end_time": "2022-08-28T10:14:18.568973Z",
     "start_time": "2022-08-28T10:14:18.558003Z"
    }
   },
   "outputs": [
    {
     "data": {
      "text/plain": [
       "StandardScaler()"
      ]
     },
     "execution_count": 13,
     "metadata": {},
     "output_type": "execute_result"
    }
   ],
   "source": [
    "# Import trained standard scaler model\n",
    "with open(PKL_STANDARDSCALER_FILENAME, 'rb') as file:\n",
    "    train_standardscaler = pickle.load(file)\n",
    "train_standardscaler"
   ]
  },
  {
   "cell_type": "code",
   "execution_count": 14,
   "id": "c934e2ed",
   "metadata": {
    "ExecuteTime": {
     "end_time": "2022-08-28T10:14:18.584930Z",
     "start_time": "2022-08-28T10:14:18.569970Z"
    }
   },
   "outputs": [
    {
     "data": {
      "text/plain": [
       "SelectFromModel(estimator=LinearSVC(random_state=42))"
      ]
     },
     "execution_count": 14,
     "metadata": {},
     "output_type": "execute_result"
    }
   ],
   "source": [
    "# Import trained feature selection model\n",
    "with open(PKL_SELECT_MODEL_FILENAME, 'rb') as file:\n",
    "    train_selectfeature = pickle.load(file)\n",
    "train_selectfeature"
   ]
  },
  {
   "cell_type": "code",
   "execution_count": 15,
   "id": "2f3422e1",
   "metadata": {
    "ExecuteTime": {
     "end_time": "2022-08-28T10:14:18.599890Z",
     "start_time": "2022-08-28T10:14:18.585928Z"
    }
   },
   "outputs": [
    {
     "data": {
      "text/plain": [
       "LogisticRegression(random_state=42)"
      ]
     },
     "execution_count": 15,
     "metadata": {},
     "output_type": "execute_result"
    }
   ],
   "source": [
    "# Import trained classification model \n",
    "with open(PKL_MODEL_FILENAME, 'rb') as file:\n",
    "    train_model = pickle.load(file)\n",
    "train_model"
   ]
  },
  {
   "cell_type": "code",
   "execution_count": 16,
   "id": "ed2cc94e",
   "metadata": {
    "ExecuteTime": {
     "end_time": "2022-08-28T10:14:18.615847Z",
     "start_time": "2022-08-28T10:14:18.600887Z"
    }
   },
   "outputs": [
    {
     "data": {
      "text/html": [
       "<div>\n",
       "<style scoped>\n",
       "    .dataframe tbody tr th:only-of-type {\n",
       "        vertical-align: middle;\n",
       "    }\n",
       "\n",
       "    .dataframe tbody tr th {\n",
       "        vertical-align: top;\n",
       "    }\n",
       "\n",
       "    .dataframe thead th {\n",
       "        text-align: right;\n",
       "    }\n",
       "</style>\n",
       "<table border=\"1\" class=\"dataframe\">\n",
       "  <thead>\n",
       "    <tr style=\"text-align: right;\">\n",
       "      <th></th>\n",
       "      <th>Train</th>\n",
       "      <th>Test</th>\n",
       "    </tr>\n",
       "  </thead>\n",
       "  <tbody>\n",
       "    <tr>\n",
       "      <th>precision</th>\n",
       "      <td>0.621212</td>\n",
       "      <td>0.528571</td>\n",
       "    </tr>\n",
       "    <tr>\n",
       "      <th>recall</th>\n",
       "      <td>0.269737</td>\n",
       "      <td>0.284615</td>\n",
       "    </tr>\n",
       "    <tr>\n",
       "      <th>f1-score</th>\n",
       "      <td>0.376147</td>\n",
       "      <td>0.370000</td>\n",
       "    </tr>\n",
       "    <tr>\n",
       "      <th>support</th>\n",
       "      <td>304.000000</td>\n",
       "      <td>130.000000</td>\n",
       "    </tr>\n",
       "  </tbody>\n",
       "</table>\n",
       "</div>"
      ],
      "text/plain": [
       "                Train        Test\n",
       "precision    0.621212    0.528571\n",
       "recall       0.269737    0.284615\n",
       "f1-score     0.376147    0.370000\n",
       "support    304.000000  130.000000"
      ]
     },
     "execution_count": 16,
     "metadata": {},
     "output_type": "execute_result"
    }
   ],
   "source": [
    "if CHK_TRAIN_RESULT == 1:\n",
    "    with open(PKL_RESULT_FILENAME, 'rb') as file:\n",
    "        train_result = pickle.load(file)\n",
    "train_result"
   ]
  },
  {
   "cell_type": "markdown",
   "id": "7c51c3c2",
   "metadata": {},
   "source": [
    "## Prepare Scoring Data "
   ]
  },
  {
   "cell_type": "markdown",
   "id": "6abb5afe",
   "metadata": {},
   "source": [
    "### Drop Redundant Data"
   ]
  },
  {
   "cell_type": "code",
   "execution_count": 17,
   "id": "62ebf895",
   "metadata": {
    "ExecuteTime": {
     "end_time": "2022-08-28T10:14:18.630807Z",
     "start_time": "2022-08-28T10:14:18.616846Z"
    }
   },
   "outputs": [],
   "source": [
    "drop_max = [col for col in df if col.startswith('MAX_')]"
   ]
  },
  {
   "cell_type": "code",
   "execution_count": 18,
   "id": "1d4543dc",
   "metadata": {
    "ExecuteTime": {
     "end_time": "2022-08-28T10:14:18.646765Z",
     "start_time": "2022-08-28T10:14:18.631805Z"
    }
   },
   "outputs": [],
   "source": [
    "drop_min = [col for col in df if col.startswith('MIN_')]"
   ]
  },
  {
   "cell_type": "code",
   "execution_count": 19,
   "id": "89db9727",
   "metadata": {
    "ExecuteTime": {
     "end_time": "2022-08-28T10:14:18.661479Z",
     "start_time": "2022-08-28T10:14:18.647763Z"
    }
   },
   "outputs": [],
   "source": [
    "# drop redundant variables\n",
    "drop_list = ['FirstBookDate','LastBookDate', \"WaviedCount_NA\", \n",
    "             'Mode_consult_waived_reason', \"Mode_consult_hr\", \n",
    "             'CountVisit_chronic_list',\n",
    "                \"ConsultHr_0\",\n",
    "                \"ConsultHr_8\", \n",
    "                \"ConsultHr_9\",\n",
    "                \"ConsultHr_10\",                 \n",
    "                \"ConsultHr_11\",\n",
    "                \"ConsultHr_12\",\n",
    "                \"ConsultHr_13\",\n",
    "                \"ConsultHr_14\",\n",
    "                \"ConsultHr_15\",\n",
    "                \"ConsultHr_16\",\n",
    "                \"ConsultHr_17\",\n",
    "                \"ConsultHr_18\",\n",
    "                \"ConsultHr_19\",\n",
    "                \"ConsultHr_20\",\n",
    "                \"ConsultHr_21\",\n",
    "                \"ConsultHr_22\",\n",
    "                \"ConsultHr_23\"]"
   ]
  },
  {
   "cell_type": "code",
   "execution_count": 20,
   "id": "a6739ca3",
   "metadata": {
    "ExecuteTime": {
     "end_time": "2022-08-28T10:14:18.677436Z",
     "start_time": "2022-08-28T10:14:18.662477Z"
    }
   },
   "outputs": [],
   "source": [
    "final_drop = drop_max + drop_min + drop_list"
   ]
  },
  {
   "cell_type": "code",
   "execution_count": 21,
   "id": "0d23ea6b",
   "metadata": {
    "ExecuteTime": {
     "end_time": "2022-08-28T10:14:18.692396Z",
     "start_time": "2022-08-28T10:14:18.678434Z"
    }
   },
   "outputs": [],
   "source": [
    "df.drop(final_drop, inplace = True, axis = 1)"
   ]
  },
  {
   "cell_type": "markdown",
   "id": "7e8e8e62",
   "metadata": {},
   "source": [
    "### Check Selected Input"
   ]
  },
  {
   "cell_type": "code",
   "execution_count": 22,
   "id": "83d59f70",
   "metadata": {
    "ExecuteTime": {
     "end_time": "2022-08-28T10:14:18.708353Z",
     "start_time": "2022-08-28T10:14:18.693394Z"
    }
   },
   "outputs": [],
   "source": [
    "all_list = df.columns.tolist()"
   ]
  },
  {
   "cell_type": "code",
   "execution_count": 23,
   "id": "7623649e",
   "metadata": {
    "ExecuteTime": {
     "end_time": "2022-08-28T10:14:18.769190Z",
     "start_time": "2022-08-28T10:14:18.709356Z"
    }
   },
   "outputs": [],
   "source": [
    "#[TODO] TO INCLUDE CATEGORICAL INPUT TO CONSIDER\n",
    "cat_list = [\"gender\"]  \n",
    "df[cat_list] = df[cat_list].astype(\"category\")"
   ]
  },
  {
   "cell_type": "code",
   "execution_count": 24,
   "id": "1e99d176",
   "metadata": {
    "ExecuteTime": {
     "end_time": "2022-08-28T10:14:18.785148Z",
     "start_time": "2022-08-28T10:14:18.770189Z"
    }
   },
   "outputs": [],
   "source": [
    "#[TODO] EDIT WHERE NEC\n",
    "exc_list = ['mem_id', \n",
    "            'Target_Chronic',\n",
    "            'Target_Dermatitis',\n",
    "            #'Target_Migraine',\n",
    "            'Target_Allergic',\n",
    "            #'Target_Gastro',\n",
    "            #'Target_Hypertension',\n",
    "            'Target_Asthma',\n",
    "            #'Target_Hyperlipidaemia',\n",
    "            #'Target_Thyroid',\n",
    "            #'Target_Diabetes',\n",
    "            #'Target_Gout', \n",
    "            \"CountVisit_Target_chronic\",\n",
    "            \"AVE_count_chronic\", \n",
    "            'CountVisit_symp_chronic_medicine_top-up',\n",
    "            'CountVisit_symp_chronic_illness_management',\n",
    "            \"CountVisit_chronic_NoneChronic\", \n",
    "            \"CountVisit_chronic_Atopic_dermatitis\",\n",
    "            #\"CountVisit_chronic_Migraine\",\n",
    "            \"CountVisit_chronic_Vasomotor_and_allergic_rhinitis\",\n",
    "            #\"CountVisit_chronic_Gastro-oesophageal_reflux_disease\",\n",
    "            #\"CountVisit_chronic_Hypertension\",\n",
    "            \"CountVisit_chronic_Asthma\",\n",
    "            #\"CountVisit_chronic_Hyperlipidaemia\",\n",
    "            #\"CountVisit_chronic_Thyroid\",\n",
    "            #\"CountVisit_chronic_Diabetes\",\n",
    "            #\"CountVisit_chronic_Gout\", \n",
    "            \"CountVisit_diag_J30\",  #Vasomotor and allergic rhinitis\n",
    "            #\"CountVisit_diag_K21\",  #Gastro-esophageal reflux disease\n",
    "            #\"CountVisit_diag_G43\",  #Migraine\n",
    "            \"CountVisit_diag_L20\",  #Atopic dermatitis\n",
    "            #\"CountVisit_diag_M10\",  #Gout\n",
    "            #\"CountVisit_diag_I10\",  #hypertension\n",
    "            \"CountVisit_diag_J45\",  #Asthma\n",
    "            #\"CountVisit_diag_E11\",  #Diabetes\n",
    "            #\"CountVisit_diag_E78\",  #hypercholesterolemia, hyperglyceridemia, Hyperlipidemia (high cholesterol), Hyperchylomicronemia \n",
    "            #\"CountVisit_diag_E03\",  #Other hypothyroidism, i.e. Thyroid \n",
    "            #\"CountVisit_diag_E05\",  #Thyrotoxicosis [hyperthyroidism], i.e. Thyroid\n",
    "            \"Target_3High\",                                           \n",
    "            \"Target_Allergic_Dermatitis_Asthma\",                                                   \n",
    "            \"Target_Migraine_Gastro_Thyroid_Gout\",                     \n",
    "            \"CountVisit_symp_headache\",           \n",
    "            \"CountVisit_symp_giddiness\",             \n",
    "            \"CountVisit_symp_cold_sores\", \n",
    "            \"CountVisit_symp_rash\",      \n",
    "            \"CountVisit_symp_sore_throat\",  \n",
    "            \"CountVisit_symp_flu\",          \n",
    "            \"CountVisit_symp_cough\", \n",
    "            \"CountVisit_symp_cold\",    \n",
    "            \"CountVisit_symp_vomiting\", \n",
    "            \"CountVisit_symp_diarrhoea\", \n",
    "           ] "
   ]
  },
  {
   "cell_type": "code",
   "execution_count": 25,
   "id": "c8a42a32",
   "metadata": {
    "ExecuteTime": {
     "end_time": "2022-08-28T10:14:18.800108Z",
     "start_time": "2022-08-28T10:14:18.786174Z"
    }
   },
   "outputs": [],
   "source": [
    "# select columns not in exclusion list above\n",
    "select_col = [x for x in all_list if x not in exc_list] "
   ]
  },
  {
   "cell_type": "code",
   "execution_count": 26,
   "id": "137013c4",
   "metadata": {
    "ExecuteTime": {
     "end_time": "2022-08-28T10:14:18.816065Z",
     "start_time": "2022-08-28T10:14:18.801107Z"
    }
   },
   "outputs": [],
   "source": [
    "# numerical data in selected list above\n",
    "num_list = [x for x in select_col if x not in cat_list] "
   ]
  },
  {
   "cell_type": "code",
   "execution_count": 27,
   "id": "6b4e7536",
   "metadata": {
    "ExecuteTime": {
     "end_time": "2022-08-28T10:14:18.832022Z",
     "start_time": "2022-08-28T10:14:18.818071Z"
    }
   },
   "outputs": [],
   "source": [
    "# Check that all columns used in training are in the holdout test set.  \n",
    "# If not, create a new column with value 0\n",
    "for i in train_all_features:\n",
    "    if i not in select_col:\n",
    "        if str(i).startswith('gender')==False:  #TODO need to include other categorical data if nec\n",
    "            print(\"PLEASE CHECK, Selected field in training dataset not in this test dataset, : \", i)\n",
    "            df[i] = 0\n",
    "            num_list.append(i)"
   ]
  },
  {
   "cell_type": "code",
   "execution_count": 28,
   "id": "5d9ff423",
   "metadata": {
    "ExecuteTime": {
     "end_time": "2022-08-28T10:14:18.846982Z",
     "start_time": "2022-08-28T10:14:18.834018Z"
    }
   },
   "outputs": [],
   "source": [
    "# Only include input variables available in training input list\n",
    "num_list_final = [x for x in num_list if x in train_all_features] "
   ]
  },
  {
   "cell_type": "markdown",
   "id": "0fbb6661",
   "metadata": {},
   "source": [
    "### One Hot Encoding "
   ]
  },
  {
   "cell_type": "code",
   "execution_count": 29,
   "id": "45d2ebc0",
   "metadata": {
    "ExecuteTime": {
     "end_time": "2022-08-28T10:14:18.862958Z",
     "start_time": "2022-08-28T10:14:18.847981Z"
    }
   },
   "outputs": [],
   "source": [
    "# Get encoded df for categorical data\n",
    "enc_df = pd.get_dummies(df[cat_list])"
   ]
  },
  {
   "cell_type": "code",
   "execution_count": 30,
   "id": "9d82f195",
   "metadata": {
    "ExecuteTime": {
     "end_time": "2022-08-28T10:14:18.877752Z",
     "start_time": "2022-08-28T10:14:18.863955Z"
    }
   },
   "outputs": [],
   "source": [
    "# Drop \"gender_Unknown\"\n",
    "drop_oneHot = [\"gender_Female\", \"gender_Male\"]"
   ]
  },
  {
   "cell_type": "code",
   "execution_count": 31,
   "id": "dec675ef",
   "metadata": {
    "ExecuteTime": {
     "end_time": "2022-08-28T10:14:18.893122Z",
     "start_time": "2022-08-28T10:14:18.878749Z"
    }
   },
   "outputs": [],
   "source": [
    "#[TODO] TO EDIT AND DROP ONE CATEGORY LEVEL FOR ONE-HOT\n",
    "enc_df = enc_df[drop_oneHot]"
   ]
  },
  {
   "cell_type": "markdown",
   "id": "b6edf586",
   "metadata": {},
   "source": [
    "### Define input and output"
   ]
  },
  {
   "cell_type": "code",
   "execution_count": 32,
   "id": "7a6f8cd9",
   "metadata": {
    "ExecuteTime": {
     "end_time": "2022-08-28T10:14:18.909114Z",
     "start_time": "2022-08-28T10:14:18.894120Z"
    }
   },
   "outputs": [],
   "source": [
    "# merge with numerical df for input\n",
    "X = df[num_list_final].join(enc_df)   "
   ]
  },
  {
   "cell_type": "code",
   "execution_count": 33,
   "id": "545d9ea2",
   "metadata": {
    "ExecuteTime": {
     "end_time": "2022-08-28T10:14:18.925072Z",
     "start_time": "2022-08-28T10:14:18.910077Z"
    }
   },
   "outputs": [
    {
     "data": {
      "text/plain": [
       "(6774, 143)"
      ]
     },
     "execution_count": 33,
     "metadata": {},
     "output_type": "execute_result"
    }
   ],
   "source": [
    "X.shape"
   ]
  },
  {
   "cell_type": "code",
   "execution_count": 34,
   "id": "038989b7",
   "metadata": {
    "ExecuteTime": {
     "end_time": "2022-08-28T10:14:18.940025Z",
     "start_time": "2022-08-28T10:14:18.926077Z"
    }
   },
   "outputs": [],
   "source": [
    "# Define the Target\n",
    "if TARGET_AVAIL ==1:\n",
    "    y = df[\"Target_Allergic_Dermatitis_Asthma\"]  \n",
    "else:\n",
    "    print(\"no target label\")"
   ]
  },
  {
   "cell_type": "code",
   "execution_count": 35,
   "id": "db59d487",
   "metadata": {
    "ExecuteTime": {
     "end_time": "2022-08-28T10:14:18.955982Z",
     "start_time": "2022-08-28T10:14:18.941023Z"
    }
   },
   "outputs": [],
   "source": [
    "member_id = df[\"mem_id\"]  "
   ]
  },
  {
   "cell_type": "code",
   "execution_count": 36,
   "id": "bb3f02e2",
   "metadata": {
    "ExecuteTime": {
     "end_time": "2022-08-28T10:14:18.970975Z",
     "start_time": "2022-08-28T10:14:18.956980Z"
    }
   },
   "outputs": [
    {
     "data": {
      "text/plain": [
       "['Mem_CountBooking',\n",
       " 'AVE_mc_days',\n",
       " 'AVE_count_diagnosis',\n",
       " 'AVE_count_medication',\n",
       " 'AVE_count_repeatmed',\n",
       " 'AVE_count_SymID',\n",
       " 'age_yr',\n",
       " 'WaviedCount_FOLLOW_UP',\n",
       " 'WaviedCount_HEALTH_SCREENING_REVIEW',\n",
       " 'WaviedCount_OTHERS',\n",
       " 'WaviedCount_REFERRAL',\n",
       " 'WaviedCount_UNSUITABLE_FOR_TELECONSULT',\n",
       " 'WaviedCount_WHITECOAT_FAMILY',\n",
       " 'CountVisit_is_mc_issued',\n",
       " 'CountVisit_is_referral_letter_issued',\n",
       " 'CountVisit_diag_U12',\n",
       " 'CountVisit_diag_T88',\n",
       " 'CountVisit_diag_K12',\n",
       " 'CountVisit_diag_R21',\n",
       " 'CountVisit_diag_A09',\n",
       " 'CountVisit_diag_H57',\n",
       " 'CountVisit_diag_Z02',\n",
       " 'CountVisit_diag_J06',\n",
       " 'CountVisit_diag_Z76',\n",
       " 'CountVisit_diag_M79',\n",
       " 'CountVisit_diag_R51',\n",
       " 'CountVisit_diag_M54',\n",
       " 'CountVisit_diag_R22',\n",
       " 'CountVisit_diag_L50',\n",
       " 'CountVisit_diag_B35',\n",
       " 'CountVisit_diag_K30',\n",
       " 'CountVisit_diag_O91',\n",
       " 'CountVisit_diag_R07',\n",
       " 'CountVisit_diag_M10',\n",
       " 'CountVisit_diag_Z71',\n",
       " 'CountVisit_diag_N94',\n",
       " 'CountVisit_diag_K29',\n",
       " 'CountVisit_diag_B37',\n",
       " 'CountVisit_diag_R50',\n",
       " 'CountVisit_diag_N39',\n",
       " 'CountVisit_diag_R42',\n",
       " 'CountVisit_diag_W57',\n",
       " 'CountVisit_diag_B00',\n",
       " 'CountVisit_diag_L70',\n",
       " 'CountVisit_diag_H00',\n",
       " 'CountVisit_diag_L98',\n",
       " 'CountVisit_diag_U07',\n",
       " 'CountVisit_diag_M75',\n",
       " 'CountVisit_diag_R05',\n",
       " 'CountVisit_diag_J39',\n",
       " 'CountVisit_diag_J02',\n",
       " 'CountVisit_diag_L02',\n",
       " 'CountVisit_diag_I10',\n",
       " 'CountVisit_diag_K21',\n",
       " 'CountVisit_diag_H02',\n",
       " 'CountVisit_diag_L03',\n",
       " 'CountVisit_diag_M62',\n",
       " 'CountVisit_diag_H10',\n",
       " 'CountVisit_diag_L24',\n",
       " 'CountVisit_diag_L30',\n",
       " 'CountVisit_diag_K59',\n",
       " 'CountVisit_diag_Y42',\n",
       " 'CountVisit_diag_K07',\n",
       " 'CountVisit_diag_E78',\n",
       " 'CountVisit_diag_K64',\n",
       " 'CountVisit_diag_S90',\n",
       " 'CountVisit_diag_G43',\n",
       " 'CountVisit_diag_G47',\n",
       " 'CountVisit_diag_T78',\n",
       " 'CountVisit_diag_H81',\n",
       " 'CountVisit_diag_G44',\n",
       " 'CountVisit_diag_N92',\n",
       " 'CountVisit_diag_J01',\n",
       " 'CountVisit_diag_E11',\n",
       " 'CountVisit_diag_M25',\n",
       " 'CountVisit_diag_H01',\n",
       " 'CountVisit_diag_R53',\n",
       " 'CountVisit_diag_M23',\n",
       " 'CountVisit_diag_S13',\n",
       " 'CountVisit_diag_H93',\n",
       " 'CountVisit_diag_S60',\n",
       " 'CountVisit_diag_R52',\n",
       " 'CountVisit_diag_H60',\n",
       " 'CountVisit_diag_N64',\n",
       " 'CountVisit_diag_R10',\n",
       " 'CountVisit_diag_R11',\n",
       " 'CountVisit_diag_E03',\n",
       " 'CountVisit_diag_J03',\n",
       " 'CountVisit_diag_L29',\n",
       " 'CountVisit_diag_K52',\n",
       " 'CountVisit_diag_S93',\n",
       " 'CountVisit_diag_F41',\n",
       " 'CountVisit_diag_J22',\n",
       " 'CountVisit_diag_S63',\n",
       " 'CountVisit_diag_M65',\n",
       " 'CountVisit_diag_E05',\n",
       " 'CountVisit_diag_M72',\n",
       " 'CountVisit_diag_P39',\n",
       " 'CountVisit_diag_N76',\n",
       " 'CountVisit_diag_K13',\n",
       " 'CountVisit_diag_Z30',\n",
       " 'CountVisit_diag_B02',\n",
       " 'CountVisit_diag_O21',\n",
       " 'CountVisit_diag_J32',\n",
       " 'CountVisit_diag_L64',\n",
       " 'CountVisit_diag_K58',\n",
       " 'CountVisit_diag_L60',\n",
       " 'CountVisit_diag_K05',\n",
       " 'CountVisit_diag_L23',\n",
       " 'CountVisit_diag_S80',\n",
       " 'CountVisit_diag_L73',\n",
       " 'CountVisit_chronic_Gout',\n",
       " 'CountVisit_chronic_Hypertension',\n",
       " 'CountVisit_chronic_Gastro-oesophageal_reflux_disease',\n",
       " 'CountVisit_chronic_Hyperlipidaemia',\n",
       " 'CountVisit_chronic_Migraine',\n",
       " 'CountVisit_chronic_Diabetes',\n",
       " 'CountVisit_chronic_Thyroid',\n",
       " 'CountVisit_symp_N',\n",
       " 'CountVisit_symp_fever',\n",
       " 'CountVisit_symp_others',\n",
       " 'CountVisit_symp_medical_referral',\n",
       " 'CountVisit_symp_discuss_lab_results',\n",
       " 'DiffDays_Vist',\n",
       " 'Ave_VisitGapDays',\n",
       " 'Target_Migraine',\n",
       " 'Target_Gastro',\n",
       " 'Target_Hypertension',\n",
       " 'Target_Hyperlipidaemia',\n",
       " 'Target_Thyroid',\n",
       " 'Target_Diabetes',\n",
       " 'Target_Gout',\n",
       " 'ConsultHr_8to10',\n",
       " 'ConsultHr_11to13',\n",
       " 'ConsultHr_14to17',\n",
       " 'ConsultHr_18to21',\n",
       " 'ConsultHr_22to23',\n",
       " 'Prin1_sym_common',\n",
       " 'Prin2_sym_rash',\n",
       " 'Prin3_sym_headache',\n",
       " 'Prin4_sym_diarrhea',\n",
       " 'gender_Female',\n",
       " 'gender_Male']"
      ]
     },
     "execution_count": 36,
     "metadata": {},
     "output_type": "execute_result"
    }
   ],
   "source": [
    "# Check input variable names\n",
    "feature_names = X.columns.tolist()\n",
    "feature_names"
   ]
  },
  {
   "cell_type": "code",
   "execution_count": 37,
   "id": "9652d1d5",
   "metadata": {
    "ExecuteTime": {
     "end_time": "2022-08-28T10:14:18.986197Z",
     "start_time": "2022-08-28T10:14:18.971940Z"
    }
   },
   "outputs": [
    {
     "name": "stdout",
     "output_type": "stream",
     "text": [
      "ok, training input features and testing input features mapped\n"
     ]
    }
   ],
   "source": [
    "if len(feature_names) == len(train_all_features):\n",
    "    print(\"ok, training input features and testing input features mapped\")\n",
    "else: \n",
    "    print('\\n Dropping columns from original columns with ', len(X.columns) , ' columns')\n",
    "    # Add code to keep only columns in training set \n",
    "    X = X[train_all_features]\n",
    "    print('\\n Modified dataset has ', len(X.columns), ' columns')\n",
    "    # See features in test data but not in training data \n",
    "    excluded_test_feature_list=[]\n",
    "    for f in feature_names:\n",
    "      if f not in train_all_features:\n",
    "        excluded_test_feature_list.append(f)\n",
    "    print(excluded_test_feature_list)"
   ]
  },
  {
   "cell_type": "markdown",
   "id": "892d2e4d",
   "metadata": {},
   "source": [
    "### Standardized Data"
   ]
  },
  {
   "cell_type": "code",
   "execution_count": 38,
   "id": "3ca93ece",
   "metadata": {
    "ExecuteTime": {
     "end_time": "2022-08-28T10:14:19.002123Z",
     "start_time": "2022-08-28T10:14:18.987161Z"
    }
   },
   "outputs": [
    {
     "name": "stdout",
     "output_type": "stream",
     "text": [
      "Transform the testing dataset (no fitting)\n"
     ]
    }
   ],
   "source": [
    "# Transform the testing dataset\n",
    "print(\"Transform the testing dataset (no fitting)\")\n",
    "X = train_standardscaler.transform (X)"
   ]
  },
  {
   "cell_type": "markdown",
   "id": "591c641d",
   "metadata": {},
   "source": [
    "## Model Result"
   ]
  },
  {
   "cell_type": "markdown",
   "id": "3ebdd536",
   "metadata": {
    "ExecuteTime": {
     "end_time": "2022-08-17T09:21:05.809456Z",
     "start_time": "2022-08-17T09:21:05.799441Z"
    }
   },
   "source": [
    "### Model Selected Features"
   ]
  },
  {
   "cell_type": "code",
   "execution_count": 39,
   "id": "a64363fb",
   "metadata": {
    "ExecuteTime": {
     "end_time": "2022-08-28T10:14:19.018113Z",
     "start_time": "2022-08-28T10:14:19.003120Z"
    }
   },
   "outputs": [],
   "source": [
    "X_selected = train_selectfeature.transform(X)"
   ]
  },
  {
   "cell_type": "code",
   "execution_count": 40,
   "id": "853461cf",
   "metadata": {
    "ExecuteTime": {
     "end_time": "2022-08-28T10:14:19.033038Z",
     "start_time": "2022-08-28T10:14:19.023065Z"
    }
   },
   "outputs": [],
   "source": [
    "feature_idx= train_selectfeature.get_support()\n",
    "final_selectList = list(compress(feature_names, feature_idx))"
   ]
  },
  {
   "cell_type": "code",
   "execution_count": 41,
   "id": "92d4b958",
   "metadata": {
    "ExecuteTime": {
     "end_time": "2022-08-28T10:14:19.048998Z",
     "start_time": "2022-08-28T10:14:19.034036Z"
    }
   },
   "outputs": [
    {
     "name": "stdout",
     "output_type": "stream",
     "text": [
      "Number of BEST features from SELECTMODEL:  49\n",
      "\n",
      "\n",
      "List of selected BEST features from SELECTMODEL: \n",
      " ['Mem_CountBooking', 'AVE_mc_days', 'AVE_count_diagnosis', 'AVE_count_medication', 'CountVisit_is_mc_issued', 'CountVisit_diag_K12', 'CountVisit_diag_R21', 'CountVisit_diag_A09', 'CountVisit_diag_Z02', 'CountVisit_diag_J06', 'CountVisit_diag_Z76', 'CountVisit_diag_R51', 'CountVisit_diag_M54', 'CountVisit_diag_R22', 'CountVisit_diag_L50', 'CountVisit_diag_K30', 'CountVisit_diag_O91', 'CountVisit_diag_M10', 'CountVisit_diag_Z71', 'CountVisit_diag_N94', 'CountVisit_diag_R50', 'CountVisit_diag_L70', 'CountVisit_diag_U07', 'CountVisit_diag_R05', 'CountVisit_diag_I10', 'CountVisit_diag_H10', 'CountVisit_diag_S90', 'CountVisit_diag_H81', 'CountVisit_diag_G44', 'CountVisit_diag_R52', 'CountVisit_diag_R10', 'CountVisit_diag_E03', 'CountVisit_diag_K52', 'CountVisit_diag_F41', 'CountVisit_diag_J32', 'CountVisit_diag_L23', 'CountVisit_chronic_Gastro-oesophageal_reflux_disease', 'CountVisit_chronic_Hyperlipidaemia', 'CountVisit_chronic_Migraine', 'DiffDays_Vist', 'Target_Diabetes', 'ConsultHr_8to10', 'ConsultHr_11to13', 'ConsultHr_14to17', 'ConsultHr_18to21', 'ConsultHr_22to23', 'Prin1_sym_common', 'Prin3_sym_headache', 'Prin4_sym_diarrhea']\n"
     ]
    }
   ],
   "source": [
    "print(\"Number of BEST features from SELECTMODEL: \", len(final_selectList))\n",
    "print(\"\\n\\nList of selected BEST features from SELECTMODEL: \\n\", final_selectList)"
   ]
  },
  {
   "cell_type": "markdown",
   "id": "d24bde19",
   "metadata": {
    "ExecuteTime": {
     "end_time": "2022-08-17T09:24:30.403273Z",
     "start_time": "2022-08-17T09:24:30.398300Z"
    }
   },
   "source": [
    "### Model ROC & AUC"
   ]
  },
  {
   "cell_type": "code",
   "execution_count": 42,
   "id": "bc318aa0",
   "metadata": {
    "ExecuteTime": {
     "end_time": "2022-08-28T10:14:19.063989Z",
     "start_time": "2022-08-28T10:14:19.050993Z"
    }
   },
   "outputs": [],
   "source": [
    "model_probs = train_model.predict_proba(X_selected)[:,1]\n",
    "    \n",
    "if TARGET_AVAIL == 1:\n",
    "    model_auc = roc_auc_score(y, model_probs, average=None)\n",
    "else:\n",
    "    print(\"No Target label, thus, auc not computed\")"
   ]
  },
  {
   "cell_type": "code",
   "execution_count": 43,
   "id": "a4ca3f07",
   "metadata": {
    "ExecuteTime": {
     "end_time": "2022-08-28T10:14:19.187663Z",
     "start_time": "2022-08-28T10:14:19.065003Z"
    }
   },
   "outputs": [
    {
     "name": "stdout",
     "output_type": "stream",
     "text": [
      "Model:  LogisticRegression\n",
      "Model AUC:  0.847\n"
     ]
    },
    {
     "data": {
      "image/png": "[encoded data removed]",
      "text/plain": [
       "<Figure size 720x576 with 1 Axes>"
      ]
     },
     "metadata": {
      "needs_background": "light"
     },
     "output_type": "display_data"
    }
   ],
   "source": [
    "if TARGET_AVAIL == 1:\n",
    "    print(\"Model: \", type(train_model).__name__)\n",
    "    print(\"Model AUC: \", round(model_auc,3))\n",
    "    %matplotlib inline\n",
    "    plt.figure(figsize=(10,8))\n",
    "    ax = plt.gca()\n",
    "    model_disp = RocCurveDisplay.from_estimator(train_model, X_selected, y, ax=ax, alpha=0.8)\n",
    "    plt.title(\"ROC Evaluation of Model, using Holdout Test Data\")\n",
    "    plt.show()\n",
    "else:\n",
    "    print(\"No Target label, thus, roc not plotted\")"
   ]
  },
  {
   "cell_type": "markdown",
   "id": "8cccd65a",
   "metadata": {},
   "source": [
    "### Model Classification Report"
   ]
  },
  {
   "cell_type": "code",
   "execution_count": 44,
   "id": "44cd22e5",
   "metadata": {
    "ExecuteTime": {
     "end_time": "2022-08-28T10:14:19.202869Z",
     "start_time": "2022-08-28T10:14:19.188622Z"
    }
   },
   "outputs": [],
   "source": [
    "#Define Target Names\n",
    "target_names = ['Non-AllergicDermatitisAsthma', 'AllergicDermatitisAsthma']   "
   ]
  },
  {
   "cell_type": "code",
   "execution_count": 45,
   "id": "9cc73ba5",
   "metadata": {
    "ExecuteTime": {
     "end_time": "2022-08-28T10:14:19.218226Z",
     "start_time": "2022-08-28T10:14:19.203867Z"
    }
   },
   "outputs": [
    {
     "name": "stdout",
     "output_type": "stream",
     "text": [
      "The model loaded:  LogisticRegression\n",
      "\n",
      "The following are the trained model parameters:  {'C': 1.0, 'class_weight': None, 'dual': False, 'fit_intercept': True, 'intercept_scaling': 1, 'l1_ratio': None, 'max_iter': 100, 'multi_class': 'auto', 'n_jobs': None, 'penalty': 'l2', 'random_state': 42, 'solver': 'lbfgs', 'tol': 0.0001, 'verbose': 0, 'warm_start': False}\n"
     ]
    }
   ],
   "source": [
    "print(\"The model loaded: \", type(train_model).__name__)\n",
    "param = train_model.get_params()\n",
    "print(\"\\nThe following are the trained model parameters: \", param)"
   ]
  },
  {
   "cell_type": "code",
   "execution_count": 46,
   "id": "4198622b",
   "metadata": {
    "ExecuteTime": {
     "end_time": "2022-08-28T10:14:19.233684Z",
     "start_time": "2022-08-28T10:14:19.218722Z"
    }
   },
   "outputs": [],
   "source": [
    "# get prediction\n",
    "prediction = train_model.predict(X_selected)"
   ]
  },
  {
   "cell_type": "code",
   "execution_count": 47,
   "id": "c4c40a24",
   "metadata": {
    "ExecuteTime": {
     "end_time": "2022-08-28T10:14:19.249221Z",
     "start_time": "2022-08-28T10:14:19.234684Z"
    }
   },
   "outputs": [],
   "source": [
    "# Generate Confusion Matrix\n",
    "if TARGET_AVAIL == 1:\n",
    "    conf_matrix = metrics.confusion_matrix(y, prediction)\n",
    "else:\n",
    "    print(\"Target not available, thus confucion matrix not generated.\")"
   ]
  },
  {
   "cell_type": "code",
   "execution_count": 48,
   "id": "3edddc91",
   "metadata": {
    "ExecuteTime": {
     "end_time": "2022-08-28T10:14:19.403833Z",
     "start_time": "2022-08-28T10:14:19.250218Z"
    }
   },
   "outputs": [
    {
     "name": "stdout",
     "output_type": "stream",
     "text": [
      "For Holdout Test Data:\n",
      "Target:  ['Non-AllergicDermatitisAsthma', 'AllergicDermatitisAsthma']\n",
      "Model:  LogisticRegression\n",
      "\n",
      "Confusion Matrix: \n",
      " [[6295   88]\n",
      " [ 317   74]] \n",
      "\n"
     ]
    },
    {
     "data": {
      "image/png": "[encoded data removed]",
      "text/plain": [
       "<Figure size 720x576 with 2 Axes>"
      ]
     },
     "metadata": {
      "needs_background": "light"
     },
     "output_type": "display_data"
    },
    {
     "name": "stdout",
     "output_type": "stream",
     "text": [
      "                              precision    recall  f1-score   support\n",
      "\n",
      "Non-AllergicDermatitisAsthma     0.9521    0.9862    0.9688      6383\n",
      "    AllergicDermatitisAsthma     0.4568    0.1893    0.2676       391\n",
      "\n",
      "                    accuracy                         0.9402      6774\n",
      "                   macro avg     0.7044    0.5877    0.6182      6774\n",
      "                weighted avg     0.9235    0.9402    0.9284      6774\n",
      " \n",
      "\n"
     ]
    }
   ],
   "source": [
    "# Generate Classification Report\n",
    "if TARGET_AVAIL == 1:\n",
    "    print(\"For Holdout Test Data:\")\n",
    "    print(\"Target: \", target_names)\n",
    "    print(\"Model: \", type(train_model).__name__)\n",
    "    print(\"\\nConfusion Matrix: \\n\", conf_matrix, \"\\n\")\n",
    "    %matplotlib inline\n",
    "    plt.figure(figsize=(10,8))\n",
    "    sns.heatmap(conf_matrix, annot=True, fmt='d', vmin=0, vmax=y.shape[0]/len(y.unique()), cmap=\"Blues\")\n",
    "    plt.title(\"Training Data Confusion Matrix Heatmap\")\n",
    "    plt.xlabel('Predicted Labels')\n",
    "    plt.ylabel('Actual Labels')\n",
    "    plt.show()\n",
    "    print(metrics.classification_report(y, prediction,  digits=4, target_names=target_names), \"\\n\" )\n",
    "    report_dict_holdout = classification_report(y, prediction, output_dict=True)\n",
    "    report_df_holdout = pd.DataFrame(report_dict_holdout)\n",
    "    report_tgt_holdout = report_df_holdout[\"1\"]\n",
    "else:\n",
    "    print(\"Target not available, thus classification report not generated.\")"
   ]
  },
  {
   "cell_type": "markdown",
   "id": "805f6832",
   "metadata": {},
   "source": [
    "## Compare  Result"
   ]
  },
  {
   "cell_type": "code",
   "execution_count": 55,
   "id": "5dc5089f",
   "metadata": {
    "ExecuteTime": {
     "end_time": "2022-08-28T10:22:18.206155Z",
     "start_time": "2022-08-28T10:22:18.200170Z"
    }
   },
   "outputs": [
    {
     "name": "stdout",
     "output_type": "stream",
     "text": [
      "Model:  LogisticRegression \n",
      "\n",
      "         precision    recall  f1-score  support\n",
      "Train     0.621212  0.269737  0.376147    304.0\n",
      "Test      0.528571  0.284615  0.370000    130.0\n",
      "Holdout   0.456790  0.189258  0.267631    391.0\n",
      "\n",
      "Model Holdout AUC:  0.847\n"
     ]
    }
   ],
   "source": [
    "# Check Training Result\n",
    "if CHK_TRAIN_RESULT == 1:\n",
    "    print(\"Model: \", type(train_model).__name__, \"\\n\")\n",
    "    \n",
    "    compare = pd.concat([train_result, report_tgt_holdout], axis=1)\n",
    "    col_name = [\"Train\", \"Test\", \"Holdout\"]\n",
    "    compare.columns = col_name\n",
    "    print(compare.transpose())\n",
    "    \n",
    "    if TARGET_AVAIL == 1:\n",
    "        print(\"\\nModel Holdout AUC: \", round(model_auc,3))"
   ]
  },
  {
   "cell_type": "markdown",
   "id": "34854674",
   "metadata": {},
   "source": [
    "## Generate Score List"
   ]
  },
  {
   "cell_type": "code",
   "execution_count": 50,
   "id": "4b894a66",
   "metadata": {
    "ExecuteTime": {
     "end_time": "2022-08-28T10:14:19.434750Z",
     "start_time": "2022-08-28T10:14:19.420788Z"
    }
   },
   "outputs": [],
   "source": [
    "predict_series = pd.Series(prediction)"
   ]
  },
  {
   "cell_type": "code",
   "execution_count": 51,
   "id": "259b2043",
   "metadata": {
    "ExecuteTime": {
     "end_time": "2022-08-28T10:14:19.450726Z",
     "start_time": "2022-08-28T10:14:19.436744Z"
    }
   },
   "outputs": [],
   "source": [
    "if TARGET_AVAIL == 1:\n",
    "    df_scorelist = pd.DataFrame(columns = [\"member_id\", \"true_target\", \"prediction\"])\n",
    "    df_scorelist[\"member_id\"] = member_id\n",
    "    df_scorelist[\"true_target\"] = y\n",
    "    df_scorelist[\"prediction\"] = predict_series\n",
    "else:\n",
    "    df_scorelist = pd.DataFrame(columns = [\"member_id\", \"prediction\"])\n",
    "    df_scorelist[\"member_id\"] = member_id\n",
    "    df_scorelist[\"prediction\"] = predict_series\n"
   ]
  },
  {
   "cell_type": "code",
   "execution_count": 52,
   "id": "cfba49ec",
   "metadata": {
    "ExecuteTime": {
     "end_time": "2022-08-28T10:14:19.466151Z",
     "start_time": "2022-08-28T10:14:19.451745Z"
    }
   },
   "outputs": [
    {
     "name": "stdout",
     "output_type": "stream",
     "text": [
      "                              member_id  true_target  prediction\n",
      "0  00059B0F-87F5-4D64-A5C8-441457913282            0           0\n",
      "1  000789AE-E161-4FDE-B9B0-9377AB383A1B            0           0\n",
      "2  0008AEAF-0767-46A2-830F-C98A9B88FF34            0           0\n",
      "3  000C3E29-2C23-4EB0-A1FB-837EC7EA9E59            0           0\n",
      "4  001C4B02-1827-4F58-85E8-AB985B27496A            0           0\n"
     ]
    }
   ],
   "source": [
    "print(df_scorelist.head())"
   ]
  },
  {
   "cell_type": "code",
   "execution_count": 53,
   "id": "eb9fdc01",
   "metadata": {
    "ExecuteTime": {
     "end_time": "2022-08-28T10:14:19.481521Z",
     "start_time": "2022-08-28T10:14:19.466558Z"
    }
   },
   "outputs": [
    {
     "name": "stdout",
     "output_type": "stream",
     "text": [
      "<class 'pandas.core.frame.DataFrame'>\n",
      "Int64Index: 6774 entries, 0 to 6773\n",
      "Data columns (total 3 columns):\n",
      " #   Column       Non-Null Count  Dtype \n",
      "---  ------       --------------  ----- \n",
      " 0   member_id    6774 non-null   object\n",
      " 1   true_target  6774 non-null   int64 \n",
      " 2   prediction   6774 non-null   int64 \n",
      "dtypes: int64(2), object(1)\n",
      "memory usage: 469.7+ KB\n"
     ]
    }
   ],
   "source": [
    "df_scorelist.info()"
   ]
  },
  {
   "cell_type": "code",
   "execution_count": 54,
   "id": "f1a352ac",
   "metadata": {
    "ExecuteTime": {
     "end_time": "2022-08-28T10:14:19.512465Z",
     "start_time": "2022-08-28T10:14:19.482518Z"
    }
   },
   "outputs": [
    {
     "name": "stdout",
     "output_type": "stream",
     "text": [
      "scorelist_LogisticRegression_AtopicGrp2.csv\n"
     ]
    }
   ],
   "source": [
    "if type(train_model).__name__==\"SVC\":\n",
    "    FILE_NAME = \"scorelist_\" + str(type(train_model).__name__) + str(param[\"kernel\"]) + \"_AtopicGrp2.csv\"\n",
    "else:\n",
    "    FILE_NAME = \"scorelist_\" + str(type(train_model).__name__) + \"_AtopicGrp2.csv\"\n",
    "print(FILE_NAME)\n",
    "df_scorelist.to_csv(FILE_NAME, index=False)"
   ]
  },
  {
   "cell_type": "markdown",
   "id": "2ac71e4e",
   "metadata": {},
   "source": [
    "@end"
   ]
  }
 ],
 "metadata": {
  "hide_input": false,
  "kernelspec": {
   "display_name": "Python 3 (ipykernel)",
   "language": "python",
   "name": "python3"
  },
  "language_info": {
   "codemirror_mode": {
    "name": "ipython",
    "version": 3
   },
   "file_extension": ".py",
   "mimetype": "text/x-python",
   "name": "python",
   "nbconvert_exporter": "python",
   "pygments_lexer": "ipython3",
   "version": "3.9.7"
  },
  "toc": {
   "base_numbering": 1,
   "nav_menu": {},
   "number_sections": true,
   "sideBar": true,
   "skip_h1_title": true,
   "title_cell": "Table of Contents",
   "title_sidebar": "Contents",
   "toc_cell": false,
   "toc_position": {
    "height": "calc(100% - 180px)",
    "left": "10px",
    "top": "150px",
    "width": "384px"
   },
   "toc_section_display": true,
   "toc_window_display": true
  },
  "varInspector": {
   "cols": {
    "lenName": 16,
    "lenType": 16,
    "lenVar": 40
   },
   "kernels_config": {
    "python": {
     "delete_cmd_postfix": "",
     "delete_cmd_prefix": "del ",
     "library": "var_list.py",
     "varRefreshCmd": "print(var_dic_list())"
    },
    "r": {
     "delete_cmd_postfix": ") ",
     "delete_cmd_prefix": "rm(",
     "library": "var_list.r",
     "varRefreshCmd": "cat(var_dic_list()) "
    }
   },
   "types_to_exclude": [
    "module",
    "function",
    "builtin_function_or_method",
    "instance",
    "_Feature"
   ],
   "window_display": false
  }
 },
 "nbformat": 4,
 "nbformat_minor": 5
}
