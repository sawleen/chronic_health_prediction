{
 "cells": [
  {
   "cell_type": "markdown",
   "id": "2940564d",
   "metadata": {},
   "source": [
    "# Model Training - By Member - Target : Gout, Gastro, Migrane, Thyroid\n",
    "# (Group 3)\n",
    "\n",
    "Prepared by Tan Bee Hoon, modifed by LWL\n",
    "\n",
    "16 Aug 2022  \n",
    "22 Aug 2022 : Modified from Model11 \"3HiGrp1\"   \n"
   ]
  },
  {
   "cell_type": "markdown",
   "id": "facb783b",
   "metadata": {},
   "source": [
    "## Import Library"
   ]
  },
  {
   "cell_type": "code",
   "execution_count": 349,
   "id": "e89b4eab",
   "metadata": {
    "ExecuteTime": {
     "end_time": "2022-08-30T12:22:11.271434Z",
     "start_time": "2022-08-30T12:22:11.267444Z"
    }
   },
   "outputs": [],
   "source": [
    "# Need to revert to version 1.20.0 of numpy for Numba required by Shap\n",
    "#!pip install numpy==1.20.0 --user"
   ]
  },
  {
   "cell_type": "code",
   "execution_count": 350,
   "id": "397703db",
   "metadata": {
    "ExecuteTime": {
     "end_time": "2022-08-30T12:22:11.302351Z",
     "start_time": "2022-08-30T12:22:11.272431Z"
    }
   },
   "outputs": [],
   "source": [
    "import random \n",
    "import pandas as pd\n",
    "from pandas import read_csv\n",
    "import matplotlib.pyplot as plt\n",
    "import seaborn as sns\n",
    "%matplotlib inline \n",
    "\n",
    "import numpy as np \n",
    "from numpy import unique\n",
    "from numpy import where\n",
    "\n",
    "import pickle\n",
    "from pandas import to_pickle\n",
    "from pandas import read_pickle\n",
    "\n",
    "import io\n",
    "from datetime import date\n",
    "\n",
    "from itertools import compress\n",
    "\n",
    "# Libraries for Modelling\n",
    "from sklearn.ensemble import IsolationForest\n",
    "from sklearn.ensemble import RandomForestClassifier\n",
    "from sklearn.preprocessing import StandardScaler\n",
    "from sklearn.pipeline import Pipeline\n",
    "from sklearn.model_selection import train_test_split\n",
    "from sklearn.preprocessing import OneHotEncoder\n",
    "from sklearn.feature_selection import SelectFromModel\n",
    "from sklearn.linear_model import LogisticRegression\n",
    "from sklearn.naive_bayes import MultinomialNB\n",
    "from sklearn import svm\n",
    "from sklearn.svm import LinearSVC\n",
    "from sklearn.svm import NuSVC\n",
    "from sklearn.svm import SVC\n",
    "from sklearn import tree\n",
    "from sklearn.inspection import permutation_importance\n",
    "from sklearn import metrics \n",
    "from sklearn.metrics import recall_score\n",
    "from sklearn.metrics import confusion_matrix\n",
    "from sklearn.metrics import recall_score\n",
    "from sklearn.metrics import classification_report\n",
    "from sklearn.metrics import RocCurveDisplay\n",
    "from sklearn.metrics import roc_auc_score\n",
    "\n",
    "from imblearn.over_sampling import SMOTE \n",
    "\n",
    "import shap\n",
    "\n",
    "from xgboost import XGBClassifier\n",
    "\n",
    "import warnings\n",
    "warnings.filterwarnings('ignore')"
   ]
  },
  {
   "cell_type": "markdown",
   "id": "1a044390",
   "metadata": {
    "ExecuteTime": {
     "end_time": "2022-08-16T13:12:01.171199Z",
     "start_time": "2022-08-16T13:12:01.168169Z"
    }
   },
   "source": [
    "## Global Setting"
   ]
  },
  {
   "cell_type": "markdown",
   "id": "69a23c48",
   "metadata": {},
   "source": [
    "### Import File"
   ]
  },
  {
   "cell_type": "code",
   "execution_count": 351,
   "id": "325b1ffc",
   "metadata": {
    "ExecuteTime": {
     "end_time": "2022-08-30T12:22:11.318308Z",
     "start_time": "2022-08-30T12:22:11.303347Z"
    }
   },
   "outputs": [],
   "source": [
    "TRAINING_FILE = \"member_train_data_final.pkl\""
   ]
  },
  {
   "cell_type": "markdown",
   "id": "88de9c1e",
   "metadata": {},
   "source": [
    "### Include Outlier Removal"
   ]
  },
  {
   "cell_type": "code",
   "execution_count": 352,
   "id": "b4fa1914",
   "metadata": {
    "ExecuteTime": {
     "end_time": "2022-08-30T12:22:11.333268Z",
     "start_time": "2022-08-30T12:22:11.319306Z"
    }
   },
   "outputs": [],
   "source": [
    "INCL_IFOREST = 0"
   ]
  },
  {
   "cell_type": "markdown",
   "id": "49e22387",
   "metadata": {},
   "source": [
    "### Include SMOTE"
   ]
  },
  {
   "cell_type": "code",
   "execution_count": 353,
   "id": "b1b98b76",
   "metadata": {
    "ExecuteTime": {
     "end_time": "2022-08-30T12:22:11.349225Z",
     "start_time": "2022-08-30T12:22:11.334266Z"
    }
   },
   "outputs": [],
   "source": [
    "INCL_SMOTE = 0"
   ]
  },
  {
   "cell_type": "code",
   "execution_count": 354,
   "id": "d150fd8d",
   "metadata": {
    "ExecuteTime": {
     "end_time": "2022-08-30T12:22:11.364189Z",
     "start_time": "2022-08-30T12:22:11.350223Z"
    }
   },
   "outputs": [],
   "source": [
    "# OVERSAMPLE_RATIO set here is to oversample the minority class with SMOTE \n",
    "# it corresponds to the desired ratio of\n",
    "# number of samples in minority class over number of samples the majority class after resampling.\n",
    "OVERSAMPLE_RATIO = 0.3"
   ]
  },
  {
   "cell_type": "markdown",
   "id": "19c9981f",
   "metadata": {},
   "source": [
    "### Adjust Train Test Ratio"
   ]
  },
  {
   "cell_type": "code",
   "execution_count": 355,
   "id": "2d6b518c",
   "metadata": {
    "ExecuteTime": {
     "end_time": "2022-08-30T12:22:11.380144Z",
     "start_time": "2022-08-30T12:22:11.366180Z"
    }
   },
   "outputs": [],
   "source": [
    "# enter value 0<x<1 \n",
    "TEST_SIZE = 0.3"
   ]
  },
  {
   "cell_type": "markdown",
   "id": "e2b1501e",
   "metadata": {},
   "source": [
    "### Choose SelectFromModel Algo"
   ]
  },
  {
   "cell_type": "code",
   "execution_count": 356,
   "id": "5c3e9379",
   "metadata": {
    "ExecuteTime": {
     "end_time": "2022-08-30T12:22:11.395103Z",
     "start_time": "2022-08-30T12:22:11.382140Z"
    }
   },
   "outputs": [],
   "source": [
    "# Choose either SVC or LR\n",
    "SELECT_FR_MODEL_ALGO = \"SVC\""
   ]
  },
  {
   "cell_type": "markdown",
   "id": "ada9c49a",
   "metadata": {},
   "source": [
    "### Choose to run Shap or not"
   ]
  },
  {
   "cell_type": "code",
   "execution_count": 357,
   "id": "e26336a9",
   "metadata": {
    "ExecuteTime": {
     "end_time": "2022-08-30T12:22:11.411060Z",
     "start_time": "2022-08-30T12:22:11.396103Z"
    }
   },
   "outputs": [],
   "source": [
    "# Choose either 1 or 0, 1 to run shap explainer for Random Forest\n",
    "RUN_SHAP = 1"
   ]
  },
  {
   "cell_type": "markdown",
   "id": "6ad0bdae",
   "metadata": {
    "ExecuteTime": {
     "end_time": "2022-06-12T06:33:10.022515Z",
     "start_time": "2022-06-12T06:33:10.020522Z"
    }
   },
   "source": [
    "## Helper Function"
   ]
  },
  {
   "cell_type": "code",
   "execution_count": 358,
   "id": "c2c73be4",
   "metadata": {
    "ExecuteTime": {
     "end_time": "2022-08-30T12:22:11.441978Z",
     "start_time": "2022-08-30T12:22:11.412058Z"
    }
   },
   "outputs": [],
   "source": [
    "def run_model_N_eval(X_train, X_test, y_train, y_test, model=\"RF\"):\n",
    "    if model == \"RF\":\n",
    "        #model_def = RandomForestClassifier(max_depth=20, min_samples_split=20, random_state=42)\n",
    "        model_def = RandomForestClassifier(max_depth=15, min_samples_split=20, min_samples_leaf=2, \\\n",
    "                                           max_features=\"sqrt\", random_state=42, n_estimators=100)\n",
    "    elif model == \"LR\":\n",
    "        model_def = LogisticRegression(random_state=42)\n",
    "        #model_def = LogisticRegression(random_state=42, solver=\"lbfgs\", penalty=\"l2\", C=1, class_weight=\"balanced\")\n",
    "    elif model == \"SVM\":\n",
    "        model_def = svm.SVC(C=2.0, kernel='linear', probability=True, random_state=42)\n",
    "    elif model == \"NLSVM\":\n",
    "        model_def = svm.SVC(C=20.0, kernel='rbf', probability=True, random_state=42)\n",
    "    elif model == \"XGB\":\n",
    "        model_def = XGBClassifier(max_depth=3, n_estimators=100, \n",
    "                                  reg_alpha=10, reg_lambda=20, random_state=42)\n",
    "    else:\n",
    "        print(\"WRONG model type specified\")\n",
    "        return None\n",
    "          \n",
    "    # Pipeline\n",
    "    if SELECT_FR_MODEL_ALGO == \"SVC\":\n",
    "        clf = Pipeline([('feature_selection', SelectFromModel(LinearSVC(random_state=42),\\\n",
    "                        max_features=40)),\n",
    "                        ('clf', model_def)])\n",
    "    elif SELECT_FR_MODEL_ALGO == \"LR\":\n",
    "        clf = Pipeline([('feature_selection', SelectFromModel(LogisticRegression(random_state=42), \\\n",
    "                        max_featrues=40)),\n",
    "                        ('clf', model_def)])\n",
    "    else:\n",
    "        print(\"Please correct the decision for SELECT_FR_MODEL_ALGO, shd be either SVC or LR\")\n",
    "        \n",
    "    # Fit Model\n",
    "    clf.fit(X_train,y_train ) \n",
    "\n",
    "    # Prediction\n",
    "    predicted_test = clf.predict(X_test)\n",
    "    predicted_train = clf.predict(X_train)\n",
    "    \n",
    "    # Generate Confusion Matrix\n",
    "    cf_train_matrix = metrics.confusion_matrix(y_train, predicted_train)\n",
    "    cf_test_matrix = metrics.confusion_matrix(y_test, predicted_test)\n",
    "    \n",
    "    print(\"Model: \", model, \"\\n\")\n",
    "    print(\"Labels:\", y_train.unique(), \"\\n\")\n",
    "    \n",
    "    print(\"\\n\",\"#\"*100)\n",
    "\n",
    "    print(\"For Training Data:\")\n",
    "    print(cf_train_matrix, \"\\n\")\n",
    "    %matplotlib inline\n",
    "    plt.figure(figsize=(10,8))\n",
    "    sns.heatmap(cf_train_matrix, annot=True, fmt='d', vmin=0, vmax=y_train.shape[0]/len(y_train.unique()), cmap=\"Blues\")\n",
    "    plt.title(\"Training Data Confusion Matrix Heatmap\")\n",
    "    plt.xlabel('Predicted Labels')\n",
    "    plt.ylabel('Actual Labels')\n",
    "    plt.show()\n",
    "    \n",
    "    print(metrics.classification_report(y_train, predicted_train, digits=4, target_names=target_names), \"\\n\" )\n",
    "    \n",
    "    report_dict_train = classification_report(y_train, predicted_train, output_dict=True)\n",
    "    report_df_train = pd.DataFrame(report_dict_train)\n",
    "    \n",
    "    print(\"\\n\",\"#\"*100)\n",
    "\n",
    "    print(\"For Testing Data:\")\n",
    "    print(cf_test_matrix, \"\\n\")\n",
    "    %matplotlib inline\n",
    "    plt.figure(figsize=(10,8))\n",
    "    sns.heatmap(cf_test_matrix, annot=True, fmt='d', vmin=0, vmax=y_test.shape[0]/len(y_train.unique()), cmap=\"Blues\")\n",
    "    plt.title(\"Testing Data Confusion Matrix Heatmap\")\n",
    "    plt.xlabel('Predicted Labels')\n",
    "    plt.ylabel('Actual Labels')\n",
    "    plt.show()\n",
    "    \n",
    "    report_dict_test = classification_report(y_test, predicted_test, output_dict=True)\n",
    "    report_df_test = pd.DataFrame(report_dict_test)\n",
    "    \n",
    "    print(metrics.classification_report(y_test, predicted_test,  digits=4, target_names=target_names), \"\\n\" )\n",
    "\n",
    "    print(\"\\n\",\"#\"*100)\n",
    "    \n",
    "    return clf.named_steps['clf'], clf.named_steps['feature_selection'], report_df_train, report_df_test"
   ]
  },
  {
   "cell_type": "code",
   "execution_count": 359,
   "id": "52017a6f",
   "metadata": {
    "ExecuteTime": {
     "end_time": "2022-08-30T12:22:11.457935Z",
     "start_time": "2022-08-30T12:22:11.442976Z"
    }
   },
   "outputs": [],
   "source": [
    "def make_shap_waterfall_plot(shap_values, features, feature_names, num_display=20):\n",
    "    column_list = feature_names\n",
    "    feature_ratio = (np.abs(shap_values).sum(0) / np.abs(shap_values).sum()) * 100\n",
    "    column_list = column_list[np.argsort(feature_ratio)[::-1]]\n",
    "    feature_ratio_order = np.sort(feature_ratio)[::-1]\n",
    "    cum_sum = np.cumsum(feature_ratio_order)\n",
    "    column_list = column_list[:num_display]\n",
    "    feature_ratio_order = feature_ratio_order[:num_display]\n",
    "    cum_sum = cum_sum[:num_display]\n",
    "    \n",
    "    num_height = 0\n",
    "    if (num_display >= 20) & (len(column_list) >= 20):\n",
    "        num_height = (len(column_list) - 20) * 0.4\n",
    "        \n",
    "    fig, ax1 = plt.subplots(figsize=(8, 8 + num_height))\n",
    "    ax1.plot(cum_sum[::-1], column_list[::-1], c='blue', marker='o')\n",
    "    ax2 = ax1.twiny()\n",
    "    ax2.barh(column_list[::-1], feature_ratio_order[::-1], alpha=0.6)\n",
    "    \n",
    "    ax1.grid(True)\n",
    "    ax2.grid(False)\n",
    "    ax1.set_xticks(np.arange(0, round(cum_sum.max(), -1)+1, 10))\n",
    "    ax2.set_xticks(np.arange(0, round(feature_ratio_order.max(), -1)+1, 10))\n",
    "    ax1.set_xlabel('Cumulative Ratio')\n",
    "    ax2.set_xlabel('Composition Ratio')\n",
    "    ax1.tick_params(axis=\"y\", labelsize=13)\n",
    "    plt.ylim(-1, len(column_list))"
   ]
  },
  {
   "cell_type": "markdown",
   "id": "93f52e9c",
   "metadata": {},
   "source": [
    "## Import Data"
   ]
  },
  {
   "cell_type": "markdown",
   "id": "eb2206ee",
   "metadata": {},
   "source": [
    "### Import Training Data"
   ]
  },
  {
   "cell_type": "code",
   "execution_count": 360,
   "id": "5d9e703d",
   "metadata": {
    "ExecuteTime": {
     "end_time": "2022-08-30T12:22:11.473892Z",
     "start_time": "2022-08-30T12:22:11.458933Z"
    }
   },
   "outputs": [],
   "source": [
    "# Check exported data\n",
    "df = read_pickle(TRAINING_FILE)"
   ]
  },
  {
   "cell_type": "code",
   "execution_count": 361,
   "id": "b650ce4c",
   "metadata": {
    "ExecuteTime": {
     "end_time": "2022-08-30T12:22:11.488852Z",
     "start_time": "2022-08-30T12:22:11.474890Z"
    }
   },
   "outputs": [],
   "source": [
    "drop_max = [col for col in df if col.startswith('MAX_')]"
   ]
  },
  {
   "cell_type": "code",
   "execution_count": 362,
   "id": "30a240f1",
   "metadata": {
    "ExecuteTime": {
     "end_time": "2022-08-30T12:22:11.503812Z",
     "start_time": "2022-08-30T12:22:11.489850Z"
    }
   },
   "outputs": [],
   "source": [
    "drop_min = [col for col in df if col.startswith('MIN_')]"
   ]
  },
  {
   "cell_type": "code",
   "execution_count": 363,
   "id": "ec264f21",
   "metadata": {
    "ExecuteTime": {
     "end_time": "2022-08-30T12:22:11.518772Z",
     "start_time": "2022-08-30T12:22:11.504811Z"
    }
   },
   "outputs": [],
   "source": [
    "# drop redundant variables\n",
    "drop_list = ['FirstBookDate','LastBookDate', \"WaviedCount_NA\", \n",
    "             'Mode_consult_waived_reason', \"Mode_consult_hr\", \n",
    "             'CountVisit_chronic_list',\n",
    "                \"ConsultHr_0\",\n",
    "                \"ConsultHr_8\", \n",
    "                \"ConsultHr_9\",\n",
    "                \"ConsultHr_10\",                 \n",
    "                \"ConsultHr_11\",\n",
    "                \"ConsultHr_12\",\n",
    "                \"ConsultHr_13\",\n",
    "                \"ConsultHr_14\",\n",
    "                \"ConsultHr_15\",\n",
    "                \"ConsultHr_16\",\n",
    "                \"ConsultHr_17\",\n",
    "                \"ConsultHr_18\",\n",
    "                \"ConsultHr_19\",\n",
    "                \"ConsultHr_20\",\n",
    "                \"ConsultHr_21\",\n",
    "                \"ConsultHr_22\",\n",
    "                \"ConsultHr_23\"]"
   ]
  },
  {
   "cell_type": "code",
   "execution_count": 364,
   "id": "11fb6a0d",
   "metadata": {
    "ExecuteTime": {
     "end_time": "2022-08-30T12:22:11.533732Z",
     "start_time": "2022-08-30T12:22:11.519770Z"
    }
   },
   "outputs": [],
   "source": [
    "final_drop = drop_max + drop_min + drop_list"
   ]
  },
  {
   "cell_type": "code",
   "execution_count": 365,
   "id": "01fc5421",
   "metadata": {
    "ExecuteTime": {
     "end_time": "2022-08-30T12:22:11.549689Z",
     "start_time": "2022-08-30T12:22:11.534730Z"
    }
   },
   "outputs": [],
   "source": [
    "df.drop(final_drop, inplace = True, axis = 1)"
   ]
  },
  {
   "cell_type": "code",
   "execution_count": 366,
   "id": "d0014576",
   "metadata": {
    "ExecuteTime": {
     "end_time": "2022-08-30T12:22:11.581606Z",
     "start_time": "2022-08-30T12:22:11.552682Z"
    },
    "scrolled": true
   },
   "outputs": [],
   "source": [
    "pd.set_option('display.max_rows', None)\n",
    "df.head(3).transpose()"
   ]
  },
  {
   "cell_type": "code",
   "execution_count": 367,
   "id": "6c1c4aef",
   "metadata": {
    "ExecuteTime": {
     "end_time": "2022-08-30T12:22:11.596564Z",
     "start_time": "2022-08-30T12:22:11.583599Z"
    }
   },
   "outputs": [],
   "source": [
    "print(\"Shape of data: \", df.shape)"
   ]
  },
  {
   "cell_type": "markdown",
   "id": "f37dfaa4",
   "metadata": {},
   "source": [
    "## Basic Training Data Investigation¶"
   ]
  },
  {
   "cell_type": "code",
   "execution_count": 368,
   "id": "91ce37ba",
   "metadata": {
    "ExecuteTime": {
     "end_time": "2022-08-30T12:22:11.612521Z",
     "start_time": "2022-08-30T12:22:11.597562Z"
    }
   },
   "outputs": [],
   "source": [
    "print(\"Basic Data structure Info\")\n",
    "df.info(\"deep\")"
   ]
  },
  {
   "cell_type": "code",
   "execution_count": 369,
   "id": "2b73dcdd",
   "metadata": {
    "ExecuteTime": {
     "end_time": "2022-08-30T12:22:11.859861Z",
     "start_time": "2022-08-30T12:22:11.613529Z"
    }
   },
   "outputs": [],
   "source": [
    "print(\"Basic Data Summary\")\n",
    "df.describe().transpose()"
   ]
  },
  {
   "cell_type": "code",
   "execution_count": 370,
   "id": "eb3f163a",
   "metadata": {
    "ExecuteTime": {
     "end_time": "2022-08-30T12:22:11.875819Z",
     "start_time": "2022-08-30T12:22:11.860858Z"
    }
   },
   "outputs": [],
   "source": [
    "df.isnull().sum()"
   ]
  },
  {
   "cell_type": "code",
   "execution_count": 371,
   "id": "0eb9c4b2",
   "metadata": {
    "ExecuteTime": {
     "end_time": "2022-08-30T12:22:11.906769Z",
     "start_time": "2022-08-30T12:22:11.876815Z"
    }
   },
   "outputs": [],
   "source": [
    "df.duplicated().sum()"
   ]
  },
  {
   "cell_type": "code",
   "execution_count": 372,
   "id": "b789edb7",
   "metadata": {
    "ExecuteTime": {
     "end_time": "2022-08-30T12:22:11.921696Z",
     "start_time": "2022-08-30T12:22:11.906769Z"
    }
   },
   "outputs": [],
   "source": [
    "all_list = df.columns.tolist()"
   ]
  },
  {
   "cell_type": "code",
   "execution_count": 373,
   "id": "339f7906",
   "metadata": {
    "ExecuteTime": {
     "end_time": "2022-08-30T12:22:11.937653Z",
     "start_time": "2022-08-30T12:22:11.922694Z"
    }
   },
   "outputs": [],
   "source": [
    "#[TODO] TO INCLUDE CATEGORICAL INPUT TO CONSIDER\n",
    "cat_list = [\"gender\"]  \n",
    "df[cat_list] = df[cat_list].astype(\"category\")"
   ]
  },
  {
   "cell_type": "code",
   "execution_count": 374,
   "id": "d5ee4f27",
   "metadata": {
    "ExecuteTime": {
     "end_time": "2022-08-30T12:22:11.952613Z",
     "start_time": "2022-08-30T12:22:11.938686Z"
    }
   },
   "outputs": [],
   "source": [
    "#[TODO] EDIT WHERE NEC\n",
    "# LWL: this exc_list is derived from Model5 v1 - By Member - Target Others\n",
    "\n",
    "exc_list = ['mem_id', \n",
    "            'Target_Chronic',\n",
    "            #'Target_Dermatitis',\n",
    "            'Target_Migraine',\n",
    "            #'Target_Allergic',\n",
    "            'Target_Gastro',\n",
    "            #'Target_Hypertension',\n",
    "            #'Target_Asthma',\n",
    "            #'Target_Hyperlipidaemia',\n",
    "            'Target_Thyroid',\n",
    "            #'Target_Diabetes',\n",
    "            'Target_Gout', \n",
    "            \"CountVisit_Target_chronic\",\n",
    "            \"AVE_count_chronic\", \n",
    "            'CountVisit_symp_chronic_medicine_top-up',\n",
    "            'CountVisit_symp_chronic_illness_management',\n",
    "            \"CountVisit_chronic_NoneChronic\", \n",
    "            #\"CountVisit_chronic_Atopic_dermatitis\",\n",
    "            \"CountVisit_chronic_Migraine\",\n",
    "            #\"CountVisit_chronic_Vasomotor_and_allergic_rhinitis\",\n",
    "            \"CountVisit_chronic_Gastro-oesophageal_reflux_disease\",\n",
    "            #\"CountVisit_chronic_Hypertension\",\n",
    "            #\"CountVisit_chronic_Asthma\",\n",
    "            #\"CountVisit_chronic_Hyperlipidaemia\",\n",
    "            \"CountVisit_chronic_Thyroid\",\n",
    "            #\"CountVisit_chronic_Diabetes\",\n",
    "            \"CountVisit_chronic_Gout\", \n",
    "            #\"CountVisit_diag_J30\",  #Vasomotor and allergic rhinitis\n",
    "            \"CountVisit_diag_K21\",  #Gastro-esophageal reflux disease\n",
    "            \"CountVisit_diag_G43\",  #Migraine\n",
    "            #\"CountVisit_diag_L20\",  #Atopic dermatitis\n",
    "            \"CountVisit_diag_M10\",  #Gout\n",
    "            #\"CountVisit_diag_I10\",  #hypertension\n",
    "            #\"CountVisit_diag_J45\",  #Asthma\n",
    "            #\"CountVisit_diag_E11\",  #Diabetes\n",
    "            #\"CountVisit_diag_E78\",  #hypercholesterolemia, hyperglyceridemia, Hyperlipidemia (high cholesterol), Hyperchylomicronemia \n",
    "            \"CountVisit_diag_E03\",  #Other hypothyroidism, i.e. Thyroid \n",
    "            \"CountVisit_diag_E05\",  #Thyrotoxicosis [hyperthyroidism], i.e. Thyroid\n",
    "            \"Target_3High\",                                           \n",
    "            \"Target_Allergic_Dermatitis_Asthma\",                                                   \n",
    "            \"Target_Migraine_Gastro_Thyroid_Gout\",                     \n",
    "            \"CountVisit_symp_headache\",           \n",
    "            \"CountVisit_symp_giddiness\",             \n",
    "            \"CountVisit_symp_cold_sores\", \n",
    "            \"CountVisit_symp_rash\",      \n",
    "            \"CountVisit_symp_sore_throat\",  \n",
    "            \"CountVisit_symp_flu\",          \n",
    "            \"CountVisit_symp_cough\", \n",
    "            \"CountVisit_symp_cold\",    \n",
    "            \"CountVisit_symp_vomiting\", \n",
    "            \"CountVisit_symp_diarrhoea\"\n",
    "           ] "
   ]
  },
  {
   "cell_type": "code",
   "execution_count": 375,
   "id": "fe2bc86a",
   "metadata": {
    "ExecuteTime": {
     "end_time": "2022-08-30T12:22:11.967573Z",
     "start_time": "2022-08-30T12:22:11.953610Z"
    }
   },
   "outputs": [],
   "source": [
    "select_col = [x for x in all_list if x not in exc_list] "
   ]
  },
  {
   "cell_type": "code",
   "execution_count": 376,
   "id": "1204237a",
   "metadata": {
    "ExecuteTime": {
     "end_time": "2022-08-30T12:22:11.983567Z",
     "start_time": "2022-08-30T12:22:11.968574Z"
    }
   },
   "outputs": [],
   "source": [
    "num_list = [x for x in select_col if x not in cat_list] "
   ]
  },
  {
   "cell_type": "code",
   "execution_count": 377,
   "id": "170bfc8b",
   "metadata": {
    "ExecuteTime": {
     "end_time": "2022-08-30T12:22:11.999487Z",
     "start_time": "2022-08-30T12:22:11.984551Z"
    }
   },
   "outputs": [],
   "source": [
    "num_list"
   ]
  },
  {
   "cell_type": "markdown",
   "id": "4323844a",
   "metadata": {},
   "source": [
    "## One Hot encoding"
   ]
  },
  {
   "cell_type": "code",
   "execution_count": 378,
   "id": "cdeff4de",
   "metadata": {
    "ExecuteTime": {
     "end_time": "2022-08-30T12:22:12.014447Z",
     "start_time": "2022-08-30T12:22:12.000487Z"
    }
   },
   "outputs": [],
   "source": [
    "enc_df = pd.get_dummies(df[cat_list])"
   ]
  },
  {
   "cell_type": "code",
   "execution_count": 379,
   "id": "c11ecb25",
   "metadata": {
    "ExecuteTime": {
     "end_time": "2022-08-30T12:22:12.030405Z",
     "start_time": "2022-08-30T12:22:12.015445Z"
    }
   },
   "outputs": [],
   "source": [
    "# Drop \"gender_Unknown\"\n",
    "drop_oneHot = [\"gender_Female\", \"gender_Male\"]"
   ]
  },
  {
   "cell_type": "code",
   "execution_count": 380,
   "id": "cdbf23ee",
   "metadata": {
    "ExecuteTime": {
     "end_time": "2022-08-30T12:22:12.045365Z",
     "start_time": "2022-08-30T12:22:12.031402Z"
    }
   },
   "outputs": [],
   "source": [
    "#[TODO] TO EDIT AND DROP ONE CATEGORY LEVEL FOR ONE-HOT\n",
    "enc_df = enc_df[drop_oneHot]"
   ]
  },
  {
   "cell_type": "markdown",
   "id": "c264f75d",
   "metadata": {},
   "source": [
    "## Define input and output"
   ]
  },
  {
   "cell_type": "code",
   "execution_count": 381,
   "id": "22e83d03",
   "metadata": {
    "ExecuteTime": {
     "end_time": "2022-08-30T12:22:12.061322Z",
     "start_time": "2022-08-30T12:22:12.046363Z"
    }
   },
   "outputs": [],
   "source": [
    "# merge with numerical df for input\n",
    "X = df[num_list].join(enc_df)   "
   ]
  },
  {
   "cell_type": "code",
   "execution_count": 382,
   "id": "41c6e249",
   "metadata": {
    "ExecuteTime": {
     "end_time": "2022-08-30T12:22:12.076283Z",
     "start_time": "2022-08-30T12:22:12.062320Z"
    }
   },
   "outputs": [],
   "source": [
    "X.shape"
   ]
  },
  {
   "cell_type": "code",
   "execution_count": 383,
   "id": "d68ed0f2",
   "metadata": {
    "ExecuteTime": {
     "end_time": "2022-08-30T12:22:12.092240Z",
     "start_time": "2022-08-30T12:22:12.077280Z"
    }
   },
   "outputs": [],
   "source": [
    "# Define the Target\n",
    "y = df[\"Target_Migraine_Gastro_Thyroid_Gout\"]  #[TODO] TO EDIT AND DEFINE TARGET LABEL "
   ]
  },
  {
   "cell_type": "code",
   "execution_count": 384,
   "id": "e632960d",
   "metadata": {
    "ExecuteTime": {
     "end_time": "2022-08-30T12:22:12.107200Z",
     "start_time": "2022-08-30T12:22:12.093237Z"
    }
   },
   "outputs": [],
   "source": [
    "# Check input variable names\n",
    "feature_names = X.columns.tolist()"
   ]
  },
  {
   "cell_type": "code",
   "execution_count": 385,
   "id": "2c96d5cb",
   "metadata": {
    "ExecuteTime": {
     "end_time": "2022-08-30T12:22:12.123157Z",
     "start_time": "2022-08-30T12:22:12.108198Z"
    }
   },
   "outputs": [],
   "source": [
    "# EXPORT PICKLE\n",
    "# export training Feature List for deployment\n",
    "PKL_ALL_FEATURE_FILENAME = \"model_Grp3_featurelist.pkl\"\n",
    "with open(PKL_ALL_FEATURE_FILENAME, \"wb\") as file:\n",
    "    pickle.dump(feature_names, file)"
   ]
  },
  {
   "cell_type": "markdown",
   "id": "79764951",
   "metadata": {},
   "source": [
    "## Train Test Split"
   ]
  },
  {
   "cell_type": "code",
   "execution_count": 386,
   "id": "20970942",
   "metadata": {
    "ExecuteTime": {
     "end_time": "2022-08-30T12:22:12.138117Z",
     "start_time": "2022-08-30T12:22:12.124183Z"
    }
   },
   "outputs": [],
   "source": [
    "X_train, X_test, y_train, y_test = train_test_split(\n",
    "    X, y, test_size=TEST_SIZE, random_state=42, stratify=y\n",
    ")"
   ]
  },
  {
   "cell_type": "code",
   "execution_count": 387,
   "id": "aeef2464",
   "metadata": {
    "ExecuteTime": {
     "end_time": "2022-08-30T12:22:12.153077Z",
     "start_time": "2022-08-30T12:22:12.139115Z"
    }
   },
   "outputs": [],
   "source": [
    "y.value_counts()"
   ]
  },
  {
   "cell_type": "code",
   "execution_count": 388,
   "id": "27f8d150",
   "metadata": {
    "ExecuteTime": {
     "end_time": "2022-08-30T12:22:12.168038Z",
     "start_time": "2022-08-30T12:22:12.154076Z"
    }
   },
   "outputs": [],
   "source": [
    "y.value_counts(normalize=True)[1] * 100"
   ]
  },
  {
   "cell_type": "markdown",
   "id": "e683fc71",
   "metadata": {},
   "source": [
    "## Oversample for Training"
   ]
  },
  {
   "cell_type": "code",
   "execution_count": 389,
   "id": "27caddd2",
   "metadata": {
    "ExecuteTime": {
     "end_time": "2022-08-30T12:22:12.183999Z",
     "start_time": "2022-08-30T12:22:12.169035Z"
    }
   },
   "outputs": [],
   "source": [
    "#[TODO] TO INCLUDE IF DATA TARGET CLASS TOO IMBALANCE"
   ]
  },
  {
   "cell_type": "code",
   "execution_count": 390,
   "id": "3d13851d",
   "metadata": {
    "ExecuteTime": {
     "end_time": "2022-08-30T12:22:12.198955Z",
     "start_time": "2022-08-30T12:22:12.184993Z"
    }
   },
   "outputs": [
    {
     "name": "stdout",
     "output_type": "stream",
     "text": [
      "Shape of X train without balancing: (3500, 139)\n",
      "% Positive class of X train without balancing = 7.51\n"
     ]
    }
   ],
   "source": [
    "print(f'''Shape of X train without balancing: {X_train.shape}''')\n",
    "print(f'''% Positive class of X train without balancing = {np.round(y_train.value_counts(normalize=True)[1] * 100, 2)}''')"
   ]
  },
  {
   "cell_type": "code",
   "execution_count": 391,
   "id": "817d900a",
   "metadata": {
    "ExecuteTime": {
     "end_time": "2022-08-30T12:22:12.213914Z",
     "start_time": "2022-08-30T12:22:12.199952Z"
    }
   },
   "outputs": [
    {
     "name": "stdout",
     "output_type": "stream",
     "text": [
      "SMOTE not included.\n"
     ]
    }
   ],
   "source": [
    "# OVERSAMPLE_RATIO set here is to oversample the minority class with SMOTE \n",
    "# it corresponds to the desired ratio of\n",
    "# number of samples in minority class over number of samples the majority class after resampling.\n",
    "if INCL_SMOTE == 1:\n",
    "    sm = SMOTE(random_state=42, sampling_strategy=OVERSAMPLE_RATIO)\n",
    "    X_train, y_train = sm.fit_resample(X_train, y_train)\n",
    "    print(f'''Shape of X train after SMOTE: {X_train.shape}''')\n",
    "    print(f'''% Positive class of X train after SMOTE = {np.round(y_train.value_counts(normalize=True)[1] * 100, 2)}''')\n",
    "else: \n",
    "    print(\"SMOTE not included.\")"
   ]
  },
  {
   "cell_type": "code",
   "execution_count": 392,
   "id": "a2c387fc",
   "metadata": {
    "ExecuteTime": {
     "end_time": "2022-08-30T12:22:12.229872Z",
     "start_time": "2022-08-30T12:22:12.214912Z"
    }
   },
   "outputs": [
    {
     "name": "stdout",
     "output_type": "stream",
     "text": [
      "SMOTE over-sampling is not done for Test data\n",
      "Shape of X Test after SMOTE: (1500, 139)\n",
      "% Positive class f X Test before SMOTE = 7.53\n"
     ]
    }
   ],
   "source": [
    "print(\"SMOTE over-sampling is not done for Test data\")\n",
    "print(f'''Shape of X Test after SMOTE: {X_test.shape}''')\n",
    "print(f'''% Positive class f X Test before SMOTE = {np.round(y_test.value_counts(normalize=True)[1] * 100, 2)}''')"
   ]
  },
  {
   "cell_type": "markdown",
   "id": "c2f6dc69",
   "metadata": {
    "ExecuteTime": {
     "end_time": "2022-06-12T08:33:49.877591Z",
     "start_time": "2022-06-12T08:33:49.869605Z"
    }
   },
   "source": [
    "Note: Not over-sampling for Test data to maintain data integrity"
   ]
  },
  {
   "cell_type": "markdown",
   "id": "cc32d839",
   "metadata": {},
   "source": [
    "## Remove Outliers"
   ]
  },
  {
   "cell_type": "markdown",
   "id": "b580673f",
   "metadata": {},
   "source": [
    "Isolation Forest, or iForest for short, is a tree-based anomaly detection algorithm.\n",
    "\n",
    "It is based on modeling the normal data in such a way as to isolate anomalies that are both few in number and different in the feature space.\n",
    "\n",
    "The method is based on two anomalies’ quantitative properties:\n",
    "\n",
    "i) they are the minority consisting of fewer instances and \n",
    "\n",
    "ii) they have attribute-values that are very different from those of normal instances.\n",
    "The scikit-learn library provides an implementation of Isolation Forest in the IsolationForest class."
   ]
  },
  {
   "cell_type": "code",
   "execution_count": 393,
   "id": "a1a989a4",
   "metadata": {
    "ExecuteTime": {
     "end_time": "2022-08-30T12:22:12.245839Z",
     "start_time": "2022-08-30T12:22:12.230869Z"
    }
   },
   "outputs": [],
   "source": [
    "# identify outliers in the training dataset\n",
    "\n",
    "if INCL_IFOREST ==1: \n",
    "    iso = IsolationForest(contamination=0.1,random_state= 0)\n",
    "    yhat = iso.fit_predict(X_train)\n",
    "\n",
    "    # select all rows that are not outliers\n",
    "    mask = yhat != -1\n",
    "    X_train, y_train = X_train[mask], y_train[mask]\n",
    "\n",
    "    print(\"No of outliers marked: \")\n",
    "    sum(yhat == -1)\n",
    "    \n",
    "    # summarize the shape of the updated training dataset\n",
    "    print(\"Shape of processed dataset, X_train vs y_train after removing outliers\")\n",
    "    print(X_train.shape, y_train.shape)"
   ]
  },
  {
   "cell_type": "markdown",
   "id": "339a682f",
   "metadata": {},
   "source": [
    "## Standardized Data"
   ]
  },
  {
   "cell_type": "code",
   "execution_count": 394,
   "id": "159748c1",
   "metadata": {
    "ExecuteTime": {
     "end_time": "2022-08-30T12:22:12.275751Z",
     "start_time": "2022-08-30T12:22:12.246827Z"
    }
   },
   "outputs": [
    {
     "name": "stdout",
     "output_type": "stream",
     "text": [
      "Fit and Transform the training dataset\n"
     ]
    }
   ],
   "source": [
    "sc =  StandardScaler()\n",
    "# Fit and Transform the training dataset\n",
    "print(\"Fit and Transform the training dataset\")\n",
    "X_train = sc.fit_transform(X_train)"
   ]
  },
  {
   "cell_type": "code",
   "execution_count": 395,
   "id": "e0669759",
   "metadata": {
    "ExecuteTime": {
     "end_time": "2022-08-30T12:22:12.291707Z",
     "start_time": "2022-08-30T12:22:12.276746Z"
    }
   },
   "outputs": [
    {
     "data": {
      "text/plain": [
       "array([[-0.59890791, -0.73958131,  2.34860317, ...,  0.04450981,\n",
       "         0.81795539, -0.74489228],\n",
       "       [ 0.56985579,  0.03012865, -0.35805178, ..., -0.40760341,\n",
       "         0.81795539, -0.74489228],\n",
       "       [-0.59890791, -0.73958131, -0.35805178, ...,  0.04450981,\n",
       "         0.81795539, -0.74489228],\n",
       "       ...,\n",
       "       [-0.59890791, -0.73958131,  2.34860317, ...,  0.04450981,\n",
       "         0.81795539, -0.74489228],\n",
       "       [-0.59890791,  3.10896848, -0.35805178, ...,  0.21472286,\n",
       "         0.81795539, -0.74489228],\n",
       "       [-0.59890791, -0.73958131, -0.35805178, ...,  0.04450981,\n",
       "         0.81795539, -0.74489228]])"
      ]
     },
     "execution_count": 395,
     "metadata": {},
     "output_type": "execute_result"
    }
   ],
   "source": [
    "X_train"
   ]
  },
  {
   "cell_type": "code",
   "execution_count": 396,
   "id": "4b9d5302",
   "metadata": {
    "ExecuteTime": {
     "end_time": "2022-08-30T12:22:12.307665Z",
     "start_time": "2022-08-30T12:22:12.292705Z"
    }
   },
   "outputs": [
    {
     "name": "stdout",
     "output_type": "stream",
     "text": [
      "Transform the testing dataset (no fitting)\n"
     ]
    }
   ],
   "source": [
    "# Transform the testing dataset\n",
    "print(\"Transform the testing dataset (no fitting)\")\n",
    "X_test = sc.transform (X_test)"
   ]
  },
  {
   "cell_type": "code",
   "execution_count": 397,
   "id": "04e75627",
   "metadata": {
    "ExecuteTime": {
     "end_time": "2022-08-30T12:22:12.322625Z",
     "start_time": "2022-08-30T12:22:12.308662Z"
    }
   },
   "outputs": [],
   "source": [
    "# EXPORT PICKLE\n",
    "PKL_STANDARDSCALER_FILENAME = \"model_Grp3_standardard_scaler.pkl\"\n",
    "with open(PKL_STANDARDSCALER_FILENAME, \"wb\") as file:\n",
    "    pickle.dump(sc, file)"
   ]
  },
  {
   "cell_type": "markdown",
   "id": "dcc03764",
   "metadata": {},
   "source": [
    "## Model Selection"
   ]
  },
  {
   "cell_type": "code",
   "execution_count": 398,
   "id": "3a8a3277",
   "metadata": {
    "ExecuteTime": {
     "end_time": "2022-08-30T12:22:12.337583Z",
     "start_time": "2022-08-30T12:22:12.323623Z"
    }
   },
   "outputs": [],
   "source": [
    "target_names = ['Non-MigraineGastroThyroidGout', 'MigraineGastroThyroidGout']   #Define Target Names"
   ]
  },
  {
   "cell_type": "markdown",
   "id": "ebf97cd5",
   "metadata": {
    "ExecuteTime": {
     "end_time": "2022-06-12T08:34:25.976376Z",
     "start_time": "2022-06-12T08:34:25.965405Z"
    }
   },
   "source": [
    "### Logistic Model"
   ]
  },
  {
   "cell_type": "code",
   "execution_count": 399,
   "id": "663b24a6",
   "metadata": {
    "ExecuteTime": {
     "end_time": "2022-08-30T12:22:13.471553Z",
     "start_time": "2022-08-30T12:22:12.338620Z"
    }
   },
   "outputs": [
    {
     "name": "stdout",
     "output_type": "stream",
     "text": [
      "Model:  LR \n",
      "\n",
      "Labels: [0 1] \n",
      "\n",
      "\n",
      " ####################################################################################################\n",
      "For Training Data:\n",
      "[[3206   31]\n",
      " [ 209   54]] \n",
      "\n"
     ]
    },
    {
     "data": {
      "image/png": "[encoded data removed]",
      "text/plain": [
       "<Figure size 720x576 with 2 Axes>"
      ]
     },
     "metadata": {
      "needs_background": "light"
     },
     "output_type": "display_data"
    },
    {
     "name": "stdout",
     "output_type": "stream",
     "text": [
      "                               precision    recall  f1-score   support\n",
      "\n",
      "Non-MigraineGastroThyroidGout     0.9388    0.9904    0.9639      3237\n",
      "    MigraineGastroThyroidGout     0.6353    0.2053    0.3103       263\n",
      "\n",
      "                     accuracy                         0.9314      3500\n",
      "                    macro avg     0.7870    0.5979    0.6371      3500\n",
      "                 weighted avg     0.9160    0.9314    0.9148      3500\n",
      " \n",
      "\n",
      "\n",
      " ####################################################################################################\n",
      "For Testing Data:\n",
      "[[1368   19]\n",
      " [  89   24]] \n",
      "\n"
     ]
    },
    {
     "data": {
      "image/png": "[encoded data removed]",
      "text/plain": [
       "<Figure size 720x576 with 2 Axes>"
      ]
     },
     "metadata": {
      "needs_background": "light"
     },
     "output_type": "display_data"
    },
    {
     "name": "stdout",
     "output_type": "stream",
     "text": [
      "                               precision    recall  f1-score   support\n",
      "\n",
      "Non-MigraineGastroThyroidGout     0.9389    0.9863    0.9620      1387\n",
      "    MigraineGastroThyroidGout     0.5581    0.2124    0.3077       113\n",
      "\n",
      "                     accuracy                         0.9280      1500\n",
      "                    macro avg     0.7485    0.5993    0.6349      1500\n",
      "                 weighted avg     0.9102    0.9280    0.9127      1500\n",
      " \n",
      "\n",
      "\n",
      " ####################################################################################################\n"
     ]
    }
   ],
   "source": [
    "LR_model, LR_selectFeature, LR_report_train,  LR_report_test = \\\n",
    "    run_model_N_eval(X_train, X_test, y_train, y_test, model=\"LR\")"
   ]
  },
  {
   "cell_type": "code",
   "execution_count": 400,
   "id": "b4b7c293",
   "metadata": {
    "ExecuteTime": {
     "end_time": "2022-08-30T12:22:13.486513Z",
     "start_time": "2022-08-30T12:22:13.472551Z"
    }
   },
   "outputs": [
    {
     "data": {
      "text/html": [
       "<div>\n",
       "<style scoped>\n",
       "    .dataframe tbody tr th:only-of-type {\n",
       "        vertical-align: middle;\n",
       "    }\n",
       "\n",
       "    .dataframe tbody tr th {\n",
       "        vertical-align: top;\n",
       "    }\n",
       "\n",
       "    .dataframe thead th {\n",
       "        text-align: right;\n",
       "    }\n",
       "</style>\n",
       "<table border=\"1\" class=\"dataframe\">\n",
       "  <thead>\n",
       "    <tr style=\"text-align: right;\">\n",
       "      <th></th>\n",
       "      <th>Train</th>\n",
       "      <th>Test</th>\n",
       "    </tr>\n",
       "  </thead>\n",
       "  <tbody>\n",
       "    <tr>\n",
       "      <th>precision</th>\n",
       "      <td>0.635294</td>\n",
       "      <td>0.558140</td>\n",
       "    </tr>\n",
       "    <tr>\n",
       "      <th>recall</th>\n",
       "      <td>0.205323</td>\n",
       "      <td>0.212389</td>\n",
       "    </tr>\n",
       "    <tr>\n",
       "      <th>f1-score</th>\n",
       "      <td>0.310345</td>\n",
       "      <td>0.307692</td>\n",
       "    </tr>\n",
       "    <tr>\n",
       "      <th>support</th>\n",
       "      <td>263.000000</td>\n",
       "      <td>113.000000</td>\n",
       "    </tr>\n",
       "  </tbody>\n",
       "</table>\n",
       "</div>"
      ],
      "text/plain": [
       "                Train        Test\n",
       "precision    0.635294    0.558140\n",
       "recall       0.205323    0.212389\n",
       "f1-score     0.310345    0.307692\n",
       "support    263.000000  113.000000"
      ]
     },
     "execution_count": 400,
     "metadata": {},
     "output_type": "execute_result"
    }
   ],
   "source": [
    "# LR Target Report \n",
    "LR_frame = { 'Train': LR_report_train[\"1\"], 'Test': LR_report_test[\"1\"] }\n",
    "LR_report_output= pd.DataFrame(LR_frame)\n",
    "LR_report_output"
   ]
  },
  {
   "cell_type": "code",
   "execution_count": 401,
   "id": "92307bf4",
   "metadata": {
    "ExecuteTime": {
     "end_time": "2022-08-30T12:22:13.501474Z",
     "start_time": "2022-08-30T12:22:13.487512Z"
    }
   },
   "outputs": [],
   "source": [
    "# EXPORT PICKLE\n",
    "# export result\n",
    "PKL_LR_RESULT_FILENAME = \"model_Grp3_result_logistic.pkl\"\n",
    "with open(PKL_LR_RESULT_FILENAME, \"wb\") as file:\n",
    "    pickle.dump(LR_report_output, file)"
   ]
  },
  {
   "cell_type": "markdown",
   "id": "e6260389",
   "metadata": {},
   "source": [
    "### Support Vector Machine (Linear)"
   ]
  },
  {
   "cell_type": "code",
   "execution_count": 402,
   "id": "c6c4b5b4",
   "metadata": {
    "ExecuteTime": {
     "end_time": "2022-08-30T12:22:16.949258Z",
     "start_time": "2022-08-30T12:22:13.503471Z"
    }
   },
   "outputs": [
    {
     "name": "stdout",
     "output_type": "stream",
     "text": [
      "Model:  SVM \n",
      "\n",
      "Labels: [0 1] \n",
      "\n",
      "\n",
      " ####################################################################################################\n",
      "For Training Data:\n",
      "[[3237    0]\n",
      " [ 263    0]] \n",
      "\n"
     ]
    },
    {
     "data": {
      "image/png": "[encoded data removed]",
      "text/plain": [
       "<Figure size 720x576 with 2 Axes>"
      ]
     },
     "metadata": {
      "needs_background": "light"
     },
     "output_type": "display_data"
    },
    {
     "name": "stdout",
     "output_type": "stream",
     "text": [
      "                               precision    recall  f1-score   support\n",
      "\n",
      "Non-MigraineGastroThyroidGout     0.9249    1.0000    0.9610      3237\n",
      "    MigraineGastroThyroidGout     0.0000    0.0000    0.0000       263\n",
      "\n",
      "                     accuracy                         0.9249      3500\n",
      "                    macro avg     0.4624    0.5000    0.4805      3500\n",
      "                 weighted avg     0.8554    0.9249    0.8888      3500\n",
      " \n",
      "\n",
      "\n",
      " ####################################################################################################\n",
      "For Testing Data:\n",
      "[[1387    0]\n",
      " [ 113    0]] \n",
      "\n"
     ]
    },
    {
     "data": {
      "image/png": "[encoded data removed]",
      "text/plain": [
       "<Figure size 720x576 with 2 Axes>"
      ]
     },
     "metadata": {
      "needs_background": "light"
     },
     "output_type": "display_data"
    },
    {
     "name": "stdout",
     "output_type": "stream",
     "text": [
      "                               precision    recall  f1-score   support\n",
      "\n",
      "Non-MigraineGastroThyroidGout     0.9247    1.0000    0.9609      1387\n",
      "    MigraineGastroThyroidGout     0.0000    0.0000    0.0000       113\n",
      "\n",
      "                     accuracy                         0.9247      1500\n",
      "                    macro avg     0.4623    0.5000    0.4804      1500\n",
      "                 weighted avg     0.8550    0.9247    0.8885      1500\n",
      " \n",
      "\n",
      "\n",
      " ####################################################################################################\n"
     ]
    }
   ],
   "source": [
    "SVM_model, SVM_selectFeature, SVM_report_train, SVM_report_test = \\\n",
    "    run_model_N_eval(X_train, X_test, y_train, y_test, \"SVM\")"
   ]
  },
  {
   "cell_type": "code",
   "execution_count": 403,
   "id": "34a76374",
   "metadata": {
    "ExecuteTime": {
     "end_time": "2022-08-30T12:22:16.964219Z",
     "start_time": "2022-08-30T12:22:16.950255Z"
    }
   },
   "outputs": [
    {
     "data": {
      "text/html": [
       "<div>\n",
       "<style scoped>\n",
       "    .dataframe tbody tr th:only-of-type {\n",
       "        vertical-align: middle;\n",
       "    }\n",
       "\n",
       "    .dataframe tbody tr th {\n",
       "        vertical-align: top;\n",
       "    }\n",
       "\n",
       "    .dataframe thead th {\n",
       "        text-align: right;\n",
       "    }\n",
       "</style>\n",
       "<table border=\"1\" class=\"dataframe\">\n",
       "  <thead>\n",
       "    <tr style=\"text-align: right;\">\n",
       "      <th></th>\n",
       "      <th>Train</th>\n",
       "      <th>Test</th>\n",
       "    </tr>\n",
       "  </thead>\n",
       "  <tbody>\n",
       "    <tr>\n",
       "      <th>precision</th>\n",
       "      <td>0.0</td>\n",
       "      <td>0.0</td>\n",
       "    </tr>\n",
       "    <tr>\n",
       "      <th>recall</th>\n",
       "      <td>0.0</td>\n",
       "      <td>0.0</td>\n",
       "    </tr>\n",
       "    <tr>\n",
       "      <th>f1-score</th>\n",
       "      <td>0.0</td>\n",
       "      <td>0.0</td>\n",
       "    </tr>\n",
       "    <tr>\n",
       "      <th>support</th>\n",
       "      <td>263.0</td>\n",
       "      <td>113.0</td>\n",
       "    </tr>\n",
       "  </tbody>\n",
       "</table>\n",
       "</div>"
      ],
      "text/plain": [
       "           Train   Test\n",
       "precision    0.0    0.0\n",
       "recall       0.0    0.0\n",
       "f1-score     0.0    0.0\n",
       "support    263.0  113.0"
      ]
     },
     "execution_count": 403,
     "metadata": {},
     "output_type": "execute_result"
    }
   ],
   "source": [
    "# SVM Target Report \n",
    "SVM_frame = { 'Train': SVM_report_train[\"1\"], 'Test': SVM_report_test[\"1\"] }\n",
    "SVM_report_output= pd.DataFrame(SVM_frame)\n",
    "SVM_report_output"
   ]
  },
  {
   "cell_type": "code",
   "execution_count": 404,
   "id": "cc223490",
   "metadata": {
    "ExecuteTime": {
     "end_time": "2022-08-30T12:22:16.980175Z",
     "start_time": "2022-08-30T12:22:16.965216Z"
    }
   },
   "outputs": [],
   "source": [
    "# EXPORT PICKLE\n",
    "# export result\n",
    "PKL_SVM_RESULT_FILENAME = \"model_Grp3_result_svm.pkl\"\n",
    "with open(PKL_SVM_RESULT_FILENAME, \"wb\") as file:\n",
    "    pickle.dump(SVM_report_output, file)"
   ]
  },
  {
   "cell_type": "markdown",
   "id": "d9d1bcf7",
   "metadata": {},
   "source": [
    "### Support Vector Machine (Non-Linear)"
   ]
  },
  {
   "cell_type": "code",
   "execution_count": 405,
   "id": "c0ae2ee6",
   "metadata": {
    "ExecuteTime": {
     "end_time": "2022-08-30T12:22:19.986141Z",
     "start_time": "2022-08-30T12:22:16.981173Z"
    }
   },
   "outputs": [
    {
     "name": "stdout",
     "output_type": "stream",
     "text": [
      "Model:  NLSVM \n",
      "\n",
      "Labels: [0 1] \n",
      "\n",
      "\n",
      " ####################################################################################################\n",
      "For Training Data:\n",
      "[[3236    1]\n",
      " [ 105  158]] \n",
      "\n"
     ]
    },
    {
     "data": {
      "image/png": "[encoded data removed]",
      "text/plain": [
       "<Figure size 720x576 with 2 Axes>"
      ]
     },
     "metadata": {
      "needs_background": "light"
     },
     "output_type": "display_data"
    },
    {
     "name": "stdout",
     "output_type": "stream",
     "text": [
      "                               precision    recall  f1-score   support\n",
      "\n",
      "Non-MigraineGastroThyroidGout     0.9686    0.9997    0.9839      3237\n",
      "    MigraineGastroThyroidGout     0.9937    0.6008    0.7488       263\n",
      "\n",
      "                     accuracy                         0.9697      3500\n",
      "                    macro avg     0.9811    0.8002    0.8664      3500\n",
      "                 weighted avg     0.9705    0.9697    0.9662      3500\n",
      " \n",
      "\n",
      "\n",
      " ####################################################################################################\n",
      "For Testing Data:\n",
      "[[1354   33]\n",
      " [  97   16]] \n",
      "\n"
     ]
    },
    {
     "data": {
      "image/png": "[encoded data removed]",
      "text/plain": [
       "<Figure size 720x576 with 2 Axes>"
      ]
     },
     "metadata": {
      "needs_background": "light"
     },
     "output_type": "display_data"
    },
    {
     "name": "stdout",
     "output_type": "stream",
     "text": [
      "                               precision    recall  f1-score   support\n",
      "\n",
      "Non-MigraineGastroThyroidGout     0.9331    0.9762    0.9542      1387\n",
      "    MigraineGastroThyroidGout     0.3265    0.1416    0.1975       113\n",
      "\n",
      "                     accuracy                         0.9133      1500\n",
      "                    macro avg     0.6298    0.5589    0.5759      1500\n",
      "                 weighted avg     0.8875    0.9133    0.8972      1500\n",
      " \n",
      "\n",
      "\n",
      " ####################################################################################################\n"
     ]
    }
   ],
   "source": [
    "NLSVM_model, NLSVM_selectFeature, NLSVM_report_train, NLSVM_report_test = \\\n",
    "    run_model_N_eval(X_train, X_test, y_train, y_test, \"NLSVM\")"
   ]
  },
  {
   "cell_type": "code",
   "execution_count": 406,
   "id": "d25f5cd2",
   "metadata": {
    "ExecuteTime": {
     "end_time": "2022-08-30T12:22:20.001101Z",
     "start_time": "2022-08-30T12:22:19.987139Z"
    }
   },
   "outputs": [
    {
     "data": {
      "text/html": [
       "<div>\n",
       "<style scoped>\n",
       "    .dataframe tbody tr th:only-of-type {\n",
       "        vertical-align: middle;\n",
       "    }\n",
       "\n",
       "    .dataframe tbody tr th {\n",
       "        vertical-align: top;\n",
       "    }\n",
       "\n",
       "    .dataframe thead th {\n",
       "        text-align: right;\n",
       "    }\n",
       "</style>\n",
       "<table border=\"1\" class=\"dataframe\">\n",
       "  <thead>\n",
       "    <tr style=\"text-align: right;\">\n",
       "      <th></th>\n",
       "      <th>Train</th>\n",
       "      <th>Test</th>\n",
       "    </tr>\n",
       "  </thead>\n",
       "  <tbody>\n",
       "    <tr>\n",
       "      <th>precision</th>\n",
       "      <td>0.993711</td>\n",
       "      <td>0.326531</td>\n",
       "    </tr>\n",
       "    <tr>\n",
       "      <th>recall</th>\n",
       "      <td>0.600760</td>\n",
       "      <td>0.141593</td>\n",
       "    </tr>\n",
       "    <tr>\n",
       "      <th>f1-score</th>\n",
       "      <td>0.748815</td>\n",
       "      <td>0.197531</td>\n",
       "    </tr>\n",
       "    <tr>\n",
       "      <th>support</th>\n",
       "      <td>263.000000</td>\n",
       "      <td>113.000000</td>\n",
       "    </tr>\n",
       "  </tbody>\n",
       "</table>\n",
       "</div>"
      ],
      "text/plain": [
       "                Train        Test\n",
       "precision    0.993711    0.326531\n",
       "recall       0.600760    0.141593\n",
       "f1-score     0.748815    0.197531\n",
       "support    263.000000  113.000000"
      ]
     },
     "execution_count": 406,
     "metadata": {},
     "output_type": "execute_result"
    }
   ],
   "source": [
    "# NLSVM Target Report \n",
    "NLSVM_frame = { 'Train': NLSVM_report_train[\"1\"], 'Test': NLSVM_report_test[\"1\"] }\n",
    "NLSVM_report_output= pd.DataFrame(NLSVM_frame)\n",
    "NLSVM_report_output"
   ]
  },
  {
   "cell_type": "code",
   "execution_count": 407,
   "id": "1c69db87",
   "metadata": {
    "ExecuteTime": {
     "end_time": "2022-08-30T12:22:20.017060Z",
     "start_time": "2022-08-30T12:22:20.002099Z"
    }
   },
   "outputs": [],
   "source": [
    "# EXPORT PICKLE\n",
    "# export result\n",
    "PKL_NLSVM_RESULT_FILENAME = \"model_Grp3_result_nonlinearsvm.pkl\"\n",
    "with open(PKL_NLSVM_RESULT_FILENAME, \"wb\") as file:\n",
    "    pickle.dump(NLSVM_report_output, file)"
   ]
  },
  {
   "cell_type": "markdown",
   "id": "f3aabf68",
   "metadata": {},
   "source": [
    "### Random Forest"
   ]
  },
  {
   "cell_type": "code",
   "execution_count": 408,
   "id": "a7aa380f",
   "metadata": {
    "ExecuteTime": {
     "end_time": "2022-08-30T12:22:21.433137Z",
     "start_time": "2022-08-30T12:22:20.018056Z"
    }
   },
   "outputs": [
    {
     "name": "stdout",
     "output_type": "stream",
     "text": [
      "Model:  RF \n",
      "\n",
      "Labels: [0 1] \n",
      "\n",
      "\n",
      " ####################################################################################################\n",
      "For Training Data:\n",
      "[[3237    0]\n",
      " [ 237   26]] \n",
      "\n"
     ]
    },
    {
     "data": {
      "image/png": "[encoded data removed]",
      "text/plain": [
       "<Figure size 720x576 with 2 Axes>"
      ]
     },
     "metadata": {
      "needs_background": "light"
     },
     "output_type": "display_data"
    },
    {
     "name": "stdout",
     "output_type": "stream",
     "text": [
      "                               precision    recall  f1-score   support\n",
      "\n",
      "Non-MigraineGastroThyroidGout     0.9318    1.0000    0.9647      3237\n",
      "    MigraineGastroThyroidGout     1.0000    0.0989    0.1799       263\n",
      "\n",
      "                     accuracy                         0.9323      3500\n",
      "                    macro avg     0.9659    0.5494    0.5723      3500\n",
      "                 weighted avg     0.9369    0.9323    0.9057      3500\n",
      " \n",
      "\n",
      "\n",
      " ####################################################################################################\n",
      "For Testing Data:\n",
      "[[1385    2]\n",
      " [ 110    3]] \n",
      "\n"
     ]
    },
    {
     "data": {
      "image/png": "[encoded data removed]",
      "text/plain": [
       "<Figure size 720x576 with 2 Axes>"
      ]
     },
     "metadata": {
      "needs_background": "light"
     },
     "output_type": "display_data"
    },
    {
     "name": "stdout",
     "output_type": "stream",
     "text": [
      "                               precision    recall  f1-score   support\n",
      "\n",
      "Non-MigraineGastroThyroidGout     0.9264    0.9986    0.9611      1387\n",
      "    MigraineGastroThyroidGout     0.6000    0.0265    0.0508       113\n",
      "\n",
      "                     accuracy                         0.9253      1500\n",
      "                    macro avg     0.7632    0.5126    0.5060      1500\n",
      "                 weighted avg     0.9018    0.9253    0.8926      1500\n",
      " \n",
      "\n",
      "\n",
      " ####################################################################################################\n"
     ]
    }
   ],
   "source": [
    "RF_model, RF_selectFeature, RF_report_train, RF_report_test  = \\\n",
    "    run_model_N_eval(X_train, X_test, y_train, y_test, \"RF\")"
   ]
  },
  {
   "cell_type": "code",
   "execution_count": 409,
   "id": "de50ce09",
   "metadata": {
    "ExecuteTime": {
     "end_time": "2022-08-30T12:22:21.449056Z",
     "start_time": "2022-08-30T12:22:21.437131Z"
    }
   },
   "outputs": [
    {
     "data": {
      "text/html": [
       "<div>\n",
       "<style scoped>\n",
       "    .dataframe tbody tr th:only-of-type {\n",
       "        vertical-align: middle;\n",
       "    }\n",
       "\n",
       "    .dataframe tbody tr th {\n",
       "        vertical-align: top;\n",
       "    }\n",
       "\n",
       "    .dataframe thead th {\n",
       "        text-align: right;\n",
       "    }\n",
       "</style>\n",
       "<table border=\"1\" class=\"dataframe\">\n",
       "  <thead>\n",
       "    <tr style=\"text-align: right;\">\n",
       "      <th></th>\n",
       "      <th>Train</th>\n",
       "      <th>Test</th>\n",
       "    </tr>\n",
       "  </thead>\n",
       "  <tbody>\n",
       "    <tr>\n",
       "      <th>precision</th>\n",
       "      <td>1.000000</td>\n",
       "      <td>0.600000</td>\n",
       "    </tr>\n",
       "    <tr>\n",
       "      <th>recall</th>\n",
       "      <td>0.098859</td>\n",
       "      <td>0.026549</td>\n",
       "    </tr>\n",
       "    <tr>\n",
       "      <th>f1-score</th>\n",
       "      <td>0.179931</td>\n",
       "      <td>0.050847</td>\n",
       "    </tr>\n",
       "    <tr>\n",
       "      <th>support</th>\n",
       "      <td>263.000000</td>\n",
       "      <td>113.000000</td>\n",
       "    </tr>\n",
       "  </tbody>\n",
       "</table>\n",
       "</div>"
      ],
      "text/plain": [
       "                Train        Test\n",
       "precision    1.000000    0.600000\n",
       "recall       0.098859    0.026549\n",
       "f1-score     0.179931    0.050847\n",
       "support    263.000000  113.000000"
      ]
     },
     "execution_count": 409,
     "metadata": {},
     "output_type": "execute_result"
    }
   ],
   "source": [
    "# RF Target Report \n",
    "RF_frame = { 'Train': RF_report_train[\"1\"], 'Test': RF_report_test[\"1\"] }\n",
    "RF_report_output= pd.DataFrame(RF_frame)\n",
    "RF_report_output"
   ]
  },
  {
   "cell_type": "code",
   "execution_count": 410,
   "id": "7d7f5c38",
   "metadata": {
    "ExecuteTime": {
     "end_time": "2022-08-30T12:22:21.464044Z",
     "start_time": "2022-08-30T12:22:21.450054Z"
    }
   },
   "outputs": [],
   "source": [
    "# EXPORT PICKLE\n",
    "# export result\n",
    "PKL_RF_RESULT_FILENAME = \"model_Grp3_result_randomforest.pkl\"\n",
    "with open(PKL_RF_RESULT_FILENAME, \"wb\") as file:\n",
    "    pickle.dump(RF_report_output, file)"
   ]
  },
  {
   "cell_type": "markdown",
   "id": "9e15b728",
   "metadata": {},
   "source": [
    "### XGBoost"
   ]
  },
  {
   "cell_type": "code",
   "execution_count": 411,
   "id": "ebc2833e",
   "metadata": {
    "ExecuteTime": {
     "end_time": "2022-08-30T12:22:22.460354Z",
     "start_time": "2022-08-30T12:22:21.465027Z"
    }
   },
   "outputs": [
    {
     "name": "stdout",
     "output_type": "stream",
     "text": [
      "[20:22:22] WARNING: C:/Users/Administrator/workspace/xgboost-win64_release_1.5.1/src/learner.cc:1115: Starting in XGBoost 1.3.0, the default evaluation metric used with the objective 'binary:logistic' was changed from 'error' to 'logloss'. Explicitly set eval_metric if you'd like to restore the old behavior.\n",
      "Model:  XGB \n",
      "\n",
      "Labels: [0 1] \n",
      "\n",
      "\n",
      " ####################################################################################################\n",
      "For Training Data:\n",
      "[[3232    5]\n",
      " [ 247   16]] \n",
      "\n"
     ]
    },
    {
     "data": {
      "image/png": "[encoded data removed]",
      "text/plain": [
       "<Figure size 720x576 with 2 Axes>"
      ]
     },
     "metadata": {
      "needs_background": "light"
     },
     "output_type": "display_data"
    },
    {
     "name": "stdout",
     "output_type": "stream",
     "text": [
      "                               precision    recall  f1-score   support\n",
      "\n",
      "Non-MigraineGastroThyroidGout     0.9290    0.9985    0.9625      3237\n",
      "    MigraineGastroThyroidGout     0.7619    0.0608    0.1127       263\n",
      "\n",
      "                     accuracy                         0.9280      3500\n",
      "                    macro avg     0.8455    0.5296    0.5376      3500\n",
      "                 weighted avg     0.9164    0.9280    0.8986      3500\n",
      " \n",
      "\n",
      "\n",
      " ####################################################################################################\n",
      "For Testing Data:\n",
      "[[1385    2]\n",
      " [ 109    4]] \n",
      "\n"
     ]
    },
    {
     "data": {
      "image/png": "[encoded data removed]",
      "text/plain": [
       "<Figure size 720x576 with 2 Axes>"
      ]
     },
     "metadata": {
      "needs_background": "light"
     },
     "output_type": "display_data"
    },
    {
     "name": "stdout",
     "output_type": "stream",
     "text": [
      "                               precision    recall  f1-score   support\n",
      "\n",
      "Non-MigraineGastroThyroidGout     0.9270    0.9986    0.9615      1387\n",
      "    MigraineGastroThyroidGout     0.6667    0.0354    0.0672       113\n",
      "\n",
      "                     accuracy                         0.9260      1500\n",
      "                    macro avg     0.7969    0.5170    0.5143      1500\n",
      "                 weighted avg     0.9074    0.9260    0.8941      1500\n",
      " \n",
      "\n",
      "\n",
      " ####################################################################################################\n"
     ]
    }
   ],
   "source": [
    "XGB_model, XGB_selectFeature,  XGB_report_train, XGB_report_test = \\\n",
    "    run_model_N_eval(X_train, X_test, y_train, y_test, \"XGB\")"
   ]
  },
  {
   "cell_type": "code",
   "execution_count": 412,
   "id": "cdb01410",
   "metadata": {
    "ExecuteTime": {
     "end_time": "2022-08-30T12:22:22.475313Z",
     "start_time": "2022-08-30T12:22:22.461371Z"
    }
   },
   "outputs": [
    {
     "data": {
      "text/html": [
       "<div>\n",
       "<style scoped>\n",
       "    .dataframe tbody tr th:only-of-type {\n",
       "        vertical-align: middle;\n",
       "    }\n",
       "\n",
       "    .dataframe tbody tr th {\n",
       "        vertical-align: top;\n",
       "    }\n",
       "\n",
       "    .dataframe thead th {\n",
       "        text-align: right;\n",
       "    }\n",
       "</style>\n",
       "<table border=\"1\" class=\"dataframe\">\n",
       "  <thead>\n",
       "    <tr style=\"text-align: right;\">\n",
       "      <th></th>\n",
       "      <th>Train</th>\n",
       "      <th>Test</th>\n",
       "    </tr>\n",
       "  </thead>\n",
       "  <tbody>\n",
       "    <tr>\n",
       "      <th>precision</th>\n",
       "      <td>0.761905</td>\n",
       "      <td>0.666667</td>\n",
       "    </tr>\n",
       "    <tr>\n",
       "      <th>recall</th>\n",
       "      <td>0.060837</td>\n",
       "      <td>0.035398</td>\n",
       "    </tr>\n",
       "    <tr>\n",
       "      <th>f1-score</th>\n",
       "      <td>0.112676</td>\n",
       "      <td>0.067227</td>\n",
       "    </tr>\n",
       "    <tr>\n",
       "      <th>support</th>\n",
       "      <td>263.000000</td>\n",
       "      <td>113.000000</td>\n",
       "    </tr>\n",
       "  </tbody>\n",
       "</table>\n",
       "</div>"
      ],
      "text/plain": [
       "                Train        Test\n",
       "precision    0.761905    0.666667\n",
       "recall       0.060837    0.035398\n",
       "f1-score     0.112676    0.067227\n",
       "support    263.000000  113.000000"
      ]
     },
     "execution_count": 412,
     "metadata": {},
     "output_type": "execute_result"
    }
   ],
   "source": [
    "# XGB Target Report \n",
    "XGB_frame = { 'Train': XGB_report_train[\"1\"], 'Test': XGB_report_test[\"1\"] }\n",
    "XGB_report_output= pd.DataFrame(XGB_frame)\n",
    "XGB_report_output"
   ]
  },
  {
   "cell_type": "code",
   "execution_count": 413,
   "id": "55d4d92e",
   "metadata": {
    "ExecuteTime": {
     "end_time": "2022-08-30T12:22:22.491303Z",
     "start_time": "2022-08-30T12:22:22.477309Z"
    }
   },
   "outputs": [],
   "source": [
    "# EXPORT PICKLE\n",
    "# export result\n",
    "PKL_XGB_RESULT_FILENAME = \"model_Grp3_result_xgb.pkl\"\n",
    "with open(PKL_XGB_RESULT_FILENAME, \"wb\") as file:\n",
    "    pickle.dump(XGB_report_output, file)"
   ]
  },
  {
   "cell_type": "markdown",
   "id": "651be839",
   "metadata": {},
   "source": [
    "## Feature Selected"
   ]
  },
  {
   "cell_type": "code",
   "execution_count": 414,
   "id": "755e7b55",
   "metadata": {
    "ExecuteTime": {
     "end_time": "2022-08-30T12:22:22.506270Z",
     "start_time": "2022-08-30T12:22:22.493324Z"
    }
   },
   "outputs": [],
   "source": [
    "# EXPORT PICKLE\n",
    "PKL_SELECT_MODEL_FILENAME = \"model_Grp3_selectfeature.pkl\"\n",
    "with open(PKL_SELECT_MODEL_FILENAME, \"wb\") as file:\n",
    "    pickle.dump(LR_selectFeature, file)"
   ]
  },
  {
   "cell_type": "code",
   "execution_count": 415,
   "id": "72e4cd09",
   "metadata": {
    "ExecuteTime": {
     "end_time": "2022-08-30T12:22:22.522187Z",
     "start_time": "2022-08-30T12:22:22.508233Z"
    }
   },
   "outputs": [
    {
     "data": {
      "text/plain": [
       "40"
      ]
     },
     "execution_count": 415,
     "metadata": {},
     "output_type": "execute_result"
    }
   ],
   "source": [
    "X_newTest_LR = LR_selectFeature.transform(X_test)\n",
    "X_newTrain_LR = LR_selectFeature.transform(X_train)\n",
    "feature_idx_LR = LR_selectFeature.get_support()\n",
    "final_selectList_LR = list(compress(feature_names, feature_idx_LR))\n",
    "len(final_selectList_LR)"
   ]
  },
  {
   "cell_type": "code",
   "execution_count": 416,
   "id": "71b88d65",
   "metadata": {
    "ExecuteTime": {
     "end_time": "2022-08-30T12:22:22.537147Z",
     "start_time": "2022-08-30T12:22:22.523184Z"
    }
   },
   "outputs": [
    {
     "data": {
      "text/plain": [
       "['Mem_CountBooking',\n",
       " 'AVE_count_diagnosis',\n",
       " 'AVE_count_medication',\n",
       " 'CountVisit_is_mc_issued',\n",
       " 'CountVisit_diag_T88',\n",
       " 'CountVisit_diag_R51',\n",
       " 'CountVisit_diag_N94',\n",
       " 'CountVisit_diag_G44',\n",
       " 'CountVisit_diag_M79',\n",
       " 'CountVisit_diag_J02',\n",
       " 'CountVisit_diag_J06',\n",
       " 'CountVisit_diag_R21',\n",
       " 'CountVisit_diag_M62',\n",
       " 'CountVisit_diag_A09',\n",
       " 'CountVisit_diag_U07',\n",
       " 'CountVisit_diag_K29',\n",
       " 'CountVisit_diag_H81',\n",
       " 'CountVisit_diag_N39',\n",
       " 'CountVisit_diag_R42',\n",
       " 'CountVisit_diag_R50',\n",
       " 'CountVisit_diag_M54',\n",
       " 'CountVisit_diag_L03',\n",
       " 'CountVisit_diag_K58',\n",
       " 'CountVisit_diag_Z71',\n",
       " 'CountVisit_diag_E11',\n",
       " 'CountVisit_diag_Y42',\n",
       " 'CountVisit_diag_R10',\n",
       " 'CountVisit_diag_J03',\n",
       " 'CountVisit_diag_P39',\n",
       " 'CountVisit_diag_N64',\n",
       " 'CountVisit_chronic_Diabetes',\n",
       " 'DiffDays_Vist',\n",
       " 'ConsultHr_8to10',\n",
       " 'ConsultHr_11to13',\n",
       " 'ConsultHr_14to17',\n",
       " 'ConsultHr_18to21',\n",
       " 'ConsultHr_22to23',\n",
       " 'Prin1_sym_common',\n",
       " 'Prin3_sym_headache',\n",
       " 'Prin4_sym_diarrhea']"
      ]
     },
     "execution_count": 416,
     "metadata": {},
     "output_type": "execute_result"
    }
   ],
   "source": [
    "final_selectList_LR"
   ]
  },
  {
   "cell_type": "code",
   "execution_count": 417,
   "id": "5646b803",
   "metadata": {
    "ExecuteTime": {
     "end_time": "2022-08-30T12:22:22.552108Z",
     "start_time": "2022-08-30T12:22:22.538144Z"
    }
   },
   "outputs": [
    {
     "data": {
      "text/plain": [
       "40"
      ]
     },
     "execution_count": 417,
     "metadata": {},
     "output_type": "execute_result"
    }
   ],
   "source": [
    "X_newTest_SVM = SVM_selectFeature.transform(X_test)\n",
    "X_newTrain_SVM = SVM_selectFeature.transform(X_train)\n",
    "feature_idx_SVM = SVM_selectFeature.get_support()\n",
    "final_selectList_SVM = list(compress(feature_names, feature_idx_SVM))\n",
    "len(final_selectList_SVM)"
   ]
  },
  {
   "cell_type": "code",
   "execution_count": 418,
   "id": "49d47f17",
   "metadata": {
    "ExecuteTime": {
     "end_time": "2022-08-30T12:22:22.568066Z",
     "start_time": "2022-08-30T12:22:22.554105Z"
    }
   },
   "outputs": [
    {
     "data": {
      "text/plain": [
       "40"
      ]
     },
     "execution_count": 418,
     "metadata": {},
     "output_type": "execute_result"
    }
   ],
   "source": [
    "X_newTest_NLSVM = NLSVM_selectFeature.transform(X_test)\n",
    "X_newTrain_NLSVM = NLSVM_selectFeature.transform(X_train)\n",
    "feature_idx_NLSVM = NLSVM_selectFeature.get_support()\n",
    "final_selectList_NLSVM = list(compress(feature_names, feature_idx_NLSVM))\n",
    "len(final_selectList_NLSVM)"
   ]
  },
  {
   "cell_type": "code",
   "execution_count": 419,
   "id": "c5d6040e",
   "metadata": {
    "ExecuteTime": {
     "end_time": "2022-08-30T12:22:22.584021Z",
     "start_time": "2022-08-30T12:22:22.569062Z"
    }
   },
   "outputs": [
    {
     "data": {
      "text/plain": [
       "40"
      ]
     },
     "execution_count": 419,
     "metadata": {},
     "output_type": "execute_result"
    }
   ],
   "source": [
    "X_newTest_RF = RF_selectFeature.transform(X_test)\n",
    "X_newTrain_RF = RF_selectFeature.transform(X_train)\n",
    "feature_idx_RF = RF_selectFeature.get_support()\n",
    "final_selectList_RF = list(compress(feature_names, feature_idx_RF))\n",
    "len(final_selectList_RF)"
   ]
  },
  {
   "cell_type": "code",
   "execution_count": 420,
   "id": "8e15ba62",
   "metadata": {
    "ExecuteTime": {
     "end_time": "2022-08-30T12:22:22.598982Z",
     "start_time": "2022-08-30T12:22:22.585019Z"
    }
   },
   "outputs": [
    {
     "data": {
      "text/plain": [
       "40"
      ]
     },
     "execution_count": 420,
     "metadata": {},
     "output_type": "execute_result"
    }
   ],
   "source": [
    "X_newTest_XGB = XGB_selectFeature.transform(X_test)\n",
    "X_newTrain_XGB = XGB_selectFeature.transform(X_train)\n",
    "feature_idx_XGB = XGB_selectFeature.get_support()\n",
    "final_selectList_XGB = list(compress(feature_names, feature_idx_XGB))\n",
    "len(final_selectList_XGB)"
   ]
  },
  {
   "cell_type": "markdown",
   "id": "aaa67116",
   "metadata": {
    "ExecuteTime": {
     "end_time": "2022-06-12T15:21:04.514017Z",
     "start_time": "2022-06-12T15:21:04.504043Z"
    }
   },
   "source": [
    "## ROC"
   ]
  },
  {
   "cell_type": "code",
   "execution_count": 421,
   "id": "d86daca5",
   "metadata": {
    "ExecuteTime": {
     "end_time": "2022-08-30T12:22:22.613942Z",
     "start_time": "2022-08-30T12:22:22.599979Z"
    }
   },
   "outputs": [],
   "source": [
    "# EXPORT PICKLE\n",
    "#Export LR_model for deployment\n",
    "PKL_LR_MODEL_FILENAME = \"model_Grp3_logistic.pkl\"\n",
    "with open(PKL_LR_MODEL_FILENAME, \"wb\") as file:\n",
    "    pickle.dump(LR_model, file)"
   ]
  },
  {
   "cell_type": "code",
   "execution_count": 422,
   "id": "bd71bde7",
   "metadata": {
    "ExecuteTime": {
     "end_time": "2022-08-30T12:22:22.628901Z",
     "start_time": "2022-08-30T12:22:22.614940Z"
    }
   },
   "outputs": [],
   "source": [
    "# EXPORT PICKLE\n",
    "#Export SVM_model for deployment\n",
    "PKL_SVM_MODEL_FILENAME = \"model_Grp3_svm.pkl\"\n",
    "with open(PKL_SVM_MODEL_FILENAME, \"wb\") as file:\n",
    "    pickle.dump(SVM_model, file)"
   ]
  },
  {
   "cell_type": "code",
   "execution_count": 423,
   "id": "85dca4c7",
   "metadata": {
    "ExecuteTime": {
     "end_time": "2022-08-30T12:22:22.643862Z",
     "start_time": "2022-08-30T12:22:22.629899Z"
    }
   },
   "outputs": [],
   "source": [
    "# EXPORT PICKLE\n",
    "#Export Non-linear SVM_model for deployment\n",
    "PKL_NLSVM_MODEL_FILENAME = \"model_Grp3_nonlinear_svm.pkl\"\n",
    "with open(PKL_NLSVM_MODEL_FILENAME, \"wb\") as file:\n",
    "    pickle.dump(NLSVM_model, file)"
   ]
  },
  {
   "cell_type": "code",
   "execution_count": 424,
   "id": "b295e1a1",
   "metadata": {
    "ExecuteTime": {
     "end_time": "2022-08-30T12:22:22.658821Z",
     "start_time": "2022-08-30T12:22:22.644859Z"
    }
   },
   "outputs": [],
   "source": [
    "# EXPORT PICKLE\n",
    "#Export RF_model for deployment\n",
    "PKL_RF_MODEL_FILENAME = \"model_Grp3_randomforest.pkl\"\n",
    "with open(PKL_RF_MODEL_FILENAME, \"wb\") as file:\n",
    "    pickle.dump(RF_model, file)"
   ]
  },
  {
   "cell_type": "code",
   "execution_count": 425,
   "id": "168e3707",
   "metadata": {
    "ExecuteTime": {
     "end_time": "2022-08-30T12:22:22.673781Z",
     "start_time": "2022-08-30T12:22:22.659819Z"
    }
   },
   "outputs": [],
   "source": [
    "# EXPORT PICKLE\n",
    "#Export XGB_model for deployment\n",
    "PKL_XGB_MODEL_FILENAME = \"model_Grp3_xgb.pkl\"\n",
    "with open(PKL_XGB_MODEL_FILENAME, \"wb\") as file:\n",
    "    pickle.dump(XGB_model, file)"
   ]
  },
  {
   "cell_type": "code",
   "execution_count": 426,
   "id": "a3366bff",
   "metadata": {
    "ExecuteTime": {
     "end_time": "2022-08-30T12:22:22.689739Z",
     "start_time": "2022-08-30T12:22:22.674780Z"
    }
   },
   "outputs": [
    {
     "data": {
      "text/plain": [
       "0.86744"
      ]
     },
     "execution_count": 426,
     "metadata": {},
     "output_type": "execute_result"
    }
   ],
   "source": [
    "lr_probs = LR_model.predict_proba(X_newTest_LR)[:,1]\n",
    "lr_auc = roc_auc_score(y_test, lr_probs, average=None)\n",
    "lr_auc = round(lr_auc,5)\n",
    "lr_auc"
   ]
  },
  {
   "cell_type": "code",
   "execution_count": 427,
   "id": "b2d8ed13",
   "metadata": {
    "ExecuteTime": {
     "end_time": "2022-08-30T12:22:22.736615Z",
     "start_time": "2022-08-30T12:22:22.690736Z"
    }
   },
   "outputs": [
    {
     "data": {
      "text/plain": [
       "0.83365"
      ]
     },
     "execution_count": 427,
     "metadata": {},
     "output_type": "execute_result"
    }
   ],
   "source": [
    "svm_probs = SVM_model.predict_proba(X_newTest_SVM)[:,1]\n",
    "svm_auc = roc_auc_score(y_test, svm_probs, average=None)\n",
    "svm_auc = round(svm_auc,5)\n",
    "svm_auc"
   ]
  },
  {
   "cell_type": "code",
   "execution_count": 428,
   "id": "f829e3df",
   "metadata": {
    "ExecuteTime": {
     "end_time": "2022-08-30T12:22:22.906197Z",
     "start_time": "2022-08-30T12:22:22.738609Z"
    }
   },
   "outputs": [
    {
     "data": {
      "text/plain": [
       "0.7893"
      ]
     },
     "execution_count": 428,
     "metadata": {},
     "output_type": "execute_result"
    }
   ],
   "source": [
    "nlsvm_probs = NLSVM_model.predict_proba(X_newTest_NLSVM)[:,1]\n",
    "nlsvm_auc = roc_auc_score(y_test, nlsvm_probs, average=None)\n",
    "nlsvm_auc = round(nlsvm_auc, 5)\n",
    "nlsvm_auc"
   ]
  },
  {
   "cell_type": "code",
   "execution_count": 429,
   "id": "da98e14d",
   "metadata": {
    "ExecuteTime": {
     "end_time": "2022-08-30T12:22:22.937376Z",
     "start_time": "2022-08-30T12:22:22.907196Z"
    }
   },
   "outputs": [
    {
     "data": {
      "text/plain": [
       "0.79581"
      ]
     },
     "execution_count": 429,
     "metadata": {},
     "output_type": "execute_result"
    }
   ],
   "source": [
    "rf_probs = RF_model.predict_proba(X_newTest_RF)[:,1]\n",
    "rf_auc = roc_auc_score(y_test, rf_probs, average=None)\n",
    "rf_auc = round(rf_auc, 5)\n",
    "rf_auc"
   ]
  },
  {
   "cell_type": "code",
   "execution_count": 430,
   "id": "4054531e",
   "metadata": {
    "ExecuteTime": {
     "end_time": "2022-08-30T12:22:22.953331Z",
     "start_time": "2022-08-30T12:22:22.938390Z"
    }
   },
   "outputs": [
    {
     "data": {
      "text/plain": [
       "0.79753"
      ]
     },
     "execution_count": 430,
     "metadata": {},
     "output_type": "execute_result"
    }
   ],
   "source": [
    "xgb_probs = XGB_model.predict_proba(X_newTest_XGB)[:,1]\n",
    "xgb_auc = roc_auc_score(y_test, xgb_probs, average=None)\n",
    "xgb_auc = round(xgb_auc, 5)\n",
    "xgb_auc"
   ]
  },
  {
   "cell_type": "code",
   "execution_count": 431,
   "id": "f98bce69",
   "metadata": {
    "ExecuteTime": {
     "end_time": "2022-08-30T12:22:23.366629Z",
     "start_time": "2022-08-30T12:22:22.954329Z"
    },
    "scrolled": false
   },
   "outputs": [
    {
     "data": {
      "image/png": "[encoded data removed]",
      "text/plain": [
       "<Figure size 720x576 with 1 Axes>"
      ]
     },
     "metadata": {
      "needs_background": "light"
     },
     "output_type": "display_data"
    }
   ],
   "source": [
    "%matplotlib inline\n",
    "plt.figure(figsize=(10,8))\n",
    "ax = plt.gca()\n",
    "LR_disp = RocCurveDisplay.from_estimator(LR_model, X_newTest_LR, y_test, ax=ax, alpha=0.8)\n",
    "SVM_disp = RocCurveDisplay.from_estimator(SVM_model, X_newTest_SVM, y_test, ax=ax, alpha=0.8)\n",
    "NLSVM_disp = RocCurveDisplay.from_estimator(NLSVM_model, X_newTest_NLSVM, y_test, ax=ax, alpha=0.8)\n",
    "RF_disp = RocCurveDisplay.from_estimator(RF_model, X_newTest_RF, y_test, ax=ax, alpha=0.8)\n",
    "XGB_disp = RocCurveDisplay.from_estimator(XGB_model, X_newTest_XGB, y_test, ax=ax, alpha=0.8)\n",
    "plt.title(\"ROC Evaluation of Different Model, using Testing Data\")\n",
    "plt.show()"
   ]
  },
  {
   "cell_type": "markdown",
   "id": "973e5db6",
   "metadata": {},
   "source": [
    "## Model Explanability"
   ]
  },
  {
   "cell_type": "markdown",
   "id": "03b58712",
   "metadata": {},
   "source": [
    "### Random Forest "
   ]
  },
  {
   "cell_type": "code",
   "execution_count": 432,
   "id": "9d4df87b",
   "metadata": {
    "ExecuteTime": {
     "end_time": "2022-08-30T12:22:37.717068Z",
     "start_time": "2022-08-30T12:22:23.367624Z"
    }
   },
   "outputs": [
    {
     "name": "stdout",
     "output_type": "stream",
     "text": [
      "EXPLAIN THE EFFECT OF FEATURES ON TARGET CLASS USING SHAP VALUES\n"
     ]
    },
    {
     "data": {
      "image/png": "[encoded data removed]",
      "text/plain": [
       "<Figure size 576x684 with 2 Axes>"
      ]
     },
     "metadata": {
      "needs_background": "light"
     },
     "output_type": "display_data"
    }
   ],
   "source": [
    "if RUN_SHAP == 1:\n",
    "    # [TODO] To choose the final model and correct selected features selected\n",
    "    MODEL_SELECTED = RF_model\n",
    "    X_TRAIN = X_newTrain_RF\n",
    "    X_TEST = X_newTest_RF\n",
    "    FINAL_LIST = final_selectList_RF\n",
    "    \n",
    "    explainer = shap.TreeExplainer(MODEL_SELECTED)\n",
    "    \n",
    "    shap_values = explainer.shap_values(X_TRAIN)\n",
    "    \n",
    "    #Summarize the effect of all the features on Target\n",
    "    # To make the interpretation easier\n",
    "    print(\"EXPLAIN THE EFFECT OF FEATURES ON TARGET CLASS USING SHAP VALUES\")\n",
    "    shap.summary_plot(shap_values[1], X_TRAIN, feature_names=FINAL_LIST)"
   ]
  },
  {
   "cell_type": "markdown",
   "id": "f8b4e397",
   "metadata": {
    "ExecuteTime": {
     "end_time": "2022-06-12T16:22:47.165871Z",
     "start_time": "2022-06-12T16:22:47.160885Z"
    }
   },
   "source": [
    "@end"
   ]
  }
 ],
 "metadata": {
  "hide_input": false,
  "kernelspec": {
   "display_name": "Python 3 (ipykernel)",
   "language": "python",
   "name": "python3"
  },
  "language_info": {
   "codemirror_mode": {
    "name": "ipython",
    "version": 3
   },
   "file_extension": ".py",
   "mimetype": "text/x-python",
   "name": "python",
   "nbconvert_exporter": "python",
   "pygments_lexer": "ipython3",
   "version": "3.9.7"
  },
  "toc": {
   "base_numbering": 1,
   "nav_menu": {},
   "number_sections": true,
   "sideBar": true,
   "skip_h1_title": true,
   "title_cell": "Table of Contents",
   "title_sidebar": "Contents",
   "toc_cell": false,
   "toc_position": {
    "height": "calc(100% - 180px)",
    "left": "10px",
    "top": "150px",
    "width": "268.156px"
   },
   "toc_section_display": true,
   "toc_window_display": true
  },
  "varInspector": {
   "cols": {
    "lenName": 16,
    "lenType": 16,
    "lenVar": 40
   },
   "kernels_config": {
    "python": {
     "delete_cmd_postfix": "",
     "delete_cmd_prefix": "del ",
     "library": "var_list.py",
     "varRefreshCmd": "print(var_dic_list())"
    },
    "r": {
     "delete_cmd_postfix": ") ",
     "delete_cmd_prefix": "rm(",
     "library": "var_list.r",
     "varRefreshCmd": "cat(var_dic_list()) "
    }
   },
   "types_to_exclude": [
    "module",
    "function",
    "builtin_function_or_method",
    "instance",
    "_Feature"
   ],
   "window_display": false
  }
 },
 "nbformat": 4,
 "nbformat_minor": 5
}
