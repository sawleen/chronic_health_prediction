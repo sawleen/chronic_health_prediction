{
 "cells": [
  {
   "cell_type": "markdown",
   "id": "ef6690b1",
   "metadata": {},
   "source": [
    "# Deploy Model - By Booking - Target Group 3\n",
    "\n",
    "Prepared by Alex Aw\n",
    "\n",
    "22 Aug 2022"
   ]
  },
  {
   "cell_type": "markdown",
   "id": "2f6a6963",
   "metadata": {},
   "source": [
    "## Colab setup"
   ]
  },
  {
   "cell_type": "code",
   "execution_count": 1,
   "id": "c1922487",
   "metadata": {},
   "outputs": [],
   "source": [
    "# from google.colab import drive\n",
    "# drive.mount('/content/drive')"
   ]
  },
  {
   "cell_type": "code",
   "execution_count": 2,
   "id": "3543f03e",
   "metadata": {},
   "outputs": [],
   "source": [
    "# %cd '/content/drive/MyDrive/EBAC Capstone 2021-2022/Team_members/Alex/deploy scoring'"
   ]
  },
  {
   "cell_type": "markdown",
   "id": "96052e86",
   "metadata": {},
   "source": [
    "## Import Library"
   ]
  },
  {
   "cell_type": "code",
   "execution_count": 3,
   "id": "4047834e",
   "metadata": {},
   "outputs": [],
   "source": [
    "import random \n",
    "import pandas as pd\n",
    "from pandas import read_csv\n",
    "import matplotlib.pyplot as plt\n",
    "import seaborn as sns\n",
    "%matplotlib inline \n",
    "\n",
    "import numpy as np \n",
    "from numpy import unique\n",
    "from numpy import where\n",
    "\n",
    "import pickle\n",
    "\n",
    "from pandas import to_pickle\n",
    "from pandas import read_pickle\n",
    "\n",
    "import io\n",
    "\n",
    "from sklearn.linear_model import LogisticRegression\n",
    "from sklearn.preprocessing import StandardScaler\n",
    "from sklearn.metrics import recall_score\n",
    "from sklearn.metrics import confusion_matrix\n",
    "from sklearn.metrics import recall_score\n",
    "from sklearn.metrics import classification_report\n",
    "from sklearn.metrics import RocCurveDisplay\n",
    "from sklearn.inspection import permutation_importance\n",
    "\n",
    "# Libraries for Modelling\n",
    "from sklearn.pipeline import Pipeline\n",
    "from sklearn.model_selection import train_test_split\n",
    "from sklearn.preprocessing import OneHotEncoder\n",
    "from sklearn.feature_selection import SelectFromModel\n",
    "from sklearn import svm\n",
    "from sklearn.svm import LinearSVC\n",
    "from sklearn.naive_bayes import MultinomialNB\n",
    "from sklearn.ensemble import RandomForestClassifier\n",
    "from sklearn.svm import NuSVC\n",
    "from sklearn.svm import SVC\n",
    "from sklearn import metrics \n",
    "from sklearn import tree\n",
    "from sklearn.metrics import roc_auc_score\n",
    "\n",
    "# import scikitplot as skplt\n",
    "\n",
    "import shap\n",
    "\n",
    "from itertools import compress\n",
    "\n",
    "import warnings\n",
    "warnings.filterwarnings('ignore')\n",
    "\n",
    "from xgboost import XGBClassifier"
   ]
  },
  {
   "cell_type": "markdown",
   "id": "4bfe421e",
   "metadata": {},
   "source": [
    "## Global Setting"
   ]
  },
  {
   "cell_type": "code",
   "execution_count": 4,
   "id": "94a4530c",
   "metadata": {},
   "outputs": [],
   "source": [
    "# Training Pickles Filename\n",
    "PKL_ALL_FEATURE_FILENAME = \"booking_model_grp3_featurelist.pkl\"\n",
    "PKL_STANDARDSCALER_FILENAME = \"booking_model_grp3_standardard_scaler.pkl\"\n",
    "PKL_SELECT_MODEL_FILENAME = \"booking_model_grp3_selectfeature.pkl\""
   ]
  },
  {
   "cell_type": "code",
   "execution_count": 5,
   "id": "77bb3d11",
   "metadata": {},
   "outputs": [],
   "source": [
    "# # Select 1 model to run \n",
    "# PKL_MODEL_FILENAME = \"booking_model_grp3_logistic.pkl\"\n",
    "# PKL_MODEL_FILENAME = \"booking_model_grp3_svm.pkl\"\n",
    "PKL_MODEL_FILENAME = \"booking_model_grp3_nonlinear_svm.pkl\"\n",
    "# PKL_MODEL_FILENAME = \"booking_model_grp3_randomforest.pkl\"\n",
    "# PKL_MODEL_FILENAME = \"booking_model_grp3_xgb.pkl\""
   ]
  },
  {
   "cell_type": "code",
   "execution_count": 6,
   "id": "540c787d",
   "metadata": {},
   "outputs": [],
   "source": [
    "# Testing Dataset\n",
    "TEST_PREP_DATA = \"booking_test_data_final_forBooking.pkl\""
   ]
  },
  {
   "cell_type": "code",
   "execution_count": 7,
   "id": "0f4cebcc",
   "metadata": {},
   "outputs": [],
   "source": [
    "# Check is Target Label available\n",
    "TARGET_AVAIL = 1"
   ]
  },
  {
   "cell_type": "markdown",
   "id": "6d087525",
   "metadata": {},
   "source": [
    "## Import Test Data"
   ]
  },
  {
   "cell_type": "code",
   "execution_count": 8,
   "id": "d953f888",
   "metadata": {},
   "outputs": [
    {
     "data": {
      "text/plain": [
       "(7725, 332)"
      ]
     },
     "execution_count": 8,
     "metadata": {},
     "output_type": "execute_result"
    }
   ],
   "source": [
    "df = read_pickle(TEST_PREP_DATA)\n",
    "df.shape"
   ]
  },
  {
   "cell_type": "code",
   "execution_count": 9,
   "id": "6344e33b",
   "metadata": {},
   "outputs": [
    {
     "name": "stdout",
     "output_type": "stream",
     "text": [
      "<class 'pandas.core.frame.DataFrame'>\n",
      "Int64Index: 7725 entries, 0 to 7724\n",
      "Data columns (total 332 columns):\n",
      " #    Column                                     Dtype         \n",
      "---   ------                                     -----         \n",
      " 0    booking_id                                 object        \n",
      " 1    mem_id                                     object        \n",
      " 2    doctor_id                                  category      \n",
      " 3    consult_waived_reason                      category      \n",
      " 4    is_mc_issued                               int64         \n",
      " 5    mc_days                                    float64       \n",
      " 6    is_referral_letter_issued                  int64         \n",
      " 7    booking_timestamp                          datetime64[ns]\n",
      " 8    gender                                     category      \n",
      " 9    birth_year                                 int64         \n",
      " 10   diagnosis_code_list                        object        \n",
      " 11   diagnosis_list                             object        \n",
      " 12   chronic_list                               int64         \n",
      " 13   count_diagnosis                            float64       \n",
      " 14   count_chronic                              float64       \n",
      " 15   medicationID_list                          object        \n",
      " 16   medicationName_list                        object        \n",
      " 17   medQuantity_list                           object        \n",
      " 18   medAndQuan_list                            object        \n",
      " 19   count_medication                           float64       \n",
      " 20   count_repeatmed                            float64       \n",
      " 21   SymptomID_list                             object        \n",
      " 22   SymptomName_list                           object        \n",
      " 23   count_SymID                                float64       \n",
      " 24   diag_U12                                   int64         \n",
      " 25   diag_J30                                   int64         \n",
      " 26   diag_T88                                   int64         \n",
      " 27   diag_K12                                   int64         \n",
      " 28   diag_R21                                   int64         \n",
      " 29   diag_A09                                   int64         \n",
      " 30   diag_H57                                   int64         \n",
      " 31   diag_Z02                                   int64         \n",
      " 32   diag_J06                                   int64         \n",
      " 33   diag_J04                                   int64         \n",
      " 34   diag_Z76                                   int64         \n",
      " 35   diag_M54                                   int64         \n",
      " 36   diag_R22                                   int64         \n",
      " 37   diag_L50                                   int64         \n",
      " 38   diag_O91                                   int64         \n",
      " 39   diag_R07                                   int64         \n",
      " 40   diag_M79                                   int64         \n",
      " 41   diag_M10                                   int64         \n",
      " 42   diag_Z71                                   int64         \n",
      " 43   diag_R51                                   int64         \n",
      " 44   diag_N94                                   int64         \n",
      " 45   diag_K29                                   int64         \n",
      " 46   diag_B37                                   int64         \n",
      " 47   diag_R50                                   int64         \n",
      " 48   diag_N39                                   int64         \n",
      " 49   diag_B00                                   int64         \n",
      " 50   diag_L70                                   int64         \n",
      " 51   diag_R14                                   int64         \n",
      " 52   diag_H00                                   int64         \n",
      " 53   diag_K30                                   int64         \n",
      " 54   diag_U07                                   int64         \n",
      " 55   diag_M75                                   int64         \n",
      " 56   diag_R45                                   int64         \n",
      " 57   diag_R05                                   int64         \n",
      " 58   diag_R63                                   int64         \n",
      " 59   diag_L20                                   int64         \n",
      " 60   diag_J39                                   int64         \n",
      " 61   diag_J02                                   int64         \n",
      " 62   diag_L02                                   int64         \n",
      " 63   diag_I10                                   int64         \n",
      " 64   diag_K21                                   int64         \n",
      " 65   diag_J20                                   int64         \n",
      " 66   diag_H02                                   int64         \n",
      " 67   diag_L03                                   int64         \n",
      " 68   diag_M76                                   int64         \n",
      " 69   diag_M62                                   int64         \n",
      " 70   diag_H10                                   int64         \n",
      " 71   diag_L24                                   int64         \n",
      " 72   diag_R42                                   int64         \n",
      " 73   diag_L30                                   int64         \n",
      " 74   diag_Y42                                   int64         \n",
      " 75   diag_K07                                   int64         \n",
      " 76   diag_E78                                   int64         \n",
      " 77   diag_K64                                   int64         \n",
      " 78   diag_J45                                   int64         \n",
      " 79   diag_S90                                   int64         \n",
      " 80   diag_G43                                   int64         \n",
      " 81   diag_B08                                   int64         \n",
      " 82   diag_G47                                   int64         \n",
      " 83   diag_T78                                   int64         \n",
      " 84   diag_U08                                   int64         \n",
      " 85   diag_H81                                   int64         \n",
      " 86   diag_G44                                   int64         \n",
      " 87   diag_N92                                   int64         \n",
      " 88   diag_J01                                   int64         \n",
      " 89   diag_E11                                   int64         \n",
      " 90   diag_B35                                   int64         \n",
      " 91   diag_M25                                   int64         \n",
      " 92   diag_F38                                   int64         \n",
      " 93   diag_H01                                   int64         \n",
      " 94   diag_G71                                   int64         \n",
      " 95   diag_R53                                   int64         \n",
      " 96   diag_M23                                   int64         \n",
      " 97   diag_S13                                   int64         \n",
      " 98   diag_S00                                   int64         \n",
      " 99   diag_K59                                   int64         \n",
      " 100  diag_U09                                   int64         \n",
      " 101  diag_H93                                   int64         \n",
      " 102  diag_B36                                   int64         \n",
      " 103  diag_S60                                   int64         \n",
      " 104  diag_E61                                   int64         \n",
      " 105  diag_R52                                   int64         \n",
      " 106  diag_H60                                   int64         \n",
      " 107  diag_M17                                   int64         \n",
      " 108  diag_R06                                   int64         \n",
      " 109  diag_N64                                   int64         \n",
      " 110  diag_R10                                   int64         \n",
      " 111  diag_R11                                   int64         \n",
      " 112  diag_E03                                   int64         \n",
      " 113  diag_S33                                   int64         \n",
      " 114  diag_J03                                   int64         \n",
      " 115  diag_Z13                                   int64         \n",
      " 116  diag_L29                                   int64         \n",
      " 117  diag_S23                                   int64         \n",
      " 118  diag_S93                                   int64         \n",
      " 119  diag_F41                                   int64         \n",
      " 120  diag_R04                                   int64         \n",
      " 121  diag_E28                                   int64         \n",
      " 122  diag_J22                                   int64         \n",
      " 123  diag_Z53                                   int64         \n",
      " 124  diag_N02                                   int64         \n",
      " 125  diag_S63                                   int64         \n",
      " 126  diag_B30                                   int64         \n",
      " 127  diag_E05                                   int64         \n",
      " 128  diag_H58                                   int64         \n",
      " 129  diag_M72                                   int64         \n",
      " 130  diag_P39                                   int64         \n",
      " 131  diag_L98                                   int64         \n",
      " 132  diag_S83                                   int64         \n",
      " 133  diag_L85                                   int64         \n",
      " 134  diag_N76                                   int64         \n",
      " 135  diag_L21                                   int64         \n",
      " 136  diag_Y58                                   int64         \n",
      " 137  diag_K13                                   int64         \n",
      " 138  diag_Y60                                   int64         \n",
      " 139  diag_Z30                                   int64         \n",
      " 140  diag_N51                                   int64         \n",
      " 141  diag_K11                                   int64         \n",
      " 142  diag_S81                                   int64         \n",
      " 143  diag_T11                                   int64         \n",
      " 144  diag_N77                                   int64         \n",
      " 145  diag_O92                                   int64         \n",
      " 146  diag_L84                                   int64         \n",
      " 147  diag_L28                                   int64         \n",
      " 148  diag_A68                                   int64         \n",
      " 149  diag_R55                                   int64         \n",
      " 150  diag_L71                                   int64         \n",
      " 151  diag_N85                                   int64         \n",
      " 152  diag_S89                                   int64         \n",
      " 153  diag_T23                                   int64         \n",
      " 154  diag_B02                                   int64         \n",
      " 155  diag_O21                                   int64         \n",
      " 156  diag_W57                                   int64         \n",
      " 157  diag_H04                                   int64         \n",
      " 158  diag_U11                                   int64         \n",
      " 159  diag_T22                                   int64         \n",
      " 160  diag_T00                                   int64         \n",
      " 161  diag_R23                                   int64         \n",
      " 162  diag_G53                                   int64         \n",
      " 163  diag_R60                                   int64         \n",
      " 164  diag_R03                                   int64         \n",
      " 165  diag_K52                                   int64         \n",
      " 166  diag_D50                                   int64         \n",
      " 167  diag_R09                                   int64         \n",
      " 168  diag_R25                                   int64         \n",
      " 169  diag_L64                                   int64         \n",
      " 170  diag_Z10                                   int64         \n",
      " 171  diag_F43                                   int64         \n",
      " 172  diag_L60                                   int64         \n",
      " 173  diag_M06                                   int64         \n",
      " 174  diag_T13                                   int64         \n",
      " 175  diag_I25                                   int64         \n",
      " 176  diag_S50                                   int64         \n",
      " 177  diag_M77                                   int64         \n",
      " 178  diag_S43                                   int64         \n",
      " 179  diag_R00                                   int64         \n",
      " 180  diag_R82                                   int64         \n",
      " 181  diag_G56                                   int64         \n",
      " 182  diag_T75                                   int64         \n",
      " 183  diag_K00                                   int64         \n",
      " 184  diag_J34                                   int64         \n",
      " 185  diag_I80                                   int64         \n",
      " 186  diag_F32                                   int64         \n",
      " 187  diag_S30                                   int64         \n",
      " 188  diag_K05                                   int64         \n",
      " 189  diag_R73                                   int64         \n",
      " 190  diag_K60                                   int64         \n",
      " 191  diag_Z01                                   int64         \n",
      " 192  diag_D25                                   int64         \n",
      " 193  diag_B07                                   int64         \n",
      " 194  diag_L23                                   int64         \n",
      " 195  diag_L04                                   int64         \n",
      " 196  diag_D75                                   int64         \n",
      " 197  diag_L91                                   int64         \n",
      " 198  diag_S80                                   int64         \n",
      " 199  diag_M67                                   int64         \n",
      " 200  diag_J32                                   int64         \n",
      " 201  diag_K06                                   int64         \n",
      " 202  diag_K03                                   int64         \n",
      " 203  diag_S53                                   int64         \n",
      " 204  diag_J98                                   int64         \n",
      " 205  diag_K58                                   int64         \n",
      " 206  diag_K08                                   int64         \n",
      " 207  diag_N84                                   int64         \n",
      " 208  diag_H92                                   int64         \n",
      " 209  diag_H11                                   int64         \n",
      " 210  diag_F90                                   int64         \n",
      " 211  diag_M12                                   int64         \n",
      " 212  diag_F00                                   int64         \n",
      " 213  diag_M50                                   int64         \n",
      " 214  diag_T31                                   int64         \n",
      " 215  diag_R94                                   int64         \n",
      " 216  diag_M51                                   int64         \n",
      " 217  diag_H18                                   int64         \n",
      " 218  diag_G70                                   int64         \n",
      " 219  diag_L73                                   int64         \n",
      " 220  diag_S61                                   int64         \n",
      " 221  diag_J35                                   int64         \n",
      " 222  diag_M22                                   int64         \n",
      " 223  diag_D10                                   int64         \n",
      " 224  diag_S46                                   int64         \n",
      " 225  diag_K14                                   int64         \n",
      " 226  diag_I95                                   int64         \n",
      " 227  diag_H91                                   int64         \n",
      " 228  diag_M65                                   int64         \n",
      " 229  diag_N91                                   int64         \n",
      " 230  diag_K62                                   int64         \n",
      " 231  diag_H15                                   int64         \n",
      " 232  diag_G58                                   int64         \n",
      " 233  diag_H69                                   int64         \n",
      " 234  diag_S96                                   int64         \n",
      " 235  diag_R32                                   int64         \n",
      " 236  diag_I64                                   int64         \n",
      " 237  diag_S66                                   int64         \n",
      " 238  diag_H94                                   int64         \n",
      " 239  diag_M47                                   int64         \n",
      " 240  diag_I88                                   int64         \n",
      " 241  diag_L63                                   int64         \n",
      " 242  diag_F52                                   int64         \n",
      " 243  diag_H40                                   int64         \n",
      " 244  diag_E87                                   int64         \n",
      " 245  diag_J33                                   int64         \n",
      " 246  diag_S70                                   int64         \n",
      " 247  diag_T63                                   int64         \n",
      " 248  diag_R31                                   int64         \n",
      " 249  diag_S05                                   int64         \n",
      " 250  diag_S82                                   int64         \n",
      " 251  diag_T24                                   int64         \n",
      " 252  diag_N30                                   int64         \n",
      " 253  diag_L55                                   int64         \n",
      " 254  diag_N63                                   int64         \n",
      " 255  diag_R20                                   int64         \n",
      " 256  diag_Z92                                   int64         \n",
      " 257  diag_K51                                   int64         \n",
      " 258  diag_H61                                   int64         \n",
      " 259  diag_K10                                   int64         \n",
      " 260  diag_S03                                   int64         \n",
      " 261  diag_G25                                   int64         \n",
      " 262  diag_X51                                   int64         \n",
      " 263  diag_D22                                   int64         \n",
      " 264  diag_N42                                   int64         \n",
      " 265  diag_N32                                   int64         \n",
      " 266  diag_W09                                   int64         \n",
      " 267  diag_W55                                   int64         \n",
      " 268  diag_L74                                   int64         \n",
      " 269  diag_I70                                   int64         \n",
      " 270  diag_K50                                   int64         \n",
      " 271  diag_S92                                   int64         \n",
      " 272  diag_N80                                   int64         \n",
      " 273  diag_L99                                   int64         \n",
      " 274  diag_J38                                   int64         \n",
      " 275  diag_R19                                   int64         \n",
      " 276  diag_Y56                                   int64         \n",
      " 277  diag_D03                                   int64         \n",
      " 278  diag_L42                                   int64         \n",
      " 279  diag_R49                                   int64         \n",
      " 280  diag_H90                                   int64         \n",
      " 281  diag_G51                                   int64         \n",
      " 282  diag_L93                                   int64         \n",
      " 283  diag_H70                                   int64         \n",
      " 284  diag_N87                                   int64         \n",
      " 285  diag_M20                                   int64         \n",
      " 286  diag_I65                                   int64         \n",
      " 287  diag_L65                                   int64         \n",
      " 288  diag_B81                                   int64         \n",
      " 289  diag_O90                                   int64         \n",
      " 290  diag_F06                                   int64         \n",
      " 291  diag_K25                                   int64         \n",
      " 292  diag_X50                                   int64         \n",
      " 293  diag_E66                                   int64         \n",
      " 294  diag_N48                                   int64         \n",
      " 295  diag_S06                                   int64         \n",
      " 296  diag_H74                                   int64         \n",
      " 297  diag_L66                                   int64         \n",
      " 298  diag_H26                                   int64         \n",
      " 299  chronic_NoneChronic                        int64         \n",
      " 300  chronic_Vasomotor and allergic rhinitis    int64         \n",
      " 301  chronic_Gout                               int64         \n",
      " 302  chronic_Atopic dermatitis                  int64         \n",
      " 303  chronic_Hypertension                       int64         \n",
      " 304  chronic_Gastro-oesophageal reflux disease  int64         \n",
      " 305  chronic_Hyperlipidaemia                    int64         \n",
      " 306  chronic_Asthma                             int64         \n",
      " 307  chronic_Migraine                           int64         \n",
      " 308  chronic_Diabetes                           int64         \n",
      " 309  chronic_Thyroid                            int64         \n",
      " 310  symp_N                                     int64         \n",
      " 311  symp_headache                              int64         \n",
      " 312  symp_fever                                 int64         \n",
      " 313  symp_giddiness                             int64         \n",
      " 314  symp_others                                int64         \n",
      " 315  symp_medical referral                      int64         \n",
      " 316  symp_vomiting                              int64         \n",
      " 317  symp_diarrhoea                             int64         \n",
      " 318  symp_sore throat                           int64         \n",
      " 319  symp_flu                                   int64         \n",
      " 320  symp_cough                                 int64         \n",
      " 321  symp_cold                                  int64         \n",
      " 322  symp_cold sores                            int64         \n",
      " 323  symp_rash                                  int64         \n",
      " 324  symp_chronic medicine top-up               int64         \n",
      " 325  symp_discuss lab results                   int64         \n",
      " 326  symp_chronic illness management            int64         \n",
      " 327  symp_skin growth on sole (foot)            int64         \n",
      " 328  symp_ulcer under tongue                    int64         \n",
      " 329  Target_chronic                             int64         \n",
      " 330  age_yr                                     float64       \n",
      " 331  consult_hr                                 category      \n",
      "dtypes: category(4), datetime64[ns](1), float64(7), int64(310), object(10)\n",
      "memory usage: 19.4+ MB\n"
     ]
    }
   ],
   "source": [
    "df.info(\"Deep\")"
   ]
  },
  {
   "cell_type": "markdown",
   "id": "0f20031e",
   "metadata": {},
   "source": [
    "## Import Model Training Pickles"
   ]
  },
  {
   "cell_type": "code",
   "execution_count": 10,
   "id": "ec7195f5",
   "metadata": {},
   "outputs": [
    {
     "name": "stdout",
     "output_type": "stream",
     "text": [
      "Num of training features:  120\n"
     ]
    }
   ],
   "source": [
    "# Import training dataset feature list\n",
    "with open(PKL_ALL_FEATURE_FILENAME, 'rb') as file:\n",
    "    train_all_features = pickle.load(file)\n",
    "print(\"Num of training features: \", len(train_all_features))"
   ]
  },
  {
   "cell_type": "code",
   "execution_count": 11,
   "id": "37eca36d",
   "metadata": {},
   "outputs": [
    {
     "data": {
      "text/plain": [
       "StandardScaler()"
      ]
     },
     "execution_count": 11,
     "metadata": {},
     "output_type": "execute_result"
    }
   ],
   "source": [
    "# Import trained standard scaler model\n",
    "with open(PKL_STANDARDSCALER_FILENAME, 'rb') as file:\n",
    "    train_standardscaler = pickle.load(file)\n",
    "train_standardscaler"
   ]
  },
  {
   "cell_type": "code",
   "execution_count": 12,
   "id": "275f3733",
   "metadata": {},
   "outputs": [
    {
     "data": {
      "text/plain": [
       "SelectFromModel(estimator=LinearSVC(random_state=42))"
      ]
     },
     "execution_count": 12,
     "metadata": {},
     "output_type": "execute_result"
    }
   ],
   "source": [
    "# Import trained feature selection model\n",
    "with open(PKL_SELECT_MODEL_FILENAME, 'rb') as file:\n",
    "    train_selectfeature = pickle.load(file)\n",
    "train_selectfeature"
   ]
  },
  {
   "cell_type": "code",
   "execution_count": 13,
   "id": "17816420",
   "metadata": {},
   "outputs": [
    {
     "data": {
      "text/plain": [
       "NuSVC(nu=0.05, random_state=42)"
      ]
     },
     "execution_count": 13,
     "metadata": {},
     "output_type": "execute_result"
    }
   ],
   "source": [
    "# Import trained classification model \n",
    "with open(PKL_MODEL_FILENAME, 'rb') as file:\n",
    "    train_model = pickle.load(file)\n",
    "train_model"
   ]
  },
  {
   "cell_type": "markdown",
   "id": "1b1a0148",
   "metadata": {},
   "source": [
    "## Prep new target label for Group 3"
   ]
  },
  {
   "cell_type": "code",
   "execution_count": 14,
   "id": "5aa18ecc",
   "metadata": {},
   "outputs": [],
   "source": [
    "df['chronic_Migraine'] = df['chronic_Migraine'].astype(\"int\")\n",
    "df['chronic_Gastro-oesophageal reflux disease'] = df['chronic_Gastro-oesophageal reflux disease'].astype(\"int\")\n",
    "df['chronic_Thyroid'] = df['chronic_Thyroid'].astype(\"int\")\n",
    "df['chronic_Gout'] = df['chronic_Gout'].astype(\"int\")"
   ]
  },
  {
   "cell_type": "code",
   "execution_count": 15,
   "id": "903d519e",
   "metadata": {},
   "outputs": [],
   "source": [
    "df3high = df[\"chronic_Migraine\"] + df[\"chronic_Gastro-oesophageal reflux disease\"] + df[\"chronic_Thyroid\"] + df[\"chronic_Gout\"]\n",
    "df[\"Target_chronic\"] = df3high.apply(lambda x: 1 if x>0 else 0)"
   ]
  },
  {
   "cell_type": "code",
   "execution_count": 16,
   "id": "aed09a72",
   "metadata": {},
   "outputs": [
    {
     "data": {
      "text/plain": [
       "[0, 1]\n",
       "Categories (2, int64): [0, 1]"
      ]
     },
     "execution_count": 16,
     "metadata": {},
     "output_type": "execute_result"
    }
   ],
   "source": [
    "df['Target_chronic'] = df['Target_chronic'].astype(\"category\")\n",
    "df['Target_chronic'].unique()"
   ]
  },
  {
   "cell_type": "markdown",
   "id": "57b073f0",
   "metadata": {},
   "source": [
    "## Prepare Scoring Data"
   ]
  },
  {
   "cell_type": "code",
   "execution_count": 17,
   "id": "b8ff6077",
   "metadata": {},
   "outputs": [],
   "source": [
    "# removal listed columns\n",
    "df = df.drop(['diagnosis_code_list', 'diagnosis_list', 'chronic_list', 'medicationID_list', 'medicationName_list',\n",
    "        'medQuantity_list', 'medAndQuan_list', 'SymptomID_list', 'SymptomName_list'], axis=1)"
   ]
  },
  {
   "cell_type": "code",
   "execution_count": 18,
   "id": "d6450a5a",
   "metadata": {},
   "outputs": [],
   "source": [
    "all_list = df.columns.tolist()"
   ]
  },
  {
   "cell_type": "code",
   "execution_count": 19,
   "id": "bd9095ce",
   "metadata": {},
   "outputs": [],
   "source": [
    "#[TODO] EDIT TO INCLUDE CATEGORICAL INPUT TO CONSIDER\n",
    "cat_list = ['gender',\n",
    "           'doctor_id',\n",
    "           'consult_waived_reason',\n",
    "           ]\n",
    "df[cat_list] = df[cat_list].astype(\"category\")"
   ]
  },
  {
   "cell_type": "code",
   "execution_count": 20,
   "id": "f9dfdcb9",
   "metadata": {},
   "outputs": [],
   "source": [
    "# Currently type as float\n",
    "int_list = ['mc_days', \n",
    "            'count_diagnosis', \n",
    "            'count_chronic', \n",
    "            'count_medication', \n",
    "            'count_repeatmed', \n",
    "            'count_SymID', \n",
    "            'age_yr']\n",
    "df[int_list] = df[int_list].astype(\"int\")"
   ]
  },
  {
   "cell_type": "code",
   "execution_count": 21,
   "id": "167cfdc5",
   "metadata": {},
   "outputs": [],
   "source": [
    "#[TODO] EDIT WHERE NEC\n",
    "exc_list = ['booking_id', \n",
    "            'mem_id', \n",
    "            'birth_year', \n",
    "            'booking_timestamp',\n",
    "            'count_chronic',\n",
    "            'chronic_NoneChronic', \n",
    "            'chronic_Atopic dermatitis',\n",
    "            'chronic_Migraine',\n",
    "            'chronic_Vasomotor and allergic rhinitis',\n",
    "            'chronic_Gastro-oesophageal reflux disease',\n",
    "            'chronic_Hypertension',\n",
    "            'chronic_Asthma',\n",
    "            'chronic_Hyperlipidaemia',\n",
    "            'chronic_Thyroid',\n",
    "            'chronic_Diabetes',\n",
    "            'chronic_Gout',\n",
    "            'Target_chronic',\n",
    "            'symp_chronic medicine top-up', \n",
    "            'symp_chronic illness management',\n",
    "            'consult_waived_reason',\n",
    "            \n",
    "            ## diagnostics directly identifying chronics\n",
    "#             'diag_J30',  #Vasomotor and allergic rhinitis\n",
    "            'diag_K21',  #Gastro-esophageal reflux disease\n",
    "            'diag_G43',  #Migraine\n",
    "#             'diag_L20',  #Atopic dermatitis\n",
    "            'diag_M10',  #Gout\n",
    "#             'diag_I10', 'diag_R03', #hypertension\n",
    "#             'diag_J45',  #Asthma\n",
    "#             'diag_E11',  #Diabetes\n",
    "#             'diag_E78',  #hypercholesterolemia, hyperglyceridemia, Hyperlipidemia (high cholesterol), Hyperchylomicronemia\n",
    "            'diag_E05', 'diag_E03','diag_E04'   #thyroid\n",
    "            ## end of diagnostics directly identifying chronics\n",
    "            \n",
    "           ]"
   ]
  },
  {
   "cell_type": "code",
   "execution_count": 22,
   "id": "87a72f02",
   "metadata": {},
   "outputs": [],
   "source": [
    "# select columns not in exclusion list above\n",
    "select_col = [x for x in all_list if x not in exc_list] "
   ]
  },
  {
   "cell_type": "code",
   "execution_count": 23,
   "id": "bb031630",
   "metadata": {},
   "outputs": [],
   "source": [
    "# numerical data in selected list above\n",
    "num_list = [x for x in select_col if x not in cat_list] "
   ]
  },
  {
   "cell_type": "code",
   "execution_count": 24,
   "id": "2baf3bbe",
   "metadata": {},
   "outputs": [],
   "source": [
    "# Check that all columns used in training are in the holdout test set.  \n",
    "# If not, create a new column with value 0\n",
    "for i in train_all_features:\n",
    "    if i not in select_col:\n",
    "        if str(i).startswith('gender' or 'doctor_id')==False:  #TODO need to include other categorical data if nec\n",
    "            print(\"PLEASE CHECK, Selected field in training dataset not in this test dataset, : \", i)\n",
    "            df[i] = 0\n",
    "            num_list.append(i)"
   ]
  },
  {
   "cell_type": "code",
   "execution_count": 25,
   "id": "1b067484",
   "metadata": {},
   "outputs": [],
   "source": [
    "# Only include input variables available in training input list\n",
    "num_list_final = [x for x in num_list if x in train_all_features] "
   ]
  },
  {
   "cell_type": "markdown",
   "id": "6d1c50ae",
   "metadata": {},
   "source": [
    "## One Hot Encoding"
   ]
  },
  {
   "cell_type": "code",
   "execution_count": 26,
   "id": "15550cfb",
   "metadata": {},
   "outputs": [],
   "source": [
    "# Get encoded df for categorical data\n",
    "enc_df = pd.get_dummies(df[cat_list])"
   ]
  },
  {
   "cell_type": "code",
   "execution_count": 27,
   "id": "cfe08eab",
   "metadata": {},
   "outputs": [],
   "source": [
    "# Drop \"gender_Unknown\"\n",
    "drop_oneHot = [\"gender_Female\", \"gender_Male\"]"
   ]
  },
  {
   "cell_type": "code",
   "execution_count": 28,
   "id": "9ea646b0",
   "metadata": {},
   "outputs": [],
   "source": [
    "#[TODO] TO EDIT AND DROP ONE CATEGORY LEVEL FOR ONE-HOT\n",
    "enc_df = enc_df[drop_oneHot]"
   ]
  },
  {
   "cell_type": "markdown",
   "id": "171b0a50",
   "metadata": {},
   "source": [
    "## Define input and output"
   ]
  },
  {
   "cell_type": "code",
   "execution_count": 29,
   "id": "9c33b018",
   "metadata": {},
   "outputs": [
    {
     "data": {
      "text/plain": [
       "(7725, 298)"
      ]
     },
     "execution_count": 29,
     "metadata": {},
     "output_type": "execute_result"
    }
   ],
   "source": [
    "# merge with numerical df for input\n",
    "X = df[num_list].join(enc_df)\n",
    "X.shape"
   ]
  },
  {
   "cell_type": "code",
   "execution_count": 30,
   "id": "dc5bfd10",
   "metadata": {},
   "outputs": [],
   "source": [
    "# Define the Target\n",
    "if TARGET_AVAIL ==1:\n",
    "    y = df[\"Target_chronic\"]  \n",
    "else:\n",
    "    print(\"no target label\")"
   ]
  },
  {
   "cell_type": "code",
   "execution_count": 31,
   "id": "0775cec4",
   "metadata": {},
   "outputs": [
    {
     "data": {
      "text/plain": [
       "['is_mc_issued',\n",
       " 'mc_days',\n",
       " 'is_referral_letter_issued',\n",
       " 'count_diagnosis',\n",
       " 'count_medication',\n",
       " 'count_repeatmed',\n",
       " 'count_SymID',\n",
       " 'diag_U12',\n",
       " 'diag_J30',\n",
       " 'diag_T88',\n",
       " 'diag_K12',\n",
       " 'diag_R21',\n",
       " 'diag_A09',\n",
       " 'diag_H57',\n",
       " 'diag_Z02',\n",
       " 'diag_J06',\n",
       " 'diag_J04',\n",
       " 'diag_Z76',\n",
       " 'diag_M54',\n",
       " 'diag_R22',\n",
       " 'diag_L50',\n",
       " 'diag_O91',\n",
       " 'diag_R07',\n",
       " 'diag_M79',\n",
       " 'diag_Z71',\n",
       " 'diag_R51',\n",
       " 'diag_N94',\n",
       " 'diag_K29',\n",
       " 'diag_B37',\n",
       " 'diag_R50',\n",
       " 'diag_N39',\n",
       " 'diag_B00',\n",
       " 'diag_L70',\n",
       " 'diag_R14',\n",
       " 'diag_H00',\n",
       " 'diag_K30',\n",
       " 'diag_U07',\n",
       " 'diag_M75',\n",
       " 'diag_R45',\n",
       " 'diag_R05',\n",
       " 'diag_R63',\n",
       " 'diag_L20',\n",
       " 'diag_J39',\n",
       " 'diag_J02',\n",
       " 'diag_L02',\n",
       " 'diag_I10',\n",
       " 'diag_J20',\n",
       " 'diag_H02',\n",
       " 'diag_L03',\n",
       " 'diag_M76',\n",
       " 'diag_M62',\n",
       " 'diag_H10',\n",
       " 'diag_L24',\n",
       " 'diag_R42',\n",
       " 'diag_L30',\n",
       " 'diag_Y42',\n",
       " 'diag_K07',\n",
       " 'diag_E78',\n",
       " 'diag_K64',\n",
       " 'diag_J45',\n",
       " 'diag_S90',\n",
       " 'diag_B08',\n",
       " 'diag_G47',\n",
       " 'diag_T78',\n",
       " 'diag_U08',\n",
       " 'diag_H81',\n",
       " 'diag_G44',\n",
       " 'diag_N92',\n",
       " 'diag_J01',\n",
       " 'diag_E11',\n",
       " 'diag_B35',\n",
       " 'diag_M25',\n",
       " 'diag_F38',\n",
       " 'diag_H01',\n",
       " 'diag_G71',\n",
       " 'diag_R53',\n",
       " 'diag_M23',\n",
       " 'diag_S13',\n",
       " 'diag_S00',\n",
       " 'diag_K59',\n",
       " 'diag_U09',\n",
       " 'diag_H93',\n",
       " 'diag_B36',\n",
       " 'diag_S60',\n",
       " 'diag_E61',\n",
       " 'diag_R52',\n",
       " 'diag_H60',\n",
       " 'diag_M17',\n",
       " 'diag_R06',\n",
       " 'diag_N64',\n",
       " 'diag_R10',\n",
       " 'diag_R11',\n",
       " 'diag_S33',\n",
       " 'diag_J03',\n",
       " 'diag_Z13',\n",
       " 'diag_L29',\n",
       " 'diag_S23',\n",
       " 'diag_S93',\n",
       " 'diag_F41',\n",
       " 'diag_R04',\n",
       " 'diag_E28',\n",
       " 'diag_J22',\n",
       " 'diag_Z53',\n",
       " 'diag_N02',\n",
       " 'diag_S63',\n",
       " 'diag_B30',\n",
       " 'diag_H58',\n",
       " 'diag_M72',\n",
       " 'diag_P39',\n",
       " 'diag_L98',\n",
       " 'diag_S83',\n",
       " 'diag_L85',\n",
       " 'diag_N76',\n",
       " 'diag_L21',\n",
       " 'diag_Y58',\n",
       " 'diag_K13',\n",
       " 'diag_Y60',\n",
       " 'diag_Z30',\n",
       " 'diag_N51',\n",
       " 'diag_K11',\n",
       " 'diag_S81',\n",
       " 'diag_T11',\n",
       " 'diag_N77',\n",
       " 'diag_O92',\n",
       " 'diag_L84',\n",
       " 'diag_L28',\n",
       " 'diag_A68',\n",
       " 'diag_R55',\n",
       " 'diag_L71',\n",
       " 'diag_N85',\n",
       " 'diag_S89',\n",
       " 'diag_T23',\n",
       " 'diag_B02',\n",
       " 'diag_O21',\n",
       " 'diag_W57',\n",
       " 'diag_H04',\n",
       " 'diag_U11',\n",
       " 'diag_T22',\n",
       " 'diag_T00',\n",
       " 'diag_R23',\n",
       " 'diag_G53',\n",
       " 'diag_R60',\n",
       " 'diag_R03',\n",
       " 'diag_K52',\n",
       " 'diag_D50',\n",
       " 'diag_R09',\n",
       " 'diag_R25',\n",
       " 'diag_L64',\n",
       " 'diag_Z10',\n",
       " 'diag_F43',\n",
       " 'diag_L60',\n",
       " 'diag_M06',\n",
       " 'diag_T13',\n",
       " 'diag_I25',\n",
       " 'diag_S50',\n",
       " 'diag_M77',\n",
       " 'diag_S43',\n",
       " 'diag_R00',\n",
       " 'diag_R82',\n",
       " 'diag_G56',\n",
       " 'diag_T75',\n",
       " 'diag_K00',\n",
       " 'diag_J34',\n",
       " 'diag_I80',\n",
       " 'diag_F32',\n",
       " 'diag_S30',\n",
       " 'diag_K05',\n",
       " 'diag_R73',\n",
       " 'diag_K60',\n",
       " 'diag_Z01',\n",
       " 'diag_D25',\n",
       " 'diag_B07',\n",
       " 'diag_L23',\n",
       " 'diag_L04',\n",
       " 'diag_D75',\n",
       " 'diag_L91',\n",
       " 'diag_S80',\n",
       " 'diag_M67',\n",
       " 'diag_J32',\n",
       " 'diag_K06',\n",
       " 'diag_K03',\n",
       " 'diag_S53',\n",
       " 'diag_J98',\n",
       " 'diag_K58',\n",
       " 'diag_K08',\n",
       " 'diag_N84',\n",
       " 'diag_H92',\n",
       " 'diag_H11',\n",
       " 'diag_F90',\n",
       " 'diag_M12',\n",
       " 'diag_F00',\n",
       " 'diag_M50',\n",
       " 'diag_T31',\n",
       " 'diag_R94',\n",
       " 'diag_M51',\n",
       " 'diag_H18',\n",
       " 'diag_G70',\n",
       " 'diag_L73',\n",
       " 'diag_S61',\n",
       " 'diag_J35',\n",
       " 'diag_M22',\n",
       " 'diag_D10',\n",
       " 'diag_S46',\n",
       " 'diag_K14',\n",
       " 'diag_I95',\n",
       " 'diag_H91',\n",
       " 'diag_M65',\n",
       " 'diag_N91',\n",
       " 'diag_K62',\n",
       " 'diag_H15',\n",
       " 'diag_G58',\n",
       " 'diag_H69',\n",
       " 'diag_S96',\n",
       " 'diag_R32',\n",
       " 'diag_I64',\n",
       " 'diag_S66',\n",
       " 'diag_H94',\n",
       " 'diag_M47',\n",
       " 'diag_I88',\n",
       " 'diag_L63',\n",
       " 'diag_F52',\n",
       " 'diag_H40',\n",
       " 'diag_E87',\n",
       " 'diag_J33',\n",
       " 'diag_S70',\n",
       " 'diag_T63',\n",
       " 'diag_R31',\n",
       " 'diag_S05',\n",
       " 'diag_S82',\n",
       " 'diag_T24',\n",
       " 'diag_N30',\n",
       " 'diag_L55',\n",
       " 'diag_N63',\n",
       " 'diag_R20',\n",
       " 'diag_Z92',\n",
       " 'diag_K51',\n",
       " 'diag_H61',\n",
       " 'diag_K10',\n",
       " 'diag_S03',\n",
       " 'diag_G25',\n",
       " 'diag_X51',\n",
       " 'diag_D22',\n",
       " 'diag_N42',\n",
       " 'diag_N32',\n",
       " 'diag_W09',\n",
       " 'diag_W55',\n",
       " 'diag_L74',\n",
       " 'diag_I70',\n",
       " 'diag_K50',\n",
       " 'diag_S92',\n",
       " 'diag_N80',\n",
       " 'diag_L99',\n",
       " 'diag_J38',\n",
       " 'diag_R19',\n",
       " 'diag_Y56',\n",
       " 'diag_D03',\n",
       " 'diag_L42',\n",
       " 'diag_R49',\n",
       " 'diag_H90',\n",
       " 'diag_G51',\n",
       " 'diag_L93',\n",
       " 'diag_H70',\n",
       " 'diag_N87',\n",
       " 'diag_M20',\n",
       " 'diag_I65',\n",
       " 'diag_L65',\n",
       " 'diag_B81',\n",
       " 'diag_O90',\n",
       " 'diag_F06',\n",
       " 'diag_K25',\n",
       " 'diag_X50',\n",
       " 'diag_E66',\n",
       " 'diag_N48',\n",
       " 'diag_S06',\n",
       " 'diag_H74',\n",
       " 'diag_L66',\n",
       " 'diag_H26',\n",
       " 'symp_N',\n",
       " 'symp_headache',\n",
       " 'symp_fever',\n",
       " 'symp_giddiness',\n",
       " 'symp_others',\n",
       " 'symp_medical referral',\n",
       " 'symp_vomiting',\n",
       " 'symp_diarrhoea',\n",
       " 'symp_sore throat',\n",
       " 'symp_flu',\n",
       " 'symp_cough',\n",
       " 'symp_cold',\n",
       " 'symp_cold sores',\n",
       " 'symp_rash',\n",
       " 'symp_discuss lab results',\n",
       " 'symp_skin growth on sole (foot)',\n",
       " 'symp_ulcer under tongue',\n",
       " 'age_yr',\n",
       " 'consult_hr',\n",
       " 'gender_Female',\n",
       " 'gender_Male']"
      ]
     },
     "execution_count": 31,
     "metadata": {},
     "output_type": "execute_result"
    }
   ],
   "source": [
    "# Check input variable names\n",
    "feature_names = X.columns.tolist()\n",
    "feature_names"
   ]
  },
  {
   "cell_type": "code",
   "execution_count": 32,
   "id": "5444665f",
   "metadata": {},
   "outputs": [
    {
     "name": "stdout",
     "output_type": "stream",
     "text": [
      "PLEASE CHECK, there is a mismatch between training data and test data\n",
      "\n",
      " Dropping columns from original columns with  298  columns\n",
      "\n",
      " New dataset has  120  columns\n"
     ]
    }
   ],
   "source": [
    "if len(feature_names) == len(train_all_features):\n",
    "    print(\"ok, training input features and testing input features mapped\")\n",
    "else: \n",
    "    print(\"PLEASE CHECK, there is a mismatch between training data and test data\")\n",
    "    print('\\n Dropping columns from original columns with ', len(X.columns) , ' columns')\n",
    "    # Add code to keep only columns in training set \n",
    "    X = X[train_all_features]\n",
    "    print('\\n New dataset has ', len(X.columns), ' columns')"
   ]
  },
  {
   "cell_type": "code",
   "execution_count": 33,
   "id": "9461cfcd",
   "metadata": {},
   "outputs": [
    {
     "name": "stdout",
     "output_type": "stream",
     "text": [
      "['diag_J04', 'diag_R14', 'diag_R45', 'diag_R63', 'diag_J20', 'diag_M76', 'diag_B08', 'diag_U08', 'diag_F38', 'diag_G71', 'diag_S00', 'diag_U09', 'diag_B36', 'diag_E61', 'diag_M17', 'diag_R06', 'diag_S33', 'diag_Z13', 'diag_S23', 'diag_R04', 'diag_E28', 'diag_Z53', 'diag_N02', 'diag_B30', 'diag_H58', 'diag_S83', 'diag_L85', 'diag_L21', 'diag_Y58', 'diag_Y60', 'diag_N51', 'diag_K11', 'diag_S81', 'diag_T11', 'diag_N77', 'diag_O92', 'diag_L84', 'diag_L28', 'diag_A68', 'diag_R55', 'diag_L71', 'diag_N85', 'diag_S89', 'diag_T23', 'diag_H04', 'diag_U11', 'diag_T22', 'diag_T00', 'diag_R23', 'diag_G53', 'diag_R60', 'diag_R03', 'diag_D50', 'diag_R09', 'diag_R25', 'diag_Z10', 'diag_F43', 'diag_M06', 'diag_T13', 'diag_I25', 'diag_S50', 'diag_M77', 'diag_S43', 'diag_R00', 'diag_R82', 'diag_G56', 'diag_T75', 'diag_K00', 'diag_J34', 'diag_I80', 'diag_F32', 'diag_S30', 'diag_R73', 'diag_K60', 'diag_Z01', 'diag_D25', 'diag_B07', 'diag_L04', 'diag_D75', 'diag_L91', 'diag_M67', 'diag_K06', 'diag_K03', 'diag_S53', 'diag_J98', 'diag_K08', 'diag_N84', 'diag_H92', 'diag_H11', 'diag_F90', 'diag_M12', 'diag_F00', 'diag_M50', 'diag_T31', 'diag_R94', 'diag_M51', 'diag_H18', 'diag_G70', 'diag_S61', 'diag_J35', 'diag_M22', 'diag_D10', 'diag_S46', 'diag_K14', 'diag_I95', 'diag_H91', 'diag_N91', 'diag_K62', 'diag_H15', 'diag_G58', 'diag_H69', 'diag_S96', 'diag_R32', 'diag_I64', 'diag_S66', 'diag_H94', 'diag_M47', 'diag_I88', 'diag_L63', 'diag_F52', 'diag_H40', 'diag_E87', 'diag_J33', 'diag_S70', 'diag_T63', 'diag_R31', 'diag_S05', 'diag_S82', 'diag_T24', 'diag_N30', 'diag_L55', 'diag_N63', 'diag_R20', 'diag_Z92', 'diag_K51', 'diag_H61', 'diag_K10', 'diag_S03', 'diag_G25', 'diag_X51', 'diag_D22', 'diag_N42', 'diag_N32', 'diag_W09', 'diag_W55', 'diag_L74', 'diag_I70', 'diag_K50', 'diag_S92', 'diag_N80', 'diag_L99', 'diag_J38', 'diag_R19', 'diag_Y56', 'diag_D03', 'diag_L42', 'diag_R49', 'diag_H90', 'diag_G51', 'diag_L93', 'diag_H70', 'diag_N87', 'diag_M20', 'diag_I65', 'diag_L65', 'diag_B81', 'diag_O90', 'diag_F06', 'diag_K25', 'diag_X50', 'diag_E66', 'diag_N48', 'diag_S06', 'diag_H74', 'diag_L66', 'diag_H26', 'symp_skin growth on sole (foot)', 'symp_ulcer under tongue']\n"
     ]
    }
   ],
   "source": [
    "# See features in test data but not in training data \n",
    "excluded_test_feature_list=[]\n",
    "for f in feature_names:\n",
    "  if f not in train_all_features:\n",
    "    excluded_test_feature_list.append(f)\n",
    "\n",
    "print(excluded_test_feature_list)"
   ]
  },
  {
   "cell_type": "markdown",
   "id": "42154cdb",
   "metadata": {},
   "source": [
    "## Standardized Data"
   ]
  },
  {
   "cell_type": "code",
   "execution_count": 34,
   "id": "2ed70fe5",
   "metadata": {},
   "outputs": [
    {
     "name": "stdout",
     "output_type": "stream",
     "text": [
      "Transform the testing dataset (no fitting)\n"
     ]
    }
   ],
   "source": [
    "# Transform the testing dataset\n",
    "print(\"Transform the testing dataset (no fitting)\")\n",
    "X = train_standardscaler.transform (X)"
   ]
  },
  {
   "cell_type": "markdown",
   "id": "fe6e4b82",
   "metadata": {},
   "source": [
    "## Model Selected Features"
   ]
  },
  {
   "cell_type": "code",
   "execution_count": 35,
   "id": "23a1c9ad",
   "metadata": {},
   "outputs": [],
   "source": [
    "X_selected = train_selectfeature.transform(X)"
   ]
  },
  {
   "cell_type": "code",
   "execution_count": 36,
   "id": "dc305cd4",
   "metadata": {},
   "outputs": [],
   "source": [
    "feature_idx= train_selectfeature.get_support()\n",
    "final_selectList = list(compress(feature_names, feature_idx))"
   ]
  },
  {
   "cell_type": "code",
   "execution_count": 37,
   "id": "f2797146",
   "metadata": {},
   "outputs": [
    {
     "name": "stdout",
     "output_type": "stream",
     "text": [
      "Number of BEST features from SELECTMODEL:  46\n",
      "\n",
      "\n",
      "List of selected BEST features from SELECTMODEL: \n",
      " ['is_mc_issued', 'mc_days', 'count_diagnosis', 'count_medication', 'diag_U12', 'diag_T88', 'diag_K12', 'diag_R21', 'diag_A09', 'diag_H57', 'diag_Z02', 'diag_J06', 'diag_J04', 'diag_Z76', 'diag_M54', 'diag_R22', 'diag_L50', 'diag_O91', 'diag_R07', 'diag_M79', 'diag_Z71', 'diag_R51', 'diag_N94', 'diag_K29', 'diag_B37', 'diag_B00', 'diag_L70', 'diag_R14', 'diag_K30', 'diag_U07', 'diag_R45', 'diag_R63', 'diag_L20', 'diag_L03', 'diag_M76', 'diag_M62', 'diag_H10', 'diag_E78', 'diag_U08', 'diag_J01', 'diag_M25', 'diag_M23', 'diag_K59', 'diag_Z13', 'diag_J22', 'diag_N76']\n"
     ]
    }
   ],
   "source": [
    "print(\"Number of BEST features from SELECTMODEL: \", len(final_selectList))\n",
    "print(\"\\n\\nList of selected BEST features from SELECTMODEL: \\n\", final_selectList)"
   ]
  },
  {
   "cell_type": "markdown",
   "id": "bf4c8439",
   "metadata": {},
   "source": [
    "## Model ROC & AUC"
   ]
  },
  {
   "cell_type": "code",
   "execution_count": 38,
   "id": "1c2f57a3",
   "metadata": {},
   "outputs": [],
   "source": [
    "# # comment cell when running SVM (linear & non-linear) model\n",
    "\n",
    "# model_probs = train_model.predict_proba(X_selected)[:,1]\n",
    "    \n",
    "# if TARGET_AVAIL == 1:\n",
    "#     model_auc = roc_auc_score(y, model_probs, average=None)\n",
    "# else:\n",
    "#     print(\"No Target label, thus, auc not computed\")"
   ]
  },
  {
   "cell_type": "code",
   "execution_count": 39,
   "id": "c426eae4",
   "metadata": {},
   "outputs": [],
   "source": [
    "# # comment cell when running SVM (linear & non-linear) model\n",
    "\n",
    "# if TARGET_AVAIL == 1:\n",
    "#     print(\"Model: \", type(train_model).__name__)\n",
    "#     print(\"Model AUC: \", round(model_auc,3))\n",
    "#     %matplotlib inline\n",
    "#     plt.figure(figsize=(10,8))\n",
    "#     ax = plt.gca()\n",
    "#     model_disp = RocCurveDisplay.from_estimator(train_model, X_selected, y, ax=ax, alpha=0.8)\n",
    "#     plt.title(\"ROC Evaluation of Model, using Holdout Test Data\")\n",
    "#     plt.show()\n",
    "# else:\n",
    "#     print(\"No Target label, thus, roc not plotted\")"
   ]
  },
  {
   "cell_type": "markdown",
   "id": "d075c39f",
   "metadata": {},
   "source": [
    "## Model Classification Report"
   ]
  },
  {
   "cell_type": "code",
   "execution_count": 40,
   "id": "b9abfacc",
   "metadata": {},
   "outputs": [],
   "source": [
    "#Define Target Names\n",
    "target_names = ['Non-Chronic', 'Chronic']   "
   ]
  },
  {
   "cell_type": "code",
   "execution_count": 41,
   "id": "ea5e6136",
   "metadata": {},
   "outputs": [
    {
     "name": "stdout",
     "output_type": "stream",
     "text": [
      "The model loaded:  NuSVC\n",
      "\n",
      "The following are the trained model parameters: \n"
     ]
    },
    {
     "data": {
      "text/plain": [
       "{'break_ties': False,\n",
       " 'cache_size': 200,\n",
       " 'class_weight': None,\n",
       " 'coef0': 0.0,\n",
       " 'decision_function_shape': 'ovr',\n",
       " 'degree': 3,\n",
       " 'gamma': 'scale',\n",
       " 'kernel': 'rbf',\n",
       " 'max_iter': -1,\n",
       " 'nu': 0.05,\n",
       " 'probability': False,\n",
       " 'random_state': 42,\n",
       " 'shrinking': True,\n",
       " 'tol': 0.001,\n",
       " 'verbose': False}"
      ]
     },
     "execution_count": 41,
     "metadata": {},
     "output_type": "execute_result"
    }
   ],
   "source": [
    "param = train_model.get_params()\n",
    "print(\"The model loaded: \", type(train_model).__name__)\n",
    "print(\"\\nThe following are the trained model parameters: \")\n",
    "param"
   ]
  },
  {
   "cell_type": "code",
   "execution_count": 42,
   "id": "44c42f52",
   "metadata": {},
   "outputs": [],
   "source": [
    "# get prediction\n",
    "prediction = train_model.predict(X_selected)"
   ]
  },
  {
   "cell_type": "code",
   "execution_count": 43,
   "id": "695acba6",
   "metadata": {},
   "outputs": [],
   "source": [
    "# Generate Confusion Matrix\n",
    "if TARGET_AVAIL == 1:\n",
    "    conf_matrix = metrics.confusion_matrix(y, prediction)\n",
    "else:\n",
    "    print(\"Target not available, thus confucion matrix not generated.\")"
   ]
  },
  {
   "cell_type": "code",
   "execution_count": 44,
   "id": "384549e1",
   "metadata": {},
   "outputs": [
    {
     "name": "stdout",
     "output_type": "stream",
     "text": [
      "For Holdout Test Data:\n",
      "Target:  ['Non-Chronic', 'Chronic']\n",
      "Model:  NuSVC\n",
      "\n",
      "Confusion Matrix: \n",
      " [[6780  716]\n",
      " [ 108  121]] \n",
      "\n"
     ]
    },
    {
     "data": {
      "image/png": "[encoded data removed]",
      "text/plain": [
       "<Figure size 720x576 with 2 Axes>"
      ]
     },
     "metadata": {
      "needs_background": "light"
     },
     "output_type": "display_data"
    },
    {
     "name": "stdout",
     "output_type": "stream",
     "text": [
      "              precision    recall  f1-score   support\n",
      "\n",
      " Non-Chronic     0.9843    0.9045    0.9427      7496\n",
      "     Chronic     0.1446    0.5284    0.2270       229\n",
      "\n",
      "    accuracy                         0.8933      7725\n",
      "   macro avg     0.5644    0.7164    0.5849      7725\n",
      "weighted avg     0.9594    0.8933    0.9215      7725\n",
      " \n",
      "\n"
     ]
    }
   ],
   "source": [
    "# Generate Classification Report\n",
    "if TARGET_AVAIL == 1:\n",
    "    print(\"For Holdout Test Data:\")\n",
    "    print(\"Target: \", target_names)\n",
    "    print(\"Model: \", type(train_model).__name__)\n",
    "    print(\"\\nConfusion Matrix: \\n\", conf_matrix, \"\\n\")\n",
    "    %matplotlib inline\n",
    "    plt.figure(figsize=(10,8))\n",
    "    sns.heatmap(conf_matrix, annot=True, fmt='d', vmin=0, vmax=y.shape[0]/len(y.unique()), cmap=\"Blues\")\n",
    "    plt.title(\"Training Data Confusion Matrix Heatmap\")\n",
    "    plt.xlabel('Predicted Labels')\n",
    "    plt.ylabel('Actual Labels')\n",
    "    plt.show()\n",
    "    print(metrics.classification_report(y, prediction,  digits=4, target_names=target_names), \"\\n\" )\n",
    "else:\n",
    "    print(\"Target not available, thus classification report not generated.\")"
   ]
  },
  {
   "cell_type": "markdown",
   "id": "fcad488e",
   "metadata": {},
   "source": [
    "## Generate Score List"
   ]
  },
  {
   "cell_type": "code",
   "execution_count": 45,
   "id": "9a0eb2f9",
   "metadata": {},
   "outputs": [],
   "source": [
    "predict_series = pd.Series(prediction)"
   ]
  },
  {
   "cell_type": "code",
   "execution_count": 46,
   "id": "e1d8dee4",
   "metadata": {},
   "outputs": [],
   "source": [
    "if TARGET_AVAIL == 1:\n",
    "    df_scorelist = pd.DataFrame(columns = [\"mem_id\", \"true_target\", \"prediction\"])\n",
    "    df_scorelist[\"mem_id\"] = df[\"mem_id\"]\n",
    "    df_scorelist[\"true_target\"] = y\n",
    "    df_scorelist[\"prediction\"] = predict_series\n",
    "else:\n",
    "    df_scorelist = pd.DataFrame(columns = [\"mem_id\", \"prediction\"])\n",
    "    df_scorelist[\"member_id\"] = member_id\n",
    "    df_scorelist[\"prediction\"] = predict_series"
   ]
  },
  {
   "cell_type": "code",
   "execution_count": 47,
   "id": "14f75278",
   "metadata": {},
   "outputs": [
    {
     "name": "stdout",
     "output_type": "stream",
     "text": [
      "                                 mem_id true_target  prediction\n",
      "0  B3FDAFB4-2BCE-420E-98EF-04E57BEAEDC4           0           0\n",
      "1  E6A4EC49-02D2-45A2-9F84-053D636A9675           0           0\n",
      "2  4347A549-532F-4A2B-AD31-0670BB1CA8F3           0           0\n",
      "3  1C5E3562-9894-41D3-B5C2-077E7D17FE8C           0           0\n",
      "4  8217E3B4-97B8-4605-B339-08F1E96DF3C8           0           0\n"
     ]
    }
   ],
   "source": [
    "print(df_scorelist.head())"
   ]
  },
  {
   "cell_type": "code",
   "execution_count": 48,
   "id": "d1467800",
   "metadata": {},
   "outputs": [
    {
     "name": "stdout",
     "output_type": "stream",
     "text": [
      "<class 'pandas.core.frame.DataFrame'>\n",
      "Int64Index: 7725 entries, 0 to 7724\n",
      "Data columns (total 3 columns):\n",
      " #   Column       Non-Null Count  Dtype   \n",
      "---  ------       --------------  -----   \n",
      " 0   mem_id       7725 non-null   object  \n",
      " 1   true_target  7725 non-null   category\n",
      " 2   prediction   7725 non-null   int64   \n",
      "dtypes: category(1), int64(1), object(1)\n",
      "memory usage: 446.8+ KB\n"
     ]
    }
   ],
   "source": [
    "df_scorelist.info()"
   ]
  },
  {
   "cell_type": "code",
   "execution_count": 50,
   "id": "b3eb3f9b",
   "metadata": {},
   "outputs": [
    {
     "name": "stdout",
     "output_type": "stream",
     "text": [
      "scorelist_grp3_NuSVC.csv\n"
     ]
    }
   ],
   "source": [
    "if type(train_model).__name__==\"SVC\":\n",
    "    FILE_NAME = \"scorelist_grp3_\" + str(type(train_model).__name__) + str(param[\"kernel\"]) + \".csv\"\n",
    "else:\n",
    "    FILE_NAME = \"scorelist_grp3_\" + str(type(train_model).__name__) + \".csv\"\n",
    "print(FILE_NAME)\n",
    "df_scorelist.to_csv(FILE_NAME, index=False)"
   ]
  },
  {
   "cell_type": "markdown",
   "id": "47af4f61",
   "metadata": {},
   "source": [
    "@end"
   ]
  }
 ],
 "metadata": {
  "kernelspec": {
   "display_name": "Python 3 (ipykernel)",
   "language": "python",
   "name": "python3"
  },
  "language_info": {
   "codemirror_mode": {
    "name": "ipython",
    "version": 3
   },
   "file_extension": ".py",
   "mimetype": "text/x-python",
   "name": "python",
   "nbconvert_exporter": "python",
   "pygments_lexer": "ipython3",
   "version": "3.8.10"
  }
 },
 "nbformat": 4,
 "nbformat_minor": 5
}
